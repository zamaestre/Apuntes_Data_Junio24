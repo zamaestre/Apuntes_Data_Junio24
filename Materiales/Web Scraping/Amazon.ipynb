{
 "cells": [
  {
   "cell_type": "code",
   "execution_count": 1,
   "metadata": {},
   "outputs": [],
   "source": [
    "import requests as req\n",
    "from bs4 import BeautifulSoup as bs # este alias es estandar\n",
    "import pandas as pd"
   ]
  },
  {
   "cell_type": "code",
   "execution_count": 2,
   "metadata": {},
   "outputs": [],
   "source": [
    "url = 'https://www.amazon.es/'\n",
    "html = req.get(url).content"
   ]
  },
  {
   "cell_type": "code",
   "execution_count": 3,
   "metadata": {},
   "outputs": [],
   "source": [
    "soup = bs(html, 'html.parser')\n"
   ]
  },
  {
   "cell_type": "code",
   "execution_count": 4,
   "metadata": {},
   "outputs": [
    {
     "name": "stdout",
     "output_type": "stream",
     "text": [
      "<bound method Tag.prettify of <!DOCTYPE html>\n",
      "\n",
      "<!--[if lt IE 7]> <html lang=\"es\" class=\"a-no-js a-lt-ie9 a-lt-ie8 a-lt-ie7\"> <![endif]-->\n",
      "<!--[if IE 7]>    <html lang=\"es\" class=\"a-no-js a-lt-ie9 a-lt-ie8\"> <![endif]-->\n",
      "<!--[if IE 8]>    <html lang=\"es\" class=\"a-no-js a-lt-ie9\"> <![endif]-->\n",
      "<!--[if gt IE 8]><!-->\n",
      "<html class=\"a-no-js\" lang=\"es\"><!--<![endif]--><head>\n",
      "<meta content=\"text/html; charset=utf-8\" http-equiv=\"content-type\"/>\n",
      "<meta charset=\"utf-8\"/>\n",
      "<meta content=\"IE=edge,chrome=1\" http-equiv=\"X-UA-Compatible\"/>\n",
      "<title dir=\"ltr\">Amazon.es</title>\n",
      "<meta content=\"width=device-width\" name=\"viewport\"/>\n",
      "<link href=\"https://images-na.ssl-images-amazon.com/images/G/01/AUIClients/AmazonUI-3c913031596ca78a3768f4e934b1cc02ce238101.secure.min._V1_.css\" rel=\"stylesheet\"/>\n",
      "<script>\n",
      "\n",
      "if (true === true) {\n",
      "    var ue_t0 = (+ new Date()),\n",
      "        ue_csm = window,\n",
      "        ue = { t0: ue_t0, d: function() { return (+new Date() - ue_t0); } },\n",
      "        ue_furl = \"fls-eu.amazon.es\",\n",
      "        ue_mid = \"A1RKKUPIHCS9HS\",\n",
      "        ue_sid = (document.cookie.match(/session-id=([0-9-]+)/) || [])[1],\n",
      "        ue_sn = \"opfcaptcha.amazon.es\",\n",
      "        ue_id = '7BQBG08JETBPEEQ3EVM7';\n",
      "}\n",
      "</script>\n",
      "</head>\n",
      "<body>\n",
      "<!--\n",
      "        To discuss automated access to Amazon data please contact api-services-support@amazon.com.\n",
      "        For information about migrating to our APIs refer to our Marketplace APIs at https://developer.amazonservices.es/ref=rm_c_sv, or our Product Advertising API at https://afiliados.amazon.es/gp/advertising/api/detail/main.html/ref=rm_c_ac for advertising use cases.\n",
      "-->\n",
      "<!--\n",
      "Correios.DoNotSend\n",
      "-->\n",
      "<div class=\"a-container a-padding-double-large\" style=\"min-width:350px;padding:44px 0 !important\">\n",
      "<div class=\"a-row a-spacing-double-large\" style=\"width: 350px; margin: 0 auto\">\n",
      "<div class=\"a-row a-spacing-medium a-text-center\"><i class=\"a-icon a-logo\"></i></div>\n",
      "<div class=\"a-box a-alert a-alert-info a-spacing-base\">\n",
      "<div class=\"a-box-inner\">\n",
      "<i class=\"a-icon a-icon-alert\"></i>\n",
      "<h4>Introduce los caracteres que se muestran a continuación</h4>\n",
      "<p class=\"a-last\">Lo sentimos, tenemos que asegurarnos de que eres una persona. Para obtener el mejor resultado, asegúrate de que tu navegador acepta cookies.</p>\n",
      "</div>\n",
      "</div>\n",
      "<div class=\"a-section\">\n",
      "<div class=\"a-box a-color-offset-background\">\n",
      "<div class=\"a-box-inner a-padding-extra-large\">\n",
      "<form action=\"/errors/validateCaptcha\" method=\"get\" name=\"\">\n",
      "<input name=\"amzn\" type=\"hidden\" value=\"UVlhIe1a2oh4aZ7y3lQcvg==\"/><input name=\"amzn-r\" type=\"hidden\" value=\"/\"/>\n",
      "<div class=\"a-row a-spacing-large\">\n",
      "<div class=\"a-box\">\n",
      "<div class=\"a-box-inner\">\n",
      "<h4>Teclea los caracteres que aparecen en la imagen:</h4>\n",
      "<!-- For automated access to price change or offer listing change events,\n",
      "                                             please refer to the MWS Subscription API:\n",
      "                                             https://developer.amazonservices.es/gp/mws/api.html/276-5247872-0590350?ie=UTF8&section=subscriptions&group=subscriptions&version=latest\n",
      "                                        -->\n",
      "<div class=\"a-row a-text-center\">\n",
      "<img src=\"https://images-na.ssl-images-amazon.com/captcha/druexhzz/Captcha_bxrwrigxeg.jpg\"/>\n",
      "</div>\n",
      "<div class=\"a-row a-spacing-base\">\n",
      "<div class=\"a-row\">\n",
      "<div class=\"a-column a-span6\">\n",
      "</div>\n",
      "<div class=\"a-column a-span6 a-span-last a-text-right\">\n",
      "<a onclick=\"window.location.reload()\">Probar con una imagen distinta</a>\n",
      "</div>\n",
      "</div>\n",
      "<input autocapitalize=\"off\" autocomplete=\"off\" autocorrect=\"off\" class=\"a-span12\" id=\"captchacharacters\" name=\"field-keywords\" placeholder=\"Introduce los caracteres\" spellcheck=\"false\" type=\"text\"/>\n",
      "</div>\n",
      "</div>\n",
      "</div>\n",
      "</div>\n",
      "<div class=\"a-section a-spacing-extra-large\">\n",
      "<div class=\"a-row\">\n",
      "<span class=\"a-button a-button-primary a-span12\">\n",
      "<span class=\"a-button-inner\">\n",
      "<button class=\"a-button-text\" type=\"submit\">Seguir comprando</button>\n",
      "</span>\n",
      "</span>\n",
      "</div>\n",
      "</div>\n",
      "</form>\n",
      "</div>\n",
      "</div>\n",
      "</div>\n",
      "</div>\n",
      "<div class=\"a-divider a-divider-section\"><div class=\"a-divider-inner\"></div></div>\n",
      "<div class=\"a-text-center a-spacing-small a-size-mini\">\n",
      "<a href=\"https://www.amazon.es/gp/help/customer/display.html/ref=footer_cou?ie=UTF8&amp;nodeId=200545940\">Condiciones de Uso y Venta</a>\n",
      "<span class=\"a-letter-space\"></span>\n",
      "<span class=\"a-letter-space\"></span>\n",
      "<span class=\"a-letter-space\"></span>\n",
      "<span class=\"a-letter-space\"></span>\n",
      "<a href=\"https://www.amazon.es/gp/help/customer/display.html/ref=footer_privacy?ie=UTF8&amp;nodeId=200545460\">Aviso de privacidad</a>\n",
      "</div>\n",
      "<div class=\"a-text-center a-size-mini a-color-secondary\">\n",
      "          © 1996-2015, Amazon.com, Inc. o afiliados\n",
      "          <script>\n",
      "           if (true === true) {\n",
      "             document.write('<img src=\"https://fls-eu.amaz'+'on.es/'+'1/oc-csi/1/OP/requestId=7BQBG08JETBPEEQ3EVM7&js=1\" />');\n",
      "           };\n",
      "          </script>\n",
      "<noscript>\n",
      "<img src=\"https://fls-eu.amazon.es/1/oc-csi/1/OP/requestId=7BQBG08JETBPEEQ3EVM7&amp;js=0\">\n",
      "</img></noscript>\n",
      "</div>\n",
      "</div>\n",
      "<script>\n",
      "    if (true === true) {\n",
      "        var head = document.getElementsByTagName('head')[0],\n",
      "            prefix = \"https://images-eu.ssl-images-amazon.com/images/G/01/csminstrumentation/\",\n",
      "            elem = document.createElement(\"script\");\n",
      "        elem.src = prefix + \"csm-captcha-instrumentation.min.js\";\n",
      "        head.appendChild(elem);\n",
      "\n",
      "        elem = document.createElement(\"script\");\n",
      "        elem.src = prefix + \"rd-script-6d68177fa6061598e9509dc4b5bdd08d.js\";\n",
      "        head.appendChild(elem);\n",
      "    }\n",
      "    </script>\n",
      "</body></html>\n",
      ">\n"
     ]
    }
   ],
   "source": [
    "print(soup.prettify)"
   ]
  },
  {
   "cell_type": "code",
   "execution_count": 22,
   "metadata": {},
   "outputs": [
    {
     "data": {
      "text/plain": [
       "[]"
      ]
     },
     "execution_count": 22,
     "metadata": {},
     "output_type": "execute_result"
    }
   ],
   "source": [
    "productos = soup.find_all('span', class_='a-size-base-plus a-color-base a-text-normal')\n",
    "#lista_productos = []\n",
    "#for productos in lista_productos:\n",
    " #   lista_productos.append(productos)\n",
    "    #print(lista_productos)\n",
    "productos"
   ]
  },
  {
   "cell_type": "code",
   "execution_count": 20,
   "metadata": {},
   "outputs": [
    {
     "ename": "AttributeError",
     "evalue": "'NoneType' object has no attribute 'text'",
     "output_type": "error",
     "traceback": [
      "\u001b[1;31m---------------------------------------------------------------------------\u001b[0m",
      "\u001b[1;31mAttributeError\u001b[0m                            Traceback (most recent call last)",
      "Cell \u001b[1;32mIn[20], line 1\u001b[0m\n\u001b[1;32m----> 1\u001b[0m \u001b[43mlista_productos\u001b[49m\u001b[38;5;241;43m.\u001b[39;49m\u001b[43mtext\u001b[49m\n",
      "\u001b[1;31mAttributeError\u001b[0m: 'NoneType' object has no attribute 'text'"
     ]
    }
   ],
   "source": [
    "lista_productos.text"
   ]
  }
 ],
 "metadata": {
  "kernelspec": {
   "display_name": "Python 3",
   "language": "python",
   "name": "python3"
  },
  "language_info": {
   "codemirror_mode": {
    "name": "ipython",
    "version": 3
   },
   "file_extension": ".py",
   "mimetype": "text/x-python",
   "name": "python",
   "nbconvert_exporter": "python",
   "pygments_lexer": "ipython3",
   "version": "3.12.6"
  }
 },
 "nbformat": 4,
 "nbformat_minor": 2
}
