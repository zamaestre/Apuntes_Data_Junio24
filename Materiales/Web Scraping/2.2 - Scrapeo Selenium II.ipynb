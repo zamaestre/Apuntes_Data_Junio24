{
  "nbformat": 4,
  "nbformat_minor": 0,
  "metadata": {
    "colab": {
      "provenance": []
    },
    "kernelspec": {
      "name": "python3",
      "display_name": "Python 3"
    },
    "language_info": {
      "name": "python"
    }
  },
  "cells": [
    {
      "cell_type": "markdown",
      "source": [
        "## REDDIT\n",
        "\n",
        "\n",
        "Vamos a extraer los datos de los post que contienen la palabra 'Python'\n",
        "\n",
        "https://www.reddit.com/search/?q=python"
      ],
      "metadata": {
        "id": "l-_ozS3jmuea"
      }
    },
    {
      "cell_type": "code",
      "execution_count": null,
      "metadata": {
        "id": "b45yasYhmXk_"
      },
      "outputs": [],
      "source": [
        "from selenium import webdriver\n",
        "from webdriver_manager.chrome import ChromeDriverManager # sustituye al archivo\n",
        "from selenium.webdriver.chrome.options import Options # opciones de chrome\n",
        "from selenium.webdriver.common.by import By # By es para buscar por tag, clase, id...\n",
        "#Opciones de chrome\n",
        "opciones = webdriver.ChromeOptions()\n",
        "#opciones.add_argument('--start-maximized')\n",
        "opciones.add_argument('window-size=775,1400')\n",
        "opciones.add_argument('--disable-extensions')\n",
        "opciones.add_argument('--disable-blink-features=AutomationControlled')\n",
        "opciones.add_argument('--no-sandbox')\n",
        "opciones.add_experimental_option('useAutomationExtension', False)\n",
        "opciones.add_experimental_option('excludeSwitches', ['enable-automation'])\n",
        "\n",
        "# guardar las cookies\n",
        "# opciones.add_argument('user-data-dir=cookies')    # mantiene las cookies\n",
        "opciones.add_argument('--incognito') # modo incognito"
      ]
    },
    {
      "cell_type": "code",
      "source": [
        "url = 'https://www.reddit.com/search/?q=python'\n",
        "driver = webdriver.Chrome(options = opciones)   # abre una ventana de chrome\n",
        "\n",
        "driver.get(url)"
      ],
      "metadata": {
        "id": "s6TR3-XRm0Gz"
      },
      "execution_count": null,
      "outputs": []
    },
    {
      "cell_type": "code",
      "source": [
        "driver.quit()"
      ],
      "metadata": {
        "id": "yXfUH4C6m5RQ"
      },
      "execution_count": null,
      "outputs": []
    },
    {
      "cell_type": "markdown",
      "source": [
        "Porque está petando el código? y no encuentra el elemento?\n",
        "\n",
        "**PRESENCIA DE SHADOWS**\n",
        "\n",
        "Los **shadow** son sombras que ocultan parte del código para que no pueda ser encontrado y poner trabas. Así nuestro driver no puede identificar la ubicación del botón de las cookies y no puede realizar la acción de manera automática sin que tengamos que hacer algunos pasos extra."
      ],
      "metadata": {
        "id": "IgHWdiG-m8v8"
      }
    },
    {
      "cell_type": "code",
      "source": [
        "#Vamos a cerra las cookies como siempre...\n",
        "#No las podemos localizar porque estan dentro de un shadow_root\n",
        "#Padre de nuestro shadow_root\n",
        "driver.find_element(By.TAG_NAME,'reddit-cookie-banner')"
      ],
      "metadata": {
        "id": "-rxUfNQLm50_"
      },
      "execution_count": null,
      "outputs": []
    },
    {
      "cell_type": "code",
      "source": [
        "#Buscamos el shadow que envuelve nuestro elemento\n",
        "shadow = driver.find_element(By.TAG_NAME,'reddit-cookie-banner').shadow_root"
      ],
      "metadata": {
        "id": "eJvm4wI8nQtz"
      },
      "execution_count": null,
      "outputs": []
    },
    {
      "cell_type": "code",
      "source": [
        "#Ahora tenemos que usar el shadow como si fuere el driver\n",
        "shadow.find_element(By.ID, 'reject-nonessential-cookies-button').click()\n",
        "#Para ubicar dentro dentro de Shadows podemos usar CSS_SELECTOR o ID, otro romperán\n",
        "\n",
        "#shadow.find_element(By.CSS_SELECTOR,'#reject-nonessential-cookies-button').text"
      ],
      "metadata": {
        "id": "S8vBH4X8nTvh"
      },
      "execution_count": null,
      "outputs": []
    },
    {
      "cell_type": "markdown",
      "source": [
        "Misión cumplida. Ahora vamos a hacer un scroll y nos vamos a guardar todos los enlaces a los que tengamos acceso y vamos a acceder a uno de ellos en una pestaña nueva."
      ],
      "metadata": {
        "id": "5bK5RAU2ndNG"
      }
    },
    {
      "cell_type": "code",
      "source": [
        "#Bajamos hasta el final de la página\n",
        "driver.execute_script(\"window.scrollTo(0, document.body.scrollHeight);\") # todo el scroll"
      ],
      "metadata": {
        "id": "vxvTmGG6nZLs"
      },
      "execution_count": null,
      "outputs": []
    },
    {
      "cell_type": "code",
      "source": [
        "#Vamos a abrir el primer enlace en una ventana nueva\n",
        "#Buscamos un a con el tributo data-testid = 'post-title'\n",
        "enlaces = driver.find_elements(By.CSS_SELECTOR,'a[data-testid=\"post-title\"]')\n",
        "enlaces.__len__()"
      ],
      "metadata": {
        "id": "t8I4tkvYnrBY"
      },
      "execution_count": null,
      "outputs": []
    },
    {
      "cell_type": "code",
      "source": [
        "#Para el primer enlace sacamos el href\n",
        "enlace_vid_16 = enlaces[15].get_attribute('href')"
      ],
      "metadata": {
        "id": "7aYH3Tu2nr8Q"
      },
      "execution_count": null,
      "outputs": []
    },
    {
      "cell_type": "code",
      "source": [
        "#Vamos a decirle a driver que abra esa url en una nueva pestaña\n",
        "driver.execute_script(f\"window.open('{enlace_vid_16}')\")"
      ],
      "metadata": {
        "id": "8H4kwzFonvmq"
      },
      "execution_count": null,
      "outputs": []
    },
    {
      "cell_type": "markdown",
      "source": [
        "Esto abrirá el enlace en una nueva pestaña. Cuidado porque únicamente hace eso, abrir la nueva pestaña. Para poder realizar acciones sobre esa nueva pestaña tenemos que comprobar las ventanas que tenemos abiertas. El código de la pestaña nos da igual, lo que nos interesa es la posición."
      ],
      "metadata": {
        "id": "43rYAiM9n1JH"
      }
    },
    {
      "cell_type": "code",
      "source": [
        "#Cambiamos a la nueva ventana\n",
        "#vamos a ver cuantas handles tiene\n",
        "driver.window_handles"
      ],
      "metadata": {
        "id": "4P9QCob_nyI2"
      },
      "execution_count": null,
      "outputs": []
    },
    {
      "cell_type": "code",
      "source": [
        "#Cambiamos a la nueva ventana\n",
        "driver.switch_to.window(driver.window_handles[1])"
      ],
      "metadata": {
        "id": "P3eCDa8Un3TY"
      },
      "execution_count": null,
      "outputs": []
    },
    {
      "cell_type": "code",
      "source": [
        "#Cerramos la ventana\n",
        "driver.close()"
      ],
      "metadata": {
        "id": "fLtF1O2pn7P8"
      },
      "execution_count": null,
      "outputs": []
    },
    {
      "cell_type": "markdown",
      "source": [
        "Aunque hayamos cerrado la pestaña que teníamos abierta eso no quiere decir que se puedda interaccionar sobre ella. Hay que seleccionar realmente esa pestaña para poder realizar cualquier acción sobre ella."
      ],
      "metadata": {
        "id": "lAud4x0wn_U1"
      }
    },
    {
      "cell_type": "code",
      "source": [
        "#Cambiamos a la ventana principal\n",
        "driver.switch_to.window(driver.window_handles[0])"
      ],
      "metadata": {
        "id": "hs8LHzIMn88g"
      },
      "execution_count": null,
      "outputs": []
    },
    {
      "cell_type": "code",
      "source": [
        "driver.quit()"
      ],
      "metadata": {
        "id": "EuDNFpAdoCRE"
      },
      "execution_count": null,
      "outputs": []
    },
    {
      "cell_type": "markdown",
      "source": [
        "## Ejercicio\n",
        "- acceder a REDDIT\n",
        "- quitar las cookies\n",
        "- darle al boton de comunidades\n",
        "- abrir la primera entrada en una ventana nueva"
      ],
      "metadata": {
        "id": "NXcI-ID9RSmY"
      }
    },
    {
      "cell_type": "code",
      "source": [
        "# import librerias\n",
        "from selenium import webdriver\n",
        "from webdriver_manager.chrome import ChromeDriverManager # sustituye al archivo\n",
        "from selenium.webdriver.chrome.options import Options # opciones de chrome\n",
        "from selenium.webdriver.common.by import By # By es para buscar por tag, clase, id..."
      ],
      "metadata": {
        "id": "hlKIzo_4RmH7"
      },
      "execution_count": null,
      "outputs": []
    },
    {
      "cell_type": "code",
      "source": [
        "#Opciones de chrome\n",
        "opciones = webdriver.ChromeOptions()\n",
        "#opciones.add_argument('--start-maximized')\n",
        "opciones.add_argument('window-size=775,1400')\n",
        "opciones.add_argument('--disable-extensions')\n",
        "opciones.add_argument('--disable-blink-features=AutomationControlled')\n",
        "opciones.add_argument('--no-sandbox')\n",
        "opciones.add_experimental_option('useAutomationExtension', False)\n",
        "opciones.add_experimental_option('excludeSwitches', ['enable-automation'])\n",
        "\n",
        "# guardar las cookies\n",
        "#opciones.add_argument('user-data-dir=cookies')    # mantiene las cookies\n",
        "opciones.add_argument('--incognito') # modo incognito"
      ],
      "metadata": {
        "id": "0SpwwSgJRSEz"
      },
      "execution_count": null,
      "outputs": []
    },
    {
      "cell_type": "code",
      "source": [
        "url = 'https://www.reddit.com/search/?q=python'\n",
        "driver = webdriver.Chrome(options = opciones)   # abre una ventana de chrome\n",
        "\n",
        "# cargar la web\n",
        "driver.get(url)\n",
        "\n",
        "time.sleep(1)\n",
        "\n",
        "# raíz de la shadow\n",
        "shadow = driver.find_element(By.TAG_NAME,'reddit-cookie-banner').shadow_root\n",
        "time.sleep(1)\n",
        "\n",
        "# click en botón de rechazar cookies\n",
        "shadow.find_element(By.ID, 'reject-nonessential-cookies-button').click()\n",
        "time.sleep(2)\n",
        "\n",
        "# click en botón de comunidades\n",
        "driver.find_element(By.ID, 'search-results-page-tab-communities').click()\n",
        "time.sleep(1)\n",
        "\n",
        "# guardar los elementos que contienen los enlaces\n",
        "enlaces = driver.find_elements(By.CSS_SELECTOR,'a[class=\"absolute inset-0\"]')\n",
        "print(f'Hay {enlaces.__len__()} enlaces')\n",
        "\n",
        "# extraer el href de alguno de los enlaces\n",
        "entrada = enlaces[0].get_attribute('href')\n",
        "print(f'Enlace al que voy a acceder: {entrada}')\n",
        "\n",
        "# abrir enlace en nueva ventana\n",
        "driver.execute_script(f\"window.open('{entrada}')\")\n",
        "time.sleep(2)\n",
        "\n",
        "# mover a ventana abierta\n",
        "driver.switch_to.window(driver.window_handles[1])\n",
        "time.sleep(2)\n",
        "\n",
        "# cerrar la ventana\n",
        "driver.close()\n",
        "time.sleep(1)\n",
        "\n",
        "# cerrar driver\n",
        "driver.quit()"
      ],
      "metadata": {
        "id": "LxLiraU5Rr6w"
      },
      "execution_count": null,
      "outputs": []
    }
  ]
}