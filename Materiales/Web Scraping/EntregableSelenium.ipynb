{
 "cells": [
  {
   "cell_type": "code",
   "execution_count": 1,
   "metadata": {},
   "outputs": [],
   "source": [
    "#pip install python-dotenv"
   ]
  },
  {
   "cell_type": "code",
   "execution_count": 2,
   "metadata": {},
   "outputs": [],
   "source": [
    "from selenium import webdriver\n",
    "from webdriver_manager.chrome import ChromeDriverManager # sustituye al archivo\n",
    "from selenium.webdriver.chrome.options import Options # opciones de chrome\n",
    "from selenium.webdriver.common.by import By # By es para buscar por tag, clase, id...\n",
    "from selenium.webdriver.support.ui import WebDriverWait   # para meter esperaras\n",
    "from selenium.webdriver.support import expected_conditions as EC   # para esperar ciertos eventos\n",
    "from selenium.webdriver import ActionChains # para hacer acciones con el ratón\n",
    "import time\n",
    "import random\n",
    "import os\n",
    "from dotenv import load_dotenv\n",
    "import selenium.webdriver.common.keys as Keys # para simular teclas"
   ]
  },
  {
   "cell_type": "code",
   "execution_count": 3,
   "metadata": {},
   "outputs": [],
   "source": [
    "#Opciones de chrome\n",
    "opciones = webdriver.ChromeOptions()\n",
    "#opciones.add_argument('--start-maximized')\n",
    "opciones.add_argument('window-size=775,1400')\n",
    "opciones.add_argument('--disable-extensions')\n",
    "opciones.add_argument('--disable-blink-features=AutomationControlled')\n",
    "opciones.add_argument('--no-sandbox')\n",
    "opciones.add_experimental_option('useAutomationExtension', False)\n",
    "opciones.add_experimental_option('excludeSwitches', ['enable-automation'])\n",
    "\n",
    "# guardar las cookies\n",
    "# opciones.add_argument('user-data-dir=cookies')    # mantiene las cookies\n",
    "opciones.add_argument('--incognito') # modo incognito"
   ]
  },
  {
   "cell_type": "code",
   "execution_count": 363,
   "metadata": {},
   "outputs": [],
   "source": [
    "url = 'https://forms.gle/7jKq7vHV7V1R3NbR8'\n",
    "driver = webdriver.Chrome(options=opciones)\n",
    "driver.get(url)\n",
    "time.sleep(1)"
   ]
  },
  {
   "cell_type": "code",
   "execution_count": 364,
   "metadata": {},
   "outputs": [],
   "source": [
    "# llama el archivo .env\n",
    "load_dotenv\n",
    "# Busca usuario y contrasena\n",
    "user_ = os.getenv('user')\n",
    "password_ = os.getenv('password')\n"
   ]
  },
  {
   "cell_type": "code",
   "execution_count": 365,
   "metadata": {},
   "outputs": [
    {
     "data": {
      "text/plain": [
       "'zuley.maestre@students.gammatech.school'"
      ]
     },
     "execution_count": 365,
     "metadata": {},
     "output_type": "execute_result"
    }
   ],
   "source": [
    "user_"
   ]
  },
  {
   "cell_type": "code",
   "execution_count": 366,
   "metadata": {},
   "outputs": [],
   "source": [
    "limpiar_input_email = driver.find_element(By.ID,'identifierId')\n",
    "limpiar_input_email.clear()"
   ]
  },
  {
   "cell_type": "code",
   "execution_count": 367,
   "metadata": {},
   "outputs": [],
   "source": [
    "input_email = driver.find_element(By.ID, 'identifierId')\n",
    "\n",
    "cuadro_input_email = user_\n",
    "for letra in cuadro_input_email:\n",
    "    input_email.send_keys(letra)\n",
    "    time.sleep(random.uniform(0.3,0.75))\n",
    "    time.sleep(1)\n",
    "   "
   ]
  },
  {
   "cell_type": "code",
   "execution_count": 368,
   "metadata": {},
   "outputs": [],
   "source": [
    "# boton de sigiente luego de ingresar el correo\n",
    "\n",
    "boton_siguiente = driver.find_element(By.XPATH, '//*[@id=\"identifierNext\"]/div/button/span').click()\n",
    "time.sleep(2)\n",
    "#wait = new WebDriverWait(driver, new TimeSpan(0,0,5)); wait.Until(By.Id(\"login\"));"
   ]
  },
  {
   "cell_type": "code",
   "execution_count": 369,
   "metadata": {},
   "outputs": [],
   "source": [
    "# Introducir contrasena"
   ]
  },
  {
   "cell_type": "code",
   "execution_count": 370,
   "metadata": {},
   "outputs": [],
   "source": [
    "#limpiar password\n",
    "limpiar_input_password = driver.find_element(By.XPATH,'//*[@id=\"password\"]/div[1]/div/div[1]/input')\n",
    "limpiar_input_password.clear()"
   ]
  },
  {
   "cell_type": "code",
   "execution_count": 371,
   "metadata": {},
   "outputs": [],
   "source": [
    "# Igresar password\n",
    "input_password = driver.find_element(By.XPATH,'//*[@id=\"password\"]/div[1]/div/div[1]/input')\n",
    "time.sleep(1)\n",
    "cuadro_input_password = password_\n",
    "for letra in cuadro_input_password:\n",
    "    input_password.send_keys(letra)\n",
    "    time.sleep(random.uniform(0.3,0.75))\n",
    "    time.sleep(2)"
   ]
  },
  {
   "cell_type": "code",
   "execution_count": 372,
   "metadata": {},
   "outputs": [],
   "source": [
    "#Boton siguiente de password\n",
    "boton_siguiente_password = driver.find_element(By.XPATH, '//*[@id=\"passwordNext\"]/div/button').click()\n"
   ]
  },
  {
   "cell_type": "code",
   "execution_count": 374,
   "metadata": {},
   "outputs": [],
   "source": [
    "# Hacemos scroll hasta la mitad de la página\n",
    "time.sleep(5)\n",
    "driver.execute_script(\"window.scrollTo(0, document.body.scrollHeight/5);\") "
   ]
  },
  {
   "cell_type": "code",
   "execution_count": 375,
   "metadata": {},
   "outputs": [],
   "source": [
    "# Recordar correo\n",
    "time.sleep(3)\n",
    "recordar_correo = driver.find_element(By.ID,'i5')\n",
    "recordar_correo.click()\n",
    "time.sleep(2)"
   ]
  },
  {
   "cell_type": "code",
   "execution_count": 376,
   "metadata": {},
   "outputs": [],
   "source": [
    "# Con selenio puedo\n",
    "pregunta1 = driver.find_element(By.ID,'i21')\n",
    "pregunta1.click()\n",
    "time.sleep(5)"
   ]
  },
  {
   "cell_type": "code",
   "execution_count": 377,
   "metadata": {},
   "outputs": [],
   "source": [
    "# Hacemos scroll hasta la mitad de la página\n",
    "driver.execute_script(\"window.scrollTo(0, document.body.scrollHeight/3);\") \n",
    "time.sleep(5)"
   ]
  },
  {
   "cell_type": "code",
   "execution_count": 378,
   "metadata": {},
   "outputs": [],
   "source": [
    "#localizar el iframe\n",
    "# Video de Yotube, esta ubicado en un iframe\n",
    "iframe = driver.find_element(By.XPATH, '//*[@id=\"mG61Hd\"]/div[2]/div/div[2]/div[3]/div/div[2]/iframe')\n"
   ]
  },
  {
   "cell_type": "code",
   "execution_count": 379,
   "metadata": {},
   "outputs": [],
   "source": [
    "#Cambiar al iframe\n",
    "driver.switch_to.frame(iframe)"
   ]
  },
  {
   "cell_type": "code",
   "execution_count": 380,
   "metadata": {},
   "outputs": [],
   "source": [
    "# Reproducir video\n",
    "reproducir_video = driver.find_element(By.ID, 'player')\n",
    "reproducir_video.click()\n",
    "time.sleep(10)"
   ]
  },
  {
   "cell_type": "code",
   "execution_count": 381,
   "metadata": {},
   "outputs": [
    {
     "data": {
      "text/plain": [
       "'https://www.youtube.com/watch?v=2_x3qsBJndo'"
      ]
     },
     "execution_count": 381,
     "metadata": {},
     "output_type": "execute_result"
    }
   ],
   "source": [
    "url_video = driver.find_element(By.XPATH, '//*[@id=\"movie_player\"]/div[3]/div[2]/div/a').get_attribute('href')\n",
    "url_video\n"
   ]
  },
  {
   "cell_type": "code",
   "execution_count": 382,
   "metadata": {},
   "outputs": [],
   "source": [
    "driver.switch_to.default_content()"
   ]
  },
  {
   "cell_type": "code",
   "execution_count": 383,
   "metadata": {},
   "outputs": [],
   "source": [
    "# Escribe url del video\n",
    "input_url_video = driver.find_element(By.XPATH, '//*[@id=\"mG61Hd\"]/div[2]/div/div[2]/div[4]/div/div/div[2]/div/div[1]/div/div[1]/input')\n",
    "time.sleep(1)\n",
    "linea_url_video = url_video\n",
    "for letra in linea_url_video:\n",
    "    input_url_video.send_keys(letra)\n",
    "    time.sleep(random.uniform(0.3,0.75))"
   ]
  },
  {
   "cell_type": "code",
   "execution_count": 384,
   "metadata": {},
   "outputs": [],
   "source": [
    "# Hacemos scroll hasta la mitad de la página\n",
    "driver.execute_script(\"window.scrollTo(0, document.body.scrollHeight/2);\") \n",
    "time.sleep(1)"
   ]
  },
  {
   "cell_type": "code",
   "execution_count": 385,
   "metadata": {},
   "outputs": [],
   "source": [
    "# Hacemos scroll \n",
    "driver.execute_script(\"window.scrollTo(0, document.body.scrollHeight/1);\") \n",
    "time.sleep(1)"
   ]
  },
  {
   "cell_type": "code",
   "execution_count": 386,
   "metadata": {},
   "outputs": [],
   "source": [
    "#links_imagenes_url \n",
    "links_imagenes_url  =driver.find_element(By.CSS_SELECTOR,'#i28 > span > a').get_attribute('href')\n"
   ]
  },
  {
   "cell_type": "code",
   "execution_count": 387,
   "metadata": {},
   "outputs": [],
   "source": [
    "# Abre links_imagenes_url en una ventana nueva\n",
    "driver.execute_script(f\"window.open('{links_imagenes_url}')\")"
   ]
  },
  {
   "cell_type": "code",
   "execution_count": 388,
   "metadata": {},
   "outputs": [],
   "source": [
    "#Cambiamos a la nueva ventana\n",
    "driver.switch_to.window(driver.window_handles[1])\n",
    "time.sleep(1)"
   ]
  },
  {
   "cell_type": "code",
   "execution_count": 389,
   "metadata": {},
   "outputs": [],
   "source": [
    "cerrar_cookies = driver.find_element(By.CSS_SELECTOR, 'button').click()\n",
    "time.sleep(2)"
   ]
  },
  {
   "cell_type": "code",
   "execution_count": 390,
   "metadata": {},
   "outputs": [],
   "source": [
    "# Hacemos scroll\n",
    "driver.execute_script(\"window.scrollTo(0, document.body.scrollHeight/2);\")\n",
    "time.sleep(2)"
   ]
  },
  {
   "cell_type": "code",
   "execution_count": 391,
   "metadata": {},
   "outputs": [],
   "source": [
    "# Hacemos scroll\n",
    "driver.execute_script(\"window.scrollTo(0, document.body.scrollHeight/1);\")\n",
    "time.sleep(2)"
   ]
  },
  {
   "cell_type": "code",
   "execution_count": 392,
   "metadata": {},
   "outputs": [],
   "source": [
    "#Url base de las fotos\n",
    "url_fotos='https://unsplash.com/'\n"
   ]
  },
  {
   "cell_type": "code",
   "execution_count": 393,
   "metadata": {},
   "outputs": [
    {
     "data": {
      "text/plain": [
       "['https://unsplash.com/es/fotos/el-sol-se-esta-poniendo-sobre-una-cadena-montanosa--RlktmDy3Ec',\n",
       " 'https://unsplash.com/es/fotos/una-vista-de-una-cadena-montanosa-desde-un-punto-de-vista-alto-_iheCDGyWS8',\n",
       " 'https://unsplash.com/es/fotos/un-hombre-parado-en-una-cueva-al-atardecer-wTmGtmGQCjQ',\n",
       " 'https://unsplash.com/es/fotos/una-persona-de-pie-en-la-cima-de-una-montana-aFkQwFefxGE',\n",
       " 'https://unsplash.com/es/fotos/una-vista-aerea-de-una-formacion-rocosa-en-el-desierto-epQdtCvBrc4',\n",
       " 'https://unsplash.com/es/fotos/una-vista-aerea-de-un-desierto-con-rocas-y-arena-ljEXet84nL8',\n",
       " 'https://unsplash.com/es/fotos/el-sol-se-esta-poniendo-sobre-un-paisaje-desertico-RySPDa0FdcQ',\n",
       " 'https://unsplash.com/es/fotos/una-persona-mirando-desde-una-cueva-en-el-desierto-9bE0LlCrX2M',\n",
       " 'https://unsplash.com/es/fotos/un-hombre-parado-en-medio-de-un-desierto-g9wCI64k2yw',\n",
       " 'https://unsplash.com/es/fotos/una-persona-caminando-por-un-canon-en-el-desierto-9633dHhioC8',\n",
       " 'https://unsplash.com/es/fotos/una-vista-aerea-de-un-desierto-con-rocas-y-arena-XDtzu1D2P8c',\n",
       " 'https://unsplash.com/es/fotos/un-paisaje-desertico-con-rocas-y-arena-THlO6Mkf5uI',\n",
       " 'https://unsplash.com/es/fotos/el-sol-se-esta-poniendo-sobre-un-paisaje-desertico-WpOMM4uE-F8',\n",
       " 'https://unsplash.com/es/fotos/un-hombre-sentado-en-una-roca-en-el-desierto-ud9NlvvEzUI',\n",
       " 'https://unsplash.com/es/fotos/el-sol-se-esta-poniendo-sobre-un-paisaje-rocoso-MV7iHCilMJc',\n",
       " 'https://unsplash.com/es/fotos/una-colina-cubierta-de-hierba-con-montanas-al-fondo-Jgl1WK2e38U',\n",
       " 'https://unsplash.com/es/fotos/una-vista-aerea-de-un-desierto-al-atardecer-YeLs9lJDx9M',\n",
       " 'https://unsplash.com/es/fotos/una-vista-de-las-montanas-desde-un-punto-de-vista-alto-eU1P78Rge-k',\n",
       " 'https://unsplash.com/es/fotos/una-gran-formacion-rocosa-en-medio-de-un-desierto-bRRy9ucK1rY',\n",
       " 'https://unsplash.com/es/fotos/un-hombre-sentado-en-la-cima-de-una-montana-junto-a-un-exuberante-campo-verde-7DSn2ECqZ50']"
      ]
     },
     "execution_count": 393,
     "metadata": {},
     "output_type": "execute_result"
    }
   ],
   "source": [
    "# Seleccionamos todas las imagenes relacionadas\n",
    "lista_fotos =driver.find_elements(By.CLASS_NAME,'zNNw1')\n",
    "url_fotos = [foto.get_attribute('href')for foto in lista_fotos]\n",
    "url_fotos # pendiene solo cambie el nombre "
   ]
  },
  {
   "cell_type": "code",
   "execution_count": 394,
   "metadata": {},
   "outputs": [
    {
     "data": {
      "text/plain": [
       "20"
      ]
     },
     "execution_count": 394,
     "metadata": {},
     "output_type": "execute_result"
    }
   ],
   "source": [
    "len(url_fotos)"
   ]
  },
  {
   "cell_type": "code",
   "execution_count": 395,
   "metadata": {},
   "outputs": [],
   "source": [
    "#cerramos ventana de imagen\n",
    "driver.close()\n"
   ]
  },
  {
   "cell_type": "code",
   "execution_count": 396,
   "metadata": {},
   "outputs": [],
   "source": [
    "#Cambiamos a la  ventana anterior\n",
    "driver.switch_to.window(driver.window_handles[0])"
   ]
  },
  {
   "cell_type": "code",
   "execution_count": 397,
   "metadata": {},
   "outputs": [],
   "source": [
    "# Escribir los links de las imagenes de la url\n",
    "links_relacionados =driver.find_element(By.XPATH,'//*[@id=\"mG61Hd\"]/div[2]/div/div[2]/div[6]/div/div/div[2]/div/div[1]/div/div[1]/input')\n",
    "for i,  url in enumerate(url_fotos):\n",
    "    links_relacionados.send_keys(f'foto {i+1}: {url};')\n",
    "    time.sleep(1)"
   ]
  },
  {
   "cell_type": "code",
   "execution_count": 398,
   "metadata": {},
   "outputs": [],
   "source": [
    "# Hacemos scroll\n",
    "driver.execute_script(\"window.scrollTo(0, document.body.scrollHeight/1);\")\n",
    "time.sleep(2)"
   ]
  },
  {
   "cell_type": "code",
   "execution_count": 399,
   "metadata": {},
   "outputs": [],
   "source": [
    "# En la url de la imagen anterior, obten 6 enlaces de imágenes relacionadas y pégalos en la respuesta\n",
    "escribe6_url = driver.find_element(By.TAG_NAME , 'textarea')\n",
    "for i,  url in enumerate(url_fotos[0:6]):\n",
    "    escribe6_url.send_keys(f'foto {i+1}: {url};')\n",
    "    time.sleep(random.uniform(0.3,0.75))"
   ]
  },
  {
   "cell_type": "code",
   "execution_count": 400,
   "metadata": {},
   "outputs": [],
   "source": [
    "#siguiente pagina\n",
    "siguinte_formulario1 = driver.find_element(By.XPATH, '//*[@id=\"mG61Hd\"]/div[2]/div/div[3]/div[1]/div[1]/div/span').click()"
   ]
  },
  {
   "cell_type": "code",
   "execution_count": 401,
   "metadata": {},
   "outputs": [],
   "source": [
    "#Limpiar_formulario1 =driver.find_element(By.XPATH, '//*[@id=\"mG61Hd\"]/div[2]/div/div[3]/div[1]/div[2]/div/span/span').click"
   ]
  },
  {
   "cell_type": "code",
   "execution_count": 402,
   "metadata": {},
   "outputs": [],
   "source": [
    "# Formulario 2 , pregunta 1\n",
    "time.sleep(5)\n",
    "opciones = driver.find_element(By.CSS_SELECTOR, '#mG61Hd > div.RH5hzf.RLS9Fe > div > div.o3Dpx > div:nth-child(2) > div > div > div.PY6Xd > div > span > div > label:nth-child(6) > div.eRqjfd > div > div > div.vd3tt > div')\n",
    "opciones.click()"
   ]
  },
  {
   "cell_type": "code",
   "execution_count": 403,
   "metadata": {},
   "outputs": [],
   "source": [
    "# Hacemos scroll\n",
    "driver.execute_script(\"window.scrollTo(0, document.body.scrollHeight/3);\")\n",
    "time.sleep(3)"
   ]
  },
  {
   "cell_type": "code",
   "execution_count": 404,
   "metadata": {},
   "outputs": [],
   "source": [
    "# Formulario 2 pregunta 1\n",
    "time.sleep(3)\n",
    "opcion1 = driver.find_element(By.CSS_SELECTOR, '#mG61Hd > div.RH5hzf.RLS9Fe > div > div.o3Dpx > div:nth-child(3) > div > div > div.e12QUd > div > div.xOMX8e > div > div:nth-child(2) > label:nth-child(2) > div > div > div.uHMk6b.fsHoPb').click()\n",
    "time.sleep(1)\n"
   ]
  },
  {
   "cell_type": "code",
   "execution_count": 405,
   "metadata": {},
   "outputs": [],
   "source": [
    "# Formulario 2 pregunta 2\n",
    "opcion2 = driver.find_element(By.XPATH,  '//*[@id=\"mG61Hd\"]/div[2]/div/div[2]/div[3]/div/div/div[2]/div/div[1]/div/div[4]/label[1]/div/div/div[2]').click()\n",
    "time.sleep(1)"
   ]
  },
  {
   "cell_type": "code",
   "execution_count": 406,
   "metadata": {},
   "outputs": [],
   "source": [
    "# Formulario 2 pregunta 3\n",
    "opcion3 = driver.find_element(By.XPATH, '//*[@id=\"mG61Hd\"]/div[2]/div/div[2]/div[3]/div/div/div[2]/div/div[1]/div/div[6]/label[1]/div/div/div[2]').click()\n",
    "time.sleep(1)"
   ]
  },
  {
   "cell_type": "code",
   "execution_count": 407,
   "metadata": {},
   "outputs": [],
   "source": [
    "# Formulario 2 pregunta  1 iz-der\n",
    "opcion4 = driver.find_element(By.CSS_SELECTOR, '#mG61Hd > div.RH5hzf.RLS9Fe > div > div.o3Dpx > div:nth-child(3) > div > div > div.e12QUd > div > div.xOMX8e > div > div:nth-child(6) > label:nth-child(3) > div > div').click()\n",
    "time.sleep(1)"
   ]
  },
  {
   "cell_type": "code",
   "execution_count": 408,
   "metadata": {},
   "outputs": [],
   "source": [
    "# Formulario 2 pregunta 2 iz-der\n",
    "opcion5 = driver.find_element(By.CSS_SELECTOR, '#mG61Hd > div.RH5hzf.RLS9Fe > div > div.o3Dpx > div:nth-child(3) > div > div > div.e12QUd > div > div.xOMX8e > div > div:nth-child(6) > label:nth-child(4) > div > div').click()\n",
    "time.sleep(1)"
   ]
  },
  {
   "cell_type": "code",
   "execution_count": null,
   "metadata": {},
   "outputs": [],
   "source": []
  },
  {
   "cell_type": "code",
   "execution_count": 409,
   "metadata": {},
   "outputs": [],
   "source": [
    "# Despliega el menu\n",
    "caja_despeglabe1 = driver.find_element(By.XPATH, '//*[@id=\"mG61Hd\"]/div[2]/div/div[2]/div[4]/div/div/div[2]/div/div[1]/div[1]').click()\n",
    "                                     \n",
    "\n"
   ]
  },
  {
   "cell_type": "code",
   "execution_count": 412,
   "metadata": {},
   "outputs": [],
   "source": []
  },
  {
   "cell_type": "code",
   "execution_count": 413,
   "metadata": {},
   "outputs": [],
   "source": [
    "# Subir archivo\n",
    "subir_archivo = driver.find_element(By.XPATH,'//*[@id=\"mG61Hd\"]/div[2]/div/div[2]/div[5]/div/div/div[2]/div/div[3]/span').click()\n"
   ]
  },
  {
   "cell_type": "code",
   "execution_count": 290,
   "metadata": {},
   "outputs": [],
   "source": [
    "#iframe = driver.find_element(By.ID, 'bjydlswd3ay')"
   ]
  },
  {
   "cell_type": "code",
   "execution_count": null,
   "metadata": {},
   "outputs": [],
   "source": [
    "# WebDriverWait(driver, 10).until(EC.frame_to_be_available_and_switch_to_it((By.XPATH, \"//iframe[contains(@src, 'https://docs.google.com/picker')]\")))"
   ]
  },
  {
   "cell_type": "code",
   "execution_count": null,
   "metadata": {},
   "outputs": [],
   "source": [
    "#boton_drive = driver.find_element(By.XPATH, '//*[@id=\"1\"]/span[2]')"
   ]
  },
  {
   "cell_type": "code",
   "execution_count": null,
   "metadata": {},
   "outputs": [],
   "source": []
  },
  {
   "cell_type": "code",
   "execution_count": 291,
   "metadata": {},
   "outputs": [],
   "source": [
    "#Cambiar al iframe\n",
    "driver.switch_to.frame(iframe)"
   ]
  },
  {
   "cell_type": "code",
   "execution_count": null,
   "metadata": {},
   "outputs": [],
   "source": []
  },
  {
   "cell_type": "code",
   "execution_count": 292,
   "metadata": {},
   "outputs": [],
   "source": [
    "\n",
    "driver.execute_script('arguments[0].click();',boton_drive)"
   ]
  },
  {
   "cell_type": "code",
   "execution_count": 295,
   "metadata": {},
   "outputs": [],
   "source": [
    "#driver.switch_to.default_content()"
   ]
  }
 ],
 "metadata": {
  "kernelspec": {
   "display_name": "Python 3",
   "language": "python",
   "name": "python3"
  },
  "language_info": {
   "codemirror_mode": {
    "name": "ipython",
    "version": 3
   },
   "file_extension": ".py",
   "mimetype": "text/x-python",
   "name": "python",
   "nbconvert_exporter": "python",
   "pygments_lexer": "ipython3",
   "version": "3.12.6"
  }
 },
 "nbformat": 4,
 "nbformat_minor": 2
}
