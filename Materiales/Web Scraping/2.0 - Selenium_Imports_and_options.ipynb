{
  "cells": [
    {
      "cell_type": "markdown",
      "metadata": {
        "id": "nMi7H445tMhp"
      },
      "source": [
        "# Imports"
      ]
    },
    {
      "cell_type": "markdown",
      "metadata": {
        "id": "-18N7hr3thcH"
      },
      "source": [
        "## Install"
      ]
    },
    {
      "cell_type": "markdown",
      "metadata": {
        "id": "hDjkDoCotpVQ"
      },
      "source": [
        "Las instalaciones únicamente son necesarias hacerlas una vez. Se instalarán en vuestro ordenador, y ya no las vais a necesitar instalar de nuevo. En caso de salir alguna actualización se pueden actualizar o reinstalar."
      ]
    },
    {
      "cell_type": "code",
      "execution_count": null,
      "metadata": {
        "id": "BR5iNvUas-bo"
      },
      "outputs": [],
      "source": [
        "pip install selenium # Instalar la librería selenium"
      ]
    },
    {
      "cell_type": "code",
      "execution_count": null,
      "metadata": {
        "id": "f26fXxAwt_T1"
      },
      "outputs": [],
      "source": [
        "pip install webdriver-manager # Instala la librería que permite configurar webdriver"
      ]
    },
    {
      "cell_type": "markdown",
      "metadata": {
        "id": "7G8HHhGeuLF-"
      },
      "source": [
        "## Imports"
      ]
    },
    {
      "cell_type": "markdown",
      "metadata": {
        "id": "30kUs6c7uNU4"
      },
      "source": [
        "Recuerda que cada vez que cerramos nuestro notebook muere el kernel. Así como cuando trabajamos en Google Colab tenemos que reejecutar los imports para tenerlos activos durante la ejecución de nuestro kernel, lo mismo va a ocurrir en nuestro entorno local."
      ]
    },
    {
      "cell_type": "code",
      "execution_count": null,
      "metadata": {
        "id": "F2stxAHfuMoD"
      },
      "outputs": [],
      "source": [
        "# SELENIUM\n",
        "from selenium import webdriver                                    # para usar webdriver\n",
        "from webdriver_manager.chrome import ChromeDriverManager          # para controlar webdriver\n",
        "from selenium.webdriver.chrome.options import Options             # para configurar webdriver\n",
        "from selenium.webdriver.common.by import By                       # para seleccionar elementos por CSS, TAG, ID, XPATH...\n",
        "from selenium.webdriver.support.ui import WebDriverWait           # para meter esperaras\n",
        "from selenium.webdriver.support import expected_conditions as EC  # para esperar ciertos eventos\n",
        "from selenium.webdriver import ActionChains                       # para hacer acciones con el ratón\n",
        "import selenium.webdriver.common.keys as Keys                     # para simular teclas"
      ]
    },
    {
      "cell_type": "markdown",
      "metadata": {
        "id": "KSai92pnwq6a"
      },
      "source": [
        "# Options"
      ]
    },
    {
      "cell_type": "markdown",
      "metadata": {
        "id": "58Gn22Rlw238"
      },
      "source": [
        "Lo primero de todo es crearnos un objeto en una variable que nos sirva para poder ir añadiendo diferentes parámetros de configuración en función de la necesidad que tengamos en cada momento."
      ]
    },
    {
      "cell_type": "code",
      "execution_count": null,
      "metadata": {
        "id": "qRpjKUklw0Nc"
      },
      "outputs": [],
      "source": [
        "opciones = webdriver.ChromeOptions()"
      ]
    },
    {
      "cell_type": "markdown",
      "metadata": {
        "id": "1NoS-0UJxJiB"
      },
      "source": [
        "Una vez generado vamos a ir añadiendo argumentos y opciones de experimentación según la necesidad que tengamos:\n",
        "\n",
        "[Lista de todas las opciones que se pueden introducir en .add_arguments()](https://peter.sh/experiments/chromium-command-line-switches/)"
      ]
    },
    {
      "cell_type": "code",
      "execution_count": null,
      "metadata": {
        "colab": {
          "base_uri": "https://localhost:8080/"
        },
        "id": "yu3snqQk3FyE",
        "outputId": "5900c4aa-ce4e-427a-e4c7-51f627ac0366"
      },
      "outputs": [
        {
          "data": {
            "text/plain": [
              "[]"
            ]
          },
          "execution_count": 10,
          "metadata": {},
          "output_type": "execute_result"
        }
      ],
      "source": [
        "# Abre la ventana maximizada\n",
        "opciones.add_argument('--start-maximized')\n",
        "\n",
        "# Abre la ventana en un tamaño determinado\n",
        "# Los números son la resolución\n",
        "# Primer número: ancho\n",
        "# Segundo número: largo\n",
        "opciones.add_argument('window-size=775,1400')\n",
        "\n",
        "# Desactiva las extenciones\n",
        "opciones.add_argument('--disable-extensions')\n",
        "\n",
        "# No abre la ventana de chrome\n",
        "opciones.add_argument('--headless')\n",
        "\n",
        "# Desactiva que se reconozca nuestro driver como software automatizado\n",
        "opciones.add_argument('--disable-blink-features=AutomationControlled')\n",
        "\n",
        "# Quitamos el modo sandbox\n",
        "opciones.add_argument('--no-sandbox')\n",
        "\n",
        "# Guardar las cookies\n",
        "opciones.add_argument('user-data-dir=cookies')\n",
        "\n",
        "# Modo incógnito\n",
        "opciones.add_argument('--incognito')\n",
        "\n",
        "# 'excludeSwitches' impide que muestre la bandera de que es un software para automatización y pruebas\n",
        "# 'enable-automation' permite seguir con automatizaciones\n",
        "# en conjunto nos camufla más y ayuda a que cueste más detectarnos\n",
        "opciones.add_experimental_option('excludeSwitches', ['enable-automation'])\n",
        "\n",
        "# Omite la carga de la extensión para la automatización\n",
        "# Ayuda a ser todavía más difíciles de detectar\n",
        "# USAR JUNTO A LA ANTERIOR\n",
        "opciones.add_experimental_option('useAutomationExtension', False)\n",
        "\n"
      ]
    },
    {
      "cell_type": "markdown",
      "metadata": {
        "id": "-FV2t7fjzCLq"
      },
      "source": [
        "# Driver"
      ]
    },
    {
      "cell_type": "markdown",
      "metadata": {
        "id": "JlQDxTLFzJSG"
      },
      "source": [
        "Hay que crear siempre un objeto de driver para poder usarlo como navegador."
      ]
    },
    {
      "cell_type": "code",
      "execution_count": null,
      "metadata": {
        "id": "ONqgg5EBzOmc"
      },
      "outputs": [],
      "source": [
        "driver = webdriver.Chrome(options=opciones)"
      ]
    },
    {
      "cell_type": "code",
      "execution_count": null,
      "metadata": {
        "id": "-Gk2pP_t3ZXU"
      },
      "outputs": [],
      "source": [
        "import subprocess\n",
        "\n",
        "def run_chromedriver_help():\n",
        "    # El comando para ejecutar ChromeDriver con la opción --help\n",
        "    command = 'chromedriver --help'\n",
        "\n",
        "    # Ejecutar el comando y capturar la salida\n",
        "    result = subprocess.run(command, shell=True, capture_output=True, text=True)\n",
        "\n",
        "    # Verificar si el comando fue exitoso\n",
        "    if result.returncode == 0:\n",
        "        # Imprimir la salida del comando\n",
        "        print(result.stdout)\n",
        "    else:\n",
        "        # Imprimir cualquier error que haya ocurrido\n",
        "        print(\"Error al ejecutar chromedriver --help\")\n",
        "        print(result.stderr)\n",
        "\n",
        "# Llamar a la función\n",
        "run_chromedriver_help()"
      ]
    }
  ],
  "metadata": {
    "colab": {
      "provenance": []
    },
    "kernelspec": {
      "display_name": "Python 3",
      "name": "python3"
    },
    "language_info": {
      "name": "python"
    }
  },
  "nbformat": 4,
  "nbformat_minor": 0
}
