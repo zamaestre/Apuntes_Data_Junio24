{
  "cells": [
    {
      "cell_type": "markdown",
      "metadata": {
        "id": "xdQ0EtZAgT3j"
      },
      "source": [
        "# 1 - Web Scraping / Scrapeo con BeatifulSoup (Bs4)\n",
        "<p align = 'center'>\n",
        "<img src = 'https://editor.analyticsvidhya.com/uploads/75676cover.jfif'/>\n",
        "</p>\n",
        "\n",
        "Web scraping o raspado web, es una técnica utilizada mediante programas de software para extraer información de sitios web de manera automatizada y masiva. Usualmente, estos programas simulan la navegación de un humano en la web ya sea utilizando el protocolo HTTP manualmente, o incrustando un navegador en una aplicación.\n",
        "\n",
        "El web scraping está muy relacionado con la indexación de la web, la cual indexa la información de la web utilizando un robot y es una técnica universal adoptada por la mayoría de los motores de búsqueda. Sin embargo, el web scraping se enfoca más en la transformación de datos sin estructura en la web, como el formato HTML, en datos estructurados que pueden ser almacenados y analizados en una base de datos central, en una hoja de cálculo o en alguna otra fuente de almacenamiento. Alguno de los usos del web scraping son la comparación de precios en tiendas, la monitorización de datos relacionados con el clima de cierta región, la detección de cambios en sitios webs y la integración de datos en sitios webs.\n",
        "\n",
        "En los últimos años el web scraping se ha convertido en una **técnica muy utilizada** dentro del sector del posicionamiento web gracias a su capacidad de generar grandes cantidades de datos para crear contenidos de calidad.\n",
        "\n",
        "Podríamos pensar que el web scraping es nuestro recurso a **falta de una API o un feed RSS**. A falta de una fuente de datos, siempre podemos extraer aquello que sale por pantalla."
      ]
    },
    {
      "cell_type": "markdown",
      "metadata": {
        "id": "rpYvopdjC95u"
      },
      "source": [
        "Todo aquello que necesite interactividad con la página web va a necesitar **selenium**, una librería que nos permite darle instrucciones a nuestro explorador para poder simular los movimientos que haríamos por dentro de la web:\n",
        " - Cambiar de página\n",
        " - Rellenar formularios\n",
        " - Hacer click en botones\n",
        " - Cerrar pop-ups\n",
        " - Rechazar cookies\n",
        " \n",
        "Por otro lado, todo aquello que sea estático podemos tirar únicamente de **BeautifulSoup**, la primera librería para scrapeo que vamos a conocer que nos permite, una vez cargada la página de la que vamos a extraer la información, recorrer el código HTML y quedarnos con aquellos datos que necesitemos.\n",
        "\n",
        "Tendremos que realizar scrapeo cuando no dispongamos de una fuente más sencilla de la que obtener información como una API, una base de datos, fichero, etc..."
      ]
    },
    {
      "cell_type": "markdown",
      "metadata": {
        "id": "5q0_jKSEgT38"
      },
      "source": [
        "# 2 - Extracción de los datos del HTML\n",
        "\n",
        "Para scrapear necesitamos saber que pinta tiene la **estructura general** que tiene un HTML.\n",
        "\n",
        "El HTML consiste en contenido `<etiquetado>`, es como si fueran cajas de contenido, organizado de manera jerárquica:\n",
        "\n",
        "```\n",
        "<html>\n",
        "    <head>\n",
        "        <title>Titulo de la pagina</title>\n",
        "    </head>\n",
        "    <body>\n",
        "        <h1>Cabecera</h1>\n",
        "        <p>Parrafo</p>\n",
        "    </body>\n",
        "</html>\n",
        "```\n",
        "\n",
        "$$$$\n",
        "\n",
        "Las etiquetas el HTML se pueden clasificar en varios grupos, dependiendo del tipo de contenido que posea. Estos son algunos ejemplos:\n",
        "\n",
        "+ cabecera: `<h1>`, `<h2>`, `<h3>`, `<hgroup>`...\n",
        "+ texto: `<b>`, `<p>`, `<span>`...\n",
        "+ embebido: `<audio>`, `<img>`, `<video>`...\n",
        "+ tabular: `<table>`, `<tr>`, `<td>`, `<tbody>`...\n",
        "+ secciones: `<header>`, `<section>`, `<article>`...\n",
        "+ metadata: `<meta>`, `<title>`, `<script>`...\n",
        "\n",
        "$$$$\n",
        "\n",
        "\n",
        "Las etiquetas pueden tener atributos. Por ejemplo:\n",
        "\n",
        "`<div class=\"text-monospace\" id=\"name_132\", href=\"www.example.com\"> Contenido de la pagina </div>`\n",
        "\n",
        "Esta etiqueta `div` tiene los siguientes atributos:\n",
        "\n",
        "+ class: atributo con valor \"text-monospace\". La clase no es única en la página, varios elementos pueden tener la misma clase.\n",
        "+ id: atributo con valor \"name_132\". El id de una etiqueta la identifica de manera unívoca, no puede haber dos etiquetas con el mismo id.\n",
        "+ href: atributo con valor \"www.example.com\". El href suele contener el link a otra parte de la página.\n",
        "\n",
        "Siguiendo con la analogía de las cajas, si una etiqueta de HTML es una caja, los atributos serían las pegatinas pegadas en la tapa de la caja.\n",
        "\n",
        "Conociendo cual es el contenido que queremos extraer, debemos encontrar las **etiquetas** que nos interesan dentro de todo el HTML de la página web."
      ]
    },
    {
      "cell_type": "markdown",
      "metadata": {
        "id": "F-yRUsk8gT4E"
      },
      "source": [
        "Para ello vamos a usar **[BeautifulSoup](https://www.crummy.com/software/BeautifulSoup/bs4/doc/)**."
      ]
    },
    {
      "cell_type": "code",
      "execution_count": null,
      "metadata": {
        "id": "NCO_EbNigT4E"
      },
      "outputs": [],
      "source": [
        "#%pip install beautifulsoup4"
      ]
    },
    {
      "cell_type": "code",
      "execution_count": 2,
      "metadata": {
        "id": "7j8giB5MgT4H"
      },
      "outputs": [],
      "source": [
        "import requests as req\n",
        "from bs4 import BeautifulSoup as bs #este alias es standard"
      ]
    },
    {
      "cell_type": "markdown",
      "metadata": {
        "id": "Wx1oq9PrgT4I"
      },
      "source": [
        "# 3 - Scrapeando **WIKIPEDIA**\n",
        "\n",
        "Vamos a echar un ojo a esta web **[Países europeos según esperanza de vida](https://en.wikipedia.org/wiki/List_of_European_countries_by_life_expectancy)** para intentar sacar la información de la tabla que contiene la esperanza de vida de los países europeos."
      ]
    },
    {
      "cell_type": "markdown",
      "metadata": {
        "id": "5E8jOiYhu1J_"
      },
      "source": [
        "Hasta ahora habíamos visto `requests`para hacer llamadas a url (normalmente endpoints de las APIS que hemos estado mirando)\n",
        "\n",
        "¿Y si llamamos a una url de una web digamos `normal`?"
      ]
    },
    {
      "cell_type": "code",
      "execution_count": 3,
      "metadata": {
        "colab": {
          "base_uri": "https://localhost:8080/",
          "height": 157
        },
        "id": "fIghRQ_agT4J",
        "outputId": "d5254b86-0b8c-48a2-f639-a92a3a9b65f3"
      },
      "outputs": [
        {
          "data": {
            "text/plain": [
              "'<!DOCTYPE html>\\n<html class=\"client-nojs vector-feature-language-in-header-enabled vector-feature-language-in-main-page-header-disabled vector-feature-sticky-header-disabled vector-feature-page-tools-pinned-disabled vector-feature-toc-pinned-clientpref-1 vector-feature-main-menu-pinned-disabled vector-feature-limited-width-clientpref-1 vector-feature-limited-width-content-enabled vector-feature-custom-font-size-clientpref-1 vector-feature-appearance-enabled vector-feature-appearance-pinned-clientpref-1 vector-feature-night-mode-enabled skin-theme-clientpref-day vector-toc-available\" lang=\"en\" dir=\"ltr\">\\n<head>\\n<meta charset=\"UTF-8\">\\n<title>List of European countries by life expectancy - Wikipedia</title>\\n<script>(function(){var className=\"client-js vector-feature-language-in-header-enabled vector-feature-language-in-main-page-header-disabled vector-feature-sticky-header-disabled vector-feature-page-tools-pinned-disabled vector-feature-toc-pinned-clientpref-1 vector-feature-main-menu-pi'"
            ]
          },
          "execution_count": 3,
          "metadata": {},
          "output_type": "execute_result"
        }
      ],
      "source": [
        "#url de la pagina a scrapear\n",
        "url = 'https://en.wikipedia.org/wiki/List_of_European_countries_by_life_expectancy'\n",
        "\n",
        "html = req.get(url).text #obtenemos el contenido de la pagina\n",
        "html[:1000] #mostramos los primeros 1000 caracteres"
      ]
    },
    {
      "cell_type": "code",
      "execution_count": 4,
      "metadata": {
        "colab": {
          "base_uri": "https://localhost:8080/",
          "height": 157
        },
        "id": "sS-BcQM2gT4K",
        "outputId": "0d35b6b6-e364-4d32-b751-de8a0895b700"
      },
      "outputs": [
        {
          "data": {
            "text/plain": [
              "'\\n<body class=\"skin--responsive skin-vector skin-vector-search-vue mediawiki ltr sitedir-ltr mw-hide-empty-elt ns-0 ns-subject mw-editable page-List_of_European_countries_by_life_expectancy rootpage-List_of_European_countries_by_life_expectancy skin-vector-2022 action-view\"><a class=\"mw-jump-link\" href=\"#bodyContent\">Jump to content</a>\\n<div class=\"vector-header-container\">\\n\\t<header class=\"vector-header mw-header\">\\n\\t\\t<div class=\"vector-header-start\">\\n\\t\\t\\t<nav class=\"vector-main-menu-landmark\" aria-label=\"Site\">\\n\\t\\t\\t\\t\\n<div id=\"vector-main-menu-dropdown\" class=\"vector-dropdown vector-main-menu-dropdown vector-button-flush-left vector-button-flush-right\"  >\\n\\t<input type=\"checkbox\" id=\"vector-main-menu-dropdown-checkbox\" role=\"button\" aria-haspopup=\"true\" data-event-name=\"ui.dropdown-vector-main-menu-dropdown\" class=\"vector-dropdown-checkbox \"  aria-label=\"Main menu\"  >\\n\\t<label id=\"vector-main-menu-dropdown-label\" for=\"vector-main-menu-dropdown-checkbox\" class=\"vector-dropdown-label cdx-butto'"
            ]
          },
          "execution_count": 4,
          "metadata": {},
          "output_type": "execute_result"
        }
      ],
      "source": [
        "str(html).split('/head>')[1][:1000] #mostramos los primeros 1000 caracteres de la seccion body / Esto es una gualtrapada para ver el codigo html de la pagina"
      ]
    },
    {
      "cell_type": "markdown",
      "metadata": {
        "id": "NSXqfGkpFqpk"
      },
      "source": [
        "Esto es infumable y para nada práctico. Para ello BeautifulSoup entra en juego para facilitarnos la vida.\n",
        "\n",
        "Vimos en la docu, la manera de pasarle un `html` para que nos lo parsee (traduzca/convierta) en un objeto de BeautifulSoup muchos más manejable, amigable y con muchos métodos que nos facilitan el poder navegar el `html` para encontrar el contenido exacto que queremos extraer.\n",
        "\n",
        "Así, al **parsearlo**, es mucho más **legible**. A este objeto por convención se le llama `soup`."
      ]
    },
    {
      "cell_type": "code",
      "execution_count": 5,
      "metadata": {
        "colab": {
          "base_uri": "https://localhost:8080/",
          "height": 186
        },
        "id": "XtWBIiA4gT4L",
        "outputId": "ff3e478f-7517-44e3-b520-7e9ae774877a",
        "scrolled": false
      },
      "outputs": [
        {
          "data": {
            "text/plain": [
              "bs4.BeautifulSoup"
            ]
          },
          "execution_count": 5,
          "metadata": {},
          "output_type": "execute_result"
        }
      ],
      "source": [
        "soup = bs(html, 'html.parser') #creamos el objeto soup, y le decimos que lo que le pasamos tiene pinta de html\n",
        "type(soup)"
      ]
    },
    {
      "cell_type": "markdown",
      "metadata": {
        "id": "oHe0ZhK8GQ-i"
      },
      "source": [
        "Vamos a acceder a la tabla que hay en la web. \n",
        "\n",
        "En primer lugar es necesario entender cómo se estructura una tabla en código HTML.\n",
        "\n",
        "Gracias a BeautifulSoup podemos encontrar los diferentes **elementos** de una manera muy **veloz**.\n",
        "\n",
        "Hay varias funciones para encontrar elementos concretos. `find()` y `find_all()` son dos ejemplos."
      ]
    },
    {
      "cell_type": "markdown",
      "metadata": {
        "id": "hBi5YagriQvD"
      },
      "source": [
        "Vamos a ver como es la **estructura general** de una tabla en html:\n",
        "\n",
        "![](https://www.corelangs.com/html/tables/img/html-table-structure.png)"
      ]
    },
    {
      "cell_type": "markdown",
      "metadata": {
        "id": "91yf9l_AjOku"
      },
      "source": [
        "![](https://www.ourtutorials.in/html/img/table1.JPG)"
      ]
    },
    {
      "cell_type": "code",
      "execution_count": 7,
      "metadata": {
        "id": "5CeJT5w_gT4M"
      },
      "outputs": [
        {
          "data": {
            "text/plain": [
              "<table class=\"wikitable sortable mw-datatable static-row-numbers sticky-header-multi sort-under col1left col21right\" style=\"text-align:center;\">\n",
              "<tbody><tr>\n",
              "<th rowspan=\"2\" style=\"vertical-align:middle;\">Countries and<br/>territories\n",
              "</th>\n",
              "<th colspan=\"7\">Life expectancy for population in general\n",
              "</th>\n",
              "<th colspan=\"4\" style=\"border-left-width:2px;\">Life expectancy for male\n",
              "</th>\n",
              "<th colspan=\"4\" style=\"border-left-width:2px;\">Life expectancy for female\n",
              "</th>\n",
              "<th colspan=\"4\" style=\"border-left-width:2px;\"><style data-mw-deduplicate=\"TemplateStyles:r1038841319\">.mw-parser-output .tooltip-dotted{border-bottom:1px dotted;cursor:help}</style><span class=\"rt-commentedText tooltip tooltip-dotted\" title=\"Difference in life expectancy for female and male\">Sex gap</span>\n",
              "</th>\n",
              "<th rowspan=\"2\" style=\"border-left-width:2px; text-align:middle;\"><link href=\"mw-data:TemplateStyles:r1038841319\" rel=\"mw-deduplicated-inline-style\"/><span class=\"rt-commentedText tooltip tooltip-dotted\" title=\"Total population, as of 1 July 2023, in thousands\">Population<br/>(thous.)</span>\n",
              "</th>\n",
              "<th rowspan=\"2\">\n",
              "</th></tr>\n",
              "<tr>\n",
              "<th style=\"vertical-align:middle;\"><link href=\"mw-data:TemplateStyles:r1038841319\" rel=\"mw-deduplicated-inline-style\"/><span class=\"rt-commentedText tooltip tooltip-dotted\" title=\"Life expectancy at birth\">at birth</span>\n",
              "</th>\n",
              "<th><link href=\"mw-data:TemplateStyles:r1038841319\" rel=\"mw-deduplicated-inline-style\"/><span class=\"rt-commentedText tooltip tooltip-dotted\" title=\"Bonus for survival - additional years of life expectancy (minus years already lived), received by a person if he lives to 15 years old, compared with life expectancy at birth. Big bonus here means high child mortality.\">bonus<br/>0→15</span>\n",
              "</th>\n",
              "<th style=\"vertical-align:middle;\"><link href=\"mw-data:TemplateStyles:r1038841319\" rel=\"mw-deduplicated-inline-style\"/><span class=\"rt-commentedText tooltip tooltip-dotted\" title=\"Life expectancy at age 15\">at 15</span>\n",
              "</th>\n",
              "<th><link href=\"mw-data:TemplateStyles:r1038841319\" rel=\"mw-deduplicated-inline-style\"/><span class=\"rt-commentedText tooltip tooltip-dotted\" title=\"Bonus for survival - additional years of life expectancy (minus years already lived), received by a person if he lives to 65 years old, compared with life expectancy at age 15. Big bonus here means high mortality in adulthood.\">bonus<br/>15→65</span>\n",
              "</th>\n",
              "<th style=\"vertical-align:middle;\"><link href=\"mw-data:TemplateStyles:r1038841319\" rel=\"mw-deduplicated-inline-style\"/><span class=\"rt-commentedText tooltip tooltip-dotted\" title=\"Life expectancy at age 65\">at 65</span>\n",
              "</th>\n",
              "<th><link href=\"mw-data:TemplateStyles:r1038841319\" rel=\"mw-deduplicated-inline-style\"/><span class=\"rt-commentedText tooltip tooltip-dotted\" title=\"Bonus for survival - additional years of life expectancy (minus years already lived), received by a person if he lives to 80 years old, compared with life expectancy at age 65. Big bonus here means high mortality in adulthood. If life expectancy at the age of 65 was less than 15 years then this bonus has already been partially spent.\">bonus<br/>65→80</span>\n",
              "</th>\n",
              "<th style=\"vertical-align:middle;\"><link href=\"mw-data:TemplateStyles:r1038841319\" rel=\"mw-deduplicated-inline-style\"/><span class=\"rt-commentedText tooltip tooltip-dotted\" title=\"Life expectancy at age 80\">at 80</span>\n",
              "</th>\n",
              "<th style=\"vertical-align:middle;border-left-width:2px;\">at birth\n",
              "</th>\n",
              "<th style=\"vertical-align:middle;\">at 15\n",
              "</th>\n",
              "<th style=\"vertical-align:middle;\">at 65\n",
              "</th>\n",
              "<th style=\"vertical-align:middle;\">at 80\n",
              "</th>\n",
              "<th style=\"vertical-align:middle;border-left-width:2px;\">at birth\n",
              "</th>\n",
              "<th style=\"vertical-align:middle;\">at 15\n",
              "</th>\n",
              "<th style=\"vertical-align:middle;\">at 65\n",
              "</th>\n",
              "<th style=\"vertical-align:middle;\">at 80\n",
              "</th>\n",
              "<th style=\"vertical-align:middle;border-left-width:2px;\">at birth\n",
              "</th>\n",
              "<th style=\"vertical-align:middle;\">at 15\n",
              "</th>\n",
              "<th style=\"vertical-align:middle;\">at 65\n",
              "</th>\n",
              "<th style=\"vertical-align:middle;\">at 80\n",
              "</th></tr>\n",
              "<tr>\n",
              "<td><span class=\"flagicon\" style=\"display:inline-block;width:25px;\"><span class=\"mw-image-border\" typeof=\"mw:File\"><span><img alt=\"\" class=\"mw-file-element\" data-file-height=\"800\" data-file-width=\"1000\" decoding=\"async\" height=\"15\" src=\"//upload.wikimedia.org/wikipedia/commons/thumb/e/ea/Flag_of_Monaco.svg/19px-Flag_of_Monaco.svg.png\" srcset=\"//upload.wikimedia.org/wikipedia/commons/thumb/e/ea/Flag_of_Monaco.svg/29px-Flag_of_Monaco.svg.png 1.5x, //upload.wikimedia.org/wikipedia/commons/thumb/e/ea/Flag_of_Monaco.svg/38px-Flag_of_Monaco.svg.png 2x\" width=\"19\"/></span></span></span> <a href=\"/wiki/Monaco\" title=\"Monaco\">Monaco</a></td>\n",
              "<td style=\"background:#e0ffd8;\">86.37</td>\n",
              "<td>0.45</td>\n",
              "<td style=\"background:#e0ffd8;\">71.82</td>\n",
              "<td>1.40</td>\n",
              "<td style=\"background:#e0ffd8;\">23.21</td>\n",
              "<td>3.09</td>\n",
              "<td style=\"background:#e0ffd8;\">11.30</td>\n",
              "<td style=\"background:#eaf3ff;border-left-width:2px;\">84.45</td>\n",
              "<td style=\"background:#eaf3ff;\">69.90</td>\n",
              "<td style=\"background:#eaf3ff;\">21.56</td>\n",
              "<td style=\"background:#eaf3ff;\">10.14</td>\n",
              "<td style=\"background:#fee7f6;border-left-width:2px;\">88.50</td>\n",
              "<td style=\"background:#fee7f6;\">73.95</td>\n",
              "<td style=\"background:#fee7f6;\">25.05</td>\n",
              "<td style=\"background:#fee7f6;\">12.50</td>\n",
              "<td style=\"border-left-width:2px;\">4.06</td>\n",
              "<td>4.05</td>\n",
              "<td>3.49</td>\n",
              "<td>2.36</td>\n",
              "<td style=\"border-left-width:2px;\">39</td>\n",
              "<td><span class=\"flagicon\"><span class=\"mw-image-border\" typeof=\"mw:File\"><a href=\"/wiki/Monaco\" title=\"Monaco\"><img alt=\"Monaco\" class=\"mw-file-element\" data-file-height=\"800\" data-file-width=\"1000\" decoding=\"async\" height=\"15\" src=\"//upload.wikimedia.org/wikipedia/commons/thumb/e/ea/Flag_of_Monaco.svg/19px-Flag_of_Monaco.svg.png\" srcset=\"//upload.wikimedia.org/wikipedia/commons/thumb/e/ea/Flag_of_Monaco.svg/29px-Flag_of_Monaco.svg.png 1.5x, //upload.wikimedia.org/wikipedia/commons/thumb/e/ea/Flag_of_Monaco.svg/38px-Flag_of_Monaco.svg.png 2x\" width=\"19\"/></a></span></span>\n",
              "</td></tr>\n",
              "<tr>\n",
              "<td><span class=\"flagicon\" style=\"display:inline-block;width:25px;\"><span class=\"mw-image-border\" typeof=\"mw:File\"><span><img alt=\"\" class=\"mw-file-element\" data-file-height=\"600\" data-file-width=\"800\" decoding=\"async\" height=\"15\" src=\"//upload.wikimedia.org/wikipedia/commons/thumb/b/b1/Flag_of_San_Marino.svg/20px-Flag_of_San_Marino.svg.png\" srcset=\"//upload.wikimedia.org/wikipedia/commons/thumb/b/b1/Flag_of_San_Marino.svg/31px-Flag_of_San_Marino.svg.png 1.5x, //upload.wikimedia.org/wikipedia/commons/thumb/b/b1/Flag_of_San_Marino.svg/40px-Flag_of_San_Marino.svg.png 2x\" width=\"20\"/></span></span></span> <a href=\"/wiki/San_Marino\" title=\"San Marino\">San Marino</a></td>\n",
              "<td style=\"background:#e0ffd8;\">85.71</td>\n",
              "<td>0.15</td>\n",
              "<td style=\"background:#e0ffd8;\">70.86</td>\n",
              "<td>1.78</td>\n",
              "<td style=\"background:#e0ffd8;\">22.64</td>\n",
              "<td>2.88</td>\n",
              "<td style=\"background:#e0ffd8;\">10.52</td>\n",
              "<td style=\"background:#eaf3ff;border-left-width:2px;\">84.21</td>\n",
              "<td style=\"background:#eaf3ff;\">69.36</td>\n",
              "<td style=\"background:#eaf3ff;\">21.25</td>\n",
              "<td style=\"background:#eaf3ff;\">9.52</td>\n",
              "<td style=\"background:#fee7f6;border-left-width:2px;\">87.10</td>\n",
              "<td style=\"background:#fee7f6;\">72.24</td>\n",
              "<td style=\"background:#fee7f6;\">23.90</td>\n",
              "<td style=\"background:#fee7f6;\">11.31</td>\n",
              "<td style=\"border-left-width:2px;\">2.89</td>\n",
              "<td>2.88</td>\n",
              "<td>2.65</td>\n",
              "<td>1.79</td>\n",
              "<td style=\"border-left-width:2px;\">34</td>\n",
              "<td><span class=\"flagicon\"><span class=\"mw-image-border\" typeof=\"mw:File\"><a href=\"/wiki/San_Marino\" title=\"San Marino\"><img alt=\"San Marino\" class=\"mw-file-element\" data-file-height=\"600\" data-file-width=\"800\" decoding=\"async\" height=\"15\" src=\"//upload.wikimedia.org/wikipedia/commons/thumb/b/b1/Flag_of_San_Marino.svg/20px-Flag_of_San_Marino.svg.png\" srcset=\"//upload.wikimedia.org/wikipedia/commons/thumb/b/b1/Flag_of_San_Marino.svg/31px-Flag_of_San_Marino.svg.png 1.5x, //upload.wikimedia.org/wikipedia/commons/thumb/b/b1/Flag_of_San_Marino.svg/40px-Flag_of_San_Marino.svg.png 2x\" width=\"20\"/></a></span></span>\n",
              "</td></tr>\n",
              "<tr>\n",
              "<td><span class=\"flagicon\" style=\"display:inline-block;width:25px;\"><span class=\"mw-image-border\" typeof=\"mw:File\"><span><img alt=\"\" class=\"mw-file-element\" data-file-height=\"700\" data-file-width=\"1000\" decoding=\"async\" height=\"15\" src=\"//upload.wikimedia.org/wikipedia/commons/thumb/1/19/Flag_of_Andorra.svg/22px-Flag_of_Andorra.svg.png\" srcset=\"//upload.wikimedia.org/wikipedia/commons/thumb/1/19/Flag_of_Andorra.svg/33px-Flag_of_Andorra.svg.png 1.5x, //upload.wikimedia.org/wikipedia/commons/thumb/1/19/Flag_of_Andorra.svg/43px-Flag_of_Andorra.svg.png 2x\" width=\"22\"/></span></span></span> <a href=\"/wiki/Andorra\" title=\"Andorra\">Andorra</a></td>\n",
              "<td style=\"background:#e0ffd8;\">84.04</td>\n",
              "<td>0.58</td>\n",
              "<td style=\"background:#e0ffd8;\">69.62</td>\n",
              "<td>1.85</td>\n",
              "<td style=\"background:#e0ffd8;\">21.47</td>\n",
              "<td>3.72</td>\n",
              "<td style=\"background:#e0ffd8;\">10.19</td>\n",
              "<td style=\"background:#eaf3ff;border-left-width:2px;\">82.10</td>\n",
              "<td style=\"background:#eaf3ff;\">67.68</td>\n",
              "<td style=\"background:#eaf3ff;\">19.81</td>\n",
              "<td style=\"background:#eaf3ff;\">9.03</td>\n",
              "<td style=\"background:#fee7f6;border-left-width:2px;\">86.11</td>\n",
              "<td style=\"background:#fee7f6;\">71.70</td>\n",
              "<td style=\"background:#fee7f6;\">23.18</td>\n",
              "<td style=\"background:#fee7f6;\">11.16</td>\n",
              "<td style=\"border-left-width:2px;\">4.01</td>\n",
              "<td>4.02</td>\n",
              "<td>3.36</td>\n",
              "<td>2.13</td>\n",
              "<td style=\"border-left-width:2px;\">81</td>\n",
              "<td><span class=\"flagicon\"><span class=\"mw-image-border\" typeof=\"mw:File\"><a href=\"/wiki/Andorra\" title=\"Andorra\"><img alt=\"Andorra\" class=\"mw-file-element\" data-file-height=\"700\" data-file-width=\"1000\" decoding=\"async\" height=\"15\" src=\"//upload.wikimedia.org/wikipedia/commons/thumb/1/19/Flag_of_Andorra.svg/22px-Flag_of_Andorra.svg.png\" srcset=\"//upload.wikimedia.org/wikipedia/commons/thumb/1/19/Flag_of_Andorra.svg/33px-Flag_of_Andorra.svg.png 1.5x, //upload.wikimedia.org/wikipedia/commons/thumb/1/19/Flag_of_Andorra.svg/43px-Flag_of_Andorra.svg.png 2x\" width=\"22\"/></a></span></span>\n",
              "</td></tr>\n",
              "<tr>\n",
              "<td><span class=\"flagicon\" style=\"display:inline-block;width:25px;\"><span class=\"mw-image-border\" typeof=\"mw:File\"><span><img alt=\"\" class=\"mw-file-element\" data-file-height=\"512\" data-file-width=\"512\" decoding=\"async\" height=\"16\" src=\"//upload.wikimedia.org/wikipedia/commons/thumb/0/08/Flag_of_Switzerland_%28Pantone%29.svg/16px-Flag_of_Switzerland_%28Pantone%29.svg.png\" srcset=\"//upload.wikimedia.org/wikipedia/commons/thumb/0/08/Flag_of_Switzerland_%28Pantone%29.svg/24px-Flag_of_Switzerland_%28Pantone%29.svg.png 1.5x, //upload.wikimedia.org/wikipedia/commons/thumb/0/08/Flag_of_Switzerland_%28Pantone%29.svg/32px-Flag_of_Switzerland_%28Pantone%29.svg.png 2x\" width=\"16\"/></span></span></span> <a href=\"/wiki/Switzerland\" title=\"Switzerland\">Switzerland</a></td>\n",
              "<td style=\"background:#e0ffd8;\">83.95</td>\n",
              "<td>0.36</td>\n",
              "<td style=\"background:#e0ffd8;\">69.31</td>\n",
              "<td>2.20</td>\n",
              "<td style=\"background:#e0ffd8;\">21.51</td>\n",
              "<td>3.46</td>\n",
              "<td style=\"background:#e0ffd8;\">9.97</td>\n",
              "<td style=\"background:#eaf3ff;border-left-width:2px;\">82.01</td>\n",
              "<td style=\"background:#eaf3ff;\">67.38</td>\n",
              "<td style=\"background:#eaf3ff;\">20.05</td>\n",
              "<td style=\"background:#eaf3ff;\">9.08</td>\n",
              "<td style=\"background:#fee7f6;border-left-width:2px;\">85.83</td>\n",
              "<td style=\"background:#fee7f6;\">71.17</td>\n",
              "<td style=\"background:#fee7f6;\">22.83</td>\n",
              "<td style=\"background:#fee7f6;\">10.63</td>\n",
              "<td style=\"border-left-width:2px;\">3.82</td>\n",
              "<td>3.80</td>\n",
              "<td>2.78</td>\n",
              "<td>1.54</td>\n",
              "<td style=\"border-left-width:2px;\">8871</td>\n",
              "<td><span class=\"flagicon\"><span class=\"mw-image-border\" typeof=\"mw:File\"><a href=\"/wiki/Switzerland\" title=\"Switzerland\"><img alt=\"Switzerland\" class=\"mw-file-element\" data-file-height=\"512\" data-file-width=\"512\" decoding=\"async\" height=\"16\" src=\"//upload.wikimedia.org/wikipedia/commons/thumb/0/08/Flag_of_Switzerland_%28Pantone%29.svg/16px-Flag_of_Switzerland_%28Pantone%29.svg.png\" srcset=\"//upload.wikimedia.org/wikipedia/commons/thumb/0/08/Flag_of_Switzerland_%28Pantone%29.svg/24px-Flag_of_Switzerland_%28Pantone%29.svg.png 1.5x, //upload.wikimedia.org/wikipedia/commons/thumb/0/08/Flag_of_Switzerland_%28Pantone%29.svg/32px-Flag_of_Switzerland_%28Pantone%29.svg.png 2x\" width=\"16\"/></a></span></span>\n",
              "</td></tr>\n",
              "<tr>\n",
              "<td><span class=\"flagicon\" style=\"display:inline-block;width:25px;\"><span class=\"mw-image-border\" typeof=\"mw:File\"><span><img alt=\"\" class=\"mw-file-element\" data-file-height=\"1000\" data-file-width=\"1500\" decoding=\"async\" height=\"15\" src=\"//upload.wikimedia.org/wikipedia/en/thumb/0/03/Flag_of_Italy.svg/23px-Flag_of_Italy.svg.png\" srcset=\"//upload.wikimedia.org/wikipedia/en/thumb/0/03/Flag_of_Italy.svg/35px-Flag_of_Italy.svg.png 1.5x, //upload.wikimedia.org/wikipedia/en/thumb/0/03/Flag_of_Italy.svg/45px-Flag_of_Italy.svg.png 2x\" width=\"23\"/></span></span></span> <a href=\"/wiki/Italy\" title=\"Italy\">Italy</a></td>\n",
              "<td style=\"background:#e0ffd8;\">83.72</td>\n",
              "<td>0.26</td>\n",
              "<td style=\"background:#e0ffd8;\">68.98</td>\n",
              "<td>2.33</td>\n",
              "<td style=\"background:#e0ffd8;\">21.31</td>\n",
              "<td>3.46</td>\n",
              "<td style=\"background:#e0ffd8;\">9.77</td>\n",
              "<td style=\"background:#eaf3ff;border-left-width:2px;\">81.57</td>\n",
              "<td style=\"background:#eaf3ff;\">66.84</td>\n",
              "<td style=\"background:#eaf3ff;\">19.67</td>\n",
              "<td style=\"background:#eaf3ff;\">8.77</td>\n",
              "<td style=\"background:#fee7f6;border-left-width:2px;\">85.75</td>\n",
              "<td style=\"background:#fee7f6;\">70.99</td>\n",
              "<td style=\"background:#fee7f6;\">22.76</td>\n",
              "<td style=\"background:#fee7f6;\">10.50</td>\n",
              "<td style=\"border-left-width:2px;\">4.18</td>\n",
              "<td>4.15</td>\n",
              "<td>3.09</td>\n",
              "<td>1.73</td>\n",
              "<td style=\"border-left-width:2px;\">59499</td>\n",
              "<td><span class=\"flagicon\"><span class=\"mw-image-border\" typeof=\"mw:File\"><a href=\"/wiki/Italy\" title=\"Italy\"><img alt=\"Italy\" class=\"mw-file-element\" data-file-height=\"1000\" data-file-width=\"1500\" decoding=\"async\" height=\"15\" src=\"//upload.wikimedia.org/wikipedia/en/thumb/0/03/Flag_of_Italy.svg/23px-Flag_of_Italy.svg.png\" srcset=\"//upload.wikimedia.org/wikipedia/en/thumb/0/03/Flag_of_Italy.svg/35px-Flag_of_Italy.svg.png 1.5x, //upload.wikimedia.org/wikipedia/en/thumb/0/03/Flag_of_Italy.svg/45px-Flag_of_Italy.svg.png 2x\" width=\"23\"/></a></span></span>\n",
              "</td></tr>\n",
              "<tr>\n",
              "<td><span class=\"flagicon\" style=\"display:inline-block;width:25px;\"><span class=\"mw-image-border\" typeof=\"mw:File\"><span><img alt=\"\" class=\"mw-file-element\" data-file-height=\"500\" data-file-width=\"750\" decoding=\"async\" height=\"15\" src=\"//upload.wikimedia.org/wikipedia/en/thumb/9/9a/Flag_of_Spain.svg/23px-Flag_of_Spain.svg.png\" srcset=\"//upload.wikimedia.org/wikipedia/en/thumb/9/9a/Flag_of_Spain.svg/35px-Flag_of_Spain.svg.png 1.5x, //upload.wikimedia.org/wikipedia/en/thumb/9/9a/Flag_of_Spain.svg/45px-Flag_of_Spain.svg.png 2x\" width=\"23\"/></span></span></span> <a href=\"/wiki/Spain\" title=\"Spain\">Spain</a></td>\n",
              "<td style=\"background:#e0ffd8;\">83.67</td>\n",
              "<td>0.29</td>\n",
              "<td style=\"background:#e0ffd8;\">68.96</td>\n",
              "<td>2.58</td>\n",
              "<td style=\"background:#e0ffd8;\">21.54</td>\n",
              "<td>3.57</td>\n",
              "<td style=\"background:#e0ffd8;\">10.11</td>\n",
              "<td style=\"background:#eaf3ff;border-left-width:2px;\">80.96</td>\n",
              "<td style=\"background:#eaf3ff;\">66.26</td>\n",
              "<td style=\"background:#eaf3ff;\">19.48</td>\n",
              "<td style=\"background:#eaf3ff;\">8.96</td>\n",
              "<td style=\"background:#fee7f6;border-left-width:2px;\">86.31</td>\n",
              "<td style=\"background:#fee7f6;\">71.58</td>\n",
              "<td style=\"background:#fee7f6;\">23.40</td>\n",
              "<td style=\"background:#fee7f6;\">10.94</td>\n",
              "<td style=\"border-left-width:2px;\">5.35</td>\n",
              "<td>5.32</td>\n",
              "<td>3.92</td>\n",
              "<td>1.98</td>\n",
              "<td style=\"border-left-width:2px;\">47912</td>\n",
              "<td><span class=\"flagicon\"><span class=\"mw-image-border\" typeof=\"mw:File\"><a href=\"/wiki/Spain\" title=\"Spain\"><img alt=\"Spain\" class=\"mw-file-element\" data-file-height=\"500\" data-file-width=\"750\" decoding=\"async\" height=\"15\" src=\"//upload.wikimedia.org/wikipedia/en/thumb/9/9a/Flag_of_Spain.svg/23px-Flag_of_Spain.svg.png\" srcset=\"//upload.wikimedia.org/wikipedia/en/thumb/9/9a/Flag_of_Spain.svg/35px-Flag_of_Spain.svg.png 1.5x, //upload.wikimedia.org/wikipedia/en/thumb/9/9a/Flag_of_Spain.svg/45px-Flag_of_Spain.svg.png 2x\" width=\"23\"/></a></span></span>\n",
              "</td></tr>\n",
              "<tr>\n",
              "<td><span class=\"flagicon\" style=\"display:inline-block;width:25px;\"><span class=\"mw-image-border\" typeof=\"mw:File\"><span><img alt=\"\" class=\"mw-file-element\" data-file-height=\"600\" data-file-width=\"1000\" decoding=\"async\" height=\"14\" src=\"//upload.wikimedia.org/wikipedia/commons/thumb/4/47/Flag_of_Liechtenstein.svg/23px-Flag_of_Liechtenstein.svg.png\" srcset=\"//upload.wikimedia.org/wikipedia/commons/thumb/4/47/Flag_of_Liechtenstein.svg/35px-Flag_of_Liechtenstein.svg.png 1.5x, //upload.wikimedia.org/wikipedia/commons/thumb/4/47/Flag_of_Liechtenstein.svg/46px-Flag_of_Liechtenstein.svg.png 2x\" width=\"23\"/></span></span></span> <a href=\"/wiki/Liechtenstein\" title=\"Liechtenstein\">Liechtenstein</a></td>\n",
              "<td style=\"background:#e0ffd8;\">83.63</td>\n",
              "<td>0.62</td>\n",
              "<td style=\"background:#e0ffd8;\">69.25</td>\n",
              "<td>1.92</td>\n",
              "<td style=\"background:#e0ffd8;\">21.17</td>\n",
              "<td>3.81</td>\n",
              "<td style=\"background:#e0ffd8;\">9.98</td>\n",
              "<td style=\"background:#eaf3ff;border-left-width:2px;\">81.84</td>\n",
              "<td style=\"background:#eaf3ff;\">67.43</td>\n",
              "<td style=\"background:#eaf3ff;\">19.62</td>\n",
              "<td style=\"background:#eaf3ff;\">8.91</td>\n",
              "<td style=\"background:#fee7f6;border-left-width:2px;\">85.32</td>\n",
              "<td style=\"background:#fee7f6;\">70.97</td>\n",
              "<td style=\"background:#fee7f6;\">22.58</td>\n",
              "<td style=\"background:#fee7f6;\">10.75</td>\n",
              "<td style=\"border-left-width:2px;\">3.48</td>\n",
              "<td>3.54</td>\n",
              "<td>2.96</td>\n",
              "<td>1.84</td>\n",
              "<td style=\"border-left-width:2px;\">40</td>\n",
              "<td><span class=\"flagicon\"><span class=\"mw-image-border\" typeof=\"mw:File\"><a href=\"/wiki/Liechtenstein\" title=\"Liechtenstein\"><img alt=\"Liechtenstein\" class=\"mw-file-element\" data-file-height=\"600\" data-file-width=\"1000\" decoding=\"async\" height=\"14\" src=\"//upload.wikimedia.org/wikipedia/commons/thumb/4/47/Flag_of_Liechtenstein.svg/23px-Flag_of_Liechtenstein.svg.png\" srcset=\"//upload.wikimedia.org/wikipedia/commons/thumb/4/47/Flag_of_Liechtenstein.svg/35px-Flag_of_Liechtenstein.svg.png 1.5x, //upload.wikimedia.org/wikipedia/commons/thumb/4/47/Flag_of_Liechtenstein.svg/46px-Flag_of_Liechtenstein.svg.png 2x\" width=\"23\"/></a></span></span>\n",
              "</td></tr>\n",
              "<tr>\n",
              "<td><span class=\"flagicon\" style=\"display:inline-block;width:25px;\"><span class=\"mw-image-border\" typeof=\"mw:File\"><span><img alt=\"\" class=\"mw-file-element\" data-file-height=\"500\" data-file-width=\"1000\" decoding=\"async\" height=\"12\" src=\"//upload.wikimedia.org/wikipedia/commons/thumb/0/02/Flag_of_Gibraltar.svg/23px-Flag_of_Gibraltar.svg.png\" srcset=\"//upload.wikimedia.org/wikipedia/commons/thumb/0/02/Flag_of_Gibraltar.svg/35px-Flag_of_Gibraltar.svg.png 1.5x, //upload.wikimedia.org/wikipedia/commons/thumb/0/02/Flag_of_Gibraltar.svg/46px-Flag_of_Gibraltar.svg.png 2x\" width=\"23\"/></span></span></span> <a href=\"/wiki/Gibraltar\" title=\"Gibraltar\">Gibraltar</a></td>\n",
              "<td style=\"background:#e0ffd8;\">83.55</td>\n",
              "<td>1.05</td>\n",
              "<td style=\"background:#e0ffd8;\">69.60</td>\n",
              "<td>2.66</td>\n",
              "<td style=\"background:#e0ffd8;\">22.26</td>\n",
              "<td>3.70</td>\n",
              "<td style=\"background:#e0ffd8;\">10.96</td>\n",
              "<td style=\"background:#eaf3ff;border-left-width:2px;\">80.92</td>\n",
              "<td style=\"background:#eaf3ff;\">67.08</td>\n",
              "<td style=\"background:#eaf3ff;\">20.40</td>\n",
              "<td style=\"background:#eaf3ff;\">9.61</td>\n",
              "<td style=\"background:#fee7f6;border-left-width:2px;\">86.14</td>\n",
              "<td style=\"background:#fee7f6;\">72.05</td>\n",
              "<td style=\"background:#fee7f6;\">23.95</td>\n",
              "<td style=\"background:#fee7f6;\">11.93</td>\n",
              "<td style=\"border-left-width:2px;\">5.23</td>\n",
              "<td>4.97</td>\n",
              "<td>3.56</td>\n",
              "<td>2.31</td>\n",
              "<td style=\"border-left-width:2px;\">38</td>\n",
              "<td><span class=\"flagicon\"><span class=\"mw-image-border\" typeof=\"mw:File\"><a href=\"/wiki/Gibraltar\" title=\"Gibraltar\"><img alt=\"Gibraltar\" class=\"mw-file-element\" data-file-height=\"500\" data-file-width=\"1000\" decoding=\"async\" height=\"12\" src=\"//upload.wikimedia.org/wikipedia/commons/thumb/0/02/Flag_of_Gibraltar.svg/23px-Flag_of_Gibraltar.svg.png\" srcset=\"//upload.wikimedia.org/wikipedia/commons/thumb/0/02/Flag_of_Gibraltar.svg/35px-Flag_of_Gibraltar.svg.png 1.5x, //upload.wikimedia.org/wikipedia/commons/thumb/0/02/Flag_of_Gibraltar.svg/46px-Flag_of_Gibraltar.svg.png 2x\" width=\"23\"/></a></span></span>\n",
              "</td></tr>\n",
              "<tr>\n",
              "<td><span class=\"flagicon\" style=\"display:inline-block;width:25px;\"><span class=\"mw-image-border\" typeof=\"mw:File\"><span><img alt=\"\" class=\"mw-file-element\" data-file-height=\"600\" data-file-width=\"900\" decoding=\"async\" height=\"15\" src=\"//upload.wikimedia.org/wikipedia/en/thumb/c/c3/Flag_of_France.svg/23px-Flag_of_France.svg.png\" srcset=\"//upload.wikimedia.org/wikipedia/en/thumb/c/c3/Flag_of_France.svg/35px-Flag_of_France.svg.png 1.5x, //upload.wikimedia.org/wikipedia/en/thumb/c/c3/Flag_of_France.svg/45px-Flag_of_France.svg.png 2x\" width=\"23\"/></span></span></span> <a href=\"/wiki/France\" title=\"France\">France</a></td>\n",
              "<td style=\"background:#e0ffd8;\">83.33</td>\n",
              "<td>0.39</td>\n",
              "<td style=\"background:#e0ffd8;\">68.72</td>\n",
              "<td>3.31</td>\n",
              "<td style=\"background:#e0ffd8;\">22.03</td>\n",
              "<td>3.58</td>\n",
              "<td style=\"background:#e0ffd8;\">10.61</td>\n",
              "<td style=\"background:#eaf3ff;border-left-width:2px;\">80.43</td>\n",
              "<td style=\"background:#eaf3ff;\">65.85</td>\n",
              "<td style=\"background:#eaf3ff;\">20.00</td>\n",
              "<td style=\"background:#eaf3ff;\">9.41</td>\n",
              "<td style=\"background:#fee7f6;border-left-width:2px;\">86.09</td>\n",
              "<td style=\"background:#fee7f6;\">71.44</td>\n",
              "<td style=\"background:#fee7f6;\">23.78</td>\n",
              "<td style=\"background:#fee7f6;\">11.45</td>\n",
              "<td style=\"border-left-width:2px;\">5.66</td>\n",
              "<td>5.59</td>\n",
              "<td>3.78</td>\n",
              "<td>2.04</td>\n",
              "<td style=\"border-left-width:2px;\">66439</td>\n",
              "<td><span class=\"flagicon\"><span class=\"mw-image-border\" typeof=\"mw:File\"><a href=\"/wiki/France\" title=\"France\"><img alt=\"France\" class=\"mw-file-element\" data-file-height=\"600\" data-file-width=\"900\" decoding=\"async\" height=\"15\" src=\"//upload.wikimedia.org/wikipedia/en/thumb/c/c3/Flag_of_France.svg/23px-Flag_of_France.svg.png\" srcset=\"//upload.wikimedia.org/wikipedia/en/thumb/c/c3/Flag_of_France.svg/35px-Flag_of_France.svg.png 1.5x, //upload.wikimedia.org/wikipedia/en/thumb/c/c3/Flag_of_France.svg/45px-Flag_of_France.svg.png 2x\" width=\"23\"/></a></span></span>\n",
              "</td></tr>\n",
              "<tr>\n",
              "<td><span class=\"flagicon\" style=\"display:inline-block;width:25px;\"><span class=\"mw-image-border\" typeof=\"mw:File\"><span><img alt=\"\" class=\"mw-file-element\" data-file-height=\"372\" data-file-width=\"512\" decoding=\"async\" height=\"15\" src=\"//upload.wikimedia.org/wikipedia/commons/thumb/d/d9/Flag_of_Norway.svg/21px-Flag_of_Norway.svg.png\" srcset=\"//upload.wikimedia.org/wikipedia/commons/thumb/d/d9/Flag_of_Norway.svg/32px-Flag_of_Norway.svg.png 1.5x, //upload.wikimedia.org/wikipedia/commons/thumb/d/d9/Flag_of_Norway.svg/41px-Flag_of_Norway.svg.png 2x\" width=\"21\"/></span></span></span> <a href=\"/wiki/Norway\" title=\"Norway\">Norway</a></td>\n",
              "<td style=\"background:#e0ffd8;\">83.31</td>\n",
              "<td>0.25</td>\n",
              "<td style=\"background:#e0ffd8;\">68.56</td>\n",
              "<td>2.19</td>\n",
              "<td style=\"background:#e0ffd8;\">20.75</td>\n",
              "<td>3.53</td>\n",
              "<td style=\"background:#e0ffd8;\">9.28</td>\n",
              "<td style=\"background:#eaf3ff;border-left-width:2px;\">81.75</td>\n",
              "<td style=\"background:#eaf3ff;\">67.02</td>\n",
              "<td style=\"background:#eaf3ff;\">19.58</td>\n",
              "<td style=\"background:#eaf3ff;\">8.37</td>\n",
              "<td style=\"background:#fee7f6;border-left-width:2px;\">84.85</td>\n",
              "<td style=\"background:#fee7f6;\">70.07</td>\n",
              "<td style=\"background:#fee7f6;\">21.84</td>\n",
              "<td style=\"background:#fee7f6;\">10.02</td>\n",
              "<td style=\"border-left-width:2px;\">3.10</td>\n",
              "<td>3.05</td>\n",
              "<td>2.27</td>\n",
              "<td>1.65</td>\n",
              "<td style=\"border-left-width:2px;\">5519</td>\n",
              "<td><span class=\"flagicon\"><span class=\"mw-image-border\" typeof=\"mw:File\"><a href=\"/wiki/Norway\" title=\"Norway\"><img alt=\"Norway\" class=\"mw-file-element\" data-file-height=\"372\" data-file-width=\"512\" decoding=\"async\" height=\"15\" src=\"//upload.wikimedia.org/wikipedia/commons/thumb/d/d9/Flag_of_Norway.svg/21px-Flag_of_Norway.svg.png\" srcset=\"//upload.wikimedia.org/wikipedia/commons/thumb/d/d9/Flag_of_Norway.svg/32px-Flag_of_Norway.svg.png 1.5x, //upload.wikimedia.org/wikipedia/commons/thumb/d/d9/Flag_of_Norway.svg/41px-Flag_of_Norway.svg.png 2x\" width=\"21\"/></a></span></span>\n",
              "</td></tr>\n",
              "<tr>\n",
              "<td><span class=\"flagicon\" style=\"display:inline-block;width:25px;\"><span class=\"mw-image-border\" typeof=\"mw:File\"><span><img alt=\"\" class=\"mw-file-element\" data-file-height=\"600\" data-file-width=\"900\" decoding=\"async\" height=\"15\" src=\"//upload.wikimedia.org/wikipedia/commons/thumb/7/73/Flag_of_Malta.svg/23px-Flag_of_Malta.svg.png\" srcset=\"//upload.wikimedia.org/wikipedia/commons/thumb/7/73/Flag_of_Malta.svg/35px-Flag_of_Malta.svg.png 1.5x, //upload.wikimedia.org/wikipedia/commons/thumb/7/73/Flag_of_Malta.svg/45px-Flag_of_Malta.svg.png 2x\" width=\"23\"/></span></span></span> <a href=\"/wiki/Malta\" title=\"Malta\">Malta</a></td>\n",
              "<td style=\"background:#e0ffd8;\">83.30</td>\n",
              "<td>0.78</td>\n",
              "<td style=\"background:#e0ffd8;\">69.08</td>\n",
              "<td>2.35</td>\n",
              "<td style=\"background:#e0ffd8;\">21.42</td>\n",
              "<td>3.98</td>\n",
              "<td style=\"background:#e0ffd8;\">10.41</td>\n",
              "<td style=\"background:#eaf3ff;border-left-width:2px;\">81.27</td>\n",
              "<td style=\"background:#eaf3ff;\">66.86</td>\n",
              "<td style=\"background:#eaf3ff;\">19.36</td>\n",
              "<td style=\"background:#eaf3ff;\">8.83</td>\n",
              "<td style=\"background:#fee7f6;border-left-width:2px;\">85.26</td>\n",
              "<td style=\"background:#fee7f6;\">71.26</td>\n",
              "<td style=\"background:#fee7f6;\">23.35</td>\n",
              "<td style=\"background:#fee7f6;\">11.61</td>\n",
              "<td style=\"border-left-width:2px;\">3.99</td>\n",
              "<td>4.40</td>\n",
              "<td>3.98</td>\n",
              "<td>2.79</td>\n",
              "<td style=\"border-left-width:2px;\">533</td>\n",
              "<td><span class=\"flagicon\"><span class=\"mw-image-border\" typeof=\"mw:File\"><a href=\"/wiki/Malta\" title=\"Malta\"><img alt=\"Malta\" class=\"mw-file-element\" data-file-height=\"600\" data-file-width=\"900\" decoding=\"async\" height=\"15\" src=\"//upload.wikimedia.org/wikipedia/commons/thumb/7/73/Flag_of_Malta.svg/23px-Flag_of_Malta.svg.png\" srcset=\"//upload.wikimedia.org/wikipedia/commons/thumb/7/73/Flag_of_Malta.svg/35px-Flag_of_Malta.svg.png 1.5x, //upload.wikimedia.org/wikipedia/commons/thumb/7/73/Flag_of_Malta.svg/45px-Flag_of_Malta.svg.png 2x\" width=\"23\"/></a></span></span>\n",
              "</td></tr>\n",
              "<tr>\n",
              "<td><span class=\"flagicon\" style=\"display:inline-block;width:25px;\"><span class=\"mw-image-border\" typeof=\"mw:File\"><span><img alt=\"\" class=\"mw-file-element\" data-file-height=\"600\" data-file-width=\"900\" decoding=\"async\" height=\"15\" src=\"//upload.wikimedia.org/wikipedia/commons/thumb/f/fa/Flag_of_Guernsey.svg/23px-Flag_of_Guernsey.svg.png\" srcset=\"//upload.wikimedia.org/wikipedia/commons/thumb/f/fa/Flag_of_Guernsey.svg/35px-Flag_of_Guernsey.svg.png 1.5x, //upload.wikimedia.org/wikipedia/commons/thumb/f/fa/Flag_of_Guernsey.svg/45px-Flag_of_Guernsey.svg.png 2x\" width=\"23\"/></span></span></span> <a href=\"/wiki/Guernsey\" title=\"Guernsey\">Guernsey</a></td>\n",
              "<td style=\"background:#e0ffd8;\">83.27</td>\n",
              "<td>0.64</td>\n",
              "<td style=\"background:#e0ffd8;\">68.91</td>\n",
              "<td>2.00</td>\n",
              "<td style=\"background:#e0ffd8;\">20.91</td>\n",
              "<td>3.91</td>\n",
              "<td style=\"background:#e0ffd8;\">9.82</td>\n",
              "<td style=\"background:#eaf3ff;border-left-width:2px;\">81.01</td>\n",
              "<td style=\"background:#eaf3ff;\">66.65</td>\n",
              "<td style=\"background:#eaf3ff;\">19.03</td>\n",
              "<td style=\"background:#eaf3ff;\">8.55</td>\n",
              "<td style=\"background:#fee7f6;border-left-width:2px;\">85.58</td>\n",
              "<td style=\"background:#fee7f6;\">71.20</td>\n",
              "<td style=\"background:#fee7f6;\">22.77</td>\n",
              "<td style=\"background:#fee7f6;\">10.88</td>\n",
              "<td style=\"border-left-width:2px;\">4.56</td>\n",
              "<td>4.55</td>\n",
              "<td>3.75</td>\n",
              "<td>2.33</td>\n",
              "<td style=\"border-left-width:2px;\">64</td>\n",
              "<td><span class=\"flagicon\"><span class=\"mw-image-border\" typeof=\"mw:File\"><a href=\"/wiki/Guernsey\" title=\"Guernsey\"><img alt=\"Guernsey\" class=\"mw-file-element\" data-file-height=\"600\" data-file-width=\"900\" decoding=\"async\" height=\"15\" src=\"//upload.wikimedia.org/wikipedia/commons/thumb/f/fa/Flag_of_Guernsey.svg/23px-Flag_of_Guernsey.svg.png\" srcset=\"//upload.wikimedia.org/wikipedia/commons/thumb/f/fa/Flag_of_Guernsey.svg/35px-Flag_of_Guernsey.svg.png 1.5x, //upload.wikimedia.org/wikipedia/commons/thumb/f/fa/Flag_of_Guernsey.svg/45px-Flag_of_Guernsey.svg.png 2x\" width=\"23\"/></a></span></span>\n",
              "</td></tr>\n",
              "<tr>\n",
              "<td><span class=\"flagicon\" style=\"display:inline-block;width:25px;\"><span class=\"mw-image-border\" typeof=\"mw:File\"><span><img alt=\"\" class=\"mw-file-element\" data-file-height=\"1000\" data-file-width=\"1600\" decoding=\"async\" height=\"14\" src=\"//upload.wikimedia.org/wikipedia/en/thumb/4/4c/Flag_of_Sweden.svg/23px-Flag_of_Sweden.svg.png\" srcset=\"//upload.wikimedia.org/wikipedia/en/thumb/4/4c/Flag_of_Sweden.svg/35px-Flag_of_Sweden.svg.png 1.5x, //upload.wikimedia.org/wikipedia/en/thumb/4/4c/Flag_of_Sweden.svg/46px-Flag_of_Sweden.svg.png 2x\" width=\"23\"/></span></span></span> <a href=\"/wiki/Sweden\" title=\"Sweden\">Sweden</a></td>\n",
              "<td style=\"background:#e0ffd8;\">83.26</td>\n",
              "<td>0.24</td>\n",
              "<td style=\"background:#e0ffd8;\">68.50</td>\n",
              "<td>2.42</td>\n",
              "<td style=\"background:#e0ffd8;\">20.92</td>\n",
              "<td>3.71</td>\n",
              "<td style=\"background:#e0ffd8;\">9.63</td>\n",
              "<td style=\"background:#eaf3ff;border-left-width:2px;\">81.44</td>\n",
              "<td style=\"background:#eaf3ff;\">66.69</td>\n",
              "<td style=\"background:#eaf3ff;\">19.55</td>\n",
              "<td style=\"background:#eaf3ff;\">8.69</td>\n",
              "<td style=\"background:#fee7f6;border-left-width:2px;\">85.10</td>\n",
              "<td style=\"background:#fee7f6;\">70.33</td>\n",
              "<td style=\"background:#fee7f6;\">22.23</td>\n",
              "<td style=\"background:#fee7f6;\">10.40</td>\n",
              "<td style=\"border-left-width:2px;\">3.66</td>\n",
              "<td>3.64</td>\n",
              "<td>2.69</td>\n",
              "<td>1.71</td>\n",
              "<td style=\"border-left-width:2px;\">10551</td>\n",
              "<td><span class=\"flagicon\"><span class=\"mw-image-border\" typeof=\"mw:File\"><a href=\"/wiki/Sweden\" title=\"Sweden\"><img alt=\"Sweden\" class=\"mw-file-element\" data-file-height=\"1000\" data-file-width=\"1600\" decoding=\"async\" height=\"14\" src=\"//upload.wikimedia.org/wikipedia/en/thumb/4/4c/Flag_of_Sweden.svg/23px-Flag_of_Sweden.svg.png\" srcset=\"//upload.wikimedia.org/wikipedia/en/thumb/4/4c/Flag_of_Sweden.svg/35px-Flag_of_Sweden.svg.png 1.5x, //upload.wikimedia.org/wikipedia/en/thumb/4/4c/Flag_of_Sweden.svg/46px-Flag_of_Sweden.svg.png 2x\" width=\"23\"/></a></span></span>\n",
              "</td></tr>\n",
              "<tr>\n",
              "<td><span class=\"flagicon\" style=\"display:inline-block;width:25px;\"><span class=\"mw-image-border\" typeof=\"mw:File\"><span><img alt=\"\" class=\"mw-file-element\" data-file-height=\"500\" data-file-width=\"500\" decoding=\"async\" height=\"15\" src=\"//upload.wikimedia.org/wikipedia/commons/thumb/8/86/Flag_of_Vatican_City_%282001%E2%80%932023%29.svg/15px-Flag_of_Vatican_City_%282001%E2%80%932023%29.svg.png\" srcset=\"//upload.wikimedia.org/wikipedia/commons/thumb/8/86/Flag_of_Vatican_City_%282001%E2%80%932023%29.svg/23px-Flag_of_Vatican_City_%282001%E2%80%932023%29.svg.png 1.5x, //upload.wikimedia.org/wikipedia/commons/thumb/8/86/Flag_of_Vatican_City_%282001%E2%80%932023%29.svg/30px-Flag_of_Vatican_City_%282001%E2%80%932023%29.svg.png 2x\" width=\"15\"/></span></span></span> <a href=\"/wiki/Holy_See\" title=\"Holy See\">Holy See</a></td>\n",
              "<td style=\"background:#e0ffd8;\">82.98</td>\n",
              "<td>0.66</td>\n",
              "<td style=\"background:#e0ffd8;\">68.64</td>\n",
              "<td>2.08</td>\n",
              "<td style=\"background:#e0ffd8;\">20.73</td>\n",
              "<td>3.98</td>\n",
              "<td style=\"background:#e0ffd8;\">9.71</td>\n",
              "<td style=\"background:#eaf3ff;border-left-width:2px;\">80.78</td>\n",
              "<td style=\"background:#eaf3ff;\">66.43</td>\n",
              "<td style=\"background:#eaf3ff;\">18.86</td>\n",
              "<td style=\"background:#eaf3ff;\">8.45</td>\n",
              "<td style=\"background:#fee7f6;border-left-width:2px;\">85.12</td>\n",
              "<td style=\"background:#fee7f6;\">70.78</td>\n",
              "<td style=\"background:#fee7f6;\">22.43</td>\n",
              "<td style=\"background:#fee7f6;\">10.64</td>\n",
              "<td style=\"border-left-width:2px;\">4.34</td>\n",
              "<td>4.35</td>\n",
              "<td>3.58</td>\n",
              "<td>2.20</td>\n",
              "<td style=\"border-left-width:2px;\">&lt;500</td>\n",
              "<td><span class=\"flagicon\"><span class=\"mw-image-border\" typeof=\"mw:File\"><a href=\"/wiki/Holy_See\" title=\"Holy See\"><img alt=\"Holy See\" class=\"mw-file-element\" data-file-height=\"500\" data-file-width=\"500\" decoding=\"async\" height=\"15\" src=\"//upload.wikimedia.org/wikipedia/commons/thumb/8/86/Flag_of_Vatican_City_%282001%E2%80%932023%29.svg/15px-Flag_of_Vatican_City_%282001%E2%80%932023%29.svg.png\" srcset=\"//upload.wikimedia.org/wikipedia/commons/thumb/8/86/Flag_of_Vatican_City_%282001%E2%80%932023%29.svg/23px-Flag_of_Vatican_City_%282001%E2%80%932023%29.svg.png 1.5x, //upload.wikimedia.org/wikipedia/commons/thumb/8/86/Flag_of_Vatican_City_%282001%E2%80%932023%29.svg/30px-Flag_of_Vatican_City_%282001%E2%80%932023%29.svg.png 2x\" width=\"15\"/></a></span></span>\n",
              "</td></tr>\n",
              "<tr>\n",
              "<td><span class=\"flagicon\" style=\"display:inline-block;width:25px;\"><span class=\"mw-image-border\" typeof=\"mw:File\"><span><img alt=\"\" class=\"mw-file-element\" data-file-height=\"900\" data-file-width=\"1250\" decoding=\"async\" height=\"15\" src=\"//upload.wikimedia.org/wikipedia/commons/thumb/c/ce/Flag_of_Iceland.svg/21px-Flag_of_Iceland.svg.png\" srcset=\"//upload.wikimedia.org/wikipedia/commons/thumb/c/ce/Flag_of_Iceland.svg/32px-Flag_of_Iceland.svg.png 1.5x, //upload.wikimedia.org/wikipedia/commons/thumb/c/ce/Flag_of_Iceland.svg/42px-Flag_of_Iceland.svg.png 2x\" width=\"21\"/></span></span></span> <a href=\"/wiki/Iceland\" title=\"Iceland\">Iceland</a></td>\n",
              "<td style=\"background:#e0ffd8;\">82.69</td>\n",
              "<td>0.16</td>\n",
              "<td style=\"background:#e0ffd8;\">67.85</td>\n",
              "<td>2.92</td>\n",
              "<td style=\"background:#e0ffd8;\">20.77</td>\n",
              "<td>3.52</td>\n",
              "<td style=\"background:#e0ffd8;\">9.29</td>\n",
              "<td style=\"background:#eaf3ff;border-left-width:2px;\">80.98</td>\n",
              "<td style=\"background:#eaf3ff;\">66.22</td>\n",
              "<td style=\"background:#eaf3ff;\">19.82</td>\n",
              "<td style=\"background:#eaf3ff;\">8.72</td>\n",
              "<td style=\"background:#fee7f6;border-left-width:2px;\">84.51</td>\n",
              "<td style=\"background:#fee7f6;\">69.57</td>\n",
              "<td style=\"background:#fee7f6;\">21.73</td>\n",
              "<td style=\"background:#fee7f6;\">9.80</td>\n",
              "<td style=\"border-left-width:2px;\">3.52</td>\n",
              "<td>3.35</td>\n",
              "<td>1.91</td>\n",
              "<td>1.08</td>\n",
              "<td style=\"border-left-width:2px;\">388</td>\n",
              "<td><span class=\"flagicon\"><span class=\"mw-image-border\" typeof=\"mw:File\"><a href=\"/wiki/Iceland\" title=\"Iceland\"><img alt=\"Iceland\" class=\"mw-file-element\" data-file-height=\"900\" data-file-width=\"1250\" decoding=\"async\" height=\"15\" src=\"//upload.wikimedia.org/wikipedia/commons/thumb/c/ce/Flag_of_Iceland.svg/21px-Flag_of_Iceland.svg.png\" srcset=\"//upload.wikimedia.org/wikipedia/commons/thumb/c/ce/Flag_of_Iceland.svg/32px-Flag_of_Iceland.svg.png 1.5x, //upload.wikimedia.org/wikipedia/commons/thumb/c/ce/Flag_of_Iceland.svg/42px-Flag_of_Iceland.svg.png 2x\" width=\"21\"/></a></span></span>\n",
              "</td></tr>\n",
              "<tr>\n",
              "<td><span class=\"flagicon\" style=\"display:inline-block;width:25px;\"><span class=\"mw-image-border\" typeof=\"mw:File\"><span><img alt=\"\" class=\"mw-file-element\" data-file-height=\"600\" data-file-width=\"1200\" decoding=\"async\" height=\"12\" src=\"//upload.wikimedia.org/wikipedia/commons/thumb/4/45/Flag_of_Ireland.svg/23px-Flag_of_Ireland.svg.png\" srcset=\"//upload.wikimedia.org/wikipedia/commons/thumb/4/45/Flag_of_Ireland.svg/35px-Flag_of_Ireland.svg.png 1.5x, //upload.wikimedia.org/wikipedia/commons/thumb/4/45/Flag_of_Ireland.svg/46px-Flag_of_Ireland.svg.png 2x\" width=\"23\"/></span></span></span> <a href=\"/wiki/Republic_of_Ireland\" title=\"Republic of Ireland\">Ireland</a></td>\n",
              "<td style=\"background:#e0ffd8;\">82.41</td>\n",
              "<td>0.31</td>\n",
              "<td style=\"background:#e0ffd8;\">67.72</td>\n",
              "<td>2.77</td>\n",
              "<td style=\"background:#e0ffd8;\">20.49</td>\n",
              "<td>3.91</td>\n",
              "<td style=\"background:#e0ffd8;\">9.41</td>\n",
              "<td style=\"background:#eaf3ff;border-left-width:2px;\">80.37</td>\n",
              "<td style=\"background:#eaf3ff;\">65.71</td>\n",
              "<td style=\"background:#eaf3ff;\">19.06</td>\n",
              "<td style=\"background:#eaf3ff;\">8.45</td>\n",
              "<td style=\"background:#fee7f6;border-left-width:2px;\">84.48</td>\n",
              "<td style=\"background:#fee7f6;\">69.76</td>\n",
              "<td style=\"background:#fee7f6;\">21.88</td>\n",
              "<td style=\"background:#fee7f6;\">10.20</td>\n",
              "<td style=\"border-left-width:2px;\">4.11</td>\n",
              "<td>4.04</td>\n",
              "<td>2.82</td>\n",
              "<td>1.76</td>\n",
              "<td style=\"border-left-width:2px;\">5197</td>\n",
              "<td><span class=\"flagicon\"><span class=\"mw-image-border\" typeof=\"mw:File\"><a href=\"/wiki/Republic_of_Ireland\" title=\"Republic of Ireland\"><img alt=\"Republic of Ireland\" class=\"mw-file-element\" data-file-height=\"600\" data-file-width=\"1200\" decoding=\"async\" height=\"12\" src=\"//upload.wikimedia.org/wikipedia/commons/thumb/4/45/Flag_of_Ireland.svg/23px-Flag_of_Ireland.svg.png\" srcset=\"//upload.wikimedia.org/wikipedia/commons/thumb/4/45/Flag_of_Ireland.svg/35px-Flag_of_Ireland.svg.png 1.5x, //upload.wikimedia.org/wikipedia/commons/thumb/4/45/Flag_of_Ireland.svg/46px-Flag_of_Ireland.svg.png 2x\" width=\"23\"/></a></span></span>\n",
              "</td></tr>\n",
              "<tr>\n",
              "<td><span class=\"flagicon\" style=\"display:inline-block;width:25px;\"><span class=\"mw-image-border\" typeof=\"mw:File\"><span><img alt=\"\" class=\"mw-file-element\" data-file-height=\"400\" data-file-width=\"600\" decoding=\"async\" height=\"15\" src=\"//upload.wikimedia.org/wikipedia/commons/thumb/5/5c/Flag_of_Portugal.svg/23px-Flag_of_Portugal.svg.png\" srcset=\"//upload.wikimedia.org/wikipedia/commons/thumb/5/5c/Flag_of_Portugal.svg/35px-Flag_of_Portugal.svg.png 1.5x, //upload.wikimedia.org/wikipedia/commons/thumb/5/5c/Flag_of_Portugal.svg/45px-Flag_of_Portugal.svg.png 2x\" width=\"23\"/></span></span></span> <a href=\"/wiki/Portugal\" title=\"Portugal\">Portugal</a></td>\n",
              "<td style=\"background:#e0ffd8;\">82.36</td>\n",
              "<td>0.32</td>\n",
              "<td style=\"background:#e0ffd8;\">67.68</td>\n",
              "<td>3.20</td>\n",
              "<td style=\"background:#e0ffd8;\">20.88</td>\n",
              "<td>3.73</td>\n",
              "<td style=\"background:#e0ffd8;\">9.61</td>\n",
              "<td style=\"background:#eaf3ff;border-left-width:2px;\">79.44</td>\n",
              "<td style=\"background:#eaf3ff;\">64.77</td>\n",
              "<td style=\"background:#eaf3ff;\">18.97</td>\n",
              "<td style=\"background:#eaf3ff;\">8.63</td>\n",
              "<td style=\"background:#fee7f6;border-left-width:2px;\">85.12</td>\n",
              "<td style=\"background:#fee7f6;\">70.41</td>\n",
              "<td style=\"background:#fee7f6;\">22.52</td>\n",
              "<td style=\"background:#fee7f6;\">10.29</td>\n",
              "<td style=\"border-left-width:2px;\">5.68</td>\n",
              "<td>5.64</td>\n",
              "<td>3.55</td>\n",
              "<td>1.66</td>\n",
              "<td style=\"border-left-width:2px;\">10431</td>\n",
              "<td><span class=\"flagicon\"><span class=\"mw-image-border\" typeof=\"mw:File\"><a href=\"/wiki/Portugal\" title=\"Portugal\"><img alt=\"Portugal\" class=\"mw-file-element\" data-file-height=\"400\" data-file-width=\"600\" decoding=\"async\" height=\"15\" src=\"//upload.wikimedia.org/wikipedia/commons/thumb/5/5c/Flag_of_Portugal.svg/23px-Flag_of_Portugal.svg.png\" srcset=\"//upload.wikimedia.org/wikipedia/commons/thumb/5/5c/Flag_of_Portugal.svg/35px-Flag_of_Portugal.svg.png 1.5x, //upload.wikimedia.org/wikipedia/commons/thumb/5/5c/Flag_of_Portugal.svg/45px-Flag_of_Portugal.svg.png 2x\" width=\"23\"/></a></span></span>\n",
              "</td></tr>\n",
              "<tr>\n",
              "<td><span class=\"flagicon\" style=\"display:inline-block;width:25px;\"><span class=\"mw-image-border\" typeof=\"mw:File\"><span><img alt=\"\" class=\"mw-file-element\" data-file-height=\"307\" data-file-width=\"512\" decoding=\"async\" height=\"14\" src=\"//upload.wikimedia.org/wikipedia/commons/thumb/d/da/Flag_of_Luxembourg.svg/23px-Flag_of_Luxembourg.svg.png\" srcset=\"//upload.wikimedia.org/wikipedia/commons/thumb/d/da/Flag_of_Luxembourg.svg/35px-Flag_of_Luxembourg.svg.png 1.5x, //upload.wikimedia.org/wikipedia/commons/thumb/d/da/Flag_of_Luxembourg.svg/46px-Flag_of_Luxembourg.svg.png 2x\" width=\"23\"/></span></span></span> <a href=\"/wiki/Luxembourg\" title=\"Luxembourg\">Luxembourg</a></td>\n",
              "<td style=\"background:#e0ffd8;\">82.23</td>\n",
              "<td>0.81</td>\n",
              "<td style=\"background:#e0ffd8;\">68.03</td>\n",
              "<td>2.93</td>\n",
              "<td style=\"background:#e0ffd8;\">20.96</td>\n",
              "<td>3.67</td>\n",
              "<td style=\"background:#e0ffd8;\">9.63</td>\n",
              "<td style=\"background:#eaf3ff;border-left-width:2px;\">80.57</td>\n",
              "<td style=\"background:#eaf3ff;\">66.17</td>\n",
              "<td style=\"background:#eaf3ff;\">19.39</td>\n",
              "<td style=\"background:#eaf3ff;\">8.65</td>\n",
              "<td style=\"background:#fee7f6;border-left-width:2px;\">83.84</td>\n",
              "<td style=\"background:#fee7f6;\">69.86</td>\n",
              "<td style=\"background:#fee7f6;\">22.39</td>\n",
              "<td style=\"background:#fee7f6;\">10.33</td>\n",
              "<td style=\"border-left-width:2px;\">3.27</td>\n",
              "<td>3.68</td>\n",
              "<td>3.00</td>\n",
              "<td>1.68</td>\n",
              "<td style=\"border-left-width:2px;\">665</td>\n",
              "<td><span class=\"flagicon\"><span class=\"mw-image-border\" typeof=\"mw:File\"><a href=\"/wiki/Luxembourg\" title=\"Luxembourg\"><img alt=\"Luxembourg\" class=\"mw-file-element\" data-file-height=\"307\" data-file-width=\"512\" decoding=\"async\" height=\"14\" src=\"//upload.wikimedia.org/wikipedia/commons/thumb/d/da/Flag_of_Luxembourg.svg/23px-Flag_of_Luxembourg.svg.png\" srcset=\"//upload.wikimedia.org/wikipedia/commons/thumb/d/da/Flag_of_Luxembourg.svg/35px-Flag_of_Luxembourg.svg.png 1.5x, //upload.wikimedia.org/wikipedia/commons/thumb/d/da/Flag_of_Luxembourg.svg/46px-Flag_of_Luxembourg.svg.png 2x\" width=\"23\"/></a></span></span>\n",
              "</td></tr>\n",
              "<tr>\n",
              "<td><span class=\"flagicon\" style=\"display:inline-block;width:25px;\"><span class=\"mw-image-border\" typeof=\"mw:File\"><span><img alt=\"\" class=\"mw-file-element\" data-file-height=\"600\" data-file-width=\"900\" decoding=\"async\" height=\"15\" src=\"//upload.wikimedia.org/wikipedia/commons/thumb/2/20/Flag_of_the_Netherlands.svg/23px-Flag_of_the_Netherlands.svg.png\" srcset=\"//upload.wikimedia.org/wikipedia/commons/thumb/2/20/Flag_of_the_Netherlands.svg/35px-Flag_of_the_Netherlands.svg.png 1.5x, //upload.wikimedia.org/wikipedia/commons/thumb/2/20/Flag_of_the_Netherlands.svg/45px-Flag_of_the_Netherlands.svg.png 2x\" width=\"23\"/></span></span></span> <a href=\"/wiki/Netherlands\" title=\"Netherlands\">Netherlands</a></td>\n",
              "<td style=\"background:#e0ffd8;\">82.16</td>\n",
              "<td>0.37</td>\n",
              "<td style=\"background:#e0ffd8;\">67.53</td>\n",
              "<td>2.58</td>\n",
              "<td style=\"background:#e0ffd8;\">20.11</td>\n",
              "<td>3.83</td>\n",
              "<td style=\"background:#e0ffd8;\">8.94</td>\n",
              "<td style=\"background:#eaf3ff;border-left-width:2px;\">80.54</td>\n",
              "<td style=\"background:#eaf3ff;\">65.93</td>\n",
              "<td style=\"background:#eaf3ff;\">18.82</td>\n",
              "<td style=\"background:#eaf3ff;\">8.05</td>\n",
              "<td style=\"background:#fee7f6;border-left-width:2px;\">83.74</td>\n",
              "<td style=\"background:#fee7f6;\">69.08</td>\n",
              "<td style=\"background:#fee7f6;\">21.30</td>\n",
              "<td style=\"background:#fee7f6;\">9.64</td>\n",
              "<td style=\"border-left-width:2px;\">3.20</td>\n",
              "<td>3.15</td>\n",
              "<td>2.48</td>\n",
              "<td>1.59</td>\n",
              "<td style=\"border-left-width:2px;\">18093</td>\n",
              "<td><span class=\"flagicon\"><span class=\"mw-image-border\" typeof=\"mw:File\"><a href=\"/wiki/Netherlands\" title=\"Netherlands\"><img alt=\"Netherlands\" class=\"mw-file-element\" data-file-height=\"600\" data-file-width=\"900\" decoding=\"async\" height=\"15\" src=\"//upload.wikimedia.org/wikipedia/commons/thumb/2/20/Flag_of_the_Netherlands.svg/23px-Flag_of_the_Netherlands.svg.png\" srcset=\"//upload.wikimedia.org/wikipedia/commons/thumb/2/20/Flag_of_the_Netherlands.svg/35px-Flag_of_the_Netherlands.svg.png 1.5x, //upload.wikimedia.org/wikipedia/commons/thumb/2/20/Flag_of_the_Netherlands.svg/45px-Flag_of_the_Netherlands.svg.png 2x\" width=\"23\"/></a></span></span>\n",
              "</td></tr>\n",
              "<tr>\n",
              "<td><span class=\"flagicon\" style=\"display:inline-block;width:25px;\"><span class=\"mw-image-border\" typeof=\"mw:File\"><span><img alt=\"\" class=\"mw-file-element\" data-file-height=\"600\" data-file-width=\"900\" decoding=\"async\" height=\"15\" src=\"//upload.wikimedia.org/wikipedia/commons/thumb/9/92/Flag_of_Belgium_%28civil%29.svg/23px-Flag_of_Belgium_%28civil%29.svg.png\" srcset=\"//upload.wikimedia.org/wikipedia/commons/thumb/9/92/Flag_of_Belgium_%28civil%29.svg/35px-Flag_of_Belgium_%28civil%29.svg.png 1.5x, //upload.wikimedia.org/wikipedia/commons/thumb/9/92/Flag_of_Belgium_%28civil%29.svg/45px-Flag_of_Belgium_%28civil%29.svg.png 2x\" width=\"23\"/></span></span></span> <a href=\"/wiki/Belgium\" title=\"Belgium\">Belgium</a></td>\n",
              "<td style=\"background:#e0ffd8;\">82.11</td>\n",
              "<td>0.37</td>\n",
              "<td style=\"background:#e0ffd8;\">67.48</td>\n",
              "<td>3.01</td>\n",
              "<td style=\"background:#e0ffd8;\">20.50</td>\n",
              "<td>4.15</td>\n",
              "<td style=\"background:#e0ffd8;\">9.65</td>\n",
              "<td style=\"background:#eaf3ff;border-left-width:2px;\">79.86</td>\n",
              "<td style=\"background:#eaf3ff;\">65.25</td>\n",
              "<td style=\"background:#eaf3ff;\">18.83</td>\n",
              "<td style=\"background:#eaf3ff;\">8.66</td>\n",
              "<td style=\"background:#fee7f6;border-left-width:2px;\">84.33</td>\n",
              "<td style=\"background:#fee7f6;\">69.67</td>\n",
              "<td style=\"background:#fee7f6;\">22.01</td>\n",
              "<td style=\"background:#fee7f6;\">10.37</td>\n",
              "<td style=\"border-left-width:2px;\">4.47</td>\n",
              "<td>4.41</td>\n",
              "<td>3.19</td>\n",
              "<td>1.71</td>\n",
              "<td style=\"border-left-width:2px;\">11713</td>\n",
              "<td><span class=\"flagicon\"><span class=\"mw-image-border\" typeof=\"mw:File\"><a href=\"/wiki/Belgium\" title=\"Belgium\"><img alt=\"Belgium\" class=\"mw-file-element\" data-file-height=\"600\" data-file-width=\"900\" decoding=\"async\" height=\"15\" src=\"//upload.wikimedia.org/wikipedia/commons/thumb/9/92/Flag_of_Belgium_%28civil%29.svg/23px-Flag_of_Belgium_%28civil%29.svg.png\" srcset=\"//upload.wikimedia.org/wikipedia/commons/thumb/9/92/Flag_of_Belgium_%28civil%29.svg/35px-Flag_of_Belgium_%28civil%29.svg.png 1.5x, //upload.wikimedia.org/wikipedia/commons/thumb/9/92/Flag_of_Belgium_%28civil%29.svg/45px-Flag_of_Belgium_%28civil%29.svg.png 2x\" width=\"23\"/></a></span></span>\n",
              "</td></tr>\n",
              "<tr>\n",
              "<td><span class=\"flagicon\" style=\"display:inline-block;width:25px;\"><span class=\"mw-image-border\" typeof=\"mw:File\"><span><img alt=\"\" class=\"mw-file-element\" data-file-height=\"600\" data-file-width=\"900\" decoding=\"async\" height=\"15\" src=\"//upload.wikimedia.org/wikipedia/commons/thumb/4/41/Flag_of_Austria.svg/23px-Flag_of_Austria.svg.png\" srcset=\"//upload.wikimedia.org/wikipedia/commons/thumb/4/41/Flag_of_Austria.svg/35px-Flag_of_Austria.svg.png 1.5x, //upload.wikimedia.org/wikipedia/commons/thumb/4/41/Flag_of_Austria.svg/45px-Flag_of_Austria.svg.png 2x\" width=\"23\"/></span></span></span> <a href=\"/wiki/Austria\" title=\"Austria\">Austria</a></td>\n",
              "<td style=\"background:#e0ffd8;\">81.96</td>\n",
              "<td>0.34</td>\n",
              "<td style=\"background:#e0ffd8;\">67.29</td>\n",
              "<td>2.83</td>\n",
              "<td style=\"background:#e0ffd8;\">20.12</td>\n",
              "<td>4.17</td>\n",
              "<td style=\"background:#e0ffd8;\">9.29</td>\n",
              "<td style=\"background:#eaf3ff;border-left-width:2px;\">79.54</td>\n",
              "<td style=\"background:#eaf3ff;\">64.91</td>\n",
              "<td style=\"background:#eaf3ff;\">18.45</td>\n",
              "<td style=\"background:#eaf3ff;\">8.34</td>\n",
              "<td style=\"background:#fee7f6;border-left-width:2px;\">84.32</td>\n",
              "<td style=\"background:#fee7f6;\">69.62</td>\n",
              "<td style=\"background:#fee7f6;\">21.61</td>\n",
              "<td style=\"background:#fee7f6;\">9.98</td>\n",
              "<td style=\"border-left-width:2px;\">4.78</td>\n",
              "<td>4.71</td>\n",
              "<td>3.16</td>\n",
              "<td>1.64</td>\n",
              "<td style=\"border-left-width:2px;\">9130</td>\n",
              "<td><span class=\"flagicon\"><span class=\"mw-image-border\" typeof=\"mw:File\"><a href=\"/wiki/Austria\" title=\"Austria\"><img alt=\"Austria\" class=\"mw-file-element\" data-file-height=\"600\" data-file-width=\"900\" decoding=\"async\" height=\"15\" src=\"//upload.wikimedia.org/wikipedia/commons/thumb/4/41/Flag_of_Austria.svg/23px-Flag_of_Austria.svg.png\" srcset=\"//upload.wikimedia.org/wikipedia/commons/thumb/4/41/Flag_of_Austria.svg/35px-Flag_of_Austria.svg.png 1.5x, //upload.wikimedia.org/wikipedia/commons/thumb/4/41/Flag_of_Austria.svg/45px-Flag_of_Austria.svg.png 2x\" width=\"23\"/></a></span></span>\n",
              "</td></tr>\n",
              "<tr>\n",
              "<td><span class=\"flagicon\" style=\"display:inline-block;width:25px;\"><span class=\"mw-image-border\" typeof=\"mw:File\"><span><img alt=\"\" class=\"mw-file-element\" data-file-height=\"387\" data-file-width=\"512\" decoding=\"async\" height=\"15\" src=\"//upload.wikimedia.org/wikipedia/commons/thumb/9/9c/Flag_of_Denmark.svg/20px-Flag_of_Denmark.svg.png\" srcset=\"//upload.wikimedia.org/wikipedia/commons/thumb/9/9c/Flag_of_Denmark.svg/31px-Flag_of_Denmark.svg.png 1.5x, //upload.wikimedia.org/wikipedia/commons/thumb/9/9c/Flag_of_Denmark.svg/40px-Flag_of_Denmark.svg.png 2x\" width=\"20\"/></span></span></span> <a href=\"/wiki/Denmark\" title=\"Denmark\">Denmark</a></td>\n",
              "<td style=\"background:#e0ffd8;\">81.93</td>\n",
              "<td>0.33</td>\n",
              "<td style=\"background:#e0ffd8;\">67.26</td>\n",
              "<td>2.59</td>\n",
              "<td style=\"background:#e0ffd8;\">19.85</td>\n",
              "<td>4.20</td>\n",
              "<td style=\"background:#e0ffd8;\">9.06</td>\n",
              "<td style=\"background:#eaf3ff;border-left-width:2px;\">80.02</td>\n",
              "<td style=\"background:#eaf3ff;\">65.36</td>\n",
              "<td style=\"background:#eaf3ff;\">18.39</td>\n",
              "<td style=\"background:#eaf3ff;\">8.13</td>\n",
              "<td style=\"background:#fee7f6;border-left-width:2px;\">83.86</td>\n",
              "<td style=\"background:#fee7f6;\">69.17</td>\n",
              "<td style=\"background:#fee7f6;\">21.25</td>\n",
              "<td style=\"background:#fee7f6;\">9.80</td>\n",
              "<td style=\"border-left-width:2px;\">3.84</td>\n",
              "<td>3.80</td>\n",
              "<td>2.85</td>\n",
              "<td>1.68</td>\n",
              "<td style=\"border-left-width:2px;\">5948</td>\n",
              "<td><span class=\"flagicon\"><span class=\"mw-image-border\" typeof=\"mw:File\"><a href=\"/wiki/Denmark\" title=\"Denmark\"><img alt=\"Denmark\" class=\"mw-file-element\" data-file-height=\"387\" data-file-width=\"512\" decoding=\"async\" height=\"15\" src=\"//upload.wikimedia.org/wikipedia/commons/thumb/9/9c/Flag_of_Denmark.svg/20px-Flag_of_Denmark.svg.png\" srcset=\"//upload.wikimedia.org/wikipedia/commons/thumb/9/9c/Flag_of_Denmark.svg/31px-Flag_of_Denmark.svg.png 1.5x, //upload.wikimedia.org/wikipedia/commons/thumb/9/9c/Flag_of_Denmark.svg/40px-Flag_of_Denmark.svg.png 2x\" width=\"20\"/></a></span></span>\n",
              "</td></tr>\n",
              "<tr>\n",
              "<td><span class=\"flagicon\" style=\"display:inline-block;width:25px;\"><span class=\"mw-image-border\" typeof=\"mw:File\"><span><img alt=\"\" class=\"mw-file-element\" data-file-height=\"1100\" data-file-width=\"1800\" decoding=\"async\" height=\"14\" src=\"//upload.wikimedia.org/wikipedia/commons/thumb/b/bc/Flag_of_Finland.svg/23px-Flag_of_Finland.svg.png\" srcset=\"//upload.wikimedia.org/wikipedia/commons/thumb/b/bc/Flag_of_Finland.svg/35px-Flag_of_Finland.svg.png 1.5x, //upload.wikimedia.org/wikipedia/commons/thumb/b/bc/Flag_of_Finland.svg/46px-Flag_of_Finland.svg.png 2x\" width=\"23\"/></span></span></span> <a href=\"/wiki/Finland\" title=\"Finland\">Finland</a></td>\n",
              "<td style=\"background:#e0ffd8;\">81.91</td>\n",
              "<td>0.28</td>\n",
              "<td style=\"background:#e0ffd8;\">67.19</td>\n",
              "<td>3.13</td>\n",
              "<td style=\"background:#e0ffd8;\">20.32</td>\n",
              "<td>3.92</td>\n",
              "<td style=\"background:#e0ffd8;\">9.24</td>\n",
              "<td style=\"background:#eaf3ff;border-left-width:2px;\">79.17</td>\n",
              "<td style=\"background:#eaf3ff;\">64.45</td>\n",
              "<td style=\"background:#eaf3ff;\">18.36</td>\n",
              "<td style=\"background:#eaf3ff;\">8.07</td>\n",
              "<td style=\"background:#fee7f6;border-left-width:2px;\">84.67</td>\n",
              "<td style=\"background:#fee7f6;\">69.93</td>\n",
              "<td style=\"background:#fee7f6;\">22.11</td>\n",
              "<td style=\"background:#fee7f6;\">10.09</td>\n",
              "<td style=\"border-left-width:2px;\">5.50</td>\n",
              "<td>5.48</td>\n",
              "<td>3.75</td>\n",
              "<td>2.02</td>\n",
              "<td style=\"border-left-width:2px;\">5601</td>\n",
              "<td><span class=\"flagicon\"><span class=\"mw-image-border\" typeof=\"mw:File\"><a href=\"/wiki/Finland\" title=\"Finland\"><img alt=\"Finland\" class=\"mw-file-element\" data-file-height=\"1100\" data-file-width=\"1800\" decoding=\"async\" height=\"14\" src=\"//upload.wikimedia.org/wikipedia/commons/thumb/b/bc/Flag_of_Finland.svg/23px-Flag_of_Finland.svg.png\" srcset=\"//upload.wikimedia.org/wikipedia/commons/thumb/b/bc/Flag_of_Finland.svg/35px-Flag_of_Finland.svg.png 1.5x, //upload.wikimedia.org/wikipedia/commons/thumb/b/bc/Flag_of_Finland.svg/46px-Flag_of_Finland.svg.png 2x\" width=\"23\"/></a></span></span>\n",
              "</td></tr>\n",
              "<tr>\n",
              "<td><span class=\"flagicon\" style=\"display:inline-block;width:25px;\"><span class=\"mw-image-border\" typeof=\"mw:File\"><span><img alt=\"\" class=\"mw-file-element\" data-file-height=\"400\" data-file-width=\"600\" decoding=\"async\" height=\"15\" src=\"//upload.wikimedia.org/wikipedia/commons/thumb/5/5c/Flag_of_Greece.svg/23px-Flag_of_Greece.svg.png\" srcset=\"//upload.wikimedia.org/wikipedia/commons/thumb/5/5c/Flag_of_Greece.svg/35px-Flag_of_Greece.svg.png 1.5x, //upload.wikimedia.org/wikipedia/commons/thumb/5/5c/Flag_of_Greece.svg/45px-Flag_of_Greece.svg.png 2x\" width=\"23\"/></span></span></span> <a href=\"/wiki/Greece\" title=\"Greece\">Greece</a></td>\n",
              "<td style=\"background:#e0ffd8;\">81.86</td>\n",
              "<td>0.35</td>\n",
              "<td style=\"background:#e0ffd8;\">67.20</td>\n",
              "<td>2.71</td>\n",
              "<td style=\"background:#e0ffd8;\">19.92</td>\n",
              "<td>4.62</td>\n",
              "<td style=\"background:#e0ffd8;\">9.53</td>\n",
              "<td style=\"background:#eaf3ff;border-left-width:2px;\">79.29</td>\n",
              "<td style=\"background:#eaf3ff;\">64.65</td>\n",
              "<td style=\"background:#eaf3ff;\">18.24</td>\n",
              "<td style=\"background:#eaf3ff;\">8.64</td>\n",
              "<td style=\"background:#fee7f6;border-left-width:2px;\">84.33</td>\n",
              "<td style=\"background:#fee7f6;\">69.66</td>\n",
              "<td style=\"background:#fee7f6;\">21.41</td>\n",
              "<td style=\"background:#fee7f6;\">10.19</td>\n",
              "<td style=\"border-left-width:2px;\">5.04</td>\n",
              "<td>5.00</td>\n",
              "<td>3.16</td>\n",
              "<td>1.55</td>\n",
              "<td style=\"border-left-width:2px;\">10243</td>\n",
              "<td><span class=\"flagicon\"><span class=\"mw-image-border\" typeof=\"mw:File\"><a href=\"/wiki/Greece\" title=\"Greece\"><img alt=\"Greece\" class=\"mw-file-element\" data-file-height=\"400\" data-file-width=\"600\" decoding=\"async\" height=\"15\" src=\"//upload.wikimedia.org/wikipedia/commons/thumb/5/5c/Flag_of_Greece.svg/23px-Flag_of_Greece.svg.png\" srcset=\"//upload.wikimedia.org/wikipedia/commons/thumb/5/5c/Flag_of_Greece.svg/35px-Flag_of_Greece.svg.png 1.5x, //upload.wikimedia.org/wikipedia/commons/thumb/5/5c/Flag_of_Greece.svg/45px-Flag_of_Greece.svg.png 2x\" width=\"23\"/></a></span></span>\n",
              "</td></tr>\n",
              "<tr>\n",
              "<td><span class=\"flagicon\" style=\"display:inline-block;width:25px;\"><span class=\"mw-image-border\" typeof=\"mw:File\"><span><img alt=\"\" class=\"mw-file-element\" data-file-height=\"800\" data-file-width=\"1200\" decoding=\"async\" height=\"15\" src=\"//upload.wikimedia.org/wikipedia/commons/thumb/d/d4/Flag_of_Cyprus.svg/23px-Flag_of_Cyprus.svg.png\" srcset=\"//upload.wikimedia.org/wikipedia/commons/thumb/d/d4/Flag_of_Cyprus.svg/35px-Flag_of_Cyprus.svg.png 1.5x, //upload.wikimedia.org/wikipedia/commons/thumb/d/d4/Flag_of_Cyprus.svg/45px-Flag_of_Cyprus.svg.png 2x\" width=\"23\"/></span></span></span> <a href=\"/wiki/Cyprus\" title=\"Cyprus\">Cyprus</a></td>\n",
              "<td style=\"background:#e0ffd8;\">81.65</td>\n",
              "<td>0.33</td>\n",
              "<td style=\"background:#e0ffd8;\">66.97</td>\n",
              "<td>2.16</td>\n",
              "<td style=\"background:#e0ffd8;\">19.14</td>\n",
              "<td>4.48</td>\n",
              "<td style=\"background:#e0ffd8;\">8.62</td>\n",
              "<td style=\"background:#eaf3ff;border-left-width:2px;\">79.64</td>\n",
              "<td style=\"background:#eaf3ff;\">64.98</td>\n",
              "<td style=\"background:#eaf3ff;\">17.64</td>\n",
              "<td style=\"background:#eaf3ff;\">7.76</td>\n",
              "<td style=\"background:#fee7f6;border-left-width:2px;\">83.67</td>\n",
              "<td style=\"background:#fee7f6;\">68.97</td>\n",
              "<td style=\"background:#fee7f6;\">20.57</td>\n",
              "<td style=\"background:#fee7f6;\">9.28</td>\n",
              "<td style=\"border-left-width:2px;\">4.03</td>\n",
              "<td>3.99</td>\n",
              "<td>2.93</td>\n",
              "<td>1.51</td>\n",
              "<td style=\"border-left-width:2px;\">1345</td>\n",
              "<td><span class=\"flagicon\"><span class=\"mw-image-border\" typeof=\"mw:File\"><a href=\"/wiki/Cyprus\" title=\"Cyprus\"><img alt=\"Cyprus\" class=\"mw-file-element\" data-file-height=\"800\" data-file-width=\"1200\" decoding=\"async\" height=\"15\" src=\"//upload.wikimedia.org/wikipedia/commons/thumb/d/d4/Flag_of_Cyprus.svg/23px-Flag_of_Cyprus.svg.png\" srcset=\"//upload.wikimedia.org/wikipedia/commons/thumb/d/d4/Flag_of_Cyprus.svg/35px-Flag_of_Cyprus.svg.png 1.5x, //upload.wikimedia.org/wikipedia/commons/thumb/d/d4/Flag_of_Cyprus.svg/45px-Flag_of_Cyprus.svg.png 2x\" width=\"23\"/></a></span></span>\n",
              "</td></tr>\n",
              "<tr>\n",
              "<td><span class=\"flagicon\" style=\"display:inline-block;width:25px;\"><span class=\"mw-image-border\" typeof=\"mw:File\"><span><img alt=\"\" class=\"mw-file-element\" data-file-height=\"600\" data-file-width=\"1200\" decoding=\"async\" height=\"12\" src=\"//upload.wikimedia.org/wikipedia/commons/thumb/f/f0/Flag_of_Slovenia.svg/23px-Flag_of_Slovenia.svg.png\" srcset=\"//upload.wikimedia.org/wikipedia/commons/thumb/f/f0/Flag_of_Slovenia.svg/35px-Flag_of_Slovenia.svg.png 1.5x, //upload.wikimedia.org/wikipedia/commons/thumb/f/f0/Flag_of_Slovenia.svg/46px-Flag_of_Slovenia.svg.png 2x\" width=\"23\"/></span></span></span> <a href=\"/wiki/Slovenia\" title=\"Slovenia\">Slovenia</a></td>\n",
              "<td style=\"background:#e0ffd8;\">81.60</td>\n",
              "<td>0.24</td>\n",
              "<td style=\"background:#e0ffd8;\">66.85</td>\n",
              "<td>2.93</td>\n",
              "<td style=\"background:#e0ffd8;\">19.78</td>\n",
              "<td>4.43</td>\n",
              "<td style=\"background:#e0ffd8;\">9.21</td>\n",
              "<td style=\"background:#eaf3ff;border-left-width:2px;\">78.90</td>\n",
              "<td style=\"background:#eaf3ff;\">64.17</td>\n",
              "<td style=\"background:#eaf3ff;\">17.87</td>\n",
              "<td style=\"background:#eaf3ff;\">8.18</td>\n",
              "<td style=\"background:#fee7f6;border-left-width:2px;\">84.34</td>\n",
              "<td style=\"background:#fee7f6;\">69.54</td>\n",
              "<td style=\"background:#fee7f6;\">21.47</td>\n",
              "<td style=\"background:#fee7f6;\">9.86</td>\n",
              "<td style=\"border-left-width:2px;\">5.44</td>\n",
              "<td>5.37</td>\n",
              "<td>3.59</td>\n",
              "<td>1.67</td>\n",
              "<td style=\"border-left-width:2px;\">2118</td>\n",
              "<td><span class=\"flagicon\"><span class=\"mw-image-border\" typeof=\"mw:File\"><a href=\"/wiki/Slovenia\" title=\"Slovenia\"><img alt=\"Slovenia\" class=\"mw-file-element\" data-file-height=\"600\" data-file-width=\"1200\" decoding=\"async\" height=\"12\" src=\"//upload.wikimedia.org/wikipedia/commons/thumb/f/f0/Flag_of_Slovenia.svg/23px-Flag_of_Slovenia.svg.png\" srcset=\"//upload.wikimedia.org/wikipedia/commons/thumb/f/f0/Flag_of_Slovenia.svg/35px-Flag_of_Slovenia.svg.png 1.5x, //upload.wikimedia.org/wikipedia/commons/thumb/f/f0/Flag_of_Slovenia.svg/46px-Flag_of_Slovenia.svg.png 2x\" width=\"23\"/></a></span></span>\n",
              "</td></tr>\n",
              "<tr>\n",
              "<td><span class=\"flagicon\" style=\"display:inline-block;width:25px;\"><span class=\"mw-image-border\" typeof=\"mw:File\"><span><img alt=\"\" class=\"mw-file-element\" data-file-height=\"600\" data-file-width=\"1000\" decoding=\"async\" height=\"14\" src=\"//upload.wikimedia.org/wikipedia/en/thumb/b/ba/Flag_of_Germany.svg/23px-Flag_of_Germany.svg.png\" srcset=\"//upload.wikimedia.org/wikipedia/en/thumb/b/ba/Flag_of_Germany.svg/35px-Flag_of_Germany.svg.png 1.5x, //upload.wikimedia.org/wikipedia/en/thumb/b/ba/Flag_of_Germany.svg/46px-Flag_of_Germany.svg.png 2x\" width=\"23\"/></span></span></span> <a href=\"/wiki/Germany\" title=\"Germany\">Germany</a></td>\n",
              "<td style=\"background:#e0ffd8;\">81.38</td>\n",
              "<td>0.34</td>\n",
              "<td style=\"background:#e0ffd8;\">66.72</td>\n",
              "<td>3.10</td>\n",
              "<td style=\"background:#e0ffd8;\">19.82</td>\n",
              "<td>4.24</td>\n",
              "<td style=\"background:#e0ffd8;\">9.06</td>\n",
              "<td style=\"background:#eaf3ff;border-left-width:2px;\">79.02</td>\n",
              "<td style=\"background:#eaf3ff;\">64.38</td>\n",
              "<td style=\"background:#eaf3ff;\">18.18</td>\n",
              "<td style=\"background:#eaf3ff;\">8.24</td>\n",
              "<td style=\"background:#fee7f6;border-left-width:2px;\">83.76</td>\n",
              "<td style=\"background:#fee7f6;\">69.07</td>\n",
              "<td style=\"background:#fee7f6;\">21.33</td>\n",
              "<td style=\"background:#fee7f6;\">9.66</td>\n",
              "<td style=\"border-left-width:2px;\">4.74</td>\n",
              "<td>4.69</td>\n",
              "<td>3.16</td>\n",
              "<td>1.42</td>\n",
              "<td style=\"border-left-width:2px;\">84548</td>\n",
              "<td><span class=\"flagicon\"><span class=\"mw-image-border\" typeof=\"mw:File\"><a href=\"/wiki/Germany\" title=\"Germany\"><img alt=\"Germany\" class=\"mw-file-element\" data-file-height=\"600\" data-file-width=\"1000\" decoding=\"async\" height=\"14\" src=\"//upload.wikimedia.org/wikipedia/en/thumb/b/ba/Flag_of_Germany.svg/23px-Flag_of_Germany.svg.png\" srcset=\"//upload.wikimedia.org/wikipedia/en/thumb/b/ba/Flag_of_Germany.svg/35px-Flag_of_Germany.svg.png 1.5x, //upload.wikimedia.org/wikipedia/en/thumb/b/ba/Flag_of_Germany.svg/46px-Flag_of_Germany.svg.png 2x\" width=\"23\"/></a></span></span>\n",
              "</td></tr>\n",
              "<tr>\n",
              "<td><span class=\"flagicon\" style=\"display:inline-block;width:25px;\"><span class=\"mw-image-border\" typeof=\"mw:File\"><span><img alt=\"\" class=\"mw-file-element\" data-file-height=\"600\" data-file-width=\"1200\" decoding=\"async\" height=\"12\" src=\"//upload.wikimedia.org/wikipedia/en/thumb/a/ae/Flag_of_the_United_Kingdom.svg/23px-Flag_of_the_United_Kingdom.svg.png\" srcset=\"//upload.wikimedia.org/wikipedia/en/thumb/a/ae/Flag_of_the_United_Kingdom.svg/35px-Flag_of_the_United_Kingdom.svg.png 1.5x, //upload.wikimedia.org/wikipedia/en/thumb/a/ae/Flag_of_the_United_Kingdom.svg/46px-Flag_of_the_United_Kingdom.svg.png 2x\" width=\"23\"/></span></span></span> <a href=\"/wiki/United_Kingdom\" title=\"United Kingdom\">United Kingdom</a></td>\n",
              "<td style=\"background:#e0ffd8;\">81.30</td>\n",
              "<td>0.40</td>\n",
              "<td style=\"background:#e0ffd8;\">66.70</td>\n",
              "<td>3.50</td>\n",
              "<td style=\"background:#e0ffd8;\">20.19</td>\n",
              "<td>4.11</td>\n",
              "<td style=\"background:#e0ffd8;\">9.30</td>\n",
              "<td style=\"background:#eaf3ff;border-left-width:2px;\">79.36</td>\n",
              "<td style=\"background:#eaf3ff;\">64.79</td>\n",
              "<td style=\"background:#eaf3ff;\">18.95</td>\n",
              "<td style=\"background:#eaf3ff;\">8.58</td>\n",
              "<td style=\"background:#fee7f6;border-left-width:2px;\">83.21</td>\n",
              "<td style=\"background:#fee7f6;\">68.57</td>\n",
              "<td style=\"background:#fee7f6;\">21.34</td>\n",
              "<td style=\"background:#fee7f6;\">9.88</td>\n",
              "<td style=\"border-left-width:2px;\">3.85</td>\n",
              "<td>3.78</td>\n",
              "<td>2.40</td>\n",
              "<td>1.30</td>\n",
              "<td style=\"border-left-width:2px;\">68683</td>\n",
              "<td><span class=\"flagicon\"><span class=\"mw-image-border\" typeof=\"mw:File\"><a href=\"/wiki/United_Kingdom\" title=\"United Kingdom\"><img alt=\"United Kingdom\" class=\"mw-file-element\" data-file-height=\"600\" data-file-width=\"1200\" decoding=\"async\" height=\"12\" src=\"//upload.wikimedia.org/wikipedia/en/thumb/a/ae/Flag_of_the_United_Kingdom.svg/23px-Flag_of_the_United_Kingdom.svg.png\" srcset=\"//upload.wikimedia.org/wikipedia/en/thumb/a/ae/Flag_of_the_United_Kingdom.svg/35px-Flag_of_the_United_Kingdom.svg.png 1.5x, //upload.wikimedia.org/wikipedia/en/thumb/a/ae/Flag_of_the_United_Kingdom.svg/46px-Flag_of_the_United_Kingdom.svg.png 2x\" width=\"23\"/></a></span></span>\n",
              "</td></tr>\n",
              "<tr>\n",
              "<td><span class=\"flagicon\" style=\"display:inline-block;width:25px;\"><span class=\"mw-image-border\" typeof=\"mw:File\"><span><img alt=\"\" class=\"mw-file-element\" data-file-height=\"300\" data-file-width=\"600\" decoding=\"async\" height=\"12\" src=\"//upload.wikimedia.org/wikipedia/commons/thumb/b/bc/Flag_of_the_Isle_of_Man.svg/23px-Flag_of_the_Isle_of_Man.svg.png\" srcset=\"//upload.wikimedia.org/wikipedia/commons/thumb/b/bc/Flag_of_the_Isle_of_Man.svg/35px-Flag_of_the_Isle_of_Man.svg.png 1.5x, //upload.wikimedia.org/wikipedia/commons/thumb/b/bc/Flag_of_the_Isle_of_Man.svg/46px-Flag_of_the_Isle_of_Man.svg.png 2x\" width=\"23\"/></span></span></span> <a href=\"/wiki/Isle_of_Man\" title=\"Isle of Man\">Isle of Man</a></td>\n",
              "<td style=\"background:#e0ffd8;\">81.00</td>\n",
              "<td>1.31</td>\n",
              "<td style=\"background:#e0ffd8;\">67.31</td>\n",
              "<td>3.25</td>\n",
              "<td style=\"background:#e0ffd8;\">20.56</td>\n",
              "<td>4.21</td>\n",
              "<td style=\"background:#e0ffd8;\">9.78</td>\n",
              "<td style=\"background:#eaf3ff;border-left-width:2px;\">78.93</td>\n",
              "<td style=\"background:#eaf3ff;\">65.29</td>\n",
              "<td style=\"background:#eaf3ff;\">19.16</td>\n",
              "<td style=\"background:#eaf3ff;\">8.84</td>\n",
              "<td style=\"background:#fee7f6;border-left-width:2px;\">83.13</td>\n",
              "<td style=\"background:#fee7f6;\">69.38</td>\n",
              "<td style=\"background:#fee7f6;\">21.93</td>\n",
              "<td style=\"background:#fee7f6;\">10.55</td>\n",
              "<td style=\"border-left-width:2px;\">4.21</td>\n",
              "<td>4.08</td>\n",
              "<td>2.77</td>\n",
              "<td>1.71</td>\n",
              "<td style=\"border-left-width:2px;\">84</td>\n",
              "<td><span class=\"flagicon\"><span class=\"mw-image-border\" typeof=\"mw:File\"><a href=\"/wiki/Isle_of_Man\" title=\"Isle of Man\"><img alt=\"Isle of Man\" class=\"mw-file-element\" data-file-height=\"300\" data-file-width=\"600\" decoding=\"async\" height=\"12\" src=\"//upload.wikimedia.org/wikipedia/commons/thumb/b/bc/Flag_of_the_Isle_of_Man.svg/23px-Flag_of_the_Isle_of_Man.svg.png\" srcset=\"//upload.wikimedia.org/wikipedia/commons/thumb/b/bc/Flag_of_the_Isle_of_Man.svg/35px-Flag_of_the_Isle_of_Man.svg.png 1.5x, //upload.wikimedia.org/wikipedia/commons/thumb/b/bc/Flag_of_the_Isle_of_Man.svg/46px-Flag_of_the_Isle_of_Man.svg.png 2x\" width=\"23\"/></a></span></span>\n",
              "</td></tr>\n",
              "<tr>\n",
              "<td><span class=\"flagicon\" style=\"display:inline-block;width:25px;\"><span class=\"mw-image-border\" typeof=\"mw:File\"><span><img alt=\"\" class=\"mw-file-element\" data-file-height=\"800\" data-file-width=\"1100\" decoding=\"async\" height=\"15\" src=\"//upload.wikimedia.org/wikipedia/commons/thumb/3/3c/Flag_of_the_Faroe_Islands.svg/21px-Flag_of_the_Faroe_Islands.svg.png\" srcset=\"//upload.wikimedia.org/wikipedia/commons/thumb/3/3c/Flag_of_the_Faroe_Islands.svg/32px-Flag_of_the_Faroe_Islands.svg.png 1.5x, //upload.wikimedia.org/wikipedia/commons/thumb/3/3c/Flag_of_the_Faroe_Islands.svg/41px-Flag_of_the_Faroe_Islands.svg.png 2x\" width=\"21\"/></span></span></span> <a href=\"/wiki/Faroe_Islands\" title=\"Faroe Islands\">Faroe Islands</a></td>\n",
              "<td style=\"background:#e0ffd8;\">80.18</td>\n",
              "<td>0.68</td>\n",
              "<td style=\"background:#e0ffd8;\">65.86</td>\n",
              "<td>2.40</td>\n",
              "<td style=\"background:#e0ffd8;\">18.26</td>\n",
              "<td>4.65</td>\n",
              "<td style=\"background:#e0ffd8;\">7.91</td>\n",
              "<td style=\"background:#eaf3ff;border-left-width:2px;\">78.17</td>\n",
              "<td style=\"background:#eaf3ff;\">63.96</td>\n",
              "<td style=\"background:#eaf3ff;\">16.83</td>\n",
              "<td style=\"background:#eaf3ff;\">7.12</td>\n",
              "<td style=\"background:#fee7f6;border-left-width:2px;\">82.50</td>\n",
              "<td style=\"background:#fee7f6;\">68.06</td>\n",
              "<td style=\"background:#fee7f6;\">19.86</td>\n",
              "<td style=\"background:#fee7f6;\">8.64</td>\n",
              "<td style=\"border-left-width:2px;\">4.33</td>\n",
              "<td>4.10</td>\n",
              "<td>3.03</td>\n",
              "<td>1.52</td>\n",
              "<td style=\"border-left-width:2px;\">55</td>\n",
              "<td><span class=\"flagicon\"><span class=\"mw-image-border\" typeof=\"mw:File\"><a href=\"/wiki/Faroe_Islands\" title=\"Faroe Islands\"><img alt=\"Faroe Islands\" class=\"mw-file-element\" data-file-height=\"800\" data-file-width=\"1100\" decoding=\"async\" height=\"15\" src=\"//upload.wikimedia.org/wikipedia/commons/thumb/3/3c/Flag_of_the_Faroe_Islands.svg/21px-Flag_of_the_Faroe_Islands.svg.png\" srcset=\"//upload.wikimedia.org/wikipedia/commons/thumb/3/3c/Flag_of_the_Faroe_Islands.svg/32px-Flag_of_the_Faroe_Islands.svg.png 1.5x, //upload.wikimedia.org/wikipedia/commons/thumb/3/3c/Flag_of_the_Faroe_Islands.svg/41px-Flag_of_the_Faroe_Islands.svg.png 2x\" width=\"21\"/></a></span></span>\n",
              "</td></tr>\n",
              "<tr>\n",
              "<td><span class=\"flagicon\" style=\"display:inline-block;width:25px;\"><span class=\"mw-image-border\" typeof=\"mw:File\"><span><img alt=\"\" class=\"mw-file-element\" data-file-height=\"600\" data-file-width=\"900\" decoding=\"async\" height=\"15\" src=\"//upload.wikimedia.org/wikipedia/commons/thumb/c/cb/Flag_of_the_Czech_Republic.svg/23px-Flag_of_the_Czech_Republic.svg.png\" srcset=\"//upload.wikimedia.org/wikipedia/commons/thumb/c/cb/Flag_of_the_Czech_Republic.svg/35px-Flag_of_the_Czech_Republic.svg.png 1.5x, //upload.wikimedia.org/wikipedia/commons/thumb/c/cb/Flag_of_the_Czech_Republic.svg/45px-Flag_of_the_Czech_Republic.svg.png 2x\" width=\"23\"/></span></span></span> <a href=\"/wiki/Czech_Republic\" title=\"Czech Republic\">Czechia</a></td>\n",
              "<td style=\"background:#e0ffd8;\">79.83</td>\n",
              "<td>0.28</td>\n",
              "<td style=\"background:#e0ffd8;\">65.11</td>\n",
              "<td>3.54</td>\n",
              "<td style=\"background:#e0ffd8;\">18.66</td>\n",
              "<td>4.81</td>\n",
              "<td style=\"background:#e0ffd8;\">8.47</td>\n",
              "<td style=\"background:#eaf3ff;border-left-width:2px;\">77.00</td>\n",
              "<td style=\"background:#eaf3ff;\">62.29</td>\n",
              "<td style=\"background:#eaf3ff;\">16.71</td>\n",
              "<td style=\"background:#eaf3ff;\">7.56</td>\n",
              "<td style=\"background:#fee7f6;border-left-width:2px;\">82.64</td>\n",
              "<td style=\"background:#fee7f6;\">67.90</td>\n",
              "<td style=\"background:#fee7f6;\">20.32</td>\n",
              "<td style=\"background:#fee7f6;\">9.03</td>\n",
              "<td style=\"border-left-width:2px;\">5.64</td>\n",
              "<td>5.60</td>\n",
              "<td>3.61</td>\n",
              "<td>1.47</td>\n",
              "<td style=\"border-left-width:2px;\">10810</td>\n",
              "<td><span class=\"flagicon\"><span class=\"mw-image-border\" typeof=\"mw:File\"><a href=\"/wiki/Czech_Republic\" title=\"Czech Republic\"><img alt=\"Czech Republic\" class=\"mw-file-element\" data-file-height=\"600\" data-file-width=\"900\" decoding=\"async\" height=\"15\" src=\"//upload.wikimedia.org/wikipedia/commons/thumb/c/cb/Flag_of_the_Czech_Republic.svg/23px-Flag_of_the_Czech_Republic.svg.png\" srcset=\"//upload.wikimedia.org/wikipedia/commons/thumb/c/cb/Flag_of_the_Czech_Republic.svg/35px-Flag_of_the_Czech_Republic.svg.png 1.5x, //upload.wikimedia.org/wikipedia/commons/thumb/c/cb/Flag_of_the_Czech_Republic.svg/45px-Flag_of_the_Czech_Republic.svg.png 2x\" width=\"23\"/></a></span></span>\n",
              "</td></tr>\n",
              "<tr>\n",
              "<td><span class=\"flagicon\" style=\"display:inline-block;width:25px;\"><span class=\"mw-image-border\" typeof=\"mw:File\"><span><img alt=\"\" class=\"mw-file-element\" data-file-height=\"600\" data-file-width=\"1000\" decoding=\"async\" height=\"14\" src=\"//upload.wikimedia.org/wikipedia/commons/thumb/1/1c/Flag_of_Jersey.svg/23px-Flag_of_Jersey.svg.png\" srcset=\"//upload.wikimedia.org/wikipedia/commons/thumb/1/1c/Flag_of_Jersey.svg/35px-Flag_of_Jersey.svg.png 1.5x, //upload.wikimedia.org/wikipedia/commons/thumb/1/1c/Flag_of_Jersey.svg/46px-Flag_of_Jersey.svg.png 2x\" width=\"23\"/></span></span></span> <a href=\"/wiki/Jersey\" title=\"Jersey\">Jersey</a></td>\n",
              "<td style=\"background:#e0ffd8;\">79.71</td>\n",
              "<td>0.91</td>\n",
              "<td style=\"background:#e0ffd8;\">65.61</td>\n",
              "<td>2.81</td>\n",
              "<td style=\"background:#e0ffd8;\">18.43</td>\n",
              "<td>4.81</td>\n",
              "<td style=\"background:#e0ffd8;\">8.23</td>\n",
              "<td style=\"background:#eaf3ff;border-left-width:2px;\">77.72</td>\n",
              "<td style=\"background:#eaf3ff;\">63.60</td>\n",
              "<td style=\"background:#eaf3ff;\">16.80</td>\n",
              "<td style=\"background:#eaf3ff;\">7.25</td>\n",
              "<td style=\"background:#fee7f6;border-left-width:2px;\">81.76</td>\n",
              "<td style=\"background:#fee7f6;\">67.69</td>\n",
              "<td style=\"background:#fee7f6;\">20.04</td>\n",
              "<td style=\"background:#fee7f6;\">9.06</td>\n",
              "<td style=\"border-left-width:2px;\">4.04</td>\n",
              "<td>4.09</td>\n",
              "<td>3.24</td>\n",
              "<td>1.81</td>\n",
              "<td style=\"border-left-width:2px;\">104</td>\n",
              "<td><span class=\"flagicon\"><span class=\"mw-image-border\" typeof=\"mw:File\"><a href=\"/wiki/Jersey\" title=\"Jersey\"><img alt=\"Jersey\" class=\"mw-file-element\" data-file-height=\"600\" data-file-width=\"1000\" decoding=\"async\" height=\"14\" src=\"//upload.wikimedia.org/wikipedia/commons/thumb/1/1c/Flag_of_Jersey.svg/23px-Flag_of_Jersey.svg.png\" srcset=\"//upload.wikimedia.org/wikipedia/commons/thumb/1/1c/Flag_of_Jersey.svg/35px-Flag_of_Jersey.svg.png 1.5x, //upload.wikimedia.org/wikipedia/commons/thumb/1/1c/Flag_of_Jersey.svg/46px-Flag_of_Jersey.svg.png 2x\" width=\"23\"/></a></span></span>\n",
              "</td></tr>\n",
              "<tr>\n",
              "<td><span class=\"flagicon\" style=\"display:inline-block;width:25px;\"><span class=\"mw-image-border\" typeof=\"mw:File\"><span><img alt=\"\" class=\"mw-file-element\" data-file-height=\"500\" data-file-width=\"700\" decoding=\"async\" height=\"15\" src=\"//upload.wikimedia.org/wikipedia/commons/thumb/3/36/Flag_of_Albania.svg/21px-Flag_of_Albania.svg.png\" srcset=\"//upload.wikimedia.org/wikipedia/commons/thumb/3/36/Flag_of_Albania.svg/32px-Flag_of_Albania.svg.png 1.5x, //upload.wikimedia.org/wikipedia/commons/thumb/3/36/Flag_of_Albania.svg/42px-Flag_of_Albania.svg.png 2x\" width=\"21\"/></span></span></span> <a href=\"/wiki/Albania\" title=\"Albania\">Albania</a></td>\n",
              "<td style=\"background:#e0ffd8;\">79.60</td>\n",
              "<td>0.89</td>\n",
              "<td style=\"background:#e0ffd8;\">65.49</td>\n",
              "<td>3.27</td>\n",
              "<td style=\"background:#e0ffd8;\">18.76</td>\n",
              "<td>4.48</td>\n",
              "<td style=\"background:#e0ffd8;\">8.24</td>\n",
              "<td style=\"background:#eaf3ff;border-left-width:2px;\">77.73</td>\n",
              "<td style=\"background:#eaf3ff;\">63.64</td>\n",
              "<td style=\"background:#eaf3ff;\">17.87</td>\n",
              "<td style=\"background:#eaf3ff;\">7.76</td>\n",
              "<td style=\"background:#fee7f6;border-left-width:2px;\">81.45</td>\n",
              "<td style=\"background:#fee7f6;\">67.31</td>\n",
              "<td style=\"background:#fee7f6;\">19.61</td>\n",
              "<td style=\"background:#fee7f6;\">8.67</td>\n",
              "<td style=\"border-left-width:2px;\">3.72</td>\n",
              "<td>3.67</td>\n",
              "<td>1.74</td>\n",
              "<td>0.91</td>\n",
              "<td style=\"border-left-width:2px;\">2812</td>\n",
              "<td><span class=\"flagicon\"><span class=\"mw-image-border\" typeof=\"mw:File\"><a href=\"/wiki/Albania\" title=\"Albania\"><img alt=\"Albania\" class=\"mw-file-element\" data-file-height=\"500\" data-file-width=\"700\" decoding=\"async\" height=\"15\" src=\"//upload.wikimedia.org/wikipedia/commons/thumb/3/36/Flag_of_Albania.svg/21px-Flag_of_Albania.svg.png\" srcset=\"//upload.wikimedia.org/wikipedia/commons/thumb/3/36/Flag_of_Albania.svg/32px-Flag_of_Albania.svg.png 1.5x, //upload.wikimedia.org/wikipedia/commons/thumb/3/36/Flag_of_Albania.svg/42px-Flag_of_Albania.svg.png 2x\" width=\"21\"/></a></span></span>\n",
              "</td></tr>\n",
              "<tr>\n",
              "<td><span class=\"flagicon\" style=\"display:inline-block;width:25px;\"><span class=\"mw-image-border\" typeof=\"mw:File\"><span><img alt=\"\" class=\"mw-file-element\" data-file-height=\"630\" data-file-width=\"990\" decoding=\"async\" height=\"15\" src=\"//upload.wikimedia.org/wikipedia/commons/thumb/8/8f/Flag_of_Estonia.svg/23px-Flag_of_Estonia.svg.png\" srcset=\"//upload.wikimedia.org/wikipedia/commons/thumb/8/8f/Flag_of_Estonia.svg/35px-Flag_of_Estonia.svg.png 1.5x, //upload.wikimedia.org/wikipedia/commons/thumb/8/8f/Flag_of_Estonia.svg/46px-Flag_of_Estonia.svg.png 2x\" width=\"23\"/></span></span></span> <a href=\"/wiki/Estonia\" title=\"Estonia\">Estonia</a></td>\n",
              "<td style=\"background:#e0ffd8;\">79.15</td>\n",
              "<td>0.26</td>\n",
              "<td style=\"background:#e0ffd8;\">64.41</td>\n",
              "<td>4.39</td>\n",
              "<td style=\"background:#e0ffd8;\">18.80</td>\n",
              "<td>5.21</td>\n",
              "<td style=\"background:#e0ffd8;\">9.02</td>\n",
              "<td style=\"background:#eaf3ff;border-left-width:2px;\">74.90</td>\n",
              "<td style=\"background:#eaf3ff;\">60.21</td>\n",
              "<td style=\"background:#eaf3ff;\">15.85</td>\n",
              "<td style=\"background:#eaf3ff;\">7.77</td>\n",
              "<td style=\"background:#fee7f6;border-left-width:2px;\">83.04</td>\n",
              "<td style=\"background:#fee7f6;\">68.23</td>\n",
              "<td style=\"background:#fee7f6;\">20.90</td>\n",
              "<td style=\"background:#fee7f6;\">9.55</td>\n",
              "<td style=\"border-left-width:2px;\">8.14</td>\n",
              "<td>8.03</td>\n",
              "<td>5.05</td>\n",
              "<td>1.78</td>\n",
              "<td style=\"border-left-width:2px;\">1367</td>\n",
              "<td><span class=\"flagicon\"><span class=\"mw-image-border\" typeof=\"mw:File\"><a href=\"/wiki/Estonia\" title=\"Estonia\"><img alt=\"Estonia\" class=\"mw-file-element\" data-file-height=\"630\" data-file-width=\"990\" decoding=\"async\" height=\"15\" src=\"//upload.wikimedia.org/wikipedia/commons/thumb/8/8f/Flag_of_Estonia.svg/23px-Flag_of_Estonia.svg.png\" srcset=\"//upload.wikimedia.org/wikipedia/commons/thumb/8/8f/Flag_of_Estonia.svg/35px-Flag_of_Estonia.svg.png 1.5x, //upload.wikimedia.org/wikipedia/commons/thumb/8/8f/Flag_of_Estonia.svg/46px-Flag_of_Estonia.svg.png 2x\" width=\"23\"/></a></span></span>\n",
              "</td></tr>\n",
              "<tr class=\"static-row-header\">\n",
              "<td><b><a href=\"/wiki/Europe\" title=\"Europe\">Europe</a></b></td>\n",
              "<td style=\"background:#e0ffd8;\"><b>79.06</b></td>\n",
              "<td><b>0.40</b></td>\n",
              "<td style=\"background:#e0ffd8;\"><b>64.45</b></td>\n",
              "<td><b>4.91</b></td>\n",
              "<td style=\"background:#e0ffd8;\"><b>19.36</b></td>\n",
              "<td><b>4.87</b></td>\n",
              "<td style=\"background:#e0ffd8;\"><b>9.23</b></td>\n",
              "<td style=\"background:#eaf3ff;border-left-width:2px;\"><b>75.53</b></td>\n",
              "<td style=\"background:#eaf3ff;\"><b>60.94</b></td>\n",
              "<td style=\"background:#eaf3ff;\"><b>17.48</b></td>\n",
              "<td style=\"background:#eaf3ff;\"><b>8.33</b></td>\n",
              "<td style=\"background:#fee7f6;border-left-width:2px;\"><b>82.56</b></td>\n",
              "<td style=\"background:#fee7f6;\"><b>67.93</b></td>\n",
              "<td style=\"background:#fee7f6;\"><b>20.90</b></td>\n",
              "<td style=\"background:#fee7f6;\"><b>9.79</b></td>\n",
              "<td style=\"border-left-width:2px;\"><b>7.04</b></td>\n",
              "<td><b>6.99</b></td>\n",
              "<td><b>3.41</b></td>\n",
              "<td><b>1.46</b></td>\n",
              "<td style=\"border-left-width:2px;\"><b>745603</b></td>\n",
              "<td>\n",
              "</td></tr>\n",
              "<tr>\n",
              "<td><span class=\"flagicon\" style=\"display:inline-block;width:25px;\"><span class=\"mw-image-border\" typeof=\"mw:File\"><span><img alt=\"\" class=\"mw-file-element\" data-file-height=\"800\" data-file-width=\"1280\" decoding=\"async\" height=\"14\" src=\"//upload.wikimedia.org/wikipedia/en/thumb/1/12/Flag_of_Poland.svg/23px-Flag_of_Poland.svg.png\" srcset=\"//upload.wikimedia.org/wikipedia/en/thumb/1/12/Flag_of_Poland.svg/35px-Flag_of_Poland.svg.png 1.5x, //upload.wikimedia.org/wikipedia/en/thumb/1/12/Flag_of_Poland.svg/46px-Flag_of_Poland.svg.png 2x\" width=\"23\"/></span></span></span> <a href=\"/wiki/Poland\" title=\"Poland\">Poland</a></td>\n",
              "<td style=\"background:#e0ffd8;\">78.63</td>\n",
              "<td>0.35</td>\n",
              "<td style=\"background:#e0ffd8;\">63.98</td>\n",
              "<td>4.71</td>\n",
              "<td style=\"background:#e0ffd8;\">18.70</td>\n",
              "<td>5.36</td>\n",
              "<td style=\"background:#e0ffd8;\">9.06</td>\n",
              "<td style=\"background:#eaf3ff;border-left-width:2px;\">74.88</td>\n",
              "<td style=\"background:#eaf3ff;\">60.23</td>\n",
              "<td style=\"background:#eaf3ff;\">16.43</td>\n",
              "<td style=\"background:#eaf3ff;\">8.05</td>\n",
              "<td style=\"background:#fee7f6;border-left-width:2px;\">82.35</td>\n",
              "<td style=\"background:#fee7f6;\">67.70</td>\n",
              "<td style=\"background:#fee7f6;\">20.52</td>\n",
              "<td style=\"background:#fee7f6;\">9.60</td>\n",
              "<td style=\"border-left-width:2px;\">7.48</td>\n",
              "<td>7.47</td>\n",
              "<td>4.09</td>\n",
              "<td>1.55</td>\n",
              "<td style=\"border-left-width:2px;\">38763</td>\n",
              "<td><span class=\"flagicon\"><span class=\"mw-image-border\" typeof=\"mw:File\"><a href=\"/wiki/Poland\" title=\"Poland\"><img alt=\"Poland\" class=\"mw-file-element\" data-file-height=\"800\" data-file-width=\"1280\" decoding=\"async\" height=\"14\" src=\"//upload.wikimedia.org/wikipedia/en/thumb/1/12/Flag_of_Poland.svg/23px-Flag_of_Poland.svg.png\" srcset=\"//upload.wikimedia.org/wikipedia/en/thumb/1/12/Flag_of_Poland.svg/35px-Flag_of_Poland.svg.png 1.5x, //upload.wikimedia.org/wikipedia/en/thumb/1/12/Flag_of_Poland.svg/46px-Flag_of_Poland.svg.png 2x\" width=\"23\"/></a></span></span>\n",
              "</td></tr>\n",
              "<tr>\n",
              "<td><span class=\"flagicon\" style=\"display:inline-block;width:25px;\"><span class=\"mw-image-border\" typeof=\"mw:File\"><span><img alt=\"\" class=\"mw-file-element\" data-file-height=\"600\" data-file-width=\"1200\" decoding=\"async\" height=\"12\" src=\"//upload.wikimedia.org/wikipedia/commons/thumb/1/1b/Flag_of_Croatia.svg/23px-Flag_of_Croatia.svg.png\" srcset=\"//upload.wikimedia.org/wikipedia/commons/thumb/1/1b/Flag_of_Croatia.svg/35px-Flag_of_Croatia.svg.png 1.5x, //upload.wikimedia.org/wikipedia/commons/thumb/1/1b/Flag_of_Croatia.svg/46px-Flag_of_Croatia.svg.png 2x\" width=\"23\"/></span></span></span> <a href=\"/wiki/Croatia\" title=\"Croatia\">Croatia</a></td>\n",
              "<td style=\"background:#e0ffd8;\">78.58</td>\n",
              "<td>0.37</td>\n",
              "<td style=\"background:#e0ffd8;\">63.95</td>\n",
              "<td>3.63</td>\n",
              "<td style=\"background:#e0ffd8;\">17.58</td>\n",
              "<td>5.10</td>\n",
              "<td style=\"background:#e0ffd8;\">7.68</td>\n",
              "<td style=\"background:#eaf3ff;border-left-width:2px;\">75.41</td>\n",
              "<td style=\"background:#eaf3ff;\">60.78</td>\n",
              "<td style=\"background:#eaf3ff;\">15.45</td>\n",
              "<td style=\"background:#eaf3ff;\">6.46</td>\n",
              "<td style=\"background:#fee7f6;border-left-width:2px;\">81.69</td>\n",
              "<td style=\"background:#fee7f6;\">67.05</td>\n",
              "<td style=\"background:#fee7f6;\">19.39</td>\n",
              "<td style=\"background:#fee7f6;\">8.42</td>\n",
              "<td style=\"border-left-width:2px;\">6.28</td>\n",
              "<td>6.27</td>\n",
              "<td>3.94</td>\n",
              "<td>1.96</td>\n",
              "<td style=\"border-left-width:2px;\">3896</td>\n",
              "<td><span class=\"flagicon\"><span class=\"mw-image-border\" typeof=\"mw:File\"><a href=\"/wiki/Croatia\" title=\"Croatia\"><img alt=\"Croatia\" class=\"mw-file-element\" data-file-height=\"600\" data-file-width=\"1200\" decoding=\"async\" height=\"12\" src=\"//upload.wikimedia.org/wikipedia/commons/thumb/1/1b/Flag_of_Croatia.svg/23px-Flag_of_Croatia.svg.png\" srcset=\"//upload.wikimedia.org/wikipedia/commons/thumb/1/1b/Flag_of_Croatia.svg/35px-Flag_of_Croatia.svg.png 1.5x, //upload.wikimedia.org/wikipedia/commons/thumb/1/1b/Flag_of_Croatia.svg/46px-Flag_of_Croatia.svg.png 2x\" width=\"23\"/></a></span></span>\n",
              "</td></tr>\n",
              "<tr>\n",
              "<td><span class=\"flagicon\" style=\"display:inline-block;width:25px;\"><span class=\"mw-image-border\" typeof=\"mw:File\"><span><img alt=\"\" class=\"mw-file-element\" data-file-height=\"600\" data-file-width=\"900\" decoding=\"async\" height=\"15\" src=\"//upload.wikimedia.org/wikipedia/commons/thumb/e/e6/Flag_of_Slovakia.svg/23px-Flag_of_Slovakia.svg.png\" srcset=\"//upload.wikimedia.org/wikipedia/commons/thumb/e/e6/Flag_of_Slovakia.svg/35px-Flag_of_Slovakia.svg.png 1.5x, //upload.wikimedia.org/wikipedia/commons/thumb/e/e6/Flag_of_Slovakia.svg/45px-Flag_of_Slovakia.svg.png 2x\" width=\"23\"/></span></span></span> <a href=\"/wiki/Slovakia\" title=\"Slovakia\">Slovakia</a></td>\n",
              "<td style=\"background:#e0ffd8;\">78.34</td>\n",
              "<td>0.51</td>\n",
              "<td style=\"background:#e0ffd8;\">63.85</td>\n",
              "<td>4.31</td>\n",
              "<td style=\"background:#e0ffd8;\">18.16</td>\n",
              "<td>5.27</td>\n",
              "<td style=\"background:#e0ffd8;\">8.43</td>\n",
              "<td style=\"background:#eaf3ff;border-left-width:2px;\">75.02</td>\n",
              "<td style=\"background:#eaf3ff;\">60.56</td>\n",
              "<td style=\"background:#eaf3ff;\">16.06</td>\n",
              "<td style=\"background:#eaf3ff;\">7.70</td>\n",
              "<td style=\"background:#fee7f6;border-left-width:2px;\">81.58</td>\n",
              "<td style=\"background:#fee7f6;\">67.06</td>\n",
              "<td style=\"background:#fee7f6;\">19.83</td>\n",
              "<td style=\"background:#fee7f6;\">8.81</td>\n",
              "<td style=\"border-left-width:2px;\">6.56</td>\n",
              "<td>6.50</td>\n",
              "<td>3.77</td>\n",
              "<td>1.11</td>\n",
              "<td style=\"border-left-width:2px;\">5518</td>\n",
              "<td><span class=\"flagicon\"><span class=\"mw-image-border\" typeof=\"mw:File\"><a href=\"/wiki/Slovakia\" title=\"Slovakia\"><img alt=\"Slovakia\" class=\"mw-file-element\" data-file-height=\"600\" data-file-width=\"900\" decoding=\"async\" height=\"15\" src=\"//upload.wikimedia.org/wikipedia/commons/thumb/e/e6/Flag_of_Slovakia.svg/23px-Flag_of_Slovakia.svg.png\" srcset=\"//upload.wikimedia.org/wikipedia/commons/thumb/e/e6/Flag_of_Slovakia.svg/35px-Flag_of_Slovakia.svg.png 1.5x, //upload.wikimedia.org/wikipedia/commons/thumb/e/e6/Flag_of_Slovakia.svg/45px-Flag_of_Slovakia.svg.png 2x\" width=\"23\"/></a></span></span>\n",
              "</td></tr>\n",
              "<tr>\n",
              "<td style=\"padding-left:35px;\"><a href=\"/wiki/Kosovo\" title=\"Kosovo\">Kosovo</a></td>\n",
              "<td style=\"background:#e0ffd8;\">78.03</td>\n",
              "<td>0.78</td>\n",
              "<td style=\"background:#e0ffd8;\">63.81</td>\n",
              "<td>3.13</td>\n",
              "<td style=\"background:#e0ffd8;\">16.94</td>\n",
              "<td>5.38</td>\n",
              "<td style=\"background:#e0ffd8;\">7.32</td>\n",
              "<td style=\"background:#eaf3ff;border-left-width:2px;\">75.80</td>\n",
              "<td style=\"background:#eaf3ff;\">61.62</td>\n",
              "<td style=\"background:#eaf3ff;\">15.45</td>\n",
              "<td style=\"background:#eaf3ff;\">6.61</td>\n",
              "<td style=\"background:#fee7f6;border-left-width:2px;\">80.12</td>\n",
              "<td style=\"background:#fee7f6;\">65.85</td>\n",
              "<td style=\"background:#fee7f6;\">18.24</td>\n",
              "<td style=\"background:#fee7f6;\">7.82</td>\n",
              "<td style=\"border-left-width:2px;\">4.31</td>\n",
              "<td>4.22</td>\n",
              "<td>2.79</td>\n",
              "<td>1.22</td>\n",
              "<td style=\"border-left-width:2px;\">1700</td>\n",
              "<td>\n",
              "</td></tr>\n",
              "<tr>\n",
              "<td><span class=\"flagicon\" style=\"display:inline-block;width:25px;\"><span class=\"mw-image-border\" typeof=\"mw:File\"><span><img alt=\"\" class=\"mw-file-element\" data-file-height=\"400\" data-file-width=\"800\" decoding=\"async\" height=\"12\" src=\"//upload.wikimedia.org/wikipedia/commons/thumb/b/bf/Flag_of_Bosnia_and_Herzegovina.svg/23px-Flag_of_Bosnia_and_Herzegovina.svg.png\" srcset=\"//upload.wikimedia.org/wikipedia/commons/thumb/b/bf/Flag_of_Bosnia_and_Herzegovina.svg/35px-Flag_of_Bosnia_and_Herzegovina.svg.png 1.5x, //upload.wikimedia.org/wikipedia/commons/thumb/b/bf/Flag_of_Bosnia_and_Herzegovina.svg/46px-Flag_of_Bosnia_and_Herzegovina.svg.png 2x\" width=\"23\"/></span></span></span> <a href=\"/wiki/Bosnia_and_Herzegovina\" title=\"Bosnia and Herzegovina\">Bosnia and Herzegovina</a></td>\n",
              "<td style=\"background:#e0ffd8;\">77.85</td>\n",
              "<td>0.48</td>\n",
              "<td style=\"background:#e0ffd8;\">63.33</td>\n",
              "<td>4.05</td>\n",
              "<td style=\"background:#e0ffd8;\">17.38</td>\n",
              "<td>5.91</td>\n",
              "<td style=\"background:#e0ffd8;\">8.29</td>\n",
              "<td style=\"background:#eaf3ff;border-left-width:2px;\">74.42</td>\n",
              "<td style=\"background:#eaf3ff;\">59.93</td>\n",
              "<td style=\"background:#eaf3ff;\">14.83</td>\n",
              "<td style=\"background:#eaf3ff;\">6.32</td>\n",
              "<td style=\"background:#fee7f6;border-left-width:2px;\">80.90</td>\n",
              "<td style=\"background:#fee7f6;\">66.35</td>\n",
              "<td style=\"background:#fee7f6;\">19.27</td>\n",
              "<td style=\"background:#fee7f6;\">9.27</td>\n",
              "<td style=\"border-left-width:2px;\">6.48</td>\n",
              "<td>6.42</td>\n",
              "<td>4.44</td>\n",
              "<td>2.95</td>\n",
              "<td style=\"border-left-width:2px;\">3185</td>\n",
              "<td><span class=\"flagicon\"><span class=\"mw-image-border\" typeof=\"mw:File\"><a href=\"/wiki/Bosnia_and_Herzegovina\" title=\"Bosnia and Herzegovina\"><img alt=\"Bosnia and Herzegovina\" class=\"mw-file-element\" data-file-height=\"400\" data-file-width=\"800\" decoding=\"async\" height=\"12\" src=\"//upload.wikimedia.org/wikipedia/commons/thumb/b/bf/Flag_of_Bosnia_and_Herzegovina.svg/23px-Flag_of_Bosnia_and_Herzegovina.svg.png\" srcset=\"//upload.wikimedia.org/wikipedia/commons/thumb/b/bf/Flag_of_Bosnia_and_Herzegovina.svg/35px-Flag_of_Bosnia_and_Herzegovina.svg.png 1.5x, //upload.wikimedia.org/wikipedia/commons/thumb/b/bf/Flag_of_Bosnia_and_Herzegovina.svg/46px-Flag_of_Bosnia_and_Herzegovina.svg.png 2x\" width=\"23\"/></a></span></span>\n",
              "</td></tr>\n",
              "<tr>\n",
              "<td><span class=\"flagicon\" style=\"display:inline-block;width:25px;\"><span class=\"mw-image-border\" typeof=\"mw:File\"><span><img alt=\"\" class=\"mw-file-element\" data-file-height=\"600\" data-file-width=\"1200\" decoding=\"async\" height=\"12\" src=\"//upload.wikimedia.org/wikipedia/commons/thumb/7/79/Flag_of_North_Macedonia.svg/23px-Flag_of_North_Macedonia.svg.png\" srcset=\"//upload.wikimedia.org/wikipedia/commons/thumb/7/79/Flag_of_North_Macedonia.svg/35px-Flag_of_North_Macedonia.svg.png 1.5x, //upload.wikimedia.org/wikipedia/commons/thumb/7/79/Flag_of_North_Macedonia.svg/46px-Flag_of_North_Macedonia.svg.png 2x\" width=\"23\"/></span></span></span> <a href=\"/wiki/North_Macedonia\" title=\"North Macedonia\">North Macedonia</a></td>\n",
              "<td style=\"background:#e0ffd8;\">77.39</td>\n",
              "<td>0.53</td>\n",
              "<td style=\"background:#e0ffd8;\">62.92</td>\n",
              "<td>3.58</td>\n",
              "<td style=\"background:#e0ffd8;\">16.50</td>\n",
              "<td>5.68</td>\n",
              "<td style=\"background:#e0ffd8;\">7.18</td>\n",
              "<td style=\"background:#eaf3ff;border-left-width:2px;\">75.11</td>\n",
              "<td style=\"background:#eaf3ff;\">60.67</td>\n",
              "<td style=\"background:#eaf3ff;\">15.01</td>\n",
              "<td style=\"background:#eaf3ff;\">6.26</td>\n",
              "<td style=\"background:#fee7f6;border-left-width:2px;\">79.57</td>\n",
              "<td style=\"background:#fee7f6;\">65.05</td>\n",
              "<td style=\"background:#fee7f6;\">17.74</td>\n",
              "<td style=\"background:#fee7f6;\">7.75</td>\n",
              "<td style=\"border-left-width:2px;\">4.46</td>\n",
              "<td>4.38</td>\n",
              "<td>2.74</td>\n",
              "<td>1.49</td>\n",
              "<td style=\"border-left-width:2px;\">1832</td>\n",
              "<td><span class=\"flagicon\"><span class=\"mw-image-border\" typeof=\"mw:File\"><a href=\"/wiki/North_Macedonia\" title=\"North Macedonia\"><img alt=\"North Macedonia\" class=\"mw-file-element\" data-file-height=\"600\" data-file-width=\"1200\" decoding=\"async\" height=\"12\" src=\"//upload.wikimedia.org/wikipedia/commons/thumb/7/79/Flag_of_North_Macedonia.svg/23px-Flag_of_North_Macedonia.svg.png\" srcset=\"//upload.wikimedia.org/wikipedia/commons/thumb/7/79/Flag_of_North_Macedonia.svg/35px-Flag_of_North_Macedonia.svg.png 1.5x, //upload.wikimedia.org/wikipedia/commons/thumb/7/79/Flag_of_North_Macedonia.svg/46px-Flag_of_North_Macedonia.svg.png 2x\" width=\"23\"/></a></span></span>\n",
              "</td></tr>\n",
              "<tr>\n",
              "<td><span class=\"flagicon\" style=\"display:inline-block;width:25px;\"><span class=\"mw-image-border\" typeof=\"mw:File\"><span><img alt=\"\" class=\"mw-file-element\" data-file-height=\"800\" data-file-width=\"1200\" decoding=\"async\" height=\"15\" src=\"//upload.wikimedia.org/wikipedia/commons/thumb/b/b4/Flag_of_Turkey.svg/23px-Flag_of_Turkey.svg.png\" srcset=\"//upload.wikimedia.org/wikipedia/commons/thumb/b/b4/Flag_of_Turkey.svg/35px-Flag_of_Turkey.svg.png 1.5x, //upload.wikimedia.org/wikipedia/commons/thumb/b/b4/Flag_of_Turkey.svg/45px-Flag_of_Turkey.svg.png 2x\" width=\"23\"/></span></span></span> <a href=\"/wiki/Turkey\" title=\"Turkey\">Turkey</a></td>\n",
              "<td style=\"background:#e0ffd8;\">77.16</td>\n",
              "<td>1.36</td>\n",
              "<td style=\"background:#e0ffd8;\">63.52</td>\n",
              "<td>4.06</td>\n",
              "<td style=\"background:#e0ffd8;\">17.58</td>\n",
              "<td>5.18</td>\n",
              "<td style=\"background:#e0ffd8;\">7.75</td>\n",
              "<td style=\"background:#eaf3ff;border-left-width:2px;\">74.53</td>\n",
              "<td style=\"background:#eaf3ff;\">60.85</td>\n",
              "<td style=\"background:#eaf3ff;\">15.57</td>\n",
              "<td style=\"background:#eaf3ff;\">6.41</td>\n",
              "<td style=\"background:#fee7f6;border-left-width:2px;\">79.86</td>\n",
              "<td style=\"background:#fee7f6;\">66.26</td>\n",
              "<td style=\"background:#fee7f6;\">19.46</td>\n",
              "<td style=\"background:#fee7f6;\">8.78</td>\n",
              "<td style=\"border-left-width:2px;\">5.33</td>\n",
              "<td>5.40</td>\n",
              "<td>3.89</td>\n",
              "<td>2.37</td>\n",
              "<td style=\"border-left-width:2px;\">87271</td>\n",
              "<td><span class=\"flagicon\"><span class=\"mw-image-border\" typeof=\"mw:File\"><a href=\"/wiki/Turkey\" title=\"Turkey\"><img alt=\"Turkey\" class=\"mw-file-element\" data-file-height=\"800\" data-file-width=\"1200\" decoding=\"async\" height=\"15\" src=\"//upload.wikimedia.org/wikipedia/commons/thumb/b/b4/Flag_of_Turkey.svg/23px-Flag_of_Turkey.svg.png\" srcset=\"//upload.wikimedia.org/wikipedia/commons/thumb/b/b4/Flag_of_Turkey.svg/35px-Flag_of_Turkey.svg.png 1.5x, //upload.wikimedia.org/wikipedia/commons/thumb/b/b4/Flag_of_Turkey.svg/45px-Flag_of_Turkey.svg.png 2x\" width=\"23\"/></a></span></span>\n",
              "</td></tr>\n",
              "<tr>\n",
              "<td><span class=\"flagicon\" style=\"display:inline-block;width:25px;\"><span class=\"mw-image-border\" typeof=\"mw:File\"><span><img alt=\"\" class=\"mw-file-element\" data-file-height=\"600\" data-file-width=\"1200\" decoding=\"async\" height=\"12\" src=\"//upload.wikimedia.org/wikipedia/commons/thumb/6/64/Flag_of_Montenegro.svg/23px-Flag_of_Montenegro.svg.png\" srcset=\"//upload.wikimedia.org/wikipedia/commons/thumb/6/64/Flag_of_Montenegro.svg/35px-Flag_of_Montenegro.svg.png 1.5x, //upload.wikimedia.org/wikipedia/commons/thumb/6/64/Flag_of_Montenegro.svg/46px-Flag_of_Montenegro.svg.png 2x\" width=\"23\"/></span></span></span> <a href=\"/wiki/Montenegro\" title=\"Montenegro\">Montenegro</a></td>\n",
              "<td style=\"background:#e0ffd8;\">77.09</td>\n",
              "<td>0.40</td>\n",
              "<td style=\"background:#e0ffd8;\">62.48</td>\n",
              "<td>4.33</td>\n",
              "<td style=\"background:#e0ffd8;\">16.82</td>\n",
              "<td>5.75</td>\n",
              "<td style=\"background:#e0ffd8;\">7.57</td>\n",
              "<td style=\"background:#eaf3ff;border-left-width:2px;\">73.73</td>\n",
              "<td style=\"background:#eaf3ff;\">59.16</td>\n",
              "<td style=\"background:#eaf3ff;\">14.54</td>\n",
              "<td style=\"background:#eaf3ff;\">6.08</td>\n",
              "<td style=\"background:#fee7f6;border-left-width:2px;\">80.31</td>\n",
              "<td style=\"background:#fee7f6;\">65.67</td>\n",
              "<td style=\"background:#fee7f6;\">18.71</td>\n",
              "<td style=\"background:#fee7f6;\">8.45</td>\n",
              "<td style=\"border-left-width:2px;\">6.58</td>\n",
              "<td>6.52</td>\n",
              "<td>4.17</td>\n",
              "<td>2.37</td>\n",
              "<td style=\"border-left-width:2px;\">634</td>\n",
              "<td><span class=\"flagicon\"><span class=\"mw-image-border\" typeof=\"mw:File\"><a href=\"/wiki/Montenegro\" title=\"Montenegro\"><img alt=\"Montenegro\" class=\"mw-file-element\" data-file-height=\"600\" data-file-width=\"1200\" decoding=\"async\" height=\"12\" src=\"//upload.wikimedia.org/wikipedia/commons/thumb/6/64/Flag_of_Montenegro.svg/23px-Flag_of_Montenegro.svg.png\" srcset=\"//upload.wikimedia.org/wikipedia/commons/thumb/6/64/Flag_of_Montenegro.svg/35px-Flag_of_Montenegro.svg.png 1.5x, //upload.wikimedia.org/wikipedia/commons/thumb/6/64/Flag_of_Montenegro.svg/46px-Flag_of_Montenegro.svg.png 2x\" width=\"23\"/></a></span></span>\n",
              "</td></tr>\n",
              "<tr>\n",
              "<td><span class=\"flagicon\" style=\"display:inline-block;width:25px;\"><span class=\"mw-image-border\" typeof=\"mw:File\"><span><img alt=\"\" class=\"mw-file-element\" data-file-height=\"600\" data-file-width=\"1200\" decoding=\"async\" height=\"12\" src=\"//upload.wikimedia.org/wikipedia/commons/thumb/c/c1/Flag_of_Hungary.svg/23px-Flag_of_Hungary.svg.png\" srcset=\"//upload.wikimedia.org/wikipedia/commons/thumb/c/c1/Flag_of_Hungary.svg/35px-Flag_of_Hungary.svg.png 1.5x, //upload.wikimedia.org/wikipedia/commons/thumb/c/c1/Flag_of_Hungary.svg/46px-Flag_of_Hungary.svg.png 2x\" width=\"23\"/></span></span></span> <a href=\"/wiki/Hungary\" title=\"Hungary\">Hungary</a></td>\n",
              "<td style=\"background:#e0ffd8;\">77.02</td>\n",
              "<td>0.37</td>\n",
              "<td style=\"background:#e0ffd8;\">62.40</td>\n",
              "<td>4.76</td>\n",
              "<td style=\"background:#e0ffd8;\">17.16</td>\n",
              "<td>5.84</td>\n",
              "<td style=\"background:#e0ffd8;\">8.00</td>\n",
              "<td style=\"background:#eaf3ff;border-left-width:2px;\">73.71</td>\n",
              "<td style=\"background:#eaf3ff;\">59.11</td>\n",
              "<td style=\"background:#eaf3ff;\">15.04</td>\n",
              "<td style=\"background:#eaf3ff;\">7.26</td>\n",
              "<td style=\"background:#fee7f6;border-left-width:2px;\">80.19</td>\n",
              "<td style=\"background:#fee7f6;\">65.52</td>\n",
              "<td style=\"background:#fee7f6;\">18.78</td>\n",
              "<td style=\"background:#fee7f6;\">8.37</td>\n",
              "<td style=\"border-left-width:2px;\">6.48</td>\n",
              "<td>6.41</td>\n",
              "<td>3.74</td>\n",
              "<td>1.10</td>\n",
              "<td style=\"border-left-width:2px;\">9686</td>\n",
              "<td><span class=\"flagicon\"><span class=\"mw-image-border\" typeof=\"mw:File\"><a href=\"/wiki/Hungary\" title=\"Hungary\"><img alt=\"Hungary\" class=\"mw-file-element\" data-file-height=\"600\" data-file-width=\"1200\" decoding=\"async\" height=\"12\" src=\"//upload.wikimedia.org/wikipedia/commons/thumb/c/c1/Flag_of_Hungary.svg/23px-Flag_of_Hungary.svg.png\" srcset=\"//upload.wikimedia.org/wikipedia/commons/thumb/c/c1/Flag_of_Hungary.svg/35px-Flag_of_Hungary.svg.png 1.5x, //upload.wikimedia.org/wikipedia/commons/thumb/c/c1/Flag_of_Hungary.svg/46px-Flag_of_Hungary.svg.png 2x\" width=\"23\"/></a></span></span>\n",
              "</td></tr>\n",
              "<tr>\n",
              "<td><span class=\"flagicon\" style=\"display:inline-block;width:25px;\"><span class=\"mw-image-border\" typeof=\"mw:File\"><span><img alt=\"\" class=\"mw-file-element\" data-file-height=\"900\" data-file-width=\"1350\" decoding=\"async\" height=\"15\" src=\"//upload.wikimedia.org/wikipedia/commons/thumb/f/ff/Flag_of_Serbia.svg/23px-Flag_of_Serbia.svg.png\" srcset=\"//upload.wikimedia.org/wikipedia/commons/thumb/f/ff/Flag_of_Serbia.svg/35px-Flag_of_Serbia.svg.png 1.5x, //upload.wikimedia.org/wikipedia/commons/thumb/f/ff/Flag_of_Serbia.svg/45px-Flag_of_Serbia.svg.png 2x\" width=\"23\"/></span></span></span> <a href=\"/wiki/Serbia\" title=\"Serbia\">Serbia</a></td>\n",
              "<td style=\"background:#e0ffd8;\">76.77</td>\n",
              "<td>0.44</td>\n",
              "<td style=\"background:#e0ffd8;\">62.21</td>\n",
              "<td>4.52</td>\n",
              "<td style=\"background:#e0ffd8;\">16.73</td>\n",
              "<td>6.30</td>\n",
              "<td style=\"background:#e0ffd8;\">8.03</td>\n",
              "<td style=\"background:#eaf3ff;border-left-width:2px;\">73.50</td>\n",
              "<td style=\"background:#eaf3ff;\">58.96</td>\n",
              "<td style=\"background:#eaf3ff;\">14.51</td>\n",
              "<td style=\"background:#eaf3ff;\">6.59</td>\n",
              "<td style=\"background:#fee7f6;border-left-width:2px;\">80.04</td>\n",
              "<td style=\"background:#fee7f6;\">65.45</td>\n",
              "<td style=\"background:#fee7f6;\">18.71</td>\n",
              "<td style=\"background:#fee7f6;\">9.06</td>\n",
              "<td style=\"border-left-width:2px;\">6.54</td>\n",
              "<td>6.49</td>\n",
              "<td>4.20</td>\n",
              "<td>2.46</td>\n",
              "<td style=\"border-left-width:2px;\">6773</td>\n",
              "<td><span class=\"flagicon\"><span class=\"mw-image-border\" typeof=\"mw:File\"><a href=\"/wiki/Serbia\" title=\"Serbia\"><img alt=\"Serbia\" class=\"mw-file-element\" data-file-height=\"900\" data-file-width=\"1350\" decoding=\"async\" height=\"15\" src=\"//upload.wikimedia.org/wikipedia/commons/thumb/f/ff/Flag_of_Serbia.svg/23px-Flag_of_Serbia.svg.png\" srcset=\"//upload.wikimedia.org/wikipedia/commons/thumb/f/ff/Flag_of_Serbia.svg/35px-Flag_of_Serbia.svg.png 1.5x, //upload.wikimedia.org/wikipedia/commons/thumb/f/ff/Flag_of_Serbia.svg/45px-Flag_of_Serbia.svg.png 2x\" width=\"23\"/></a></span></span>\n",
              "</td></tr>\n",
              "<tr>\n",
              "<td><span class=\"flagicon\" style=\"display:inline-block;width:25px;\"><span class=\"mw-image-border\" typeof=\"mw:File\"><span><img alt=\"\" class=\"mw-file-element\" data-file-height=\"600\" data-file-width=\"1200\" decoding=\"async\" height=\"12\" src=\"//upload.wikimedia.org/wikipedia/commons/thumb/8/84/Flag_of_Latvia.svg/23px-Flag_of_Latvia.svg.png\" srcset=\"//upload.wikimedia.org/wikipedia/commons/thumb/8/84/Flag_of_Latvia.svg/35px-Flag_of_Latvia.svg.png 1.5x, //upload.wikimedia.org/wikipedia/commons/thumb/8/84/Flag_of_Latvia.svg/46px-Flag_of_Latvia.svg.png 2x\" width=\"23\"/></span></span></span> <a href=\"/wiki/Latvia\" title=\"Latvia\">Latvia</a></td>\n",
              "<td style=\"background:#e0ffd8;\">76.19</td>\n",
              "<td>0.35</td>\n",
              "<td style=\"background:#e0ffd8;\">61.54</td>\n",
              "<td>5.95</td>\n",
              "<td style=\"background:#e0ffd8;\">17.49</td>\n",
              "<td>5.78</td>\n",
              "<td style=\"background:#e0ffd8;\">8.27</td>\n",
              "<td style=\"background:#eaf3ff;border-left-width:2px;\">71.56</td>\n",
              "<td style=\"background:#eaf3ff;\">56.87</td>\n",
              "<td style=\"background:#eaf3ff;\">14.55</td>\n",
              "<td style=\"background:#eaf3ff;\">7.13</td>\n",
              "<td style=\"background:#fee7f6;border-left-width:2px;\">80.47</td>\n",
              "<td style=\"background:#fee7f6;\">65.86</td>\n",
              "<td style=\"background:#fee7f6;\">19.50</td>\n",
              "<td style=\"background:#fee7f6;\">8.74</td>\n",
              "<td style=\"border-left-width:2px;\">8.91</td>\n",
              "<td>8.98</td>\n",
              "<td>4.95</td>\n",
              "<td>1.61</td>\n",
              "<td style=\"border-left-width:2px;\">1882</td>\n",
              "<td><span class=\"flagicon\"><span class=\"mw-image-border\" typeof=\"mw:File\"><a href=\"/wiki/Latvia\" title=\"Latvia\"><img alt=\"Latvia\" class=\"mw-file-element\" data-file-height=\"600\" data-file-width=\"1200\" decoding=\"async\" height=\"12\" src=\"//upload.wikimedia.org/wikipedia/commons/thumb/8/84/Flag_of_Latvia.svg/23px-Flag_of_Latvia.svg.png\" srcset=\"//upload.wikimedia.org/wikipedia/commons/thumb/8/84/Flag_of_Latvia.svg/35px-Flag_of_Latvia.svg.png 1.5x, //upload.wikimedia.org/wikipedia/commons/thumb/8/84/Flag_of_Latvia.svg/46px-Flag_of_Latvia.svg.png 2x\" width=\"23\"/></a></span></span>\n",
              "</td></tr>\n",
              "<tr>\n",
              "<td><span class=\"flagicon\" style=\"display:inline-block;width:25px;\"><span class=\"mw-image-border\" typeof=\"mw:File\"><span><img alt=\"\" class=\"mw-file-element\" data-file-height=\"600\" data-file-width=\"1000\" decoding=\"async\" height=\"14\" src=\"//upload.wikimedia.org/wikipedia/commons/thumb/1/11/Flag_of_Lithuania.svg/23px-Flag_of_Lithuania.svg.png\" srcset=\"//upload.wikimedia.org/wikipedia/commons/thumb/1/11/Flag_of_Lithuania.svg/35px-Flag_of_Lithuania.svg.png 1.5x, //upload.wikimedia.org/wikipedia/commons/thumb/1/11/Flag_of_Lithuania.svg/46px-Flag_of_Lithuania.svg.png 2x\" width=\"23\"/></span></span></span> <a href=\"/wiki/Lithuania\" title=\"Lithuania\">Lithuania</a></td>\n",
              "<td style=\"background:#e0ffd8;\">76.03</td>\n",
              "<td>0.33</td>\n",
              "<td style=\"background:#e0ffd8;\">61.35</td>\n",
              "<td>6.03</td>\n",
              "<td style=\"background:#e0ffd8;\">17.38</td>\n",
              "<td>5.83</td>\n",
              "<td style=\"background:#e0ffd8;\">8.21</td>\n",
              "<td style=\"background:#eaf3ff;border-left-width:2px;\">71.22</td>\n",
              "<td style=\"background:#eaf3ff;\">56.57</td>\n",
              "<td style=\"background:#eaf3ff;\">14.38</td>\n",
              "<td style=\"background:#eaf3ff;\">7.09</td>\n",
              "<td style=\"background:#fee7f6;border-left-width:2px;\">80.67</td>\n",
              "<td style=\"background:#fee7f6;\">65.96</td>\n",
              "<td style=\"background:#fee7f6;\">19.48</td>\n",
              "<td style=\"background:#fee7f6;\">8.70</td>\n",
              "<td style=\"border-left-width:2px;\">9.46</td>\n",
              "<td>9.40</td>\n",
              "<td>5.10</td>\n",
              "<td>1.61</td>\n",
              "<td style=\"border-left-width:2px;\">2854</td>\n",
              "<td><span class=\"flagicon\"><span class=\"mw-image-border\" typeof=\"mw:File\"><a href=\"/wiki/Lithuania\" title=\"Lithuania\"><img alt=\"Lithuania\" class=\"mw-file-element\" data-file-height=\"600\" data-file-width=\"1000\" decoding=\"async\" height=\"14\" src=\"//upload.wikimedia.org/wikipedia/commons/thumb/1/11/Flag_of_Lithuania.svg/23px-Flag_of_Lithuania.svg.png\" srcset=\"//upload.wikimedia.org/wikipedia/commons/thumb/1/11/Flag_of_Lithuania.svg/35px-Flag_of_Lithuania.svg.png 1.5x, //upload.wikimedia.org/wikipedia/commons/thumb/1/11/Flag_of_Lithuania.svg/46px-Flag_of_Lithuania.svg.png 2x\" width=\"23\"/></a></span></span>\n",
              "</td></tr>\n",
              "<tr>\n",
              "<td><span class=\"flagicon\" style=\"display:inline-block;width:25px;\"><span class=\"mw-image-border\" typeof=\"mw:File\"><span><img alt=\"\" class=\"mw-file-element\" data-file-height=\"400\" data-file-width=\"600\" decoding=\"async\" height=\"15\" src=\"//upload.wikimedia.org/wikipedia/commons/thumb/7/73/Flag_of_Romania.svg/23px-Flag_of_Romania.svg.png\" srcset=\"//upload.wikimedia.org/wikipedia/commons/thumb/7/73/Flag_of_Romania.svg/35px-Flag_of_Romania.svg.png 1.5x, //upload.wikimedia.org/wikipedia/commons/thumb/7/73/Flag_of_Romania.svg/45px-Flag_of_Romania.svg.png 2x\" width=\"23\"/></span></span></span> <a href=\"/wiki/Romania\" title=\"Romania\">Romania</a></td>\n",
              "<td style=\"background:#e0ffd8;\">75.94</td>\n",
              "<td>0.54</td>\n",
              "<td style=\"background:#e0ffd8;\">61.48</td>\n",
              "<td>5.38</td>\n",
              "<td style=\"background:#e0ffd8;\">16.86</td>\n",
              "<td>5.68</td>\n",
              "<td style=\"background:#e0ffd8;\">7.55</td>\n",
              "<td style=\"background:#eaf3ff;border-left-width:2px;\">72.40</td>\n",
              "<td style=\"background:#eaf3ff;\">57.96</td>\n",
              "<td style=\"background:#eaf3ff;\">14.97</td>\n",
              "<td style=\"background:#eaf3ff;\">7.14</td>\n",
              "<td style=\"background:#fee7f6;border-left-width:2px;\">79.56</td>\n",
              "<td style=\"background:#fee7f6;\">65.07</td>\n",
              "<td style=\"background:#fee7f6;\">18.39</td>\n",
              "<td style=\"background:#fee7f6;\">7.79</td>\n",
              "<td style=\"border-left-width:2px;\">7.16</td>\n",
              "<td>7.11</td>\n",
              "<td>3.42</td>\n",
              "<td>0.64</td>\n",
              "<td style=\"border-left-width:2px;\">19118</td>\n",
              "<td><span class=\"flagicon\"><span class=\"mw-image-border\" typeof=\"mw:File\"><a href=\"/wiki/Romania\" title=\"Romania\"><img alt=\"Romania\" class=\"mw-file-element\" data-file-height=\"400\" data-file-width=\"600\" decoding=\"async\" height=\"15\" src=\"//upload.wikimedia.org/wikipedia/commons/thumb/7/73/Flag_of_Romania.svg/23px-Flag_of_Romania.svg.png\" srcset=\"//upload.wikimedia.org/wikipedia/commons/thumb/7/73/Flag_of_Romania.svg/35px-Flag_of_Romania.svg.png 1.5x, //upload.wikimedia.org/wikipedia/commons/thumb/7/73/Flag_of_Romania.svg/45px-Flag_of_Romania.svg.png 2x\" width=\"23\"/></a></span></span>\n",
              "</td></tr>\n",
              "<tr>\n",
              "<td><span class=\"flagicon\" style=\"display:inline-block;width:25px;\"><span class=\"mw-image-border\" typeof=\"mw:File\"><span><img alt=\"\" class=\"mw-file-element\" data-file-height=\"600\" data-file-width=\"1200\" decoding=\"async\" height=\"12\" src=\"//upload.wikimedia.org/wikipedia/commons/thumb/2/2f/Flag_of_Armenia.svg/23px-Flag_of_Armenia.svg.png\" srcset=\"//upload.wikimedia.org/wikipedia/commons/thumb/2/2f/Flag_of_Armenia.svg/35px-Flag_of_Armenia.svg.png 1.5x, //upload.wikimedia.org/wikipedia/commons/thumb/2/2f/Flag_of_Armenia.svg/46px-Flag_of_Armenia.svg.png 2x\" width=\"23\"/></span></span></span> <a href=\"/wiki/Armenia\" title=\"Armenia\">Armenia</a></td>\n",
              "<td style=\"background:#e0ffd8;\">75.68</td>\n",
              "<td>0.84</td>\n",
              "<td style=\"background:#e0ffd8;\">61.53</td>\n",
              "<td>4.66</td>\n",
              "<td style=\"background:#e0ffd8;\">16.19</td>\n",
              "<td>5.93</td>\n",
              "<td style=\"background:#e0ffd8;\">7.12</td>\n",
              "<td style=\"background:#eaf3ff;border-left-width:2px;\">71.39</td>\n",
              "<td style=\"background:#eaf3ff;\">57.25</td>\n",
              "<td style=\"background:#eaf3ff;\">13.86</td>\n",
              "<td style=\"background:#eaf3ff;\">6.16</td>\n",
              "<td style=\"background:#fee7f6;border-left-width:2px;\">79.45</td>\n",
              "<td style=\"background:#fee7f6;\">65.26</td>\n",
              "<td style=\"background:#fee7f6;\">17.84</td>\n",
              "<td style=\"background:#fee7f6;\">7.61</td>\n",
              "<td style=\"border-left-width:2px;\">8.07</td>\n",
              "<td>8.01</td>\n",
              "<td>3.97</td>\n",
              "<td>1.45</td>\n",
              "<td style=\"border-left-width:2px;\">2943</td>\n",
              "<td><span class=\"flagicon\"><span class=\"mw-image-border\" typeof=\"mw:File\"><a href=\"/wiki/Armenia\" title=\"Armenia\"><img alt=\"Armenia\" class=\"mw-file-element\" data-file-height=\"600\" data-file-width=\"1200\" decoding=\"async\" height=\"12\" src=\"//upload.wikimedia.org/wikipedia/commons/thumb/2/2f/Flag_of_Armenia.svg/23px-Flag_of_Armenia.svg.png\" srcset=\"//upload.wikimedia.org/wikipedia/commons/thumb/2/2f/Flag_of_Armenia.svg/35px-Flag_of_Armenia.svg.png 1.5x, //upload.wikimedia.org/wikipedia/commons/thumb/2/2f/Flag_of_Armenia.svg/46px-Flag_of_Armenia.svg.png 2x\" width=\"23\"/></a></span></span>\n",
              "</td></tr>\n",
              "<tr>\n",
              "<td><span class=\"flagicon\" style=\"display:inline-block;width:25px;\"><span class=\"mw-image-border\" typeof=\"mw:File\"><span><img alt=\"\" class=\"mw-file-element\" data-file-height=\"600\" data-file-width=\"1000\" decoding=\"async\" height=\"14\" src=\"//upload.wikimedia.org/wikipedia/commons/thumb/9/9a/Flag_of_Bulgaria.svg/23px-Flag_of_Bulgaria.svg.png\" srcset=\"//upload.wikimedia.org/wikipedia/commons/thumb/9/9a/Flag_of_Bulgaria.svg/35px-Flag_of_Bulgaria.svg.png 1.5x, //upload.wikimedia.org/wikipedia/commons/thumb/9/9a/Flag_of_Bulgaria.svg/46px-Flag_of_Bulgaria.svg.png 2x\" width=\"23\"/></span></span></span> <a href=\"/wiki/Bulgaria\" title=\"Bulgaria\">Bulgaria</a></td>\n",
              "<td style=\"background:#e0ffd8;\">75.64</td>\n",
              "<td>0.53</td>\n",
              "<td style=\"background:#e0ffd8;\">61.16</td>\n",
              "<td>5.38</td>\n",
              "<td style=\"background:#e0ffd8;\">16.54</td>\n",
              "<td>5.82</td>\n",
              "<td style=\"background:#e0ffd8;\">7.36</td>\n",
              "<td style=\"background:#eaf3ff;border-left-width:2px;\">72.16</td>\n",
              "<td style=\"background:#eaf3ff;\">57.68</td>\n",
              "<td style=\"background:#eaf3ff;\">14.47</td>\n",
              "<td style=\"background:#eaf3ff;\">6.73</td>\n",
              "<td style=\"background:#fee7f6;border-left-width:2px;\">79.21</td>\n",
              "<td style=\"background:#fee7f6;\">64.74</td>\n",
              "<td style=\"background:#fee7f6;\">18.25</td>\n",
              "<td style=\"background:#fee7f6;\">7.72</td>\n",
              "<td style=\"border-left-width:2px;\">7.05</td>\n",
              "<td>7.06</td>\n",
              "<td>3.78</td>\n",
              "<td>0.99</td>\n",
              "<td style=\"border-left-width:2px;\">6796</td>\n",
              "<td><span class=\"flagicon\"><span class=\"mw-image-border\" typeof=\"mw:File\"><a href=\"/wiki/Bulgaria\" title=\"Bulgaria\"><img alt=\"Bulgaria\" class=\"mw-file-element\" data-file-height=\"600\" data-file-width=\"1000\" decoding=\"async\" height=\"14\" src=\"//upload.wikimedia.org/wikipedia/commons/thumb/9/9a/Flag_of_Bulgaria.svg/23px-Flag_of_Bulgaria.svg.png\" srcset=\"//upload.wikimedia.org/wikipedia/commons/thumb/9/9a/Flag_of_Bulgaria.svg/35px-Flag_of_Bulgaria.svg.png 1.5x, //upload.wikimedia.org/wikipedia/commons/thumb/9/9a/Flag_of_Bulgaria.svg/46px-Flag_of_Bulgaria.svg.png 2x\" width=\"23\"/></a></span></span>\n",
              "</td></tr>\n",
              "<tr>\n",
              "<td><span class=\"flagicon\" style=\"display:inline-block;width:25px;\"><span class=\"mw-image-border\" typeof=\"mw:File\"><span><img alt=\"\" class=\"mw-file-element\" data-file-height=\"600\" data-file-width=\"900\" decoding=\"async\" height=\"15\" src=\"//upload.wikimedia.org/wikipedia/commons/thumb/0/0f/Flag_of_Georgia.svg/23px-Flag_of_Georgia.svg.png\" srcset=\"//upload.wikimedia.org/wikipedia/commons/thumb/0/0f/Flag_of_Georgia.svg/35px-Flag_of_Georgia.svg.png 1.5x, //upload.wikimedia.org/wikipedia/commons/thumb/0/0f/Flag_of_Georgia.svg/45px-Flag_of_Georgia.svg.png 2x\" width=\"23\"/></span></span></span> <a href=\"/wiki/Georgia_(country)\" title=\"Georgia (country)\">Georgia</a></td>\n",
              "<td style=\"background:#e0ffd8;\">74.50</td>\n",
              "<td>0.81</td>\n",
              "<td style=\"background:#e0ffd8;\">60.31</td>\n",
              "<td>5.85</td>\n",
              "<td style=\"background:#e0ffd8;\">16.16</td>\n",
              "<td>6.17</td>\n",
              "<td style=\"background:#e0ffd8;\">7.32</td>\n",
              "<td style=\"background:#eaf3ff;border-left-width:2px;\">69.57</td>\n",
              "<td style=\"background:#eaf3ff;\">55.42</td>\n",
              "<td style=\"background:#eaf3ff;\">13.38</td>\n",
              "<td style=\"background:#eaf3ff;\">5.39</td>\n",
              "<td style=\"background:#fee7f6;border-left-width:2px;\">79.11</td>\n",
              "<td style=\"background:#fee7f6;\">64.86</td>\n",
              "<td style=\"background:#fee7f6;\">18.16</td>\n",
              "<td style=\"background:#fee7f6;\">8.30</td>\n",
              "<td style=\"border-left-width:2px;\">9.54</td>\n",
              "<td>9.44</td>\n",
              "<td>4.78</td>\n",
              "<td>2.91</td>\n",
              "<td style=\"border-left-width:2px;\">3807</td>\n",
              "<td><span class=\"flagicon\"><span class=\"mw-image-border\" typeof=\"mw:File\"><a href=\"/wiki/Georgia_(country)\" title=\"Georgia (country)\"><img alt=\"Georgia (country)\" class=\"mw-file-element\" data-file-height=\"600\" data-file-width=\"900\" decoding=\"async\" height=\"15\" src=\"//upload.wikimedia.org/wikipedia/commons/thumb/0/0f/Flag_of_Georgia.svg/23px-Flag_of_Georgia.svg.png\" srcset=\"//upload.wikimedia.org/wikipedia/commons/thumb/0/0f/Flag_of_Georgia.svg/35px-Flag_of_Georgia.svg.png 1.5x, //upload.wikimedia.org/wikipedia/commons/thumb/0/0f/Flag_of_Georgia.svg/45px-Flag_of_Georgia.svg.png 2x\" width=\"23\"/></a></span></span>\n",
              "</td></tr>\n",
              "<tr>\n",
              "<td><span class=\"flagicon\" style=\"display:inline-block;width:25px;\"><span class=\"mw-image-border\" typeof=\"mw:File\"><span><img alt=\"\" class=\"mw-file-element\" data-file-height=\"600\" data-file-width=\"1200\" decoding=\"async\" height=\"12\" src=\"//upload.wikimedia.org/wikipedia/commons/thumb/8/85/Flag_of_Belarus.svg/23px-Flag_of_Belarus.svg.png\" srcset=\"//upload.wikimedia.org/wikipedia/commons/thumb/8/85/Flag_of_Belarus.svg/35px-Flag_of_Belarus.svg.png 1.5x, //upload.wikimedia.org/wikipedia/commons/thumb/8/85/Flag_of_Belarus.svg/46px-Flag_of_Belarus.svg.png 2x\" width=\"23\"/></span></span></span> <a href=\"/wiki/Belarus\" title=\"Belarus\">Belarus</a></td>\n",
              "<td style=\"background:#e0ffd8;\">74.43</td>\n",
              "<td>0.25</td>\n",
              "<td style=\"background:#e0ffd8;\">59.69</td>\n",
              "<td>6.50</td>\n",
              "<td style=\"background:#e0ffd8;\">16.19</td>\n",
              "<td>5.94</td>\n",
              "<td style=\"background:#e0ffd8;\">7.13</td>\n",
              "<td style=\"background:#eaf3ff;border-left-width:2px;\">69.53</td>\n",
              "<td style=\"background:#eaf3ff;\">54.80</td>\n",
              "<td style=\"background:#eaf3ff;\">13.43</td>\n",
              "<td style=\"background:#eaf3ff;\">6.22</td>\n",
              "<td style=\"background:#fee7f6;border-left-width:2px;\">79.06</td>\n",
              "<td style=\"background:#fee7f6;\">64.30</td>\n",
              "<td style=\"background:#fee7f6;\">18.01</td>\n",
              "<td style=\"background:#fee7f6;\">7.46</td>\n",
              "<td style=\"border-left-width:2px;\">9.53</td>\n",
              "<td>9.49</td>\n",
              "<td>4.58</td>\n",
              "<td>1.24</td>\n",
              "<td style=\"border-left-width:2px;\">9116</td>\n",
              "<td><span class=\"flagicon\"><span class=\"mw-image-border\" typeof=\"mw:File\"><a href=\"/wiki/Belarus\" title=\"Belarus\"><img alt=\"Belarus\" class=\"mw-file-element\" data-file-height=\"600\" data-file-width=\"1200\" decoding=\"async\" height=\"12\" src=\"//upload.wikimedia.org/wikipedia/commons/thumb/8/85/Flag_of_Belarus.svg/23px-Flag_of_Belarus.svg.png\" srcset=\"//upload.wikimedia.org/wikipedia/commons/thumb/8/85/Flag_of_Belarus.svg/35px-Flag_of_Belarus.svg.png 1.5x, //upload.wikimedia.org/wikipedia/commons/thumb/8/85/Flag_of_Belarus.svg/46px-Flag_of_Belarus.svg.png 2x\" width=\"23\"/></a></span></span>\n",
              "</td></tr>\n",
              "<tr>\n",
              "<td><span class=\"flagicon\" style=\"display:inline-block;width:25px;\"><span class=\"mw-image-border\" typeof=\"mw:File\"><span><img alt=\"\" class=\"mw-file-element\" data-file-height=\"600\" data-file-width=\"1200\" decoding=\"async\" height=\"12\" src=\"//upload.wikimedia.org/wikipedia/commons/thumb/d/dd/Flag_of_Azerbaijan.svg/23px-Flag_of_Azerbaijan.svg.png\" srcset=\"//upload.wikimedia.org/wikipedia/commons/thumb/d/dd/Flag_of_Azerbaijan.svg/35px-Flag_of_Azerbaijan.svg.png 1.5x, //upload.wikimedia.org/wikipedia/commons/thumb/d/dd/Flag_of_Azerbaijan.svg/46px-Flag_of_Azerbaijan.svg.png 2x\" width=\"23\"/></span></span></span> <a href=\"/wiki/Azerbaijan\" title=\"Azerbaijan\">Azerbaijan</a></td>\n",
              "<td style=\"background:#e0ffd8;\">74.43</td>\n",
              "<td>1.50</td>\n",
              "<td style=\"background:#e0ffd8;\">60.93</td>\n",
              "<td>4.44</td>\n",
              "<td style=\"background:#e0ffd8;\">15.38</td>\n",
              "<td>6.19</td>\n",
              "<td style=\"background:#e0ffd8;\">6.57</td>\n",
              "<td style=\"background:#eaf3ff;border-left-width:2px;\">71.56</td>\n",
              "<td style=\"background:#eaf3ff;\">58.15</td>\n",
              "<td style=\"background:#eaf3ff;\">13.80</td>\n",
              "<td style=\"background:#eaf3ff;\">5.90</td>\n",
              "<td style=\"background:#fee7f6;border-left-width:2px;\">77.13</td>\n",
              "<td style=\"background:#fee7f6;\">63.53</td>\n",
              "<td style=\"background:#fee7f6;\">16.63</td>\n",
              "<td style=\"background:#fee7f6;\">6.95</td>\n",
              "<td style=\"border-left-width:2px;\">5.57</td>\n",
              "<td>5.38</td>\n",
              "<td>2.83</td>\n",
              "<td>1.05</td>\n",
              "<td style=\"border-left-width:2px;\">10318</td>\n",
              "<td><span class=\"flagicon\"><span class=\"mw-image-border\" typeof=\"mw:File\"><a href=\"/wiki/Azerbaijan\" title=\"Azerbaijan\"><img alt=\"Azerbaijan\" class=\"mw-file-element\" data-file-height=\"600\" data-file-width=\"1200\" decoding=\"async\" height=\"12\" src=\"//upload.wikimedia.org/wikipedia/commons/thumb/d/dd/Flag_of_Azerbaijan.svg/23px-Flag_of_Azerbaijan.svg.png\" srcset=\"//upload.wikimedia.org/wikipedia/commons/thumb/d/dd/Flag_of_Azerbaijan.svg/35px-Flag_of_Azerbaijan.svg.png 1.5x, //upload.wikimedia.org/wikipedia/commons/thumb/d/dd/Flag_of_Azerbaijan.svg/46px-Flag_of_Azerbaijan.svg.png 2x\" width=\"23\"/></a></span></span>\n",
              "</td></tr>\n",
              "<tr>\n",
              "<td><span class=\"flagicon\" style=\"display:inline-block;width:25px;\"><span class=\"mw-image-border\" typeof=\"mw:File\"><span><img alt=\"\" class=\"mw-file-element\" data-file-height=\"800\" data-file-width=\"1200\" decoding=\"async\" height=\"15\" src=\"//upload.wikimedia.org/wikipedia/commons/thumb/4/49/Flag_of_Ukraine.svg/23px-Flag_of_Ukraine.svg.png\" srcset=\"//upload.wikimedia.org/wikipedia/commons/thumb/4/49/Flag_of_Ukraine.svg/35px-Flag_of_Ukraine.svg.png 1.5x, //upload.wikimedia.org/wikipedia/commons/thumb/4/49/Flag_of_Ukraine.svg/45px-Flag_of_Ukraine.svg.png 2x\" width=\"23\"/></span></span></span> <a href=\"/wiki/Ukraine\" title=\"Ukraine\">Ukraine</a></td>\n",
              "<td style=\"background:#e0ffd8;\">73.42</td>\n",
              "<td>0.62</td>\n",
              "<td style=\"background:#e0ffd8;\">59.04</td>\n",
              "<td>8.83</td>\n",
              "<td style=\"background:#e0ffd8;\">17.87</td>\n",
              "<td>7.01</td>\n",
              "<td style=\"background:#e0ffd8;\">9.88</td>\n",
              "<td style=\"background:#eaf3ff;border-left-width:2px;\">66.90</td>\n",
              "<td style=\"background:#eaf3ff;\">52.52</td>\n",
              "<td style=\"background:#eaf3ff;\">14.74</td>\n",
              "<td style=\"background:#eaf3ff;\">8.37</td>\n",
              "<td style=\"background:#fee7f6;border-left-width:2px;\">80.20</td>\n",
              "<td style=\"background:#fee7f6;\">65.81</td>\n",
              "<td style=\"background:#fee7f6;\">19.91</td>\n",
              "<td style=\"background:#fee7f6;\">10.48</td>\n",
              "<td style=\"border-left-width:2px;\">13.30</td>\n",
              "<td>13.29</td>\n",
              "<td>5.17</td>\n",
              "<td>2.11</td>\n",
              "<td style=\"border-left-width:2px;\">37733</td>\n",
              "<td><span class=\"flagicon\"><span class=\"mw-image-border\" typeof=\"mw:File\"><a href=\"/wiki/Ukraine\" title=\"Ukraine\"><img alt=\"Ukraine\" class=\"mw-file-element\" data-file-height=\"800\" data-file-width=\"1200\" decoding=\"async\" height=\"15\" src=\"//upload.wikimedia.org/wikipedia/commons/thumb/4/49/Flag_of_Ukraine.svg/23px-Flag_of_Ukraine.svg.png\" srcset=\"//upload.wikimedia.org/wikipedia/commons/thumb/4/49/Flag_of_Ukraine.svg/35px-Flag_of_Ukraine.svg.png 1.5x, //upload.wikimedia.org/wikipedia/commons/thumb/4/49/Flag_of_Ukraine.svg/45px-Flag_of_Ukraine.svg.png 2x\" width=\"23\"/></a></span></span>\n",
              "</td></tr>\n",
              "<tr class=\"static-row-header\">\n",
              "<td><b>World</b></td>\n",
              "<td style=\"background:#e0ffd8;\"><b>73.17</b></td>\n",
              "<td><b>3.29</b></td>\n",
              "<td style=\"background:#e0ffd8;\"><b>61.46</b></td>\n",
              "<td><b>6.11</b></td>\n",
              "<td style=\"background:#e0ffd8;\"><b>17.57</b></td>\n",
              "<td><b>5.75</b></td>\n",
              "<td style=\"background:#e0ffd8;\"><b>8.31</b></td>\n",
              "<td style=\"background:#eaf3ff;border-left-width:2px;\"><b>70.55</b></td>\n",
              "<td style=\"background:#eaf3ff;\"><b>58.91</b></td>\n",
              "<td style=\"background:#eaf3ff;\"><b>16.01</b></td>\n",
              "<td style=\"background:#eaf3ff;\"><b>7.43</b></td>\n",
              "<td style=\"background:#fee7f6;border-left-width:2px;\"><b>75.89</b></td>\n",
              "<td style=\"background:#fee7f6;\"><b>64.09</b></td>\n",
              "<td style=\"background:#fee7f6;\"><b>18.98</b></td>\n",
              "<td style=\"background:#fee7f6;\"><b>8.96</b></td>\n",
              "<td style=\"border-left-width:2px;\"><b>5.34</b></td>\n",
              "<td><b>5.18</b></td>\n",
              "<td><b>2.97</b></td>\n",
              "<td><b>1.53</b></td>\n",
              "<td style=\"border-left-width:2px;\"><b>8091735</b></td>\n",
              "<td>\n",
              "</td></tr>\n",
              "<tr>\n",
              "<td><span class=\"flagicon\" style=\"display:inline-block;width:25px;\"><span class=\"mw-image-border\" typeof=\"mw:File\"><span><img alt=\"\" class=\"mw-file-element\" data-file-height=\"600\" data-file-width=\"900\" decoding=\"async\" height=\"15\" src=\"//upload.wikimedia.org/wikipedia/en/thumb/f/f3/Flag_of_Russia.svg/23px-Flag_of_Russia.svg.png\" srcset=\"//upload.wikimedia.org/wikipedia/en/thumb/f/f3/Flag_of_Russia.svg/35px-Flag_of_Russia.svg.png 1.5x, //upload.wikimedia.org/wikipedia/en/thumb/f/f3/Flag_of_Russia.svg/45px-Flag_of_Russia.svg.png 2x\" width=\"23\"/></span></span></span> <a href=\"/wiki/Russia\" title=\"Russia\">Russia</a></td>\n",
              "<td style=\"background:#e0ffd8;\">73.15</td>\n",
              "<td>0.43</td>\n",
              "<td style=\"background:#e0ffd8;\">58.59</td>\n",
              "<td>8.54</td>\n",
              "<td style=\"background:#e0ffd8;\">17.12</td>\n",
              "<td>6.46</td>\n",
              "<td style=\"background:#e0ffd8;\">8.58</td>\n",
              "<td style=\"background:#eaf3ff;border-left-width:2px;\">67.26</td>\n",
              "<td style=\"background:#eaf3ff;\">52.70</td>\n",
              "<td style=\"background:#eaf3ff;\">14.37</td>\n",
              "<td style=\"background:#eaf3ff;\">7.54</td>\n",
              "<td style=\"background:#fee7f6;border-left-width:2px;\">79.04</td>\n",
              "<td style=\"background:#fee7f6;\">64.44</td>\n",
              "<td style=\"background:#fee7f6;\">18.88</td>\n",
              "<td style=\"background:#fee7f6;\">8.98</td>\n",
              "<td style=\"border-left-width:2px;\">11.78</td>\n",
              "<td>11.74</td>\n",
              "<td>4.51</td>\n",
              "<td>1.44</td>\n",
              "<td style=\"border-left-width:2px;\">145440</td>\n",
              "<td><span class=\"flagicon\"><span class=\"mw-image-border\" typeof=\"mw:File\"><a href=\"/wiki/Russia\" title=\"Russia\"><img alt=\"Russia\" class=\"mw-file-element\" data-file-height=\"600\" data-file-width=\"900\" decoding=\"async\" height=\"15\" src=\"//upload.wikimedia.org/wikipedia/en/thumb/f/f3/Flag_of_Russia.svg/23px-Flag_of_Russia.svg.png\" srcset=\"//upload.wikimedia.org/wikipedia/en/thumb/f/f3/Flag_of_Russia.svg/35px-Flag_of_Russia.svg.png 1.5x, //upload.wikimedia.org/wikipedia/en/thumb/f/f3/Flag_of_Russia.svg/45px-Flag_of_Russia.svg.png 2x\" width=\"23\"/></a></span></span>\n",
              "</td></tr>\n",
              "<tr>\n",
              "<td><span class=\"flagicon\" style=\"display:inline-block;width:25px;\"><span class=\"mw-image-border\" typeof=\"mw:File\"><span><img alt=\"\" class=\"mw-file-element\" data-file-height=\"900\" data-file-width=\"1800\" decoding=\"async\" height=\"12\" src=\"//upload.wikimedia.org/wikipedia/commons/thumb/2/27/Flag_of_Moldova.svg/23px-Flag_of_Moldova.svg.png\" srcset=\"//upload.wikimedia.org/wikipedia/commons/thumb/2/27/Flag_of_Moldova.svg/35px-Flag_of_Moldova.svg.png 1.5x, //upload.wikimedia.org/wikipedia/commons/thumb/2/27/Flag_of_Moldova.svg/46px-Flag_of_Moldova.svg.png 2x\" width=\"23\"/></span></span></span> <a href=\"/wiki/Moldova\" title=\"Moldova\">Moldova</a></td>\n",
              "<td style=\"background:#e0ffd8;\">71.20</td>\n",
              "<td>1.12</td>\n",
              "<td style=\"background:#e0ffd8;\">57.32</td>\n",
              "<td>7.38</td>\n",
              "<td style=\"background:#e0ffd8;\">14.70</td>\n",
              "<td>7.25</td>\n",
              "<td style=\"background:#e0ffd8;\">6.95</td>\n",
              "<td style=\"background:#eaf3ff;border-left-width:2px;\">66.57</td>\n",
              "<td style=\"background:#eaf3ff;\">52.73</td>\n",
              "<td style=\"background:#eaf3ff;\">12.26</td>\n",
              "<td style=\"background:#eaf3ff;\">5.39</td>\n",
              "<td style=\"background:#fee7f6;border-left-width:2px;\">75.53</td>\n",
              "<td style=\"background:#fee7f6;\">61.59</td>\n",
              "<td style=\"background:#fee7f6;\">16.35</td>\n",
              "<td style=\"background:#fee7f6;\">7.61</td>\n",
              "<td style=\"border-left-width:2px;\">8.97</td>\n",
              "<td>8.86</td>\n",
              "<td>4.09</td>\n",
              "<td>2.22</td>\n",
              "<td style=\"border-left-width:2px;\">3067</td>\n",
              "<td><span class=\"flagicon\"><span class=\"mw-image-border\" typeof=\"mw:File\"><a href=\"/wiki/Moldova\" title=\"Moldova\"><img alt=\"Moldova\" class=\"mw-file-element\" data-file-height=\"900\" data-file-width=\"1800\" decoding=\"async\" height=\"12\" src=\"//upload.wikimedia.org/wikipedia/commons/thumb/2/27/Flag_of_Moldova.svg/23px-Flag_of_Moldova.svg.png\" srcset=\"//upload.wikimedia.org/wikipedia/commons/thumb/2/27/Flag_of_Moldova.svg/35px-Flag_of_Moldova.svg.png 1.5x, //upload.wikimedia.org/wikipedia/commons/thumb/2/27/Flag_of_Moldova.svg/46px-Flag_of_Moldova.svg.png 2x\" width=\"23\"/></a></span></span>\n",
              "</td></tr></tbody></table>"
            ]
          },
          "execution_count": 7,
          "metadata": {},
          "output_type": "execute_result"
        }
      ],
      "source": [
        "# Tabla\n",
        "tabla = soup.find('table') #buscamos la tabla, en este caso solo hay una. Si hubiera mas, solo nos devolveria la primera. Si queremos todas, usamos find_all\n",
        "# soup.find_all('table')  -->  En caso de que tuviéramos más de una tabla esta sería la línea de código correcta para acceder a todas ellas\n",
        "tabla"
      ]
    },
    {
      "cell_type": "code",
      "execution_count": 8,
      "metadata": {
        "colab": {
          "base_uri": "https://localhost:8080/",
          "height": 157
        },
        "id": "esrynZ3KgT4M",
        "outputId": "d9bde501-cac4-44c4-fcfd-daae9bc6d94f"
      },
      "outputs": [
        {
          "data": {
            "text/plain": [
              "'<table class=\"wikitable sortable mw-datatable static-row-numbers sticky-header-multi sort-under col1left col21right\" style=\"text-align:center;\">\\n <tbody>\\n  <tr>\\n   <th rowspan=\"2\" style=\"vertical-align:middle;\">\\n    Countries and\\n    <br/>\\n    territories\\n   </th>\\n   <th colspan=\"7\">\\n    Life expectancy for population in general\\n   </th>\\n   <th colspan=\"4\" style=\"border-left-width:2px;\">\\n    Life expectancy for male\\n   </th>\\n   <th colspan=\"4\" style=\"border-left-width:2px;\">\\n    Life expectancy for female\\n   </th>\\n   <th colspan=\"4\" style=\"border-left-width:2px;\">\\n    <style data-mw-deduplicate=\"TemplateStyles:r1038841319\">\\n     .mw-parser-output .tooltip-dotted{border-bottom:1px dotted;cursor:help}\\n    </style>\\n    <span class=\"rt-commentedText tooltip tooltip-dotted\" title=\"Difference in life expectancy for female and male\">\\n     Sex gap\\n    </span>\\n   </th>\\n   <th rowspan=\"2\" style=\"border-left-width:2px; text-align:middle;\">\\n    <link href=\"mw-data:TemplateStyles:r1038841319\" rel=\"mw-deduplicated-inline-style\"/>\\n    <span class=\"rt-commentedText tooltip tooltip-dotted\" title=\"Total population, as of 1 July 2023, in thousands\">\\n     Population\\n     <br/>\\n     (thous.)\\n    </span>\\n   </th>\\n   <th rowspan=\"2\">\\n   </th>\\n  </tr>\\n  <tr>\\n   <th style=\"vertical-align:middle;\">\\n    <link href=\"mw-data:TemplateStyles:r1038841319\" rel=\"mw-deduplicated-inline-style\"/>\\n    <span class=\"rt-commentedText tooltip tooltip-dotted\" title=\"Life expectancy at birth\">\\n     at birth\\n    </span>\\n   </th>\\n   <th>\\n    <link href=\"mw-data:TemplateStyles:r1038841319\" rel=\"mw-deduplicated-inline-style\"/>\\n    <span class=\"rt-commentedText tooltip tooltip-dotted\" title=\"Bonus for survival - additional years of life expectancy (minus years already lived), received by a person if he lives to 15 years old, compared with life expectancy at birth. Big bonus here means high child mortality.\">\\n     bonus\\n     <br/>\\n     0→15\\n    </span>\\n   </th>\\n   <th style=\"vertical-align:middle;\">\\n    <link href=\"mw-data:TemplateStyles:r1038841319\" rel=\"mw-deduplicated-inline-style\"/>\\n    <span class=\"rt-commentedText tooltip tooltip-dotted\" title=\"Life expectancy at age 15\">\\n     at 15\\n    </span>\\n   </th>\\n   <th>\\n    <link href=\"mw-data:TemplateStyles:r1038841319\" rel=\"mw-deduplicated-inline-style\"/>\\n    <span class=\"rt-commentedText tooltip tooltip-dotted\" title=\"Bonus for survival - additional years of life expectancy (minus years already lived), received by a person if he lives to 65 years old, compared with life expectancy at age 15. Big bonus here means high mortality in adulthood.\">\\n     bonus\\n     <br/>\\n     15→65\\n    </span>\\n   </th>\\n   <th style=\"vertical-align:middle;\">\\n    <link href=\"mw-data:TemplateStyles:r1038841319\" rel=\"mw-deduplicated-inline-style\"/>\\n    <span class=\"rt-commentedText tooltip tooltip-dotted\" title=\"Life expectancy at age 65\">\\n     at 65\\n    </span>\\n   </th>\\n   <th>\\n    <link href=\"mw-data:TemplateStyles:r1038841319\" rel=\"mw-deduplicated-inline-style\"/>\\n    <span class=\"rt-commentedText tooltip tooltip-dotted\" title=\"Bonus for survival - additional years of life expectancy (minus years already lived), received by a person if he lives to 80 years old, compared with life expectancy at age 65. Big bonus here means high mortality in adulthood. If life expectancy at the age of 65 was less than 15 years then this bonus has already been partially spent.\">\\n     bonus\\n     <br/>\\n     65→80\\n    </span>\\n   </th>\\n   <th style=\"vertical-align:middle;\">\\n    <link href=\"mw-data:TemplateStyles:r1038841319\" rel=\"mw-deduplicated-inline-style\"/>\\n    <span class=\"rt-commentedText tooltip tooltip-dotted\" title=\"Life expectancy at age 80\">\\n     at 80\\n    </span>\\n   </th>\\n   <th style=\"vertical-align:middle;border-left-width:2px;\">\\n    at birth\\n   </th>\\n   <th style=\"vertical-align:middle;\">\\n    at 15\\n   </th>\\n   <th style=\"vertical-align:middle;\">\\n    at 65\\n   </th>\\n   <th style=\"vertical-align:middle;\">\\n    at 80\\n   </th>\\n   <th style=\"vertical-align:middle;border-left-width:2px;\">\\n    at birth\\n   </th>\\n   <th style=\"vertical-align:middle;\">\\n    at 15\\n   </th>\\n   <th style=\"vertical-align:middle;\">\\n    at 65\\n   </th>\\n   <th style=\"vertical-align:middle;\">\\n    at 80\\n   </th>\\n   <th style=\"vertical-align:middle;border-left-width:2px;\">\\n    at birth\\n   </th>\\n   <th style=\"vertical-align:middle;\">\\n    at 15\\n   </th>\\n   <th style=\"vertical-align:middle;\">\\n    at 65\\n   </th>\\n   <th style=\"vertical-align:middle;\">\\n    at 80\\n   </th>\\n  </tr>\\n  <tr>\\n   <td>\\n    <span class=\"flagicon\" style=\"display:inline-block;width:25px;\">\\n     <span class=\"mw-image-border\" typeof=\"mw:File\">\\n      <span>\\n       <img alt=\"\" class=\"mw-file-element\" data-file-height=\"800\" data-file-width=\"1000\" decoding=\"async\" height=\"15\" src=\"//upload.wikimedia.org/wikipedia/commons/thumb/e/ea/Flag_of_Monaco.svg/19px-Flag_of_Monaco.svg.png\" srcset=\"//upload.wikimedia.org/wikipedia/commons/thumb/e/ea/Flag_of_Monaco.svg/29px-Flag_of_Monaco.svg.png 1.5x, //upload.wikimedia.org/wikipedia/commons/thumb/e/ea/Flag_of_Monaco.svg/38px-Flag_of_Monaco.svg.png 2x\" width=\"19\"/>\\n      </span>\\n     </span>\\n    </span>\\n    <a href=\"/wiki/Monaco\" title=\"Monaco\">\\n     Monaco\\n    </a>\\n   </td>\\n   <td style=\"background:#e0ffd8;\">\\n    86.37\\n   </td>\\n   <td>\\n    0.45\\n   </td>\\n   <td style=\"background:#e0ffd8;\">\\n    71.82\\n   </td>\\n   <td>\\n    1.40\\n   </td>\\n   <td style=\"background:#e0ffd8;\">\\n    23.21\\n   </td>\\n   <td>\\n    3.09\\n   </td>\\n   <td style=\"background:#e0ffd8;\">\\n    11.30\\n   </td>\\n   <td style=\"background:#eaf3ff;border-left-width:2px;\">\\n    84.45\\n   </td>\\n   <td style=\"background:#eaf3ff;\">\\n    69.90\\n   </td>\\n   <td style=\"background:#eaf3ff;\">\\n    21.56\\n   </td>\\n   <td style=\"background:#eaf3ff;\">\\n    10.14\\n   </td>\\n   <td style=\"background:#fee7f6;border-left-width:2px;\">\\n    88.50\\n   </td>\\n   <td style=\"background:#fee7f6;\">\\n    73.95\\n   </td>\\n   <td style=\"background:#fee7f6;\">\\n    25.05\\n   </td>\\n   <td style=\"background:#fee7f6;\">\\n    12.50\\n   </td>\\n   <td style=\"border-left-width:2px;\">\\n    4.06\\n   </td>\\n   <td>\\n    4.05\\n   </td>\\n   <td>\\n    3.49\\n   </td>\\n   <td>\\n    2.36\\n   </td>\\n   <td style=\"border-left-width:2px;\">\\n    39\\n   </td>\\n   <td>\\n    <span class=\"flagicon\">\\n     <span class=\"mw-image-border\" typeof=\"mw:File\">\\n      <a href=\"/wiki/Monaco\" title=\"Monaco\">\\n       <img alt=\"Monaco\" class=\"mw-file-element\" data-file-height=\"800\" data-file-width=\"1000\" decoding=\"async\" height=\"15\" src=\"//upload.wikimedia.org/wikipedia/commons/thumb/e/ea/Flag_of_Monaco.svg/19px-Flag_of_Monaco.svg.png\" srcset=\"//upload.wikimedia.org/wikipedia/commons/thumb/e/ea/Flag_of_Monaco.svg/29px-Flag_of_Monaco.svg.png 1.5x, //upload.wikimedia.org/wikipedia/commons/thumb/e/ea/Flag_of_Monaco.svg/38px-Flag_of_Monaco.svg.png 2x\" width=\"19\"/>\\n      </a>\\n     </span>\\n    </span>\\n   </td>\\n  </tr>\\n  <tr>\\n   <td>\\n    <span class=\"flagicon\" style=\"display:inline-block;width:25px;\">\\n     <span class=\"mw-image-border\" typeof=\"mw:File\">\\n      <span>\\n       <img alt=\"\" class=\"mw-file-element\" data-file-height=\"600\" data-file-width=\"800\" decoding=\"async\" height=\"15\" src=\"//upload.wikimedia.org/wikipedia/commons/thumb/b/b1/Flag_of_San_Marino.svg/20px-Flag_of_San_Marino.svg.png\" srcset=\"//upload.wikimedia.org/wikipedia/commons/thumb/b/b1/Flag_of_San_Marino.svg/31px-Flag_of_San_Marino.svg.png 1.5x, //upload.wikimedia.org/wikipedia/commons/thumb/b/b1/Flag_of_San_Marino.svg/40px-Flag_of_San_Marino.svg.png 2x\" width=\"20\"/>\\n      </span>\\n     </span>\\n    </span>\\n    <a href=\"/wiki/San_Marino\" title=\"San Marino\">\\n     San Marino\\n    </a>\\n   </td>\\n   <td style=\"background:#e0ffd8;\">\\n    85.71\\n   </td>\\n   <td>\\n    0.15\\n   </td>\\n   <td style=\"background:#e0ffd8;\">\\n    70.86\\n   </td>\\n   <td>\\n    1.78\\n   </td>\\n   <td style=\"background:#e0ffd8;\">\\n    22.64\\n   </td>\\n   <td>\\n    2.88\\n   </td>\\n   <td style=\"background:#e0ffd8;\">\\n    10.52\\n   </td>\\n   <td style=\"background:#eaf3ff;border-left-width:2px;\">\\n    84.21\\n   </td>\\n   <td style=\"background:#eaf3ff;\">\\n    69.36\\n   </td>\\n   <td style=\"background:#eaf3ff;\">\\n    21.25\\n   </td>\\n   <td style=\"background:#eaf3ff;\">\\n    9.52\\n   </td>\\n   <td style=\"background:#fee7f6;border-left-width:2px;\">\\n    87.10\\n   </td>\\n   <td style=\"background:#fee7f6;\">\\n    72.24\\n   </td>\\n   <td style=\"background:#fee7f6;\">\\n    23.90\\n   </td>\\n   <td style=\"background:#fee7f6;\">\\n    11.31\\n   </td>\\n   <td style=\"border-left-width:2px;\">\\n    2.89\\n   </td>\\n   <td>\\n    2.88\\n   </td>\\n   <td>\\n    2.65\\n   </td>\\n   <td>\\n    1.79\\n   </td>\\n   <td style=\"border-left-width:2px;\">\\n    34\\n   </td>\\n   <td>\\n    <span class=\"flagicon\">\\n     <span class=\"mw-image-border\" typeof=\"mw:File\">\\n      <a href=\"/wiki/San_Marino\" title=\"San Marino\">\\n       <img alt=\"San Marino\" class=\"mw-file-element\" data-file-height=\"600\" data-file-width=\"800\" decoding=\"async\" height=\"15\" src=\"//upload.wikimedia.org/wikipedia/commons/thumb/b/b1/Flag_of_San_Marino.svg/20px-Flag_of_San_Marino.svg.png\" srcset=\"//upload.wikimedia.org/wikipedia/commons/thumb/b/b1/Flag_of_San_Marino.svg/31px-Flag_of_San_Marino.svg.png 1.5x, //upload.wikimedia.org/wikipedia/commons/thumb/b/b1/Flag_of_San_Marino.svg/40px-Flag_of_San_Marino.svg.png 2x\" width=\"20\"/>\\n      </a>\\n     </span>\\n    </span>\\n   </td>\\n  </tr>\\n  <tr>\\n   <td>\\n    <span class=\"flagicon\" style=\"display:inline-block;width:25px;\">\\n     <span class=\"mw-image-border\" typeof=\"mw:File\">\\n      <span>\\n       <img alt=\"\" class=\"mw-file-element\" data-file-height=\"700\" data-file-width=\"1000\" decoding=\"async\" height=\"15\" src=\"//upload.wikimedia.org/wikipedia/commons/thumb/1/19/Flag_of_Andorra.svg/22px-Flag_of_Andorra.svg.png\" srcset=\"//upload.wikimedia.org/wikipedia/commons/thumb/1/19/Flag_of_Andorra.svg/33px-Flag_of_Andorra.svg.png 1.5x, //upload.wikimedia.org/wikipedia/commons/thumb/1/19/Flag_of_Andorra.svg/43px-Flag_of_Andorra.svg.png 2x\" width=\"22\"/>\\n      </span>\\n     </span>\\n    </span>\\n    <a href=\"/wiki/Andorra\" title=\"Andorra\">\\n     Andorra\\n    </a>\\n   </td>\\n   <td style=\"background:#e0ffd8;\">\\n    84.04\\n   </td>\\n   <td>\\n    0.58\\n   </td>\\n   <td style=\"background:#e0ffd8;\">\\n    69.62\\n   </td>\\n   <td>\\n    1.85\\n   </td>\\n   <td style=\"background:#e0ffd8;\">\\n    21.47\\n   </td>\\n   <td>\\n    3.72\\n   </td>\\n   <td style=\"background:#e0ffd8;\">\\n    10.19\\n   </td>\\n   <td style=\"background:#eaf3ff;border-left-width:2px;\">\\n    82.10\\n   </td>\\n   <td style=\"background:#eaf3ff;\">\\n    67.68\\n   </td>\\n   <td style=\"background:#eaf3ff;\">\\n    19.81\\n   </td>\\n   <td style=\"background:#eaf3ff;\">\\n    9.03\\n   </td>\\n   <td style=\"background:#fee7f6;border-left-width:2px;\">\\n    86.11\\n   </td>\\n   <td style=\"background:#fee7f6;\">\\n    71.70\\n   </td>\\n   <td style=\"background:#fee7f6;\">\\n    23.18\\n   </td>\\n   <td style=\"background:#fee7f6;\">\\n    11.16\\n   </td>\\n   <td style=\"border-left-width:2px;\">\\n    4.01\\n   </td>\\n   <td>\\n    4.02\\n   </td>\\n   <td>\\n    3.36\\n   </td>\\n   <td>\\n    2.13\\n   </td>\\n   <td style=\"border-left-width:2px;\">\\n    81\\n   </td>\\n   <td>\\n    <span class=\"flagicon\">\\n     <span class=\"mw-image-border\" typeof=\"mw:File\">\\n      <a href=\"/wiki/Andorra\" title=\"Andorra\">\\n       <img alt=\"Andorra\" class=\"mw-file-element\" data-file-height=\"700\" data-file-width=\"1000\" decoding=\"async\" height=\"15\" src=\"//upload.wikimedia.org/wikipedia/commons/thumb/1/19/Flag_of_Andorra.svg/22px-Flag_of_Andorra.svg.png\" srcset=\"//upload.wikimedia.org/wikipedia/commons/thumb/1/19/Flag_of_Andorra.svg/33px-Flag_of_Andorra.svg.png 1.5x, //upload.wikimedia.org/wikipedia/commons/thumb/1/19/Flag_of_Andorra.svg/43px-Flag_of_Andorra.svg.png 2x\" width=\"22\"/>\\n      </a>\\n     </span>\\n    </span>\\n   </td>\\n  </tr>\\n  <tr>\\n   <td>\\n    <span class=\"flagicon\" style=\"display:inline-block;width:25px;\">\\n     <span class=\"mw-image-border\" typeof=\"mw:File\">\\n      <span>\\n       <img alt=\"\" class=\"mw-file-element\" data-file-height=\"512\" data-file-width=\"512\" decoding=\"async\" height=\"16\" src=\"//upload.wikimedia.org/wikipedia/commons/thumb/0/08/Flag_of_Switzerland_%28Pantone%29.svg/16px-Flag_of_Switzerland_%28Pantone%29.svg.png\" srcset=\"//upload.wikimedia.org/wikipedia/commons/thumb/0/08/Flag_of_Switzerland_%28Pantone%29.svg/24px-Flag_of_Switzerland_%28Pantone%29.svg.png 1.5x, //upload.wikimedia.org/wikipedia/commons/thumb/0/08/Flag_of_Switzerland_%28Pantone%29.svg/32px-Flag_of_Switzerland_%28Pantone%29.svg.png 2x\" width=\"16\"/>\\n      </span>\\n     </span>\\n    </span>\\n    <a href=\"/wiki/Switzerland\" title=\"Switzerland\">\\n     Switzerland\\n    </a>\\n   </td>\\n   <td style=\"background:#e0ffd8;\">\\n    83.95\\n   </td>\\n   <td>\\n    0.36\\n   </td>\\n   <td style=\"background:#e0ffd8;\">\\n    69.31\\n   </td>\\n   <td>\\n    2.20\\n   </td>\\n   <td style=\"background:#e0ffd8;\">\\n    21.51\\n   </td>\\n   <td>\\n    3.46\\n   </td>\\n   <td style=\"background:#e0ffd8;\">\\n    9.97\\n   </td>\\n   <td style=\"background:#eaf3ff;border-left-width:2px;\">\\n    82.01\\n   </td>\\n   <td style=\"background:#eaf3ff;\">\\n    67.38\\n   </td>\\n   <td style=\"background:#eaf3ff;\">\\n    20.05\\n   </td>\\n   <td style=\"background:#eaf3ff;\">\\n    9.08\\n   </td>\\n   <td style=\"background:#fee7f6;border-left-width:2px;\">\\n    85.83\\n   </td>\\n   <td style=\"background:#fee7f6;\">\\n    71.17\\n   </td>\\n   <td style=\"background:#fee7f6;\">\\n    22.83\\n   </td>\\n   <td style=\"background:#fee7f6;\">\\n    10.63\\n   </td>\\n   <td style=\"border-left-width:2px;\">\\n    3.82\\n   </td>\\n   <td>\\n    3.80\\n   </td>\\n   <td>\\n    2.78\\n   </td>\\n   <td>\\n    1.54\\n   </td>\\n   <td style=\"border-left-width:2px;\">\\n    8871\\n   </td>\\n   <td>\\n    <span class=\"flagicon\">\\n     <span class=\"mw-image-border\" typeof=\"mw:File\">\\n      <a href=\"/wiki/Switzerland\" title=\"Switzerland\">\\n       <img alt=\"Switzerland\" class=\"mw-file-element\" data-file-height=\"512\" data-file-width=\"512\" decoding=\"async\" height=\"16\" src=\"//upload.wikimedia.org/wikipedia/commons/thumb/0/08/Flag_of_Switzerland_%28Pantone%29.svg/16px-Flag_of_Switzerland_%28Pantone%29.svg.png\" srcset=\"//upload.wikimedia.org/wikipedia/commons/thumb/0/08/Flag_of_Switzerland_%28Pantone%29.svg/24px-Flag_of_Switzerland_%28Pantone%29.svg.png 1.5x, //upload.wikimedia.org/wikipedia/commons/thumb/0/08/Flag_of_Switzerland_%28Pantone%29.svg/32px-Flag_of_Switzerland_%28Pantone%29.svg.png 2x\" width=\"16\"/>\\n      </a>\\n     </span>\\n    </span>\\n   </td>\\n  </tr>\\n  <tr>\\n   <td>\\n    <span class=\"flagicon\" style=\"display:inline-block;width:25px;\">\\n     <span class=\"mw-image-border\" typeof=\"mw:File\">\\n      <span>\\n       <img alt=\"\" class=\"mw-file-element\" data-file-height=\"1000\" data-file-width=\"1500\" decoding=\"async\" height=\"15\" src=\"//upload.wikimedia.org/wikipedia/en/thumb/0/03/Flag_of_Italy.svg/23px-Flag_of_Italy.svg.png\" srcset=\"//upload.wikimedia.org/wikipedia/en/thumb/0/03/Flag_of_Italy.svg/35px-Flag_of_Italy.svg.png 1.5x, //upload.wikimedia.org/wikipedia/en/thumb/0/03/Flag_of_Italy.svg/45px-Flag_of_Italy.svg.png 2x\" width=\"23\"/>\\n      </span>\\n     </span>\\n    </span>\\n    <a href=\"/wiki/Italy\" title=\"Italy\">\\n     Italy\\n    </a>\\n   </td>\\n   <td style=\"background:#e0ffd8;\">\\n    83.72\\n   </td>\\n   <td>\\n    0.26\\n   </td>\\n   <td style=\"background:#e0ffd8;\">\\n    68.98\\n   </td>\\n   <td>\\n    2.33\\n   </td>\\n   <td style=\"background:#e0ffd8;\">\\n    21.31\\n   </td>\\n   <td>\\n    3.46\\n   </td>\\n   <td style=\"background:#e0ffd8;\">\\n    9.77\\n   </td>\\n   <td style=\"background:#eaf3ff;border-left-width:2px;\">\\n    81.57\\n   </td>\\n   <td style=\"background:#eaf3ff;\">\\n    66.84\\n   </td>\\n   <td style=\"background:#eaf3ff;\">\\n    19.67\\n   </td>\\n   <td style=\"background:#eaf3ff;\">\\n    8.77\\n   </td>\\n   <td style=\"background:#fee7f6;border-left-width:2px;\">\\n    85.75\\n   </td>\\n   <td style=\"background:#fee7f6;\">\\n    70.99\\n   </td>\\n   <td style=\"background:#fee7f6;\">\\n    22.76\\n   </td>\\n   <td style=\"background:#fee7f6;\">\\n    10.50\\n   </td>\\n   <td style=\"border-left-width:2px;\">\\n    4.18\\n   </td>\\n   <td>\\n    4.15\\n   </td>\\n   <td>\\n    3.09\\n   </td>\\n   <td>\\n    1.73\\n   </td>\\n   <td style=\"border-left-width:2px;\">\\n    59499\\n   </td>\\n   <td>\\n    <span class=\"flagicon\">\\n     <span class=\"mw-image-border\" typeof=\"mw:File\">\\n      <a href=\"/wiki/Italy\" title=\"Italy\">\\n       <img alt=\"Italy\" class=\"mw-file-element\" data-file-height=\"1000\" data-file-width=\"1500\" decoding=\"async\" height=\"15\" src=\"//upload.wikimedia.org/wikipedia/en/thumb/0/03/Flag_of_Italy.svg/23px-Flag_of_Italy.svg.png\" srcset=\"//upload.wikimedia.org/wikipedia/en/thumb/0/03/Flag_of_Italy.svg/35px-Flag_of_Italy.svg.png 1.5x, //upload.wikimedia.org/wikipedia/en/thumb/0/03/Flag_of_Italy.svg/45px-Flag_of_Italy.svg.png 2x\" width=\"23\"/>\\n      </a>\\n     </span>\\n    </span>\\n   </td>\\n  </tr>\\n  <tr>\\n   <td>\\n    <span class=\"flagicon\" style=\"display:inline-block;width:25px;\">\\n     <span class=\"mw-image-border\" typeof=\"mw:File\">\\n      <span>\\n       <img alt=\"\" class=\"mw-file-element\" data-file-height=\"500\" data-file-width=\"750\" decoding=\"async\" height=\"15\" src=\"//upload.wikimedia.org/wikipedia/en/thumb/9/9a/Flag_of_Spain.svg/23px-Flag_of_Spain.svg.png\" srcset=\"//upload.wikimedia.org/wikipedia/en/thumb/9/9a/Flag_of_Spain.svg/35px-Flag_of_Spain.svg.png 1.5x, //upload.wikimedia.org/wikipedia/en/thumb/9/9a/Flag_of_Spain.svg/45px-Flag_of_Spain.svg.png 2x\" width=\"23\"/>\\n      </span>\\n     </span>\\n    </span>\\n    <a href=\"/wiki/Spain\" title=\"Spain\">\\n     Spain\\n    </a>\\n   </td>\\n   <td style=\"background:#e0ffd8;\">\\n    83.67\\n   </td>\\n   <td>\\n    0.29\\n   </td>\\n   <td style=\"background:#e0ffd8;\">\\n    68.96\\n   </td>\\n   <td>\\n    2.58\\n   </td>\\n   <td style=\"background:#e0ffd8;\">\\n    21.54\\n   </td>\\n   <td>\\n    3.57\\n   </td>\\n   <td style=\"background:#e0ffd8;\">\\n    10.11\\n   </td>\\n   <td style=\"background:#eaf3ff;border-left-width:2px;\">\\n    80.96\\n   </td>\\n   <td style=\"background:#eaf3ff;\">\\n    66.26\\n   </td>\\n   <td style=\"background:#eaf3ff;\">\\n    19.48\\n   </td>\\n   <td style=\"background:#eaf3ff;\">\\n    8.96\\n   </td>\\n   <td style=\"background:#fee7f6;border-left-width:2px;\">\\n    86.31\\n   </td>\\n   <td style=\"background:#fee7f6;\">\\n    71.58\\n   </td>\\n   <td style=\"background:#fee7f6;\">\\n    23.40\\n   </td>\\n   <td style=\"background:#fee7f6;\">\\n    10.94\\n   </td>\\n   <td style=\"border-left-width:2px;\">\\n    5.35\\n   </td>\\n   <td>\\n    5.32\\n   </td>\\n   <td>\\n    3.92\\n   </td>\\n   <td>\\n    1.98\\n   </td>\\n   <td style=\"border-left-width:2px;\">\\n    47912\\n   </td>\\n   <td>\\n    <span class=\"flagicon\">\\n     <span class=\"mw-image-border\" typeof=\"mw:File\">\\n      <a href=\"/wiki/Spain\" title=\"Spain\">\\n       <img alt=\"Spain\" class=\"mw-file-element\" data-file-height=\"500\" data-file-width=\"750\" decoding=\"async\" height=\"15\" src=\"//upload.wikimedia.org/wikipedia/en/thumb/9/9a/Flag_of_Spain.svg/23px-Flag_of_Spain.svg.png\" srcset=\"//upload.wikimedia.org/wikipedia/en/thumb/9/9a/Flag_of_Spain.svg/35px-Flag_of_Spain.svg.png 1.5x, //upload.wikimedia.org/wikipedia/en/thumb/9/9a/Flag_of_Spain.svg/45px-Flag_of_Spain.svg.png 2x\" width=\"23\"/>\\n      </a>\\n     </span>\\n    </span>\\n   </td>\\n  </tr>\\n  <tr>\\n   <td>\\n    <span class=\"flagicon\" style=\"display:inline-block;width:25px;\">\\n     <span class=\"mw-image-border\" typeof=\"mw:File\">\\n      <span>\\n       <img alt=\"\" class=\"mw-file-element\" data-file-height=\"600\" data-file-width=\"1000\" decoding=\"async\" height=\"14\" src=\"//upload.wikimedia.org/wikipedia/commons/thumb/4/47/Flag_of_Liechtenstein.svg/23px-Flag_of_Liechtenstein.svg.png\" srcset=\"//upload.wikimedia.org/wikipedia/commons/thumb/4/47/Flag_of_Liechtenstein.svg/35px-Flag_of_Liechtenstein.svg.png 1.5x, //upload.wikimedia.org/wikipedia/commons/thumb/4/47/Flag_of_Liechtenstein.svg/46px-Flag_of_Liechtenstein.svg.png 2x\" width=\"23\"/>\\n      </span>\\n     </span>\\n    </span>\\n    <a href=\"/wiki/Liechtenstein\" title=\"Liechtenstein\">\\n     Liechtenstein\\n    </a>\\n   </td>\\n   <td style=\"background:#e0ffd8;\">\\n    83.63\\n   </td>\\n   <td>\\n    0.62\\n   </td>\\n   <td style=\"background:#e0ffd8;\">\\n    69.25\\n   </td>\\n   <td>\\n    1.92\\n   </td>\\n   <td style=\"background:#e0ffd8;\">\\n    21.17\\n   </td>\\n   <td>\\n    3.81\\n   </td>\\n   <td style=\"background:#e0ffd8;\">\\n    9.98\\n   </td>\\n   <td style=\"background:#eaf3ff;border-left-width:2px;\">\\n    81.84\\n   </td>\\n   <td style=\"background:#eaf3ff;\">\\n    67.43\\n   </td>\\n   <td style=\"background:#eaf3ff;\">\\n    19.62\\n   </td>\\n   <td style=\"background:#eaf3ff;\">\\n    8.91\\n   </td>\\n   <td style=\"background:#fee7f6;border-left-width:2px;\">\\n    85.32\\n   </td>\\n   <td style=\"background:#fee7f6;\">\\n    70.97\\n   </td>\\n   <td style=\"background:#fee7f6;\">\\n    22.58\\n   </td>\\n   <td style=\"background:#fee7f6;\">\\n    10.75\\n   </td>\\n   <td style=\"border-left-width:2px;\">\\n    3.48\\n   </td>\\n   <td>\\n    3.54\\n   </td>\\n   <td>\\n    2.96\\n   </td>\\n   <td>\\n    1.84\\n   </td>\\n   <td style=\"border-left-width:2px;\">\\n    40\\n   </td>\\n   <td>\\n    <span class=\"flagicon\">\\n     <span class=\"mw-image-border\" typeof=\"mw:File\">\\n      <a href=\"/wiki/Liechtenstein\" title=\"Liechtenstein\">\\n       <img alt=\"Liechtenstein\" class=\"mw-file-element\" data-file-height=\"600\" data-file-width=\"1000\" decoding=\"async\" height=\"14\" src=\"//upload.wikimedia.org/wikipedia/commons/thumb/4/47/Flag_of_Liechtenstein.svg/23px-Flag_of_Liechtenstein.svg.png\" srcset=\"//upload.wikimedia.org/wikipedia/commons/thumb/4/47/Flag_of_Liechtenstein.svg/35px-Flag_of_Liechtenstein.svg.png 1.5x, //upload.wikimedia.org/wikipedia/commons/thumb/4/47/Flag_of_Liechtenstein.svg/46px-Flag_of_Liechtenstein.svg.png 2x\" width=\"23\"/>\\n      </a>\\n     </span>\\n    </span>\\n   </td>\\n  </tr>\\n  <tr>\\n   <td>\\n    <span class=\"flagicon\" style=\"display:inline-block;width:25px;\">\\n     <span class=\"mw-image-border\" typeof=\"mw:File\">\\n      <span>\\n       <img alt=\"\" class=\"mw-file-element\" data-file-height=\"500\" data-file-width=\"1000\" decoding=\"async\" height=\"12\" src=\"//upload.wikimedia.org/wikipedia/commons/thumb/0/02/Flag_of_Gibraltar.svg/23px-Flag_of_Gibraltar.svg.png\" srcset=\"//upload.wikimedia.org/wikipedia/commons/thumb/0/02/Flag_of_Gibraltar.svg/35px-Flag_of_Gibraltar.svg.png 1.5x, //upload.wikimedia.org/wikipedia/commons/thumb/0/02/Flag_of_Gibraltar.svg/46px-Flag_of_Gibraltar.svg.png 2x\" width=\"23\"/>\\n      </span>\\n     </span>\\n    </span>\\n    <a href=\"/wiki/Gibraltar\" title=\"Gibraltar\">\\n     Gibraltar\\n    </a>\\n   </td>\\n   <td style=\"background:#e0ffd8;\">\\n    83.55\\n   </td>\\n   <td>\\n    1.05\\n   </td>\\n   <td style=\"background:#e0ffd8;\">\\n    69.60\\n   </td>\\n   <td>\\n    2.66\\n   </td>\\n   <td style=\"background:#e0ffd8;\">\\n    22.26\\n   </td>\\n   <td>\\n    3.70\\n   </td>\\n   <td style=\"background:#e0ffd8;\">\\n    10.96\\n   </td>\\n   <td style=\"background:#eaf3ff;border-left-width:2px;\">\\n    80.92\\n   </td>\\n   <td style=\"background:#eaf3ff;\">\\n    67.08\\n   </td>\\n   <td style=\"background:#eaf3ff;\">\\n    20.40\\n   </td>\\n   <td style=\"background:#eaf3ff;\">\\n    9.61\\n   </td>\\n   <td style=\"background:#fee7f6;border-left-width:2px;\">\\n    86.14\\n   </td>\\n   <td style=\"background:#fee7f6;\">\\n    72.05\\n   </td>\\n   <td style=\"background:#fee7f6;\">\\n    23.95\\n   </td>\\n   <td style=\"background:#fee7f6;\">\\n    11.93\\n   </td>\\n   <td style=\"border-left-width:2px;\">\\n    5.23\\n   </td>\\n   <td>\\n    4.97\\n   </td>\\n   <td>\\n    3.56\\n   </td>\\n   <td>\\n    2.31\\n   </td>\\n   <td style=\"border-left-width:2px;\">\\n    38\\n   </td>\\n   <td>\\n    <span class=\"flagicon\">\\n     <span class=\"mw-image-border\" typeof=\"mw:File\">\\n      <a href=\"/wiki/Gibraltar\" title=\"Gibraltar\">\\n       <img alt=\"Gibraltar\" class=\"mw-file-element\" data-file-height=\"500\" data-file-width=\"1000\" decoding=\"async\" height=\"12\" src=\"//upload.wikimedia.org/wikipedia/commons/thumb/0/02/Flag_of_Gibraltar.svg/23px-Flag_of_Gibraltar.svg.png\" srcset=\"//upload.wikimedia.org/wikipedia/commons/thumb/0/02/Flag_of_Gibraltar.svg/35px-Flag_of_Gibraltar.svg.png 1.5x, //upload.wikimedia.org/wikipedia/commons/thumb/0/02/Flag_of_Gibraltar.svg/46px-Flag_of_Gibraltar.svg.png 2x\" width=\"23\"/>\\n      </a>\\n     </span>\\n    </span>\\n   </td>\\n  </tr>\\n  <tr>\\n   <td>\\n    <span class=\"flagicon\" style=\"display:inline-block;width:25px;\">\\n     <span class=\"mw-image-border\" typeof=\"mw:File\">\\n      <span>\\n       <img alt=\"\" class=\"mw-file-element\" data-file-height=\"600\" data-file-width=\"900\" decoding=\"async\" height=\"15\" src=\"//upload.wikimedia.org/wikipedia/en/thumb/c/c3/Flag_of_France.svg/23px-Flag_of_France.svg.png\" srcset=\"//upload.wikimedia.org/wikipedia/en/thumb/c/c3/Flag_of_France.svg/35px-Flag_of_France.svg.png 1.5x, //upload.wikimedia.org/wikipedia/en/thumb/c/c3/Flag_of_France.svg/45px-Flag_of_France.svg.png 2x\" width=\"23\"/>\\n      </span>\\n     </span>\\n    </span>\\n    <a href=\"/wiki/France\" title=\"France\">\\n     France\\n    </a>\\n   </td>\\n   <td style=\"background:#e0ffd8;\">\\n    83.33\\n   </td>\\n   <td>\\n    0.39\\n   </td>\\n   <td style=\"background:#e0ffd8;\">\\n    68.72\\n   </td>\\n   <td>\\n    3.31\\n   </td>\\n   <td style=\"background:#e0ffd8;\">\\n    22.03\\n   </td>\\n   <td>\\n    3.58\\n   </td>\\n   <td style=\"background:#e0ffd8;\">\\n    10.61\\n   </td>\\n   <td style=\"background:#eaf3ff;border-left-width:2px;\">\\n    80.43\\n   </td>\\n   <td style=\"background:#eaf3ff;\">\\n    65.85\\n   </td>\\n   <td style=\"background:#eaf3ff;\">\\n    20.00\\n   </td>\\n   <td style=\"background:#eaf3ff;\">\\n    9.41\\n   </td>\\n   <td style=\"background:#fee7f6;border-left-width:2px;\">\\n    86.09\\n   </td>\\n   <td style=\"background:#fee7f6;\">\\n    71.44\\n   </td>\\n   <td style=\"background:#fee7f6;\">\\n    23.78\\n   </td>\\n   <td style=\"background:#fee7f6;\">\\n    11.45\\n   </td>\\n   <td style=\"border-left-width:2px;\">\\n    5.66\\n   </td>\\n   <td>\\n    5.59\\n   </td>\\n   <td>\\n    3.78\\n   </td>\\n   <td>\\n    2.04\\n   </td>\\n   <td style=\"border-left-width:2px;\">\\n    66439\\n   </td>\\n   <td>\\n    <span class=\"flagicon\">\\n     <span class=\"mw-image-border\" typeof=\"mw:File\">\\n      <a href=\"/wiki/France\" title=\"France\">\\n       <img alt=\"France\" class=\"mw-file-element\" data-file-height=\"600\" data-file-width=\"900\" decoding=\"async\" height=\"15\" src=\"//upload.wikimedia.org/wikipedia/en/thumb/c/c3/Flag_of_France.svg/23px-Flag_of_France.svg.png\" srcset=\"//upload.wikimedia.org/wikipedia/en/thumb/c/c3/Flag_of_France.svg/35px-Flag_of_France.svg.png 1.5x, //upload.wikimedia.org/wikipedia/en/thumb/c/c3/Flag_of_France.svg/45px-Flag_of_France.svg.png 2x\" width=\"23\"/>\\n      </a>\\n     </span>\\n    </span>\\n   </td>\\n  </tr>\\n  <tr>\\n   <td>\\n    <span class=\"flagicon\" style=\"display:inline-block;width:25px;\">\\n     <span class=\"mw-image-border\" typeof=\"mw:File\">\\n      <span>\\n       <img alt=\"\" class=\"mw-file-element\" data-file-height=\"372\" data-file-width=\"512\" decoding=\"async\" height=\"15\" src=\"//upload.wikimedia.org/wikipedia/commons/thumb/d/d9/Flag_of_Norway.svg/21px-Flag_of_Norway.svg.png\" srcset=\"//upload.wikimedia.org/wikipedia/commons/thumb/d/d9/Flag_of_Norway.svg/32px-Flag_of_Norway.svg.png 1.5x, //upload.wikimedia.org/wikipedia/commons/thumb/d/d9/Flag_of_Norway.svg/41px-Flag_of_Norway.svg.png 2x\" width=\"21\"/>\\n      </span>\\n     </span>\\n    </span>\\n    <a href=\"/wiki/Norway\" title=\"Norway\">\\n     Norway\\n    </a>\\n   </td>\\n   <td style=\"background:#e0ffd8;\">\\n    83.31\\n   </td>\\n   <td>\\n    0.25\\n   </td>\\n   <td style=\"background:#e0ffd8;\">\\n    68.56\\n   </td>\\n   <td>\\n    2.19\\n   </td>\\n   <td style=\"background:#e0ffd8;\">\\n    20.75\\n   </td>\\n   <td>\\n    3.53\\n   </td>\\n   <td style=\"background:#e0ffd8;\">\\n    9.28\\n   </td>\\n   <td style=\"background:#eaf3ff;border-left-width:2px;\">\\n    81.75\\n   </td>\\n   <td style=\"background:#eaf3ff;\">\\n    67.02\\n   </td>\\n   <td style=\"background:#eaf3ff;\">\\n    19.58\\n   </td>\\n   <td style=\"background:#eaf3ff;\">\\n    8.37\\n   </td>\\n   <td style=\"background:#fee7f6;border-left-width:2px;\">\\n    84.85\\n   </td>\\n   <td style=\"background:#fee7f6;\">\\n    70.07\\n   </td>\\n   <td style=\"background:#fee7f6;\">\\n    21.84\\n   </td>\\n   <td style=\"background:#fee7f6;\">\\n    10.02\\n   </td>\\n   <td style=\"border-left-width:2px;\">\\n    3.10\\n   </td>\\n   <td>\\n    3.05\\n   </td>\\n   <td>\\n    2.27\\n   </td>\\n   <td>\\n    1.65\\n   </td>\\n   <td style=\"border-left-width:2px;\">\\n    5519\\n   </td>\\n   <td>\\n    <span class=\"flagicon\">\\n     <span class=\"mw-image-border\" typeof=\"mw:File\">\\n      <a href=\"/wiki/Norway\" title=\"Norway\">\\n       <img alt=\"Norway\" class=\"mw-file-element\" data-file-height=\"372\" data-file-width=\"512\" decoding=\"async\" height=\"15\" src=\"//upload.wikimedia.org/wikipedia/commons/thumb/d/d9/Flag_of_Norway.svg/21px-Flag_of_Norway.svg.png\" srcset=\"//upload.wikimedia.org/wikipedia/commons/thumb/d/d9/Flag_of_Norway.svg/32px-Flag_of_Norway.svg.png 1.5x, //upload.wikimedia.org/wikipedia/commons/thumb/d/d9/Flag_of_Norway.svg/41px-Flag_of_Norway.svg.png 2x\" width=\"21\"/>\\n      </a>\\n     </span>\\n    </span>\\n   </td>\\n  </tr>\\n  <tr>\\n   <td>\\n    <span class=\"flagicon\" style=\"display:inline-block;width:25px;\">\\n     <span class=\"mw-image-border\" typeof=\"mw:File\">\\n      <span>\\n       <img alt=\"\" class=\"mw-file-element\" data-file-height=\"600\" data-file-width=\"900\" decoding=\"async\" height=\"15\" src=\"//upload.wikimedia.org/wikipedia/commons/thumb/7/73/Flag_of_Malta.svg/23px-Flag_of_Malta.svg.png\" srcset=\"//upload.wikimedia.org/wikipedia/commons/thumb/7/73/Flag_of_Malta.svg/35px-Flag_of_Malta.svg.png 1.5x, //upload.wikimedia.org/wikipedia/commons/thumb/7/73/Flag_of_Malta.svg/45px-Flag_of_Malta.svg.png 2x\" width=\"23\"/>\\n      </span>\\n     </span>\\n    </span>\\n    <a href=\"/wiki/Malta\" title=\"Malta\">\\n     Malta\\n    </a>\\n   </td>\\n   <td style=\"background:#e0ffd8;\">\\n    83.30\\n   </td>\\n   <td>\\n    0.78\\n   </td>\\n   <td style=\"background:#e0ffd8;\">\\n    69.08\\n   </td>\\n   <td>\\n    2.35\\n   </td>\\n   <td style=\"background:#e0ffd8;\">\\n    21.42\\n   </td>\\n   <td>\\n    3.98\\n   </td>\\n   <td style=\"background:#e0ffd8;\">\\n    10.41\\n   </td>\\n   <td style=\"background:#eaf3ff;border-left-width:2px;\">\\n    81.27\\n   </td>\\n   <td style=\"background:#eaf3ff;\">\\n    66.86\\n   </td>\\n   <td style=\"background:#eaf3ff;\">\\n    19.36\\n   </td>\\n   <td style=\"background:#eaf3ff;\">\\n    8.83\\n   </td>\\n   <td style=\"background:#fee7f6;border-left-width:2px;\">\\n    85.26\\n   </td>\\n   <td style=\"background:#fee7f6;\">\\n    71.26\\n   </td>\\n   <td style=\"background:#fee7f6;\">\\n    23.35\\n   </td>\\n   <td style=\"background:#fee7f6;\">\\n    11.61\\n   </td>\\n   <td style=\"border-left-width:2px;\">\\n    3.99\\n   </td>\\n   <td>\\n    4.40\\n   </td>\\n   <td>\\n    3.98\\n   </td>\\n   <td>\\n    2.79\\n   </td>\\n   <td style=\"border-left-width:2px;\">\\n    533\\n   </td>\\n   <td>\\n    <span class=\"flagicon\">\\n     <span class=\"mw-image-border\" typeof=\"mw:File\">\\n      <a href=\"/wiki/Malta\" title=\"Malta\">\\n       <img alt=\"Malta\" class=\"mw-file-element\" data-file-height=\"600\" data-file-width=\"900\" decoding=\"async\" height=\"15\" src=\"//upload.wikimedia.org/wikipedia/commons/thumb/7/73/Flag_of_Malta.svg/23px-Flag_of_Malta.svg.png\" srcset=\"//upload.wikimedia.org/wikipedia/commons/thumb/7/73/Flag_of_Malta.svg/35px-Flag_of_Malta.svg.png 1.5x, //upload.wikimedia.org/wikipedia/commons/thumb/7/73/Flag_of_Malta.svg/45px-Flag_of_Malta.svg.png 2x\" width=\"23\"/>\\n      </a>\\n     </span>\\n    </span>\\n   </td>\\n  </tr>\\n  <tr>\\n   <td>\\n    <span class=\"flagicon\" style=\"display:inline-block;width:25px;\">\\n     <span class=\"mw-image-border\" typeof=\"mw:File\">\\n      <span>\\n       <img alt=\"\" class=\"mw-file-element\" data-file-height=\"600\" data-file-width=\"900\" decoding=\"async\" height=\"15\" src=\"//upload.wikimedia.org/wikipedia/commons/thumb/f/fa/Flag_of_Guernsey.svg/23px-Flag_of_Guernsey.svg.png\" srcset=\"//upload.wikimedia.org/wikipedia/commons/thumb/f/fa/Flag_of_Guernsey.svg/35px-Flag_of_Guernsey.svg.png 1.5x, //upload.wikimedia.org/wikipedia/commons/thumb/f/fa/Flag_of_Guernsey.svg/45px-Flag_of_Guernsey.svg.png 2x\" width=\"23\"/>\\n      </span>\\n     </span>\\n    </span>\\n    <a href=\"/wiki/Guernsey\" title=\"Guernsey\">\\n     Guernsey\\n    </a>\\n   </td>\\n   <td style=\"background:#e0ffd8;\">\\n    83.27\\n   </td>\\n   <td>\\n    0.64\\n   </td>\\n   <td style=\"background:#e0ffd8;\">\\n    68.91\\n   </td>\\n   <td>\\n    2.00\\n   </td>\\n   <td style=\"background:#e0ffd8;\">\\n    20.91\\n   </td>\\n   <td>\\n    3.91\\n   </td>\\n   <td style=\"background:#e0ffd8;\">\\n    9.82\\n   </td>\\n   <td style=\"background:#eaf3ff;border-left-width:2px;\">\\n    81.01\\n   </td>\\n   <td style=\"background:#eaf3ff;\">\\n    66.65\\n   </td>\\n   <td style=\"background:#eaf3ff;\">\\n    19.03\\n   </td>\\n   <td style=\"background:#eaf3ff;\">\\n    8.55\\n   </td>\\n   <td style=\"background:#fee7f6;border-left-width:2px;\">\\n    85.58\\n   </td>\\n   <td style=\"background:#fee7f6;\">\\n    71.20\\n   </td>\\n   <td style=\"background:#fee7f6;\">\\n    22.77\\n   </td>\\n   <td style=\"background:#fee7f6;\">\\n    10.88\\n   </td>\\n   <td style=\"border-left-width:2px;\">\\n    4.56\\n   </td>\\n   <td>\\n    4.55\\n   </td>\\n   <td>\\n    3.75\\n   </td>\\n   <td>\\n    2.33\\n   </td>\\n   <td style=\"border-left-width:2px;\">\\n    64\\n   </td>\\n   <td>\\n    <span class=\"flagicon\">\\n     <span class=\"mw-image-border\" typeof=\"mw:File\">\\n      <a href=\"/wiki/Guernsey\" title=\"Guernsey\">\\n       <img alt=\"Guernsey\" class=\"mw-file-element\" data-file-height=\"600\" data-file-width=\"900\" decoding=\"async\" height=\"15\" src=\"//upload.wikimedia.org/wikipedia/commons/thumb/f/fa/Flag_of_Guernsey.svg/23px-Flag_of_Guernsey.svg.png\" srcset=\"//upload.wikimedia.org/wikipedia/commons/thumb/f/fa/Flag_of_Guernsey.svg/35px-Flag_of_Guernsey.svg.png 1.5x, //upload.wikimedia.org/wikipedia/commons/thumb/f/fa/Flag_of_Guernsey.svg/45px-Flag_of_Guernsey.svg.png 2x\" width=\"23\"/>\\n      </a>\\n     </span>\\n    </span>\\n   </td>\\n  </tr>\\n  <tr>\\n   <td>\\n    <span class=\"flagicon\" style=\"display:inline-block;width:25px;\">\\n     <span class=\"mw-image-border\" typeof=\"mw:File\">\\n      <span>\\n       <img alt=\"\" class=\"mw-file-element\" data-file-height=\"1000\" data-file-width=\"1600\" decoding=\"async\" height=\"14\" src=\"//upload.wikimedia.org/wikipedia/en/thumb/4/4c/Flag_of_Sweden.svg/23px-Flag_of_Sweden.svg.png\" srcset=\"//upload.wikimedia.org/wikipedia/en/thumb/4/4c/Flag_of_Sweden.svg/35px-Flag_of_Sweden.svg.png 1.5x, //upload.wikimedia.org/wikipedia/en/thumb/4/4c/Flag_of_Sweden.svg/46px-Flag_of_Sweden.svg.png 2x\" width=\"23\"/>\\n      </span>\\n     </span>\\n    </span>\\n    <a href=\"/wiki/Sweden\" title=\"Sweden\">\\n     Sweden\\n    </a>\\n   </td>\\n   <td style=\"background:#e0ffd8;\">\\n    83.26\\n   </td>\\n   <td>\\n    0.24\\n   </td>\\n   <td style=\"background:#e0ffd8;\">\\n    68.50\\n   </td>\\n   <td>\\n    2.42\\n   </td>\\n   <td style=\"background:#e0ffd8;\">\\n    20.92\\n   </td>\\n   <td>\\n    3.71\\n   </td>\\n   <td style=\"background:#e0ffd8;\">\\n    9.63\\n   </td>\\n   <td style=\"background:#eaf3ff;border-left-width:2px;\">\\n    81.44\\n   </td>\\n   <td style=\"background:#eaf3ff;\">\\n    66.69\\n   </td>\\n   <td style=\"background:#eaf3ff;\">\\n    19.55\\n   </td>\\n   <td style=\"background:#eaf3ff;\">\\n    8.69\\n   </td>\\n   <td style=\"background:#fee7f6;border-left-width:2px;\">\\n    85.10\\n   </td>\\n   <td style=\"background:#fee7f6;\">\\n    70.33\\n   </td>\\n   <td style=\"background:#fee7f6;\">\\n    22.23\\n   </td>\\n   <td style=\"background:#fee7f6;\">\\n    10.40\\n   </td>\\n   <td style=\"border-left-width:2px;\">\\n    3.66\\n   </td>\\n   <td>\\n    3.64\\n   </td>\\n   <td>\\n    2.69\\n   </td>\\n   <td>\\n    1.71\\n   </td>\\n   <td style=\"border-left-width:2px;\">\\n    10551\\n   </td>\\n   <td>\\n    <span class=\"flagicon\">\\n     <span class=\"mw-image-border\" typeof=\"mw:File\">\\n      <a href=\"/wiki/Sweden\" title=\"Sweden\">\\n       <img alt=\"Sweden\" class=\"mw-file-element\" data-file-height=\"1000\" data-file-width=\"1600\" decoding=\"async\" height=\"14\" src=\"//upload.wikimedia.org/wikipedia/en/thumb/4/4c/Flag_of_Sweden.svg/23px-Flag_of_Sweden.svg.png\" srcset=\"//upload.wikimedia.org/wikipedia/en/thumb/4/4c/Flag_of_Sweden.svg/35px-Flag_of_Sweden.svg.png 1.5x, //upload.wikimedia.org/wikipedia/en/thumb/4/4c/Flag_of_Sweden.svg/46px-Flag_of_Sweden.svg.png 2x\" width=\"23\"/>\\n      </a>\\n     </span>\\n    </span>\\n   </td>\\n  </tr>\\n  <tr>\\n   <td>\\n    <span class=\"flagicon\" style=\"display:inline-block;width:25px;\">\\n     <span class=\"mw-image-border\" typeof=\"mw:File\">\\n      <span>\\n       <img alt=\"\" class=\"mw-file-element\" data-file-height=\"500\" data-file-width=\"500\" decoding=\"async\" height=\"15\" src=\"//upload.wikimedia.org/wikipedia/commons/thumb/8/86/Flag_of_Vatican_City_%282001%E2%80%932023%29.svg/15px-Flag_of_Vatican_City_%282001%E2%80%932023%29.svg.png\" srcset=\"//upload.wikimedia.org/wikipedia/commons/thumb/8/86/Flag_of_Vatican_City_%282001%E2%80%932023%29.svg/23px-Flag_of_Vatican_City_%282001%E2%80%932023%29.svg.png 1.5x, //upload.wikimedia.org/wikipedia/commons/thumb/8/86/Flag_of_Vatican_City_%282001%E2%80%932023%29.svg/30px-Flag_of_Vatican_City_%282001%E2%80%932023%29.svg.png 2x\" width=\"15\"/>\\n      </span>\\n     </span>\\n    </span>\\n    <a href=\"/wiki/Holy_See\" title=\"Holy See\">\\n     Holy See\\n    </a>\\n   </td>\\n   <td style=\"background:#e0ffd8;\">\\n    82.98\\n   </td>\\n   <td>\\n    0.66\\n   </td>\\n   <td style=\"background:#e0ffd8;\">\\n    68.64\\n   </td>\\n   <td>\\n    2.08\\n   </td>\\n   <td style=\"background:#e0ffd8;\">\\n    20.73\\n   </td>\\n   <td>\\n    3.98\\n   </td>\\n   <td style=\"background:#e0ffd8;\">\\n    9.71\\n   </td>\\n   <td style=\"background:#eaf3ff;border-left-width:2px;\">\\n    80.78\\n   </td>\\n   <td style=\"background:#eaf3ff;\">\\n    66.43\\n   </td>\\n   <td style=\"background:#eaf3ff;\">\\n    18.86\\n   </td>\\n   <td style=\"background:#eaf3ff;\">\\n    8.45\\n   </td>\\n   <td style=\"background:#fee7f6;border-left-width:2px;\">\\n    85.12\\n   </td>\\n   <td style=\"background:#fee7f6;\">\\n    70.78\\n   </td>\\n   <td style=\"background:#fee7f6;\">\\n    22.43\\n   </td>\\n   <td style=\"background:#fee7f6;\">\\n    10.64\\n   </td>\\n   <td style=\"border-left-width:2px;\">\\n    4.34\\n   </td>\\n   <td>\\n    4.35\\n   </td>\\n   <td>\\n    3.58\\n   </td>\\n   <td>\\n    2.20\\n   </td>\\n   <td style=\"border-left-width:2px;\">\\n    &lt;500\\n   </td>\\n   <td>\\n    <span class=\"flagicon\">\\n     <span class=\"mw-image-border\" typeof=\"mw:File\">\\n      <a href=\"/wiki/Holy_See\" title=\"Holy See\">\\n       <img alt=\"Holy See\" class=\"mw-file-element\" data-file-height=\"500\" data-file-width=\"500\" decoding=\"async\" height=\"15\" src=\"//upload.wikimedia.org/wikipedia/commons/thumb/8/86/Flag_of_Vatican_City_%282001%E2%80%932023%29.svg/15px-Flag_of_Vatican_City_%282001%E2%80%932023%29.svg.png\" srcset=\"//upload.wikimedia.org/wikipedia/commons/thumb/8/86/Flag_of_Vatican_City_%282001%E2%80%932023%29.svg/23px-Flag_of_Vatican_City_%282001%E2%80%932023%29.svg.png 1.5x, //upload.wikimedia.org/wikipedia/commons/thumb/8/86/Flag_of_Vatican_City_%282001%E2%80%932023%29.svg/30px-Flag_of_Vatican_City_%282001%E2%80%932023%29.svg.png 2x\" width=\"15\"/>\\n      </a>\\n     </span>\\n    </span>\\n   </td>\\n  </tr>\\n  <tr>\\n   <td>\\n    <span class=\"flagicon\" style=\"display:inline-block;width:25px;\">\\n     <span class=\"mw-image-border\" typeof=\"mw:File\">\\n      <span>\\n       <img alt=\"\" class=\"mw-file-element\" data-file-height=\"900\" data-file-width=\"1250\" decoding=\"async\" height=\"15\" src=\"//upload.wikimedia.org/wikipedia/commons/thumb/c/ce/Flag_of_Iceland.svg/21px-Flag_of_Iceland.svg.png\" srcset=\"//upload.wikimedia.org/wikipedia/commons/thumb/c/ce/Flag_of_Iceland.svg/32px-Flag_of_Iceland.svg.png 1.5x, //upload.wikimedia.org/wikipedia/commons/thumb/c/ce/Flag_of_Iceland.svg/42px-Flag_of_Iceland.svg.png 2x\" width=\"21\"/>\\n      </span>\\n     </span>\\n    </span>\\n    <a href=\"/wiki/Iceland\" title=\"Iceland\">\\n     Iceland\\n    </a>\\n   </td>\\n   <td style=\"background:#e0ffd8;\">\\n    82.69\\n   </td>\\n   <td>\\n    0.16\\n   </td>\\n   <td style=\"background:#e0ffd8;\">\\n    67.85\\n   </td>\\n   <td>\\n    2.92\\n   </td>\\n   <td style=\"background:#e0ffd8;\">\\n    20.77\\n   </td>\\n   <td>\\n    3.52\\n   </td>\\n   <td style=\"background:#e0ffd8;\">\\n    9.29\\n   </td>\\n   <td style=\"background:#eaf3ff;border-left-width:2px;\">\\n    80.98\\n   </td>\\n   <td style=\"background:#eaf3ff;\">\\n    66.22\\n   </td>\\n   <td style=\"background:#eaf3ff;\">\\n    19.82\\n   </td>\\n   <td style=\"background:#eaf3ff;\">\\n    8.72\\n   </td>\\n   <td style=\"background:#fee7f6;border-left-width:2px;\">\\n    84.51\\n   </td>\\n   <td style=\"background:#fee7f6;\">\\n    69.57\\n   </td>\\n   <td style=\"background:#fee7f6;\">\\n    21.73\\n   </td>\\n   <td style=\"background:#fee7f6;\">\\n    9.80\\n   </td>\\n   <td style=\"border-left-width:2px;\">\\n    3.52\\n   </td>\\n   <td>\\n    3.35\\n   </td>\\n   <td>\\n    1.91\\n   </td>\\n   <td>\\n    1.08\\n   </td>\\n   <td style=\"border-left-width:2px;\">\\n    388\\n   </td>\\n   <td>\\n    <span class=\"flagicon\">\\n     <span class=\"mw-image-border\" typeof=\"mw:File\">\\n      <a href=\"/wiki/Iceland\" title=\"Iceland\">\\n       <img alt=\"Iceland\" class=\"mw-file-element\" data-file-height=\"900\" data-file-width=\"1250\" decoding=\"async\" height=\"15\" src=\"//upload.wikimedia.org/wikipedia/commons/thumb/c/ce/Flag_of_Iceland.svg/21px-Flag_of_Iceland.svg.png\" srcset=\"//upload.wikimedia.org/wikipedia/commons/thumb/c/ce/Flag_of_Iceland.svg/32px-Flag_of_Iceland.svg.png 1.5x, //upload.wikimedia.org/wikipedia/commons/thumb/c/ce/Flag_of_Iceland.svg/42px-Flag_of_Iceland.svg.png 2x\" width=\"21\"/>\\n      </a>\\n     </span>\\n    </span>\\n   </td>\\n  </tr>\\n  <tr>\\n   <td>\\n    <span class=\"flagicon\" style=\"display:inline-block;width:25px;\">\\n     <span class=\"mw-image-border\" typeof=\"mw:File\">\\n      <span>\\n       <img alt=\"\" class=\"mw-file-element\" data-file-height=\"600\" data-file-width=\"1200\" decoding=\"async\" height=\"12\" src=\"//upload.wikimedia.org/wikipedia/commons/thumb/4/45/Flag_of_Ireland.svg/23px-Flag_of_Ireland.svg.png\" srcset=\"//upload.wikimedia.org/wikipedia/commons/thumb/4/45/Flag_of_Ireland.svg/35px-Flag_of_Ireland.svg.png 1.5x, //upload.wikimedia.org/wikipedia/commons/thumb/4/45/Flag_of_Ireland.svg/46px-Flag_of_Ireland.svg.png 2x\" width=\"23\"/>\\n      </span>\\n     </span>\\n    </span>\\n    <a href=\"/wiki/Republic_of_Ireland\" title=\"Republic of Ireland\">\\n     Ireland\\n    </a>\\n   </td>\\n   <td style=\"background:#e0ffd8;\">\\n    82.41\\n   </td>\\n   <td>\\n    0.31\\n   </td>\\n   <td style=\"background:#e0ffd8;\">\\n    67.72\\n   </td>\\n   <td>\\n    2.77\\n   </td>\\n   <td style=\"background:#e0ffd8;\">\\n    20.49\\n   </td>\\n   <td>\\n    3.91\\n   </td>\\n   <td style=\"background:#e0ffd8;\">\\n    9.41\\n   </td>\\n   <td style=\"background:#eaf3ff;border-left-width:2px;\">\\n    80.37\\n   </td>\\n   <td style=\"background:#eaf3ff;\">\\n    65.71\\n   </td>\\n   <td style=\"background:#eaf3ff;\">\\n    19.06\\n   </td>\\n   <td style=\"background:#eaf3ff;\">\\n    8.45\\n   </td>\\n   <td style=\"background:#fee7f6;border-left-width:2px;\">\\n    84.48\\n   </td>\\n   <td style=\"background:#fee7f6;\">\\n    69.76\\n   </td>\\n   <td style=\"background:#fee7f6;\">\\n    21.88\\n   </td>\\n   <td style=\"background:#fee7f6;\">\\n    10.20\\n   </td>\\n   <td style=\"border-left-width:2px;\">\\n    4.11\\n   </td>\\n   <td>\\n    4.04\\n   </td>\\n   <td>\\n    2.82\\n   </td>\\n   <td>\\n    1.76\\n   </td>\\n   <td style=\"border-left-width:2px;\">\\n    5197\\n   </td>\\n   <td>\\n    <span class=\"flagicon\">\\n     <span class=\"mw-image-border\" typeof=\"mw:File\">\\n      <a href=\"/wiki/Republic_of_Ireland\" title=\"Republic of Ireland\">\\n       <img alt=\"Republic of Ireland\" class=\"mw-file-element\" data-file-height=\"600\" data-file-width=\"1200\" decoding=\"async\" height=\"12\" src=\"//upload.wikimedia.org/wikipedia/commons/thumb/4/45/Flag_of_Ireland.svg/23px-Flag_of_Ireland.svg.png\" srcset=\"//upload.wikimedia.org/wikipedia/commons/thumb/4/45/Flag_of_Ireland.svg/35px-Flag_of_Ireland.svg.png 1.5x, //upload.wikimedia.org/wikipedia/commons/thumb/4/45/Flag_of_Ireland.svg/46px-Flag_of_Ireland.svg.png 2x\" width=\"23\"/>\\n      </a>\\n     </span>\\n    </span>\\n   </td>\\n  </tr>\\n  <tr>\\n   <td>\\n    <span class=\"flagicon\" style=\"display:inline-block;width:25px;\">\\n     <span class=\"mw-image-border\" typeof=\"mw:File\">\\n      <span>\\n       <img alt=\"\" class=\"mw-file-element\" data-file-height=\"400\" data-file-width=\"600\" decoding=\"async\" height=\"15\" src=\"//upload.wikimedia.org/wikipedia/commons/thumb/5/5c/Flag_of_Portugal.svg/23px-Flag_of_Portugal.svg.png\" srcset=\"//upload.wikimedia.org/wikipedia/commons/thumb/5/5c/Flag_of_Portugal.svg/35px-Flag_of_Portugal.svg.png 1.5x, //upload.wikimedia.org/wikipedia/commons/thumb/5/5c/Flag_of_Portugal.svg/45px-Flag_of_Portugal.svg.png 2x\" width=\"23\"/>\\n      </span>\\n     </span>\\n    </span>\\n    <a href=\"/wiki/Portugal\" title=\"Portugal\">\\n     Portugal\\n    </a>\\n   </td>\\n   <td style=\"background:#e0ffd8;\">\\n    82.36\\n   </td>\\n   <td>\\n    0.32\\n   </td>\\n   <td style=\"background:#e0ffd8;\">\\n    67.68\\n   </td>\\n   <td>\\n    3.20\\n   </td>\\n   <td style=\"background:#e0ffd8;\">\\n    20.88\\n   </td>\\n   <td>\\n    3.73\\n   </td>\\n   <td style=\"background:#e0ffd8;\">\\n    9.61\\n   </td>\\n   <td style=\"background:#eaf3ff;border-left-width:2px;\">\\n    79.44\\n   </td>\\n   <td style=\"background:#eaf3ff;\">\\n    64.77\\n   </td>\\n   <td style=\"background:#eaf3ff;\">\\n    18.97\\n   </td>\\n   <td style=\"background:#eaf3ff;\">\\n    8.63\\n   </td>\\n   <td style=\"background:#fee7f6;border-left-width:2px;\">\\n    85.12\\n   </td>\\n   <td style=\"background:#fee7f6;\">\\n    70.41\\n   </td>\\n   <td style=\"background:#fee7f6;\">\\n    22.52\\n   </td>\\n   <td style=\"background:#fee7f6;\">\\n    10.29\\n   </td>\\n   <td style=\"border-left-width:2px;\">\\n    5.68\\n   </td>\\n   <td>\\n    5.64\\n   </td>\\n   <td>\\n    3.55\\n   </td>\\n   <td>\\n    1.66\\n   </td>\\n   <td style=\"border-left-width:2px;\">\\n    10431\\n   </td>\\n   <td>\\n    <span class=\"flagicon\">\\n     <span class=\"mw-image-border\" typeof=\"mw:File\">\\n      <a href=\"/wiki/Portugal\" title=\"Portugal\">\\n       <img alt=\"Portugal\" class=\"mw-file-element\" data-file-height=\"400\" data-file-width=\"600\" decoding=\"async\" height=\"15\" src=\"//upload.wikimedia.org/wikipedia/commons/thumb/5/5c/Flag_of_Portugal.svg/23px-Flag_of_Portugal.svg.png\" srcset=\"//upload.wikimedia.org/wikipedia/commons/thumb/5/5c/Flag_of_Portugal.svg/35px-Flag_of_Portugal.svg.png 1.5x, //upload.wikimedia.org/wikipedia/commons/thumb/5/5c/Flag_of_Portugal.svg/45px-Flag_of_Portugal.svg.png 2x\" width=\"23\"/>\\n      </a>\\n     </span>\\n    </span>\\n   </td>\\n  </tr>\\n  <tr>\\n   <td>\\n    <span class=\"flagicon\" style=\"display:inline-block;width:25px;\">\\n     <span class=\"mw-image-border\" typeof=\"mw:File\">\\n      <span>\\n       <img alt=\"\" class=\"mw-file-element\" data-file-height=\"307\" data-file-width=\"512\" decoding=\"async\" height=\"14\" src=\"//upload.wikimedia.org/wikipedia/commons/thumb/d/da/Flag_of_Luxembourg.svg/23px-Flag_of_Luxembourg.svg.png\" srcset=\"//upload.wikimedia.org/wikipedia/commons/thumb/d/da/Flag_of_Luxembourg.svg/35px-Flag_of_Luxembourg.svg.png 1.5x, //upload.wikimedia.org/wikipedia/commons/thumb/d/da/Flag_of_Luxembourg.svg/46px-Flag_of_Luxembourg.svg.png 2x\" width=\"23\"/>\\n      </span>\\n     </span>\\n    </span>\\n    <a href=\"/wiki/Luxembourg\" title=\"Luxembourg\">\\n     Luxembourg\\n    </a>\\n   </td>\\n   <td style=\"background:#e0ffd8;\">\\n    82.23\\n   </td>\\n   <td>\\n    0.81\\n   </td>\\n   <td style=\"background:#e0ffd8;\">\\n    68.03\\n   </td>\\n   <td>\\n    2.93\\n   </td>\\n   <td style=\"background:#e0ffd8;\">\\n    20.96\\n   </td>\\n   <td>\\n    3.67\\n   </td>\\n   <td style=\"background:#e0ffd8;\">\\n    9.63\\n   </td>\\n   <td style=\"background:#eaf3ff;border-left-width:2px;\">\\n    80.57\\n   </td>\\n   <td style=\"background:#eaf3ff;\">\\n    66.17\\n   </td>\\n   <td style=\"background:#eaf3ff;\">\\n    19.39\\n   </td>\\n   <td style=\"background:#eaf3ff;\">\\n    8.65\\n   </td>\\n   <td style=\"background:#fee7f6;border-left-width:2px;\">\\n    83.84\\n   </td>\\n   <td style=\"background:#fee7f6;\">\\n    69.86\\n   </td>\\n   <td style=\"background:#fee7f6;\">\\n    22.39\\n   </td>\\n   <td style=\"background:#fee7f6;\">\\n    10.33\\n   </td>\\n   <td style=\"border-left-width:2px;\">\\n    3.27\\n   </td>\\n   <td>\\n    3.68\\n   </td>\\n   <td>\\n    3.00\\n   </td>\\n   <td>\\n    1.68\\n   </td>\\n   <td style=\"border-left-width:2px;\">\\n    665\\n   </td>\\n   <td>\\n    <span class=\"flagicon\">\\n     <span class=\"mw-image-border\" typeof=\"mw:File\">\\n      <a href=\"/wiki/Luxembourg\" title=\"Luxembourg\">\\n       <img alt=\"Luxembourg\" class=\"mw-file-element\" data-file-height=\"307\" data-file-width=\"512\" decoding=\"async\" height=\"14\" src=\"//upload.wikimedia.org/wikipedia/commons/thumb/d/da/Flag_of_Luxembourg.svg/23px-Flag_of_Luxembourg.svg.png\" srcset=\"//upload.wikimedia.org/wikipedia/commons/thumb/d/da/Flag_of_Luxembourg.svg/35px-Flag_of_Luxembourg.svg.png 1.5x, //upload.wikimedia.org/wikipedia/commons/thumb/d/da/Flag_of_Luxembourg.svg/46px-Flag_of_Luxembourg.svg.png 2x\" width=\"23\"/>\\n      </a>\\n     </span>\\n    </span>\\n   </td>\\n  </tr>\\n  <tr>\\n   <td>\\n    <span class=\"flagicon\" style=\"display:inline-block;width:25px;\">\\n     <span class=\"mw-image-border\" typeof=\"mw:File\">\\n      <span>\\n       <img alt=\"\" class=\"mw-file-element\" data-file-height=\"600\" data-file-width=\"900\" decoding=\"async\" height=\"15\" src=\"//upload.wikimedia.org/wikipedia/commons/thumb/2/20/Flag_of_the_Netherlands.svg/23px-Flag_of_the_Netherlands.svg.png\" srcset=\"//upload.wikimedia.org/wikipedia/commons/thumb/2/20/Flag_of_the_Netherlands.svg/35px-Flag_of_the_Netherlands.svg.png 1.5x, //upload.wikimedia.org/wikipedia/commons/thumb/2/20/Flag_of_the_Netherlands.svg/45px-Flag_of_the_Netherlands.svg.png 2x\" width=\"23\"/>\\n      </span>\\n     </span>\\n    </span>\\n    <a href=\"/wiki/Netherlands\" title=\"Netherlands\">\\n     Netherlands\\n    </a>\\n   </td>\\n   <td style=\"background:#e0ffd8;\">\\n    82.16\\n   </td>\\n   <td>\\n    0.37\\n   </td>\\n   <td style=\"background:#e0ffd8;\">\\n    67.53\\n   </td>\\n   <td>\\n    2.58\\n   </td>\\n   <td style=\"background:#e0ffd8;\">\\n    20.11\\n   </td>\\n   <td>\\n    3.83\\n   </td>\\n   <td style=\"background:#e0ffd8;\">\\n    8.94\\n   </td>\\n   <td style=\"background:#eaf3ff;border-left-width:2px;\">\\n    80.54\\n   </td>\\n   <td style=\"background:#eaf3ff;\">\\n    65.93\\n   </td>\\n   <td style=\"background:#eaf3ff;\">\\n    18.82\\n   </td>\\n   <td style=\"background:#eaf3ff;\">\\n    8.05\\n   </td>\\n   <td style=\"background:#fee7f6;border-left-width:2px;\">\\n    83.74\\n   </td>\\n   <td style=\"background:#fee7f6;\">\\n    69.08\\n   </td>\\n   <td style=\"background:#fee7f6;\">\\n    21.30\\n   </td>\\n   <td style=\"background:#fee7f6;\">\\n    9.64\\n   </td>\\n   <td style=\"border-left-width:2px;\">\\n    3.20\\n   </td>\\n   <td>\\n    3.15\\n   </td>\\n   <td>\\n    2.48\\n   </td>\\n   <td>\\n    1.59\\n   </td>\\n   <td style=\"border-left-width:2px;\">\\n    18093\\n   </td>\\n   <td>\\n    <span class=\"flagicon\">\\n     <span class=\"mw-image-border\" typeof=\"mw:File\">\\n      <a href=\"/wiki/Netherlands\" title=\"Netherlands\">\\n       <img alt=\"Netherlands\" class=\"mw-file-element\" data-file-height=\"600\" data-file-width=\"900\" decoding=\"async\" height=\"15\" src=\"//upload.wikimedia.org/wikipedia/commons/thumb/2/20/Flag_of_the_Netherlands.svg/23px-Flag_of_the_Netherlands.svg.png\" srcset=\"//upload.wikimedia.org/wikipedia/commons/thumb/2/20/Flag_of_the_Netherlands.svg/35px-Flag_of_the_Netherlands.svg.png 1.5x, //upload.wikimedia.org/wikipedia/commons/thumb/2/20/Flag_of_the_Netherlands.svg/45px-Flag_of_the_Netherlands.svg.png 2x\" width=\"23\"/>\\n      </a>\\n     </span>\\n    </span>\\n   </td>\\n  </tr>\\n  <tr>\\n   <td>\\n    <span class=\"flagicon\" style=\"display:inline-block;width:25px;\">\\n     <span class=\"mw-image-border\" typeof=\"mw:File\">\\n      <span>\\n       <img alt=\"\" class=\"mw-file-element\" data-file-height=\"600\" data-file-width=\"900\" decoding=\"async\" height=\"15\" src=\"//upload.wikimedia.org/wikipedia/commons/thumb/9/92/Flag_of_Belgium_%28civil%29.svg/23px-Flag_of_Belgium_%28civil%29.svg.png\" srcset=\"//upload.wikimedia.org/wikipedia/commons/thumb/9/92/Flag_of_Belgium_%28civil%29.svg/35px-Flag_of_Belgium_%28civil%29.svg.png 1.5x, //upload.wikimedia.org/wikipedia/commons/thumb/9/92/Flag_of_Belgium_%28civil%29.svg/45px-Flag_of_Belgium_%28civil%29.svg.png 2x\" width=\"23\"/>\\n      </span>\\n     </span>\\n    </span>\\n    <a href=\"/wiki/Belgium\" title=\"Belgium\">\\n     Belgium\\n    </a>\\n   </td>\\n   <td style=\"background:#e0ffd8;\">\\n    82.11\\n   </td>\\n   <td>\\n    0.37\\n   </td>\\n   <td style=\"background:#e0ffd8;\">\\n    67.48\\n   </td>\\n   <td>\\n    3.01\\n   </td>\\n   <td style=\"background:#e0ffd8;\">\\n    20.50\\n   </td>\\n   <td>\\n    4.15\\n   </td>\\n   <td style=\"background:#e0ffd8;\">\\n    9.65\\n   </td>\\n   <td style=\"background:#eaf3ff;border-left-width:2px;\">\\n    79.86\\n   </td>\\n   <td style=\"background:#eaf3ff;\">\\n    65.25\\n   </td>\\n   <td style=\"background:#eaf3ff;\">\\n    18.83\\n   </td>\\n   <td style=\"background:#eaf3ff;\">\\n    8.66\\n   </td>\\n   <td style=\"background:#fee7f6;border-left-width:2px;\">\\n    84.33\\n   </td>\\n   <td style=\"background:#fee7f6;\">\\n    69.67\\n   </td>\\n   <td style=\"background:#fee7f6;\">\\n    22.01\\n   </td>\\n   <td style=\"background:#fee7f6;\">\\n    10.37\\n   </td>\\n   <td style=\"border-left-width:2px;\">\\n    4.47\\n   </td>\\n   <td>\\n    4.41\\n   </td>\\n   <td>\\n    3.19\\n   </td>\\n   <td>\\n    1.71\\n   </td>\\n   <td style=\"border-left-width:2px;\">\\n    11713\\n   </td>\\n   <td>\\n    <span class=\"flagicon\">\\n     <span class=\"mw-image-border\" typeof=\"mw:File\">\\n      <a href=\"/wiki/Belgium\" title=\"Belgium\">\\n       <img alt=\"Belgium\" class=\"mw-file-element\" data-file-height=\"600\" data-file-width=\"900\" decoding=\"async\" height=\"15\" src=\"//upload.wikimedia.org/wikipedia/commons/thumb/9/92/Flag_of_Belgium_%28civil%29.svg/23px-Flag_of_Belgium_%28civil%29.svg.png\" srcset=\"//upload.wikimedia.org/wikipedia/commons/thumb/9/92/Flag_of_Belgium_%28civil%29.svg/35px-Flag_of_Belgium_%28civil%29.svg.png 1.5x, //upload.wikimedia.org/wikipedia/commons/thumb/9/92/Flag_of_Belgium_%28civil%29.svg/45px-Flag_of_Belgium_%28civil%29.svg.png 2x\" width=\"23\"/>\\n      </a>\\n     </span>\\n    </span>\\n   </td>\\n  </tr>\\n  <tr>\\n   <td>\\n    <span class=\"flagicon\" style=\"display:inline-block;width:25px;\">\\n     <span class=\"mw-image-border\" typeof=\"mw:File\">\\n      <span>\\n       <img alt=\"\" class=\"mw-file-element\" data-file-height=\"600\" data-file-width=\"900\" decoding=\"async\" height=\"15\" src=\"//upload.wikimedia.org/wikipedia/commons/thumb/4/41/Flag_of_Austria.svg/23px-Flag_of_Austria.svg.png\" srcset=\"//upload.wikimedia.org/wikipedia/commons/thumb/4/41/Flag_of_Austria.svg/35px-Flag_of_Austria.svg.png 1.5x, //upload.wikimedia.org/wikipedia/commons/thumb/4/41/Flag_of_Austria.svg/45px-Flag_of_Austria.svg.png 2x\" width=\"23\"/>\\n      </span>\\n     </span>\\n    </span>\\n    <a href=\"/wiki/Austria\" title=\"Austria\">\\n     Austria\\n    </a>\\n   </td>\\n   <td style=\"background:#e0ffd8;\">\\n    81.96\\n   </td>\\n   <td>\\n    0.34\\n   </td>\\n   <td style=\"background:#e0ffd8;\">\\n    67.29\\n   </td>\\n   <td>\\n    2.83\\n   </td>\\n   <td style=\"background:#e0ffd8;\">\\n    20.12\\n   </td>\\n   <td>\\n    4.17\\n   </td>\\n   <td style=\"background:#e0ffd8;\">\\n    9.29\\n   </td>\\n   <td style=\"background:#eaf3ff;border-left-width:2px;\">\\n    79.54\\n   </td>\\n   <td style=\"background:#eaf3ff;\">\\n    64.91\\n   </td>\\n   <td style=\"background:#eaf3ff;\">\\n    18.45\\n   </td>\\n   <td style=\"background:#eaf3ff;\">\\n    8.34\\n   </td>\\n   <td style=\"background:#fee7f6;border-left-width:2px;\">\\n    84.32\\n   </td>\\n   <td style=\"background:#fee7f6;\">\\n    69.62\\n   </td>\\n   <td style=\"background:#fee7f6;\">\\n    21.61\\n   </td>\\n   <td style=\"background:#fee7f6;\">\\n    9.98\\n   </td>\\n   <td style=\"border-left-width:2px;\">\\n    4.78\\n   </td>\\n   <td>\\n    4.71\\n   </td>\\n   <td>\\n    3.16\\n   </td>\\n   <td>\\n    1.64\\n   </td>\\n   <td style=\"border-left-width:2px;\">\\n    9130\\n   </td>\\n   <td>\\n    <span class=\"flagicon\">\\n     <span class=\"mw-image-border\" typeof=\"mw:File\">\\n      <a href=\"/wiki/Austria\" title=\"Austria\">\\n       <img alt=\"Austria\" class=\"mw-file-element\" data-file-height=\"600\" data-file-width=\"900\" decoding=\"async\" height=\"15\" src=\"//upload.wikimedia.org/wikipedia/commons/thumb/4/41/Flag_of_Austria.svg/23px-Flag_of_Austria.svg.png\" srcset=\"//upload.wikimedia.org/wikipedia/commons/thumb/4/41/Flag_of_Austria.svg/35px-Flag_of_Austria.svg.png 1.5x, //upload.wikimedia.org/wikipedia/commons/thumb/4/41/Flag_of_Austria.svg/45px-Flag_of_Austria.svg.png 2x\" width=\"23\"/>\\n      </a>\\n     </span>\\n    </span>\\n   </td>\\n  </tr>\\n  <tr>\\n   <td>\\n    <span class=\"flagicon\" style=\"display:inline-block;width:25px;\">\\n     <span class=\"mw-image-border\" typeof=\"mw:File\">\\n      <span>\\n       <img alt=\"\" class=\"mw-file-element\" data-file-height=\"387\" data-file-width=\"512\" decoding=\"async\" height=\"15\" src=\"//upload.wikimedia.org/wikipedia/commons/thumb/9/9c/Flag_of_Denmark.svg/20px-Flag_of_Denmark.svg.png\" srcset=\"//upload.wikimedia.org/wikipedia/commons/thumb/9/9c/Flag_of_Denmark.svg/31px-Flag_of_Denmark.svg.png 1.5x, //upload.wikimedia.org/wikipedia/commons/thumb/9/9c/Flag_of_Denmark.svg/40px-Flag_of_Denmark.svg.png 2x\" width=\"20\"/>\\n      </span>\\n     </span>\\n    </span>\\n    <a href=\"/wiki/Denmark\" title=\"Denmark\">\\n     Denmark\\n    </a>\\n   </td>\\n   <td style=\"background:#e0ffd8;\">\\n    81.93\\n   </td>\\n   <td>\\n    0.33\\n   </td>\\n   <td style=\"background:#e0ffd8;\">\\n    67.26\\n   </td>\\n   <td>\\n    2.59\\n   </td>\\n   <td style=\"background:#e0ffd8;\">\\n    19.85\\n   </td>\\n   <td>\\n    4.20\\n   </td>\\n   <td style=\"background:#e0ffd8;\">\\n    9.06\\n   </td>\\n   <td style=\"background:#eaf3ff;border-left-width:2px;\">\\n    80.02\\n   </td>\\n   <td style=\"background:#eaf3ff;\">\\n    65.36\\n   </td>\\n   <td style=\"background:#eaf3ff;\">\\n    18.39\\n   </td>\\n   <td style=\"background:#eaf3ff;\">\\n    8.13\\n   </td>\\n   <td style=\"background:#fee7f6;border-left-width:2px;\">\\n    83.86\\n   </td>\\n   <td style=\"background:#fee7f6;\">\\n    69.17\\n   </td>\\n   <td style=\"background:#fee7f6;\">\\n    21.25\\n   </td>\\n   <td style=\"background:#fee7f6;\">\\n    9.80\\n   </td>\\n   <td style=\"border-left-width:2px;\">\\n    3.84\\n   </td>\\n   <td>\\n    3.80\\n   </td>\\n   <td>\\n    2.85\\n   </td>\\n   <td>\\n    1.68\\n   </td>\\n   <td style=\"border-left-width:2px;\">\\n    5948\\n   </td>\\n   <td>\\n    <span class=\"flagicon\">\\n     <span class=\"mw-image-border\" typeof=\"mw:File\">\\n      <a href=\"/wiki/Denmark\" title=\"Denmark\">\\n       <img alt=\"Denmark\" class=\"mw-file-element\" data-file-height=\"387\" data-file-width=\"512\" decoding=\"async\" height=\"15\" src=\"//upload.wikimedia.org/wikipedia/commons/thumb/9/9c/Flag_of_Denmark.svg/20px-Flag_of_Denmark.svg.png\" srcset=\"//upload.wikimedia.org/wikipedia/commons/thumb/9/9c/Flag_of_Denmark.svg/31px-Flag_of_Denmark.svg.png 1.5x, //upload.wikimedia.org/wikipedia/commons/thumb/9/9c/Flag_of_Denmark.svg/40px-Flag_of_Denmark.svg.png 2x\" width=\"20\"/>\\n      </a>\\n     </span>\\n    </span>\\n   </td>\\n  </tr>\\n  <tr>\\n   <td>\\n    <span class=\"flagicon\" style=\"display:inline-block;width:25px;\">\\n     <span class=\"mw-image-border\" typeof=\"mw:File\">\\n      <span>\\n       <img alt=\"\" class=\"mw-file-element\" data-file-height=\"1100\" data-file-width=\"1800\" decoding=\"async\" height=\"14\" src=\"//upload.wikimedia.org/wikipedia/commons/thumb/b/bc/Flag_of_Finland.svg/23px-Flag_of_Finland.svg.png\" srcset=\"//upload.wikimedia.org/wikipedia/commons/thumb/b/bc/Flag_of_Finland.svg/35px-Flag_of_Finland.svg.png 1.5x, //upload.wikimedia.org/wikipedia/commons/thumb/b/bc/Flag_of_Finland.svg/46px-Flag_of_Finland.svg.png 2x\" width=\"23\"/>\\n      </span>\\n     </span>\\n    </span>\\n    <a href=\"/wiki/Finland\" title=\"Finland\">\\n     Finland\\n    </a>\\n   </td>\\n   <td style=\"background:#e0ffd8;\">\\n    81.91\\n   </td>\\n   <td>\\n    0.28\\n   </td>\\n   <td style=\"background:#e0ffd8;\">\\n    67.19\\n   </td>\\n   <td>\\n    3.13\\n   </td>\\n   <td style=\"background:#e0ffd8;\">\\n    20.32\\n   </td>\\n   <td>\\n    3.92\\n   </td>\\n   <td style=\"background:#e0ffd8;\">\\n    9.24\\n   </td>\\n   <td style=\"background:#eaf3ff;border-left-width:2px;\">\\n    79.17\\n   </td>\\n   <td style=\"background:#eaf3ff;\">\\n    64.45\\n   </td>\\n   <td style=\"background:#eaf3ff;\">\\n    18.36\\n   </td>\\n   <td style=\"background:#eaf3ff;\">\\n    8.07\\n   </td>\\n   <td style=\"background:#fee7f6;border-left-width:2px;\">\\n    84.67\\n   </td>\\n   <td style=\"background:#fee7f6;\">\\n    69.93\\n   </td>\\n   <td style=\"background:#fee7f6;\">\\n    22.11\\n   </td>\\n   <td style=\"background:#fee7f6;\">\\n    10.09\\n   </td>\\n   <td style=\"border-left-width:2px;\">\\n    5.50\\n   </td>\\n   <td>\\n    5.48\\n   </td>\\n   <td>\\n    3.75\\n   </td>\\n   <td>\\n    2.02\\n   </td>\\n   <td style=\"border-left-width:2px;\">\\n    5601\\n   </td>\\n   <td>\\n    <span class=\"flagicon\">\\n     <span class=\"mw-image-border\" typeof=\"mw:File\">\\n      <a href=\"/wiki/Finland\" title=\"Finland\">\\n       <img alt=\"Finland\" class=\"mw-file-element\" data-file-height=\"1100\" data-file-width=\"1800\" decoding=\"async\" height=\"14\" src=\"//upload.wikimedia.org/wikipedia/commons/thumb/b/bc/Flag_of_Finland.svg/23px-Flag_of_Finland.svg.png\" srcset=\"//upload.wikimedia.org/wikipedia/commons/thumb/b/bc/Flag_of_Finland.svg/35px-Flag_of_Finland.svg.png 1.5x, //upload.wikimedia.org/wikipedia/commons/thumb/b/bc/Flag_of_Finland.svg/46px-Flag_of_Finland.svg.png 2x\" width=\"23\"/>\\n      </a>\\n     </span>\\n    </span>\\n   </td>\\n  </tr>\\n  <tr>\\n   <td>\\n    <span class=\"flagicon\" style=\"display:inline-block;width:25px;\">\\n     <span class=\"mw-image-border\" typeof=\"mw:File\">\\n      <span>\\n       <img alt=\"\" class=\"mw-file-element\" data-file-height=\"400\" data-file-width=\"600\" decoding=\"async\" height=\"15\" src=\"//upload.wikimedia.org/wikipedia/commons/thumb/5/5c/Flag_of_Greece.svg/23px-Flag_of_Greece.svg.png\" srcset=\"//upload.wikimedia.org/wikipedia/commons/thumb/5/5c/Flag_of_Greece.svg/35px-Flag_of_Greece.svg.png 1.5x, //upload.wikimedia.org/wikipedia/commons/thumb/5/5c/Flag_of_Greece.svg/45px-Flag_of_Greece.svg.png 2x\" width=\"23\"/>\\n      </span>\\n     </span>\\n    </span>\\n    <a href=\"/wiki/Greece\" title=\"Greece\">\\n     Greece\\n    </a>\\n   </td>\\n   <td style=\"background:#e0ffd8;\">\\n    81.86\\n   </td>\\n   <td>\\n    0.35\\n   </td>\\n   <td style=\"background:#e0ffd8;\">\\n    67.20\\n   </td>\\n   <td>\\n    2.71\\n   </td>\\n   <td style=\"background:#e0ffd8;\">\\n    19.92\\n   </td>\\n   <td>\\n    4.62\\n   </td>\\n   <td style=\"background:#e0ffd8;\">\\n    9.53\\n   </td>\\n   <td style=\"background:#eaf3ff;border-left-width:2px;\">\\n    79.29\\n   </td>\\n   <td style=\"background:#eaf3ff;\">\\n    64.65\\n   </td>\\n   <td style=\"background:#eaf3ff;\">\\n    18.24\\n   </td>\\n   <td style=\"background:#eaf3ff;\">\\n    8.64\\n   </td>\\n   <td style=\"background:#fee7f6;border-left-width:2px;\">\\n    84.33\\n   </td>\\n   <td style=\"background:#fee7f6;\">\\n    69.66\\n   </td>\\n   <td style=\"background:#fee7f6;\">\\n    21.41\\n   </td>\\n   <td style=\"background:#fee7f6;\">\\n    10.19\\n   </td>\\n   <td style=\"border-left-width:2px;\">\\n    5.04\\n   </td>\\n   <td>\\n    5.00\\n   </td>\\n   <td>\\n    3.16\\n   </td>\\n   <td>\\n    1.55\\n   </td>\\n   <td style=\"border-left-width:2px;\">\\n    10243\\n   </td>\\n   <td>\\n    <span class=\"flagicon\">\\n     <span class=\"mw-image-border\" typeof=\"mw:File\">\\n      <a href=\"/wiki/Greece\" title=\"Greece\">\\n       <img alt=\"Greece\" class=\"mw-file-element\" data-file-height=\"400\" data-file-width=\"600\" decoding=\"async\" height=\"15\" src=\"//upload.wikimedia.org/wikipedia/commons/thumb/5/5c/Flag_of_Greece.svg/23px-Flag_of_Greece.svg.png\" srcset=\"//upload.wikimedia.org/wikipedia/commons/thumb/5/5c/Flag_of_Greece.svg/35px-Flag_of_Greece.svg.png 1.5x, //upload.wikimedia.org/wikipedia/commons/thumb/5/5c/Flag_of_Greece.svg/45px-Flag_of_Greece.svg.png 2x\" width=\"23\"/>\\n      </a>\\n     </span>\\n    </span>\\n   </td>\\n  </tr>\\n  <tr>\\n   <td>\\n    <span class=\"flagicon\" style=\"display:inline-block;width:25px;\">\\n     <span class=\"mw-image-border\" typeof=\"mw:File\">\\n      <span>\\n       <img alt=\"\" class=\"mw-file-element\" data-file-height=\"800\" data-file-width=\"1200\" decoding=\"async\" height=\"15\" src=\"//upload.wikimedia.org/wikipedia/commons/thumb/d/d4/Flag_of_Cyprus.svg/23px-Flag_of_Cyprus.svg.png\" srcset=\"//upload.wikimedia.org/wikipedia/commons/thumb/d/d4/Flag_of_Cyprus.svg/35px-Flag_of_Cyprus.svg.png 1.5x, //upload.wikimedia.org/wikipedia/commons/thumb/d/d4/Flag_of_Cyprus.svg/45px-Flag_of_Cyprus.svg.png 2x\" width=\"23\"/>\\n      </span>\\n     </span>\\n    </span>\\n    <a href=\"/wiki/Cyprus\" title=\"Cyprus\">\\n     Cyprus\\n    </a>\\n   </td>\\n   <td style=\"background:#e0ffd8;\">\\n    81.65\\n   </td>\\n   <td>\\n    0.33\\n   </td>\\n   <td style=\"background:#e0ffd8;\">\\n    66.97\\n   </td>\\n   <td>\\n    2.16\\n   </td>\\n   <td style=\"background:#e0ffd8;\">\\n    19.14\\n   </td>\\n   <td>\\n    4.48\\n   </td>\\n   <td style=\"background:#e0ffd8;\">\\n    8.62\\n   </td>\\n   <td style=\"background:#eaf3ff;border-left-width:2px;\">\\n    79.64\\n   </td>\\n   <td style=\"background:#eaf3ff;\">\\n    64.98\\n   </td>\\n   <td style=\"background:#eaf3ff;\">\\n    17.64\\n   </td>\\n   <td style=\"background:#eaf3ff;\">\\n    7.76\\n   </td>\\n   <td style=\"background:#fee7f6;border-left-width:2px;\">\\n    83.67\\n   </td>\\n   <td style=\"background:#fee7f6;\">\\n    68.97\\n   </td>\\n   <td style=\"background:#fee7f6;\">\\n    20.57\\n   </td>\\n   <td style=\"background:#fee7f6;\">\\n    9.28\\n   </td>\\n   <td style=\"border-left-width:2px;\">\\n    4.03\\n   </td>\\n   <td>\\n    3.99\\n   </td>\\n   <td>\\n    2.93\\n   </td>\\n   <td>\\n    1.51\\n   </td>\\n   <td style=\"border-left-width:2px;\">\\n    1345\\n   </td>\\n   <td>\\n    <span class=\"flagicon\">\\n     <span class=\"mw-image-border\" typeof=\"mw:File\">\\n      <a href=\"/wiki/Cyprus\" title=\"Cyprus\">\\n       <img alt=\"Cyprus\" class=\"mw-file-element\" data-file-height=\"800\" data-file-width=\"1200\" decoding=\"async\" height=\"15\" src=\"//upload.wikimedia.org/wikipedia/commons/thumb/d/d4/Flag_of_Cyprus.svg/23px-Flag_of_Cyprus.svg.png\" srcset=\"//upload.wikimedia.org/wikipedia/commons/thumb/d/d4/Flag_of_Cyprus.svg/35px-Flag_of_Cyprus.svg.png 1.5x, //upload.wikimedia.org/wikipedia/commons/thumb/d/d4/Flag_of_Cyprus.svg/45px-Flag_of_Cyprus.svg.png 2x\" width=\"23\"/>\\n      </a>\\n     </span>\\n    </span>\\n   </td>\\n  </tr>\\n  <tr>\\n   <td>\\n    <span class=\"flagicon\" style=\"display:inline-block;width:25px;\">\\n     <span class=\"mw-image-border\" typeof=\"mw:File\">\\n      <span>\\n       <img alt=\"\" class=\"mw-file-element\" data-file-height=\"600\" data-file-width=\"1200\" decoding=\"async\" height=\"12\" src=\"//upload.wikimedia.org/wikipedia/commons/thumb/f/f0/Flag_of_Slovenia.svg/23px-Flag_of_Slovenia.svg.png\" srcset=\"//upload.wikimedia.org/wikipedia/commons/thumb/f/f0/Flag_of_Slovenia.svg/35px-Flag_of_Slovenia.svg.png 1.5x, //upload.wikimedia.org/wikipedia/commons/thumb/f/f0/Flag_of_Slovenia.svg/46px-Flag_of_Slovenia.svg.png 2x\" width=\"23\"/>\\n      </span>\\n     </span>\\n    </span>\\n    <a href=\"/wiki/Slovenia\" title=\"Slovenia\">\\n     Slovenia\\n    </a>\\n   </td>\\n   <td style=\"background:#e0ffd8;\">\\n    81.60\\n   </td>\\n   <td>\\n    0.24\\n   </td>\\n   <td style=\"background:#e0ffd8;\">\\n    66.85\\n   </td>\\n   <td>\\n    2.93\\n   </td>\\n   <td style=\"background:#e0ffd8;\">\\n    19.78\\n   </td>\\n   <td>\\n    4.43\\n   </td>\\n   <td style=\"background:#e0ffd8;\">\\n    9.21\\n   </td>\\n   <td style=\"background:#eaf3ff;border-left-width:2px;\">\\n    78.90\\n   </td>\\n   <td style=\"background:#eaf3ff;\">\\n    64.17\\n   </td>\\n   <td style=\"background:#eaf3ff;\">\\n    17.87\\n   </td>\\n   <td style=\"background:#eaf3ff;\">\\n    8.18\\n   </td>\\n   <td style=\"background:#fee7f6;border-left-width:2px;\">\\n    84.34\\n   </td>\\n   <td style=\"background:#fee7f6;\">\\n    69.54\\n   </td>\\n   <td style=\"background:#fee7f6;\">\\n    21.47\\n   </td>\\n   <td style=\"background:#fee7f6;\">\\n    9.86\\n   </td>\\n   <td style=\"border-left-width:2px;\">\\n    5.44\\n   </td>\\n   <td>\\n    5.37\\n   </td>\\n   <td>\\n    3.59\\n   </td>\\n   <td>\\n    1.67\\n   </td>\\n   <td style=\"border-left-width:2px;\">\\n    2118\\n   </td>\\n   <td>\\n    <span class=\"flagicon\">\\n     <span class=\"mw-image-border\" typeof=\"mw:File\">\\n      <a href=\"/wiki/Slovenia\" title=\"Slovenia\">\\n       <img alt=\"Slovenia\" class=\"mw-file-element\" data-file-height=\"600\" data-file-width=\"1200\" decoding=\"async\" height=\"12\" src=\"//upload.wikimedia.org/wikipedia/commons/thumb/f/f0/Flag_of_Slovenia.svg/23px-Flag_of_Slovenia.svg.png\" srcset=\"//upload.wikimedia.org/wikipedia/commons/thumb/f/f0/Flag_of_Slovenia.svg/35px-Flag_of_Slovenia.svg.png 1.5x, //upload.wikimedia.org/wikipedia/commons/thumb/f/f0/Flag_of_Slovenia.svg/46px-Flag_of_Slovenia.svg.png 2x\" width=\"23\"/>\\n      </a>\\n     </span>\\n    </span>\\n   </td>\\n  </tr>\\n  <tr>\\n   <td>\\n    <span class=\"flagicon\" style=\"display:inline-block;width:25px;\">\\n     <span class=\"mw-image-border\" typeof=\"mw:File\">\\n      <span>\\n       <img alt=\"\" class=\"mw-file-element\" data-file-height=\"600\" data-file-width=\"1000\" decoding=\"async\" height=\"14\" src=\"//upload.wikimedia.org/wikipedia/en/thumb/b/ba/Flag_of_Germany.svg/23px-Flag_of_Germany.svg.png\" srcset=\"//upload.wikimedia.org/wikipedia/en/thumb/b/ba/Flag_of_Germany.svg/35px-Flag_of_Germany.svg.png 1.5x, //upload.wikimedia.org/wikipedia/en/thumb/b/ba/Flag_of_Germany.svg/46px-Flag_of_Germany.svg.png 2x\" width=\"23\"/>\\n      </span>\\n     </span>\\n    </span>\\n    <a href=\"/wiki/Germany\" title=\"Germany\">\\n     Germany\\n    </a>\\n   </td>\\n   <td style=\"background:#e0ffd8;\">\\n    81.38\\n   </td>\\n   <td>\\n    0.34\\n   </td>\\n   <td style=\"background:#e0ffd8;\">\\n    66.72\\n   </td>\\n   <td>\\n    3.10\\n   </td>\\n   <td style=\"background:#e0ffd8;\">\\n    19.82\\n   </td>\\n   <td>\\n    4.24\\n   </td>\\n   <td style=\"background:#e0ffd8;\">\\n    9.06\\n   </td>\\n   <td style=\"background:#eaf3ff;border-left-width:2px;\">\\n    79.02\\n   </td>\\n   <td style=\"background:#eaf3ff;\">\\n    64.38\\n   </td>\\n   <td style=\"background:#eaf3ff;\">\\n    18.18\\n   </td>\\n   <td style=\"background:#eaf3ff;\">\\n    8.24\\n   </td>\\n   <td style=\"background:#fee7f6;border-left-width:2px;\">\\n    83.76\\n   </td>\\n   <td style=\"background:#fee7f6;\">\\n    69.07\\n   </td>\\n   <td style=\"background:#fee7f6;\">\\n    21.33\\n   </td>\\n   <td style=\"background:#fee7f6;\">\\n    9.66\\n   </td>\\n   <td style=\"border-left-width:2px;\">\\n    4.74\\n   </td>\\n   <td>\\n    4.69\\n   </td>\\n   <td>\\n    3.16\\n   </td>\\n   <td>\\n    1.42\\n   </td>\\n   <td style=\"border-left-width:2px;\">\\n    84548\\n   </td>\\n   <td>\\n    <span class=\"flagicon\">\\n     <span class=\"mw-image-border\" typeof=\"mw:File\">\\n      <a href=\"/wiki/Germany\" title=\"Germany\">\\n       <img alt=\"Germany\" class=\"mw-file-element\" data-file-height=\"600\" data-file-width=\"1000\" decoding=\"async\" height=\"14\" src=\"//upload.wikimedia.org/wikipedia/en/thumb/b/ba/Flag_of_Germany.svg/23px-Flag_of_Germany.svg.png\" srcset=\"//upload.wikimedia.org/wikipedia/en/thumb/b/ba/Flag_of_Germany.svg/35px-Flag_of_Germany.svg.png 1.5x, //upload.wikimedia.org/wikipedia/en/thumb/b/ba/Flag_of_Germany.svg/46px-Flag_of_Germany.svg.png 2x\" width=\"23\"/>\\n      </a>\\n     </span>\\n    </span>\\n   </td>\\n  </tr>\\n  <tr>\\n   <td>\\n    <span class=\"flagicon\" style=\"display:inline-block;width:25px;\">\\n     <span class=\"mw-image-border\" typeof=\"mw:File\">\\n      <span>\\n       <img alt=\"\" class=\"mw-file-element\" data-file-height=\"600\" data-file-width=\"1200\" decoding=\"async\" height=\"12\" src=\"//upload.wikimedia.org/wikipedia/en/thumb/a/ae/Flag_of_the_United_Kingdom.svg/23px-Flag_of_the_United_Kingdom.svg.png\" srcset=\"//upload.wikimedia.org/wikipedia/en/thumb/a/ae/Flag_of_the_United_Kingdom.svg/35px-Flag_of_the_United_Kingdom.svg.png 1.5x, //upload.wikimedia.org/wikipedia/en/thumb/a/ae/Flag_of_the_United_Kingdom.svg/46px-Flag_of_the_United_Kingdom.svg.png 2x\" width=\"23\"/>\\n      </span>\\n     </span>\\n    </span>\\n    <a href=\"/wiki/United_Kingdom\" title=\"United Kingdom\">\\n     United Kingdom\\n    </a>\\n   </td>\\n   <td style=\"background:#e0ffd8;\">\\n    81.30\\n   </td>\\n   <td>\\n    0.40\\n   </td>\\n   <td style=\"background:#e0ffd8;\">\\n    66.70\\n   </td>\\n   <td>\\n    3.50\\n   </td>\\n   <td style=\"background:#e0ffd8;\">\\n    20.19\\n   </td>\\n   <td>\\n    4.11\\n   </td>\\n   <td style=\"background:#e0ffd8;\">\\n    9.30\\n   </td>\\n   <td style=\"background:#eaf3ff;border-left-width:2px;\">\\n    79.36\\n   </td>\\n   <td style=\"background:#eaf3ff;\">\\n    64.79\\n   </td>\\n   <td style=\"background:#eaf3ff;\">\\n    18.95\\n   </td>\\n   <td style=\"background:#eaf3ff;\">\\n    8.58\\n   </td>\\n   <td style=\"background:#fee7f6;border-left-width:2px;\">\\n    83.21\\n   </td>\\n   <td style=\"background:#fee7f6;\">\\n    68.57\\n   </td>\\n   <td style=\"background:#fee7f6;\">\\n    21.34\\n   </td>\\n   <td style=\"background:#fee7f6;\">\\n    9.88\\n   </td>\\n   <td style=\"border-left-width:2px;\">\\n    3.85\\n   </td>\\n   <td>\\n    3.78\\n   </td>\\n   <td>\\n    2.40\\n   </td>\\n   <td>\\n    1.30\\n   </td>\\n   <td style=\"border-left-width:2px;\">\\n    68683\\n   </td>\\n   <td>\\n    <span class=\"flagicon\">\\n     <span class=\"mw-image-border\" typeof=\"mw:File\">\\n      <a href=\"/wiki/United_Kingdom\" title=\"United Kingdom\">\\n       <img alt=\"United Kingdom\" class=\"mw-file-element\" data-file-height=\"600\" data-file-width=\"1200\" decoding=\"async\" height=\"12\" src=\"//upload.wikimedia.org/wikipedia/en/thumb/a/ae/Flag_of_the_United_Kingdom.svg/23px-Flag_of_the_United_Kingdom.svg.png\" srcset=\"//upload.wikimedia.org/wikipedia/en/thumb/a/ae/Flag_of_the_United_Kingdom.svg/35px-Flag_of_the_United_Kingdom.svg.png 1.5x, //upload.wikimedia.org/wikipedia/en/thumb/a/ae/Flag_of_the_United_Kingdom.svg/46px-Flag_of_the_United_Kingdom.svg.png 2x\" width=\"23\"/>\\n      </a>\\n     </span>\\n    </span>\\n   </td>\\n  </tr>\\n  <tr>\\n   <td>\\n    <span class=\"flagicon\" style=\"display:inline-block;width:25px;\">\\n     <span class=\"mw-image-border\" typeof=\"mw:File\">\\n      <span>\\n       <img alt=\"\" class=\"mw-file-element\" data-file-height=\"300\" data-file-width=\"600\" decoding=\"async\" height=\"12\" src=\"//upload.wikimedia.org/wikipedia/commons/thumb/b/bc/Flag_of_the_Isle_of_Man.svg/23px-Flag_of_the_Isle_of_Man.svg.png\" srcset=\"//upload.wikimedia.org/wikipedia/commons/thumb/b/bc/Flag_of_the_Isle_of_Man.svg/35px-Flag_of_the_Isle_of_Man.svg.png 1.5x, //upload.wikimedia.org/wikipedia/commons/thumb/b/bc/Flag_of_the_Isle_of_Man.svg/46px-Flag_of_the_Isle_of_Man.svg.png 2x\" width=\"23\"/>\\n      </span>\\n     </span>\\n    </span>\\n    <a href=\"/wiki/Isle_of_Man\" title=\"Isle of Man\">\\n     Isle of Man\\n    </a>\\n   </td>\\n   <td style=\"background:#e0ffd8;\">\\n    81.00\\n   </td>\\n   <td>\\n    1.31\\n   </td>\\n   <td style=\"background:#e0ffd8;\">\\n    67.31\\n   </td>\\n   <td>\\n    3.25\\n   </td>\\n   <td style=\"background:#e0ffd8;\">\\n    20.56\\n   </td>\\n   <td>\\n    4.21\\n   </td>\\n   <td style=\"background:#e0ffd8;\">\\n    9.78\\n   </td>\\n   <td style=\"background:#eaf3ff;border-left-width:2px;\">\\n    78.93\\n   </td>\\n   <td style=\"background:#eaf3ff;\">\\n    65.29\\n   </td>\\n   <td style=\"background:#eaf3ff;\">\\n    19.16\\n   </td>\\n   <td style=\"background:#eaf3ff;\">\\n    8.84\\n   </td>\\n   <td style=\"background:#fee7f6;border-left-width:2px;\">\\n    83.13\\n   </td>\\n   <td style=\"background:#fee7f6;\">\\n    69.38\\n   </td>\\n   <td style=\"background:#fee7f6;\">\\n    21.93\\n   </td>\\n   <td style=\"background:#fee7f6;\">\\n    10.55\\n   </td>\\n   <td style=\"border-left-width:2px;\">\\n    4.21\\n   </td>\\n   <td>\\n    4.08\\n   </td>\\n   <td>\\n    2.77\\n   </td>\\n   <td>\\n    1.71\\n   </td>\\n   <td style=\"border-left-width:2px;\">\\n    84\\n   </td>\\n   <td>\\n    <span class=\"flagicon\">\\n     <span class=\"mw-image-border\" typeof=\"mw:File\">\\n      <a href=\"/wiki/Isle_of_Man\" title=\"Isle of Man\">\\n       <img alt=\"Isle of Man\" class=\"mw-file-element\" data-file-height=\"300\" data-file-width=\"600\" decoding=\"async\" height=\"12\" src=\"//upload.wikimedia.org/wikipedia/commons/thumb/b/bc/Flag_of_the_Isle_of_Man.svg/23px-Flag_of_the_Isle_of_Man.svg.png\" srcset=\"//upload.wikimedia.org/wikipedia/commons/thumb/b/bc/Flag_of_the_Isle_of_Man.svg/35px-Flag_of_the_Isle_of_Man.svg.png 1.5x, //upload.wikimedia.org/wikipedia/commons/thumb/b/bc/Flag_of_the_Isle_of_Man.svg/46px-Flag_of_the_Isle_of_Man.svg.png 2x\" width=\"23\"/>\\n      </a>\\n     </span>\\n    </span>\\n   </td>\\n  </tr>\\n  <tr>\\n   <td>\\n    <span class=\"flagicon\" style=\"display:inline-block;width:25px;\">\\n     <span class=\"mw-image-border\" typeof=\"mw:File\">\\n      <span>\\n       <img alt=\"\" class=\"mw-file-element\" data-file-height=\"800\" data-file-width=\"1100\" decoding=\"async\" height=\"15\" src=\"//upload.wikimedia.org/wikipedia/commons/thumb/3/3c/Flag_of_the_Faroe_Islands.svg/21px-Flag_of_the_Faroe_Islands.svg.png\" srcset=\"//upload.wikimedia.org/wikipedia/commons/thumb/3/3c/Flag_of_the_Faroe_Islands.svg/32px-Flag_of_the_Faroe_Islands.svg.png 1.5x, //upload.wikimedia.org/wikipedia/commons/thumb/3/3c/Flag_of_the_Faroe_Islands.svg/41px-Flag_of_the_Faroe_Islands.svg.png 2x\" width=\"21\"/>\\n      </span>\\n     </span>\\n    </span>\\n    <a href=\"/wiki/Faroe_Islands\" title=\"Faroe Islands\">\\n     Faroe Islands\\n    </a>\\n   </td>\\n   <td style=\"background:#e0ffd8;\">\\n    80.18\\n   </td>\\n   <td>\\n    0.68\\n   </td>\\n   <td style=\"background:#e0ffd8;\">\\n    65.86\\n   </td>\\n   <td>\\n    2.40\\n   </td>\\n   <td style=\"background:#e0ffd8;\">\\n    18.26\\n   </td>\\n   <td>\\n    4.65\\n   </td>\\n   <td style=\"background:#e0ffd8;\">\\n    7.91\\n   </td>\\n   <td style=\"background:#eaf3ff;border-left-width:2px;\">\\n    78.17\\n   </td>\\n   <td style=\"background:#eaf3ff;\">\\n    63.96\\n   </td>\\n   <td style=\"background:#eaf3ff;\">\\n    16.83\\n   </td>\\n   <td style=\"background:#eaf3ff;\">\\n    7.12\\n   </td>\\n   <td style=\"background:#fee7f6;border-left-width:2px;\">\\n    82.50\\n   </td>\\n   <td style=\"background:#fee7f6;\">\\n    68.06\\n   </td>\\n   <td style=\"background:#fee7f6;\">\\n    19.86\\n   </td>\\n   <td style=\"background:#fee7f6;\">\\n    8.64\\n   </td>\\n   <td style=\"border-left-width:2px;\">\\n    4.33\\n   </td>\\n   <td>\\n    4.10\\n   </td>\\n   <td>\\n    3.03\\n   </td>\\n   <td>\\n    1.52\\n   </td>\\n   <td style=\"border-left-width:2px;\">\\n    55\\n   </td>\\n   <td>\\n    <span class=\"flagicon\">\\n     <span class=\"mw-image-border\" typeof=\"mw:File\">\\n      <a href=\"/wiki/Faroe_Islands\" title=\"Faroe Islands\">\\n       <img alt=\"Faroe Islands\" class=\"mw-file-element\" data-file-height=\"800\" data-file-width=\"1100\" decoding=\"async\" height=\"15\" src=\"//upload.wikimedia.org/wikipedia/commons/thumb/3/3c/Flag_of_the_Faroe_Islands.svg/21px-Flag_of_the_Faroe_Islands.svg.png\" srcset=\"//upload.wikimedia.org/wikipedia/commons/thumb/3/3c/Flag_of_the_Faroe_Islands.svg/32px-Flag_of_the_Faroe_Islands.svg.png 1.5x, //upload.wikimedia.org/wikipedia/commons/thumb/3/3c/Flag_of_the_Faroe_Islands.svg/41px-Flag_of_the_Faroe_Islands.svg.png 2x\" width=\"21\"/>\\n      </a>\\n     </span>\\n    </span>\\n   </td>\\n  </tr>\\n  <tr>\\n   <td>\\n    <span class=\"flagicon\" style=\"display:inline-block;width:25px;\">\\n     <span class=\"mw-image-border\" typeof=\"mw:File\">\\n      <span>\\n       <img alt=\"\" class=\"mw-file-element\" data-file-height=\"600\" data-file-width=\"900\" decoding=\"async\" height=\"15\" src=\"//upload.wikimedia.org/wikipedia/commons/thumb/c/cb/Flag_of_the_Czech_Republic.svg/23px-Flag_of_the_Czech_Republic.svg.png\" srcset=\"//upload.wikimedia.org/wikipedia/commons/thumb/c/cb/Flag_of_the_Czech_Republic.svg/35px-Flag_of_the_Czech_Republic.svg.png 1.5x, //upload.wikimedia.org/wikipedia/commons/thumb/c/cb/Flag_of_the_Czech_Republic.svg/45px-Flag_of_the_Czech_Republic.svg.png 2x\" width=\"23\"/>\\n      </span>\\n     </span>\\n    </span>\\n    <a href=\"/wiki/Czech_Republic\" title=\"Czech Republic\">\\n     Czechia\\n    </a>\\n   </td>\\n   <td style=\"background:#e0ffd8;\">\\n    79.83\\n   </td>\\n   <td>\\n    0.28\\n   </td>\\n   <td style=\"background:#e0ffd8;\">\\n    65.11\\n   </td>\\n   <td>\\n    3.54\\n   </td>\\n   <td style=\"background:#e0ffd8;\">\\n    18.66\\n   </td>\\n   <td>\\n    4.81\\n   </td>\\n   <td style=\"background:#e0ffd8;\">\\n    8.47\\n   </td>\\n   <td style=\"background:#eaf3ff;border-left-width:2px;\">\\n    77.00\\n   </td>\\n   <td style=\"background:#eaf3ff;\">\\n    62.29\\n   </td>\\n   <td style=\"background:#eaf3ff;\">\\n    16.71\\n   </td>\\n   <td style=\"background:#eaf3ff;\">\\n    7.56\\n   </td>\\n   <td style=\"background:#fee7f6;border-left-width:2px;\">\\n    82.64\\n   </td>\\n   <td style=\"background:#fee7f6;\">\\n    67.90\\n   </td>\\n   <td style=\"background:#fee7f6;\">\\n    20.32\\n   </td>\\n   <td style=\"background:#fee7f6;\">\\n    9.03\\n   </td>\\n   <td style=\"border-left-width:2px;\">\\n    5.64\\n   </td>\\n   <td>\\n    5.60\\n   </td>\\n   <td>\\n    3.61\\n   </td>\\n   <td>\\n    1.47\\n   </td>\\n   <td style=\"border-left-width:2px;\">\\n    10810\\n   </td>\\n   <td>\\n    <span class=\"flagicon\">\\n     <span class=\"mw-image-border\" typeof=\"mw:File\">\\n      <a href=\"/wiki/Czech_Republic\" title=\"Czech Republic\">\\n       <img alt=\"Czech Republic\" class=\"mw-file-element\" data-file-height=\"600\" data-file-width=\"900\" decoding=\"async\" height=\"15\" src=\"//upload.wikimedia.org/wikipedia/commons/thumb/c/cb/Flag_of_the_Czech_Republic.svg/23px-Flag_of_the_Czech_Republic.svg.png\" srcset=\"//upload.wikimedia.org/wikipedia/commons/thumb/c/cb/Flag_of_the_Czech_Republic.svg/35px-Flag_of_the_Czech_Republic.svg.png 1.5x, //upload.wikimedia.org/wikipedia/commons/thumb/c/cb/Flag_of_the_Czech_Republic.svg/45px-Flag_of_the_Czech_Republic.svg.png 2x\" width=\"23\"/>\\n      </a>\\n     </span>\\n    </span>\\n   </td>\\n  </tr>\\n  <tr>\\n   <td>\\n    <span class=\"flagicon\" style=\"display:inline-block;width:25px;\">\\n     <span class=\"mw-image-border\" typeof=\"mw:File\">\\n      <span>\\n       <img alt=\"\" class=\"mw-file-element\" data-file-height=\"600\" data-file-width=\"1000\" decoding=\"async\" height=\"14\" src=\"//upload.wikimedia.org/wikipedia/commons/thumb/1/1c/Flag_of_Jersey.svg/23px-Flag_of_Jersey.svg.png\" srcset=\"//upload.wikimedia.org/wikipedia/commons/thumb/1/1c/Flag_of_Jersey.svg/35px-Flag_of_Jersey.svg.png 1.5x, //upload.wikimedia.org/wikipedia/commons/thumb/1/1c/Flag_of_Jersey.svg/46px-Flag_of_Jersey.svg.png 2x\" width=\"23\"/>\\n      </span>\\n     </span>\\n    </span>\\n    <a href=\"/wiki/Jersey\" title=\"Jersey\">\\n     Jersey\\n    </a>\\n   </td>\\n   <td style=\"background:#e0ffd8;\">\\n    79.71\\n   </td>\\n   <td>\\n    0.91\\n   </td>\\n   <td style=\"background:#e0ffd8;\">\\n    65.61\\n   </td>\\n   <td>\\n    2.81\\n   </td>\\n   <td style=\"background:#e0ffd8;\">\\n    18.43\\n   </td>\\n   <td>\\n    4.81\\n   </td>\\n   <td style=\"background:#e0ffd8;\">\\n    8.23\\n   </td>\\n   <td style=\"background:#eaf3ff;border-left-width:2px;\">\\n    77.72\\n   </td>\\n   <td style=\"background:#eaf3ff;\">\\n    63.60\\n   </td>\\n   <td style=\"background:#eaf3ff;\">\\n    16.80\\n   </td>\\n   <td style=\"background:#eaf3ff;\">\\n    7.25\\n   </td>\\n   <td style=\"background:#fee7f6;border-left-width:2px;\">\\n    81.76\\n   </td>\\n   <td style=\"background:#fee7f6;\">\\n    67.69\\n   </td>\\n   <td style=\"background:#fee7f6;\">\\n    20.04\\n   </td>\\n   <td style=\"background:#fee7f6;\">\\n    9.06\\n   </td>\\n   <td style=\"border-left-width:2px;\">\\n    4.04\\n   </td>\\n   <td>\\n    4.09\\n   </td>\\n   <td>\\n    3.24\\n   </td>\\n   <td>\\n    1.81\\n   </td>\\n   <td style=\"border-left-width:2px;\">\\n    104\\n   </td>\\n   <td>\\n    <span class=\"flagicon\">\\n     <span class=\"mw-image-border\" typeof=\"mw:File\">\\n      <a href=\"/wiki/Jersey\" title=\"Jersey\">\\n       <img alt=\"Jersey\" class=\"mw-file-element\" data-file-height=\"600\" data-file-width=\"1000\" decoding=\"async\" height=\"14\" src=\"//upload.wikimedia.org/wikipedia/commons/thumb/1/1c/Flag_of_Jersey.svg/23px-Flag_of_Jersey.svg.png\" srcset=\"//upload.wikimedia.org/wikipedia/commons/thumb/1/1c/Flag_of_Jersey.svg/35px-Flag_of_Jersey.svg.png 1.5x, //upload.wikimedia.org/wikipedia/commons/thumb/1/1c/Flag_of_Jersey.svg/46px-Flag_of_Jersey.svg.png 2x\" width=\"23\"/>\\n      </a>\\n     </span>\\n    </span>\\n   </td>\\n  </tr>\\n  <tr>\\n   <td>\\n    <span class=\"flagicon\" style=\"display:inline-block;width:25px;\">\\n     <span class=\"mw-image-border\" typeof=\"mw:File\">\\n      <span>\\n       <img alt=\"\" class=\"mw-file-element\" data-file-height=\"500\" data-file-width=\"700\" decoding=\"async\" height=\"15\" src=\"//upload.wikimedia.org/wikipedia/commons/thumb/3/36/Flag_of_Albania.svg/21px-Flag_of_Albania.svg.png\" srcset=\"//upload.wikimedia.org/wikipedia/commons/thumb/3/36/Flag_of_Albania.svg/32px-Flag_of_Albania.svg.png 1.5x, //upload.wikimedia.org/wikipedia/commons/thumb/3/36/Flag_of_Albania.svg/42px-Flag_of_Albania.svg.png 2x\" width=\"21\"/>\\n      </span>\\n     </span>\\n    </span>\\n    <a href=\"/wiki/Albania\" title=\"Albania\">\\n     Albania\\n    </a>\\n   </td>\\n   <td style=\"background:#e0ffd8;\">\\n    79.60\\n   </td>\\n   <td>\\n    0.89\\n   </td>\\n   <td style=\"background:#e0ffd8;\">\\n    65.49\\n   </td>\\n   <td>\\n    3.27\\n   </td>\\n   <td style=\"background:#e0ffd8;\">\\n    18.76\\n   </td>\\n   <td>\\n    4.48\\n   </td>\\n   <td style=\"background:#e0ffd8;\">\\n    8.24\\n   </td>\\n   <td style=\"background:#eaf3ff;border-left-width:2px;\">\\n    77.73\\n   </td>\\n   <td style=\"background:#eaf3ff;\">\\n    63.64\\n   </td>\\n   <td style=\"background:#eaf3ff;\">\\n    17.87\\n   </td>\\n   <td style=\"background:#eaf3ff;\">\\n    7.76\\n   </td>\\n   <td style=\"background:#fee7f6;border-left-width:2px;\">\\n    81.45\\n   </td>\\n   <td style=\"background:#fee7f6;\">\\n    67.31\\n   </td>\\n   <td style=\"background:#fee7f6;\">\\n    19.61\\n   </td>\\n   <td style=\"background:#fee7f6;\">\\n    8.67\\n   </td>\\n   <td style=\"border-left-width:2px;\">\\n    3.72\\n   </td>\\n   <td>\\n    3.67\\n   </td>\\n   <td>\\n    1.74\\n   </td>\\n   <td>\\n    0.91\\n   </td>\\n   <td style=\"border-left-width:2px;\">\\n    2812\\n   </td>\\n   <td>\\n    <span class=\"flagicon\">\\n     <span class=\"mw-image-border\" typeof=\"mw:File\">\\n      <a href=\"/wiki/Albania\" title=\"Albania\">\\n       <img alt=\"Albania\" class=\"mw-file-element\" data-file-height=\"500\" data-file-width=\"700\" decoding=\"async\" height=\"15\" src=\"//upload.wikimedia.org/wikipedia/commons/thumb/3/36/Flag_of_Albania.svg/21px-Flag_of_Albania.svg.png\" srcset=\"//upload.wikimedia.org/wikipedia/commons/thumb/3/36/Flag_of_Albania.svg/32px-Flag_of_Albania.svg.png 1.5x, //upload.wikimedia.org/wikipedia/commons/thumb/3/36/Flag_of_Albania.svg/42px-Flag_of_Albania.svg.png 2x\" width=\"21\"/>\\n      </a>\\n     </span>\\n    </span>\\n   </td>\\n  </tr>\\n  <tr>\\n   <td>\\n    <span class=\"flagicon\" style=\"display:inline-block;width:25px;\">\\n     <span class=\"mw-image-border\" typeof=\"mw:File\">\\n      <span>\\n       <img alt=\"\" class=\"mw-file-element\" data-file-height=\"630\" data-file-width=\"990\" decoding=\"async\" height=\"15\" src=\"//upload.wikimedia.org/wikipedia/commons/thumb/8/8f/Flag_of_Estonia.svg/23px-Flag_of_Estonia.svg.png\" srcset=\"//upload.wikimedia.org/wikipedia/commons/thumb/8/8f/Flag_of_Estonia.svg/35px-Flag_of_Estonia.svg.png 1.5x, //upload.wikimedia.org/wikipedia/commons/thumb/8/8f/Flag_of_Estonia.svg/46px-Flag_of_Estonia.svg.png 2x\" width=\"23\"/>\\n      </span>\\n     </span>\\n    </span>\\n    <a href=\"/wiki/Estonia\" title=\"Estonia\">\\n     Estonia\\n    </a>\\n   </td>\\n   <td style=\"background:#e0ffd8;\">\\n    79.15\\n   </td>\\n   <td>\\n    0.26\\n   </td>\\n   <td style=\"background:#e0ffd8;\">\\n    64.41\\n   </td>\\n   <td>\\n    4.39\\n   </td>\\n   <td style=\"background:#e0ffd8;\">\\n    18.80\\n   </td>\\n   <td>\\n    5.21\\n   </td>\\n   <td style=\"background:#e0ffd8;\">\\n    9.02\\n   </td>\\n   <td style=\"background:#eaf3ff;border-left-width:2px;\">\\n    74.90\\n   </td>\\n   <td style=\"background:#eaf3ff;\">\\n    60.21\\n   </td>\\n   <td style=\"background:#eaf3ff;\">\\n    15.85\\n   </td>\\n   <td style=\"background:#eaf3ff;\">\\n    7.77\\n   </td>\\n   <td style=\"background:#fee7f6;border-left-width:2px;\">\\n    83.04\\n   </td>\\n   <td style=\"background:#fee7f6;\">\\n    68.23\\n   </td>\\n   <td style=\"background:#fee7f6;\">\\n    20.90\\n   </td>\\n   <td style=\"background:#fee7f6;\">\\n    9.55\\n   </td>\\n   <td style=\"border-left-width:2px;\">\\n    8.14\\n   </td>\\n   <td>\\n    8.03\\n   </td>\\n   <td>\\n    5.05\\n   </td>\\n   <td>\\n    1.78\\n   </td>\\n   <td style=\"border-left-width:2px;\">\\n    1367\\n   </td>\\n   <td>\\n    <span class=\"flagicon\">\\n     <span class=\"mw-image-border\" typeof=\"mw:File\">\\n      <a href=\"/wiki/Estonia\" title=\"Estonia\">\\n       <img alt=\"Estonia\" class=\"mw-file-element\" data-file-height=\"630\" data-file-width=\"990\" decoding=\"async\" height=\"15\" src=\"//upload.wikimedia.org/wikipedia/commons/thumb/8/8f/Flag_of_Estonia.svg/23px-Flag_of_Estonia.svg.png\" srcset=\"//upload.wikimedia.org/wikipedia/commons/thumb/8/8f/Flag_of_Estonia.svg/35px-Flag_of_Estonia.svg.png 1.5x, //upload.wikimedia.org/wikipedia/commons/thumb/8/8f/Flag_of_Estonia.svg/46px-Flag_of_Estonia.svg.png 2x\" width=\"23\"/>\\n      </a>\\n     </span>\\n    </span>\\n   </td>\\n  </tr>\\n  <tr class=\"static-row-header\">\\n   <td>\\n    <b>\\n     <a href=\"/wiki/Europe\" title=\"Europe\">\\n      Europe\\n     </a>\\n    </b>\\n   </td>\\n   <td style=\"background:#e0ffd8;\">\\n    <b>\\n     79.06\\n    </b>\\n   </td>\\n   <td>\\n    <b>\\n     0.40\\n    </b>\\n   </td>\\n   <td style=\"background:#e0ffd8;\">\\n    <b>\\n     64.45\\n    </b>\\n   </td>\\n   <td>\\n    <b>\\n     4.91\\n    </b>\\n   </td>\\n   <td style=\"background:#e0ffd8;\">\\n    <b>\\n     19.36\\n    </b>\\n   </td>\\n   <td>\\n    <b>\\n     4.87\\n    </b>\\n   </td>\\n   <td style=\"background:#e0ffd8;\">\\n    <b>\\n     9.23\\n    </b>\\n   </td>\\n   <td style=\"background:#eaf3ff;border-left-width:2px;\">\\n    <b>\\n     75.53\\n    </b>\\n   </td>\\n   <td style=\"background:#eaf3ff;\">\\n    <b>\\n     60.94\\n    </b>\\n   </td>\\n   <td style=\"background:#eaf3ff;\">\\n    <b>\\n     17.48\\n    </b>\\n   </td>\\n   <td style=\"background:#eaf3ff;\">\\n    <b>\\n     8.33\\n    </b>\\n   </td>\\n   <td style=\"background:#fee7f6;border-left-width:2px;\">\\n    <b>\\n     82.56\\n    </b>\\n   </td>\\n   <td style=\"background:#fee7f6;\">\\n    <b>\\n     67.93\\n    </b>\\n   </td>\\n   <td style=\"background:#fee7f6;\">\\n    <b>\\n     20.90\\n    </b>\\n   </td>\\n   <td style=\"background:#fee7f6;\">\\n    <b>\\n     9.79\\n    </b>\\n   </td>\\n   <td style=\"border-left-width:2px;\">\\n    <b>\\n     7.04\\n    </b>\\n   </td>\\n   <td>\\n    <b>\\n     6.99\\n    </b>\\n   </td>\\n   <td>\\n    <b>\\n     3.41\\n    </b>\\n   </td>\\n   <td>\\n    <b>\\n     1.46\\n    </b>\\n   </td>\\n   <td style=\"border-left-width:2px;\">\\n    <b>\\n     745603\\n    </b>\\n   </td>\\n   <td>\\n   </td>\\n  </tr>\\n  <tr>\\n   <td>\\n    <span class=\"flagicon\" style=\"display:inline-block;width:25px;\">\\n     <span class=\"mw-image-border\" typeof=\"mw:File\">\\n      <span>\\n       <img alt=\"\" class=\"mw-file-element\" data-file-height=\"800\" data-file-width=\"1280\" decoding=\"async\" height=\"14\" src=\"//upload.wikimedia.org/wikipedia/en/thumb/1/12/Flag_of_Poland.svg/23px-Flag_of_Poland.svg.png\" srcset=\"//upload.wikimedia.org/wikipedia/en/thumb/1/12/Flag_of_Poland.svg/35px-Flag_of_Poland.svg.png 1.5x, //upload.wikimedia.org/wikipedia/en/thumb/1/12/Flag_of_Poland.svg/46px-Flag_of_Poland.svg.png 2x\" width=\"23\"/>\\n      </span>\\n     </span>\\n    </span>\\n    <a href=\"/wiki/Poland\" title=\"Poland\">\\n     Poland\\n    </a>\\n   </td>\\n   <td style=\"background:#e0ffd8;\">\\n    78.63\\n   </td>\\n   <td>\\n    0.35\\n   </td>\\n   <td style=\"background:#e0ffd8;\">\\n    63.98\\n   </td>\\n   <td>\\n    4.71\\n   </td>\\n   <td style=\"background:#e0ffd8;\">\\n    18.70\\n   </td>\\n   <td>\\n    5.36\\n   </td>\\n   <td style=\"background:#e0ffd8;\">\\n    9.06\\n   </td>\\n   <td style=\"background:#eaf3ff;border-left-width:2px;\">\\n    74.88\\n   </td>\\n   <td style=\"background:#eaf3ff;\">\\n    60.23\\n   </td>\\n   <td style=\"background:#eaf3ff;\">\\n    16.43\\n   </td>\\n   <td style=\"background:#eaf3ff;\">\\n    8.05\\n   </td>\\n   <td style=\"background:#fee7f6;border-left-width:2px;\">\\n    82.35\\n   </td>\\n   <td style=\"background:#fee7f6;\">\\n    67.70\\n   </td>\\n   <td style=\"background:#fee7f6;\">\\n    20.52\\n   </td>\\n   <td style=\"background:#fee7f6;\">\\n    9.60\\n   </td>\\n   <td style=\"border-left-width:2px;\">\\n    7.48\\n   </td>\\n   <td>\\n    7.47\\n   </td>\\n   <td>\\n    4.09\\n   </td>\\n   <td>\\n    1.55\\n   </td>\\n   <td style=\"border-left-width:2px;\">\\n    38763\\n   </td>\\n   <td>\\n    <span class=\"flagicon\">\\n     <span class=\"mw-image-border\" typeof=\"mw:File\">\\n      <a href=\"/wiki/Poland\" title=\"Poland\">\\n       <img alt=\"Poland\" class=\"mw-file-element\" data-file-height=\"800\" data-file-width=\"1280\" decoding=\"async\" height=\"14\" src=\"//upload.wikimedia.org/wikipedia/en/thumb/1/12/Flag_of_Poland.svg/23px-Flag_of_Poland.svg.png\" srcset=\"//upload.wikimedia.org/wikipedia/en/thumb/1/12/Flag_of_Poland.svg/35px-Flag_of_Poland.svg.png 1.5x, //upload.wikimedia.org/wikipedia/en/thumb/1/12/Flag_of_Poland.svg/46px-Flag_of_Poland.svg.png 2x\" width=\"23\"/>\\n      </a>\\n     </span>\\n    </span>\\n   </td>\\n  </tr>\\n  <tr>\\n   <td>\\n    <span class=\"flagicon\" style=\"display:inline-block;width:25px;\">\\n     <span class=\"mw-image-border\" typeof=\"mw:File\">\\n      <span>\\n       <img alt=\"\" class=\"mw-file-element\" data-file-height=\"600\" data-file-width=\"1200\" decoding=\"async\" height=\"12\" src=\"//upload.wikimedia.org/wikipedia/commons/thumb/1/1b/Flag_of_Croatia.svg/23px-Flag_of_Croatia.svg.png\" srcset=\"//upload.wikimedia.org/wikipedia/commons/thumb/1/1b/Flag_of_Croatia.svg/35px-Flag_of_Croatia.svg.png 1.5x, //upload.wikimedia.org/wikipedia/commons/thumb/1/1b/Flag_of_Croatia.svg/46px-Flag_of_Croatia.svg.png 2x\" width=\"23\"/>\\n      </span>\\n     </span>\\n    </span>\\n    <a href=\"/wiki/Croatia\" title=\"Croatia\">\\n     Croatia\\n    </a>\\n   </td>\\n   <td style=\"background:#e0ffd8;\">\\n    78.58\\n   </td>\\n   <td>\\n    0.37\\n   </td>\\n   <td style=\"background:#e0ffd8;\">\\n    63.95\\n   </td>\\n   <td>\\n    3.63\\n   </td>\\n   <td style=\"background:#e0ffd8;\">\\n    17.58\\n   </td>\\n   <td>\\n    5.10\\n   </td>\\n   <td style=\"background:#e0ffd8;\">\\n    7.68\\n   </td>\\n   <td style=\"background:#eaf3ff;border-left-width:2px;\">\\n    75.41\\n   </td>\\n   <td style=\"background:#eaf3ff;\">\\n    60.78\\n   </td>\\n   <td style=\"background:#eaf3ff;\">\\n    15.45\\n   </td>\\n   <td style=\"background:#eaf3ff;\">\\n    6.46\\n   </td>\\n   <td style=\"background:#fee7f6;border-left-width:2px;\">\\n    81.69\\n   </td>\\n   <td style=\"background:#fee7f6;\">\\n    67.05\\n   </td>\\n   <td style=\"background:#fee7f6;\">\\n    19.39\\n   </td>\\n   <td style=\"background:#fee7f6;\">\\n    8.42\\n   </td>\\n   <td style=\"border-left-width:2px;\">\\n    6.28\\n   </td>\\n   <td>\\n    6.27\\n   </td>\\n   <td>\\n    3.94\\n   </td>\\n   <td>\\n    1.96\\n   </td>\\n   <td style=\"border-left-width:2px;\">\\n    3896\\n   </td>\\n   <td>\\n    <span class=\"flagicon\">\\n     <span class=\"mw-image-border\" typeof=\"mw:File\">\\n      <a href=\"/wiki/Croatia\" title=\"Croatia\">\\n       <img alt=\"Croatia\" class=\"mw-file-element\" data-file-height=\"600\" data-file-width=\"1200\" decoding=\"async\" height=\"12\" src=\"//upload.wikimedia.org/wikipedia/commons/thumb/1/1b/Flag_of_Croatia.svg/23px-Flag_of_Croatia.svg.png\" srcset=\"//upload.wikimedia.org/wikipedia/commons/thumb/1/1b/Flag_of_Croatia.svg/35px-Flag_of_Croatia.svg.png 1.5x, //upload.wikimedia.org/wikipedia/commons/thumb/1/1b/Flag_of_Croatia.svg/46px-Flag_of_Croatia.svg.png 2x\" width=\"23\"/>\\n      </a>\\n     </span>\\n    </span>\\n   </td>\\n  </tr>\\n  <tr>\\n   <td>\\n    <span class=\"flagicon\" style=\"display:inline-block;width:25px;\">\\n     <span class=\"mw-image-border\" typeof=\"mw:File\">\\n      <span>\\n       <img alt=\"\" class=\"mw-file-element\" data-file-height=\"600\" data-file-width=\"900\" decoding=\"async\" height=\"15\" src=\"//upload.wikimedia.org/wikipedia/commons/thumb/e/e6/Flag_of_Slovakia.svg/23px-Flag_of_Slovakia.svg.png\" srcset=\"//upload.wikimedia.org/wikipedia/commons/thumb/e/e6/Flag_of_Slovakia.svg/35px-Flag_of_Slovakia.svg.png 1.5x, //upload.wikimedia.org/wikipedia/commons/thumb/e/e6/Flag_of_Slovakia.svg/45px-Flag_of_Slovakia.svg.png 2x\" width=\"23\"/>\\n      </span>\\n     </span>\\n    </span>\\n    <a href=\"/wiki/Slovakia\" title=\"Slovakia\">\\n     Slovakia\\n    </a>\\n   </td>\\n   <td style=\"background:#e0ffd8;\">\\n    78.34\\n   </td>\\n   <td>\\n    0.51\\n   </td>\\n   <td style=\"background:#e0ffd8;\">\\n    63.85\\n   </td>\\n   <td>\\n    4.31\\n   </td>\\n   <td style=\"background:#e0ffd8;\">\\n    18.16\\n   </td>\\n   <td>\\n    5.27\\n   </td>\\n   <td style=\"background:#e0ffd8;\">\\n    8.43\\n   </td>\\n   <td style=\"background:#eaf3ff;border-left-width:2px;\">\\n    75.02\\n   </td>\\n   <td style=\"background:#eaf3ff;\">\\n    60.56\\n   </td>\\n   <td style=\"background:#eaf3ff;\">\\n    16.06\\n   </td>\\n   <td style=\"background:#eaf3ff;\">\\n    7.70\\n   </td>\\n   <td style=\"background:#fee7f6;border-left-width:2px;\">\\n    81.58\\n   </td>\\n   <td style=\"background:#fee7f6;\">\\n    67.06\\n   </td>\\n   <td style=\"background:#fee7f6;\">\\n    19.83\\n   </td>\\n   <td style=\"background:#fee7f6;\">\\n    8.81\\n   </td>\\n   <td style=\"border-left-width:2px;\">\\n    6.56\\n   </td>\\n   <td>\\n    6.50\\n   </td>\\n   <td>\\n    3.77\\n   </td>\\n   <td>\\n    1.11\\n   </td>\\n   <td style=\"border-left-width:2px;\">\\n    5518\\n   </td>\\n   <td>\\n    <span class=\"flagicon\">\\n     <span class=\"mw-image-border\" typeof=\"mw:File\">\\n      <a href=\"/wiki/Slovakia\" title=\"Slovakia\">\\n       <img alt=\"Slovakia\" class=\"mw-file-element\" data-file-height=\"600\" data-file-width=\"900\" decoding=\"async\" height=\"15\" src=\"//upload.wikimedia.org/wikipedia/commons/thumb/e/e6/Flag_of_Slovakia.svg/23px-Flag_of_Slovakia.svg.png\" srcset=\"//upload.wikimedia.org/wikipedia/commons/thumb/e/e6/Flag_of_Slovakia.svg/35px-Flag_of_Slovakia.svg.png 1.5x, //upload.wikimedia.org/wikipedia/commons/thumb/e/e6/Flag_of_Slovakia.svg/45px-Flag_of_Slovakia.svg.png 2x\" width=\"23\"/>\\n      </a>\\n     </span>\\n    </span>\\n   </td>\\n  </tr>\\n  <tr>\\n   <td style=\"padding-left:35px;\">\\n    <a href=\"/wiki/Kosovo\" title=\"Kosovo\">\\n     Kosovo\\n    </a>\\n   </td>\\n   <td style=\"background:#e0ffd8;\">\\n    78.03\\n   </td>\\n   <td>\\n    0.78\\n   </td>\\n   <td style=\"background:#e0ffd8;\">\\n    63.81\\n   </td>\\n   <td>\\n    3.13\\n   </td>\\n   <td style=\"background:#e0ffd8;\">\\n    16.94\\n   </td>\\n   <td>\\n    5.38\\n   </td>\\n   <td style=\"background:#e0ffd8;\">\\n    7.32\\n   </td>\\n   <td style=\"background:#eaf3ff;border-left-width:2px;\">\\n    75.80\\n   </td>\\n   <td style=\"background:#eaf3ff;\">\\n    61.62\\n   </td>\\n   <td style=\"background:#eaf3ff;\">\\n    15.45\\n   </td>\\n   <td style=\"background:#eaf3ff;\">\\n    6.61\\n   </td>\\n   <td style=\"background:#fee7f6;border-left-width:2px;\">\\n    80.12\\n   </td>\\n   <td style=\"background:#fee7f6;\">\\n    65.85\\n   </td>\\n   <td style=\"background:#fee7f6;\">\\n    18.24\\n   </td>\\n   <td style=\"background:#fee7f6;\">\\n    7.82\\n   </td>\\n   <td style=\"border-left-width:2px;\">\\n    4.31\\n   </td>\\n   <td>\\n    4.22\\n   </td>\\n   <td>\\n    2.79\\n   </td>\\n   <td>\\n    1.22\\n   </td>\\n   <td style=\"border-left-width:2px;\">\\n    1700\\n   </td>\\n   <td>\\n   </td>\\n  </tr>\\n  <tr>\\n   <td>\\n    <span class=\"flagicon\" style=\"display:inline-block;width:25px;\">\\n     <span class=\"mw-image-border\" typeof=\"mw:File\">\\n      <span>\\n       <img alt=\"\" class=\"mw-file-element\" data-file-height=\"400\" data-file-width=\"800\" decoding=\"async\" height=\"12\" src=\"//upload.wikimedia.org/wikipedia/commons/thumb/b/bf/Flag_of_Bosnia_and_Herzegovina.svg/23px-Flag_of_Bosnia_and_Herzegovina.svg.png\" srcset=\"//upload.wikimedia.org/wikipedia/commons/thumb/b/bf/Flag_of_Bosnia_and_Herzegovina.svg/35px-Flag_of_Bosnia_and_Herzegovina.svg.png 1.5x, //upload.wikimedia.org/wikipedia/commons/thumb/b/bf/Flag_of_Bosnia_and_Herzegovina.svg/46px-Flag_of_Bosnia_and_Herzegovina.svg.png 2x\" width=\"23\"/>\\n      </span>\\n     </span>\\n    </span>\\n    <a href=\"/wiki/Bosnia_and_Herzegovina\" title=\"Bosnia and Herzegovina\">\\n     Bosnia and Herzegovina\\n    </a>\\n   </td>\\n   <td style=\"background:#e0ffd8;\">\\n    77.85\\n   </td>\\n   <td>\\n    0.48\\n   </td>\\n   <td style=\"background:#e0ffd8;\">\\n    63.33\\n   </td>\\n   <td>\\n    4.05\\n   </td>\\n   <td style=\"background:#e0ffd8;\">\\n    17.38\\n   </td>\\n   <td>\\n    5.91\\n   </td>\\n   <td style=\"background:#e0ffd8;\">\\n    8.29\\n   </td>\\n   <td style=\"background:#eaf3ff;border-left-width:2px;\">\\n    74.42\\n   </td>\\n   <td style=\"background:#eaf3ff;\">\\n    59.93\\n   </td>\\n   <td style=\"background:#eaf3ff;\">\\n    14.83\\n   </td>\\n   <td style=\"background:#eaf3ff;\">\\n    6.32\\n   </td>\\n   <td style=\"background:#fee7f6;border-left-width:2px;\">\\n    80.90\\n   </td>\\n   <td style=\"background:#fee7f6;\">\\n    66.35\\n   </td>\\n   <td style=\"background:#fee7f6;\">\\n    19.27\\n   </td>\\n   <td style=\"background:#fee7f6;\">\\n    9.27\\n   </td>\\n   <td style=\"border-left-width:2px;\">\\n    6.48\\n   </td>\\n   <td>\\n    6.42\\n   </td>\\n   <td>\\n    4.44\\n   </td>\\n   <td>\\n    2.95\\n   </td>\\n   <td style=\"border-left-width:2px;\">\\n    3185\\n   </td>\\n   <td>\\n    <span class=\"flagicon\">\\n     <span class=\"mw-image-border\" typeof=\"mw:File\">\\n      <a href=\"/wiki/Bosnia_and_Herzegovina\" title=\"Bosnia and Herzegovina\">\\n       <img alt=\"Bosnia and Herzegovina\" class=\"mw-file-element\" data-file-height=\"400\" data-file-width=\"800\" decoding=\"async\" height=\"12\" src=\"//upload.wikimedia.org/wikipedia/commons/thumb/b/bf/Flag_of_Bosnia_and_Herzegovina.svg/23px-Flag_of_Bosnia_and_Herzegovina.svg.png\" srcset=\"//upload.wikimedia.org/wikipedia/commons/thumb/b/bf/Flag_of_Bosnia_and_Herzegovina.svg/35px-Flag_of_Bosnia_and_Herzegovina.svg.png 1.5x, //upload.wikimedia.org/wikipedia/commons/thumb/b/bf/Flag_of_Bosnia_and_Herzegovina.svg/46px-Flag_of_Bosnia_and_Herzegovina.svg.png 2x\" width=\"23\"/>\\n      </a>\\n     </span>\\n    </span>\\n   </td>\\n  </tr>\\n  <tr>\\n   <td>\\n    <span class=\"flagicon\" style=\"display:inline-block;width:25px;\">\\n     <span class=\"mw-image-border\" typeof=\"mw:File\">\\n      <span>\\n       <img alt=\"\" class=\"mw-file-element\" data-file-height=\"600\" data-file-width=\"1200\" decoding=\"async\" height=\"12\" src=\"//upload.wikimedia.org/wikipedia/commons/thumb/7/79/Flag_of_North_Macedonia.svg/23px-Flag_of_North_Macedonia.svg.png\" srcset=\"//upload.wikimedia.org/wikipedia/commons/thumb/7/79/Flag_of_North_Macedonia.svg/35px-Flag_of_North_Macedonia.svg.png 1.5x, //upload.wikimedia.org/wikipedia/commons/thumb/7/79/Flag_of_North_Macedonia.svg/46px-Flag_of_North_Macedonia.svg.png 2x\" width=\"23\"/>\\n      </span>\\n     </span>\\n    </span>\\n    <a href=\"/wiki/North_Macedonia\" title=\"North Macedonia\">\\n     North Macedonia\\n    </a>\\n   </td>\\n   <td style=\"background:#e0ffd8;\">\\n    77.39\\n   </td>\\n   <td>\\n    0.53\\n   </td>\\n   <td style=\"background:#e0ffd8;\">\\n    62.92\\n   </td>\\n   <td>\\n    3.58\\n   </td>\\n   <td style=\"background:#e0ffd8;\">\\n    16.50\\n   </td>\\n   <td>\\n    5.68\\n   </td>\\n   <td style=\"background:#e0ffd8;\">\\n    7.18\\n   </td>\\n   <td style=\"background:#eaf3ff;border-left-width:2px;\">\\n    75.11\\n   </td>\\n   <td style=\"background:#eaf3ff;\">\\n    60.67\\n   </td>\\n   <td style=\"background:#eaf3ff;\">\\n    15.01\\n   </td>\\n   <td style=\"background:#eaf3ff;\">\\n    6.26\\n   </td>\\n   <td style=\"background:#fee7f6;border-left-width:2px;\">\\n    79.57\\n   </td>\\n   <td style=\"background:#fee7f6;\">\\n    65.05\\n   </td>\\n   <td style=\"background:#fee7f6;\">\\n    17.74\\n   </td>\\n   <td style=\"background:#fee7f6;\">\\n    7.75\\n   </td>\\n   <td style=\"border-left-width:2px;\">\\n    4.46\\n   </td>\\n   <td>\\n    4.38\\n   </td>\\n   <td>\\n    2.74\\n   </td>\\n   <td>\\n    1.49\\n   </td>\\n   <td style=\"border-left-width:2px;\">\\n    1832\\n   </td>\\n   <td>\\n    <span class=\"flagicon\">\\n     <span class=\"mw-image-border\" typeof=\"mw:File\">\\n      <a href=\"/wiki/North_Macedonia\" title=\"North Macedonia\">\\n       <img alt=\"North Macedonia\" class=\"mw-file-element\" data-file-height=\"600\" data-file-width=\"1200\" decoding=\"async\" height=\"12\" src=\"//upload.wikimedia.org/wikipedia/commons/thumb/7/79/Flag_of_North_Macedonia.svg/23px-Flag_of_North_Macedonia.svg.png\" srcset=\"//upload.wikimedia.org/wikipedia/commons/thumb/7/79/Flag_of_North_Macedonia.svg/35px-Flag_of_North_Macedonia.svg.png 1.5x, //upload.wikimedia.org/wikipedia/commons/thumb/7/79/Flag_of_North_Macedonia.svg/46px-Flag_of_North_Macedonia.svg.png 2x\" width=\"23\"/>\\n      </a>\\n     </span>\\n    </span>\\n   </td>\\n  </tr>\\n  <tr>\\n   <td>\\n    <span class=\"flagicon\" style=\"display:inline-block;width:25px;\">\\n     <span class=\"mw-image-border\" typeof=\"mw:File\">\\n      <span>\\n       <img alt=\"\" class=\"mw-file-element\" data-file-height=\"800\" data-file-width=\"1200\" decoding=\"async\" height=\"15\" src=\"//upload.wikimedia.org/wikipedia/commons/thumb/b/b4/Flag_of_Turkey.svg/23px-Flag_of_Turkey.svg.png\" srcset=\"//upload.wikimedia.org/wikipedia/commons/thumb/b/b4/Flag_of_Turkey.svg/35px-Flag_of_Turkey.svg.png 1.5x, //upload.wikimedia.org/wikipedia/commons/thumb/b/b4/Flag_of_Turkey.svg/45px-Flag_of_Turkey.svg.png 2x\" width=\"23\"/>\\n      </span>\\n     </span>\\n    </span>\\n    <a href=\"/wiki/Turkey\" title=\"Turkey\">\\n     Turkey\\n    </a>\\n   </td>\\n   <td style=\"background:#e0ffd8;\">\\n    77.16\\n   </td>\\n   <td>\\n    1.36\\n   </td>\\n   <td style=\"background:#e0ffd8;\">\\n    63.52\\n   </td>\\n   <td>\\n    4.06\\n   </td>\\n   <td style=\"background:#e0ffd8;\">\\n    17.58\\n   </td>\\n   <td>\\n    5.18\\n   </td>\\n   <td style=\"background:#e0ffd8;\">\\n    7.75\\n   </td>\\n   <td style=\"background:#eaf3ff;border-left-width:2px;\">\\n    74.53\\n   </td>\\n   <td style=\"background:#eaf3ff;\">\\n    60.85\\n   </td>\\n   <td style=\"background:#eaf3ff;\">\\n    15.57\\n   </td>\\n   <td style=\"background:#eaf3ff;\">\\n    6.41\\n   </td>\\n   <td style=\"background:#fee7f6;border-left-width:2px;\">\\n    79.86\\n   </td>\\n   <td style=\"background:#fee7f6;\">\\n    66.26\\n   </td>\\n   <td style=\"background:#fee7f6;\">\\n    19.46\\n   </td>\\n   <td style=\"background:#fee7f6;\">\\n    8.78\\n   </td>\\n   <td style=\"border-left-width:2px;\">\\n    5.33\\n   </td>\\n   <td>\\n    5.40\\n   </td>\\n   <td>\\n    3.89\\n   </td>\\n   <td>\\n    2.37\\n   </td>\\n   <td style=\"border-left-width:2px;\">\\n    87271\\n   </td>\\n   <td>\\n    <span class=\"flagicon\">\\n     <span class=\"mw-image-border\" typeof=\"mw:File\">\\n      <a href=\"/wiki/Turkey\" title=\"Turkey\">\\n       <img alt=\"Turkey\" class=\"mw-file-element\" data-file-height=\"800\" data-file-width=\"1200\" decoding=\"async\" height=\"15\" src=\"//upload.wikimedia.org/wikipedia/commons/thumb/b/b4/Flag_of_Turkey.svg/23px-Flag_of_Turkey.svg.png\" srcset=\"//upload.wikimedia.org/wikipedia/commons/thumb/b/b4/Flag_of_Turkey.svg/35px-Flag_of_Turkey.svg.png 1.5x, //upload.wikimedia.org/wikipedia/commons/thumb/b/b4/Flag_of_Turkey.svg/45px-Flag_of_Turkey.svg.png 2x\" width=\"23\"/>\\n      </a>\\n     </span>\\n    </span>\\n   </td>\\n  </tr>\\n  <tr>\\n   <td>\\n    <span class=\"flagicon\" style=\"display:inline-block;width:25px;\">\\n     <span class=\"mw-image-border\" typeof=\"mw:File\">\\n      <span>\\n       <img alt=\"\" class=\"mw-file-element\" data-file-height=\"600\" data-file-width=\"1200\" decoding=\"async\" height=\"12\" src=\"//upload.wikimedia.org/wikipedia/commons/thumb/6/64/Flag_of_Montenegro.svg/23px-Flag_of_Montenegro.svg.png\" srcset=\"//upload.wikimedia.org/wikipedia/commons/thumb/6/64/Flag_of_Montenegro.svg/35px-Flag_of_Montenegro.svg.png 1.5x, //upload.wikimedia.org/wikipedia/commons/thumb/6/64/Flag_of_Montenegro.svg/46px-Flag_of_Montenegro.svg.png 2x\" width=\"23\"/>\\n      </span>\\n     </span>\\n    </span>\\n    <a href=\"/wiki/Montenegro\" title=\"Montenegro\">\\n     Montenegro\\n    </a>\\n   </td>\\n   <td style=\"background:#e0ffd8;\">\\n    77.09\\n   </td>\\n   <td>\\n    0.40\\n   </td>\\n   <td style=\"background:#e0ffd8;\">\\n    62.48\\n   </td>\\n   <td>\\n    4.33\\n   </td>\\n   <td style=\"background:#e0ffd8;\">\\n    16.82\\n   </td>\\n   <td>\\n    5.75\\n   </td>\\n   <td style=\"background:#e0ffd8;\">\\n    7.57\\n   </td>\\n   <td style=\"background:#eaf3ff;border-left-width:2px;\">\\n    73.73\\n   </td>\\n   <td style=\"background:#eaf3ff;\">\\n    59.16\\n   </td>\\n   <td style=\"background:#eaf3ff;\">\\n    14.54\\n   </td>\\n   <td style=\"background:#eaf3ff;\">\\n    6.08\\n   </td>\\n   <td style=\"background:#fee7f6;border-left-width:2px;\">\\n    80.31\\n   </td>\\n   <td style=\"background:#fee7f6;\">\\n    65.67\\n   </td>\\n   <td style=\"background:#fee7f6;\">\\n    18.71\\n   </td>\\n   <td style=\"background:#fee7f6;\">\\n    8.45\\n   </td>\\n   <td style=\"border-left-width:2px;\">\\n    6.58\\n   </td>\\n   <td>\\n    6.52\\n   </td>\\n   <td>\\n    4.17\\n   </td>\\n   <td>\\n    2.37\\n   </td>\\n   <td style=\"border-left-width:2px;\">\\n    634\\n   </td>\\n   <td>\\n    <span class=\"flagicon\">\\n     <span class=\"mw-image-border\" typeof=\"mw:File\">\\n      <a href=\"/wiki/Montenegro\" title=\"Montenegro\">\\n       <img alt=\"Montenegro\" class=\"mw-file-element\" data-file-height=\"600\" data-file-width=\"1200\" decoding=\"async\" height=\"12\" src=\"//upload.wikimedia.org/wikipedia/commons/thumb/6/64/Flag_of_Montenegro.svg/23px-Flag_of_Montenegro.svg.png\" srcset=\"//upload.wikimedia.org/wikipedia/commons/thumb/6/64/Flag_of_Montenegro.svg/35px-Flag_of_Montenegro.svg.png 1.5x, //upload.wikimedia.org/wikipedia/commons/thumb/6/64/Flag_of_Montenegro.svg/46px-Flag_of_Montenegro.svg.png 2x\" width=\"23\"/>\\n      </a>\\n     </span>\\n    </span>\\n   </td>\\n  </tr>\\n  <tr>\\n   <td>\\n    <span class=\"flagicon\" style=\"display:inline-block;width:25px;\">\\n     <span class=\"mw-image-border\" typeof=\"mw:File\">\\n      <span>\\n       <img alt=\"\" class=\"mw-file-element\" data-file-height=\"600\" data-file-width=\"1200\" decoding=\"async\" height=\"12\" src=\"//upload.wikimedia.org/wikipedia/commons/thumb/c/c1/Flag_of_Hungary.svg/23px-Flag_of_Hungary.svg.png\" srcset=\"//upload.wikimedia.org/wikipedia/commons/thumb/c/c1/Flag_of_Hungary.svg/35px-Flag_of_Hungary.svg.png 1.5x, //upload.wikimedia.org/wikipedia/commons/thumb/c/c1/Flag_of_Hungary.svg/46px-Flag_of_Hungary.svg.png 2x\" width=\"23\"/>\\n      </span>\\n     </span>\\n    </span>\\n    <a href=\"/wiki/Hungary\" title=\"Hungary\">\\n     Hungary\\n    </a>\\n   </td>\\n   <td style=\"background:#e0ffd8;\">\\n    77.02\\n   </td>\\n   <td>\\n    0.37\\n   </td>\\n   <td style=\"background:#e0ffd8;\">\\n    62.40\\n   </td>\\n   <td>\\n    4.76\\n   </td>\\n   <td style=\"background:#e0ffd8;\">\\n    17.16\\n   </td>\\n   <td>\\n    5.84\\n   </td>\\n   <td style=\"background:#e0ffd8;\">\\n    8.00\\n   </td>\\n   <td style=\"background:#eaf3ff;border-left-width:2px;\">\\n    73.71\\n   </td>\\n   <td style=\"background:#eaf3ff;\">\\n    59.11\\n   </td>\\n   <td style=\"background:#eaf3ff;\">\\n    15.04\\n   </td>\\n   <td style=\"background:#eaf3ff;\">\\n    7.26\\n   </td>\\n   <td style=\"background:#fee7f6;border-left-width:2px;\">\\n    80.19\\n   </td>\\n   <td style=\"background:#fee7f6;\">\\n    65.52\\n   </td>\\n   <td style=\"background:#fee7f6;\">\\n    18.78\\n   </td>\\n   <td style=\"background:#fee7f6;\">\\n    8.37\\n   </td>\\n   <td style=\"border-left-width:2px;\">\\n    6.48\\n   </td>\\n   <td>\\n    6.41\\n   </td>\\n   <td>\\n    3.74\\n   </td>\\n   <td>\\n    1.10\\n   </td>\\n   <td style=\"border-left-width:2px;\">\\n    9686\\n   </td>\\n   <td>\\n    <span class=\"flagicon\">\\n     <span class=\"mw-image-border\" typeof=\"mw:File\">\\n      <a href=\"/wiki/Hungary\" title=\"Hungary\">\\n       <img alt=\"Hungary\" class=\"mw-file-element\" data-file-height=\"600\" data-file-width=\"1200\" decoding=\"async\" height=\"12\" src=\"//upload.wikimedia.org/wikipedia/commons/thumb/c/c1/Flag_of_Hungary.svg/23px-Flag_of_Hungary.svg.png\" srcset=\"//upload.wikimedia.org/wikipedia/commons/thumb/c/c1/Flag_of_Hungary.svg/35px-Flag_of_Hungary.svg.png 1.5x, //upload.wikimedia.org/wikipedia/commons/thumb/c/c1/Flag_of_Hungary.svg/46px-Flag_of_Hungary.svg.png 2x\" width=\"23\"/>\\n      </a>\\n     </span>\\n    </span>\\n   </td>\\n  </tr>\\n  <tr>\\n   <td>\\n    <span class=\"flagicon\" style=\"display:inline-block;width:25px;\">\\n     <span class=\"mw-image-border\" typeof=\"mw:File\">\\n      <span>\\n       <img alt=\"\" class=\"mw-file-element\" data-file-height=\"900\" data-file-width=\"1350\" decoding=\"async\" height=\"15\" src=\"//upload.wikimedia.org/wikipedia/commons/thumb/f/ff/Flag_of_Serbia.svg/23px-Flag_of_Serbia.svg.png\" srcset=\"//upload.wikimedia.org/wikipedia/commons/thumb/f/ff/Flag_of_Serbia.svg/35px-Flag_of_Serbia.svg.png 1.5x, //upload.wikimedia.org/wikipedia/commons/thumb/f/ff/Flag_of_Serbia.svg/45px-Flag_of_Serbia.svg.png 2x\" width=\"23\"/>\\n      </span>\\n     </span>\\n    </span>\\n    <a href=\"/wiki/Serbia\" title=\"Serbia\">\\n     Serbia\\n    </a>\\n   </td>\\n   <td style=\"background:#e0ffd8;\">\\n    76.77\\n   </td>\\n   <td>\\n    0.44\\n   </td>\\n   <td style=\"background:#e0ffd8;\">\\n    62.21\\n   </td>\\n   <td>\\n    4.52\\n   </td>\\n   <td style=\"background:#e0ffd8;\">\\n    16.73\\n   </td>\\n   <td>\\n    6.30\\n   </td>\\n   <td style=\"background:#e0ffd8;\">\\n    8.03\\n   </td>\\n   <td style=\"background:#eaf3ff;border-left-width:2px;\">\\n    73.50\\n   </td>\\n   <td style=\"background:#eaf3ff;\">\\n    58.96\\n   </td>\\n   <td style=\"background:#eaf3ff;\">\\n    14.51\\n   </td>\\n   <td style=\"background:#eaf3ff;\">\\n    6.59\\n   </td>\\n   <td style=\"background:#fee7f6;border-left-width:2px;\">\\n    80.04\\n   </td>\\n   <td style=\"background:#fee7f6;\">\\n    65.45\\n   </td>\\n   <td style=\"background:#fee7f6;\">\\n    18.71\\n   </td>\\n   <td style=\"background:#fee7f6;\">\\n    9.06\\n   </td>\\n   <td style=\"border-left-width:2px;\">\\n    6.54\\n   </td>\\n   <td>\\n    6.49\\n   </td>\\n   <td>\\n    4.20\\n   </td>\\n   <td>\\n    2.46\\n   </td>\\n   <td style=\"border-left-width:2px;\">\\n    6773\\n   </td>\\n   <td>\\n    <span class=\"flagicon\">\\n     <span class=\"mw-image-border\" typeof=\"mw:File\">\\n      <a href=\"/wiki/Serbia\" title=\"Serbia\">\\n       <img alt=\"Serbia\" class=\"mw-file-element\" data-file-height=\"900\" data-file-width=\"1350\" decoding=\"async\" height=\"15\" src=\"//upload.wikimedia.org/wikipedia/commons/thumb/f/ff/Flag_of_Serbia.svg/23px-Flag_of_Serbia.svg.png\" srcset=\"//upload.wikimedia.org/wikipedia/commons/thumb/f/ff/Flag_of_Serbia.svg/35px-Flag_of_Serbia.svg.png 1.5x, //upload.wikimedia.org/wikipedia/commons/thumb/f/ff/Flag_of_Serbia.svg/45px-Flag_of_Serbia.svg.png 2x\" width=\"23\"/>\\n      </a>\\n     </span>\\n    </span>\\n   </td>\\n  </tr>\\n  <tr>\\n   <td>\\n    <span class=\"flagicon\" style=\"display:inline-block;width:25px;\">\\n     <span class=\"mw-image-border\" typeof=\"mw:File\">\\n      <span>\\n       <img alt=\"\" class=\"mw-file-element\" data-file-height=\"600\" data-file-width=\"1200\" decoding=\"async\" height=\"12\" src=\"//upload.wikimedia.org/wikipedia/commons/thumb/8/84/Flag_of_Latvia.svg/23px-Flag_of_Latvia.svg.png\" srcset=\"//upload.wikimedia.org/wikipedia/commons/thumb/8/84/Flag_of_Latvia.svg/35px-Flag_of_Latvia.svg.png 1.5x, //upload.wikimedia.org/wikipedia/commons/thumb/8/84/Flag_of_Latvia.svg/46px-Flag_of_Latvia.svg.png 2x\" width=\"23\"/>\\n      </span>\\n     </span>\\n    </span>\\n    <a href=\"/wiki/Latvia\" title=\"Latvia\">\\n     Latvia\\n    </a>\\n   </td>\\n   <td style=\"background:#e0ffd8;\">\\n    76.19\\n   </td>\\n   <td>\\n    0.35\\n   </td>\\n   <td style=\"background:#e0ffd8;\">\\n    61.54\\n   </td>\\n   <td>\\n    5.95\\n   </td>\\n   <td style=\"background:#e0ffd8;\">\\n    17.49\\n   </td>\\n   <td>\\n    5.78\\n   </td>\\n   <td style=\"background:#e0ffd8;\">\\n    8.27\\n   </td>\\n   <td style=\"background:#eaf3ff;border-left-width:2px;\">\\n    71.56\\n   </td>\\n   <td style=\"background:#eaf3ff;\">\\n    56.87\\n   </td>\\n   <td style=\"background:#eaf3ff;\">\\n    14.55\\n   </td>\\n   <td style=\"background:#eaf3ff;\">\\n    7.13\\n   </td>\\n   <td style=\"background:#fee7f6;border-left-width:2px;\">\\n    80.47\\n   </td>\\n   <td style=\"background:#fee7f6;\">\\n    65.86\\n   </td>\\n   <td style=\"background:#fee7f6;\">\\n    19.50\\n   </td>\\n   <td style=\"background:#fee7f6;\">\\n    8.74\\n   </td>\\n   <td style=\"border-left-width:2px;\">\\n    8.91\\n   </td>\\n   <td>\\n    8.98\\n   </td>\\n   <td>\\n    4.95\\n   </td>\\n   <td>\\n    1.61\\n   </td>\\n   <td style=\"border-left-width:2px;\">\\n    1882\\n   </td>\\n   <td>\\n    <span class=\"flagicon\">\\n     <span class=\"mw-image-border\" typeof=\"mw:File\">\\n      <a href=\"/wiki/Latvia\" title=\"Latvia\">\\n       <img alt=\"Latvia\" class=\"mw-file-element\" data-file-height=\"600\" data-file-width=\"1200\" decoding=\"async\" height=\"12\" src=\"//upload.wikimedia.org/wikipedia/commons/thumb/8/84/Flag_of_Latvia.svg/23px-Flag_of_Latvia.svg.png\" srcset=\"//upload.wikimedia.org/wikipedia/commons/thumb/8/84/Flag_of_Latvia.svg/35px-Flag_of_Latvia.svg.png 1.5x, //upload.wikimedia.org/wikipedia/commons/thumb/8/84/Flag_of_Latvia.svg/46px-Flag_of_Latvia.svg.png 2x\" width=\"23\"/>\\n      </a>\\n     </span>\\n    </span>\\n   </td>\\n  </tr>\\n  <tr>\\n   <td>\\n    <span class=\"flagicon\" style=\"display:inline-block;width:25px;\">\\n     <span class=\"mw-image-border\" typeof=\"mw:File\">\\n      <span>\\n       <img alt=\"\" class=\"mw-file-element\" data-file-height=\"600\" data-file-width=\"1000\" decoding=\"async\" height=\"14\" src=\"//upload.wikimedia.org/wikipedia/commons/thumb/1/11/Flag_of_Lithuania.svg/23px-Flag_of_Lithuania.svg.png\" srcset=\"//upload.wikimedia.org/wikipedia/commons/thumb/1/11/Flag_of_Lithuania.svg/35px-Flag_of_Lithuania.svg.png 1.5x, //upload.wikimedia.org/wikipedia/commons/thumb/1/11/Flag_of_Lithuania.svg/46px-Flag_of_Lithuania.svg.png 2x\" width=\"23\"/>\\n      </span>\\n     </span>\\n    </span>\\n    <a href=\"/wiki/Lithuania\" title=\"Lithuania\">\\n     Lithuania\\n    </a>\\n   </td>\\n   <td style=\"background:#e0ffd8;\">\\n    76.03\\n   </td>\\n   <td>\\n    0.33\\n   </td>\\n   <td style=\"background:#e0ffd8;\">\\n    61.35\\n   </td>\\n   <td>\\n    6.03\\n   </td>\\n   <td style=\"background:#e0ffd8;\">\\n    17.38\\n   </td>\\n   <td>\\n    5.83\\n   </td>\\n   <td style=\"background:#e0ffd8;\">\\n    8.21\\n   </td>\\n   <td style=\"background:#eaf3ff;border-left-width:2px;\">\\n    71.22\\n   </td>\\n   <td style=\"background:#eaf3ff;\">\\n    56.57\\n   </td>\\n   <td style=\"background:#eaf3ff;\">\\n    14.38\\n   </td>\\n   <td style=\"background:#eaf3ff;\">\\n    7.09\\n   </td>\\n   <td style=\"background:#fee7f6;border-left-width:2px;\">\\n    80.67\\n   </td>\\n   <td style=\"background:#fee7f6;\">\\n    65.96\\n   </td>\\n   <td style=\"background:#fee7f6;\">\\n    19.48\\n   </td>\\n   <td style=\"background:#fee7f6;\">\\n    8.70\\n   </td>\\n   <td style=\"border-left-width:2px;\">\\n    9.46\\n   </td>\\n   <td>\\n    9.40\\n   </td>\\n   <td>\\n    5.10\\n   </td>\\n   <td>\\n    1.61\\n   </td>\\n   <td style=\"border-left-width:2px;\">\\n    2854\\n   </td>\\n   <td>\\n    <span class=\"flagicon\">\\n     <span class=\"mw-image-border\" typeof=\"mw:File\">\\n      <a href=\"/wiki/Lithuania\" title=\"Lithuania\">\\n       <img alt=\"Lithuania\" class=\"mw-file-element\" data-file-height=\"600\" data-file-width=\"1000\" decoding=\"async\" height=\"14\" src=\"//upload.wikimedia.org/wikipedia/commons/thumb/1/11/Flag_of_Lithuania.svg/23px-Flag_of_Lithuania.svg.png\" srcset=\"//upload.wikimedia.org/wikipedia/commons/thumb/1/11/Flag_of_Lithuania.svg/35px-Flag_of_Lithuania.svg.png 1.5x, //upload.wikimedia.org/wikipedia/commons/thumb/1/11/Flag_of_Lithuania.svg/46px-Flag_of_Lithuania.svg.png 2x\" width=\"23\"/>\\n      </a>\\n     </span>\\n    </span>\\n   </td>\\n  </tr>\\n  <tr>\\n   <td>\\n    <span class=\"flagicon\" style=\"display:inline-block;width:25px;\">\\n     <span class=\"mw-image-border\" typeof=\"mw:File\">\\n      <span>\\n       <img alt=\"\" class=\"mw-file-element\" data-file-height=\"400\" data-file-width=\"600\" decoding=\"async\" height=\"15\" src=\"//upload.wikimedia.org/wikipedia/commons/thumb/7/73/Flag_of_Romania.svg/23px-Flag_of_Romania.svg.png\" srcset=\"//upload.wikimedia.org/wikipedia/commons/thumb/7/73/Flag_of_Romania.svg/35px-Flag_of_Romania.svg.png 1.5x, //upload.wikimedia.org/wikipedia/commons/thumb/7/73/Flag_of_Romania.svg/45px-Flag_of_Romania.svg.png 2x\" width=\"23\"/>\\n      </span>\\n     </span>\\n    </span>\\n    <a href=\"/wiki/Romania\" title=\"Romania\">\\n     Romania\\n    </a>\\n   </td>\\n   <td style=\"background:#e0ffd8;\">\\n    75.94\\n   </td>\\n   <td>\\n    0.54\\n   </td>\\n   <td style=\"background:#e0ffd8;\">\\n    61.48\\n   </td>\\n   <td>\\n    5.38\\n   </td>\\n   <td style=\"background:#e0ffd8;\">\\n    16.86\\n   </td>\\n   <td>\\n    5.68\\n   </td>\\n   <td style=\"background:#e0ffd8;\">\\n    7.55\\n   </td>\\n   <td style=\"background:#eaf3ff;border-left-width:2px;\">\\n    72.40\\n   </td>\\n   <td style=\"background:#eaf3ff;\">\\n    57.96\\n   </td>\\n   <td style=\"background:#eaf3ff;\">\\n    14.97\\n   </td>\\n   <td style=\"background:#eaf3ff;\">\\n    7.14\\n   </td>\\n   <td style=\"background:#fee7f6;border-left-width:2px;\">\\n    79.56\\n   </td>\\n   <td style=\"background:#fee7f6;\">\\n    65.07\\n   </td>\\n   <td style=\"background:#fee7f6;\">\\n    18.39\\n   </td>\\n   <td style=\"background:#fee7f6;\">\\n    7.79\\n   </td>\\n   <td style=\"border-left-width:2px;\">\\n    7.16\\n   </td>\\n   <td>\\n    7.11\\n   </td>\\n   <td>\\n    3.42\\n   </td>\\n   <td>\\n    0.64\\n   </td>\\n   <td style=\"border-left-width:2px;\">\\n    19118\\n   </td>\\n   <td>\\n    <span class=\"flagicon\">\\n     <span class=\"mw-image-border\" typeof=\"mw:File\">\\n      <a href=\"/wiki/Romania\" title=\"Romania\">\\n       <img alt=\"Romania\" class=\"mw-file-element\" data-file-height=\"400\" data-file-width=\"600\" decoding=\"async\" height=\"15\" src=\"//upload.wikimedia.org/wikipedia/commons/thumb/7/73/Flag_of_Romania.svg/23px-Flag_of_Romania.svg.png\" srcset=\"//upload.wikimedia.org/wikipedia/commons/thumb/7/73/Flag_of_Romania.svg/35px-Flag_of_Romania.svg.png 1.5x, //upload.wikimedia.org/wikipedia/commons/thumb/7/73/Flag_of_Romania.svg/45px-Flag_of_Romania.svg.png 2x\" width=\"23\"/>\\n      </a>\\n     </span>\\n    </span>\\n   </td>\\n  </tr>\\n  <tr>\\n   <td>\\n    <span class=\"flagicon\" style=\"display:inline-block;width:25px;\">\\n     <span class=\"mw-image-border\" typeof=\"mw:File\">\\n      <span>\\n       <img alt=\"\" class=\"mw-file-element\" data-file-height=\"600\" data-file-width=\"1200\" decoding=\"async\" height=\"12\" src=\"//upload.wikimedia.org/wikipedia/commons/thumb/2/2f/Flag_of_Armenia.svg/23px-Flag_of_Armenia.svg.png\" srcset=\"//upload.wikimedia.org/wikipedia/commons/thumb/2/2f/Flag_of_Armenia.svg/35px-Flag_of_Armenia.svg.png 1.5x, //upload.wikimedia.org/wikipedia/commons/thumb/2/2f/Flag_of_Armenia.svg/46px-Flag_of_Armenia.svg.png 2x\" width=\"23\"/>\\n      </span>\\n     </span>\\n    </span>\\n    <a href=\"/wiki/Armenia\" title=\"Armenia\">\\n     Armenia\\n    </a>\\n   </td>\\n   <td style=\"background:#e0ffd8;\">\\n    75.68\\n   </td>\\n   <td>\\n    0.84\\n   </td>\\n   <td style=\"background:#e0ffd8;\">\\n    61.53\\n   </td>\\n   <td>\\n    4.66\\n   </td>\\n   <td style=\"background:#e0ffd8;\">\\n    16.19\\n   </td>\\n   <td>\\n    5.93\\n   </td>\\n   <td style=\"background:#e0ffd8;\">\\n    7.12\\n   </td>\\n   <td style=\"background:#eaf3ff;border-left-width:2px;\">\\n    71.39\\n   </td>\\n   <td style=\"background:#eaf3ff;\">\\n    57.25\\n   </td>\\n   <td style=\"background:#eaf3ff;\">\\n    13.86\\n   </td>\\n   <td style=\"background:#eaf3ff;\">\\n    6.16\\n   </td>\\n   <td style=\"background:#fee7f6;border-left-width:2px;\">\\n    79.45\\n   </td>\\n   <td style=\"background:#fee7f6;\">\\n    65.26\\n   </td>\\n   <td style=\"background:#fee7f6;\">\\n    17.84\\n   </td>\\n   <td style=\"background:#fee7f6;\">\\n    7.61\\n   </td>\\n   <td style=\"border-left-width:2px;\">\\n    8.07\\n   </td>\\n   <td>\\n    8.01\\n   </td>\\n   <td>\\n    3.97\\n   </td>\\n   <td>\\n    1.45\\n   </td>\\n   <td style=\"border-left-width:2px;\">\\n    2943\\n   </td>\\n   <td>\\n    <span class=\"flagicon\">\\n     <span class=\"mw-image-border\" typeof=\"mw:File\">\\n      <a href=\"/wiki/Armenia\" title=\"Armenia\">\\n       <img alt=\"Armenia\" class=\"mw-file-element\" data-file-height=\"600\" data-file-width=\"1200\" decoding=\"async\" height=\"12\" src=\"//upload.wikimedia.org/wikipedia/commons/thumb/2/2f/Flag_of_Armenia.svg/23px-Flag_of_Armenia.svg.png\" srcset=\"//upload.wikimedia.org/wikipedia/commons/thumb/2/2f/Flag_of_Armenia.svg/35px-Flag_of_Armenia.svg.png 1.5x, //upload.wikimedia.org/wikipedia/commons/thumb/2/2f/Flag_of_Armenia.svg/46px-Flag_of_Armenia.svg.png 2x\" width=\"23\"/>\\n      </a>\\n     </span>\\n    </span>\\n   </td>\\n  </tr>\\n  <tr>\\n   <td>\\n    <span class=\"flagicon\" style=\"display:inline-block;width:25px;\">\\n     <span class=\"mw-image-border\" typeof=\"mw:File\">\\n      <span>\\n       <img alt=\"\" class=\"mw-file-element\" data-file-height=\"600\" data-file-width=\"1000\" decoding=\"async\" height=\"14\" src=\"//upload.wikimedia.org/wikipedia/commons/thumb/9/9a/Flag_of_Bulgaria.svg/23px-Flag_of_Bulgaria.svg.png\" srcset=\"//upload.wikimedia.org/wikipedia/commons/thumb/9/9a/Flag_of_Bulgaria.svg/35px-Flag_of_Bulgaria.svg.png 1.5x, //upload.wikimedia.org/wikipedia/commons/thumb/9/9a/Flag_of_Bulgaria.svg/46px-Flag_of_Bulgaria.svg.png 2x\" width=\"23\"/>\\n      </span>\\n     </span>\\n    </span>\\n    <a href=\"/wiki/Bulgaria\" title=\"Bulgaria\">\\n     Bulgaria\\n    </a>\\n   </td>\\n   <td style=\"background:#e0ffd8;\">\\n    75.64\\n   </td>\\n   <td>\\n    0.53\\n   </td>\\n   <td style=\"background:#e0ffd8;\">\\n    61.16\\n   </td>\\n   <td>\\n    5.38\\n   </td>\\n   <td style=\"background:#e0ffd8;\">\\n    16.54\\n   </td>\\n   <td>\\n    5.82\\n   </td>\\n   <td style=\"background:#e0ffd8;\">\\n    7.36\\n   </td>\\n   <td style=\"background:#eaf3ff;border-left-width:2px;\">\\n    72.16\\n   </td>\\n   <td style=\"background:#eaf3ff;\">\\n    57.68\\n   </td>\\n   <td style=\"background:#eaf3ff;\">\\n    14.47\\n   </td>\\n   <td style=\"background:#eaf3ff;\">\\n    6.73\\n   </td>\\n   <td style=\"background:#fee7f6;border-left-width:2px;\">\\n    79.21\\n   </td>\\n   <td style=\"background:#fee7f6;\">\\n    64.74\\n   </td>\\n   <td style=\"background:#fee7f6;\">\\n    18.25\\n   </td>\\n   <td style=\"background:#fee7f6;\">\\n    7.72\\n   </td>\\n   <td style=\"border-left-width:2px;\">\\n    7.05\\n   </td>\\n   <td>\\n    7.06\\n   </td>\\n   <td>\\n    3.78\\n   </td>\\n   <td>\\n    0.99\\n   </td>\\n   <td style=\"border-left-width:2px;\">\\n    6796\\n   </td>\\n   <td>\\n    <span class=\"flagicon\">\\n     <span class=\"mw-image-border\" typeof=\"mw:File\">\\n      <a href=\"/wiki/Bulgaria\" title=\"Bulgaria\">\\n       <img alt=\"Bulgaria\" class=\"mw-file-element\" data-file-height=\"600\" data-file-width=\"1000\" decoding=\"async\" height=\"14\" src=\"//upload.wikimedia.org/wikipedia/commons/thumb/9/9a/Flag_of_Bulgaria.svg/23px-Flag_of_Bulgaria.svg.png\" srcset=\"//upload.wikimedia.org/wikipedia/commons/thumb/9/9a/Flag_of_Bulgaria.svg/35px-Flag_of_Bulgaria.svg.png 1.5x, //upload.wikimedia.org/wikipedia/commons/thumb/9/9a/Flag_of_Bulgaria.svg/46px-Flag_of_Bulgaria.svg.png 2x\" width=\"23\"/>\\n      </a>\\n     </span>\\n    </span>\\n   </td>\\n  </tr>\\n  <tr>\\n   <td>\\n    <span class=\"flagicon\" style=\"display:inline-block;width:25px;\">\\n     <span class=\"mw-image-border\" typeof=\"mw:File\">\\n      <span>\\n       <img alt=\"\" class=\"mw-file-element\" data-file-height=\"600\" data-file-width=\"900\" decoding=\"async\" height=\"15\" src=\"//upload.wikimedia.org/wikipedia/commons/thumb/0/0f/Flag_of_Georgia.svg/23px-Flag_of_Georgia.svg.png\" srcset=\"//upload.wikimedia.org/wikipedia/commons/thumb/0/0f/Flag_of_Georgia.svg/35px-Flag_of_Georgia.svg.png 1.5x, //upload.wikimedia.org/wikipedia/commons/thumb/0/0f/Flag_of_Georgia.svg/45px-Flag_of_Georgia.svg.png 2x\" width=\"23\"/>\\n      </span>\\n     </span>\\n    </span>\\n    <a href=\"/wiki/Georgia_(country)\" title=\"Georgia (country)\">\\n     Georgia\\n    </a>\\n   </td>\\n   <td style=\"background:#e0ffd8;\">\\n    74.50\\n   </td>\\n   <td>\\n    0.81\\n   </td>\\n   <td style=\"background:#e0ffd8;\">\\n    60.31\\n   </td>\\n   <td>\\n    5.85\\n   </td>\\n   <td style=\"background:#e0ffd8;\">\\n    16.16\\n   </td>\\n   <td>\\n    6.17\\n   </td>\\n   <td style=\"background:#e0ffd8;\">\\n    7.32\\n   </td>\\n   <td style=\"background:#eaf3ff;border-left-width:2px;\">\\n    69.57\\n   </td>\\n   <td style=\"background:#eaf3ff;\">\\n    55.42\\n   </td>\\n   <td style=\"background:#eaf3ff;\">\\n    13.38\\n   </td>\\n   <td style=\"background:#eaf3ff;\">\\n    5.39\\n   </td>\\n   <td style=\"background:#fee7f6;border-left-width:2px;\">\\n    79.11\\n   </td>\\n   <td style=\"background:#fee7f6;\">\\n    64.86\\n   </td>\\n   <td style=\"background:#fee7f6;\">\\n    18.16\\n   </td>\\n   <td style=\"background:#fee7f6;\">\\n    8.30\\n   </td>\\n   <td style=\"border-left-width:2px;\">\\n    9.54\\n   </td>\\n   <td>\\n    9.44\\n   </td>\\n   <td>\\n    4.78\\n   </td>\\n   <td>\\n    2.91\\n   </td>\\n   <td style=\"border-left-width:2px;\">\\n    3807\\n   </td>\\n   <td>\\n    <span class=\"flagicon\">\\n     <span class=\"mw-image-border\" typeof=\"mw:File\">\\n      <a href=\"/wiki/Georgia_(country)\" title=\"Georgia (country)\">\\n       <img alt=\"Georgia (country)\" class=\"mw-file-element\" data-file-height=\"600\" data-file-width=\"900\" decoding=\"async\" height=\"15\" src=\"//upload.wikimedia.org/wikipedia/commons/thumb/0/0f/Flag_of_Georgia.svg/23px-Flag_of_Georgia.svg.png\" srcset=\"//upload.wikimedia.org/wikipedia/commons/thumb/0/0f/Flag_of_Georgia.svg/35px-Flag_of_Georgia.svg.png 1.5x, //upload.wikimedia.org/wikipedia/commons/thumb/0/0f/Flag_of_Georgia.svg/45px-Flag_of_Georgia.svg.png 2x\" width=\"23\"/>\\n      </a>\\n     </span>\\n    </span>\\n   </td>\\n  </tr>\\n  <tr>\\n   <td>\\n    <span class=\"flagicon\" style=\"display:inline-block;width:25px;\">\\n     <span class=\"mw-image-border\" typeof=\"mw:File\">\\n      <span>\\n       <img alt=\"\" class=\"mw-file-element\" data-file-height=\"600\" data-file-width=\"1200\" decoding=\"async\" height=\"12\" src=\"//upload.wikimedia.org/wikipedia/commons/thumb/8/85/Flag_of_Belarus.svg/23px-Flag_of_Belarus.svg.png\" srcset=\"//upload.wikimedia.org/wikipedia/commons/thumb/8/85/Flag_of_Belarus.svg/35px-Flag_of_Belarus.svg.png 1.5x, //upload.wikimedia.org/wikipedia/commons/thumb/8/85/Flag_of_Belarus.svg/46px-Flag_of_Belarus.svg.png 2x\" width=\"23\"/>\\n      </span>\\n     </span>\\n    </span>\\n    <a href=\"/wiki/Belarus\" title=\"Belarus\">\\n     Belarus\\n    </a>\\n   </td>\\n   <td style=\"background:#e0ffd8;\">\\n    74.43\\n   </td>\\n   <td>\\n    0.25\\n   </td>\\n   <td style=\"background:#e0ffd8;\">\\n    59.69\\n   </td>\\n   <td>\\n    6.50\\n   </td>\\n   <td style=\"background:#e0ffd8;\">\\n    16.19\\n   </td>\\n   <td>\\n    5.94\\n   </td>\\n   <td style=\"background:#e0ffd8;\">\\n    7.13\\n   </td>\\n   <td style=\"background:#eaf3ff;border-left-width:2px;\">\\n    69.53\\n   </td>\\n   <td style=\"background:#eaf3ff;\">\\n    54.80\\n   </td>\\n   <td style=\"background:#eaf3ff;\">\\n    13.43\\n   </td>\\n   <td style=\"background:#eaf3ff;\">\\n    6.22\\n   </td>\\n   <td style=\"background:#fee7f6;border-left-width:2px;\">\\n    79.06\\n   </td>\\n   <td style=\"background:#fee7f6;\">\\n    64.30\\n   </td>\\n   <td style=\"background:#fee7f6;\">\\n    18.01\\n   </td>\\n   <td style=\"background:#fee7f6;\">\\n    7.46\\n   </td>\\n   <td style=\"border-left-width:2px;\">\\n    9.53\\n   </td>\\n   <td>\\n    9.49\\n   </td>\\n   <td>\\n    4.58\\n   </td>\\n   <td>\\n    1.24\\n   </td>\\n   <td style=\"border-left-width:2px;\">\\n    9116\\n   </td>\\n   <td>\\n    <span class=\"flagicon\">\\n     <span class=\"mw-image-border\" typeof=\"mw:File\">\\n      <a href=\"/wiki/Belarus\" title=\"Belarus\">\\n       <img alt=\"Belarus\" class=\"mw-file-element\" data-file-height=\"600\" data-file-width=\"1200\" decoding=\"async\" height=\"12\" src=\"//upload.wikimedia.org/wikipedia/commons/thumb/8/85/Flag_of_Belarus.svg/23px-Flag_of_Belarus.svg.png\" srcset=\"//upload.wikimedia.org/wikipedia/commons/thumb/8/85/Flag_of_Belarus.svg/35px-Flag_of_Belarus.svg.png 1.5x, //upload.wikimedia.org/wikipedia/commons/thumb/8/85/Flag_of_Belarus.svg/46px-Flag_of_Belarus.svg.png 2x\" width=\"23\"/>\\n      </a>\\n     </span>\\n    </span>\\n   </td>\\n  </tr>\\n  <tr>\\n   <td>\\n    <span class=\"flagicon\" style=\"display:inline-block;width:25px;\">\\n     <span class=\"mw-image-border\" typeof=\"mw:File\">\\n      <span>\\n       <img alt=\"\" class=\"mw-file-element\" data-file-height=\"600\" data-file-width=\"1200\" decoding=\"async\" height=\"12\" src=\"//upload.wikimedia.org/wikipedia/commons/thumb/d/dd/Flag_of_Azerbaijan.svg/23px-Flag_of_Azerbaijan.svg.png\" srcset=\"//upload.wikimedia.org/wikipedia/commons/thumb/d/dd/Flag_of_Azerbaijan.svg/35px-Flag_of_Azerbaijan.svg.png 1.5x, //upload.wikimedia.org/wikipedia/commons/thumb/d/dd/Flag_of_Azerbaijan.svg/46px-Flag_of_Azerbaijan.svg.png 2x\" width=\"23\"/>\\n      </span>\\n     </span>\\n    </span>\\n    <a href=\"/wiki/Azerbaijan\" title=\"Azerbaijan\">\\n     Azerbaijan\\n    </a>\\n   </td>\\n   <td style=\"background:#e0ffd8;\">\\n    74.43\\n   </td>\\n   <td>\\n    1.50\\n   </td>\\n   <td style=\"background:#e0ffd8;\">\\n    60.93\\n   </td>\\n   <td>\\n    4.44\\n   </td>\\n   <td style=\"background:#e0ffd8;\">\\n    15.38\\n   </td>\\n   <td>\\n    6.19\\n   </td>\\n   <td style=\"background:#e0ffd8;\">\\n    6.57\\n   </td>\\n   <td style=\"background:#eaf3ff;border-left-width:2px;\">\\n    71.56\\n   </td>\\n   <td style=\"background:#eaf3ff;\">\\n    58.15\\n   </td>\\n   <td style=\"background:#eaf3ff;\">\\n    13.80\\n   </td>\\n   <td style=\"background:#eaf3ff;\">\\n    5.90\\n   </td>\\n   <td style=\"background:#fee7f6;border-left-width:2px;\">\\n    77.13\\n   </td>\\n   <td style=\"background:#fee7f6;\">\\n    63.53\\n   </td>\\n   <td style=\"background:#fee7f6;\">\\n    16.63\\n   </td>\\n   <td style=\"background:#fee7f6;\">\\n    6.95\\n   </td>\\n   <td style=\"border-left-width:2px;\">\\n    5.57\\n   </td>\\n   <td>\\n    5.38\\n   </td>\\n   <td>\\n    2.83\\n   </td>\\n   <td>\\n    1.05\\n   </td>\\n   <td style=\"border-left-width:2px;\">\\n    10318\\n   </td>\\n   <td>\\n    <span class=\"flagicon\">\\n     <span class=\"mw-image-border\" typeof=\"mw:File\">\\n      <a href=\"/wiki/Azerbaijan\" title=\"Azerbaijan\">\\n       <img alt=\"Azerbaijan\" class=\"mw-file-element\" data-file-height=\"600\" data-file-width=\"1200\" decoding=\"async\" height=\"12\" src=\"//upload.wikimedia.org/wikipedia/commons/thumb/d/dd/Flag_of_Azerbaijan.svg/23px-Flag_of_Azerbaijan.svg.png\" srcset=\"//upload.wikimedia.org/wikipedia/commons/thumb/d/dd/Flag_of_Azerbaijan.svg/35px-Flag_of_Azerbaijan.svg.png 1.5x, //upload.wikimedia.org/wikipedia/commons/thumb/d/dd/Flag_of_Azerbaijan.svg/46px-Flag_of_Azerbaijan.svg.png 2x\" width=\"23\"/>\\n      </a>\\n     </span>\\n    </span>\\n   </td>\\n  </tr>\\n  <tr>\\n   <td>\\n    <span class=\"flagicon\" style=\"display:inline-block;width:25px;\">\\n     <span class=\"mw-image-border\" typeof=\"mw:File\">\\n      <span>\\n       <img alt=\"\" class=\"mw-file-element\" data-file-height=\"800\" data-file-width=\"1200\" decoding=\"async\" height=\"15\" src=\"//upload.wikimedia.org/wikipedia/commons/thumb/4/49/Flag_of_Ukraine.svg/23px-Flag_of_Ukraine.svg.png\" srcset=\"//upload.wikimedia.org/wikipedia/commons/thumb/4/49/Flag_of_Ukraine.svg/35px-Flag_of_Ukraine.svg.png 1.5x, //upload.wikimedia.org/wikipedia/commons/thumb/4/49/Flag_of_Ukraine.svg/45px-Flag_of_Ukraine.svg.png 2x\" width=\"23\"/>\\n      </span>\\n     </span>\\n    </span>\\n    <a href=\"/wiki/Ukraine\" title=\"Ukraine\">\\n     Ukraine\\n    </a>\\n   </td>\\n   <td style=\"background:#e0ffd8;\">\\n    73.42\\n   </td>\\n   <td>\\n    0.62\\n   </td>\\n   <td style=\"background:#e0ffd8;\">\\n    59.04\\n   </td>\\n   <td>\\n    8.83\\n   </td>\\n   <td style=\"background:#e0ffd8;\">\\n    17.87\\n   </td>\\n   <td>\\n    7.01\\n   </td>\\n   <td style=\"background:#e0ffd8;\">\\n    9.88\\n   </td>\\n   <td style=\"background:#eaf3ff;border-left-width:2px;\">\\n    66.90\\n   </td>\\n   <td style=\"background:#eaf3ff;\">\\n    52.52\\n   </td>\\n   <td style=\"background:#eaf3ff;\">\\n    14.74\\n   </td>\\n   <td style=\"background:#eaf3ff;\">\\n    8.37\\n   </td>\\n   <td style=\"background:#fee7f6;border-left-width:2px;\">\\n    80.20\\n   </td>\\n   <td style=\"background:#fee7f6;\">\\n    65.81\\n   </td>\\n   <td style=\"background:#fee7f6;\">\\n    19.91\\n   </td>\\n   <td style=\"background:#fee7f6;\">\\n    10.48\\n   </td>\\n   <td style=\"border-left-width:2px;\">\\n    13.30\\n   </td>\\n   <td>\\n    13.29\\n   </td>\\n   <td>\\n    5.17\\n   </td>\\n   <td>\\n    2.11\\n   </td>\\n   <td style=\"border-left-width:2px;\">\\n    37733\\n   </td>\\n   <td>\\n    <span class=\"flagicon\">\\n     <span class=\"mw-image-border\" typeof=\"mw:File\">\\n      <a href=\"/wiki/Ukraine\" title=\"Ukraine\">\\n       <img alt=\"Ukraine\" class=\"mw-file-element\" data-file-height=\"800\" data-file-width=\"1200\" decoding=\"async\" height=\"15\" src=\"//upload.wikimedia.org/wikipedia/commons/thumb/4/49/Flag_of_Ukraine.svg/23px-Flag_of_Ukraine.svg.png\" srcset=\"//upload.wikimedia.org/wikipedia/commons/thumb/4/49/Flag_of_Ukraine.svg/35px-Flag_of_Ukraine.svg.png 1.5x, //upload.wikimedia.org/wikipedia/commons/thumb/4/49/Flag_of_Ukraine.svg/45px-Flag_of_Ukraine.svg.png 2x\" width=\"23\"/>\\n      </a>\\n     </span>\\n    </span>\\n   </td>\\n  </tr>\\n  <tr class=\"static-row-header\">\\n   <td>\\n    <b>\\n     World\\n    </b>\\n   </td>\\n   <td style=\"background:#e0ffd8;\">\\n    <b>\\n     73.17\\n    </b>\\n   </td>\\n   <td>\\n    <b>\\n     3.29\\n    </b>\\n   </td>\\n   <td style=\"background:#e0ffd8;\">\\n    <b>\\n     61.46\\n    </b>\\n   </td>\\n   <td>\\n    <b>\\n     6.11\\n    </b>\\n   </td>\\n   <td style=\"background:#e0ffd8;\">\\n    <b>\\n     17.57\\n    </b>\\n   </td>\\n   <td>\\n    <b>\\n     5.75\\n    </b>\\n   </td>\\n   <td style=\"background:#e0ffd8;\">\\n    <b>\\n     8.31\\n    </b>\\n   </td>\\n   <td style=\"background:#eaf3ff;border-left-width:2px;\">\\n    <b>\\n     70.55\\n    </b>\\n   </td>\\n   <td style=\"background:#eaf3ff;\">\\n    <b>\\n     58.91\\n    </b>\\n   </td>\\n   <td style=\"background:#eaf3ff;\">\\n    <b>\\n     16.01\\n    </b>\\n   </td>\\n   <td style=\"background:#eaf3ff;\">\\n    <b>\\n     7.43\\n    </b>\\n   </td>\\n   <td style=\"background:#fee7f6;border-left-width:2px;\">\\n    <b>\\n     75.89\\n    </b>\\n   </td>\\n   <td style=\"background:#fee7f6;\">\\n    <b>\\n     64.09\\n    </b>\\n   </td>\\n   <td style=\"background:#fee7f6;\">\\n    <b>\\n     18.98\\n    </b>\\n   </td>\\n   <td style=\"background:#fee7f6;\">\\n    <b>\\n     8.96\\n    </b>\\n   </td>\\n   <td style=\"border-left-width:2px;\">\\n    <b>\\n     5.34\\n    </b>\\n   </td>\\n   <td>\\n    <b>\\n     5.18\\n    </b>\\n   </td>\\n   <td>\\n    <b>\\n     2.97\\n    </b>\\n   </td>\\n   <td>\\n    <b>\\n     1.53\\n    </b>\\n   </td>\\n   <td style=\"border-left-width:2px;\">\\n    <b>\\n     8091735\\n    </b>\\n   </td>\\n   <td>\\n   </td>\\n  </tr>\\n  <tr>\\n   <td>\\n    <span class=\"flagicon\" style=\"display:inline-block;width:25px;\">\\n     <span class=\"mw-image-border\" typeof=\"mw:File\">\\n      <span>\\n       <img alt=\"\" class=\"mw-file-element\" data-file-height=\"600\" data-file-width=\"900\" decoding=\"async\" height=\"15\" src=\"//upload.wikimedia.org/wikipedia/en/thumb/f/f3/Flag_of_Russia.svg/23px-Flag_of_Russia.svg.png\" srcset=\"//upload.wikimedia.org/wikipedia/en/thumb/f/f3/Flag_of_Russia.svg/35px-Flag_of_Russia.svg.png 1.5x, //upload.wikimedia.org/wikipedia/en/thumb/f/f3/Flag_of_Russia.svg/45px-Flag_of_Russia.svg.png 2x\" width=\"23\"/>\\n      </span>\\n     </span>\\n    </span>\\n    <a href=\"/wiki/Russia\" title=\"Russia\">\\n     Russia\\n    </a>\\n   </td>\\n   <td style=\"background:#e0ffd8;\">\\n    73.15\\n   </td>\\n   <td>\\n    0.43\\n   </td>\\n   <td style=\"background:#e0ffd8;\">\\n    58.59\\n   </td>\\n   <td>\\n    8.54\\n   </td>\\n   <td style=\"background:#e0ffd8;\">\\n    17.12\\n   </td>\\n   <td>\\n    6.46\\n   </td>\\n   <td style=\"background:#e0ffd8;\">\\n    8.58\\n   </td>\\n   <td style=\"background:#eaf3ff;border-left-width:2px;\">\\n    67.26\\n   </td>\\n   <td style=\"background:#eaf3ff;\">\\n    52.70\\n   </td>\\n   <td style=\"background:#eaf3ff;\">\\n    14.37\\n   </td>\\n   <td style=\"background:#eaf3ff;\">\\n    7.54\\n   </td>\\n   <td style=\"background:#fee7f6;border-left-width:2px;\">\\n    79.04\\n   </td>\\n   <td style=\"background:#fee7f6;\">\\n    64.44\\n   </td>\\n   <td style=\"background:#fee7f6;\">\\n    18.88\\n   </td>\\n   <td style=\"background:#fee7f6;\">\\n    8.98\\n   </td>\\n   <td style=\"border-left-width:2px;\">\\n    11.78\\n   </td>\\n   <td>\\n    11.74\\n   </td>\\n   <td>\\n    4.51\\n   </td>\\n   <td>\\n    1.44\\n   </td>\\n   <td style=\"border-left-width:2px;\">\\n    145440\\n   </td>\\n   <td>\\n    <span class=\"flagicon\">\\n     <span class=\"mw-image-border\" typeof=\"mw:File\">\\n      <a href=\"/wiki/Russia\" title=\"Russia\">\\n       <img alt=\"Russia\" class=\"mw-file-element\" data-file-height=\"600\" data-file-width=\"900\" decoding=\"async\" height=\"15\" src=\"//upload.wikimedia.org/wikipedia/en/thumb/f/f3/Flag_of_Russia.svg/23px-Flag_of_Russia.svg.png\" srcset=\"//upload.wikimedia.org/wikipedia/en/thumb/f/f3/Flag_of_Russia.svg/35px-Flag_of_Russia.svg.png 1.5x, //upload.wikimedia.org/wikipedia/en/thumb/f/f3/Flag_of_Russia.svg/45px-Flag_of_Russia.svg.png 2x\" width=\"23\"/>\\n      </a>\\n     </span>\\n    </span>\\n   </td>\\n  </tr>\\n  <tr>\\n   <td>\\n    <span class=\"flagicon\" style=\"display:inline-block;width:25px;\">\\n     <span class=\"mw-image-border\" typeof=\"mw:File\">\\n      <span>\\n       <img alt=\"\" class=\"mw-file-element\" data-file-height=\"900\" data-file-width=\"1800\" decoding=\"async\" height=\"12\" src=\"//upload.wikimedia.org/wikipedia/commons/thumb/2/27/Flag_of_Moldova.svg/23px-Flag_of_Moldova.svg.png\" srcset=\"//upload.wikimedia.org/wikipedia/commons/thumb/2/27/Flag_of_Moldova.svg/35px-Flag_of_Moldova.svg.png 1.5x, //upload.wikimedia.org/wikipedia/commons/thumb/2/27/Flag_of_Moldova.svg/46px-Flag_of_Moldova.svg.png 2x\" width=\"23\"/>\\n      </span>\\n     </span>\\n    </span>\\n    <a href=\"/wiki/Moldova\" title=\"Moldova\">\\n     Moldova\\n    </a>\\n   </td>\\n   <td style=\"background:#e0ffd8;\">\\n    71.20\\n   </td>\\n   <td>\\n    1.12\\n   </td>\\n   <td style=\"background:#e0ffd8;\">\\n    57.32\\n   </td>\\n   <td>\\n    7.38\\n   </td>\\n   <td style=\"background:#e0ffd8;\">\\n    14.70\\n   </td>\\n   <td>\\n    7.25\\n   </td>\\n   <td style=\"background:#e0ffd8;\">\\n    6.95\\n   </td>\\n   <td style=\"background:#eaf3ff;border-left-width:2px;\">\\n    66.57\\n   </td>\\n   <td style=\"background:#eaf3ff;\">\\n    52.73\\n   </td>\\n   <td style=\"background:#eaf3ff;\">\\n    12.26\\n   </td>\\n   <td style=\"background:#eaf3ff;\">\\n    5.39\\n   </td>\\n   <td style=\"background:#fee7f6;border-left-width:2px;\">\\n    75.53\\n   </td>\\n   <td style=\"background:#fee7f6;\">\\n    61.59\\n   </td>\\n   <td style=\"background:#fee7f6;\">\\n    16.35\\n   </td>\\n   <td style=\"background:#fee7f6;\">\\n    7.61\\n   </td>\\n   <td style=\"border-left-width:2px;\">\\n    8.97\\n   </td>\\n   <td>\\n    8.86\\n   </td>\\n   <td>\\n    4.09\\n   </td>\\n   <td>\\n    2.22\\n   </td>\\n   <td style=\"border-left-width:2px;\">\\n    3067\\n   </td>\\n   <td>\\n    <span class=\"flagicon\">\\n     <span class=\"mw-image-border\" typeof=\"mw:File\">\\n      <a href=\"/wiki/Moldova\" title=\"Moldova\">\\n       <img alt=\"Moldova\" class=\"mw-file-element\" data-file-height=\"900\" data-file-width=\"1800\" decoding=\"async\" height=\"12\" src=\"//upload.wikimedia.org/wikipedia/commons/thumb/2/27/Flag_of_Moldova.svg/23px-Flag_of_Moldova.svg.png\" srcset=\"//upload.wikimedia.org/wikipedia/commons/thumb/2/27/Flag_of_Moldova.svg/35px-Flag_of_Moldova.svg.png 1.5x, //upload.wikimedia.org/wikipedia/commons/thumb/2/27/Flag_of_Moldova.svg/46px-Flag_of_Moldova.svg.png 2x\" width=\"23\"/>\\n      </a>\\n     </span>\\n    </span>\\n   </td>\\n  </tr>\\n </tbody>\\n</table>\\n'"
            ]
          },
          "execution_count": 8,
          "metadata": {},
          "output_type": "execute_result"
        }
      ],
      "source": [
        "tabla.prettify()"
      ]
    },
    {
      "cell_type": "code",
      "execution_count": 9,
      "metadata": {
        "colab": {
          "base_uri": "https://localhost:8080/"
        },
        "id": "rPa-nNn-zZ61",
        "outputId": "8cc11094-db92-4c91-da2b-955a399665bf"
      },
      "outputs": [
        {
          "name": "stdout",
          "output_type": "stream",
          "text": [
            "<table class=\"wikitable sortable mw-datatable static-row-numbers sticky-header-multi sort-under col1left col21right\" style=\"text-align:center;\">\n",
            " <tbody>\n",
            "  <tr>\n",
            "   <th rowspan=\"2\" style=\"vertical-align:middle;\">\n",
            "    Countries and\n",
            "    <br/>\n",
            "    territories\n",
            "   </th>\n",
            "   <th colspan=\"7\">\n",
            "    Life expectancy for population in general\n",
            "   </th>\n",
            "   <th colspan=\"4\" style=\"border-left-width:2px;\">\n",
            "    Life expectancy for male\n",
            "   </th>\n",
            "   <th colspan=\"4\" style=\"border-left-width:2px;\">\n",
            "    Life expectancy for female\n",
            "   </th>\n",
            "   <th colspan=\"4\" style=\"border-left-width:2px;\">\n",
            "    <style data-mw-deduplicate=\"TemplateStyles:r1038841319\">\n",
            "     .mw-parser-output .tooltip-dotted{border-bottom:1px dotted;cursor:help}\n",
            "    </style>\n",
            "    <span class=\"rt-commentedText tooltip tooltip-dotted\" title=\"Difference in life expectancy for female and male\">\n",
            "     Sex gap\n",
            "    </span>\n",
            "   </th>\n",
            "   <th rowspan=\"2\" style=\"border-left-width:2px; text-align:middle;\">\n",
            "    <link href=\"mw-data:TemplateStyles:r1038841319\" rel=\"\n"
          ]
        }
      ],
      "source": [
        "print(tabla.prettify()[:1000])"
      ]
    },
    {
      "cell_type": "code",
      "execution_count": null,
      "metadata": {
        "colab": {
          "base_uri": "https://localhost:8080/"
        },
        "id": "WEo8yLJ3gT4N",
        "outputId": "72ed4e6b-8821-4514-f950-640441492ce7"
      },
      "outputs": [],
      "source": [
        "# Filas de la tabla\n",
        "filas = tabla.find_all('tr') # tr --> table row\n",
        "len(filas) #Acordaros que vimos que find all nos devolvía una lista con todos los elementos encontrados"
      ]
    },
    {
      "cell_type": "code",
      "execution_count": null,
      "metadata": {
        "colab": {
          "base_uri": "https://localhost:8080/",
          "height": 138
        },
        "id": "zDQ7Zb8HHqZq",
        "outputId": "efde33b1-637b-4f61-f227-73f8bf17fb37"
      },
      "outputs": [],
      "source": [
        "type(filas) # ResultSet es una lista"
      ]
    },
    {
      "cell_type": "markdown",
      "metadata": {
        "id": "288MA6b0H5sD"
      },
      "source": [
        "Al ser una lista puedo recorrer cada elemento."
      ]
    },
    {
      "cell_type": "code",
      "execution_count": null,
      "metadata": {
        "colab": {
          "base_uri": "https://localhost:8080/",
          "height": 35
        },
        "id": "RCuFTQUkH-TE",
        "outputId": "4ffe0c0c-15f4-4169-f64b-8dfdb2421828"
      },
      "outputs": [],
      "source": [
        "# Texto del primer elemento de la lista\n",
        "filas[0].text"
      ]
    },
    {
      "cell_type": "code",
      "execution_count": null,
      "metadata": {
        "colab": {
          "base_uri": "https://localhost:8080/"
        },
        "id": "wc5RxlqMIUSw",
        "outputId": "0cd01213-e5a7-4cca-b062-d8c362384bea"
      },
      "outputs": [],
      "source": [
        "print(filas[0].text)"
      ]
    },
    {
      "cell_type": "code",
      "execution_count": null,
      "metadata": {
        "colab": {
          "base_uri": "https://localhost:8080/"
        },
        "id": "a-oUQjmggT4S",
        "outputId": "61f61b38-ce3c-4956-aee2-501f8b1f11a2"
      },
      "outputs": [],
      "source": [
        "# texto de cada fila solo para los 3 primeros elementos\n",
        "for f in filas[:3]:\n",
        "    print(type(f.text), f.text)\n",
        "    print('-----------------')"
      ]
    },
    {
      "cell_type": "code",
      "execution_count": null,
      "metadata": {
        "colab": {
          "base_uri": "https://localhost:8080/"
        },
        "id": "VnjRv18KOeCn",
        "outputId": "2ecf5cf0-e01e-4b7a-b29d-451e83ba74ea"
      },
      "outputs": [],
      "source": [
        "#vamos a sacar el texto de 3 primeros elementos del cuerpo de la tabla\n",
        "for f in filas[2:5]:\n",
        "    print(type(f.text), f.text)\n",
        "    print('-----------------')"
      ]
    },
    {
      "cell_type": "code",
      "execution_count": null,
      "metadata": {
        "colab": {
          "base_uri": "https://localhost:8080/"
        },
        "id": "SO613PGA2hTy",
        "outputId": "d1809f41-56e7-4953-db9c-4d04a1dec0c2"
      },
      "outputs": [],
      "source": [
        "f.text.split('\\n')"
      ]
    },
    {
      "cell_type": "code",
      "execution_count": null,
      "metadata": {
        "colab": {
          "base_uri": "https://localhost:8080/"
        },
        "id": "hOezc_JRgT4T",
        "outputId": "b159c188-1e69-4ff5-dd2a-df790c4758a3"
      },
      "outputs": [],
      "source": [
        "# Hagamos una lista, que contenga una lista por fila\n",
        "# strip() --> quita los espacios que haya delante y detrás del texto\n",
        "# split() --> va a separar la lista por la secuencia de caracteres '\\n' para hacer una lista\n",
        "filas_limpias = [f.text.strip().split('\\n') for f in filas]\n",
        "filas_limpias[:5]"
      ]
    },
    {
      "cell_type": "code",
      "execution_count": null,
      "metadata": {
        "colab": {
          "base_uri": "https://localhost:8080/"
        },
        "id": "MA9Y5JohgT4U",
        "outputId": "34af5ac6-9c97-4c41-dc9f-c587ded74383"
      },
      "outputs": [],
      "source": [
        "# La primera fila es la cabecera, y hay que limpiar los espacios en blanco\n",
        "cabecera = filas_limpias[0]\n",
        "cabecera"
      ]
    },
    {
      "cell_type": "code",
      "execution_count": null,
      "metadata": {
        "colab": {
          "base_uri": "https://localhost:8080/"
        },
        "id": "ZQ2HIJ1mgT4U",
        "outputId": "cab3a236-daf5-4c68-f791-7f633cb3cfd5"
      },
      "outputs": [],
      "source": [
        "# vamos a arreglarlo\n",
        "final = [] # aquí el resultado final limpio\n",
        "for fila in filas_limpias:\n",
        "    tmp = [] # lista vacía temporal\n",
        "    for elemento in fila:\n",
        "        if elemento != '':\n",
        "            tmp.append(elemento)\n",
        "    final.append(tmp)\n",
        "\n",
        "final[:5]"
      ]
    },
    {
      "cell_type": "markdown",
      "metadata": {
        "id": "uu7kxXWbLhXL"
      },
      "source": [
        "Hasta ahora hemos cogido la información contenida en una página que tiene una tabla. Hemos identificado la tabla y hemos accedido a ella. Con `find()` hemos buscado la etiqueta que nos interesa para ello (`<table>`). Una vez obtenido el HTML únicamente de la tabla lo hemos traducido para que sea algo más legible y hemos arreglado su contenido para poder llegar al siguiente paso: crear nuestro DataFrame."
      ]
    },
    {
      "cell_type": "code",
      "execution_count": null,
      "metadata": {
        "colab": {
          "base_uri": "https://localhost:8080/"
        },
        "id": "TkYdEju_MGYb",
        "outputId": "7834f67d-87a0-4669-94c9-59bbc3e06e1e"
      },
      "outputs": [],
      "source": [
        "final[0] # primer elemento de la lista final"
      ]
    },
    {
      "cell_type": "code",
      "execution_count": null,
      "metadata": {
        "colab": {
          "base_uri": "https://localhost:8080/"
        },
        "id": "r-R5kDpYMKz2",
        "outputId": "81bc705a-b74e-4516-bb6c-770395c2a4fc"
      },
      "outputs": [],
      "source": [
        "final[1] # segundo elemento de la lista final"
      ]
    },
    {
      "cell_type": "code",
      "execution_count": null,
      "metadata": {
        "colab": {
          "base_uri": "https://localhost:8080/"
        },
        "id": "pbCKKHNoNFXm",
        "outputId": "46476c1a-d3e2-4297-b8bd-a5eb06249334"
      },
      "outputs": [],
      "source": [
        "final[2]"
      ]
    },
    {
      "cell_type": "markdown",
      "metadata": {
        "id": "Qp3PjORtMT29"
      },
      "source": [
        "Para poder crear el DataFrame a partir de listas es necesario que todas ellas tengan la **misma cantidad de elementos**, tanto la que dará nombre a las columnas como la que contendrá la información de las filas."
      ]
    },
    {
      "cell_type": "code",
      "execution_count": null,
      "metadata": {
        "id": "94G8HZf6gT4V",
        "scrolled": true
      },
      "outputs": [],
      "source": [
        "import pandas as pd"
      ]
    },
    {
      "cell_type": "code",
      "execution_count": null,
      "metadata": {
        "colab": {
          "base_uri": "https://localhost:8080/"
        },
        "id": "0EGnZXmPOWOB",
        "outputId": "d29827c7-8e85-4b80-8d7e-02d338ef85bd"
      },
      "outputs": [],
      "source": [
        "nombres_columnas = final[1] # la primera fila la omitimos, nos quedamos la segunda, pero tenemos que arreglarla\n",
        "nombres_columnas"
      ]
    },
    {
      "cell_type": "code",
      "execution_count": null,
      "metadata": {
        "id": "yOocVIrVNwpB"
      },
      "outputs": [],
      "source": [
        "data = final[2:] # desde la primera fila con información, la de Liechtenstein, hasta el final"
      ]
    },
    {
      "cell_type": "code",
      "execution_count": null,
      "metadata": {
        "colab": {
          "base_uri": "https://localhost:8080/"
        },
        "id": "KR-dANMXT0yl",
        "outputId": "c5544ea4-f583-4a7f-80ef-687a906b690b"
      },
      "outputs": [],
      "source": [
        "len(data[0]), len(nombres_columnas) # las filas tienen info para más columnas que la lista que dará nombre a las columnas..."
      ]
    },
    {
      "cell_type": "markdown",
      "metadata": {
        "id": "Nmeyr3MVOEFk"
      },
      "source": [
        "En este caso no coinciden. Así que tendremos que hacer algún pequeño arreglo extra antes de conseguir hacer el DataFrame."
      ]
    },
    {
      "cell_type": "code",
      "execution_count": null,
      "metadata": {
        "colab": {
          "base_uri": "https://localhost:8080/"
        },
        "id": "n2xzsy-W4o0t",
        "outputId": "fbd71b04-5ad0-4f99-fff2-e9c5d0568382"
      },
      "outputs": [],
      "source": [
        "nombres_columnas"
      ]
    },
    {
      "cell_type": "code",
      "execution_count": null,
      "metadata": {
        "colab": {
          "base_uri": "https://localhost:8080/"
        },
        "id": "VeNLWufg4vo9",
        "outputId": "f9c06485-d694-4030-dd41-282160e037a7"
      },
      "outputs": [],
      "source": [
        "data[0]"
      ]
    },
    {
      "cell_type": "code",
      "execution_count": null,
      "metadata": {
        "id": "6ACbo801N58j"
      },
      "outputs": [],
      "source": [
        "nombres_columnas.insert(0, 'Country') # al añadir en primer lugar 'Country' ya tenemos tantos elementos como en el resto, que serán las filas"
      ]
    },
    {
      "cell_type": "code",
      "execution_count": null,
      "metadata": {
        "id": "5o75Z2ayNz8t"
      },
      "outputs": [],
      "source": [
        "df = pd.DataFrame(data, columns = nombres_columnas)"
      ]
    },
    {
      "cell_type": "code",
      "execution_count": null,
      "metadata": {
        "colab": {
          "base_uri": "https://localhost:8080/",
          "height": 397
        },
        "id": "ONidGtjCOrz7",
        "outputId": "328b47c0-7dfd-4f98-aca8-af93b355bd88"
      },
      "outputs": [],
      "source": [
        "df.head(10)"
      ]
    },
    {
      "cell_type": "code",
      "execution_count": null,
      "metadata": {},
      "outputs": [],
      "source": [
        "import requests as req\n"
      ]
    },
    {
      "cell_type": "code",
      "execution_count": null,
      "metadata": {
        "id": "2ejqDjY24_82"
      },
      "outputs": [],
      "source": [
        "#RETO\n",
        "\n",
        "#Vamos a escrapear la tabla de esta web --> https://en.wikipedia.org/wiki/List_of_countries_by_GNI_(nominal)_per_capita\n",
        "#Escrapeamos la primera tabla, y cuando lo tengamos vamos con la segunda\n",
        "#La salida debe ser un dataframe limpito,"
      ]
    },
    {
      "cell_type": "code",
      "execution_count": null,
      "metadata": {},
      "outputs": [],
      "source": [
        "html= req.get(https://en.wikipedia.org/wiki/List_of_countries_by_GNI_(nominal)_per_capita).tex"
      ]
    },
    {
      "cell_type": "markdown",
      "metadata": {
        "id": "NsICPsyhgT4V"
      },
      "source": [
        "# 4 - Geolocalizando una IP"
      ]
    },
    {
      "cell_type": "markdown",
      "metadata": {
        "id": "ES4P2UxbgT4W"
      },
      "source": [
        "**¿Dónde estoy?** --> https://tools.keycdn.com/geo\n",
        "\n",
        "Esta web nos da toda la información de la IP que introducimos."
      ]
    },
    {
      "cell_type": "code",
      "execution_count": null,
      "metadata": {
        "id": "9-WID9augT4W"
      },
      "outputs": [],
      "source": [
        "url='https://tools.keycdn.com/geo'"
      ]
    },
    {
      "cell_type": "code",
      "execution_count": null,
      "metadata": {
        "colab": {
          "base_uri": "https://localhost:8080/",
          "height": 512
        },
        "id": "e2RhYzKnZiU5",
        "outputId": "a7569eef-ae70-401f-f568-d481b99a7429"
      },
      "outputs": [],
      "source": [
        "html = req.get(url).content"
      ]
    },
    {
      "cell_type": "markdown",
      "metadata": {
        "id": "0o212XMXOWZq"
      },
      "source": [
        "WTF? Que ha pasado\n",
        "\n",
        "\n",
        "\n",
        "que es un [user agent] ??(https://www.zenrows.com/blog/user-agent-web-scraping#what-is)\n",
        "\n",
        "User agents for web scraping --> [link](https://useragentstring.com/pages/Browserlist/)"
      ]
    },
    {
      "cell_type": "code",
      "execution_count": null,
      "metadata": {
        "colab": {
          "base_uri": "https://localhost:8080/"
        },
        "id": "VNGbYtvtQgdx",
        "outputId": "473c3f0c-ef2c-4aea-8793-b075e9c27bdb"
      },
      "outputs": [],
      "source": [
        "headers = {'User-Agent': 'Mozilla/5.0 (Windows NT 10.0; Win64; x64) AppleWebKit/537.36 (KHTML, like Gecko) Chrome/111.0.0.0 Safari/537.36'}\n",
        "\n",
        "response = req.get('http://httpbin.org/headers', headers=headers)\n",
        "\n",
        "print(response.status_code)\n",
        "print(response.text)"
      ]
    },
    {
      "cell_type": "markdown",
      "metadata": {
        "id": "qnVniC95Qipo"
      },
      "source": [
        "Se ha tenido que añadir un diccionario que contiene 'User-agent'. Hay muchos sitios web que van a poner impedimentos para que podamos obtener la información a través del scrapeo. Estamos haciendo una petición sin cabecera y no puede identificar el navegador que se está utilizando para acceder.\n",
        "\n",
        "Cuando accedemos a una web pedimos acceso aportando mucha información en los metadatos: quién soy, dónde estoy...\n",
        "\n",
        "Al hacer un `get` a pelo no está la información del navegador, se nos detecta como bot y se nos corta el acceso.\n",
        "\n",
        "Esta información se contiene en lo que se llama **cabecera**. Tal como indico en el diccionario le estoy diciendo a esta web que estoy accediendo desde el navegador Mozilla en su versión 5.0. Estoy intentando sacar información de la web que, a priori, no debería poder sacar. Esta web pone un impedimento para ello, pero hay una solución, la cabecera (el **`header=`**).\n"
      ]
    },
    {
      "cell_type": "code",
      "execution_count": null,
      "metadata": {
        "id": "E-YrM1SUByEc"
      },
      "outputs": [],
      "source": [
        "http://httpbin.org/headers"
      ]
    },
    {
      "cell_type": "code",
      "execution_count": null,
      "metadata": {
        "id": "6j3UqATKBnf4"
      },
      "outputs": [],
      "source": [
        "https://useragentstring.com/pages/Browserlist/"
      ]
    },
    {
      "cell_type": "code",
      "execution_count": null,
      "metadata": {
        "colab": {
          "base_uri": "https://localhost:8080/"
        },
        "id": "ew2FY5DNB5VP",
        "outputId": "a322d427-6345-41ea-8f5e-37a63df1a603"
      },
      "outputs": [],
      "source": [
        "import requests\n",
        "\n",
        "headers = {'User-Agent': 'Mozilla/5.0 (Windows NT 10.0; Win64; x64) AppleWebKit/537.36 (KHTML, like Gecko) Chrome/111.0.0.0 Safari/537.36'}\n",
        "\n",
        "response = requests.get('http://httpbin.org/headers', headers=headers)\n",
        "\n",
        "print(response.status_code)\n",
        "print(response.text)\n"
      ]
    },
    {
      "cell_type": "code",
      "execution_count": null,
      "metadata": {
        "id": "SHgH4pRLgT4W"
      },
      "outputs": [],
      "source": [
        "# soup parseada para tener el HTML legible\n",
        "soup = bs(html, 'html.parser')"
      ]
    },
    {
      "cell_type": "code",
      "execution_count": null,
      "metadata": {
        "colab": {
          "base_uri": "https://localhost:8080/"
        },
        "id": "qEKVAmScDE7q",
        "outputId": "f229a793-6069-47dd-da34-0f91aae8028f"
      },
      "outputs": [],
      "source": [
        "print(soup.prettify()[:1000]) # con .prettify() lo que hago es poner el código todavía más legible, con indentación\n",
        "                       # .prettify() funciona distinto dentro que fuera de la función print()"
      ]
    },
    {
      "cell_type": "markdown",
      "metadata": {
        "id": "CkzN8HY5SanB"
      },
      "source": [
        "Utilizando el inspector en el navegador podemos activar el cursor y encontrar en qué parte del código HTML se encuentra el elemento que necesitamos. Una vez identificado lo buscamos en nuestra *sopa*"
      ]
    },
    {
      "cell_type": "code",
      "execution_count": null,
      "metadata": {
        "colab": {
          "base_uri": "https://localhost:8080/"
        },
        "id": "VO6TxR4hgT4W",
        "outputId": "f6e357fa-adac-4d89-b634-d76e6719704a"
      },
      "outputs": [],
      "source": [
        "print(soup.find('div', {'id': 'geoResult'}).prettify()) # conseguido con el inspector"
      ]
    },
    {
      "cell_type": "code",
      "execution_count": null,
      "metadata": {
        "id": "WqhSKq_hgT4X"
      },
      "outputs": [],
      "source": [
        "tabla = soup.find('div', {'id': 'geoResult'}) # le llamo tabla, pues acabará siendo nuestra tabla\n",
        "info = tabla.find('div', {'class': 'bg-light medium rounded p-3'}) # la información que tendrá la tabla está aquí"
      ]
    },
    {
      "cell_type": "markdown",
      "metadata": {
        "id": "Mu8CGLQ5H8hl"
      },
      "source": [
        "Ahora que ya sé dónde está la información que necesito y tengo una variable que la alberga puedo buscar más profundamente hasta poder extraer los datos que necesito.\n",
        "\n",
        "Toda la info la tengo dentro de ese div veo que lo tengo en una lista con la class='row mb-0'\n",
        "\n",
        "Pero cuidado porque hay dos clases iguales.\n",
        "\n",
        "Accedamos a info para que nos dé todos los dd que tenga la clase col-8 text-monospace. Así me va a dar todos los que hay con la misma etiqueta y la misma clase.\n",
        "\n",
        "Por comodidad de lectura del código esto lo guardamos en una variable que se llama detalles, al fin y al cabo son los detalles de la información que contendrá la tabla que estamos haciendo."
      ]
    },
    {
      "cell_type": "code",
      "execution_count": null,
      "metadata": {
        "id": "-MK75bafgT4X"
      },
      "outputs": [],
      "source": [
        "detalles = info.find_all('dd', {'class': 'col-8 text-monospace'}) #Elemento y añado tb la clase"
      ]
    },
    {
      "cell_type": "markdown",
      "metadata": {
        "id": "dHU3fTXjTP0o"
      },
      "source": [
        "Hago una lista con el texto que hay en cada elemento de detalles. Le llamo conexión pues son los detalles de la info de esa conexión IP."
      ]
    },
    {
      "cell_type": "code",
      "execution_count": null,
      "metadata": {
        "colab": {
          "base_uri": "https://localhost:8080/"
        },
        "id": "Fm55VC-CTK1r",
        "outputId": "4d6471fd-d1d2-40b2-bc87-135b1911bab0"
      },
      "outputs": [],
      "source": [
        "conexion = [e.text for e in detalles]\n",
        "conexion"
      ]
    },
    {
      "cell_type": "markdown",
      "metadata": {
        "id": "bv_CJdV8TU-X"
      },
      "source": [
        "Necesito hacer un diccionario. `<dd>` es la información de la conexión. `<dt>` tiene el nombre de cada una de las filas (es la columna de la izquierda). Por ello cojo esa información y lo uso como `keys`, mientras que lo que hemos hecho hasta ahora serán los `values`."
      ]
    },
    {
      "cell_type": "code",
      "execution_count": null,
      "metadata": {
        "colab": {
          "base_uri": "https://localhost:8080/"
        },
        "id": "gUjHX9JLgT4X",
        "outputId": "e22424be-a827-4e14-bbf1-906030fac802"
      },
      "outputs": [],
      "source": [
        "keys = [e.text for e in tabla.find_all('dt')]\n",
        "keys"
      ]
    },
    {
      "cell_type": "code",
      "execution_count": null,
      "metadata": {
        "id": "AwrIszcjgT4Y"
      },
      "outputs": [],
      "source": [
        "dicc = {k:v for k,v in zip(keys,conexion)} #me hago un diccionario con los datos de la conexion"
      ]
    },
    {
      "cell_type": "code",
      "execution_count": null,
      "metadata": {
        "colab": {
          "base_uri": "https://localhost:8080/"
        },
        "id": "0fSgtoOGgT4Y",
        "outputId": "772b641d-d806-497a-e694-b23f9324b0e1"
      },
      "outputs": [],
      "source": [
        "dicc"
      ]
    },
    {
      "cell_type": "code",
      "execution_count": null,
      "metadata": {
        "colab": {
          "base_uri": "https://localhost:8080/",
          "height": 425
        },
        "id": "MvYloUCxTrnb",
        "outputId": "ff29b4d1-1565-4ff7-b2f7-0e4a39b38baf"
      },
      "outputs": [],
      "source": [
        "import pandas as pd\n",
        "ip = pd.DataFrame(dicc, index = [0]) #al ser valores escalares hay que proporcionar índice\n",
        "                                     #al aportar índice se genera una única fila\n",
        "ip.T"
      ]
    },
    {
      "cell_type": "markdown",
      "metadata": {
        "id": "5h_BIGP-gT4Y"
      },
      "source": [
        "**Búsqueda según IP**\n",
        "\n",
        "https://tools.keycdn.com/geo?host=137.255.90.7"
      ]
    },
    {
      "cell_type": "code",
      "execution_count": null,
      "metadata": {
        "colab": {
          "base_uri": "https://localhost:8080/",
          "height": 106
        },
        "id": "Eqz4-fyqMSpK",
        "outputId": "976df58e-b80d-426e-ee21-cb1c71715dac"
      },
      "outputs": [],
      "source": [
        "#Mi url ha cambiado\n",
        "https://tools.keycdn.com/geo?host=88.30.60.7"
      ]
    },
    {
      "cell_type": "code",
      "execution_count": null,
      "metadata": {
        "id": "9IagFgwkgT4Y"
      },
      "outputs": [],
      "source": [
        "url='https://tools.keycdn.com/geo?host=137.255.90.7' #tengo parámetros en la direccion en funcion de la IP que busque...🤔\n",
        "\n",
        "html = req.get(url, headers = user_agent).content\n",
        "\n",
        "soup=bs(html, 'html.parser')"
      ]
    },
    {
      "cell_type": "markdown",
      "metadata": {
        "id": "-t-d9S5DcVlO"
      },
      "source": [
        "Es igual que antes, pues la estructura es la misma, primero saco todos los `<dd>`luego todos los `<dt>`"
      ]
    },
    {
      "cell_type": "code",
      "execution_count": null,
      "metadata": {
        "colab": {
          "base_uri": "https://localhost:8080/"
        },
        "id": "l2Yp0DsfgT4Z",
        "outputId": "5dc14f69-f824-464f-f78e-37b9316964c7"
      },
      "outputs": [],
      "source": [
        "tabla = soup.find('div', {'id': 'geoResult'})\n",
        "tabla.find_all('dd', {'class': 'col-8 text-monospace'})"
      ]
    },
    {
      "cell_type": "code",
      "execution_count": null,
      "metadata": {
        "colab": {
          "base_uri": "https://localhost:8080/"
        },
        "id": "U5J9BYQ3gT4Z",
        "outputId": "8d44539c-6d7d-4eb9-97c4-0562be7c8c7c"
      },
      "outputs": [],
      "source": [
        "tabla.find_all('dt')"
      ]
    },
    {
      "cell_type": "code",
      "execution_count": null,
      "metadata": {
        "colab": {
          "base_uri": "https://localhost:8080/",
          "height": 35
        },
        "id": "2bgpLk4mgT4a",
        "outputId": "0403f83d-a8c5-4b56-dfb1-2e7e19f8c1e5"
      },
      "outputs": [],
      "source": [
        "#'{:2.2f}'.format(12.5436363636363)  # formato en strings de numeros"
      ]
    },
    {
      "cell_type": "markdown",
      "metadata": {
        "id": "jUglsxN8dZZt"
      },
      "source": [
        "Puedo hacer una función que haga de golpe todo lo que hemos hecho hasta ahora con una dirección IP"
      ]
    },
    {
      "cell_type": "code",
      "execution_count": null,
      "metadata": {
        "id": "pK2XdziagT4a"
      },
      "outputs": [],
      "source": [
        "def geo(ip):\n",
        "\n",
        "    url = f'https://tools.keycdn.com/geo?host={ip}' #Dinamica en fucnion de la IP que quiero buscar\n",
        "\n",
        "    html = req.get(url, headers = user_agent).content\n",
        "\n",
        "    soup = bs(html, 'html.parser')\n",
        "\n",
        "    tabla = soup.find('div', {'id': 'geoResult'})\n",
        "\n",
        "    conexion = [e.text for e in tabla.find_all('dd', {'class': 'col-8 text-monospace'})]\n",
        "\n",
        "    return conexion"
      ]
    },
    {
      "cell_type": "markdown",
      "metadata": {
        "id": "_Ilrer74csRJ"
      },
      "source": [
        "Vimos que una url también puede tener diferentes parámetros. ¿Qué pasa si tengo una lista de IP de la que quiero obtener la información y hacerme un dataframe?"
      ]
    },
    {
      "cell_type": "code",
      "execution_count": null,
      "metadata": {
        "id": "jnkT--EwgT4a"
      },
      "outputs": [],
      "source": [
        "list_ip = ['137.255.90.7', '195.255.90.10', '177.255.21.7']"
      ]
    },
    {
      "cell_type": "code",
      "execution_count": null,
      "metadata": {
        "colab": {
          "base_uri": "https://localhost:8080/"
        },
        "id": "qELLrk9YgT4b",
        "outputId": "2c031c4c-7ede-4478-a985-fc805bfc8d99"
      },
      "outputs": [],
      "source": [
        "for ip in list_ip:\n",
        "    print(geo(ip))\n"
      ]
    },
    {
      "cell_type": "code",
      "execution_count": null,
      "metadata": {
        "id": "F0aIPB0XfLIU"
      },
      "outputs": [],
      "source": [
        "s# Inténtalo tú (alumnos)"
      ]
    },
    {
      "cell_type": "code",
      "execution_count": null,
      "metadata": {
        "id": "XbI46n3wksKi"
      },
      "outputs": [],
      "source": []
    },
    {
      "cell_type": "markdown",
      "metadata": {
        "id": "Hvc_PTwpgT4b"
      },
      "source": [
        "### Ejemplo LinkedIn"
      ]
    },
    {
      "cell_type": "code",
      "execution_count": null,
      "metadata": {
        "id": "wOMoYPt_gT4b"
      },
      "outputs": [],
      "source": [
        "#Vamos intentar scrapear Linkedin\n",
        "URL='https://www.linkedin.com/jobs/search/' #Esta es la direccion de la pagina de busqueda de empleo de Linkedin general"
      ]
    },
    {
      "cell_type": "markdown",
      "metadata": {
        "id": "DzzcjcpXgT4b"
      },
      "source": [
        "A esta direccion le podemos poner parametros para afinar nuestra búsqueda.\n",
        "\n",
        "URL = 'https://www.linkedin.com/jobs/search/?keywords=data&location=Madrid&refresh=true'\n",
        "\n",
        "`?keywords=data` nos dice que la palabra clave que queremos buscar es 'data'\n",
        "    \n",
        "`&location=Madrid` nos dice que queremos buscar en Madrid\n",
        "    \n",
        "`&refresh=true` nos dice que queremos que nos devuelva los resultados más recientes\n",
        "\n",
        "Podemos filtrar más nuestra búsqueda en la web y veremos que van apareciendo más ***parametros*** en la URL.\n",
        "\n",
        "`&f_TPR=r120960` nos dice que empleos de la ultima semana. El parámetro va en segundos así que 60 * 60 * 24 * número de días atrás que queremos buscar\n",
        "\n",
        "`&start={i*25}` donde i sería el número de página\n"
      ]
    },
    {
      "cell_type": "code",
      "execution_count": null,
      "metadata": {
        "id": "prrEF2s1gT4q"
      },
      "outputs": [],
      "source": [
        "#Vamos a intentar scrapear esta URL\n",
        "import requests as req\n",
        "from bs4 import BeautifulSoup as bs\n",
        "url = 'https://www.linkedin.com/jobs/search/?keywords=data&location=Espa%C3%B1a&refresh=true%27&position=1&pageNum=0'\n",
        "html = req.get(url).content\n",
        "soup=bs(html, 'html.parser')"
      ]
    },
    {
      "cell_type": "code",
      "execution_count": null,
      "metadata": {
        "id": "pkczZhLRKXia"
      },
      "outputs": [],
      "source": [
        "print(soup.prettify())"
      ]
    },
    {
      "cell_type": "code",
      "execution_count": null,
      "metadata": {
        "id": "qAtLZ1IdgT4r"
      },
      "outputs": [],
      "source": [
        "# Intentad sacar los ingredientes de la recete de esta sopa y obtener para cada oferta de trabajo:\n",
        "\n",
        "# - Titulo\n",
        "# - Empresa\n",
        "# - Ubicacion\n",
        "# - Link de la empresa\n",
        "# - Link de la oferta\n",
        "# - Fecha de publicacion"
      ]
    },
    {
      "cell_type": "code",
      "execution_count": null,
      "metadata": {
        "id": "ynO74U6VgT4r"
      },
      "outputs": [],
      "source": [
        "#Os recomiendo ir echando una ojeada al html y la sopa poco a poco para ver como esta estructurado\n",
        "#Lo primero que tendremos que buscar será el elemento que contiene todas las ofertas....🤔\n",
        "\n",
        "#PISTA -- base-search-card__info\n",
        "#De aqui en adelante vosotros solos, tened presente que querremos guardar toda esa info en un dataframe"
      ]
    },
    {
      "cell_type": "code",
      "execution_count": null,
      "metadata": {
        "id": "uq-oVWFghhgP"
      },
      "outputs": [],
      "source": [
        "h3_titulos = soup.find_all('h3',{'class': 'base-search-card__title'})\n",
        "titulos_ofertas = [h3.text.replace('\\n','').strip() for h3 in h3_titulos]\n",
        "titulos_ofertas"
      ]
    },
    {
      "cell_type": "code",
      "execution_count": null,
      "metadata": {
        "id": "s7kCHBM0QrNB"
      },
      "outputs": [],
      "source": [
        "titulos_ofertas[0].replace('\\n','').strip()"
      ]
    },
    {
      "cell_type": "code",
      "execution_count": null,
      "metadata": {
        "id": "r0qRtso-iYOk"
      },
      "outputs": [],
      "source": [
        "# - Titulo\n",
        "# - Empresa\n",
        "# - Ubicacion\n",
        "# - Link de la empresa\n",
        "# - Link de la oferta\n",
        "# - Fecha de publicacion"
      ]
    },
    {
      "cell_type": "code",
      "execution_count": null,
      "metadata": {
        "id": "pciYYF2H3Ssp"
      },
      "outputs": [],
      "source": [
        "# SOLUCION para el primer elemento que aparece\n",
        "import pandas as pd\n",
        "\n",
        "data=[]\n",
        "tabla = soup.find('div', {'class': 'base-search-card__info'})\n",
        "\n",
        "titulo = tabla.find('h3', {'class': 'base-search-card__title'}).text.split('–')[0].strip() # - Titulo .sprit() para quitar espacios\n",
        "empresa = tabla.find('h4', {'class': 'base-search-card__subtitle'}).text.strip()  # - Empresa\n",
        "ubicacion = tabla.find('span', {'class': 'job-search-card__location'}).text.strip() # - Ubicacion\n",
        "link_empresa = tabla.find('a', {'class': 'hidden-nested-link'})['href'].split('?')[0] # - Link de la empresa\n",
        "link_oferta = soup.find('a', {'class': 'base-card__full-link absolute top-0 right-0 bottom-0 left-0 p-0 z-[2]'})['href'] # - Link de la oferta\n",
        "fecha_publicacion = tabla.find('time')['datetime'].strip()  # - Fecha de publicacion\n",
        "\n",
        "print(titulo)\n",
        "print(empresa)\n",
        "print(ubicacion)\n",
        "print(link_empresa)\n",
        "print(link_oferta)\n",
        "print(fecha_publicacion)\n",
        "\n",
        "data.append({\n",
        "    'titulo': titulo,\n",
        "    'empresa': empresa,\n",
        "    'ubicacion': ubicacion,\n",
        "    'link_empresa': link_empresa,\n",
        "    'link_oferta': link_oferta,\n",
        "    'fecha': fecha_publicacion\n",
        "})\n",
        "\n",
        "display(pd.DataFrame(data))"
      ]
    },
    {
      "cell_type": "markdown",
      "metadata": {
        "id": "SPkBAJ9FhJhu"
      },
      "source": [
        "### REDDIT - https://www.reddit.com/r/Python/"
      ]
    },
    {
      "cell_type": "code",
      "execution_count": null,
      "metadata": {
        "id": "sOSTjITbgT4s"
      },
      "outputs": [],
      "source": [
        "url = 'https://www.reddit.com/r/Python/'\n",
        "html = req.get(url).content\n",
        "soup = bs(html, 'html.parser')"
      ]
    },
    {
      "cell_type": "code",
      "execution_count": null,
      "metadata": {
        "id": "fs5r5Q1dgT4s"
      },
      "outputs": [],
      "source": [
        "print(soup.prettify())"
      ]
    },
    {
      "cell_type": "code",
      "execution_count": null,
      "metadata": {
        "id": "FmwrstFniw6p"
      },
      "outputs": [],
      "source": [
        "articulos = soup.find_all('shreddit-post')\n",
        "print(articulos[0].prettify())"
      ]
    },
    {
      "cell_type": "code",
      "execution_count": null,
      "metadata": {
        "id": "U7sHehNhuuYw"
      },
      "outputs": [],
      "source": [
        "len(articulos)"
      ]
    },
    {
      "cell_type": "markdown",
      "metadata": {
        "id": "z0kOKRcljbbo"
      },
      "source": [
        "Ya sé que tengo el autor del post dentro de `<span class=\"whitespace-nowrap\">` y quiero conseguir el nombre de los autores de los diferentes posts de reddit\n",
        "\n",
        "soup.find_all('span', {'class':'whitespace-nowrap'}) me va a dar una lista\n",
        "\n",
        "pues por cada elemento de la lista dame el texto y límpialo. (hemos visto que cada autor empieza por 'u/' y eso nos da igual)."
      ]
    },
    {
      "cell_type": "code",
      "execution_count": null,
      "metadata": {
        "id": "zKdwrjBfjZTt"
      },
      "outputs": [],
      "source": [
        "#Lista Autores\n",
        "autores =[autor.text.replace('u/','') for autor in soup.find_all('span', {'class':'whitespace-nowrap'})]\n",
        "autores[2]"
      ]
    },
    {
      "cell_type": "code",
      "execution_count": null,
      "metadata": {
        "id": "S_XnxLvOixDC"
      },
      "outputs": [],
      "source": [
        "#Titulos:\n",
        "titulos = []\n",
        "listado = soup.find_all('a', {'font-bold'})\n",
        "\n",
        "#este find_all me devuelve artículo y autor [0] no es lo que quiero, pero [1] sí es lo que quiero\n",
        "#necesito quedarme los impares\n",
        "for i in range(len(listado)):\n",
        "  if i%2 != 0:\n",
        "    titulos.append(listado[i].text.replace('\\n','').strip())\n",
        "titulos"
      ]
    },
    {
      "cell_type": "code",
      "execution_count": null,
      "metadata": {
        "id": "M1-sKv7rmolO"
      },
      "outputs": [],
      "source": [
        "#Tipo articulo\n",
        "tipos = [tipo.text.replace('\\n','').strip() for tipo in soup.find_all('div',{'class': 'md'})]"
      ]
    },
    {
      "cell_type": "markdown",
      "metadata": {
        "id": "5z6cSShTsNTG"
      },
      "source": [
        "Cuando tengo una etiqueta sea la que sea dentro tengo su clase, id, y más atributos. href, title, target...\n",
        "\n",
        "El contenido de los atributos también es accesible. Es como coger información de lo que pone por fuera de la caja. Puedo localizar cualquier etiqueta :"
      ]
    },
    {
      "cell_type": "code",
      "execution_count": null,
      "metadata": {
        "id": "11Y8m2rrixJ2"
      },
      "outputs": [],
      "source": [
        "#Queremos coger la info de los atributos\n",
        "soup.find_all('div', {'class': 'grow overflow-hidden'})[0]#.find('a').attrs#['href']"
      ]
    },
    {
      "cell_type": "code",
      "execution_count": null,
      "metadata": {
        "id": "_rKd-_aWjkM2"
      },
      "outputs": [],
      "source": [
        "soup.find_all('div', {'class': 'grow overflow-hidden'})[0].find('a')"
      ]
    },
    {
      "cell_type": "code",
      "execution_count": null,
      "metadata": {
        "id": "13bBDq-6jkqw"
      },
      "outputs": [],
      "source": [
        "soup.find_all('div', {'class':'grow overflow-hidden'})[0].find('a').attrs"
      ]
    },
    {
      "cell_type": "code",
      "execution_count": null,
      "metadata": {
        "id": "EDphEpFbjqVC"
      },
      "outputs": [],
      "source": [
        "soup.find_all('div', {'class':'grow overflow-hidden'})[0].find('a').attrs['href']"
      ]
    },
    {
      "cell_type": "markdown",
      "metadata": {
        "id": "OZ6ytQrqgT4s"
      },
      "source": [
        "### REPASO FUNCIONES"
      ]
    },
    {
      "cell_type": "code",
      "execution_count": null,
      "metadata": {
        "id": "IUwU65rrgT4t"
      },
      "outputs": [],
      "source": [
        "# repaso funciones\n",
        "\n",
        "def suma(*args):\n",
        "    return sum(args)\n",
        "\n",
        "suma(2, 2, 3, 45, 67, 890)"
      ]
    },
    {
      "cell_type": "code",
      "execution_count": null,
      "metadata": {
        "id": "27pleoccgT4t"
      },
      "outputs": [],
      "source": [
        "def saludar(nombre, lang='es', colega=True):\n",
        "    s=''\n",
        "\n",
        "    if colega:\n",
        "        s='colega!!!'\n",
        "\n",
        "    if lang=='es':\n",
        "        print('Hola {} {}'.format(nombre, s))\n",
        "\n",
        "    else:\n",
        "        print('Hello {} buddy!!!'.format(nombre))"
      ]
    },
    {
      "cell_type": "code",
      "execution_count": null,
      "metadata": {
        "id": "glnXOxIEgT4t"
      },
      "outputs": [],
      "source": [
        "def saludar_multiple(*lst, lang='es', colega=True):\n",
        "    for e in lst:\n",
        "        saludar(e, lang, colega)"
      ]
    },
    {
      "cell_type": "code",
      "execution_count": null,
      "metadata": {
        "id": "PnVJkC1dgT4u"
      },
      "outputs": [],
      "source": [
        "saludar('Pepe')"
      ]
    },
    {
      "cell_type": "code",
      "execution_count": null,
      "metadata": {
        "id": "Ay3JoUI2gT4u"
      },
      "outputs": [],
      "source": [
        "saludar(['Pepe', 'en'])"
      ]
    },
    {
      "cell_type": "code",
      "execution_count": null,
      "metadata": {
        "id": "kk-NzSZDgT4u"
      },
      "outputs": [],
      "source": [
        "saludar(*['Pepe', 'en'])"
      ]
    },
    {
      "cell_type": "code",
      "execution_count": null,
      "metadata": {
        "id": "wsQaalF0gT4v"
      },
      "outputs": [],
      "source": [
        "saludar_multiple('Ana', 'Pepe', 'Juan', 'Maria', lang='en')"
      ]
    },
    {
      "cell_type": "code",
      "execution_count": null,
      "metadata": {
        "id": "FnsJUHOZgT4v"
      },
      "outputs": [],
      "source": [
        "nombres=['Ana', 'Pepe', 'Juan', 'Maria']\n",
        "\n",
        "config={'lang': 'es', 'colega': True}"
      ]
    },
    {
      "cell_type": "code",
      "execution_count": null,
      "metadata": {
        "id": "Rq2p4RSpgT40"
      },
      "outputs": [],
      "source": [
        "saludar_multiple(*nombres, **config)"
      ]
    },
    {
      "cell_type": "code",
      "execution_count": null,
      "metadata": {
        "id": "UTaMdRO-gT41"
      },
      "outputs": [],
      "source": [
        "def function (*args, **kwargs):\n",
        "    return"
      ]
    }
  ],
  "metadata": {
    "colab": {
      "provenance": []
    },
    "kernelspec": {
      "display_name": "Python 3 (ipykernel)",
      "language": "python",
      "name": "python3"
    },
    "language_info": {
      "codemirror_mode": {
        "name": "ipython",
        "version": 3
      },
      "file_extension": ".py",
      "mimetype": "text/x-python",
      "name": "python",
      "nbconvert_exporter": "python",
      "pygments_lexer": "ipython3",
      "version": "3.12.2"
    },
    "varInspector": {
      "cols": {
        "lenName": 16,
        "lenType": 16,
        "lenVar": 40
      },
      "kernels_config": {
        "python": {
          "delete_cmd_postfix": "",
          "delete_cmd_prefix": "del ",
          "library": "var_list.py",
          "varRefreshCmd": "print(var_dic_list())"
        },
        "r": {
          "delete_cmd_postfix": ") ",
          "delete_cmd_prefix": "rm(",
          "library": "var_list.r",
          "varRefreshCmd": "cat(var_dic_list()) "
        }
      },
      "types_to_exclude": [
        "module",
        "function",
        "builtin_function_or_method",
        "instance",
        "_Feature"
      ],
      "window_display": false
    }
  },
  "nbformat": 4,
  "nbformat_minor": 0
}
