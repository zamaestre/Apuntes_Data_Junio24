{
  "cells": [
    {
      "cell_type": "markdown",
      "metadata": {
        "id": "DBX1_T4wYKW_"
      },
      "source": [
        "# Amazon\n",
        "\n",
        "Utilizando un `hover` vamos a simular movimientos por dentro del sitio web.\n",
        "\n",
        "También cómo introducir cadenas de texto en cuadros de texto, y simularemos cómo una persona escribe para ser más indetectables.\n",
        "\n",
        "Descubriremos cómo interaccionar con banners que aparecen pasado un tiempo de estar en la web."
      ]
    },
    {
      "cell_type": "code",
      "execution_count": 1,
      "metadata": {
        "id": "Et_2yBFpNriB"
      },
      "outputs": [],
      "source": [
        "from selenium import webdriver\n",
        "from webdriver_manager.chrome import ChromeDriverManager # sustituye al archivo\n",
        "from selenium.webdriver.chrome.options import Options # opciones de chrome\n",
        "from selenium.webdriver.common.by import By # By es para buscar por tag, clase, id...\n",
        "from selenium.webdriver.support.ui import WebDriverWait   # para meter esperaras\n",
        "from selenium.webdriver.support import expected_conditions as EC   # para esperar ciertos eventos\n",
        "from selenium.webdriver import ActionChains # para hacer acciones con el ratón\n",
        "import time\n",
        "import random\n",
        "import selenium.webdriver.common.keys as Keys # para simular teclas"
      ]
    },
    {
      "cell_type": "code",
      "execution_count": 2,
      "metadata": {
        "id": "Dm6gQn6Ba7Z7"
      },
      "outputs": [],
      "source": [
        "#Opciones de chrome\n",
        "opciones = webdriver.ChromeOptions()\n",
        "#opciones.add_argument('--start-maximized')\n",
        "opciones.add_argument('window-size=775,1400')\n",
        "opciones.add_argument('--disable-extensions')\n",
        "opciones.add_argument('--disable-blink-features=AutomationControlled')\n",
        "opciones.add_argument('--no-sandbox')\n",
        "opciones.add_experimental_option('useAutomationExtension', False)\n",
        "opciones.add_experimental_option('excludeSwitches', ['enable-automation'])\n",
        "\n",
        "# guardar las cookies\n",
        "# opciones.add_argument('user-data-dir=cookies')    # mantiene las cookies\n",
        "opciones.add_argument('--incognito') # modo incognito"
      ]
    },
    {
      "cell_type": "code",
      "execution_count": 3,
      "metadata": {
        "id": "oK9l4Z85bYwS"
      },
      "outputs": [],
      "source": [
        "url = 'https://www.amazon.es/'"
      ]
    },
    {
      "cell_type": "code",
      "execution_count": 4,
      "metadata": {
        "id": "LNS-18c2bcvR"
      },
      "outputs": [],
      "source": [
        "driver = webdriver.Chrome(options=opciones)\n",
        "\n",
        "driver.get(url)"
      ]
    },
    {
      "cell_type": "code",
      "execution_count": 6,
      "metadata": {
        "id": "MRJE6aE1bfRB"
      },
      "outputs": [],
      "source": [
        "# Continuamos sin aceptar las cookies\n",
        "driver.find_element(By.ID, 'sp-cc-rejectall-link').click()"
      ]
    },
    {
      "cell_type": "markdown",
      "metadata": {
        "id": "lXg3c-o4gnbg"
      },
      "source": [
        "**HOVER**\n",
        "\n",
        "El objeto `hover` en Selenium es una técnica que se utiliza para simular el movimiento del cursor del ratón sobre un elemento web específico en una página, activando de este modo las funciones de estilo o comportamiento asociadas al evento hover."
      ]
    },
    {
      "cell_type": "code",
      "execution_count": 15,
      "metadata": {
        "id": "wWznd8KNgi6e"
      },
      "outputs": [],
      "source": [
        "#Hacemos hover sobre el elemento que queremos cuyo XPATH //*[@id=\"nav-link-accountList\"]\n",
        "elemento = driver.find_element(By.XPATH, '//*[@id=\"nav-link-accountList\"]')\n",
        "\n",
        "#Y ahora creamos el objeto\n",
        "hover = ActionChains(driver).move_to_element(elemento)\n",
        "\n",
        "#Y ahora lo ejecutamos\n",
        "hover.perform()"
      ]
    },
    {
      "cell_type": "code",
      "execution_count": 55,
      "metadata": {},
      "outputs": [],
      "source": [
        "# recuerda que si es un único script debe tener pausas"
      ]
    },
    {
      "cell_type": "code",
      "execution_count": 16,
      "metadata": {
        "id": "lxeP1s4hhVXF"
      },
      "outputs": [],
      "source": [
        "#Dentro de los elementos del hover voy a darle a identificarse:\n",
        "driver.find_element(By.CLASS_NAME, 'nav-action-inner').click()"
      ]
    },
    {
      "cell_type": "code",
      "execution_count": 18,
      "metadata": {},
      "outputs": [
        {
          "ename": "ElementNotInteractableException",
          "evalue": "Message: element not interactable\n  (Session info: chrome=129.0.6668.60)\nStacktrace:\n0   chromedriver                        0x0000000102784274 cxxbridge1$str$ptr + 1907280\n1   chromedriver                        0x000000010277c75c cxxbridge1$str$ptr + 1875768\n2   chromedriver                        0x00000001023900d0 cxxbridge1$string$len + 89088\n3   chromedriver                        0x00000001023cf198 cxxbridge1$string$len + 347336\n4   chromedriver                        0x00000001023cdb9c cxxbridge1$string$len + 341708\n5   chromedriver                        0x00000001023caad0 cxxbridge1$string$len + 329216\n6   chromedriver                        0x000000010240e7d0 cxxbridge1$string$len + 606976\n7   chromedriver                        0x00000001023c912c cxxbridge1$string$len + 322652\n8   chromedriver                        0x00000001023c9d7c cxxbridge1$string$len + 325804\n9   chromedriver                        0x000000010274c504 cxxbridge1$str$ptr + 1678560\n10  chromedriver                        0x0000000102750e6c cxxbridge1$str$ptr + 1697352\n11  chromedriver                        0x0000000102731618 cxxbridge1$str$ptr + 1568244\n12  chromedriver                        0x000000010275173c cxxbridge1$str$ptr + 1699608\n13  chromedriver                        0x0000000102722bbc cxxbridge1$str$ptr + 1508248\n14  chromedriver                        0x000000010276d854 cxxbridge1$str$ptr + 1814576\n15  chromedriver                        0x000000010276d9ac cxxbridge1$str$ptr + 1814920\n16  chromedriver                        0x000000010277c3fc cxxbridge1$str$ptr + 1874904\n17  libsystem_pthread.dylib             0x00000001864672e4 _pthread_start + 136\n18  libsystem_pthread.dylib             0x00000001864620fc thread_start + 8\n",
          "output_type": "error",
          "traceback": [
            "\u001b[0;31m---------------------------------------------------------------------------\u001b[0m",
            "\u001b[0;31mElementNotInteractableException\u001b[0m           Traceback (most recent call last)",
            "Cell \u001b[0;32mIn[18], line 2\u001b[0m\n\u001b[1;32m      1\u001b[0m cuadro_login \u001b[38;5;241m=\u001b[39m driver\u001b[38;5;241m.\u001b[39mfind_element(By\u001b[38;5;241m.\u001b[39mXPATH, \u001b[38;5;124m'\u001b[39m\u001b[38;5;124m//*[@id=\u001b[39m\u001b[38;5;124m\"\u001b[39m\u001b[38;5;124mauthportal-main-section\u001b[39m\u001b[38;5;124m\"\u001b[39m\u001b[38;5;124m]/div[2]/div[2]/div[1]/form/div/div/div/div[1]\u001b[39m\u001b[38;5;124m'\u001b[39m)\n\u001b[0;32m----> 2\u001b[0m \u001b[43mcuadro_login\u001b[49m\u001b[38;5;241;43m.\u001b[39;49m\u001b[43msend_keys\u001b[49m\u001b[43m(\u001b[49m\u001b[38;5;124;43m'\u001b[39;49m\u001b[38;5;124;43mcorreo@email.com\u001b[39;49m\u001b[38;5;124;43m'\u001b[39;49m\u001b[43m)\u001b[49m\n",
            "File \u001b[0;32m~/miniconda3/envs/gamma/lib/python3.12/site-packages/selenium/webdriver/remote/webelement.py:231\u001b[0m, in \u001b[0;36mWebElement.send_keys\u001b[0;34m(self, *value)\u001b[0m\n\u001b[1;32m    228\u001b[0m             remote_files\u001b[38;5;241m.\u001b[39mappend(\u001b[38;5;28mself\u001b[39m\u001b[38;5;241m.\u001b[39m_upload(file))\n\u001b[1;32m    229\u001b[0m         value \u001b[38;5;241m=\u001b[39m \u001b[38;5;124m\"\u001b[39m\u001b[38;5;130;01m\\n\u001b[39;00m\u001b[38;5;124m\"\u001b[39m\u001b[38;5;241m.\u001b[39mjoin(remote_files)\n\u001b[0;32m--> 231\u001b[0m \u001b[38;5;28;43mself\u001b[39;49m\u001b[38;5;241;43m.\u001b[39;49m\u001b[43m_execute\u001b[49m\u001b[43m(\u001b[49m\n\u001b[1;32m    232\u001b[0m \u001b[43m    \u001b[49m\u001b[43mCommand\u001b[49m\u001b[38;5;241;43m.\u001b[39;49m\u001b[43mSEND_KEYS_TO_ELEMENT\u001b[49m\u001b[43m,\u001b[49m\u001b[43m \u001b[49m\u001b[43m{\u001b[49m\u001b[38;5;124;43m\"\u001b[39;49m\u001b[38;5;124;43mtext\u001b[39;49m\u001b[38;5;124;43m\"\u001b[39;49m\u001b[43m:\u001b[49m\u001b[43m \u001b[49m\u001b[38;5;124;43m\"\u001b[39;49m\u001b[38;5;124;43m\"\u001b[39;49m\u001b[38;5;241;43m.\u001b[39;49m\u001b[43mjoin\u001b[49m\u001b[43m(\u001b[49m\u001b[43mkeys_to_typing\u001b[49m\u001b[43m(\u001b[49m\u001b[43mvalue\u001b[49m\u001b[43m)\u001b[49m\u001b[43m)\u001b[49m\u001b[43m,\u001b[49m\u001b[43m \u001b[49m\u001b[38;5;124;43m\"\u001b[39;49m\u001b[38;5;124;43mvalue\u001b[39;49m\u001b[38;5;124;43m\"\u001b[39;49m\u001b[43m:\u001b[49m\u001b[43m \u001b[49m\u001b[43mkeys_to_typing\u001b[49m\u001b[43m(\u001b[49m\u001b[43mvalue\u001b[49m\u001b[43m)\u001b[49m\u001b[43m}\u001b[49m\n\u001b[1;32m    233\u001b[0m \u001b[43m\u001b[49m\u001b[43m)\u001b[49m\n",
            "File \u001b[0;32m~/miniconda3/envs/gamma/lib/python3.12/site-packages/selenium/webdriver/remote/webelement.py:395\u001b[0m, in \u001b[0;36mWebElement._execute\u001b[0;34m(self, command, params)\u001b[0m\n\u001b[1;32m    393\u001b[0m     params \u001b[38;5;241m=\u001b[39m {}\n\u001b[1;32m    394\u001b[0m params[\u001b[38;5;124m\"\u001b[39m\u001b[38;5;124mid\u001b[39m\u001b[38;5;124m\"\u001b[39m] \u001b[38;5;241m=\u001b[39m \u001b[38;5;28mself\u001b[39m\u001b[38;5;241m.\u001b[39m_id\n\u001b[0;32m--> 395\u001b[0m \u001b[38;5;28;01mreturn\u001b[39;00m \u001b[38;5;28;43mself\u001b[39;49m\u001b[38;5;241;43m.\u001b[39;49m\u001b[43m_parent\u001b[49m\u001b[38;5;241;43m.\u001b[39;49m\u001b[43mexecute\u001b[49m\u001b[43m(\u001b[49m\u001b[43mcommand\u001b[49m\u001b[43m,\u001b[49m\u001b[43m \u001b[49m\u001b[43mparams\u001b[49m\u001b[43m)\u001b[49m\n",
            "File \u001b[0;32m~/miniconda3/envs/gamma/lib/python3.12/site-packages/selenium/webdriver/remote/webdriver.py:354\u001b[0m, in \u001b[0;36mWebDriver.execute\u001b[0;34m(self, driver_command, params)\u001b[0m\n\u001b[1;32m    352\u001b[0m response \u001b[38;5;241m=\u001b[39m \u001b[38;5;28mself\u001b[39m\u001b[38;5;241m.\u001b[39mcommand_executor\u001b[38;5;241m.\u001b[39mexecute(driver_command, params)\n\u001b[1;32m    353\u001b[0m \u001b[38;5;28;01mif\u001b[39;00m response:\n\u001b[0;32m--> 354\u001b[0m     \u001b[38;5;28;43mself\u001b[39;49m\u001b[38;5;241;43m.\u001b[39;49m\u001b[43merror_handler\u001b[49m\u001b[38;5;241;43m.\u001b[39;49m\u001b[43mcheck_response\u001b[49m\u001b[43m(\u001b[49m\u001b[43mresponse\u001b[49m\u001b[43m)\u001b[49m\n\u001b[1;32m    355\u001b[0m     response[\u001b[38;5;124m\"\u001b[39m\u001b[38;5;124mvalue\u001b[39m\u001b[38;5;124m\"\u001b[39m] \u001b[38;5;241m=\u001b[39m \u001b[38;5;28mself\u001b[39m\u001b[38;5;241m.\u001b[39m_unwrap_value(response\u001b[38;5;241m.\u001b[39mget(\u001b[38;5;124m\"\u001b[39m\u001b[38;5;124mvalue\u001b[39m\u001b[38;5;124m\"\u001b[39m, \u001b[38;5;28;01mNone\u001b[39;00m))\n\u001b[1;32m    356\u001b[0m     \u001b[38;5;28;01mreturn\u001b[39;00m response\n",
            "File \u001b[0;32m~/miniconda3/envs/gamma/lib/python3.12/site-packages/selenium/webdriver/remote/errorhandler.py:229\u001b[0m, in \u001b[0;36mErrorHandler.check_response\u001b[0;34m(self, response)\u001b[0m\n\u001b[1;32m    227\u001b[0m         alert_text \u001b[38;5;241m=\u001b[39m value[\u001b[38;5;124m\"\u001b[39m\u001b[38;5;124malert\u001b[39m\u001b[38;5;124m\"\u001b[39m]\u001b[38;5;241m.\u001b[39mget(\u001b[38;5;124m\"\u001b[39m\u001b[38;5;124mtext\u001b[39m\u001b[38;5;124m\"\u001b[39m)\n\u001b[1;32m    228\u001b[0m     \u001b[38;5;28;01mraise\u001b[39;00m exception_class(message, screen, stacktrace, alert_text)  \u001b[38;5;66;03m# type: ignore[call-arg]  # mypy is not smart enough here\u001b[39;00m\n\u001b[0;32m--> 229\u001b[0m \u001b[38;5;28;01mraise\u001b[39;00m exception_class(message, screen, stacktrace)\n",
            "\u001b[0;31mElementNotInteractableException\u001b[0m: Message: element not interactable\n  (Session info: chrome=129.0.6668.60)\nStacktrace:\n0   chromedriver                        0x0000000102784274 cxxbridge1$str$ptr + 1907280\n1   chromedriver                        0x000000010277c75c cxxbridge1$str$ptr + 1875768\n2   chromedriver                        0x00000001023900d0 cxxbridge1$string$len + 89088\n3   chromedriver                        0x00000001023cf198 cxxbridge1$string$len + 347336\n4   chromedriver                        0x00000001023cdb9c cxxbridge1$string$len + 341708\n5   chromedriver                        0x00000001023caad0 cxxbridge1$string$len + 329216\n6   chromedriver                        0x000000010240e7d0 cxxbridge1$string$len + 606976\n7   chromedriver                        0x00000001023c912c cxxbridge1$string$len + 322652\n8   chromedriver                        0x00000001023c9d7c cxxbridge1$string$len + 325804\n9   chromedriver                        0x000000010274c504 cxxbridge1$str$ptr + 1678560\n10  chromedriver                        0x0000000102750e6c cxxbridge1$str$ptr + 1697352\n11  chromedriver                        0x0000000102731618 cxxbridge1$str$ptr + 1568244\n12  chromedriver                        0x000000010275173c cxxbridge1$str$ptr + 1699608\n13  chromedriver                        0x0000000102722bbc cxxbridge1$str$ptr + 1508248\n14  chromedriver                        0x000000010276d854 cxxbridge1$str$ptr + 1814576\n15  chromedriver                        0x000000010276d9ac cxxbridge1$str$ptr + 1814920\n16  chromedriver                        0x000000010277c3fc cxxbridge1$str$ptr + 1874904\n17  libsystem_pthread.dylib             0x00000001864672e4 _pthread_start + 136\n18  libsystem_pthread.dylib             0x00000001864620fc thread_start + 8\n"
          ]
        }
      ],
      "source": [
        "# intento fallido de login por etiquetas escondidas\n",
        "cuadro_login = driver.find_element(By.XPATH, '//*[@id=\"authportal-main-section\"]/div[2]/div[2]/div[1]/form/div/div/div/div[1]')\n",
        "cuadro_login.send_keys('correo@email.com')"
      ]
    },
    {
      "cell_type": "code",
      "execution_count": 19,
      "metadata": {
        "id": "KH9OPmxShWAO"
      },
      "outputs": [],
      "source": [
        "#Podríamos loguearnos, pero lo que vamos a hacer es decirle al navegador que vaya para atrás\n",
        "driver.back()"
      ]
    },
    {
      "cell_type": "code",
      "execution_count": 20,
      "metadata": {
        "id": "CNMnORPdhYPx"
      },
      "outputs": [],
      "source": [
        "#Introducir texto de busqueda\n",
        "cuadro_busqueda = driver.find_element(By.XPATH, '//*[@id=\"twotabsearchtextbox\"]')\n",
        "\n",
        "#Vamos a hacer una busqueda de partituras mozart:\n",
        "cuadro_busqueda.send_keys('zapatillas')"
      ]
    },
    {
      "cell_type": "code",
      "execution_count": 21,
      "metadata": {
        "id": "iEOW-U-Jhfhl"
      },
      "outputs": [],
      "source": [
        "#Y ahora le damos a enter\n",
        "cuadro_busqueda.submit()"
      ]
    },
    {
      "cell_type": "code",
      "execution_count": 24,
      "metadata": {
        "id": "BNFFAKKUhird"
      },
      "outputs": [],
      "source": [
        "#MODO NINJA ACTIVADO\n",
        "cuadro_busqueda = driver.find_element(By.XPATH, '//*[@id=\"twotabsearchtextbox\"]')\n",
        "\n",
        "#Queremos escribir juguetes lego, pero vamos a hacerlo letra a letra como lo haría un humano\n",
        "time.sleep(1)\n",
        "\n",
        "#Borramos la busqueda anterior:\n",
        "cuadro_busqueda.clear()\n",
        "time.sleep(2)\n",
        "#Y ahora vamos a escribir letra a letra:\n",
        "termino_busqueda = 'juguetes lego'\n",
        "for letra in termino_busqueda:\n",
        "    cuadro_busqueda.send_keys(letra)\n",
        "    time.sleep(random.uniform(0.1,0.25))\n",
        "cuadro_busqueda.submit()"
      ]
    },
    {
      "cell_type": "code",
      "execution_count": 25,
      "metadata": {
        "id": "w2M-qkrBhrnk"
      },
      "outputs": [
        {
          "data": {
            "text/plain": [
              "70"
            ]
          },
          "execution_count": 25,
          "metadata": {},
          "output_type": "execute_result"
        }
      ],
      "source": [
        "#Sacamos listado de los productos de la página:\n",
        "productos = driver.find_elements(By.CLASS_NAME, 'a-section.a-spacing-base')\n",
        "productos.__len__()"
      ]
    },
    {
      "cell_type": "code",
      "execution_count": 26,
      "metadata": {
        "id": "bR_33SWohuGc"
      },
      "outputs": [
        {
          "name": "stdout",
          "output_type": "stream",
          "text": [
            "Más vendidoen Coches controlados por aplicación o por control remoto  PatrocinadoPatrocinado Puedes ver este anuncio debido a la relevancia del producto con respecto a tu búsqueda.Más información sobre este anuncio  Coche Teledirigido,Coche AcrobáTico Camiones 360 Grados De RotacióN,Juguete Niño Regalo 3 4 5 6 7 8 9 12 Años Niña 2.4Ghz Niños Coche Teledirigido con Luces Incluye Batería Recargable (Azul)  4,4 de 5 estrellas 2.009  800+ comprados el mes pasado27,99 €27,99€ PVPR: 39,99 €39,99€Se ha aplicado un cupón de descuento de 5,00 €Ahorra 5,00 €  con un cupón Entrega GRATIS el lun, 30 de sept en tu primer pedidoEntrega más rápida el sáb, 28 de sept Vendido por: AS-euEdades: 6 - 12 años\n",
            "PatrocinadoPatrocinado Puedes ver este anuncio debido a la relevancia del producto con respecto a tu búsqueda.Más información sobre este anuncio  Tiny Land Kit Construccion Fuertes Niños - Brillan en La Oscuridad, 130 Piezas Creative Fort Toy para niños y niñas de 5+ años, Juguetes de Construcción Stem, DIY Kit Castillos Túneles  4,3 de 5 estrellas 1.422  50+ comprados el mes pasado58,99 €58,99€Se ha aplicado un cupón de descuento de 10,00 €Ahorra 10,00 €  con un cupón  Entrega GRATIS el lun, 30 de sept Entrega más rápida el sáb, 28 de sept Vendido por: Tiny Land UK\n",
            "LEGO Classic Caja de Ladrillos Creativos Mediana, Juegos de Construcción para Niños y Niñas de 4 Años o Más, Base Verde, Coches y Animales de Juguete, Fácil Almacenaje, Idea de Regalo Infantil 10696  4,8 de 5 estrellas 30.640  1 mil+ comprados el mes pasado24,01 €24,01€ PVPR: 29,99 €29,99€Entrega GRATIS el lun, 30 de sept en tu primer pedidoEntrega más rápida el sáb, 28 de sept Vendido por: AmazonEdades: 4 años y más\n",
            "Más vendidoen Figuras de dinosaurios y criaturas prehistóricas de juguete para niños  LEGO 31058 Creator Grandes Dinosaurios, Regalo de Reyes para Niños y Niñas de 7 Años o Más, Maqueta 3en1 de Pterodáctilo, Triceratops y T-Rex, Figura de Animales de Juguete de Parque Jurásico  4,7 de 5 estrellas 3.144  600+ comprados el mes pasado13,64 €13,64€ PVPR: 14,99 €14,99€Ahorra 5 % al comprar 4 de esta selecciónEntrega GRATIS el lun, 30 de sept en tu primer pedidoEntrega más rápida el sáb, 28 de sept Vendido por: AmazonMás opciones de compra12,95 €(59 nuevas ofertas)Edades: 7 años y más\n",
            "LEGO Marvel Persecución en Moto: Spider-Man vs. Doc Ock, Juguete de Construcción con Cañones y Aracnoblásteres, Moto de Spidey, Regalo para Niños, Niñas y Fans de Superhéroes de 6 Años o Más 76275  4,6 de 5 estrellas 869  500+ comprados el mes pasado9,99 €9,99€Ahorra 5 % al comprar 4 de esta selecciónEntrega GRATIS el lun, 30 de sept en tu primer pedidoEntrega más rápida el sáb, 28 de sept Vendido por: AmazonMás opciones de compra9,35 €(50 nuevas ofertas)Edades: 6 años y más\n",
            "LEGO Sonic The Hedgehog Sonic: Desafío de la Esfera de Velocidad, Juguete de Construcción con 3 Personajes y Una Figura de Moto Bug Badnik, Juguetes para Niños y Niñas A Partir de 6 Años 76990  4,8 de 5 estrellas 876  100+ comprados el mes pasado29,99 €29,99€Vendido por: AmazonMás opciones de compra25,25 €(57 nuevas ofertas)\n",
            "LEGO City Lancha de Rescate de Bomberos y Zodiac, Barcos Flotantes, Mochila Propulsora, Juguetes de Baño para Niños y Niñas de 6 Años o Más 60373  4,8 de 5 estrellas 2.396  100+ comprados el mes pasado19,99 €19,99€Vendido por: AmazonMás opciones de compra17,05 €(70 nuevas ofertas)\n",
            "LEGO Minecraft Set La Casa-Ajolote, Base Submarina Rosa de Construcción con Explorador Buceador, Zombi y Figuras de Delfín y Pez Globo, Juguetes de Aventura para Niños y Niñas de 7 Años o Más 21247  4,8 de 5 estrellas 752  100+ comprados el mes pasado26,99 €26,99€Vendido por: AmazonMás opciones de compra22,35 €(66 nuevas ofertas)\n",
            "LEGO Duplo Camión de Bomberos de Juguete, Juguetes Educativos para Niños y Niñas de 2 Años o Más, Vehículo con Luz y Sonido, Set con Figura de Gatito, Regalo Infantil de Cumpleaños 10969  4,8 de 5 estrellas 3.161  50+ comprados el mes pasado29,99 €29,99€Vendido por: AmazonMás opciones de compra27,37 €(53 ofertas usadas y nuevas)\n",
            "LEGO 76226 Marvel Figura de Spider-Man Articulada, Juguetes para Niños y Niñas, Set de Acción, Modelo Coleccionable de Superhéroe, Regalo de Película  4,8 de 5 estrellas 2.389  50+ comprados el mes pasado29,99 €29,99€Vendido por: AmazonMás opciones de compra25,62 €(80 nuevas ofertas)\n",
            "LEGO Friends Camión de Perritos Calientes Food Truck y Accesorios de Comida y Cocina de Juguete con Figura de Gato y Mini Muñecos de Personajes, Regalo para Niñas y Niños de 4 Años o Más 42633  4,8 de 5 estrellas 206  19,99 €19,99€Ahorra 5 % al comprar 4 de esta selecciónVendido por: AmazonMás opciones de compra14,10 €(63 ofertas usadas y nuevas)\n",
            "LEGO City Bases de Carretera, Juguetes para Niños y Niñas de 5 Años o Más, Set de Accesorios con Semáforos, Señales y Luces, Regalo de Cumpleaños 60304  4,7 de 5 estrellas 4.000  19,99 €19,99€Ahorra 5 % al comprar 4 de esta selecciónVendido por: AmazonMás opciones de compra16,64 €(56 ofertas usadas y nuevas)\n",
            "LEGO DC Persecución en el Batmobile: Batman vs. The Joker Coche de Juguete, Set de Súper Héroes para Principiantes con Minifiguras, Juguetes para Niños Pequeños, Niños y Niñas a partir de 4 Años 76264  4,7 de 5 estrellas 277  26,99 €26,99€Ahorra 5 % al comprar 4 de esta selecciónVendido por: AmazonMás opciones de compra21,10 €(66 nuevas ofertas)\n",
            "LEGO Creator 3 en 1 Dragón Rojo de Juguete Convertible en Figura de Pez o Ave Fénix, Juego Infantil de Animales como Regalo para Niños y Niñas de 6 Años o Más de Temática de Año Nuevo Chino 31145  4,8 de 5 estrellas 1.219  500+ comprados el mes pasado9,99 €9,99€Ahorra 5 % al comprar 4 de esta selecciónEntrega GRATIS el lun, 30 de sept en tu primer pedidoEntrega más rápida el sáb, 28 de sept Vendido por: AmazonMás opciones de compra8,80 €(57 ofertas usadas y nuevas)Edades: 6 años y más\n",
            "LEGO Creator 3 en 1 Camión Plataforma con Helicóptero Convertible en Vehículos de Juguete: Avión de Hélices, Bólido y Coche SUV, Regalo para Niños y Niñas de 7 Años o Más 31146  4,7 de 5 estrellas 1.011  500+ comprados el mes pasado19,99 €19,99€Ahorra 5 % al comprar 4 de esta selecciónEntrega GRATIS el lun, 30 de sept en tu primer pedidoEntrega más rápida el sáb, 28 de sept Vendido por: AmazonMás opciones de compra17,05 €(63 nuevas ofertas)Edades: 7 años y más\n",
            "LEGO Technic Mercedes-AMG F1 W14 E Performance Pull-Back Coche de Carreras de Fórmula 1 de Juguete para Niños y Niñas de 7 Años o Más, Decoración Dormitorio, Regalo de Cumpleaños 42165  4,8 de 5 estrellas 1.081  700+ comprados el mes pasado23,75 €23,75€ PVPR: 26,99 €26,99€Ahorra 5 % al comprar 4 de esta selecciónEntrega GRATIS el lun, 30 de sept en tu primer pedidoEntrega más rápida el sáb, 28 de sept Vendido por: AmazonMás opciones de compra23,04 €(65 ofertas usadas y nuevas)Edades: 7 años y más\n",
            "LEGO Technic Buggy de Carreras Todoterreno, Vehículo de Rally, Set para Construir un Coche de Carreras de Juguete, Regalo para Niños y Niñas de 8 Años o Más 42164  4,7 de 5 estrellas 1.264  500+ comprados el mes pasado15,99 €15,99€Ahorra 5 % al comprar 4 de esta selecciónEntrega GRATIS el lun, 30 de sept en tu primer pedidoEntrega más rápida el sáb, 28 de sept Vendido por: AmazonMás opciones de compra14,05 €(57 nuevas ofertas)Edades: 8 años y más\n",
            "LEGO Marvel Coche de Spider-Man y Doc Ock, Spidey y Sus Amigos, Juguete de Construcción para Niños y Niñas de 4 Años o Más, Accesorios de Telarañas y 2 Mini Figuras 10789  4,6 de 5 estrellas 2.798  400+ comprados el mes pasado9,99 €9,99€Ahorra 5 % al comprar 4 de esta selecciónEntrega GRATIS el lun, 30 de sept en tu primer pedidoEntrega más rápida el sáb, 28 de sept Vendido por: AmazonMás opciones de compra9,35 €(47 nuevas ofertas)Edades: 4 años y más\n",
            "LEGO Classic Caja de Ladrillos Creativos Grande, Juguetes de Construcción y Manualidades para Niños y Niñas de 4 Años o Más, Animales, Casas y Coches de Juguete, Regalos de Cumpleaños Infantiles 10698  4,8 de 5 estrellas 3.606  700+ comprados el mes pasado46,02 €46,02€ PVPR: 49,99 €49,99€ Entrega GRATIS el lun, 30 de sept Entrega más rápida el sáb, 28 de sept Vendido por: AmazonMás opciones de compra45,39 €(92 nuevas ofertas)Edades: 4 años y más\n",
            "LEGO Harry Potter Ford Anglia Volador de Juguete de Fantasía, Juego de Aventuras con Coche de la Familia Weasley, Regalo para Niños, Niñas y Fans de 7 Años o Más, 2 Minifiguras de Personajes 76424  4,8 de 5 estrellas 775  1 mil+ comprados el mes pasado14,99 €14,99€Entrega GRATIS el lun, 30 de sept en tu primer pedidoEntrega más rápida el sáb, 28 de sept Vendido por: AmazonMás opciones de compra12,99 €(53 ofertas usadas y nuevas)Edades: 7 años y más\n",
            "LEGO Sonic The Hedgehog Super Sonic vs. Egg Drillster Juguete con Personajes del Videojuego, Juego de Aventuras con Figuras de Shadow y el Dr. Eggman, Regalo para Niños y Niñas de 8 Años o Más 76999  4,7 de 5 estrellas 69  79,99 €79,99€ Entrega GRATIS el lun, 30 de sept Entrega más rápida mañana, 27 de sept Vendido por: AmazonMás opciones de compra70,78 €(45 nuevas ofertas)Edades: 8 años y más\n",
            "Más vendidoen Sets de construcción  LEGO Technic Hipercoche Koenigsegg Jesko Absolut Gris Coche de Carreras de Juguete de Construcción, Regalo para Niños y Niñas de 10 Años o Más, Kit de Maquetas 42173  4,7 de 5 estrellas 66  300+ comprados el mes pasado37,99 €37,99€ PVPR: 52,99 €52,99€ Entrega GRATIS el lun, 30 de sept Entrega más rápida el sáb, 28 de sept Vendido por: AmazonMás opciones de compra37,23 €(61 ofertas usadas y nuevas)Edades: 10 años y más\n",
            "LEGO 10782 Marvel Spidey y Su Superequipo Camiones de Combate de Hulk y Rino, Juguete para Niños y Niñas de 4+ Años  4,8 de 5 estrellas 5.838  300+ comprados el mes pasado19,99 €19,99€Ahorra 5 % al comprar 4 de esta selecciónEntrega GRATIS el lun, 30 de sept en tu primer pedidoEntrega más rápida el sáb, 28 de sept Vendido por: AmazonMás opciones de compra17,56 €(80 ofertas usadas y nuevas)Edades: 4 años y más\n",
            "LEGO | Disney Cubos de Humor de del Revés 2 De Película Pixar, Juguete de Construcción Antiestrés sobre Emociones, Mini Muñecos de Alegría y Ansiedad, Regalo para Niñas y Niños de 9 Años o Más 43248  4,7 de 5 estrellas 186  300+ comprados el mes pasadoOferta flash  27,99 €27,99€ PVPR: 34,99 €34,99€Entrega GRATIS el lun, 30 de sept en tu primer pedidoEntrega más rápida el sáb, 28 de sept Vendido por: AmazonEdades: 9 años y más\n",
            "PatrocinadoPatrocinado Puedes ver este anuncio debido a la relevancia del producto con respecto a tu búsqueda.Más información sobre este anuncio  Yerloa Dinosaurios Juguetes Niños 6 Años, 343 Piezas Bloques Construccion Niños Jurassic World T-Rex Educativos Juguetes Regalo Niño 6 7 8 9 10 Años  4,3 de 5 estrellas 82  35,99 €35,99€Se ha aplicado un cupón de descuento de 10 %Ahorra 10 %  con un cupón  Entrega GRATIS el lun, 30 de sept Entrega más rápida el sáb, 28 de sept Edades: 6 años y más\n",
            "PatrocinadoPatrocinado Puedes ver este anuncio debido a la relevancia del producto con respecto a tu búsqueda.Más información sobre este anuncio  BEHOWL Juguetes robóticos Stem para niños y niñas de 8 a 14 años, Bloques de construcción del Programa científico 13 en 1 para Control Remoto y de Aplicaciones, Regalos educativos (550)  4,4 de 5 estrellas 434  59,99 €59,99€ (0,11 €0,11€/unidad)Se ha aplicado un cupón de descuento de 10 %Ahorra 10 %  con un cupón  Entrega GRATIS el lun, 30 de sept Entrega más rápida el sáb, 28 de sept Edades: 7 años y más\n",
            "PatrocinadoPatrocinado Puedes ver este anuncio debido a la relevancia del producto con respecto a tu búsqueda.Más información sobre este anuncio  WYSWYG Juego de Bloques de Construcción de 320 Piezas, 2 x 4 Piedras clásicas, Compatible con Las Mejores Marcas, Multicolor, Regalo para niños y niñas  4,5 de 5 estrellas 47  28,99 €28,99€Se ha aplicado un cupón de descuento de 5 %Ahorra 5 %  con un cupón Entrega GRATIS el lun, 30 de sept en tu primer pedidoEntrega más rápida el sáb, 28 de sept Edades: 3 años y más\n",
            "LEGO Classic Maletín Creativo, Juguete de Almacenamiento de Ladrillos de Colores, Juego de Construcción para Jugar en Familia, Regalo para Niños y Niñas de 4 Años o Más 10713  4,8 de 5 estrellas 14.963  200+ comprados el mes pasado17,75 €17,75€ PVPR: 19,99 €19,99€Entrega GRATIS el lun, 30 de sept en tu primer pedidoEntrega más rápida el sáb, 28 de sept Vendido por: AmazonEdades: 4 años y más\n",
            "LEGO City Coche de Policía de Juguete para Niños y Niñas de 5 Años o Más, Juego de Construcción con Minifigura de Agente, Idea de Regalo de Cumpleaños 60312  4,7 de 5 estrellas 6.299  100+ comprados el mes pasado9,99 €9,99€Ahorra 5 % al comprar 4 de esta selecciónEntrega GRATIS el lun, 30 de sept en tu primer pedidoEntrega más rápida el sáb, 28 de sept Vendido por: AmazonMás opciones de compra9,21 €(59 nuevas ofertas)Edades: 5 años y más\n",
            "LEGO Creator 3-en-1 Robot Invencible, Dragón o Avión de Juguete, Juego de Construcción Creativo para Niños y Niñas de 7 Años o Más, Idea de Regalo de Cumpleaños 31124  4,7 de 5 estrellas 3.390  100+ comprados el mes pasado9,99 €9,99€Ahorra 5 % al comprar 4 de esta selecciónEntrega GRATIS el lun, 30 de sept en tu primer pedidoEntrega más rápida el sáb, 28 de sept Vendido por: AmazonMás opciones de compra7,59 €(60 ofertas usadas y nuevas)Edades: 6 años y más\n",
            "LEGO City Monster Truck Azul de Juguete, Camión Todoterreno y Minifigura de Conductor, Set de Juego Infantil Imaginativo, Divertido Regalo para Niños y Niñas de 5 Años o Más 60402  4,8 de 5 estrellas 827  100+ comprados el mes pasado14,99 €14,99€Entrega GRATIS el lun, 30 de sept en tu primer pedidoEntrega más rápida el sáb, 28 de sept Vendido por: AmazonMás opciones de compra12,90 €(55 ofertas usadas y nuevas)Edades: 5 años y más\n",
            "LEGO City Moto de Policía y Coche a la Fuga, Deportivo de Juguete para Niños y Niñas de 5 Años en Adelante, Accesorios y 2 Mini Figuras, Regalo de Cumpleaños 60392  4,7 de 5 estrellas 1.115  100+ comprados el mes pasado8,99 €8,99€ PVPR: 9,99 €9,99€Ahorra 5 % al comprar 4 de esta selecciónEntrega GRATIS el lun, 30 de sept en tu primer pedidoEntrega más rápida el sáb, 28 de sept Vendido por: AmazonMás opciones de compra8,75 €(54 nuevas ofertas)Edades: 5 años y más\n",
            "LEGO Technic Volquete, 2-en-1, Camión de Construcción y Excavadora de Juguete, Regalos para Niños y Niñas de 7 Años o Más, Introducción ingeniería 42147  4,7 de 5 estrellas 3.278  100+ comprados el mes pasado9,99 €9,99€Ahorra 5 % al comprar 4 de esta selecciónEntrega GRATIS el lun, 30 de sept en tu primer pedidoEntrega más rápida el sáb, 28 de sept Vendido por: AmazonMás opciones de compra8,90 €(54 nuevas ofertas)Edades: 7 años y más\n",
            "LEGO Creator 3-en-1 Lanzadera Espacial, Figura de Astronauta o Nave de Juguete, Set de Construcción para Niños y Niñas de 6 Años o Más, Regalo Creativo 31134  4,7 de 5 estrellas 3.090  200+ comprados el mes pasado9,99 €9,99€Entrega GRATIS el lun, 30 de sept en tu primer pedidoEntrega más rápida el sáb, 28 de sept Vendido por: AmazonMás opciones de compra8,20 €(54 nuevas ofertas)Edades: 6 años y más\n",
            "LEGO Minecraft La Mazmorra del Esqueleto, Juguete para Niños y Niñas de 8 Años o Más con Cuevas, Estalactitas, Ballesta y Figuras de Esqueletos, Regalo Creativo de Cumpleaños 21189  4,8 de 5 estrellas 3.943  400+ comprados el mes pasado27,49 €27,49€ PVPR: 29,99 €29,99€Entrega GRATIS el lun, 30 de sept en tu primer pedidoEntrega más rápida el sáb, 28 de sept Vendido por: AmazonMás opciones de compra25,85 €(64 nuevas ofertas)Edades: 8 años y más\n",
            "LEGO Sonic The Hedgehog Huida de Shadow The Hedgehog, Moto de Juguete, Figuras de Acción de Personajes del Videojuego del Erizo Azul, Regalo para Niños, Niñas y Gamers de 8 Años o Más 76995  4,8 de 5 estrellas 387  50+ comprados el mes pasado20,99 €20,99€Ahorra 5 % al comprar 4 de esta selecciónEntrega GRATIS el lun, 30 de sept en tu primer pedidoEntrega más rápida mañana, 27 de sept Vendido por: AmazonMás opciones de compra14,62 €(58 ofertas usadas y nuevas)Edades: 8 años y más\n",
            "LEGO Marvel Armadura Robótica de Máquina de Guerra, Figura de Acción de Juguete con Armas: 3 Cañones Que Disparan, Personaje Superhéroe UCM, Regalo para Cinéfilos, Niños y Niñas de 6 Años o Más 76277  4,7 de 5 estrellas 624  200+ comprados el mes pasado14,99 €14,99€Ahorra 5 % al comprar 4 de esta selecciónEntrega GRATIS el lun, 30 de sept en tu primer pedidoEntrega más rápida el sáb, 28 de sept Vendido por: AmazonMás opciones de compra11,98 €(57 ofertas usadas y nuevas)Edades: 6 años y más\n",
            "LEGO Speed Champions Coche de Carreras de Fórmula 1 McLaren 2023 Maqueta de Vehículo de Juguete para Niños y Niñas de 9 Años o Más, Regalo de Cumpleaños, Decoración Dormitorio76919  4,8 de 5 estrellas 1.121  400+ comprados el mes pasado22,56 €22,56€ PVPR: 26,99 €26,99€Entrega GRATIS el lun, 30 de sept en tu primer pedidoEntrega más rápida el sáb, 28 de sept Vendido por: AmazonMás opciones de compra22,11 €(74 ofertas usadas y nuevas)Edades: 9 años y más\n",
            "LEGO City Coche de Carreras y Camión de Transporte de Juguete, Juego de Construcción con Vehículo de Competición, Minifiguras de Piloto y Camionero, Regalo para Niños y Niñas de 6 Años o Más 60406  4,8 de 5 estrellas 537  100+ comprados el mes pasado26,39 €26,39€ PVPR: 29,99 €29,99€Entrega GRATIS el lun, 30 de sept en tu primer pedidoEntrega más rápida el sáb, 28 de sept Vendido por: AmazonMás opciones de compra24,65 €(85 nuevas ofertas)Edades: 6 años y más\n",
            "LEGO Creator 3 en 1 Cámara Retro de Juguete Convertible en Videocámara y Televisor, Decoración para Dormitorio y Accesorio de Escritorio, Regalo de Fotografía para Niños y Niñas de 8 Años o Más 31147  4,8 de 5 estrellas 963  200+ comprados el mes pasado19,99 €19,99€Ahorra 5 % al comprar 4 de esta selecciónEntrega GRATIS el lun, 30 de sept en tu primer pedidoEntrega más rápida el sáb, 28 de sept Vendido por: AmazonMás opciones de compra17,19 €(78 ofertas usadas y nuevas)\n",
            "PatrocinadoPatrocinado Puedes ver este anuncio debido a la relevancia del producto con respecto a tu búsqueda.Más información sobre este anuncio  Juguetes del Transbordador Espacial, City Space Stem 11 en 1 Juego de Construcción de Cohetes de Exploración de la Ciudad para Niños 6+ Años(855PCS)  4,1 de 5 estrellas 159  100+ comprados el mes pasado29,99 €29,99€Entrega GRATIS el lun, 30 de sept en tu primer pedidoEntrega más rápida el sáb, 28 de sept \n",
            "PatrocinadoPatrocinado Puedes ver este anuncio debido a la relevancia del producto con respecto a tu búsqueda.Más información sobre este anuncio  Subtail Dinosaurios Juguetes - Kit de Excavación Huevo Dinosaurio con Especial Alfombra de Juego de Dinosaurios | árboles de Escena - Regalos de Cumpleaños para Niños 3 4 5 6 7 8 Años  4,5 de 5 estrellas 17  50+ comprados el mes pasado17,71 €17,71€Se ha aplicado un cupón de descuento de 20 %Ahorra 20 %  con un cupón Entrega GRATIS el lun, 30 de sept en tu primer pedidoEntrega más rápida el sáb, 28 de sept \n",
            "PatrocinadoPatrocinado Puedes ver este anuncio debido a la relevancia del producto con respecto a tu búsqueda.Más información sobre este anuncio  Weifeng Bloques de Construcción 1000 Piezas Building Blocks, Ladrillos de construcción Compatible con Todas Las Classic Marcas para niños y niñas a Partir de 6 años  4,4 de 5 estrellas 122  31,99 €31,99€Entrega GRATIS el lun, 30 de sept en tu primer pedidoEntrega más rápida el sáb, 28 de sept Vendido por: LoveYHomeEdades: 24 meses y más\n",
            "PatrocinadoPatrocinado Puedes ver este anuncio debido a la relevancia del producto con respecto a tu búsqueda.Más información sobre este anuncio  JONRRYIN Grandes Bloques de Construcción, 130 Bloques de Construcción de Colores, Pequeños Ladrillos Creativos con Coche, Figuras y Flores Formas Divertidas, Juguetes Educativos para niños Todas Las E  4,4 de 5 estrellas 37  26,99 €26,99€Entrega GRATIS el mar, 1 de oct en tu primer pedidoEntrega más rápida el lun, 30 de sept Vendido por: segggjjwwEdades: 8 - 8 años\n",
            "LEGO 60384 City Furgoneta-Pingüino de Granizadas, Vehículo, Camión de Juguete para Niños y Niñas de 5 Años o Más, Mini Figuras, Juego de Verano, Regalo de Semana Santa y Pascua  4,7 de 5 estrellas 1.251  19,99 €19,99€Ahorra 5 % al comprar 4 de esta selecciónEntrega GRATIS el lun, 30 de sept en tu primer pedidoEntrega más rápida mañana, 27 de sept Vendido por: AmazonMás opciones de compra16,70 €(76 nuevas ofertas)Edades: 5 años y más\n",
            "LEGO Minecraft La Aventura en el Pantano, Juguete de Construcción, Mini Figuras de Alex y Esqueleto, Bioma, Regalo de Cumpleaños Niños y Niñas de 7 Años o Más 21240  4,7 de 5 estrellas 2.242  300+ comprados el mes pasado9,99 €9,99€Ahorra 5 % al comprar 4 de esta selecciónEntrega GRATIS el lun, 30 de sept en tu primer pedidoEntrega más rápida el sáb, 28 de sept Vendido por: AmazonMás opciones de compra8,40 €(55 nuevas ofertas)Edades: 7 años y más\n",
            "LEGO Star Wars Microfighter: Caza Estelar N-1 de The Mandalorian, Vehículo a Microescala del Libro de Boba Fett con Figura Grogu Baby Yoda, Regalos para Niños y Niñas de 6 Años o Más 75363  4,6 de 5 estrellas 1.867  300+ comprados el mes pasado15,99 €15,99€Ahorra 5 % al comprar 4 de esta selecciónEntrega GRATIS el lun, 30 de sept en tu primer pedidoEntrega más rápida el sáb, 28 de sept Vendido por: AmazonMás opciones de compra13,42 €(69 ofertas usadas y nuevas)Edades: 6 años y más\n",
            "LEGO Harry Potter Dobby el Elfo Doméstico, Regalo de Reyes para Niñas, Niños, Adolescentes y Fans de 8+ Años, Juguete y Decoración para la Habitación, Colección de Figura Icónica de Personaje 76421  4,8 de 5 estrellas 6.054  600+ comprados el mes pasado20,99 €20,99€ PVPR: 29,99 €29,99€Entrega GRATIS el lun, 30 de sept en tu primer pedidoEntrega más rápida el sáb, 28 de sept Vendido por: AmazonEdades: 8 años y más\n",
            "LEGO La Casa de Muñecas de Gabby Horno de Muffin, Cocina con Cupcakes y Accesorios y Figuras de Gabby y el Gato Muffin, Juguete de la Serie Gabby's Dollhouse para Niñas y Niños de 4 Años 10785  4,7 de 5 estrellas 1.086  100+ comprados el mes pasado9,99 €9,99€Ahorra 5 % al comprar 4 de esta selecciónEntrega GRATIS el lun, 30 de sept en tu primer pedidoEntrega más rápida el sáb, 28 de sept Vendido por: AmazonMás opciones de compra8,40 €(54 nuevas ofertas)Edades: 4 años y más\n",
            "LEGO City Lavadero de Coches, Juguete para Niños y Niñas de 6 Años o Más, Set con Cepillos de Lavado Giratorios, Vehículo y 2 Minifiguras, Idea para Regalo Pequeño 60362  4,8 de 5 estrellas 1.475  50+ comprados el mes pasado19,99 €19,99€Ahorra 5 % al comprar 4 de esta selecciónEntrega GRATIS el lun, 30 de sept en tu primer pedidoEntrega más rápida el sáb, 28 de sept Vendido por: AmazonMás opciones de compra17,19 €(62 nuevas ofertas)Edades: 6 años y más\n",
            "LEGO Minecraft La Casa-Champiñón, Juguete de Construcción, Idea de Regalo para Niños y Niñas de 8 Años o Más con Figuras de Alex, Champiñaca y Jinete Arácnido 21179  4,8 de 5 estrellas 6.738  300+ comprados el mes pasado17,00 €17,00€ PVPR: 19,99 €19,99€Entrega GRATIS el mar, 1 de oct Vendido por: JuguetilandiaMás opciones de compra16,64 €(54 ofertas usadas y nuevas)Edades: 8 años y más\n",
            "LEGO City Lancha de Rescate de Bomberos y Zodiac, Barcos Flotantes, Mochila Propulsora, Juguetes de Baño para Niños y Niñas de 6 Años o Más 60373  4,8 de 5 estrellas 2.396  100+ comprados el mes pasado19,99 €19,99€Entrega GRATIS el lun, 30 de sept en tu primer pedidoEntrega más rápida el sáb, 28 de sept Vendido por: AmazonMás opciones de compra17,05 €(70 nuevas ofertas)Edades: 5 años y más\n",
            "LEGO | Disney El Rey León: Simba Cachorro Juguete Infantil de Construcción, Idea de Regalo para Niñas y Niños de 6 Años o Más, Maqueta Articulada, Decoración del Dormitorio y Estantería 43243  4,8 de 5 estrellas 380  400+ comprados el mes pasado17,59 €17,59€ PVPR: 19,99 €19,99€Entrega GRATIS el lun, 30 de sept en tu primer pedidoEntrega más rápida el sáb, 28 de sept Vendido por: AmazonMás opciones de compra17,08 €(79 ofertas usadas y nuevas)Edades: 6 años y más\n",
            "LEGO 31140 Creator 3en1 Unicornio Mágico, Juguete de Construcción Caballito de Mar o Pavo Real, Regalos de Pascua para Niños y Niñas de 7 Años o Más, Figuras de Animales Fantásticos  4,7 de 5 estrellas 3.932  400+ comprados el mes pasado9,99 €9,99€Ahorra 5 % al comprar 4 de esta selecciónEntrega GRATIS el lun, 30 de sept en tu primer pedidoEntrega más rápida el sáb, 28 de sept Vendido por: AmazonMás opciones de compra8,74 €(58 ofertas usadas y nuevas)Edades: 7 años y más\n",
            "LEGO | Disney Stitch Juguete de Construcción de la Figura Articulada del Personaje de la Película Lilo & Stitch con Cucurucho de Helado, Regalo para Niñas y Niños de 9 Años o Más 43249  4,8 de 5 estrellas 714  700+ comprados el mes pasado57,19 €57,19€ PVPR: 64,99 €64,99€ Entrega GRATIS el lun, 30 de sept Entrega más rápida el sáb, 28 de sept Vendido por: AmazonEdades: 9 años y más\n",
            "LEGO 31137 Creator 3 en 1 Perros Adorables, Figuras de Perritos de Juguete para Niños y Niñas de 7 Años o Más, Beagle, Caniche, Perro Salchicha y Más, Regalo de Semana Santa y Pascua  4,8 de 5 estrellas 1.300  50+ comprados el mes pasado29,70 €29,70€Entrega GRATIS el lun, 30 de sept en tu primer pedidoEntrega más rápida el sáb, 28 de sept Vendido por: AmazonMás opciones de compra19,68 €(79 ofertas usadas y nuevas)Edades: 7 años y más\n",
            "LEGO Super Mario Set de Expansión: Coche Monstruoso de Bowser Juguete Coleccionable con Figura del Personaje del Videojuego, Regalo para Niños, Niñas y Gamers de 8 Años o Más 71431  4,8 de 5 estrellas 593  100+ comprados el mes pasado22,49 €22,49€ PVPR: 29,99 €29,99€Entrega GRATIS el lun, 30 de sept en tu primer pedidoEntrega más rápida el sáb, 28 de sept Vendido por: AmazonEdades: 8 años y más\n",
            "LEGO Marvel Motos de la Viuda Negra y el Capitán América, Set de Avengers: Edad de Ultron con 2 Motos de Juguete de Super Héroe para Niños y Niñas de 6 Años o Más 76260  4,7 de 5 estrellas 1.377  100+ comprados el mes pasado15,99 €15,99€Ahorra 5 % al comprar 4 de esta selecciónEntrega GRATIS el lun, 30 de sept en tu primer pedidoEntrega más rápida el sáb, 28 de sept Vendido por: AmazonMás opciones de compra13,45 €(57 ofertas usadas y nuevas)Edades: 6 años y más\n",
            "LEGO Classic Monstruos Creativos, Caja de Ladrillos para Construir, Juguete para Niños y Niñas de 4 Años o Más, Set para Crear 5 Mini Figuras de Colores 11017  4,8 de 5 estrellas 2.124  100+ comprados el mes pasado9,99 €9,99€Entrega GRATIS el lun, 30 de sept en tu primer pedidoEntrega más rápida el sáb, 28 de sept Vendido por: AmazonMás opciones de compra8,20 €(47 ofertas usadas y nuevas)Edades: 4 años y más\n",
            "LEGO Sonic The Hedgehog Sonic: Desafío de la Esfera de Velocidad, Juguete de Construcción con 3 Personajes y Una Figura de Moto Bug Badnik, Juguetes para Niños y Niñas A Partir de 6 Años 76990  4,8 de 5 estrellas 876  100+ comprados el mes pasado29,99 €29,99€Entrega GRATIS el jue, 24 de oct en tu primer pedidoVendido por: AmazonMás opciones de compra25,25 €(57 nuevas ofertas)Edades: 6 años y másRecíbelo más rápido\n",
            "  30,36 €30,36€ Entrega GRATIS el mar, 1 de oct  Sólo queda(n) 4 en stock. \n",
            "LEGO Ninjago Meca Elemental de la Tierra de Cole, Figura de Acción Articulada, Juguete Personalizado con 2 Minifiguras, Regalo del Universo Ninja para Niños y Niñas de 7 Años o Más 71806  4,8 de 5 estrellas 858  200+ comprados el mes pasado19,99 €19,99€Entrega GRATIS el lun, 30 de sept en tu primer pedidoEntrega más rápida el sáb, 28 de sept Vendido por: AmazonMás opciones de compra17,05 €(59 ofertas usadas y nuevas)Edades: 7 años y más\n",
            "LEGO 76226 Marvel Figura de Spider-Man Articulada, Juguetes para Niños y Niñas, Set de Acción, Modelo Coleccionable de Superhéroe, Regalo de Película  4,8 de 5 estrellas 2.389  50+ comprados el mes pasado29,99 €29,99€Entrega GRATIS el lun, 30 de sept en tu primer pedidoEntrega más rápida el sáb, 28 de sept Vendido por: AmazonMás opciones de compra25,62 €(80 nuevas ofertas)Edades: 8 años y más\n",
            "LEGO Speed Champions Ferrari 812 Competizione Maqueta de Coche para Construir, Deportivo Rojo de Juguete de Colección Edición 2023, Regalo para Niños y Niñas de 9 Años o Más 76914  4,8 de 5 estrellas 3.043  200+ comprados el mes pasado24,87 €24,87€Ahorra 5 % al comprar 4 de esta selecciónEntrega GRATIS el lun, 30 de sept en tu primer pedidoEntrega más rápida el sáb, 28 de sept Vendido por: AmazonMás opciones de compra18,92 €(78 ofertas usadas y nuevas)Edades: 9 años y más\n",
            "LEGO Jurassic World Captura de los Velocirraptores Blue y Beta, Dinosaurios Juguetes, Dino, Moto y Camión, Figuras de la Película Parque Jurásico, Regalo para Niños y Niñas de 6 Años o Más 76946  4,7 de 5 estrellas 4.183  50+ comprados el mes pasado30,00 €30,00€ PVPR: 34,99 €34,99€Entrega GRATIS el mar, 1 de oct en tu primer pedidoEntrega más rápida el sáb, 28 de sept Vendido por: AmazonMás opciones de compra29,90 €(56 nuevas ofertas)Edades: 6 años y más\n",
            "LEGO Technic, John Deere 9620R 4WD Tractor de Juguete con Remolque Basculante, Juegos de Granja de Estilo Clásico, Regalo para Niños y Niñas de 8 Años o Más, Maqueta de Vehículo Coleccionable 42136  4,8 de 5 estrellas 1.448  50+ comprados el mes pasado29,59 €29,59€Entrega GRATIS el lun, 30 de sept en tu primer pedidoEntrega más rápida el sáb, 28 de sept Vendido por: AmazonMás opciones de compra22,21 €(64 ofertas usadas y nuevas)Edades: 8 años y más\n",
            "PatrocinadoPatrocinado Puedes ver este anuncio debido a la relevancia del producto con respecto a tu búsqueda.Más información sobre este anuncio  X-Verse Juguete de Excavadora teledirigido, vehículo de construcción teledirigido para niños, 1:20, Excavadora de orugas RC con Pala de Metal, Bolsa de 11 Canales, rotación de 680°  3,9 de 5 estrellas 10  49,99 €49,99€Entrega GRATIS entre el 2 - 4 de oct Edades: 0 - 12 años\n",
            "PatrocinadoPatrocinado Puedes ver este anuncio debido a la relevancia del producto con respecto a tu búsqueda.Más información sobre este anuncio  Theo Klein 8497 Multi-Tech Construction Set with Bosch Ixolino I 107 components I Battery-Powered Ixolino with light and sound I Toy for Children Aged 3 Years and up  4,6 de 5 estrellas 1.217  32,93 €32,93€ PVPR: 38,99 €38,99€Entrega GRATIS el lun, 30 de sept en tu primer pedidoEntrega más rápida el sáb, 28 de sept Vendido por: AmazonEdades: 3 años y más\n",
            "PatrocinadoPatrocinado Puedes ver este anuncio debido a la relevancia del producto con respecto a tu búsqueda.Más información sobre este anuncio  PLAYMOBIL myLife 71611 Baño, Incluye Dos Figuras y numerosos Accesorios, Hechos de más del 80% de Materiales reciclados y de Base biológica, Juguetes para niños y niñas a Partir de 4 años  4,8 de 5 estrellas 7  24,99 €24,99€Entrega GRATIS el lun, 30 de sept en tu primer pedidoEntrega más rápida el sáb, 28 de sept Vendido por: AmazonEdades: 4 - 10 años\n"
          ]
        }
      ],
      "source": [
        "#Le pasamos el listado de productos a Bs4\n",
        "from bs4 import BeautifulSoup as bs\n",
        "soup = bs(driver.page_source, 'html.parser')\n",
        "productos = soup.find_all('div', class_='a-section a-spacing-base')\n",
        "#Printeamos la lista de productos:\n",
        "for producto in productos:\n",
        "    print(producto.text)"
      ]
    },
    {
      "cell_type": "code",
      "execution_count": 27,
      "metadata": {
        "id": "2mSC-fnrhxLE"
      },
      "outputs": [
        {
          "data": {
            "text/plain": [
              "['LEGO Ninjago Meca Elemental de la Tierra de Cole, Figura de Acción Articulada, Juguete Personalizado con 2 Minifiguras, Regalo del Universo Ninja para Niños y Niñas de 7 Años o Más 71806  4,8 de 5 estrellas 858  200+ comprados el mes pasado19,99\\xa0€19,99€Entrega GRATIS el lun, 30 de sept en tu primer pedidoEntrega más rápida el sáb, 28 de sept Vendido por: AmazonMás opciones de compra17,05\\xa0€(59 ofertas usadas y nuevas)Edades: 7 años y más']"
            ]
          },
          "execution_count": 27,
          "metadata": {},
          "output_type": "execute_result"
        }
      ],
      "source": [
        "productos[60].text.split('\\n')"
      ]
    },
    {
      "cell_type": "code",
      "execution_count": 28,
      "metadata": {},
      "outputs": [
        {
          "name": "stdout",
          "output_type": "stream",
          "text": [
            "<div class=\"a-section a-spacing-base\">\n",
            " <div class=\"a-section a-spacing-none puis-status-badge-container aok-relative s-grid-status-badge-container puis-expand-height\">\n",
            "  <a class=\"a-link-normal s-underline-text s-underline-link-text s-link-style\" href=\"/gp/bestsellers/toys/14525753031/ref=sr_bs_0_14525753031_1\">\n",
            "   <span class=\"rush-component sx-bestseller-component\" data-component-id=\"7\" data-component-props='{\"asin\":\"B0C65FPP79\",\"badgeType\":\"best-seller\"}' data-component-type=\"s-status-badge-component\" data-render-id=\"rv2qf406zra29248q175sck2bb\" data-version-id=\"v2fl5pkubaqu126k6zseo6li6q\">\n",
            "    <div class=\"a-row a-badge-region\">\n",
            "     <span aria-labelledby=\"B0C65FPP79-best-seller-label B0C65FPP79-best-seller-supplementary\" class=\"a-badge\" data-a-badge-supplementary-position=\"right\" data-a-badge-type=\"status\" id=\"B0C65FPP79-best-seller\" role=\"group\" tabindex=\"0\">\n",
            "      <span aria-hidden=\"true\" class=\"a-badge-label\" data-a-badge-color=\"sx-bestseller\" id=\"B0C65FPP79-best-seller-label\">\n",
            "       <span class=\"a-badge-label-inner a-text-ellipsis\">\n",
            "        <span class=\"a-badge-text\" data-a-badge-color=\"sx-cloud\">\n",
            "         Más vendido\n",
            "        </span>\n",
            "       </span>\n",
            "      </span>\n",
            "      <span aria-hidden=\"true\" class=\"a-badge-supplementary-text a-text-ellipsis\" id=\"B0C65FPP79-best-seller-supplementary\">\n",
            "       en Coches controlados por aplicación o por control remoto\n",
            "      </span>\n",
            "     </span>\n",
            "    </div>\n",
            "   </span>\n",
            "  </a>\n",
            " </div>\n",
            " <div class=\"s-product-image-container aok-relative s-text-center s-image-overlay-grey puis-image-overlay-grey s-padding-left-small s-padding-right-small puis-spacing-small s-height-equalized puis puis-v2fl5pkubaqu126k6zseo6li6q\" data-cy=\"image-container\" style=\"padding-top: 0px !important;\">\n",
            "  <span class=\"rush-component\" data-component-type=\"s-product-image\" data-render-id=\"rv2qf406zra29248q175sck2bb\" data-version-id=\"v2fl5pkubaqu126k6zseo6li6q\">\n",
            "   <a class=\"a-link-normal s-no-outline\" href=\"/sspa/click?ie=UTF8&amp;spc=MTo2MTE1MDU3NzkxNjUwNjk2OjE3MjczNzI3MDg6c3BfYXRmOjMwMDE3ODMwMTcxNDIzMjo6MDo6&amp;url=%2FTeledirigido-Acrob%25C3%25A1Tico-Camiones-Rotaci%25C3%25B3N-Recargable%2Fdp%2FB0C65FPP79%2Fref%3Dsr_1_1_sspa%3F__mk_es_ES%3D%25C3%2585M%25C3%2585%25C5%25BD%25C3%2595%25C3%2591%26crid%3D15JO11P5XNCC4%26dib%3DeyJ2IjoiMSJ9.JeseBEYIk1Lq23zhgXFBeLvR6IAQsidBwkDGe4FZrAkwxvV0nuk8HBhBHV9v0ErdfgH8hu9zwbmW1hAbmX21SalCQ89UhT9dhTVetx9a5zBdU_g3ukVERk-V4sMAFa3_bfE3RhQWV_FjiZXKPuryM7APNvYyDffweFog4nP62FK-XUaa4ud8cQXhqLPK0SO46INxcp1k3uO1d9_yhxrqWmZlHceJGx9lIs7nCsxIhxz_yLsYKWNe8Mq_cYWwedboBpw4gfIIOw-vG_ux6PEXW_m-wV4dzjlkiIyFH5G17Bk.nr8ZdY560awfJB5VSVA3OjhK6yr6qYglzWlNvy30UqM%26dib_tag%3Dse%26keywords%3Djuguetes%2Blego%26qid%3D1727372708%26sprefix%3Djuguetes%2Blego%252Caps%252C92%26sr%3D8-1-spons%26sp_csd%3Dd2lkZ2V0TmFtZT1zcF9hdGY%26psc%3D1\" tabindex=\"-1\">\n",
            "    <div class=\"a-section aok-relative s-image-square-aspect\">\n",
            "     <img alt=\"Anuncio patrocinado: Coche Teledirigido,Coche AcrobáTico Camiones 360 Grados De RotacióN,Juguete Niño Regalo 3 4 5 6 7 8 9...\" aria-hidden=\"true\" class=\"s-image\" data-image-index=\"1\" data-image-latency=\"s-product-image\" data-image-load=\"\" data-image-source-density=\"1\" src=\"https://m.media-amazon.com/images/I/71L4mnzFijL._AC_UL320_.jpg\" srcset=\"https://m.media-amazon.com/images/I/71L4mnzFijL._AC_UL320_.jpg 1x, https://m.media-amazon.com/images/I/71L4mnzFijL._AC_UL480_FMwebp_QL65_.jpg 1.5x, https://m.media-amazon.com/images/I/71L4mnzFijL._AC_UL640_FMwebp_QL65_.jpg 2x, https://m.media-amazon.com/images/I/71L4mnzFijL._AC_UL800_FMwebp_QL65_.jpg 2.5x, https://m.media-amazon.com/images/I/71L4mnzFijL._AC_UL960_FMwebp_QL65_.jpg 3x\"/>\n",
            "    </div>\n",
            "   </a>\n",
            "  </span>\n",
            " </div>\n",
            " <div class=\"a-section a-spacing-small puis-padding-left-small puis-padding-right-small\">\n",
            "  <div class=\"a-section a-spacing-none a-spacing-top-small s-title-instructions-style\" data-cy=\"title-recipe\">\n",
            "   <div class=\"a-row a-spacing-micro\">\n",
            "    <span class=\"a-declarative\" data-a-popover='{\"activate\":\"onmouseover\",\"name\":\"sp-info-popover-B0C65FPP79\",\"position\":\"triggerVertical\",\"closeButtonLabel\":\"Cerrar elemento emergente\",\"closeButton\":\"true\",\"dataStrategy\":\"preload\"}' data-action=\"a-popover\" data-csa-c-func-deps=\"aui-da-a-popover\" data-csa-c-id=\"gy9o4i-iy6h7d-qb7yk2-fzdzyf\" data-csa-c-type=\"widget\" data-render-id=\"rv2qf406zra29248q175sck2bb\" data-version-id=\"v2fl5pkubaqu126k6zseo6li6q\">\n",
            "     <a aria-label=\"Ver información patrocinada o dejar comentarios sobre el anuncio\" class=\"puis-label-popover puis-sponsored-label-text\" href=\"javascript:void(0)\" role=\"button\" style=\"text-decoration: none;\">\n",
            "      <span class=\"puis-label-popover-default\">\n",
            "       <span class=\"a-color-secondary\">\n",
            "        Patrocinado\n",
            "       </span>\n",
            "      </span>\n",
            "      <span class=\"puis-label-popover-hover\">\n",
            "       <span class=\"a-color-base\">\n",
            "        Patrocinado\n",
            "       </span>\n",
            "      </span>\n",
            "      <span class=\"aok-inline-block puis-sponsored-label-info-icon\">\n",
            "      </span>\n",
            "     </a>\n",
            "    </span>\n",
            "    <div class=\"a-popover-preload\" id=\"a-popover-sp-info-popover-B0C65FPP79\">\n",
            "     <div class=\"puis puis-v2fl5pkubaqu126k6zseo6li6q\">\n",
            "      <span>\n",
            "       Puedes ver este anuncio debido a la relevancia del producto con respecto a tu búsqueda.\n",
            "      </span>\n",
            "      <div class=\"a-row\">\n",
            "       <span class=\"a-declarative\" data-action=\"s-safe-ajax-modal-trigger\" data-csa-c-func-deps=\"aui-da-s-safe-ajax-modal-trigger\" data-csa-c-id=\"c14jvb-q59wtj-9dkjme-8kpd8f\" data-csa-c-type=\"widget\" data-render-id=\"rv2qf406zra29248q175sck2bb\" data-s-safe-ajax-modal-trigger='{\"header\":\"Información y opciones de anuncios\",\"dataStrategy\":\"ajax\",\"ajaxUrl\":\"/af/feedback-form?pl=%7B%22adPlacementMetaData%22%3A%7B%22searchTerms%22%3A%22anVndWV0ZXMgbGVnbw%3D%3D%22%2C%22pageType%22%3A%22Search%22%2C%22feedbackType%22%3A%22sponsoredProductsLoom%22%2C%22slotName%22%3A%22TOP%22%7D%2C%22adCreativeMetaData%22%3A%7B%22adProgramId%22%3A1024%2C%22adCreativeDetails%22%3A%5B%7B%22asin%22%3A%22B0C65FPP79%22%2C%22title%22%3A%22Coche+Teledirigido%2CCoche+Acrob%C3%A1Tico+Camiones+360+Grados+De+Rotaci%C3%B3N%2CJuguete+Ni%C3%B1o+Regalo+3+4+5+6+7+8+%22%2C%22priceInfo%22%3A%7B%22amount%22%3A27.99%2C%22currencyCode%22%3A%22EUR%22%7D%2C%22sku%22%3A%22CJX-ES-Bcar%22%2C%22adId%22%3A%22A0191190356ITP1X7VD5D%22%2C%22campaignId%22%3A%22A03290273MFGKYSRYIARR%22%2C%22advertiserIdNS%22%3A%22axiom.A1RKKUPIHCS9HS.A2LY5Q32FLVEWR%22%2C%22selectionSignals%22%3A%7B%22version%22%3A1%2C%22context%22%3Atrue%2C%22location%22%3Afalse%2C%22pastActivity%22%3A%22NONE%22%7D%7D%5D%7D%7D\"}' data-version-id=\"v2fl5pkubaqu126k6zseo6li6q\">\n",
            "        <a class=\"a-link-normal s-underline-text s-underline-link-text s-link-style\" href=\"#\">\n",
            "         <span>\n",
            "          Más información sobre este anuncio\n",
            "         </span>\n",
            "        </a>\n",
            "       </span>\n",
            "      </div>\n",
            "     </div>\n",
            "    </div>\n",
            "   </div>\n",
            "   <h2 class=\"a-size-mini a-spacing-none a-color-base s-line-clamp-4\">\n",
            "    <a class=\"a-link-normal s-underline-text s-underline-link-text s-link-style a-text-normal\" href=\"/sspa/click?ie=UTF8&amp;spc=MTo2MTE1MDU3NzkxNjUwNjk2OjE3MjczNzI3MDg6c3BfYXRmOjMwMDE3ODMwMTcxNDIzMjo6MDo6&amp;url=%2FTeledirigido-Acrob%25C3%25A1Tico-Camiones-Rotaci%25C3%25B3N-Recargable%2Fdp%2FB0C65FPP79%2Fref%3Dsr_1_1_sspa%3F__mk_es_ES%3D%25C3%2585M%25C3%2585%25C5%25BD%25C3%2595%25C3%2591%26crid%3D15JO11P5XNCC4%26dib%3DeyJ2IjoiMSJ9.JeseBEYIk1Lq23zhgXFBeLvR6IAQsidBwkDGe4FZrAkwxvV0nuk8HBhBHV9v0ErdfgH8hu9zwbmW1hAbmX21SalCQ89UhT9dhTVetx9a5zBdU_g3ukVERk-V4sMAFa3_bfE3RhQWV_FjiZXKPuryM7APNvYyDffweFog4nP62FK-XUaa4ud8cQXhqLPK0SO46INxcp1k3uO1d9_yhxrqWmZlHceJGx9lIs7nCsxIhxz_yLsYKWNe8Mq_cYWwedboBpw4gfIIOw-vG_ux6PEXW_m-wV4dzjlkiIyFH5G17Bk.nr8ZdY560awfJB5VSVA3OjhK6yr6qYglzWlNvy30UqM%26dib_tag%3Dse%26keywords%3Djuguetes%2Blego%26qid%3D1727372708%26sprefix%3Djuguetes%2Blego%252Caps%252C92%26sr%3D8-1-spons%26sp_csd%3Dd2lkZ2V0TmFtZT1zcF9hdGY%26psc%3D1\">\n",
            "     <span class=\"a-size-base-plus a-color-base a-text-normal\">\n",
            "      Coche Teledirigido,Coche AcrobáTico Camiones 360 Grados De RotacióN,Juguete Niño Regalo 3 4 5 6 7 8 9 12 Años Niña 2.4Ghz Niños Coche Teledirigido con Luces Incluye Batería Recargable (Azul)\n",
            "     </span>\n",
            "    </a>\n",
            "   </h2>\n",
            "  </div>\n",
            "  <div class=\"a-section a-spacing-none a-spacing-top-micro\" data-cy=\"reviews-block\">\n",
            "   <div class=\"a-row a-size-small\">\n",
            "    <span aria-label=\"4,4 de 5 estrellas\">\n",
            "     <span class=\"a-declarative\" data-a-popover='{\"closeButton\":true,\"closeButtonLabel\":\"\",\"activate\":\"onmouseover\",\"name\":\"\",\"position\":\"triggerBottom\",\"popoverLabel\":\"\",\"url\":\"/review/widgets/average-customer-review/popover/ref=acr_search__popover?ie=UTF8&amp;asin=B0C65FPP79&amp;ref_=acr_search__popover&amp;contextId=search\"}' data-action=\"a-popover\" data-csa-c-func-deps=\"aui-da-a-popover\" data-csa-c-id=\"cblk2j-luj0fu-i4rdc6-acc9m2\" data-csa-c-type=\"widget\" data-render-id=\"rv2qf406zra29248q175sck2bb\" data-version-id=\"v2fl5pkubaqu126k6zseo6li6q\">\n",
            "      <a class=\"a-popover-trigger a-declarative\" href=\"javascript:void(0)\" role=\"button\">\n",
            "       <i class=\"a-icon a-icon-star-small a-star-small-4-5\" data-cy=\"reviews-ratings-slot\">\n",
            "        <span class=\"a-icon-alt\">\n",
            "         4,4 de 5 estrellas\n",
            "        </span>\n",
            "       </i>\n",
            "       <i class=\"a-icon a-icon-popover\">\n",
            "       </i>\n",
            "      </a>\n",
            "     </span>\n",
            "    </span>\n",
            "    <span aria-label=\"2.009 calificaciones\">\n",
            "     <a class=\"a-link-normal s-underline-text s-underline-link-text s-link-style\" href=\"/sspa/click?ie=UTF8&amp;spc=MTo2MTE1MDU3NzkxNjUwNjk2OjE3MjczNzI3MDg6c3BfYXRmOjMwMDE3ODMwMTcxNDIzMjo6MDo6&amp;url=%2FTeledirigido-Acrob%25C3%25A1Tico-Camiones-Rotaci%25C3%25B3N-Recargable%2Fdp%2FB0C65FPP79%2Fref%3Dsr_1_1_sspa%3F__mk_es_ES%3D%25C3%2585M%25C3%2585%25C5%25BD%25C3%2595%25C3%2591%26crid%3D15JO11P5XNCC4%26dib%3DeyJ2IjoiMSJ9.JeseBEYIk1Lq23zhgXFBeLvR6IAQsidBwkDGe4FZrAkwxvV0nuk8HBhBHV9v0ErdfgH8hu9zwbmW1hAbmX21SalCQ89UhT9dhTVetx9a5zBdU_g3ukVERk-V4sMAFa3_bfE3RhQWV_FjiZXKPuryM7APNvYyDffweFog4nP62FK-XUaa4ud8cQXhqLPK0SO46INxcp1k3uO1d9_yhxrqWmZlHceJGx9lIs7nCsxIhxz_yLsYKWNe8Mq_cYWwedboBpw4gfIIOw-vG_ux6PEXW_m-wV4dzjlkiIyFH5G17Bk.nr8ZdY560awfJB5VSVA3OjhK6yr6qYglzWlNvy30UqM%26dib_tag%3Dse%26keywords%3Djuguetes%2Blego%26qid%3D1727372708%26sprefix%3Djuguetes%2Blego%252Caps%252C92%26sr%3D8-1-spons%26sp_csd%3Dd2lkZ2V0TmFtZT1zcF9hdGY%26psc%3D1#customerReviews\">\n",
            "      <span class=\"a-size-base s-underline-text\">\n",
            "       2.009\n",
            "      </span>\n",
            "     </a>\n",
            "    </span>\n",
            "   </div>\n",
            "   <div class=\"a-row a-size-base\">\n",
            "    <span class=\"a-size-base a-color-secondary\">\n",
            "     800+ comprados el mes pasado\n",
            "    </span>\n",
            "   </div>\n",
            "  </div>\n",
            "  <div class=\"a-section a-spacing-none a-spacing-top-small s-price-instructions-style\" data-cy=\"price-recipe\">\n",
            "   <div class=\"a-row a-size-base a-color-base\">\n",
            "    <div class=\"a-row\">\n",
            "     <a class=\"a-link-normal s-no-hover s-underline-text s-underline-link-text s-link-style a-text-normal\" href=\"/sspa/click?ie=UTF8&amp;spc=MTo2MTE1MDU3NzkxNjUwNjk2OjE3MjczNzI3MDg6c3BfYXRmOjMwMDE3ODMwMTcxNDIzMjo6MDo6&amp;url=%2FTeledirigido-Acrob%25C3%25A1Tico-Camiones-Rotaci%25C3%25B3N-Recargable%2Fdp%2FB0C65FPP79%2Fref%3Dsr_1_1_sspa%3F__mk_es_ES%3D%25C3%2585M%25C3%2585%25C5%25BD%25C3%2595%25C3%2591%26crid%3D15JO11P5XNCC4%26dib%3DeyJ2IjoiMSJ9.JeseBEYIk1Lq23zhgXFBeLvR6IAQsidBwkDGe4FZrAkwxvV0nuk8HBhBHV9v0ErdfgH8hu9zwbmW1hAbmX21SalCQ89UhT9dhTVetx9a5zBdU_g3ukVERk-V4sMAFa3_bfE3RhQWV_FjiZXKPuryM7APNvYyDffweFog4nP62FK-XUaa4ud8cQXhqLPK0SO46INxcp1k3uO1d9_yhxrqWmZlHceJGx9lIs7nCsxIhxz_yLsYKWNe8Mq_cYWwedboBpw4gfIIOw-vG_ux6PEXW_m-wV4dzjlkiIyFH5G17Bk.nr8ZdY560awfJB5VSVA3OjhK6yr6qYglzWlNvy30UqM%26dib_tag%3Dse%26keywords%3Djuguetes%2Blego%26qid%3D1727372708%26sprefix%3Djuguetes%2Blego%252Caps%252C92%26sr%3D8-1-spons%26sp_csd%3Dd2lkZ2V0TmFtZT1zcF9hdGY%26psc%3D1\">\n",
            "      <span class=\"a-price\" data-a-color=\"base\" data-a-size=\"xl\">\n",
            "       <span class=\"a-offscreen\">\n",
            "        27,99 €\n",
            "       </span>\n",
            "       <span aria-hidden=\"true\">\n",
            "        <span class=\"a-price-whole\">\n",
            "         27\n",
            "         <span class=\"a-price-decimal\">\n",
            "          ,\n",
            "         </span>\n",
            "        </span>\n",
            "        <span class=\"a-price-fraction\">\n",
            "         99\n",
            "        </span>\n",
            "        <span class=\"a-price-symbol\">\n",
            "         €\n",
            "        </span>\n",
            "       </span>\n",
            "      </span>\n",
            "      <div class=\"a-section aok-inline-block\">\n",
            "       <span class=\"a-size-base a-color-secondary\">\n",
            "        PVPR:\n",
            "       </span>\n",
            "       <span class=\"a-price a-text-price\" data-a-color=\"secondary\" data-a-size=\"b\" data-a-strike=\"true\">\n",
            "        <span class=\"a-offscreen\">\n",
            "         39,99 €\n",
            "        </span>\n",
            "        <span aria-hidden=\"true\">\n",
            "         39,99€\n",
            "        </span>\n",
            "       </span>\n",
            "      </div>\n",
            "     </a>\n",
            "    </div>\n",
            "    <div class=\"a-row\">\n",
            "    </div>\n",
            "   </div>\n",
            "   <div class=\"a-row a-size-base a-color-secondary\">\n",
            "    <span class=\"rush-component\" data-component-id=\"8\" data-component-props='{\"asin\":\"B0C65FPP79\"}' data-component-type=\"s-coupon-component\" data-render-id=\"rv2qf406zra29248q175sck2bb\" data-version-id=\"v2fl5pkubaqu126k6zseo6li6q\">\n",
            "     <span class=\"s-coupon-clipped aok-hidden\">\n",
            "      <span class=\"a-color-base\">\n",
            "       Se ha aplicado un cupón de descuento de 5,00 €\n",
            "      </span>\n",
            "     </span>\n",
            "     <span class=\"s-coupon-unclipped\">\n",
            "      <span class=\"a-size-base s-highlighted-text-padding s-coupon-highlight-color aok-inline-block\">\n",
            "       Ahorra 5,00 €\n",
            "      </span>\n",
            "      <span class=\"a-color-base\">\n",
            "       con un cupón\n",
            "      </span>\n",
            "     </span>\n",
            "    </span>\n",
            "   </div>\n",
            "  </div>\n",
            "  <div class=\"a-section a-spacing-none a-spacing-top-micro\" data-cy=\"delivery-recipe\">\n",
            "   <div class=\"a-row a-size-base a-color-secondary s-align-children-center\">\n",
            "    <div class=\"a-row\">\n",
            "     <span aria-label=\"Entrega GRATIS el lun, 30 de sept en tu primer pedido\">\n",
            "      <span class=\"a-color-base\">\n",
            "       Entrega GRATIS el\n",
            "      </span>\n",
            "      <span class=\"a-color-base a-text-bold\">\n",
            "       lun, 30 de sept\n",
            "      </span>\n",
            "      <span class=\"a-color-base\">\n",
            "       en tu primer pedido\n",
            "      </span>\n",
            "     </span>\n",
            "    </div>\n",
            "    <div class=\"a-row\">\n",
            "     <span aria-label=\"Entrega más rápida el sáb, 28 de sept \">\n",
            "      <span class=\"a-color-base\">\n",
            "       Entrega más rápida el\n",
            "      </span>\n",
            "      <span class=\"a-color-base a-text-bold\">\n",
            "       sáb, 28 de sept\n",
            "      </span>\n",
            "     </span>\n",
            "    </div>\n",
            "   </div>\n",
            "  </div>\n",
            "  <div class=\"a-section a-spacing-none a-spacing-top-mini\" data-cy=\"message-above-action-recipe\">\n",
            "   <div class=\"a-row a-size-base\">\n",
            "    <span class=\"a-color-base\">\n",
            "     Vendido por: AS-eu\n",
            "    </span>\n",
            "   </div>\n",
            "  </div>\n",
            "  <div class=\"a-section a-spacing-none a-spacing-top-mini puis-interactive-asin-expander-hide\" data-cy=\"product-details-recipe\">\n",
            "   <div class=\"a-row a-size-base a-color-base\">\n",
            "    <span>\n",
            "     Edades: 6 - 12 años\n",
            "    </span>\n",
            "   </div>\n",
            "  </div>\n",
            " </div>\n",
            "</div>\n",
            "\n"
          ]
        }
      ],
      "source": [
        "print(productos[0].prettify())"
      ]
    },
    {
      "cell_type": "code",
      "execution_count": 50,
      "metadata": {},
      "outputs": [],
      "source": [
        "link_producto = productos[5].find('a', class_='a-link-normal s-underline-text s-underline-link-text s-link-style a-text-normal').get('href')"
      ]
    },
    {
      "cell_type": "code",
      "execution_count": 51,
      "metadata": {},
      "outputs": [
        {
          "data": {
            "text/plain": [
              "'/LEGO-76990-Sonic-Hedgehog-Construcci%C3%B3n/dp/B0BV7CW1VW/ref=sxin_12_recs_zoco_stores_brand_identity_bs_mod_primary_new?__mk_es_ES=%C3%85M%C3%85%C5%BD%C3%95%C3%91&content-id=amzn1.sym.010735eb-b466-492a-9716-977ed5b6c19f%3Aamzn1.sym.010735eb-b466-492a-9716-977ed5b6c19f&crid=15JO11P5XNCC4&cv_ct_cx=juguetes+lego&dib=eyJ2IjoiMSJ9.zHw10fYy8g_93INkTL0IAJ6gJi-Y2w1wYFuWGPrbNnblAxHMcBOjTliFxo4jImmxlT9xEYbR6IsyMYOA5lt0t0UoQmbkG0g68eqo74hpEXHXWVl8KmTo_f7TSVZIV7E1.CGSKgj1MU5s6mnYGCKCQvDf2sJ7W3v39BWtgl6_xAFQ&dib_tag=se&keywords=juguetes+lego&pd_rd_i=B0BV7CW1VW&pd_rd_r=8d1f4c65-ba16-40f5-86d5-59f82654ed66&pd_rd_w=Cgovu&pd_rd_wg=9uX2z&pf_rd_p=010735eb-b466-492a-9716-977ed5b6c19f&pf_rd_r=4B5FHWXYMEBBDYTBZKWY&qid=1727372708&sbo=RZvfv%2F%2FHxDF%2BO5021pAnSA%3D%3D&sbo=RZvfv%2F%2FHxDF%2BO5021pAnSA%3D%3D&sprefix=juguetes+lego%2Caps%2C92&sr=1-1-0723f66e-ff99-43ba-a202-1be1089a8603'"
            ]
          },
          "execution_count": 51,
          "metadata": {},
          "output_type": "execute_result"
        }
      ],
      "source": [
        "link_producto"
      ]
    },
    {
      "cell_type": "code",
      "execution_count": 52,
      "metadata": {},
      "outputs": [],
      "source": [
        "link_tienda = 'www.amazon.com'"
      ]
    },
    {
      "cell_type": "code",
      "execution_count": 53,
      "metadata": {},
      "outputs": [],
      "source": [
        "link = link_tienda + link_producto"
      ]
    },
    {
      "cell_type": "code",
      "execution_count": 54,
      "metadata": {},
      "outputs": [
        {
          "name": "stdout",
          "output_type": "stream",
          "text": [
            "www.amazon.com/LEGO-76990-Sonic-Hedgehog-Construcci%C3%B3n/dp/B0BV7CW1VW/ref=sxin_12_recs_zoco_stores_brand_identity_bs_mod_primary_new?__mk_es_ES=%C3%85M%C3%85%C5%BD%C3%95%C3%91&content-id=amzn1.sym.010735eb-b466-492a-9716-977ed5b6c19f%3Aamzn1.sym.010735eb-b466-492a-9716-977ed5b6c19f&crid=15JO11P5XNCC4&cv_ct_cx=juguetes+lego&dib=eyJ2IjoiMSJ9.zHw10fYy8g_93INkTL0IAJ6gJi-Y2w1wYFuWGPrbNnblAxHMcBOjTliFxo4jImmxlT9xEYbR6IsyMYOA5lt0t0UoQmbkG0g68eqo74hpEXHXWVl8KmTo_f7TSVZIV7E1.CGSKgj1MU5s6mnYGCKCQvDf2sJ7W3v39BWtgl6_xAFQ&dib_tag=se&keywords=juguetes+lego&pd_rd_i=B0BV7CW1VW&pd_rd_r=8d1f4c65-ba16-40f5-86d5-59f82654ed66&pd_rd_w=Cgovu&pd_rd_wg=9uX2z&pf_rd_p=010735eb-b466-492a-9716-977ed5b6c19f&pf_rd_r=4B5FHWXYMEBBDYTBZKWY&qid=1727372708&sbo=RZvfv%2F%2FHxDF%2BO5021pAnSA%3D%3D&sbo=RZvfv%2F%2FHxDF%2BO5021pAnSA%3D%3D&sprefix=juguetes+lego%2Caps%2C92&sr=1-1-0723f66e-ff99-43ba-a202-1be1089a8603\n"
          ]
        }
      ],
      "source": [
        "print(link)"
      ]
    },
    {
      "cell_type": "code",
      "execution_count": 77,
      "metadata": {},
      "outputs": [],
      "source": [
        "producto = productos[0]\n",
        "\n",
        "#Link del producto:\n",
        "prefijo_url = 'https://www.amazon.es'\n",
        "link_parcial = producto.find('a',{'class':'a-link-normal s-underline-text s-underline-link-text s-link-style a-text-normal'}).attrs['href']\n",
        "link_producto = prefijo_url+link_parcial\n",
        "\n",
        "#Nombre producto\n",
        "nombre = producto.find('span', {'class':'a-size-base-plus a-color-base a-text-normal'}).text\n",
        "\n",
        "#Precio\n",
        "precio = float(producto.find('span', {'class':'a-offscreen'}).text.split('\\xa0')[0].replace(',','.'))\n",
        "\n",
        "#Estrellas\n",
        "valoracion = float(producto.find('span', {'class':'a-icon-alt'}).text.split(' ')[0].replace(',','.'))\n"
      ]
    },
    {
      "cell_type": "code",
      "execution_count": 103,
      "metadata": {},
      "outputs": [
        {
          "name": "stdout",
          "output_type": "stream",
          "text": [
            "0\n"
          ]
        },
        {
          "ename": "ValueError",
          "evalue": "could not convert string to float: ''",
          "output_type": "error",
          "traceback": [
            "\u001b[0;31m---------------------------------------------------------------------------\u001b[0m",
            "\u001b[0;31mValueError\u001b[0m                                Traceback (most recent call last)",
            "Cell \u001b[0;32mIn[103], line 19\u001b[0m\n\u001b[1;32m     17\u001b[0m \u001b[38;5;66;03m#for e in etiquetas:\u001b[39;00m\n\u001b[1;32m     18\u001b[0m \u001b[38;5;66;03m#    if '€' in e.text:\u001b[39;00m\n\u001b[0;32m---> 19\u001b[0m precio \u001b[38;5;241m=\u001b[39m \u001b[38;5;28;43mfloat\u001b[39;49m\u001b[43m(\u001b[49m\u001b[43metiqueta\u001b[49m\u001b[38;5;241;43m.\u001b[39;49m\u001b[43mtext\u001b[49m\u001b[38;5;241;43m.\u001b[39;49m\u001b[43msplit\u001b[49m\u001b[43m(\u001b[49m\u001b[38;5;124;43m'\u001b[39;49m\u001b[38;5;130;43;01m\\xa0\u001b[39;49;00m\u001b[38;5;124;43m'\u001b[39;49m\u001b[43m)\u001b[49m\u001b[43m[\u001b[49m\u001b[38;5;241;43m0\u001b[39;49m\u001b[43m]\u001b[49m\u001b[38;5;241;43m.\u001b[39;49m\u001b[43mreplace\u001b[49m\u001b[43m(\u001b[49m\u001b[38;5;124;43m'\u001b[39;49m\u001b[38;5;124;43m,\u001b[39;49m\u001b[38;5;124;43m'\u001b[39;49m\u001b[43m,\u001b[49m\u001b[38;5;124;43m'\u001b[39;49m\u001b[38;5;124;43m.\u001b[39;49m\u001b[38;5;124;43m'\u001b[39;49m\u001b[43m)\u001b[49m\u001b[43m)\u001b[49m\n\u001b[1;32m     20\u001b[0m dicc_prod[\u001b[38;5;124m'\u001b[39m\u001b[38;5;124mprecio\u001b[39m\u001b[38;5;124m'\u001b[39m] \u001b[38;5;241m=\u001b[39m precio\n",
            "\u001b[0;31mValueError\u001b[0m: could not convert string to float: 'Opción Amazonpara \"juguetes lego\"  '",
            "\nDuring handling of the above exception, another exception occurred:\n",
            "\u001b[0;31mValueError\u001b[0m                                Traceback (most recent call last)",
            "Cell \u001b[0;32mIn[103], line 26\u001b[0m\n\u001b[1;32m     24\u001b[0m     \u001b[38;5;28;01mfor\u001b[39;00m e \u001b[38;5;129;01min\u001b[39;00m etiquetas:\n\u001b[1;32m     25\u001b[0m         \u001b[38;5;28;01mif\u001b[39;00m \u001b[38;5;124m'\u001b[39m\u001b[38;5;124m€\u001b[39m\u001b[38;5;124m'\u001b[39m \u001b[38;5;129;01min\u001b[39;00m e\u001b[38;5;241m.\u001b[39mtext:\n\u001b[0;32m---> 26\u001b[0m             precio \u001b[38;5;241m=\u001b[39m \u001b[38;5;28;43mfloat\u001b[39;49m\u001b[43m(\u001b[49m\u001b[43me\u001b[49m\u001b[38;5;241;43m.\u001b[39;49m\u001b[43mtext\u001b[49m\u001b[38;5;241;43m.\u001b[39;49m\u001b[43msplit\u001b[49m\u001b[43m(\u001b[49m\u001b[38;5;124;43m'\u001b[39;49m\u001b[38;5;130;43;01m\\xa0\u001b[39;49;00m\u001b[38;5;124;43m'\u001b[39;49m\u001b[43m)\u001b[49m\u001b[43m[\u001b[49m\u001b[38;5;241;43m0\u001b[39;49m\u001b[43m]\u001b[49m\u001b[38;5;241;43m.\u001b[39;49m\u001b[43mreplace\u001b[49m\u001b[43m(\u001b[49m\u001b[38;5;124;43m'\u001b[39;49m\u001b[38;5;124;43m,\u001b[39;49m\u001b[38;5;124;43m'\u001b[39;49m\u001b[43m,\u001b[49m\u001b[38;5;124;43m'\u001b[39;49m\u001b[38;5;124;43m.\u001b[39;49m\u001b[38;5;124;43m'\u001b[39;49m\u001b[43m)\u001b[49m\u001b[38;5;241;43m.\u001b[39;49m\u001b[43mreplace\u001b[49m\u001b[43m(\u001b[49m\u001b[38;5;124;43m'\u001b[39;49m\u001b[38;5;124;43m€\u001b[39;49m\u001b[38;5;124;43m'\u001b[39;49m\u001b[43m,\u001b[49m\u001b[38;5;124;43m'\u001b[39;49m\u001b[38;5;124;43m'\u001b[39;49m\u001b[43m)\u001b[49m\u001b[43m)\u001b[49m\n\u001b[1;32m     27\u001b[0m             dicc_prod[\u001b[38;5;124m'\u001b[39m\u001b[38;5;124mprecio\u001b[39m\u001b[38;5;124m'\u001b[39m] \u001b[38;5;241m=\u001b[39m precio\n\u001b[1;32m     29\u001b[0m \u001b[38;5;66;03m#Estrellas\u001b[39;00m\n",
            "\u001b[0;31mValueError\u001b[0m: could not convert string to float: ''"
          ]
        }
      ],
      "source": [
        "import pandas as pd\n",
        "info_productos = []\n",
        "for i, producto in enumerate(productos):\n",
        "    print(i)\n",
        "    dicc_prod = {}\n",
        "    #Link del producto:\n",
        "    prefijo_url = 'https://www.amazon.es'\n",
        "    link_parcial = producto.find('a',{'class':'a-link-normal s-underline-text s-underline-link-text s-link-style a-text-normal'}).attrs['href']\n",
        "    link_producto = prefijo_url+link_parcial\n",
        "    dicc_prod['link_producto'] = link_producto\n",
        "    #Nombre producto\n",
        "    nombre = producto.find('span', {'class':'a-size-base-plus a-color-base a-text-normal'}).text\n",
        "    dicc_prod['nombre'] = nombre\n",
        "    #Precio\n",
        "    try:\n",
        "        etiqueta = producto.find(('span', {'class':'a-offscreen'}))\n",
        "        #for e in etiquetas:\n",
        "        if '€' in e.text:\n",
        "            precio = float(etiqueta.text.split('\\xa0')[0].replace(',','.'))\n",
        "            dicc_prod['precio'] = precio\n",
        "\n",
        "    except:\n",
        "        etiquetas = producto.find_all(('span', {'class':'a-color-base'}))\n",
        "        for e in etiquetas:\n",
        "            if '€' in e.text:\n",
        "                precio = float(e.text.split('\\xa0')[0].replace(',','.').replace('€',''))\n",
        "                dicc_prod['precio'] = precio\n",
        "            \n",
        "    #Estrellas\n",
        "    valoracion = float(producto.find('span', {'class':'a-icon-alt'}).text.split(' ')[0].replace(',','.'))\n",
        "    dicc_prod['valoracion'] = valoracion\n",
        "\n",
        "    info_productos.append(dicc_prod)\n",
        "df_prod = pd.DataFrame(info_productos)\n",
        "df_prod"
      ]
    },
    {
      "cell_type": "code",
      "execution_count": 104,
      "metadata": {},
      "outputs": [
        {
          "data": {
            "text/plain": [
              "<div class=\"a-section a-spacing-base\"><div class=\"a-section a-spacing-none puis-status-badge-container aok-relative s-grid-status-badge-container puis-expand-height\"><span aria-label=\"Opción Amazon\"><a class=\"a-link-normal s-underline-text s-underline-link-text s-link-style\" href=\"/LEGO-Marvel-Persecuci%C3%B3n-Moto-Aracnobl%C3%A1steres/dp/B0CFW36SSM/ref=ice_ac_b_dpb?__mk_es_ES=%C3%85M%C3%85%C5%BD%C3%95%C3%91&amp;crid=3S067YZQN1TJ5&amp;dib=eyJ2IjoiMSJ9.zhUrcY5uBDTMszKHOqW27zpnv3d8OrW57yCX5RNhIgygGTchnQbeVxuQhGZk_7oF2VdC1r4Y5d3D5VuC1jGMYtwSosk6_DFyt6q03dBF5OxdU_g3ukVERk-V4sMAFa3_mkO5DwRzIopNSVzZ5LngP6qI2quLxsh-IhG-gabPGKpNcckIig3VllVKypIyWF1OZILx1HKtjhab9RyP_Wkdypi7RFcuk9e5k5GJRtcRAENMxLCmR1DgY2zP5UeAQOGSxOIEBa1J2BywdGJ1DIPK1GNWuTYHjF3zZ8ULR4MFJfQ.bXu85brkA3kq8wycorsrIr-0QwCA0yUNt5kS48xDvnI&amp;dib_tag=se&amp;keywords=juguetes+lego&amp;qid=1727196297&amp;sprefix=juguetes+lego%2Caps%2C108&amp;sr=8-1\"><span class=\"rush-component\" data-component-id=\"17\" data-component-props='{\"asin\":\"B0CFW36SSM\",\"badgeType\":\"amazons-choice\"}' data-component-type=\"s-status-badge-component\" data-render-id=\"r3r41o9six00we2aqjmhxqinn9v\" data-version-id=\"v2fl5pkubaqu126k6zseo6li6q\"><div class=\"a-row a-badge-region\"><span aria-labelledby=\"B0CFW36SSM-amazons-choice-label B0CFW36SSM-amazons-choice-supplementary\" class=\"a-badge\" data-a-badge-supplementary-position=\"right\" data-a-badge-type=\"status\" id=\"B0CFW36SSM-amazons-choice\" role=\"group\" tabindex=\"0\"><span aria-hidden=\"true\" class=\"a-badge-label\" data-a-badge-color=\"sx-gulfstream\" id=\"B0CFW36SSM-amazons-choice-label\"><span class=\"a-badge-label-inner a-text-ellipsis\"><span class=\"a-badge-text\" data-a-badge-color=\"sx-cloud\">Opción </span><span class=\"a-badge-text\" data-a-badge-color=\"ac-orange\">Amazon</span></span></span><span aria-hidden=\"true\" class=\"a-badge-supplementary-text a-text-ellipsis\" id=\"B0CFW36SSM-amazons-choice-supplementary\">para \"juguetes lego\"</span></span></div></span> </a> </span></div><div class=\"s-product-image-container aok-relative s-text-center s-image-overlay-grey puis-image-overlay-grey s-padding-left-small s-padding-right-small puis-spacing-small s-height-equalized puis puis-v2fl5pkubaqu126k6zseo6li6q\" data-cy=\"image-container\" style=\"padding-top: 0px !important;\"><span class=\"rush-component\" data-component-type=\"s-product-image\" data-render-id=\"r3r41o9six00we2aqjmhxqinn9v\" data-version-id=\"v2fl5pkubaqu126k6zseo6li6q\"><a class=\"a-link-normal s-no-outline\" href=\"/LEGO-Marvel-Persecuci%C3%B3n-Moto-Aracnobl%C3%A1steres/dp/B0CFW36SSM/ref=sr_1_1?__mk_es_ES=%C3%85M%C3%85%C5%BD%C3%95%C3%91&amp;crid=3S067YZQN1TJ5&amp;dib=eyJ2IjoiMSJ9.zhUrcY5uBDTMszKHOqW27zpnv3d8OrW57yCX5RNhIgygGTchnQbeVxuQhGZk_7oF2VdC1r4Y5d3D5VuC1jGMYtwSosk6_DFyt6q03dBF5OxdU_g3ukVERk-V4sMAFa3_mkO5DwRzIopNSVzZ5LngP6qI2quLxsh-IhG-gabPGKpNcckIig3VllVKypIyWF1OZILx1HKtjhab9RyP_Wkdypi7RFcuk9e5k5GJRtcRAENMxLCmR1DgY2zP5UeAQOGSxOIEBa1J2BywdGJ1DIPK1GNWuTYHjF3zZ8ULR4MFJfQ.bXu85brkA3kq8wycorsrIr-0QwCA0yUNt5kS48xDvnI&amp;dib_tag=se&amp;keywords=juguetes+lego&amp;qid=1727196297&amp;sprefix=juguetes+lego%2Caps%2C108&amp;sr=8-1\" tabindex=\"-1\"><div class=\"a-section aok-relative s-image-square-aspect\"><img alt=\"LEGO Marvel Persecución en Moto: Spider-Man vs. Doc Ock, Juguete de Construcción con Cañones y Aracnoblásteres, Moto de Sp...\" aria-hidden=\"true\" class=\"s-image\" data-image-index=\"1\" data-image-latency=\"s-product-image\" data-image-load=\"\" data-image-source-density=\"1\" src=\"https://m.media-amazon.com/images/I/81oBJ6BZucL._AC_UL320_.jpg\" srcset=\"https://m.media-amazon.com/images/I/81oBJ6BZucL._AC_UL320_.jpg 1x, https://m.media-amazon.com/images/I/81oBJ6BZucL._AC_UL480_FMwebp_QL65_.jpg 1.5x, https://m.media-amazon.com/images/I/81oBJ6BZucL._AC_UL640_FMwebp_QL65_.jpg 2x, https://m.media-amazon.com/images/I/81oBJ6BZucL._AC_UL800_FMwebp_QL65_.jpg 2.5x, https://m.media-amazon.com/images/I/81oBJ6BZucL._AC_UL960_FMwebp_QL65_.jpg 3x\"/></div></a></span></div><div class=\"a-section a-spacing-small puis-padding-left-small puis-padding-right-small\"><div class=\"a-section a-spacing-none a-spacing-top-small s-title-instructions-style\" data-cy=\"title-recipe\"><h2 class=\"a-size-mini a-spacing-none a-color-base s-line-clamp-4\"><a class=\"a-link-normal s-underline-text s-underline-link-text s-link-style a-text-normal\" href=\"/LEGO-Marvel-Persecuci%C3%B3n-Moto-Aracnobl%C3%A1steres/dp/B0CFW36SSM/ref=sr_1_1?__mk_es_ES=%C3%85M%C3%85%C5%BD%C3%95%C3%91&amp;crid=3S067YZQN1TJ5&amp;dib=eyJ2IjoiMSJ9.zhUrcY5uBDTMszKHOqW27zpnv3d8OrW57yCX5RNhIgygGTchnQbeVxuQhGZk_7oF2VdC1r4Y5d3D5VuC1jGMYtwSosk6_DFyt6q03dBF5OxdU_g3ukVERk-V4sMAFa3_mkO5DwRzIopNSVzZ5LngP6qI2quLxsh-IhG-gabPGKpNcckIig3VllVKypIyWF1OZILx1HKtjhab9RyP_Wkdypi7RFcuk9e5k5GJRtcRAENMxLCmR1DgY2zP5UeAQOGSxOIEBa1J2BywdGJ1DIPK1GNWuTYHjF3zZ8ULR4MFJfQ.bXu85brkA3kq8wycorsrIr-0QwCA0yUNt5kS48xDvnI&amp;dib_tag=se&amp;keywords=juguetes+lego&amp;qid=1727196297&amp;sprefix=juguetes+lego%2Caps%2C108&amp;sr=8-1\"><span class=\"a-size-base-plus a-color-base a-text-normal\">LEGO Marvel Persecución en Moto: Spider-Man vs. Doc Ock, Juguete de Construcción con Cañones y Aracnoblásteres, Moto de Spidey, Regalo para Niños, Niñas y Fans de Superhéroes de 6 Años o Más 76275</span> </a> </h2></div><div class=\"a-section a-spacing-none a-spacing-top-micro\" data-cy=\"reviews-block\"><div class=\"a-row a-size-small\"><span aria-label=\"4,6 de 5 estrellas\"><span class=\"a-declarative\" data-a-popover='{\"closeButton\":true,\"closeButtonLabel\":\"\",\"activate\":\"onmouseover\",\"name\":\"\",\"position\":\"triggerBottom\",\"popoverLabel\":\"\",\"url\":\"/review/widgets/average-customer-review/popover/ref=acr_search__popover?ie=UTF8&amp;asin=B0CFW36SSM&amp;ref_=acr_search__popover&amp;contextId=search\"}' data-action=\"a-popover\" data-csa-c-func-deps=\"aui-da-a-popover\" data-csa-c-id=\"dflgkm-xayidx-bp0gmz-2oxetk\" data-csa-c-type=\"widget\" data-render-id=\"r3r41o9six00we2aqjmhxqinn9v\" data-version-id=\"v2fl5pkubaqu126k6zseo6li6q\"><a class=\"a-popover-trigger a-declarative\" href=\"javascript:void(0)\" role=\"button\"><i class=\"a-icon a-icon-star-small a-star-small-4-5\" data-cy=\"reviews-ratings-slot\"><span class=\"a-icon-alt\">4,6 de 5 estrellas</span></i><i class=\"a-icon a-icon-popover\"></i></a></span> </span><span aria-label=\"865 calificaciones\"><a class=\"a-link-normal s-underline-text s-underline-link-text s-link-style\" href=\"/LEGO-Marvel-Persecuci%C3%B3n-Moto-Aracnobl%C3%A1steres/dp/B0CFW36SSM/ref=sr_1_1?__mk_es_ES=%C3%85M%C3%85%C5%BD%C3%95%C3%91&amp;crid=3S067YZQN1TJ5&amp;dib=eyJ2IjoiMSJ9.zhUrcY5uBDTMszKHOqW27zpnv3d8OrW57yCX5RNhIgygGTchnQbeVxuQhGZk_7oF2VdC1r4Y5d3D5VuC1jGMYtwSosk6_DFyt6q03dBF5OxdU_g3ukVERk-V4sMAFa3_mkO5DwRzIopNSVzZ5LngP6qI2quLxsh-IhG-gabPGKpNcckIig3VllVKypIyWF1OZILx1HKtjhab9RyP_Wkdypi7RFcuk9e5k5GJRtcRAENMxLCmR1DgY2zP5UeAQOGSxOIEBa1J2BywdGJ1DIPK1GNWuTYHjF3zZ8ULR4MFJfQ.bXu85brkA3kq8wycorsrIr-0QwCA0yUNt5kS48xDvnI&amp;dib_tag=se&amp;keywords=juguetes+lego&amp;qid=1727196297&amp;sprefix=juguetes+lego%2Caps%2C108&amp;sr=8-1#customerReviews\"><span class=\"a-size-base s-underline-text\">865</span> </a> </span></div><div class=\"a-row a-size-base\"><span class=\"a-size-base a-color-secondary\">500+ comprados el mes pasado</span></div></div><div class=\"a-section a-spacing-none a-spacing-top-small s-price-instructions-style\" data-cy=\"price-recipe\"><div class=\"a-row a-size-base a-color-base\"><div class=\"a-row\"><a class=\"a-link-normal s-no-hover s-underline-text s-underline-link-text s-link-style a-text-normal\" href=\"/LEGO-Marvel-Persecuci%C3%B3n-Moto-Aracnobl%C3%A1steres/dp/B0CFW36SSM/ref=sr_1_1?__mk_es_ES=%C3%85M%C3%85%C5%BD%C3%95%C3%91&amp;crid=3S067YZQN1TJ5&amp;dib=eyJ2IjoiMSJ9.zhUrcY5uBDTMszKHOqW27zpnv3d8OrW57yCX5RNhIgygGTchnQbeVxuQhGZk_7oF2VdC1r4Y5d3D5VuC1jGMYtwSosk6_DFyt6q03dBF5OxdU_g3ukVERk-V4sMAFa3_mkO5DwRzIopNSVzZ5LngP6qI2quLxsh-IhG-gabPGKpNcckIig3VllVKypIyWF1OZILx1HKtjhab9RyP_Wkdypi7RFcuk9e5k5GJRtcRAENMxLCmR1DgY2zP5UeAQOGSxOIEBa1J2BywdGJ1DIPK1GNWuTYHjF3zZ8ULR4MFJfQ.bXu85brkA3kq8wycorsrIr-0QwCA0yUNt5kS48xDvnI&amp;dib_tag=se&amp;keywords=juguetes+lego&amp;qid=1727196297&amp;sprefix=juguetes+lego%2Caps%2C108&amp;sr=8-1\"><span class=\"a-price\" data-a-color=\"base\" data-a-size=\"xl\"><span class=\"a-offscreen\">9,99 €</span><span aria-hidden=\"true\"><span class=\"a-price-whole\">9<span class=\"a-price-decimal\">,</span></span><span class=\"a-price-fraction\">99</span><span class=\"a-price-symbol\">€</span></span></span></a></div><div class=\"a-row\"></div></div><div class=\"a-row a-size-base a-color-secondary\"><span>Ahorra 5 % al comprar 4 de esta selección</span><span></span></div></div><div class=\"a-section a-spacing-none a-spacing-top-micro\" data-cy=\"delivery-recipe\"><div class=\"a-row a-size-base a-color-secondary s-align-children-center\"><div class=\"a-row\"><span aria-label=\"Entrega GRATIS el sáb, 28 de sept en tu primer pedido\"><span class=\"a-color-base\">Entrega GRATIS el </span><span class=\"a-color-base a-text-bold\">sáb, 28 de sept </span><span class=\"a-color-base\">en tu primer pedido</span></span></div><div class=\"a-row\"><span aria-label=\"Entrega más rápida el jue, 26 de sept \"><span class=\"a-color-base\">Entrega más rápida el </span><span class=\"a-color-base a-text-bold\">jue, 26 de sept </span></span></div></div></div><div class=\"a-section a-spacing-none a-spacing-top-mini\" data-cy=\"message-above-action-recipe\"><div class=\"a-row a-size-base\"><span class=\"a-color-base\">Vendido por: Amazon</span></div></div><div class=\"a-section a-spacing-none a-spacing-top-mini puis-interactive-asin-expander-hide\" data-cy=\"secondary-offer-recipe\"><div class=\"a-row a-size-base a-color-secondary\"><span class=\"a-size-base a-color-secondary\">Más opciones de compra</span><br/><span class=\"a-color-base\">8,42 €</span><span class=\"a-letter-space\"></span><span class=\"a-declarative\" data-action=\"s-show-all-offers-display\" data-csa-c-func-deps=\"aui-da-s-show-all-offers-display\" data-csa-c-id=\"ijklhe-rf2mok-fotlu6-cf1yc2\" data-csa-c-type=\"widget\" data-render-id=\"r3r41o9six00we2aqjmhxqinn9v\" data-s-show-all-offers-display='{\"assetMismatch\":\"Abandon\",\"url\":\"/gp/aod/ajax/ref=sr_1_1_aod?asin=B0CFW36SSM&amp;pc=sp&amp;keywords=juguetes+lego&amp;crid=3S067YZQN1TJ5&amp;sprefix=juguetes+lego%2Caps%2C108&amp;dib_tag=se&amp;dib=eyJ2IjoiMSJ9.zhUrcY5uBDTMszKHOqW27zpnv3d8OrW57yCX5RNhIgygGTchnQbeVxuQhGZk_7oF2VdC1r4Y5d3D5VuC1jGMYtwSosk6_DFyt6q03dBF5OxdU_g3ukVERk-V4sMAFa3_mkO5DwRzIopNSVzZ5LngP6qI2quLxsh-IhG-gabPGKpNcckIig3VllVKypIyWF1OZILx1HKtjhab9RyP_Wkdypi7RFcuk9e5k5GJRtcRAENMxLCmR1DgY2zP5UeAQOGSxOIEBa1J2BywdGJ1DIPK1GNWuTYHjF3zZ8ULR4MFJfQ.bXu85brkA3kq8wycorsrIr-0QwCA0yUNt5kS48xDvnI&amp;__mk_es_ES=%C3%85M%C3%85%C5%BD%C3%95%C3%91&amp;qid=1727196297&amp;sr=8-1\",\"fallbackUrl\":\"/gp/offer-listing/B0CFW36SSM/ref=sr_1_1_olp?keywords=juguetes+lego&amp;crid=3S067YZQN1TJ5&amp;sprefix=juguetes+lego%2Caps%2C108&amp;dib_tag=se&amp;dib=eyJ2IjoiMSJ9.zhUrcY5uBDTMszKHOqW27zpnv3d8OrW57yCX5RNhIgygGTchnQbeVxuQhGZk_7oF2VdC1r4Y5d3D5VuC1jGMYtwSosk6_DFyt6q03dBF5OxdU_g3ukVERk-V4sMAFa3_mkO5DwRzIopNSVzZ5LngP6qI2quLxsh-IhG-gabPGKpNcckIig3VllVKypIyWF1OZILx1HKtjhab9RyP_Wkdypi7RFcuk9e5k5GJRtcRAENMxLCmR1DgY2zP5UeAQOGSxOIEBa1J2BywdGJ1DIPK1GNWuTYHjF3zZ8ULR4MFJfQ.bXu85brkA3kq8wycorsrIr-0QwCA0yUNt5kS48xDvnI&amp;__mk_es_ES=%C3%85M%C3%85%C5%BD%C3%95%C3%91&amp;qid=1727196297&amp;sr=8-1\"}' data-version-id=\"v2fl5pkubaqu126k6zseo6li6q\"><a class=\"a-link-normal s-link-style s-underline-text s-underline-link-text\" href=\"/gp/offer-listing/B0CFW36SSM/ref=sr_1_1_olp?keywords=juguetes+lego&amp;crid=3S067YZQN1TJ5&amp;sprefix=juguetes+lego%2Caps%2C108&amp;dib_tag=se&amp;dib=eyJ2IjoiMSJ9.zhUrcY5uBDTMszKHOqW27zpnv3d8OrW57yCX5RNhIgygGTchnQbeVxuQhGZk_7oF2VdC1r4Y5d3D5VuC1jGMYtwSosk6_DFyt6q03dBF5OxdU_g3ukVERk-V4sMAFa3_mkO5DwRzIopNSVzZ5LngP6qI2quLxsh-IhG-gabPGKpNcckIig3VllVKypIyWF1OZILx1HKtjhab9RyP_Wkdypi7RFcuk9e5k5GJRtcRAENMxLCmR1DgY2zP5UeAQOGSxOIEBa1J2BywdGJ1DIPK1GNWuTYHjF3zZ8ULR4MFJfQ.bXu85brkA3kq8wycorsrIr-0QwCA0yUNt5kS48xDvnI&amp;__mk_es_ES=%C3%85M%C3%85%C5%BD%C3%95%C3%91&amp;qid=1727196297&amp;sr=8-1\">(49 ofertas usadas y nuevas)</a></span><div class=\"a-section aok-hidden\" id=\"all-offers-display\"><div class=\"a-spinner-wrapper aok-hidden\" id=\"all-offers-display-spinner\"><span class=\"a-spinner a-spinner-medium\"></span></div></div><span class=\"a-declarative\" data-action=\"close-all-offers-display\" data-csa-c-func-deps=\"aui-da-close-all-offers-display\" data-csa-c-id=\"v8tscp-9rywao-izti36-qn66mm\" data-csa-c-type=\"widget\" data-render-id=\"r3r41o9six00we2aqjmhxqinn9v\" data-version-id=\"v2fl5pkubaqu126k6zseo6li6q\"><div class=\"a-section aok-hidden aod-darken-background\" id=\"aod-background\"></div></span></div></div><div class=\"a-section a-spacing-none a-spacing-top-mini puis-interactive-asin-expander-hide\" data-cy=\"product-details-recipe\"><div class=\"a-row a-size-base a-color-base\"><span>Edades: 6 años y más</span></div></div></div></div>"
            ]
          },
          "execution_count": 104,
          "metadata": {},
          "output_type": "execute_result"
        }
      ],
      "source": [
        "producto"
      ]
    },
    {
      "cell_type": "code",
      "execution_count": 106,
      "metadata": {},
      "outputs": [
        {
          "name": "stdout",
          "output_type": "stream",
          "text": [
            "9,99 €9,99€\n",
            "9,99 €\n",
            "9,99€\n",
            "€\n",
            "8,42 €\n"
          ]
        }
      ],
      "source": [
        "etiquetas = producto.find_all(('span', {'class':'a-color-base'}))\n",
        "for e in etiquetas:\n",
        "    if '€' in e.text:\n",
        "        print(e.text)"
      ]
    },
    {
      "cell_type": "code",
      "execution_count": 105,
      "metadata": {},
      "outputs": [
        {
          "name": "stdout",
          "output_type": "stream",
          "text": [
            "<div class=\"a-section a-spacing-base\">\n",
            " <div class=\"a-section a-spacing-none puis-status-badge-container aok-relative s-grid-status-badge-container puis-expand-height\">\n",
            "  <span aria-label=\"Opción Amazon\">\n",
            "   <a class=\"a-link-normal s-underline-text s-underline-link-text s-link-style\" href=\"/LEGO-Marvel-Persecuci%C3%B3n-Moto-Aracnobl%C3%A1steres/dp/B0CFW36SSM/ref=ice_ac_b_dpb?__mk_es_ES=%C3%85M%C3%85%C5%BD%C3%95%C3%91&amp;crid=3S067YZQN1TJ5&amp;dib=eyJ2IjoiMSJ9.zhUrcY5uBDTMszKHOqW27zpnv3d8OrW57yCX5RNhIgygGTchnQbeVxuQhGZk_7oF2VdC1r4Y5d3D5VuC1jGMYtwSosk6_DFyt6q03dBF5OxdU_g3ukVERk-V4sMAFa3_mkO5DwRzIopNSVzZ5LngP6qI2quLxsh-IhG-gabPGKpNcckIig3VllVKypIyWF1OZILx1HKtjhab9RyP_Wkdypi7RFcuk9e5k5GJRtcRAENMxLCmR1DgY2zP5UeAQOGSxOIEBa1J2BywdGJ1DIPK1GNWuTYHjF3zZ8ULR4MFJfQ.bXu85brkA3kq8wycorsrIr-0QwCA0yUNt5kS48xDvnI&amp;dib_tag=se&amp;keywords=juguetes+lego&amp;qid=1727196297&amp;sprefix=juguetes+lego%2Caps%2C108&amp;sr=8-1\">\n",
            "    <span class=\"rush-component\" data-component-id=\"17\" data-component-props='{\"asin\":\"B0CFW36SSM\",\"badgeType\":\"amazons-choice\"}' data-component-type=\"s-status-badge-component\" data-render-id=\"r3r41o9six00we2aqjmhxqinn9v\" data-version-id=\"v2fl5pkubaqu126k6zseo6li6q\">\n",
            "     <div class=\"a-row a-badge-region\">\n",
            "      <span aria-labelledby=\"B0CFW36SSM-amazons-choice-label B0CFW36SSM-amazons-choice-supplementary\" class=\"a-badge\" data-a-badge-supplementary-position=\"right\" data-a-badge-type=\"status\" id=\"B0CFW36SSM-amazons-choice\" role=\"group\" tabindex=\"0\">\n",
            "       <span aria-hidden=\"true\" class=\"a-badge-label\" data-a-badge-color=\"sx-gulfstream\" id=\"B0CFW36SSM-amazons-choice-label\">\n",
            "        <span class=\"a-badge-label-inner a-text-ellipsis\">\n",
            "         <span class=\"a-badge-text\" data-a-badge-color=\"sx-cloud\">\n",
            "          Opción\n",
            "         </span>\n",
            "         <span class=\"a-badge-text\" data-a-badge-color=\"ac-orange\">\n",
            "          Amazon\n",
            "         </span>\n",
            "        </span>\n",
            "       </span>\n",
            "       <span aria-hidden=\"true\" class=\"a-badge-supplementary-text a-text-ellipsis\" id=\"B0CFW36SSM-amazons-choice-supplementary\">\n",
            "        para \"juguetes lego\"\n",
            "       </span>\n",
            "      </span>\n",
            "     </div>\n",
            "    </span>\n",
            "   </a>\n",
            "  </span>\n",
            " </div>\n",
            " <div class=\"s-product-image-container aok-relative s-text-center s-image-overlay-grey puis-image-overlay-grey s-padding-left-small s-padding-right-small puis-spacing-small s-height-equalized puis puis-v2fl5pkubaqu126k6zseo6li6q\" data-cy=\"image-container\" style=\"padding-top: 0px !important;\">\n",
            "  <span class=\"rush-component\" data-component-type=\"s-product-image\" data-render-id=\"r3r41o9six00we2aqjmhxqinn9v\" data-version-id=\"v2fl5pkubaqu126k6zseo6li6q\">\n",
            "   <a class=\"a-link-normal s-no-outline\" href=\"/LEGO-Marvel-Persecuci%C3%B3n-Moto-Aracnobl%C3%A1steres/dp/B0CFW36SSM/ref=sr_1_1?__mk_es_ES=%C3%85M%C3%85%C5%BD%C3%95%C3%91&amp;crid=3S067YZQN1TJ5&amp;dib=eyJ2IjoiMSJ9.zhUrcY5uBDTMszKHOqW27zpnv3d8OrW57yCX5RNhIgygGTchnQbeVxuQhGZk_7oF2VdC1r4Y5d3D5VuC1jGMYtwSosk6_DFyt6q03dBF5OxdU_g3ukVERk-V4sMAFa3_mkO5DwRzIopNSVzZ5LngP6qI2quLxsh-IhG-gabPGKpNcckIig3VllVKypIyWF1OZILx1HKtjhab9RyP_Wkdypi7RFcuk9e5k5GJRtcRAENMxLCmR1DgY2zP5UeAQOGSxOIEBa1J2BywdGJ1DIPK1GNWuTYHjF3zZ8ULR4MFJfQ.bXu85brkA3kq8wycorsrIr-0QwCA0yUNt5kS48xDvnI&amp;dib_tag=se&amp;keywords=juguetes+lego&amp;qid=1727196297&amp;sprefix=juguetes+lego%2Caps%2C108&amp;sr=8-1\" tabindex=\"-1\">\n",
            "    <div class=\"a-section aok-relative s-image-square-aspect\">\n",
            "     <img alt=\"LEGO Marvel Persecución en Moto: Spider-Man vs. Doc Ock, Juguete de Construcción con Cañones y Aracnoblásteres, Moto de Sp...\" aria-hidden=\"true\" class=\"s-image\" data-image-index=\"1\" data-image-latency=\"s-product-image\" data-image-load=\"\" data-image-source-density=\"1\" src=\"https://m.media-amazon.com/images/I/81oBJ6BZucL._AC_UL320_.jpg\" srcset=\"https://m.media-amazon.com/images/I/81oBJ6BZucL._AC_UL320_.jpg 1x, https://m.media-amazon.com/images/I/81oBJ6BZucL._AC_UL480_FMwebp_QL65_.jpg 1.5x, https://m.media-amazon.com/images/I/81oBJ6BZucL._AC_UL640_FMwebp_QL65_.jpg 2x, https://m.media-amazon.com/images/I/81oBJ6BZucL._AC_UL800_FMwebp_QL65_.jpg 2.5x, https://m.media-amazon.com/images/I/81oBJ6BZucL._AC_UL960_FMwebp_QL65_.jpg 3x\"/>\n",
            "    </div>\n",
            "   </a>\n",
            "  </span>\n",
            " </div>\n",
            " <div class=\"a-section a-spacing-small puis-padding-left-small puis-padding-right-small\">\n",
            "  <div class=\"a-section a-spacing-none a-spacing-top-small s-title-instructions-style\" data-cy=\"title-recipe\">\n",
            "   <h2 class=\"a-size-mini a-spacing-none a-color-base s-line-clamp-4\">\n",
            "    <a class=\"a-link-normal s-underline-text s-underline-link-text s-link-style a-text-normal\" href=\"/LEGO-Marvel-Persecuci%C3%B3n-Moto-Aracnobl%C3%A1steres/dp/B0CFW36SSM/ref=sr_1_1?__mk_es_ES=%C3%85M%C3%85%C5%BD%C3%95%C3%91&amp;crid=3S067YZQN1TJ5&amp;dib=eyJ2IjoiMSJ9.zhUrcY5uBDTMszKHOqW27zpnv3d8OrW57yCX5RNhIgygGTchnQbeVxuQhGZk_7oF2VdC1r4Y5d3D5VuC1jGMYtwSosk6_DFyt6q03dBF5OxdU_g3ukVERk-V4sMAFa3_mkO5DwRzIopNSVzZ5LngP6qI2quLxsh-IhG-gabPGKpNcckIig3VllVKypIyWF1OZILx1HKtjhab9RyP_Wkdypi7RFcuk9e5k5GJRtcRAENMxLCmR1DgY2zP5UeAQOGSxOIEBa1J2BywdGJ1DIPK1GNWuTYHjF3zZ8ULR4MFJfQ.bXu85brkA3kq8wycorsrIr-0QwCA0yUNt5kS48xDvnI&amp;dib_tag=se&amp;keywords=juguetes+lego&amp;qid=1727196297&amp;sprefix=juguetes+lego%2Caps%2C108&amp;sr=8-1\">\n",
            "     <span class=\"a-size-base-plus a-color-base a-text-normal\">\n",
            "      LEGO Marvel Persecución en Moto: Spider-Man vs. Doc Ock, Juguete de Construcción con Cañones y Aracnoblásteres, Moto de Spidey, Regalo para Niños, Niñas y Fans de Superhéroes de 6 Años o Más 76275\n",
            "     </span>\n",
            "    </a>\n",
            "   </h2>\n",
            "  </div>\n",
            "  <div class=\"a-section a-spacing-none a-spacing-top-micro\" data-cy=\"reviews-block\">\n",
            "   <div class=\"a-row a-size-small\">\n",
            "    <span aria-label=\"4,6 de 5 estrellas\">\n",
            "     <span class=\"a-declarative\" data-a-popover='{\"closeButton\":true,\"closeButtonLabel\":\"\",\"activate\":\"onmouseover\",\"name\":\"\",\"position\":\"triggerBottom\",\"popoverLabel\":\"\",\"url\":\"/review/widgets/average-customer-review/popover/ref=acr_search__popover?ie=UTF8&amp;asin=B0CFW36SSM&amp;ref_=acr_search__popover&amp;contextId=search\"}' data-action=\"a-popover\" data-csa-c-func-deps=\"aui-da-a-popover\" data-csa-c-id=\"dflgkm-xayidx-bp0gmz-2oxetk\" data-csa-c-type=\"widget\" data-render-id=\"r3r41o9six00we2aqjmhxqinn9v\" data-version-id=\"v2fl5pkubaqu126k6zseo6li6q\">\n",
            "      <a class=\"a-popover-trigger a-declarative\" href=\"javascript:void(0)\" role=\"button\">\n",
            "       <i class=\"a-icon a-icon-star-small a-star-small-4-5\" data-cy=\"reviews-ratings-slot\">\n",
            "        <span class=\"a-icon-alt\">\n",
            "         4,6 de 5 estrellas\n",
            "        </span>\n",
            "       </i>\n",
            "       <i class=\"a-icon a-icon-popover\">\n",
            "       </i>\n",
            "      </a>\n",
            "     </span>\n",
            "    </span>\n",
            "    <span aria-label=\"865 calificaciones\">\n",
            "     <a class=\"a-link-normal s-underline-text s-underline-link-text s-link-style\" href=\"/LEGO-Marvel-Persecuci%C3%B3n-Moto-Aracnobl%C3%A1steres/dp/B0CFW36SSM/ref=sr_1_1?__mk_es_ES=%C3%85M%C3%85%C5%BD%C3%95%C3%91&amp;crid=3S067YZQN1TJ5&amp;dib=eyJ2IjoiMSJ9.zhUrcY5uBDTMszKHOqW27zpnv3d8OrW57yCX5RNhIgygGTchnQbeVxuQhGZk_7oF2VdC1r4Y5d3D5VuC1jGMYtwSosk6_DFyt6q03dBF5OxdU_g3ukVERk-V4sMAFa3_mkO5DwRzIopNSVzZ5LngP6qI2quLxsh-IhG-gabPGKpNcckIig3VllVKypIyWF1OZILx1HKtjhab9RyP_Wkdypi7RFcuk9e5k5GJRtcRAENMxLCmR1DgY2zP5UeAQOGSxOIEBa1J2BywdGJ1DIPK1GNWuTYHjF3zZ8ULR4MFJfQ.bXu85brkA3kq8wycorsrIr-0QwCA0yUNt5kS48xDvnI&amp;dib_tag=se&amp;keywords=juguetes+lego&amp;qid=1727196297&amp;sprefix=juguetes+lego%2Caps%2C108&amp;sr=8-1#customerReviews\">\n",
            "      <span class=\"a-size-base s-underline-text\">\n",
            "       865\n",
            "      </span>\n",
            "     </a>\n",
            "    </span>\n",
            "   </div>\n",
            "   <div class=\"a-row a-size-base\">\n",
            "    <span class=\"a-size-base a-color-secondary\">\n",
            "     500+ comprados el mes pasado\n",
            "    </span>\n",
            "   </div>\n",
            "  </div>\n",
            "  <div class=\"a-section a-spacing-none a-spacing-top-small s-price-instructions-style\" data-cy=\"price-recipe\">\n",
            "   <div class=\"a-row a-size-base a-color-base\">\n",
            "    <div class=\"a-row\">\n",
            "     <a class=\"a-link-normal s-no-hover s-underline-text s-underline-link-text s-link-style a-text-normal\" href=\"/LEGO-Marvel-Persecuci%C3%B3n-Moto-Aracnobl%C3%A1steres/dp/B0CFW36SSM/ref=sr_1_1?__mk_es_ES=%C3%85M%C3%85%C5%BD%C3%95%C3%91&amp;crid=3S067YZQN1TJ5&amp;dib=eyJ2IjoiMSJ9.zhUrcY5uBDTMszKHOqW27zpnv3d8OrW57yCX5RNhIgygGTchnQbeVxuQhGZk_7oF2VdC1r4Y5d3D5VuC1jGMYtwSosk6_DFyt6q03dBF5OxdU_g3ukVERk-V4sMAFa3_mkO5DwRzIopNSVzZ5LngP6qI2quLxsh-IhG-gabPGKpNcckIig3VllVKypIyWF1OZILx1HKtjhab9RyP_Wkdypi7RFcuk9e5k5GJRtcRAENMxLCmR1DgY2zP5UeAQOGSxOIEBa1J2BywdGJ1DIPK1GNWuTYHjF3zZ8ULR4MFJfQ.bXu85brkA3kq8wycorsrIr-0QwCA0yUNt5kS48xDvnI&amp;dib_tag=se&amp;keywords=juguetes+lego&amp;qid=1727196297&amp;sprefix=juguetes+lego%2Caps%2C108&amp;sr=8-1\">\n",
            "      <span class=\"a-price\" data-a-color=\"base\" data-a-size=\"xl\">\n",
            "       <span class=\"a-offscreen\">\n",
            "        9,99 €\n",
            "       </span>\n",
            "       <span aria-hidden=\"true\">\n",
            "        <span class=\"a-price-whole\">\n",
            "         9\n",
            "         <span class=\"a-price-decimal\">\n",
            "          ,\n",
            "         </span>\n",
            "        </span>\n",
            "        <span class=\"a-price-fraction\">\n",
            "         99\n",
            "        </span>\n",
            "        <span class=\"a-price-symbol\">\n",
            "         €\n",
            "        </span>\n",
            "       </span>\n",
            "      </span>\n",
            "     </a>\n",
            "    </div>\n",
            "    <div class=\"a-row\">\n",
            "    </div>\n",
            "   </div>\n",
            "   <div class=\"a-row a-size-base a-color-secondary\">\n",
            "    <span>\n",
            "     Ahorra 5 % al comprar 4 de esta selección\n",
            "    </span>\n",
            "    <span>\n",
            "    </span>\n",
            "   </div>\n",
            "  </div>\n",
            "  <div class=\"a-section a-spacing-none a-spacing-top-micro\" data-cy=\"delivery-recipe\">\n",
            "   <div class=\"a-row a-size-base a-color-secondary s-align-children-center\">\n",
            "    <div class=\"a-row\">\n",
            "     <span aria-label=\"Entrega GRATIS el sáb, 28 de sept en tu primer pedido\">\n",
            "      <span class=\"a-color-base\">\n",
            "       Entrega GRATIS el\n",
            "      </span>\n",
            "      <span class=\"a-color-base a-text-bold\">\n",
            "       sáb, 28 de sept\n",
            "      </span>\n",
            "      <span class=\"a-color-base\">\n",
            "       en tu primer pedido\n",
            "      </span>\n",
            "     </span>\n",
            "    </div>\n",
            "    <div class=\"a-row\">\n",
            "     <span aria-label=\"Entrega más rápida el jue, 26 de sept \">\n",
            "      <span class=\"a-color-base\">\n",
            "       Entrega más rápida el\n",
            "      </span>\n",
            "      <span class=\"a-color-base a-text-bold\">\n",
            "       jue, 26 de sept\n",
            "      </span>\n",
            "     </span>\n",
            "    </div>\n",
            "   </div>\n",
            "  </div>\n",
            "  <div class=\"a-section a-spacing-none a-spacing-top-mini\" data-cy=\"message-above-action-recipe\">\n",
            "   <div class=\"a-row a-size-base\">\n",
            "    <span class=\"a-color-base\">\n",
            "     Vendido por: Amazon\n",
            "    </span>\n",
            "   </div>\n",
            "  </div>\n",
            "  <div class=\"a-section a-spacing-none a-spacing-top-mini puis-interactive-asin-expander-hide\" data-cy=\"secondary-offer-recipe\">\n",
            "   <div class=\"a-row a-size-base a-color-secondary\">\n",
            "    <span class=\"a-size-base a-color-secondary\">\n",
            "     Más opciones de compra\n",
            "    </span>\n",
            "    <br/>\n",
            "    <span class=\"a-color-base\">\n",
            "     8,42 €\n",
            "    </span>\n",
            "    <span class=\"a-letter-space\">\n",
            "    </span>\n",
            "    <span class=\"a-declarative\" data-action=\"s-show-all-offers-display\" data-csa-c-func-deps=\"aui-da-s-show-all-offers-display\" data-csa-c-id=\"ijklhe-rf2mok-fotlu6-cf1yc2\" data-csa-c-type=\"widget\" data-render-id=\"r3r41o9six00we2aqjmhxqinn9v\" data-s-show-all-offers-display='{\"assetMismatch\":\"Abandon\",\"url\":\"/gp/aod/ajax/ref=sr_1_1_aod?asin=B0CFW36SSM&amp;pc=sp&amp;keywords=juguetes+lego&amp;crid=3S067YZQN1TJ5&amp;sprefix=juguetes+lego%2Caps%2C108&amp;dib_tag=se&amp;dib=eyJ2IjoiMSJ9.zhUrcY5uBDTMszKHOqW27zpnv3d8OrW57yCX5RNhIgygGTchnQbeVxuQhGZk_7oF2VdC1r4Y5d3D5VuC1jGMYtwSosk6_DFyt6q03dBF5OxdU_g3ukVERk-V4sMAFa3_mkO5DwRzIopNSVzZ5LngP6qI2quLxsh-IhG-gabPGKpNcckIig3VllVKypIyWF1OZILx1HKtjhab9RyP_Wkdypi7RFcuk9e5k5GJRtcRAENMxLCmR1DgY2zP5UeAQOGSxOIEBa1J2BywdGJ1DIPK1GNWuTYHjF3zZ8ULR4MFJfQ.bXu85brkA3kq8wycorsrIr-0QwCA0yUNt5kS48xDvnI&amp;__mk_es_ES=%C3%85M%C3%85%C5%BD%C3%95%C3%91&amp;qid=1727196297&amp;sr=8-1\",\"fallbackUrl\":\"/gp/offer-listing/B0CFW36SSM/ref=sr_1_1_olp?keywords=juguetes+lego&amp;crid=3S067YZQN1TJ5&amp;sprefix=juguetes+lego%2Caps%2C108&amp;dib_tag=se&amp;dib=eyJ2IjoiMSJ9.zhUrcY5uBDTMszKHOqW27zpnv3d8OrW57yCX5RNhIgygGTchnQbeVxuQhGZk_7oF2VdC1r4Y5d3D5VuC1jGMYtwSosk6_DFyt6q03dBF5OxdU_g3ukVERk-V4sMAFa3_mkO5DwRzIopNSVzZ5LngP6qI2quLxsh-IhG-gabPGKpNcckIig3VllVKypIyWF1OZILx1HKtjhab9RyP_Wkdypi7RFcuk9e5k5GJRtcRAENMxLCmR1DgY2zP5UeAQOGSxOIEBa1J2BywdGJ1DIPK1GNWuTYHjF3zZ8ULR4MFJfQ.bXu85brkA3kq8wycorsrIr-0QwCA0yUNt5kS48xDvnI&amp;__mk_es_ES=%C3%85M%C3%85%C5%BD%C3%95%C3%91&amp;qid=1727196297&amp;sr=8-1\"}' data-version-id=\"v2fl5pkubaqu126k6zseo6li6q\">\n",
            "     <a class=\"a-link-normal s-link-style s-underline-text s-underline-link-text\" href=\"/gp/offer-listing/B0CFW36SSM/ref=sr_1_1_olp?keywords=juguetes+lego&amp;crid=3S067YZQN1TJ5&amp;sprefix=juguetes+lego%2Caps%2C108&amp;dib_tag=se&amp;dib=eyJ2IjoiMSJ9.zhUrcY5uBDTMszKHOqW27zpnv3d8OrW57yCX5RNhIgygGTchnQbeVxuQhGZk_7oF2VdC1r4Y5d3D5VuC1jGMYtwSosk6_DFyt6q03dBF5OxdU_g3ukVERk-V4sMAFa3_mkO5DwRzIopNSVzZ5LngP6qI2quLxsh-IhG-gabPGKpNcckIig3VllVKypIyWF1OZILx1HKtjhab9RyP_Wkdypi7RFcuk9e5k5GJRtcRAENMxLCmR1DgY2zP5UeAQOGSxOIEBa1J2BywdGJ1DIPK1GNWuTYHjF3zZ8ULR4MFJfQ.bXu85brkA3kq8wycorsrIr-0QwCA0yUNt5kS48xDvnI&amp;__mk_es_ES=%C3%85M%C3%85%C5%BD%C3%95%C3%91&amp;qid=1727196297&amp;sr=8-1\">\n",
            "      (49 ofertas usadas y nuevas)\n",
            "     </a>\n",
            "    </span>\n",
            "    <div class=\"a-section aok-hidden\" id=\"all-offers-display\">\n",
            "     <div class=\"a-spinner-wrapper aok-hidden\" id=\"all-offers-display-spinner\">\n",
            "      <span class=\"a-spinner a-spinner-medium\">\n",
            "      </span>\n",
            "     </div>\n",
            "    </div>\n",
            "    <span class=\"a-declarative\" data-action=\"close-all-offers-display\" data-csa-c-func-deps=\"aui-da-close-all-offers-display\" data-csa-c-id=\"v8tscp-9rywao-izti36-qn66mm\" data-csa-c-type=\"widget\" data-render-id=\"r3r41o9six00we2aqjmhxqinn9v\" data-version-id=\"v2fl5pkubaqu126k6zseo6li6q\">\n",
            "     <div class=\"a-section aok-hidden aod-darken-background\" id=\"aod-background\">\n",
            "     </div>\n",
            "    </span>\n",
            "   </div>\n",
            "  </div>\n",
            "  <div class=\"a-section a-spacing-none a-spacing-top-mini puis-interactive-asin-expander-hide\" data-cy=\"product-details-recipe\">\n",
            "   <div class=\"a-row a-size-base a-color-base\">\n",
            "    <span>\n",
            "     Edades: 6 años y más\n",
            "    </span>\n",
            "   </div>\n",
            "  </div>\n",
            " </div>\n",
            "</div>\n",
            "\n"
          ]
        }
      ],
      "source": [
        "print(producto.prettify())"
      ]
    },
    {
      "cell_type": "code",
      "execution_count": 111,
      "metadata": {
        "id": "E51mLu-Ph2qU"
      },
      "outputs": [
        {
          "name": "stdout",
          "output_type": "stream",
          "text": [
            "El producto[57] sin precio\n",
            "El producto[62] sin precio\n",
            "El producto[68] sin nombre\n",
            "El producto[68] sin precio\n",
            "El producto[68] sin link\n",
            "El producto[69] sin nombre\n",
            "El producto[69] sin precio\n",
            "El producto[69] sin link\n",
            "El producto[70] sin nombre\n",
            "El producto[70] sin precio\n",
            "El producto[70] sin link\n",
            "El producto[71] sin nombre\n",
            "El producto[71] sin precio\n",
            "El producto[71] sin link\n",
            "El producto[72] sin nombre\n",
            "El producto[72] sin precio\n",
            "El producto[72] sin link\n",
            "El producto[73] sin nombre\n",
            "El producto[73] sin precio\n",
            "El producto[73] sin link\n",
            "El producto[74] sin nombre\n",
            "El producto[74] sin precio\n",
            "El producto[74] sin link\n"
          ]
        }
      ],
      "source": [
        "#Vamos a sacar el nombre del producto, el precio , el link y las estrellas\n",
        "\n",
        "for i,producto in enumerate(productos):\n",
        "    try:\n",
        "       nombre = producto.find_element(By.CLASS_NAME, 'a-size-base-plus').text\n",
        "    except: # Exception as e:\n",
        "        nombre = (f\"El producto[{i}] sin nombre\")#-->error: {e}\n",
        "        print(nombre)\n",
        "\n",
        "    try:\n",
        "        precio = producto.find_element(By.CLASS_NAME, 'a-price-whole').text\n",
        "    except:\n",
        "        precio = (f\"El producto[{i}] sin precio\")\n",
        "        print(precio)\n",
        "    try:\n",
        "        link = producto.find_element(By.CLASS_NAME, 'a-link-normal.a-text-normal').get_attribute('href')\n",
        "    except:\n",
        "        link = (f\"El producto[{i}] sin link\")\n",
        "        print(link)\n",
        "    #print(nombre, precio, link)"
      ]
    },
    {
      "cell_type": "code",
      "execution_count": 124,
      "metadata": {
        "id": "yZtuIBbCiAR-"
      },
      "outputs": [
        {
          "data": {
            "text/plain": [
              "'<div class=\"s-product-image-container aok-relative s-text-center s-image-overlay-grey puis-image-overlay-grey s-padding-left-small s-padding-right-small puis-spacing-small s-height-equalized puis puis-v2fl5pkubaqu126k6zseo6li6q\" data-cy=\"image-container\" style=\"padding-top: 0px !important;\"><span data-component-type=\"s-product-image\" class=\"rush-component\" data-version-id=\"v2fl5pkubaqu126k6zseo6li6q\" data-render-id=\"r3r41o9six00we2aqjmhxqinn9v\"><a class=\"a-link-normal s-no-outline\" tabindex=\"-1\" href=\"/LEGO-Super-Mario-Expansi%C3%B3n-Coleccionable/dp/B0CFVYJRZX/ref=sr_1_50?__mk_es_ES=%C3%85M%C3%85%C5%BD%C3%95%C3%91&amp;crid=3S067YZQN1TJ5&amp;dib=eyJ2IjoiMSJ9.zhUrcY5uBDTMszKHOqW27zpnv3d8OrW57yCX5RNhIgygGTchnQbeVxuQhGZk_7oF2VdC1r4Y5d3D5VuC1jGMYtwSosk6_DFyt6q03dBF5OxdU_g3ukVERk-V4sMAFa3_mkO5DwRzIopNSVzZ5LngP6qI2quLxsh-IhG-gabPGKpNcckIig3VllVKypIyWF1OZILx1HKtjhab9RyP_Wkdypi7RFcuk9e5k5GJRtcRAENMxLCmR1DgY2zP5UeAQOGSxOIEBa1J2BywdGJ1DIPK1GNWuTYHjF3zZ8ULR4MFJfQ.bXu85brkA3kq8wycorsrIr-0QwCA0yUNt5kS48xDvnI&amp;dib_tag=se&amp;keywords=juguetes+lego&amp;qid=1727196297&amp;sprefix=juguetes+lego%2Caps%2C108&amp;sr=8-50\"><div class=\"a-section aok-relative s-image-square-aspect\"><img class=\"s-image\" src=\"https://m.media-amazon.com/images/I/81Omp4yK9BL._AC_UL320_.jpg\" srcset=\"https://m.media-amazon.com/images/I/81Omp4yK9BL._AC_UL320_.jpg 1x, https://m.media-amazon.com/images/I/81Omp4yK9BL._AC_UL480_FMwebp_QL65_.jpg 1.5x, https://m.media-amazon.com/images/I/81Omp4yK9BL._AC_UL640_FMwebp_QL65_.jpg 2x, https://m.media-amazon.com/images/I/81Omp4yK9BL._AC_UL800_FMwebp_QL65_.jpg 2.5x, https://m.media-amazon.com/images/I/81Omp4yK9BL._AC_UL960_FMwebp_QL65_.jpg 3x\" alt=\"LEGO Super Mario Set de Expansión: Caco Gazapo en la Tienda de Toad Juguete Coleccionable con 2 Personajes de Videojuego C...\" aria-hidden=\"true\" data-image-index=\"50\" data-image-load=\"\" data-image-latency=\"s-product-image\" data-image-source-density=\"1\"></div></a></span></div><div class=\"a-section a-spacing-small puis-padding-left-small puis-padding-right-small\"><div data-cy=\"title-recipe\" class=\"a-section a-spacing-none a-spacing-top-small s-title-instructions-style\"><h2 class=\"a-size-mini a-spacing-none a-color-base s-line-clamp-4\"><a class=\"a-link-normal s-underline-text s-underline-link-text s-link-style a-text-normal\" href=\"/LEGO-Super-Mario-Expansi%C3%B3n-Coleccionable/dp/B0CFVYJRZX/ref=sr_1_50?__mk_es_ES=%C3%85M%C3%85%C5%BD%C3%95%C3%91&amp;crid=3S067YZQN1TJ5&amp;dib=eyJ2IjoiMSJ9.zhUrcY5uBDTMszKHOqW27zpnv3d8OrW57yCX5RNhIgygGTchnQbeVxuQhGZk_7oF2VdC1r4Y5d3D5VuC1jGMYtwSosk6_DFyt6q03dBF5OxdU_g3ukVERk-V4sMAFa3_mkO5DwRzIopNSVzZ5LngP6qI2quLxsh-IhG-gabPGKpNcckIig3VllVKypIyWF1OZILx1HKtjhab9RyP_Wkdypi7RFcuk9e5k5GJRtcRAENMxLCmR1DgY2zP5UeAQOGSxOIEBa1J2BywdGJ1DIPK1GNWuTYHjF3zZ8ULR4MFJfQ.bXu85brkA3kq8wycorsrIr-0QwCA0yUNt5kS48xDvnI&amp;dib_tag=se&amp;keywords=juguetes+lego&amp;qid=1727196297&amp;sprefix=juguetes+lego%2Caps%2C108&amp;sr=8-50\"><span class=\"a-size-base-plus a-color-base a-text-normal\">LEGO Super Mario Set de Expansión: Caco Gazapo en la Tienda de Toad Juguete Coleccionable con 2 Personajes de Videojuego Construibles, Regalo para Niños, Niñas y Gamers de 7 Años o Más 71429</span> </a> </h2></div><div data-cy=\"reviews-block\" class=\"a-section a-spacing-none a-spacing-top-micro\"><div class=\"a-row a-size-small\"><span aria-label=\"4,7 de 5 estrellas\"><span class=\"a-declarative\" data-version-id=\"v2fl5pkubaqu126k6zseo6li6q\" data-render-id=\"r3r41o9six00we2aqjmhxqinn9v\" data-action=\"a-popover\" data-csa-c-func-deps=\"aui-da-a-popover\" data-a-popover=\"{&quot;closeButton&quot;:true,&quot;closeButtonLabel&quot;:&quot;&quot;,&quot;activate&quot;:&quot;onmouseover&quot;,&quot;name&quot;:&quot;&quot;,&quot;position&quot;:&quot;triggerBottom&quot;,&quot;popoverLabel&quot;:&quot;&quot;,&quot;url&quot;:&quot;/review/widgets/average-customer-review/popover/ref=acr_search__popover?ie=UTF8&amp;asin=B0CFVYJRZX&amp;ref_=acr_search__popover&amp;contextId=search&quot;}\" data-csa-c-type=\"widget\" data-csa-c-id=\"r4t373-p481tw-721jd0-1h27bj\"><a href=\"javascript:void(0)\" role=\"button\" class=\"a-popover-trigger a-declarative\"><i data-cy=\"reviews-ratings-slot\" class=\"a-icon a-icon-star-small a-star-small-4-5\"><span class=\"a-icon-alt\">4,7 de 5 estrellas</span></i><i class=\"a-icon a-icon-popover\"></i></a></span> </span><span aria-label=\"312&nbsp;calificaciones\"><a class=\"a-link-normal s-underline-text s-underline-link-text s-link-style\" href=\"/LEGO-Super-Mario-Expansi%C3%B3n-Coleccionable/dp/B0CFVYJRZX/ref=sr_1_50?__mk_es_ES=%C3%85M%C3%85%C5%BD%C3%95%C3%91&amp;crid=3S067YZQN1TJ5&amp;dib=eyJ2IjoiMSJ9.zhUrcY5uBDTMszKHOqW27zpnv3d8OrW57yCX5RNhIgygGTchnQbeVxuQhGZk_7oF2VdC1r4Y5d3D5VuC1jGMYtwSosk6_DFyt6q03dBF5OxdU_g3ukVERk-V4sMAFa3_mkO5DwRzIopNSVzZ5LngP6qI2quLxsh-IhG-gabPGKpNcckIig3VllVKypIyWF1OZILx1HKtjhab9RyP_Wkdypi7RFcuk9e5k5GJRtcRAENMxLCmR1DgY2zP5UeAQOGSxOIEBa1J2BywdGJ1DIPK1GNWuTYHjF3zZ8ULR4MFJfQ.bXu85brkA3kq8wycorsrIr-0QwCA0yUNt5kS48xDvnI&amp;dib_tag=se&amp;keywords=juguetes+lego&amp;qid=1727196297&amp;sprefix=juguetes+lego%2Caps%2C108&amp;sr=8-50#customerReviews\"><span class=\"a-size-base s-underline-text\">312</span> </a> </span></div><div class=\"a-row a-size-base\"><span class=\"a-size-base a-color-secondary\">50+ comprados el mes pasado</span></div></div><div data-cy=\"price-recipe\" class=\"a-section a-spacing-none a-spacing-top-small s-price-instructions-style\"><div class=\"a-row a-size-base a-color-base\"><div class=\"a-row\"></div><div class=\"a-row\"></div></div></div><div data-cy=\"secondary-offer-recipe\" class=\"a-section a-spacing-none a-spacing-top-mini puis-interactive-asin-expander-hide\"><div class=\"a-row a-size-base a-color-secondary\"><span class=\"a-size-base a-color-secondary\">Ofertas destacadas no disponibles</span><br><span class=\"a-color-base\">17,46&nbsp;€</span><span class=\"a-letter-space\"></span><span class=\"a-declarative\" data-version-id=\"v2fl5pkubaqu126k6zseo6li6q\" data-render-id=\"r3r41o9six00we2aqjmhxqinn9v\" data-action=\"s-show-all-offers-display\" data-csa-c-func-deps=\"aui-da-s-show-all-offers-display\" data-s-show-all-offers-display=\"{&quot;assetMismatch&quot;:&quot;Abandon&quot;,&quot;url&quot;:&quot;/gp/aod/ajax/ref=sr_1_50_aod?asin=B0CFVYJRZX&amp;pc=sp&amp;keywords=juguetes+lego&amp;crid=3S067YZQN1TJ5&amp;sprefix=juguetes+lego%2Caps%2C108&amp;dib_tag=se&amp;dib=eyJ2IjoiMSJ9.zhUrcY5uBDTMszKHOqW27zpnv3d8OrW57yCX5RNhIgygGTchnQbeVxuQhGZk_7oF2VdC1r4Y5d3D5VuC1jGMYtwSosk6_DFyt6q03dBF5OxdU_g3ukVERk-V4sMAFa3_mkO5DwRzIopNSVzZ5LngP6qI2quLxsh-IhG-gabPGKpNcckIig3VllVKypIyWF1OZILx1HKtjhab9RyP_Wkdypi7RFcuk9e5k5GJRtcRAENMxLCmR1DgY2zP5UeAQOGSxOIEBa1J2BywdGJ1DIPK1GNWuTYHjF3zZ8ULR4MFJfQ.bXu85brkA3kq8wycorsrIr-0QwCA0yUNt5kS48xDvnI&amp;__mk_es_ES=%C3%85M%C3%85%C5%BD%C3%95%C3%91&amp;qid=1727196297&amp;sr=8-50&quot;,&quot;fallbackUrl&quot;:&quot;/gp/offer-listing/B0CFVYJRZX/ref=sr_1_50_olp?keywords=juguetes+lego&amp;crid=3S067YZQN1TJ5&amp;sprefix=juguetes+lego%2Caps%2C108&amp;dib_tag=se&amp;dib=eyJ2IjoiMSJ9.zhUrcY5uBDTMszKHOqW27zpnv3d8OrW57yCX5RNhIgygGTchnQbeVxuQhGZk_7oF2VdC1r4Y5d3D5VuC1jGMYtwSosk6_DFyt6q03dBF5OxdU_g3ukVERk-V4sMAFa3_mkO5DwRzIopNSVzZ5LngP6qI2quLxsh-IhG-gabPGKpNcckIig3VllVKypIyWF1OZILx1HKtjhab9RyP_Wkdypi7RFcuk9e5k5GJRtcRAENMxLCmR1DgY2zP5UeAQOGSxOIEBa1J2BywdGJ1DIPK1GNWuTYHjF3zZ8ULR4MFJfQ.bXu85brkA3kq8wycorsrIr-0QwCA0yUNt5kS48xDvnI&amp;__mk_es_ES=%C3%85M%C3%85%C5%BD%C3%95%C3%91&amp;qid=1727196297&amp;sr=8-50&quot;}\" data-csa-c-type=\"widget\" data-csa-c-id=\"fernvu-wfizd7-lstzoj-dvej9y\"><a class=\"a-link-normal s-link-style s-underline-text s-underline-link-text\" href=\"/gp/offer-listing/B0CFVYJRZX/ref=sr_1_50_olp?keywords=juguetes+lego&amp;crid=3S067YZQN1TJ5&amp;sprefix=juguetes+lego%2Caps%2C108&amp;dib_tag=se&amp;dib=eyJ2IjoiMSJ9.zhUrcY5uBDTMszKHOqW27zpnv3d8OrW57yCX5RNhIgygGTchnQbeVxuQhGZk_7oF2VdC1r4Y5d3D5VuC1jGMYtwSosk6_DFyt6q03dBF5OxdU_g3ukVERk-V4sMAFa3_mkO5DwRzIopNSVzZ5LngP6qI2quLxsh-IhG-gabPGKpNcckIig3VllVKypIyWF1OZILx1HKtjhab9RyP_Wkdypi7RFcuk9e5k5GJRtcRAENMxLCmR1DgY2zP5UeAQOGSxOIEBa1J2BywdGJ1DIPK1GNWuTYHjF3zZ8ULR4MFJfQ.bXu85brkA3kq8wycorsrIr-0QwCA0yUNt5kS48xDvnI&amp;__mk_es_ES=%C3%85M%C3%85%C5%BD%C3%95%C3%91&amp;qid=1727196297&amp;sr=8-50\">(50 nuevas ofertas)</a></span><div id=\"all-offers-display\" class=\"a-section aok-hidden\"><div id=\"all-offers-display-spinner\" class=\"a-spinner-wrapper aok-hidden\"><span class=\"a-spinner a-spinner-medium\"></span></div></div><span class=\"a-declarative\" data-version-id=\"v2fl5pkubaqu126k6zseo6li6q\" data-render-id=\"r3r41o9six00we2aqjmhxqinn9v\" data-action=\"close-all-offers-display\" data-csa-c-func-deps=\"aui-da-close-all-offers-display\" data-csa-c-type=\"widget\" data-csa-c-id=\"hcz8n7-gtajxj-9mtmpv-4iz7qb\"><div id=\"aod-background\" class=\"a-section aok-hidden aod-darken-background\"></div></span></div></div><div data-cy=\"product-details-recipe\" class=\"a-section a-spacing-none a-spacing-top-mini puis-interactive-asin-expander-hide\"><div class=\"a-row a-size-base a-color-base\"><span>Edades: 7 años y más</span></div></div></div>'"
            ]
          },
          "execution_count": 124,
          "metadata": {},
          "output_type": "execute_result"
        }
      ],
      "source": [
        "productos[57].get_attribute('innerHTML')"
      ]
    },
    {
      "cell_type": "code",
      "execution_count": 125,
      "metadata": {
        "id": "zVKRZIQliCgt"
      },
      "outputs": [],
      "source": [
        "driver.quit()"
      ]
    },
    {
      "cell_type": "markdown",
      "metadata": {},
      "source": [
        "### Hacer login teniendo elementos ocultos"
      ]
    },
    {
      "cell_type": "markdown",
      "metadata": {},
      "source": [
        "Vemos en el DOM los elementos \"visibles\" para introducir nuestro usuario y nuestra contraseña. Pero cuando hemos intentado introducir el email nos salta el error `ElementNotInteractableException`. Esto ocurre porque el elemento no tiene la condición que nos permita interaccionar con él.\n",
        "\n",
        "Motivos:\n",
        "1. **Elemento no visible**: si el elemento está oculto o cubierto por otro elemento, se vuelve no interactivo.\n",
        "2. **Elemento deshabilitado**: si el elemento está deshabilitado, como un botón, checkbox o radio button deshabilitado, este elemento no puede ser interactuado hasta que sea habilitado.\n",
        "3. **Elemento fuera de la vista e inaccesible**: cuando el elemento no es visible en la pantalla, solo se puede hacer interactivo después de desplazar la vista para hacerlo visible.\n",
        "4. **Elemento solapado por otro elemento**: si el elemento está solapado por otro elemento, como un cuadro de diálogo modal, no se podrá interactuar con él hasta que el elemento superpuesto sea movido o eliminado.\n",
        "5. **Elemento no renderizado**: si el elemento web se renderiza dinámicamente en la página y no está completamente cargado cuando se intenta la interacción, no se podrá interactuar con él hasta que esté totalmente cargado. "
      ]
    },
    {
      "cell_type": "markdown",
      "metadata": {},
      "source": [
        "#### Uso de archivos `.env`"
      ]
    },
    {
      "cell_type": "markdown",
      "metadata": {},
      "source": [
        "Antes de hacer login hay que preparar las credenciales para que éstas no sean visibles ya que son información sensible.\n",
        "Para ello hay que crear un fichero de entorno en el que se incluirán las credenciales.\n",
        "\n",
        "Utilizaremos la librería `os`, para poder interactuar con el sistema operativo y `dotenv` (punto env, _.env_). \n",
        "\n",
        "El archivo `.env` debe estar en el mismo nivel en el que estamos trabajando, de lo contrario hay que especificar la ruta concreta en el que se encuentra dentro del directorio del proyecto en el que estamos trabajando.\n",
        "\n",
        "A este archivo no hay que darle ningún nombre. Dentro de él vamos a tener toda la información sensible como variables con la siguiente sintaxis:\n",
        "```bash\n",
        "user=\"mi_usuario\"\n",
        "password=\"mi_contraseña\"\n",
        ".\n",
        "...(más datos)\n",
        "```\n",
        "Lo mejor es tener las variables, si son necesarias diferentes credenciales, lo más explicativas posible. Por ejemplo, si necesitamos usar varias API vamos a poner las API_KEY en este archivo. Cada API_KEY, para poder diferenciarlas, guárdalas en variables como API_KEY_openAI, API_KEY_amazon, etc\n",
        "\n",
        "Cada vez que hagas cualquier modificación del archivo `.env` tienes que guardar cambios. (ctrl+S // cmd+S)"
      ]
    },
    {
      "cell_type": "code",
      "execution_count": 83,
      "metadata": {},
      "outputs": [],
      "source": [
        "import os\n",
        "from dotenv import load_dotenv #load_dotenv busca un archivo .env y carga las variables de entorno\n",
        "load_dotenv() #True si lo encuentra , False si no\n",
        "\n",
        "#Puedo ir accediendo a mis datos y guardarlos en variables\n",
        "usuario = os.getenv('usuario_amazon')\n",
        "password = os.getenv('password_amazon')"
      ]
    },
    {
      "cell_type": "markdown",
      "metadata": {},
      "source": [
        "Por si es necesario hacer las importaciones en esta parte del notebook..."
      ]
    },
    {
      "cell_type": "markdown",
      "metadata": {},
      "source": [
        "#### Iniciar sesión en Amazon"
      ]
    },
    {
      "cell_type": "code",
      "execution_count": 95,
      "metadata": {},
      "outputs": [],
      "source": [
        "from selenium import webdriver\n",
        "from webdriver_manager.chrome import ChromeDriverManager # sustituye al archivo\n",
        "from selenium.webdriver.chrome.options import Options # opciones de chrome\n",
        "from selenium.webdriver.common.by import By # By es para buscar por tag, clase, id...\n",
        "from selenium.webdriver.support.ui import WebDriverWait   # para meter esperaras\n",
        "from selenium.webdriver.support import expected_conditions as EC   # para esperar ciertos eventos\n",
        "from selenium.webdriver import ActionChains # para hacer acciones con el ratón\n",
        "import time\n",
        "import random\n",
        "import selenium.webdriver.common.keys as Keys # para simular teclas\n",
        "\n",
        "#Opciones de chrome\n",
        "opciones = webdriver.ChromeOptions()\n",
        "opciones.add_argument('--start-maximized')\n",
        "#opciones.add_argument('window-size=775,1400')\n",
        "opciones.add_argument('--disable-extensions')\n",
        "opciones.add_argument('--disable-blink-features=AutomationControlled')\n",
        "opciones.add_argument('--no-sandbox')\n",
        "opciones.add_experimental_option('useAutomationExtension', False)\n",
        "opciones.add_experimental_option('excludeSwitches', ['enable-automation'])\n",
        "\n",
        "# guardar las cookies\n",
        "# opciones.add_argument('user-data-dir=cookies')    # mantiene las cookies\n",
        "# opciones.add_argument('--incognito') # modo incognito\n",
        "\n",
        "url = 'https://www.amazon.es/'\n",
        "driver = webdriver.Chrome(options=opciones)\n",
        "driver.get(url)\n",
        "\n",
        "time.sleep(1)\n",
        "\n",
        "# Continuamos sin aceptar las cookies\n",
        "driver.find_element(By.ID, 'sp-cc-rejectall-link').click()\n",
        "\n",
        "time.sleep(2)\n",
        "\n",
        "#Hacemos hover sobre el elemento que queremos cuyo XPATH //*[@id=\"nav-link-accountList\"]\n",
        "elemento = driver.find_element(By.XPATH, '//*[@id=\"nav-link-accountList\"]')\n",
        "\n",
        "#Y ahora creamos el objeto\n",
        "hover = ActionChains(driver).move_to_element(elemento)\n",
        "\n",
        "#Y ahora lo ejecutamos\n",
        "hover.perform()\n",
        "\n",
        "#Dentro de los elementos del hover voy a darle a identificarse:\n",
        "driver.find_element(By.CLASS_NAME, 'nav-action-inner').click()"
      ]
    },
    {
      "cell_type": "markdown",
      "metadata": {},
      "source": [
        "Para asegurarnos de que el elemento que está oculto va a estar funcional le vamos a decir a nuestro driver que se espere hasta que el elemento esté visible."
      ]
    },
    {
      "cell_type": "code",
      "execution_count": 85,
      "metadata": {},
      "outputs": [],
      "source": [
        "# visibility_of_element_located quiere un único argumento, así que se le pasa un argumento que es una tupla con varios elementos\n",
        "email_input = WebDriverWait(driver, 10).until(EC.visibility_of_element_located((By.CSS_SELECTOR, \"#ap_email\")))"
      ]
    },
    {
      "cell_type": "code",
      "execution_count": 86,
      "metadata": {},
      "outputs": [],
      "source": [
        "email_input.send_keys(usuario)"
      ]
    },
    {
      "cell_type": "code",
      "execution_count": 87,
      "metadata": {},
      "outputs": [],
      "source": [
        "# click en continuar\n",
        "driver.find_element(By.ID, 'continue').click()"
      ]
    },
    {
      "cell_type": "code",
      "execution_count": 88,
      "metadata": {},
      "outputs": [],
      "source": [
        "password_input = WebDriverWait(driver, 10).until(EC.visibility_of_element_located((By.CSS_SELECTOR, \"#ap_password\")))\n",
        "password_input.send_keys(password)"
      ]
    },
    {
      "cell_type": "code",
      "execution_count": 89,
      "metadata": {},
      "outputs": [],
      "source": [
        "driver.find_element(By.ID, 'auth-signin-button').click()"
      ]
    },
    {
      "cell_type": "code",
      "execution_count": 92,
      "metadata": {},
      "outputs": [],
      "source": [
        "#ahora se tendría que introducir la contraseña de un solo uso si hay verificación en dos pasos\n",
        "doble_verificacion = ''\n",
        "input_doble = WebDriverWait(driver, 10).until(EC.visibility_of_element_located((By.CSS_SELECTOR, \"#auth-mfa-otpcode\")))\n",
        "input_doble.send_keys(doble_verificacion)"
      ]
    },
    {
      "cell_type": "code",
      "execution_count": 93,
      "metadata": {},
      "outputs": [],
      "source": [
        "driver.find_element(By.ID, 'auth-signin-button').click()"
      ]
    },
    {
      "cell_type": "markdown",
      "metadata": {},
      "source": [
        "SESION INICIADA"
      ]
    },
    {
      "cell_type": "code",
      "execution_count": 96,
      "metadata": {},
      "outputs": [],
      "source": [
        "driver.quit()"
      ]
    },
    {
      "cell_type": "markdown",
      "metadata": {},
      "source": [
        "# Soluciones"
      ]
    },
    {
      "cell_type": "markdown",
      "metadata": {},
      "source": [
        "## Solucion Alex"
      ]
    },
    {
      "cell_type": "code",
      "execution_count": null,
      "metadata": {},
      "outputs": [],
      "source": [
        "#Vamos a sacar el nombre del producto, el precio y el link\n",
        "nombres = []\n",
        "precios = []\n",
        "enlaces = []\n",
        "puntuaciones = []\n",
        "\n",
        "for i,producto in enumerate(productos):\n",
        "    # falta añadir que si está el \"promocionado\" sude de ello\n",
        "    if 'LEGO' not in producto.find('span', class_='a-size-base-plus').text:\n",
        "        pass\n",
        "    else:\n",
        "        # Nombre producto\n",
        "        try:\n",
        "            nombre = producto.find('span', class_='a-size-base-plus').text\n",
        "            nombres.append(nombre)\n",
        "        except: # Exception as e:\n",
        "            nombre = (f\"El producto[{i}] sin nombre\")#-->error: {e}\n",
        "            print(nombre)\n",
        "\n",
        "        # Precio\n",
        "        try:\n",
        "            if producto.find('span', 'a-offscreen'):\n",
        "                precio = producto.find('span', 'a-offscreen').text.strip().split('\\xa0')[0].replace(',', '.')# + \\\n",
        "                        #producto.find('span', 'a-price-decimal').text.replace(',', '.') + \\\n",
        "                        #producto.find('span', 'a-price-fraction').text\n",
        "                precio = float(precio)\n",
        "                precios.append(precio)\n",
        "            else:\n",
        "                precio = [p.text.split('\\xa0')[0].replace(',', '.') for p in producto.find_all('span', class_='a-color-base') if '€' in p.text] # .text.strip().split('\\xa0')[0].replace(',', '.')\n",
        "                precio = float(precio[0])\n",
        "                precios.append(precio)\n",
        "        except:\n",
        "            precio = (f\"El producto[{i}] sin precio\")\n",
        "            print(precio)\n",
        "        \n",
        "        # Estrellas\n",
        "        try:\n",
        "            puntuacion = producto.find('span', class_='a-icon-alt').text.strip().split()[0].replace(',', '.')\n",
        "            puntuaciones.append(puntuacion)\n",
        "        except:\n",
        "            puntuacion = (f\"el producto[{i}] sin estrellas\")\n",
        "            print(puntuacion)\n",
        "\n",
        "        # Enlace\n",
        "        try:\n",
        "            link = 'www.amazon.es' + producto.find('a', 'a-link-normal s-underline-text s-underline-link-text s-link-style a-text-normal').get('href')\n",
        "            # link = link.split('ref')[0]\n",
        "            enlaces.append(link)    \n",
        "        except:\n",
        "            link = (f\"El producto[{i}] sin link\")\n",
        "            print(link+'\\n')\n",
        "\n",
        "data = {'producto':nombres, 'precio_eur':precios, 'estrellas':puntuaciones, 'link':enlaces}\n",
        "\n",
        "import pandas as pd\n",
        "df = pd.DataFrame(data)\n",
        "df"
      ]
    },
    {
      "cell_type": "markdown",
      "metadata": {},
      "source": [
        "## Solución Rubén"
      ]
    },
    {
      "cell_type": "code",
      "execution_count": null,
      "metadata": {},
      "outputs": [],
      "source": [
        "#Sacamos listado de los productos de la página:\n",
        "# Se comenta esta variable por ser innecesaria en este script\n",
        "# productos = driver.find_elements(By.CLASS_NAME, 'a-section.a-spacing-base')\n",
        "\n",
        "#Le pasamos el listado de productos a Bs4\n",
        "soup = bs(driver.page_source, 'html.parser')\n",
        "# Creamos la lista de divs con las clases que queremos, pero que contienen todos, incluyendo los promocionales\n",
        "productos_raw = soup.find_all('div', class_='a-section a-spacing-base')\n",
        "\n",
        "productos = []\n",
        "# Mostramos la lista de productos y la guardamos en nuestra lista filtrada sin promocionados\n",
        "for producto in productos_raw:\n",
        "    #Filtramos los productos por los que no son promocionados\n",
        "    if \"Patrocinado\" not in producto.text:\n",
        "        print(producto.text)\n",
        "        print(producto.find('h2').text)\n",
        "        print(producto.find('i').text)\n",
        "        print(len(producto.find_all('span', class_='a-price')))\n",
        "        print(producto.find('span', class_='a-price').text.split(\"€\")[0].strip().replace(',','.')+\"€\")\n",
        "        # Los añadimos a la verdadera lista de productos\n",
        "        productos.append(producto)\n",
        "\n",
        "# Al final ha sido mas trabajo de BS que de Selenium...pero bueno, creo que esta\n",
        "# bastante generalizado.\n",
        "\n",
        "info_productos = []\n",
        "for i, producto in enumerate(productos):\n",
        "    dicc_prod = {}\n",
        "    \n",
        "    #Link del producto:\n",
        "    prefijo_url = 'https://www.amazon.es'\n",
        "    link_parcial = producto.find('a').attrs['href']\n",
        "    link_producto = prefijo_url+link_parcial\n",
        "    dicc_prod['link_producto'] = link_producto\n",
        "    print(f\"El producto {i} tiene el siguiente link:\\n{link_producto}\")\n",
        "    \n",
        "   \n",
        "    #Nombre producto\n",
        "    nombre = producto.find('h2').text\n",
        "    dicc_prod['nombre'] = nombre\n",
        "    print(f\"El siguiente nombre:\\n{nombre}\")\n",
        "    \n",
        "    \n",
        "    #Estrellas\n",
        "    valoracion = float(producto.find('i').text.split(' ')[0].replace(',','.'))\n",
        "    dicc_prod['valoracion'] = valoracion\n",
        "    print(f\"Las siguientes estrellas: {valoracion}\")\n",
        "    \n",
        "\n",
        "    #Precio\n",
        "    precio = float(producto.find('span', class_='a-price').text.split(\"€\")[0].strip().replace(',','.'))\n",
        "    dicc_prod['precio'] = precio\n",
        "    print(f\"El siguiente precio: {precio}€\\n\")\n",
        "            \n",
        "    info_productos.append(dicc_prod)\n",
        "\n",
        "# Creamos nuestro dataframe con los legos scrapeados\n",
        "df_amazon = pd.DataFrame(info_productos)\n",
        "# df_amazon\n",
        "\n",
        "# Celda para cerrarlo, por si tenemos que reiniciar cositas\n",
        "driver.quit()"
      ]
    },
    {
      "cell_type": "code",
      "execution_count": null,
      "metadata": {},
      "outputs": [],
      "source": []
    },
    {
      "cell_type": "markdown",
      "metadata": {
        "id": "mpOlA-rbiRu1"
      },
      "source": [
        "# MARCA\n",
        "\n",
        "Esperas hasta que un botón sea clickable."
      ]
    },
    {
      "cell_type": "code",
      "execution_count": 134,
      "metadata": {
        "id": "GgEKFf4OiRTQ"
      },
      "outputs": [],
      "source": [
        "url = 'https://www.marca.com/'\n",
        "driver = webdriver.Chrome(options=opciones)\n",
        "driver.get(url)\n",
        "#Cookies\n",
        "cookies = driver.find_element(By.XPATH,'//*[@id=\"ue-accept-notice-button\"]')\n",
        "cookies.click()\n",
        "#Enlace Radio\n",
        "radio = driver.find_element(By.XPATH,'/html/body/header/div[1]/div/div[2]/ul/li[2]/a/strong')\n",
        "radio.click()\n",
        "#Play\n",
        "play = driver.find_element(By.XPATH, '//*[@id=\"player-plugin\"]/section/div/div/div[2]/div[1]/div[3]/div[1]/button[2]')\n",
        "play.click()"
      ]
    },
    {
      "cell_type": "code",
      "execution_count": null,
      "metadata": {
        "id": "-UtdVXQTmhzF"
      },
      "outputs": [],
      "source": [
        "driver.quit()"
      ]
    },
    {
      "cell_type": "code",
      "execution_count": 137,
      "metadata": {
        "id": "yZuBCjQVmmU6"
      },
      "outputs": [],
      "source": [
        "url = 'https://www.marca.com/'\n",
        "driver = webdriver.Chrome(options=opciones)\n",
        "driver.get(url)\n",
        "\n",
        "#Esperar hasta que el botón esté disponible\n",
        "WebDriverWait(driver, 10).until(EC.element_to_be_clickable((By.ID, 'ue-accept-notice-button'))).click()\n",
        "#Boton de la radio (X)\n",
        "WebDriverWait(driver, 10).until(EC.element_to_be_clickable((By.XPATH,'/html/body/header/div[1]/div/div[2]/ul/li[2]/a/strong'))).click()\n",
        "#Boton acceder a la radio\n",
        "WebDriverWait(driver, 10).until(EC.element_to_be_clickable((By.XPATH, '//*[@id=\"player-plugin\"]/section/div/div/div[2]/div[1]/div[3]/div[1]/button[2]'))).click()"
      ]
    },
    {
      "cell_type": "code",
      "execution_count": 138,
      "metadata": {
        "id": "hL714vnYmrN7"
      },
      "outputs": [],
      "source": [
        "driver.quit()"
      ]
    }
  ],
  "metadata": {
    "colab": {
      "provenance": []
    },
    "kernelspec": {
      "display_name": "Python 3",
      "name": "python3"
    },
    "language_info": {
      "codemirror_mode": {
        "name": "ipython",
        "version": 3
      },
      "file_extension": ".py",
      "mimetype": "text/x-python",
      "name": "python",
      "nbconvert_exporter": "python",
      "pygments_lexer": "ipython3",
      "version": "3.12.4"
    }
  },
  "nbformat": 4,
  "nbformat_minor": 0
}
