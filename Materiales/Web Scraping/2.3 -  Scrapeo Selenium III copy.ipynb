{
  "cells": [
    {
      "cell_type": "markdown",
      "metadata": {
        "id": "DBX1_T4wYKW_"
      },
      "source": [
        "# Amazon\n",
        "\n",
        "Utilizando un `hover` vamos a simular movimientos por dentro del sitio web.\n",
        "\n",
        "También cómo introducir cadenas de texto en cuadros de texto, y simularemos cómo una persona escribe para ser más indetectables.\n",
        "\n",
        "Descubriremos cómo interaccionar con banners que aparecen pasado un tiempo de estar en la web."
      ]
    },
    {
      "cell_type": "code",
      "execution_count": 1,
      "metadata": {
        "id": "Et_2yBFpNriB"
      },
      "outputs": [],
      "source": [
        "from selenium import webdriver\n",
        "from webdriver_manager.chrome import ChromeDriverManager # sustituye al archivo\n",
        "from selenium.webdriver.chrome.options import Options # opciones de chrome\n",
        "from selenium.webdriver.common.by import By # By es para buscar por tag, clase, id...\n",
        "from selenium.webdriver.support.ui import WebDriverWait   # para meter esperaras\n",
        "from selenium.webdriver.support import expected_conditions as EC   # para esperar ciertos eventos\n",
        "from selenium.webdriver import ActionChains # para hacer acciones con el ratón\n",
        "import time\n",
        "import random\n",
        "import selenium.webdriver.common.keys as Keys # para simular teclas"
      ]
    },
    {
      "cell_type": "code",
      "execution_count": 2,
      "metadata": {
        "id": "Dm6gQn6Ba7Z7"
      },
      "outputs": [],
      "source": [
        "#Opciones de chrome\n",
        "opciones = webdriver.ChromeOptions()\n",
        "#opciones.add_argument('--start-maximized')\n",
        "opciones.add_argument('window-size=775,1400')\n",
        "opciones.add_argument('--disable-extensions')\n",
        "opciones.add_argument('--disable-blink-features=AutomationControlled')\n",
        "opciones.add_argument('--no-sandbox')\n",
        "opciones.add_experimental_option('useAutomationExtension', False)\n",
        "opciones.add_experimental_option('excludeSwitches', ['enable-automation'])\n",
        "\n",
        "# guardar las cookies\n",
        "# opciones.add_argument('user-data-dir=cookies')    # mantiene las cookies\n",
        "opciones.add_argument('--incognito') # modo incognito"
      ]
    },
    {
      "cell_type": "code",
      "execution_count": 35,
      "metadata": {
        "id": "oK9l4Z85bYwS"
      },
      "outputs": [],
      "source": [
        "url = 'https://www.amazon.es/'"
      ]
    },
    {
      "cell_type": "code",
      "execution_count": 36,
      "metadata": {
        "id": "LNS-18c2bcvR"
      },
      "outputs": [],
      "source": [
        "driver = webdriver.Chrome(options=opciones)\n",
        "\n",
        "driver.get(url)"
      ]
    },
    {
      "cell_type": "code",
      "execution_count": 37,
      "metadata": {
        "id": "MRJE6aE1bfRB"
      },
      "outputs": [],
      "source": [
        "# Continuamos sin aceptar las cookies\n",
        "driver.find_element(By.ID, 'sp-cc-rejectall-link').click()"
      ]
    },
    {
      "cell_type": "markdown",
      "metadata": {
        "id": "lXg3c-o4gnbg"
      },
      "source": [
        "**HOVER**\n",
        "\n",
        "El objeto `hover` en Selenium es una técnica que se utiliza para simular el movimiento del cursor del ratón sobre un elemento web específico en una página, activando de este modo las funciones de estilo o comportamiento asociadas al evento hover."
      ]
    },
    {
      "cell_type": "code",
      "execution_count": 12,
      "metadata": {
        "id": "wWznd8KNgi6e"
      },
      "outputs": [],
      "source": [
        "#Hacemos hover sobre el elemento que queremos cuyo XPATH //*[@id=\"nav-link-accountList\"]\n",
        "elemento = driver.find_element(By.XPATH, '//*[@id=\"nav-link-accountList\"]')\n",
        "\n",
        "#Y ahora creamos el objeto\n",
        "hover = ActionChains(driver).move_to_element(elemento)\n",
        "\n",
        "#Y ahora lo ejecutamos\n",
        "hover.perform()"
      ]
    },
    {
      "cell_type": "code",
      "execution_count": 13,
      "metadata": {
        "id": "lxeP1s4hhVXF"
      },
      "outputs": [],
      "source": [
        "#Dentro de los elementos del hover voy a darle a identificarse:\n",
        "driver.find_element(By.CLASS_NAME, 'nav-action-inner').click()"
      ]
    },
    {
      "cell_type": "code",
      "execution_count": 14,
      "metadata": {
        "id": "KH9OPmxShWAO"
      },
      "outputs": [],
      "source": [
        "#Podríamos loguearnos, pero lo que vamos a hacer es decirle al navegador que vaya para atrás\n",
        "driver.back()"
      ]
    },
    {
      "cell_type": "code",
      "execution_count": 19,
      "metadata": {
        "id": "CNMnORPdhYPx"
      },
      "outputs": [],
      "source": [
        "#Introducir texto de busqueda\n",
        "cuadro_busqueda = driver.find_element(By.XPATH, '//*[@id=\"twotabsearchtextbox\"]')\n",
        "\n",
        "#Vamos a hacer una busqueda de partituras mozart:\n",
        "cuadro_busqueda.send_keys('zapatillas')"
      ]
    },
    {
      "cell_type": "code",
      "execution_count": 18,
      "metadata": {
        "id": "iEOW-U-Jhfhl"
      },
      "outputs": [],
      "source": [
        "#Y ahora le damos a enter\n",
        "cuadro_busqueda.submit()"
      ]
    },
    {
      "cell_type": "code",
      "execution_count": 38,
      "metadata": {
        "id": "BNFFAKKUhird"
      },
      "outputs": [],
      "source": [
        "#MODO NINJA ACTIVADO\n",
        "cuadro_busqueda = driver.find_element(By.XPATH, '//*[@id=\"twotabsearchtextbox\"]')\n",
        "\n",
        "#Queremos escribir juguetes lego, pero vamos a hacerlo letra a letra como lo haría un humano\n",
        "time.sleep(1)\n",
        "\n",
        "#Borramos la busqueda anterior:\n",
        "cuadro_busqueda.clear()\n",
        "time.sleep(2)\n",
        "#Y ahora vamos a escribir letra a letra:\n",
        "termino_busqueda = 'juguetes lego'\n",
        "for letra in termino_busqueda:\n",
        "    cuadro_busqueda.send_keys(letra)\n",
        "    time.sleep(random.uniform(0.1,0.25))\n",
        "cuadro_busqueda.submit()"
      ]
    },
    {
      "cell_type": "markdown",
      "metadata": {},
      "source": [
        "### Como usar nuestras contraseñas sin mostrarlas por pantalla\n",
        "\n",
        "Vamos a hacer uso de la librería *dotenv* (punto env) de Python.\n",
        "\n",
        "Guardaremos nuestras contraseñas en un archivo `.env` y las cargaremos en nuestro script."
      ]
    },
    {
      "cell_type": "code",
      "execution_count": 165,
      "metadata": {},
      "outputs": [],
      "source": [
        "from dotenv import load_dotenv #load_dotenv busca un archivo .env y carga las variables de entorno"
      ]
    },
    {
      "cell_type": "code",
      "execution_count": 166,
      "metadata": {},
      "outputs": [],
      "source": [
        "#Cargamos el fichero .env\n",
        "load_dotenv() #True si lo encuentra , False si no\n",
        "import os"
      ]
    },
    {
      "cell_type": "markdown",
      "metadata": {},
      "source": [
        "Creamos el fichero `.env` en la raíz de nuestro proyecto y vamos añadiendo todos nuestros secretos, contraseñas, usuarios, nombres de máquinas, hosts...etc que queremos que estén ocultos\n",
        "\n",
        "```bash\n",
        "\n",
        "user='mi_usuario'\n",
        "password='mi_contraseña'\n",
        ".\n",
        ".\n",
        ".\n",
        "...(más datos)\n",
        "\n",
        "```"
      ]
    },
    {
      "cell_type": "code",
      "execution_count": 169,
      "metadata": {},
      "outputs": [],
      "source": [
        "#Puedo ir accediendo a mis datos y guardarlos en variables\n",
        "\n",
        "usuario = os.getenv('user')\n",
        "password = os.getenv('password')"
      ]
    },
    {
      "cell_type": "code",
      "execution_count": 172,
      "metadata": {},
      "outputs": [
        {
          "data": {
            "text/plain": [
              "('Victor', '123456')"
            ]
          },
          "execution_count": 172,
          "metadata": {},
          "output_type": "execute_result"
        }
      ],
      "source": [
        "usuario,password"
      ]
    },
    {
      "cell_type": "code",
      "execution_count": 108,
      "metadata": {
        "id": "w2M-qkrBhrnk"
      },
      "outputs": [
        {
          "data": {
            "text/plain": [
              "75"
            ]
          },
          "execution_count": 108,
          "metadata": {},
          "output_type": "execute_result"
        }
      ],
      "source": [
        "#Sacamos listado de los productos de la página:\n",
        "productos = driver.find_elements(By.CLASS_NAME, 'a-section.a-spacing-base')\n",
        "productos.__len__()"
      ]
    },
    {
      "cell_type": "code",
      "execution_count": 40,
      "metadata": {
        "id": "bR_33SWohuGc"
      },
      "outputs": [
        {
          "name": "stdout",
          "output_type": "stream",
          "text": [
            "Opción Amazonpara \"juguetes lego\"  LEGO Marvel Persecución en Moto: Spider-Man vs. Doc Ock, Juguete de Construcción con Cañones y Aracnoblásteres, Moto de Spidey, Regalo para Niños, Niñas y Fans de Superhéroes de 6 Años o Más 76275  4,6 de 5 estrellas 865  500+ comprados el mes pasado9,99 €9,99€Ahorra 5 % al comprar 4 de esta selecciónEntrega GRATIS el sáb, 28 de sept en tu primer pedidoEntrega más rápida el jue, 26 de sept Vendido por: AmazonMás opciones de compra8,42 €(49 ofertas usadas y nuevas)Edades: 6 años y más\n",
            "LEGO Creator 3 en 1 Dragón Rojo de Juguete Convertible en Figura de Pez o Ave Fénix, Juego Infantil de Animales como Regalo para Niños y Niñas de 6 Años o Más de Temática de Año Nuevo Chino 31145  4,8 de 5 estrellas 1.211  500+ comprados el mes pasado9,99 €9,99€Ahorra 5 % al comprar 4 de esta selecciónEntrega GRATIS el sáb, 28 de sept en tu primer pedidoEntrega más rápida el jue, 26 de sept Vendido por: AmazonMás opciones de compra8,80 €(58 nuevas ofertas)Edades: 6 años y más\n",
            "Más vendidoen Figuras de dinosaurios y criaturas prehistóricas de juguete para niños  LEGO 31058 Creator Grandes Dinosaurios, Regalo de Reyes para Niños y Niñas de 7 Años o Más, Maqueta 3en1 de Pterodáctilo, Triceratops y T-Rex, Figura de Animales de Juguete de Parque Jurásico  4,7 de 5 estrellas 3.141  600+ comprados el mes pasado14,99 €14,99€Ahorra 5 % al comprar 4 de esta selecciónEntrega GRATIS el sáb, 28 de sept en tu primer pedidoEntrega más rápida el jue, 26 de sept Vendido por: AmazonMás opciones de compra12,95 €(58 nuevas ofertas)Edades: 7 años y más\n",
            "LEGO Sonic The Hedgehog Sonic: Desafío de la Esfera de Velocidad, Juguete de Construcción con 3 Personajes y Una Figura de Moto Bug Badnik, Juguetes para Niños y Niñas A Partir de 6 Años 76990  4,8 de 5 estrellas 874  100+ comprados el mes pasado29,99 €29,99€Vendido por: AmazonMás opciones de compra25,63 €(57 nuevas ofertas)\n",
            "LEGO City Lancha de Rescate de Bomberos y Zodiac, Barcos Flotantes, Mochila Propulsora, Juguetes de Baño para Niños y Niñas de 6 Años o Más 60373  4,8 de 5 estrellas 2.389  100+ comprados el mes pasado19,99 €19,99€Vendido por: AmazonMás opciones de compra17,05 €(69 nuevas ofertas)\n",
            "LEGO Duplo Camión de Bomberos de Juguete, Juguetes Educativos para Niños y Niñas de 2 Años o Más, Vehículo con Luz y Sonido, Set con Figura de Gatito, Regalo Infantil de Cumpleaños 10969  4,8 de 5 estrellas 3.154  50+ comprados el mes pasado29,99 €29,99€Vendido por: AmazonMás opciones de compra27,37 €(48+ ofertas usadas y nuevas)\n",
            "LEGO Minecraft Set La Casa-Ajolote, Base Submarina Rosa de Construcción con Explorador Buceador, Zombi y Figuras de Delfín y Pez Globo, Juguetes de Aventura para Niños y Niñas de 7 Años o Más 21247  4,8 de 5 estrellas 751  100+ comprados el mes pasado26,97 €26,97€Vendido por: AmazonMás opciones de compra22,35 €(66 nuevas ofertas)\n",
            "LEGO 76226 Marvel Figura de Spider-Man Articulada, Juguetes para Niños y Niñas, Set de Acción, Modelo Coleccionable de Superhéroe, Regalo de Película  4,8 de 5 estrellas 2.386  50+ comprados el mes pasado29,99 €29,99€Puntuación del vendedor: 3.9/5 395 Más opciones de compra22,21 €(79 ofertas usadas y nuevas)\n",
            "LEGO Friends Camión de Perritos Calientes Food Truck y Accesorios de Comida y Cocina de Juguete con Figura de Gato y Mini Muñecos de Personajes, Regalo para Niñas y Niños de 4 Años o Más 42633  4,8 de 5 estrellas 206  19,99 €19,99€Ahorra 5 % al comprar 4 de esta selecciónVendido por: AmazonMás opciones de compra14,10 €(62 ofertas usadas y nuevas)\n",
            "LEGO City Bases de Carretera, Juguetes para Niños y Niñas de 5 Años o Más, Set de Accesorios con Semáforos, Señales y Luces, Regalo de Cumpleaños 60304  4,7 de 5 estrellas 3.998  19,99 €19,99€Ahorra 5 % al comprar 4 de esta selecciónVendido por: AmazonMás opciones de compra16,64 €(57 ofertas usadas y nuevas)\n",
            "LEGO DC Persecución en el Batmobile: Batman vs. The Joker Coche de Juguete, Set de Súper Héroes para Principiantes con Minifiguras, Juguetes para Niños Pequeños, Niños y Niñas a partir de 4 Años 76264  4,7 de 5 estrellas 276  26,99 €26,99€Ahorra 5 % al comprar 4 de esta selecciónVendido por: AmazonMás opciones de compra21,10 €(69 nuevas ofertas)\n",
            "LEGO Classic Caja de Ladrillos Creativos Mediana, Juegos de Construcción para Niños y Niñas de 4 Años o Más, Base Verde, Coches y Animales de Juguete, Fácil Almacenaje, Idea de Regalo Infantil 10696  4,8 de 5 estrellas 30.633  1 mil+ comprados el mes pasado26,60 €26,60€ PVPR: 29,99 €29,99€Entrega GRATIS el sáb, 28 de sept en tu primer pedidoEntrega más rápida el jue, 26 de sept Vendido por: AmazonMás opciones de compra26,38 €(66 nuevas ofertas)Edades: 4 años y más\n",
            "LEGO Creator 3 en 1 Camión Plataforma con Helicóptero Convertible en Vehículos de Juguete: Avión de Hélices, Bólido y Coche SUV, Regalo para Niños y Niñas de 7 Años o Más 31146  4,7 de 5 estrellas 1.009  500+ comprados el mes pasado19,99 €19,99€Ahorra 5 % al comprar 4 de esta selecciónEntrega GRATIS el sáb, 28 de sept en tu primer pedidoEntrega más rápida el jue, 26 de sept Vendido por: AmazonMás opciones de compra17,05 €(63+ ofertas usadas y nuevas)Edades: 7 años y más\n",
            "LEGO Technic Buggy de Carreras Todoterreno, Vehículo de Rally, Set para Construir un Coche de Carreras de Juguete, Regalo para Niños y Niñas de 8 Años o Más 42164  4,7 de 5 estrellas 1.262  500+ comprados el mes pasado15,99 €15,99€Ahorra 5 % al comprar 4 de esta selecciónEntrega GRATIS el sáb, 28 de sept en tu primer pedidoEntrega más rápida el jue, 26 de sept Vendido por: AmazonMás opciones de compra13,40 €(58+ ofertas usadas y nuevas)Edades: 8 años y más\n",
            "LEGO Technic Mercedes-AMG F1 W14 E Performance Pull-Back Coche de Carreras de Fórmula 1 de Juguete para Niños y Niñas de 7 Años o Más, Decoración Dormitorio, Regalo de Cumpleaños 42165  4,8 de 5 estrellas 1.072  700+ comprados el mes pasado26,67 €26,67€Ahorra 5 % al comprar 4 de esta selecciónEntrega GRATIS el sáb, 28 de sept en tu primer pedidoEntrega más rápida el jue, 26 de sept Vendido por: AmazonMás opciones de compra23,48 €(56 nuevas ofertas)Edades: 7 años y más\n",
            "LEGO Marvel Coche de Spider-Man y Doc Ock, Spidey y Sus Amigos, Juguete de Construcción para Niños y Niñas de 4 Años o Más, Accesorios de Telarañas y 2 Mini Figuras 10789  4,6 de 5 estrellas 2.790  400+ comprados el mes pasado9,99 €9,99€Ahorra 5 % al comprar 4 de esta selecciónEntrega GRATIS el sáb, 28 de sept en tu primer pedidoEntrega más rápida el jue, 26 de sept Vendido por: AmazonMás opciones de compra9,35 €(49 nuevas ofertas)Edades: 4 años y más\n",
            "LEGO Classic Caja de Ladrillos Creativos Grande, Juguetes de Construcción y Manualidades para Niños y Niñas de 4 Años o Más, Animales, Casas y Coches de Juguete, Regalos de Cumpleaños Infantiles 10698  4,8 de 5 estrellas 3.605  700+ comprados el mes pasado46,02 €46,02€ PVPR: 49,99 €49,99€ Entrega GRATIS el sáb, 28 de sept Entrega más rápida el jue, 26 de sept Vendido por: AmazonMás opciones de compra45,80 €(90 nuevas ofertas)Edades: 4 años y más\n",
            "LEGO 10782 Marvel Spidey y Su Superequipo Camiones de Combate de Hulk y Rino, Juguete para Niños y Niñas de 4+ Años  4,8 de 5 estrellas 5.835  300+ comprados el mes pasado19,99 €19,99€Ahorra 5 % al comprar 4 de esta selecciónEntrega GRATIS el sáb, 28 de sept en tu primer pedidoEntrega más rápida el jue, 26 de sept Vendido por: AmazonMás opciones de compra18,71 €(74+ ofertas usadas y nuevas)Edades: 4 años y más\n",
            "LEGO Harry Potter Ford Anglia Volador de Juguete de Fantasía, Juego de Aventuras con Coche de la Familia Weasley, Regalo para Niños, Niñas y Fans de 7 Años o Más, 2 Minifiguras de Personajes 76424  4,8 de 5 estrellas 761  900+ comprados el mes pasado14,99 €14,99€Entrega GRATIS el sáb, 28 de sept en tu primer pedidoEntrega más rápida el jue, 26 de sept Vendido por: AmazonMás opciones de compra12,99 €(51 ofertas usadas y nuevas)Edades: 7 años y más\n",
            "LEGO Technic Volquete, 2-en-1, Camión de Construcción y Excavadora de Juguete, Regalos para Niños y Niñas de 7 Años o Más, Introducción ingeniería 42147  4,7 de 5 estrellas 3.270  100+ comprados el mes pasado9,99 €9,99€Ahorra 5 % al comprar 4 de esta selecciónEntrega GRATIS el sáb, 28 de sept en tu primer pedidoEntrega más rápida el jue, 26 de sept Vendido por: AmazonMás opciones de compra8,90 €(54 nuevas ofertas)Edades: 7 años y más\n",
            "LEGO City Monster Truck Azul de Juguete, Camión Todoterreno y Minifigura de Conductor, Set de Juego Infantil Imaginativo, Divertido Regalo para Niños y Niñas de 5 Años o Más 60402  4,8 de 5 estrellas 822  100+ comprados el mes pasado14,99 €14,99€Entrega GRATIS el sáb, 28 de sept en tu primer pedidoEntrega más rápida el jue, 26 de sept Vendido por: AmazonMás opciones de compra12,90 €(54 ofertas usadas y nuevas)Edades: 5 años y más\n",
            "LEGO Creator 3-en-1 Robot Invencible, Dragón o Avión de Juguete, Juego de Construcción Creativo para Niños y Niñas de 7 Años o Más, Idea de Regalo de Cumpleaños 31124  4,7 de 5 estrellas 3.386  100+ comprados el mes pasado9,99 €9,99€Ahorra 5 % al comprar 4 de esta selecciónEntrega GRATIS el sáb, 28 de sept en tu primer pedidoEntrega más rápida el jue, 26 de sept Vendido por: AmazonMás opciones de compra7,66 €(56+ ofertas usadas y nuevas)Edades: 6 años y más\n",
            "LEGO City Coche de Policía de Juguete para Niños y Niñas de 5 Años o Más, Juego de Construcción con Minifigura de Agente, Idea de Regalo de Cumpleaños 60312  4,7 de 5 estrellas 6.292  100+ comprados el mes pasado9,99 €9,99€Ahorra 5 % al comprar 4 de esta selecciónEntrega GRATIS el sáb, 28 de sept en tu primer pedidoEntrega más rápida el jue, 26 de sept Vendido por: AmazonMás opciones de compra9,77 €(58 nuevas ofertas)Edades: 5 años y más\n",
            "LEGO City Moto de Policía y Coche a la Fuga, Deportivo de Juguete para Niños y Niñas de 5 Años en Adelante, Accesorios y 2 Mini Figuras, Regalo de Cumpleaños 60392  4,7 de 5 estrellas 1.112  100+ comprados el mes pasado8,99 €8,99€ PVPR: 9,99 €9,99€Ahorra 5 % al comprar 4 de esta selecciónEntrega GRATIS el sáb, 28 de sept en tu primer pedidoEntrega más rápida el jue, 26 de sept Vendido por: AmazonMás opciones de compra8,75 €(57 nuevas ofertas)Edades: 5 años y más\n",
            "Más vendidoen Coches controlados por aplicación o por control remoto  PatrocinadoPatrocinado Puedes ver este anuncio debido a la relevancia del producto con respecto a tu búsqueda.Más información sobre este anuncio  Coche Teledirigido,Coche AcrobáTico Camiones 360 Grados De RotacióN,Juguete Niño Regalo 3 4 5 6 7 8 9 12 Años Niña 2.4Ghz Niños Coche Teledirigido con Luces Incluye Batería Recargable (Azul)  4,4 de 5 estrellas 2.004  800+ comprados el mes pasado27,99 €27,99€ PVPR: 39,99 €39,99€Se ha aplicado un cupón de descuento de 5,00 €Ahorra 5,00 €  con un cupón Entrega GRATIS el sáb, 28 de sept en tu primer pedidoEntrega más rápida el jue, 26 de sept Puntuación del vendedor: 4.9/5 117 Edades: 6 - 12 años\n",
            "PatrocinadoPatrocinado Puedes ver este anuncio debido a la relevancia del producto con respecto a tu búsqueda.Más información sobre este anuncio  Tiny Land Kit Construccion Fuertes Niños - Brillan en La Oscuridad, 130 Piezas Creative Fort Toy para niños y niñas de 5+ años, Juguetes de Construcción Stem, DIY Kit Castillos Túneles  4,3 de 5 estrellas 1.420  50+ comprados el mes pasado58,99 €58,99€Se ha aplicado un cupón de descuento de 10,00 €Ahorra 10,00 €  con un cupón  Entrega GRATIS el sáb, 28 de sept Entrega más rápida el jue, 26 de sept Puntuación del vendedor: 4.6/5 37 \n",
            "PatrocinadoPatrocinado Puedes ver este anuncio debido a la relevancia del producto con respecto a tu búsqueda.Más información sobre este anuncio  BEHOWL Juguetes robóticos Stem para niños y niñas de 8 a 14 años, Bloques de construcción del Programa científico 13 en 1 para Control Remoto y de Aplicaciones, Regalos educativos (550)  4,4 de 5 estrellas 433  59,99 €59,99€ (0,11 €0,11€/unidad)Se ha aplicado un cupón de descuento de 10 %Ahorra 10 %  con un cupón  Entrega GRATIS el sáb, 28 de sept Entrega más rápida el jue, 26 de sept Edades: 7 años y más\n",
            "LEGO Classic Maletín Creativo, Juguete de Almacenamiento de Ladrillos de Colores, Juego de Construcción para Jugar en Familia, Regalo para Niños y Niñas de 4 Años o Más 10713  4,8 de 5 estrellas 14.961  200+ comprados el mes pasado17,75 €17,75€ PVPR: 19,99 €19,99€Ahorra 5 % al comprar 4 de esta selecciónEntrega GRATIS el sáb, 28 de sept en tu primer pedidoEntrega más rápida el jue, 26 de sept Vendido por: AmazonEdades: 4 años y más\n",
            "Más vendidoen Sets de construcción  LEGO Speed Champions Coche de Carreras de Fórmula 1 McLaren 2023 Maqueta de Vehículo de Juguete para Niños y Niñas de 9 Años o Más, Regalo de Cumpleaños, Decoración Dormitorio76919  4,8 de 5 estrellas 1.111  400+ comprados el mes pasado22,56 €22,56€ PVPR: 26,99 €26,99€Entrega GRATIS el sáb, 28 de sept en tu primer pedidoEntrega más rápida el jue, 26 de sept Vendido por: AmazonEdades: 9 años y más\n",
            "LEGO Sonic The Hedgehog Super Sonic vs. Egg Drillster Juguete con Personajes del Videojuego, Juego de Aventuras con Figuras de Shadow y el Dr. Eggman, Regalo para Niños y Niñas de 8 Años o Más 76999  4,7 de 5 estrellas 69  79,99 €79,99€ Entrega GRATIS el sáb, 28 de sept Entrega más rápida mañana, 25 de sept Vendido por: AmazonMás opciones de compra70,86 €(45 nuevas ofertas)Edades: 8 años y más\n",
            "LEGO | Disney Cubos de Humor de del Revés 2 De Película Pixar, Juguete de Construcción Antiestrés sobre Emociones, Mini Muñecos de Alegría y Ansiedad, Regalo para Niñas y Niños de 9 Años o Más 43248  4,6 de 5 estrellas 180  200+ comprados el mes pasadoOferta flash  27,99 €27,99€ PVPR: 34,99 €34,99€Entrega GRATIS el sáb, 28 de sept en tu primer pedidoEntrega más rápida el jue, 26 de sept Vendido por: AmazonEdades: 9 años y más\n",
            "Exclusivo en AmazonLEGO Friends Autobús de Heartlake City, Bus de la Amistad de Juguete con Mini Muñeca Paisley y Accesorios, Idea de Regalo, Set Exclusivo de Amazon, para Niñas y Niños de 7 Años o Más 41759  4,8 de 5 estrellas 169  54,99 €54,99€ Entrega GRATIS el sáb, 28 de sept Entrega más rápida mañana, 25 de sept Vendido por: AmazonMás opciones de compra33,69 €(3+ ofertas usadas y nuevas)Edades: 7 años y más\n",
            "LEGO Minecraft La Mazmorra del Esqueleto, Juguete para Niños y Niñas de 8 Años o Más con Cuevas, Estalactitas, Ballesta y Figuras de Esqueletos, Regalo Creativo de Cumpleaños 21189  4,8 de 5 estrellas 3.938  400+ comprados el mes pasado27,49 €27,49€ PVPR: 29,99 €29,99€Entrega GRATIS el sáb, 28 de sept en tu primer pedidoEntrega más rápida el jue, 26 de sept Vendido por: AmazonMás opciones de compra25,85 €(62 nuevas ofertas)Edades: 8 años y más\n",
            "LEGO Star Wars Microfighter: Caza Estelar N-1 de The Mandalorian, Vehículo a Microescala del Libro de Boba Fett con Figura Grogu Baby Yoda, Regalos para Niños y Niñas de 6 Años o Más 75363  4,6 de 5 estrellas 1.862  200+ comprados el mes pasado15,99 €15,99€Ahorra 5 % al comprar 4 de esta selecciónEntrega GRATIS el sáb, 28 de sept en tu primer pedidoEntrega más rápida el jue, 26 de sept Vendido por: AmazonMás opciones de compra13,55 €(71 ofertas usadas y nuevas)Edades: 6 años y más\n",
            "LEGO City Lavadero de Coches, Juguete para Niños y Niñas de 6 Años o Más, Set con Cepillos de Lavado Giratorios, Vehículo y 2 Minifiguras, Idea para Regalo Pequeño 60362  4,8 de 5 estrellas 1.471  50+ comprados el mes pasado19,99 €19,99€Ahorra 5 % al comprar 4 de esta selecciónEntrega GRATIS el sáb, 28 de sept en tu primer pedidoEntrega más rápida el jue, 26 de sept Vendido por: AmazonMás opciones de compra17,60 €(65 nuevas ofertas)Edades: 6 años y más\n",
            "LEGO La Casa de Muñecas de Gabby Horno de Muffin, Cocina con Cupcakes y Accesorios y Figuras de Gabby y el Gato Muffin, Juguete de la Serie Gabby's Dollhouse para Niñas y Niños de 4 Años 10785  4,7 de 5 estrellas 1.081  100+ comprados el mes pasado9,99 €9,99€Ahorra 5 % al comprar 4 de esta selecciónEntrega GRATIS el sáb, 28 de sept en tu primer pedidoEntrega más rápida el jue, 26 de sept Vendido por: AmazonMás opciones de compra8,40 €(55+ ofertas usadas y nuevas)Edades: 4 años y más\n",
            "LEGO City Coche de Carreras y Camión de Transporte de Juguete, Juego de Construcción con Vehículo de Competición, Minifiguras de Piloto y Camionero, Regalo para Niños y Niñas de 6 Años o Más 60406  4,8 de 5 estrellas 534  100+ comprados el mes pasado26,39 €26,39€ PVPR: 29,99 €29,99€Entrega GRATIS el sáb, 28 de sept en tu primer pedidoEntrega más rápida el jue, 26 de sept Vendido por: AmazonMás opciones de compra24,65 €(87+ ofertas usadas y nuevas)Edades: 6 años y más\n",
            "LEGO Minecraft La Aventura en el Pantano, Juguete de Construcción, Mini Figuras de Alex y Esqueleto, Bioma, Regalo de Cumpleaños Niños y Niñas de 7 Años o Más 21240  4,7 de 5 estrellas 2.240  300+ comprados el mes pasado9,99 €9,99€Ahorra 5 % al comprar 4 de esta selecciónEntrega GRATIS el sáb, 28 de sept en tu primer pedidoEntrega más rápida el jue, 26 de sept Vendido por: AmazonMás opciones de compra8,40 €(59 nuevas ofertas)Edades: 7 años y más\n",
            "LEGO Creator 3 en 1 Cámara Retro de Juguete Convertible en Videocámara y Televisor, Decoración para Dormitorio y Accesorio de Escritorio, Regalo de Fotografía para Niños y Niñas de 8 Años o Más 31147  4,8 de 5 estrellas 957  200+ comprados el mes pasado19,99 €19,99€Ahorra 5 % al comprar 4 de esta selecciónEntrega GRATIS el sáb, 28 de sept en tu primer pedidoEntrega más rápida el jue, 26 de sept Vendido por: AmazonMás opciones de compra17,40 €(73+ ofertas usadas y nuevas)\n",
            "LEGO City Lancha de Rescate de Bomberos y Zodiac, Barcos Flotantes, Mochila Propulsora, Juguetes de Baño para Niños y Niñas de 6 Años o Más 60373  4,8 de 5 estrellas 2.389  100+ comprados el mes pasado19,99 €19,99€Entrega GRATIS el sáb, 28 de sept en tu primer pedidoEntrega más rápida el jue, 26 de sept Vendido por: AmazonMás opciones de compra17,05 €(69 nuevas ofertas)Edades: 5 años y más\n",
            "PatrocinadoPatrocinado Puedes ver este anuncio debido a la relevancia del producto con respecto a tu búsqueda.Más información sobre este anuncio  PLAYMOBIL myLife 71538 Cantina, deliciosas Comidas y tentempiés en el Restaurante, Incluyendo Papas Fritas, Sushi y Mucho más, Juguetes para niños a Partir de 5 años  3,6 de 5 estrellas 5  19,99 €19,99€Entrega GRATIS el sáb, 28 de sept en tu primer pedidoEntrega más rápida el jue, 26 de sept Vendido por: AmazonEdades: 5 - 10 años\n",
            "PatrocinadoPatrocinado Puedes ver este anuncio debido a la relevancia del producto con respecto a tu búsqueda.Más información sobre este anuncio  Bloques de construcción entrelazados 160 Piezas Jumbo Toy Building Kits - Juguetes de construcción para niños pequeños y niños  4,5 de 5 estrellas 449  50+ comprados el mes pasado21,99 €21,99€Se ha aplicado un cupón de descuento de 3,00 €Ahorra 3,00 €  con un cupón Entrega GRATIS el sáb, 28 de sept en tu primer pedidoEntrega más rápida el jue, 26 de sept Puntuación del vendedor: 4.8/5 72 \n",
            "PatrocinadoPatrocinado Puedes ver este anuncio debido a la relevancia del producto con respecto a tu búsqueda.Más información sobre este anuncio  Weifeng Bloques de Construcción 1000 Piezas Building Blocks, Ladrillos de construcción Compatible con Todas Las Classic Marcas para niños y niñas a Partir de 6 años  4,4 de 5 estrellas 122  31,99 €31,99€Entrega GRATIS el sáb, 28 de sept en tu primer pedidoEntrega más rápida el jue, 26 de sept Puntuación del vendedor: 4.8/5 13 Edades: 24 meses y más\n",
            "PatrocinadoPatrocinado Puedes ver este anuncio debido a la relevancia del producto con respecto a tu búsqueda.Más información sobre este anuncio  PLAYMOBIL myLife 71536 Juguetería, emocionantes Momentos en el paraíso del Juego, Que Incluye una Esquina de Juegos y una Pared de Fotos, Juguetes para niños a Partir de 5 años  4,6 de 5 estrellas 7  29,99 €29,99€Entrega GRATIS el sáb, 28 de sept en tu primer pedidoVendido por: AmazonEdades: 5 - 10 años\n",
            "LEGO Sonic The Hedgehog Huida de Shadow The Hedgehog, Moto de Juguete, Figuras de Acción de Personajes del Videojuego del Erizo Azul, Regalo para Niños, Niñas y Gamers de 8 Años o Más 76995  4,8 de 5 estrellas 385  50+ comprados el mes pasado20,99 €20,99€Ahorra 5 % al comprar 4 de esta selecciónEntrega GRATIS el sáb, 28 de sept en tu primer pedidoEntrega más rápida mañana, 25 de sept Vendido por: AmazonMás opciones de compra15,34 €(58 ofertas usadas y nuevas)Edades: 8 años y más\n",
            "LEGO Marvel Armadura Robótica de Máquina de Guerra, Figura de Acción de Juguete con Armas: 3 Cañones Que Disparan, Personaje Superhéroe UCM, Regalo para Cinéfilos, Niños y Niñas de 6 Años o Más 76277  4,7 de 5 estrellas 620  200+ comprados el mes pasado14,99 €14,99€Ahorra 5 % al comprar 4 de esta selecciónEntrega GRATIS el sáb, 28 de sept en tu primer pedidoEntrega más rápida el jue, 26 de sept Vendido por: AmazonMás opciones de compra11,98 €(53+ ofertas usadas y nuevas)Edades: 6 años y más\n",
            "LEGO Creator 3-en-1 Lanzadera Espacial, Figura de Astronauta o Nave de Juguete, Set de Construcción para Niños y Niñas de 6 Años o Más, Regalo Creativo 31134  4,7 de 5 estrellas 3.082  200+ comprados el mes pasado9,99 €9,99€Entrega GRATIS el sáb, 28 de sept en tu primer pedidoEntrega más rápida el jue, 26 de sept Vendido por: AmazonMás opciones de compra8,20 €(56 nuevas ofertas)Edades: 6 años y más\n",
            "LEGO 60384 City Furgoneta-Pingüino de Granizadas, Vehículo, Camión de Juguete para Niños y Niñas de 5 Años o Más, Mini Figuras, Juego de Verano, Regalo de Semana Santa y Pascua  4,7 de 5 estrellas 1.250  19,99 €19,99€Ahorra 5 % al comprar 4 de esta selecciónEntrega GRATIS el sáb, 28 de sept en tu primer pedidoEntrega más rápida mañana, 25 de sept Vendido por: AmazonMás opciones de compra17,10 €(79 nuevas ofertas)Edades: 5 años y más\n",
            "LEGO | Disney Stitch Juguete de Construcción de la Figura Articulada del Personaje de la Película Lilo & Stitch con Cucurucho de Helado, Regalo para Niñas y Niños de 9 Años o Más 43249  4,8 de 5 estrellas 706  700+ comprados el mes pasado57,19 €57,19€ PVPR: 64,99 €64,99€ Entrega GRATIS el sáb, 28 de sept Entrega más rápida el jue, 26 de sept Vendido por: AmazonEdades: 9 años y más\n",
            "LEGO 31140 Creator 3en1 Unicornio Mágico, Juguete de Construcción Caballito de Mar o Pavo Real, Regalos de Pascua para Niños y Niñas de 7 Años o Más, Figuras de Animales Fantásticos  4,7 de 5 estrellas 3.916  400+ comprados el mes pasado9,95 €9,95€Ahorra 5 % al comprar 4 de esta selecciónEntrega GRATIS el sáb, 28 de sept en tu primer pedidoEntrega más rápida el jue, 26 de sept Vendido por: AmazonMás opciones de compra8,80 €(61+ ofertas usadas y nuevas)Edades: 7 años y más\n",
            "LEGO Marvel Motos de la Viuda Negra y el Capitán América, Set de Avengers: Edad de Ultron con 2 Motos de Juguete de Super Héroe para Niños y Niñas de 6 Años o Más 76260  4,7 de 5 estrellas 1.374  100+ comprados el mes pasado15,99 €15,99€Ahorra 5 % al comprar 4 de esta selecciónEntrega GRATIS el sáb, 28 de sept en tu primer pedidoEntrega más rápida el jue, 26 de sept Vendido por: AmazonMás opciones de compra13,45 €(52+ ofertas usadas y nuevas)Edades: 6 años y más\n",
            "LEGO 31137 Creator 3 en 1 Perros Adorables, Figuras de Perritos de Juguete para Niños y Niñas de 7 Años o Más, Beagle, Caniche, Perro Salchicha y Más, Regalo de Semana Santa y Pascua  4,8 de 5 estrellas 1.297  50+ comprados el mes pasado29,70 €29,70€Entrega GRATIS el sáb, 28 de sept en tu primer pedidoEntrega más rápida el jue, 26 de sept Vendido por: AmazonMás opciones de compra20,70 €(76+ ofertas usadas y nuevas)Edades: 7 años y más\n",
            "LEGO Minecraft La Casa-Champiñón, Juguete de Construcción, Idea de Regalo para Niños y Niñas de 8 Años o Más con Figuras de Alex, Champiñaca y Jinete Arácnido 21179  4,8 de 5 estrellas 6.733  300+ comprados el mes pasado17,00 €17,00€ PVPR: 19,99 €19,99€Entrega GRATIS el vie, 27 de sept Puntuación del vendedor: 3.5/5 192 Edades: 8 años y más\n",
            "LEGO Harry Potter Dobby el Elfo Doméstico, Regalo de Reyes para Niñas, Niños, Adolescentes y Fans de 8+ Años, Juguete y Decoración para la Habitación, Colección de Figura Icónica de Personaje 76421  4,8 de 5 estrellas 6.045  500+ comprados el mes pasado20,99 €20,99€ PVPR: 29,99 €29,99€Entrega GRATIS el sáb, 28 de sept en tu primer pedidoEntrega más rápida el jue, 26 de sept Vendido por: AmazonEdades: 8 años y más\n",
            "LEGO | Disney El Rey León: Simba Cachorro Juguete Infantil de Construcción, Idea de Regalo para Niñas y Niños de 6 Años o Más, Maqueta Articulada, Decoración del Dormitorio y Estantería 43243  4,8 de 5 estrellas 374  400+ comprados el mes pasado19,99 €19,99€Entrega GRATIS el sáb, 28 de sept en tu primer pedidoEntrega más rápida el jue, 26 de sept Vendido por: AmazonMás opciones de compra17,09 €(79 nuevas ofertas)Edades: 6 años y más\n",
            "LEGO City Coche de Policía y Potente Deportivo, Vehículo de Emergencia de Juguete, Regalo para Niños y Niñas de 6 Años o Más, Juego Imaginativo y de Roles, Minifiguras de Agente y Ladrona 60415  4,8 de 5 estrellas 490  50+ comprados el mes pasado19,21 €19,21€ PVPR: 19,99 €19,99€Entrega GRATIS el sáb, 28 de sept en tu primer pedidoEntrega más rápida el jue, 26 de sept Vendido por: AmazonMás opciones de compra17,05 €(72 nuevas ofertas)Edades: 6 años y más\n",
            "LEGO Speed Champions Ferrari 812 Competizione Maqueta de Coche para Construir, Deportivo Rojo de Juguete de Colección Edición 2023, Regalo para Niños y Niñas de 9 Años o Más 76914  4,8 de 5 estrellas 3.035  200+ comprados el mes pasado24,87 €24,87€Ahorra 5 % al comprar 4 de esta selecciónEntrega GRATIS el sáb, 28 de sept en tu primer pedidoEntrega más rápida el jue, 26 de sept Vendido por: AmazonMás opciones de compra18,73 €(77+ ofertas usadas y nuevas)Edades: 9 años y más\n",
            "LEGO Super Mario Set de Expansión: Caco Gazapo en la Tienda de Toad Juguete Coleccionable con 2 Personajes de Videojuego Construibles, Regalo para Niños, Niñas y Gamers de 7 Años o Más 71429  4,7 de 5 estrellas 312  50+ comprados el mes pasadoOfertas destacadas no disponibles17,46 €(50 nuevas ofertas)Edades: 7 años y más\n",
            "LEGO 76226 Marvel Figura de Spider-Man Articulada, Juguetes para Niños y Niñas, Set de Acción, Modelo Coleccionable de Superhéroe, Regalo de Película  4,8 de 5 estrellas 2.386  50+ comprados el mes pasado29,99 €29,99€Entrega GRATIS entre el 26 - 27 de sept Sólo queda(n) 4 en stock.Puntuación del vendedor: 3.9/5 395 Más opciones de compra22,21 €(79 ofertas usadas y nuevas)Edades: 8 años y más\n",
            "LEGO Sonic The Hedgehog Sonic: Desafío de la Esfera de Velocidad, Juguete de Construcción con 3 Personajes y Una Figura de Moto Bug Badnik, Juguetes para Niños y Niñas A Partir de 6 Años 76990  4,8 de 5 estrellas 874  100+ comprados el mes pasado29,99 €29,99€Entrega GRATIS el mar, 22 de oct en tu primer pedidoVendido por: AmazonMás opciones de compra25,63 €(57 nuevas ofertas)Edades: 6 años y más\n",
            "LEGO Ninjago Ataque Rising Dragon de NYA Articulado de Juguete, Juego de Construcción con Figura de Acción y Minifigura Ninja con Mini Catana, Regalo para Niños y Niñas de 6 Años o Más 71802  4,8 de 5 estrellas 325  50+ comprados el mes pasado7,49 €7,49€ PVPR: 9,99 €9,99€Entrega GRATIS el sáb, 28 de sept en tu primer pedidoEntrega más rápida mañana, 25 de sept Vendido por: AmazonEdades: 6 años y más\n",
            "LEGO Minecraft La Fortificación-Espada Juguete de Construcción, Minifiguras de Creeper, Soldado, Guerrero y Esqueleto, Regalo para Niños y Niñas de 8 Años o Más, Decoración de Estantería 21244  4,8 de 5 estrellas 1.688  200+ comprados el mes pasado43,87 €43,87€ Entrega GRATIS el sáb, 28 de sept Entrega más rápida el jue, 26 de sept Vendido por: AmazonMás opciones de compra35,93 €(59 ofertas usadas y nuevas)Edades: 8 años y más\n",
            "LEGO Minecraft La Armería, Juguete de Construcción de Aventuras y Forja de Armas con Personajes del Videojuego, Minifigura de Alex, Regalo para Niños y Niñas de 7 Años o Más 21252  4,7 de 5 estrellas 422  100+ comprados el mes pasadoOfertas destacadas no disponibles17,57 €(76 nuevas ofertas)Edades: 7 años y más\n",
            "PatrocinadoPatrocinado Puedes ver este anuncio debido a la relevancia del producto con respecto a tu búsqueda.Más información sobre este anuncio  PLAYMOBIL Caravana con Coche  4,6 de 5 estrellas 102  77,99 €77,99€ Entrega GRATIS el sáb, 28 de sept Entrega más rápida el vie, 27 de sept Vendido por: AmazonEdades: 4 - 10 años\n",
            "PatrocinadoPatrocinado Puedes ver este anuncio debido a la relevancia del producto con respecto a tu búsqueda.Más información sobre este anuncio  PLAYMOBIL myLife 71611 Baño, Incluye Dos Figuras y numerosos Accesorios, Hechos de más del 80% de Materiales reciclados y de Base biológica, Juguetes para niños y niñas a Partir de 4 años  4,8 de 5 estrellas 7  24,99 €24,99€Entrega GRATIS el sáb, 28 de sept en tu primer pedidoEntrega más rápida el jue, 26 de sept Vendido por: AmazonEdades: 4 - 10 años\n",
            "PatrocinadoPatrocinado Puedes ver este anuncio debido a la relevancia del producto con respecto a tu búsqueda.Más información sobre este anuncio  PLAYMOBIL City Life 71327 Colegio, Edificio Escolar sin barreras con Ascensor, Juguetes para niños a Partir de 4 años  4,7 de 5 estrellas 200  95,99 €95,99€ PVPR: 119,99 €119,99€ Entrega GRATIS el sáb, 28 de sept Entrega más rápida el vie, 27 de sept Vendido por: AmazonEdades: 4 - 10 años\n",
            "PatrocinadoPatrocinado Puedes ver este anuncio debido a la relevancia del producto con respecto a tu búsqueda.Más información sobre este anuncio  PLAYMOBIL City Life 70281 Parque Infantil Aventura, A Partir de 4 años  4,7 de 5 estrellas 4.868  50+ comprados el mes pasado31,99 €31,99€ PVPR: 39,99 €39,99€Entrega GRATIS el sáb, 28 de sept en tu primer pedidoVendido por: AmazonEdades: 4 - 10 años\n",
            "PatrocinadoPatrocinado Puedes ver este anuncio debido a la relevancia del producto con respecto a tu búsqueda.Más información sobre este anuncio  Juguetes del Transbordador Espacial, City Space Stem 11 en 1 Juego de Construcción de Cohetes de Exploración de la Ciudad para Niños 6+ Años(855PCS)  4,1 de 5 estrellas 157  100+ comprados el mes pasado29,99 €29,99€Entrega GRATIS el sáb, 28 de sept en tu primer pedidoEntrega más rápida el jue, 26 de sept \n"
          ]
        }
      ],
      "source": [
        "#Le pasamos el listado de productos a Bs4\n",
        "from bs4 import BeautifulSoup as bs\n",
        "soup = bs(driver.page_source, 'html.parser')\n",
        "productos = soup.find_all('div', class_='a-section a-spacing-base')\n",
        "#Printeamos la lista de productos:\n",
        "for producto in productos:\n",
        "    print(producto.text)"
      ]
    },
    {
      "cell_type": "code",
      "execution_count": 41,
      "metadata": {
        "id": "2mSC-fnrhxLE"
      },
      "outputs": [
        {
          "data": {
            "text/plain": [
              "['LEGO Ninjago Ataque Rising Dragon de NYA Articulado de Juguete, Juego de Construcción con Figura de Acción y Minifigura Ninja con Mini Catana, Regalo para Niños y Niñas de 6 Años o Más 71802  4,8 de 5 estrellas 325  50+ comprados el mes pasado7,49\\xa0€7,49€ PVPR: 9,99\\xa0€9,99€Entrega GRATIS el sáb, 28 de sept en tu primer pedidoEntrega más rápida mañana, 25 de sept Vendido por: AmazonEdades: 6 años y más']"
            ]
          },
          "execution_count": 41,
          "metadata": {},
          "output_type": "execute_result"
        }
      ],
      "source": [
        "productos[60].text.split('\\n')"
      ]
    },
    {
      "cell_type": "code",
      "execution_count": 43,
      "metadata": {},
      "outputs": [
        {
          "name": "stdout",
          "output_type": "stream",
          "text": [
            "<div class=\"a-section a-spacing-base\">\n",
            " <div class=\"a-section a-spacing-none puis-status-badge-container aok-relative s-grid-status-badge-container puis-expand-height\">\n",
            "  <span aria-label=\"Opción Amazon\">\n",
            "   <a class=\"a-link-normal s-underline-text s-underline-link-text s-link-style\" href=\"/LEGO-Marvel-Persecuci%C3%B3n-Moto-Aracnobl%C3%A1steres/dp/B0CFW36SSM/ref=ice_ac_b_dpb?__mk_es_ES=%C3%85M%C3%85%C5%BD%C3%95%C3%91&amp;crid=3S067YZQN1TJ5&amp;dib=eyJ2IjoiMSJ9.zhUrcY5uBDTMszKHOqW27zpnv3d8OrW57yCX5RNhIgygGTchnQbeVxuQhGZk_7oF2VdC1r4Y5d3D5VuC1jGMYtwSosk6_DFyt6q03dBF5OxdU_g3ukVERk-V4sMAFa3_mkO5DwRzIopNSVzZ5LngP6qI2quLxsh-IhG-gabPGKpNcckIig3VllVKypIyWF1OZILx1HKtjhab9RyP_Wkdypi7RFcuk9e5k5GJRtcRAENMxLCmR1DgY2zP5UeAQOGSxOIEBa1J2BywdGJ1DIPK1GNWuTYHjF3zZ8ULR4MFJfQ.bXu85brkA3kq8wycorsrIr-0QwCA0yUNt5kS48xDvnI&amp;dib_tag=se&amp;keywords=juguetes+lego&amp;qid=1727196297&amp;sprefix=juguetes+lego%2Caps%2C108&amp;sr=8-1\">\n",
            "    <span class=\"rush-component\" data-component-id=\"17\" data-component-props='{\"asin\":\"B0CFW36SSM\",\"badgeType\":\"amazons-choice\"}' data-component-type=\"s-status-badge-component\" data-render-id=\"r3r41o9six00we2aqjmhxqinn9v\" data-version-id=\"v2fl5pkubaqu126k6zseo6li6q\">\n",
            "     <div class=\"a-row a-badge-region\">\n",
            "      <span aria-labelledby=\"B0CFW36SSM-amazons-choice-label B0CFW36SSM-amazons-choice-supplementary\" class=\"a-badge\" data-a-badge-supplementary-position=\"right\" data-a-badge-type=\"status\" id=\"B0CFW36SSM-amazons-choice\" role=\"group\" tabindex=\"0\">\n",
            "       <span aria-hidden=\"true\" class=\"a-badge-label\" data-a-badge-color=\"sx-gulfstream\" id=\"B0CFW36SSM-amazons-choice-label\">\n",
            "        <span class=\"a-badge-label-inner a-text-ellipsis\">\n",
            "         <span class=\"a-badge-text\" data-a-badge-color=\"sx-cloud\">\n",
            "          Opción\n",
            "         </span>\n",
            "         <span class=\"a-badge-text\" data-a-badge-color=\"ac-orange\">\n",
            "          Amazon\n",
            "         </span>\n",
            "        </span>\n",
            "       </span>\n",
            "       <span aria-hidden=\"true\" class=\"a-badge-supplementary-text a-text-ellipsis\" id=\"B0CFW36SSM-amazons-choice-supplementary\">\n",
            "        para \"juguetes lego\"\n",
            "       </span>\n",
            "      </span>\n",
            "     </div>\n",
            "    </span>\n",
            "   </a>\n",
            "  </span>\n",
            " </div>\n",
            " <div class=\"s-product-image-container aok-relative s-text-center s-image-overlay-grey puis-image-overlay-grey s-padding-left-small s-padding-right-small puis-spacing-small s-height-equalized puis puis-v2fl5pkubaqu126k6zseo6li6q\" data-cy=\"image-container\" style=\"padding-top: 0px !important;\">\n",
            "  <span class=\"rush-component\" data-component-type=\"s-product-image\" data-render-id=\"r3r41o9six00we2aqjmhxqinn9v\" data-version-id=\"v2fl5pkubaqu126k6zseo6li6q\">\n",
            "   <a class=\"a-link-normal s-no-outline\" href=\"/LEGO-Marvel-Persecuci%C3%B3n-Moto-Aracnobl%C3%A1steres/dp/B0CFW36SSM/ref=sr_1_1?__mk_es_ES=%C3%85M%C3%85%C5%BD%C3%95%C3%91&amp;crid=3S067YZQN1TJ5&amp;dib=eyJ2IjoiMSJ9.zhUrcY5uBDTMszKHOqW27zpnv3d8OrW57yCX5RNhIgygGTchnQbeVxuQhGZk_7oF2VdC1r4Y5d3D5VuC1jGMYtwSosk6_DFyt6q03dBF5OxdU_g3ukVERk-V4sMAFa3_mkO5DwRzIopNSVzZ5LngP6qI2quLxsh-IhG-gabPGKpNcckIig3VllVKypIyWF1OZILx1HKtjhab9RyP_Wkdypi7RFcuk9e5k5GJRtcRAENMxLCmR1DgY2zP5UeAQOGSxOIEBa1J2BywdGJ1DIPK1GNWuTYHjF3zZ8ULR4MFJfQ.bXu85brkA3kq8wycorsrIr-0QwCA0yUNt5kS48xDvnI&amp;dib_tag=se&amp;keywords=juguetes+lego&amp;qid=1727196297&amp;sprefix=juguetes+lego%2Caps%2C108&amp;sr=8-1\" tabindex=\"-1\">\n",
            "    <div class=\"a-section aok-relative s-image-square-aspect\">\n",
            "     <img alt=\"LEGO Marvel Persecución en Moto: Spider-Man vs. Doc Ock, Juguete de Construcción con Cañones y Aracnoblásteres, Moto de Sp...\" aria-hidden=\"true\" class=\"s-image\" data-image-index=\"1\" data-image-latency=\"s-product-image\" data-image-load=\"\" data-image-source-density=\"1\" src=\"https://m.media-amazon.com/images/I/81oBJ6BZucL._AC_UL320_.jpg\" srcset=\"https://m.media-amazon.com/images/I/81oBJ6BZucL._AC_UL320_.jpg 1x, https://m.media-amazon.com/images/I/81oBJ6BZucL._AC_UL480_FMwebp_QL65_.jpg 1.5x, https://m.media-amazon.com/images/I/81oBJ6BZucL._AC_UL640_FMwebp_QL65_.jpg 2x, https://m.media-amazon.com/images/I/81oBJ6BZucL._AC_UL800_FMwebp_QL65_.jpg 2.5x, https://m.media-amazon.com/images/I/81oBJ6BZucL._AC_UL960_FMwebp_QL65_.jpg 3x\"/>\n",
            "    </div>\n",
            "   </a>\n",
            "  </span>\n",
            " </div>\n",
            " <div class=\"a-section a-spacing-small puis-padding-left-small puis-padding-right-small\">\n",
            "  <div class=\"a-section a-spacing-none a-spacing-top-small s-title-instructions-style\" data-cy=\"title-recipe\">\n",
            "   <h2 class=\"a-size-mini a-spacing-none a-color-base s-line-clamp-4\">\n",
            "    <a class=\"a-link-normal s-underline-text s-underline-link-text s-link-style a-text-normal\" href=\"/LEGO-Marvel-Persecuci%C3%B3n-Moto-Aracnobl%C3%A1steres/dp/B0CFW36SSM/ref=sr_1_1?__mk_es_ES=%C3%85M%C3%85%C5%BD%C3%95%C3%91&amp;crid=3S067YZQN1TJ5&amp;dib=eyJ2IjoiMSJ9.zhUrcY5uBDTMszKHOqW27zpnv3d8OrW57yCX5RNhIgygGTchnQbeVxuQhGZk_7oF2VdC1r4Y5d3D5VuC1jGMYtwSosk6_DFyt6q03dBF5OxdU_g3ukVERk-V4sMAFa3_mkO5DwRzIopNSVzZ5LngP6qI2quLxsh-IhG-gabPGKpNcckIig3VllVKypIyWF1OZILx1HKtjhab9RyP_Wkdypi7RFcuk9e5k5GJRtcRAENMxLCmR1DgY2zP5UeAQOGSxOIEBa1J2BywdGJ1DIPK1GNWuTYHjF3zZ8ULR4MFJfQ.bXu85brkA3kq8wycorsrIr-0QwCA0yUNt5kS48xDvnI&amp;dib_tag=se&amp;keywords=juguetes+lego&amp;qid=1727196297&amp;sprefix=juguetes+lego%2Caps%2C108&amp;sr=8-1\">\n",
            "     <span class=\"a-size-base-plus a-color-base a-text-normal\">\n",
            "      LEGO Marvel Persecución en Moto: Spider-Man vs. Doc Ock, Juguete de Construcción con Cañones y Aracnoblásteres, Moto de Spidey, Regalo para Niños, Niñas y Fans de Superhéroes de 6 Años o Más 76275\n",
            "     </span>\n",
            "    </a>\n",
            "   </h2>\n",
            "  </div>\n",
            "  <div class=\"a-section a-spacing-none a-spacing-top-micro\" data-cy=\"reviews-block\">\n",
            "   <div class=\"a-row a-size-small\">\n",
            "    <span aria-label=\"4,6 de 5 estrellas\">\n",
            "     <span class=\"a-declarative\" data-a-popover='{\"closeButton\":true,\"closeButtonLabel\":\"\",\"activate\":\"onmouseover\",\"name\":\"\",\"position\":\"triggerBottom\",\"popoverLabel\":\"\",\"url\":\"/review/widgets/average-customer-review/popover/ref=acr_search__popover?ie=UTF8&amp;asin=B0CFW36SSM&amp;ref_=acr_search__popover&amp;contextId=search\"}' data-action=\"a-popover\" data-csa-c-func-deps=\"aui-da-a-popover\" data-csa-c-id=\"dflgkm-xayidx-bp0gmz-2oxetk\" data-csa-c-type=\"widget\" data-render-id=\"r3r41o9six00we2aqjmhxqinn9v\" data-version-id=\"v2fl5pkubaqu126k6zseo6li6q\">\n",
            "      <a class=\"a-popover-trigger a-declarative\" href=\"javascript:void(0)\" role=\"button\">\n",
            "       <i class=\"a-icon a-icon-star-small a-star-small-4-5\" data-cy=\"reviews-ratings-slot\">\n",
            "        <span class=\"a-icon-alt\">\n",
            "         4,6 de 5 estrellas\n",
            "        </span>\n",
            "       </i>\n",
            "       <i class=\"a-icon a-icon-popover\">\n",
            "       </i>\n",
            "      </a>\n",
            "     </span>\n",
            "    </span>\n",
            "    <span aria-label=\"865 calificaciones\">\n",
            "     <a class=\"a-link-normal s-underline-text s-underline-link-text s-link-style\" href=\"/LEGO-Marvel-Persecuci%C3%B3n-Moto-Aracnobl%C3%A1steres/dp/B0CFW36SSM/ref=sr_1_1?__mk_es_ES=%C3%85M%C3%85%C5%BD%C3%95%C3%91&amp;crid=3S067YZQN1TJ5&amp;dib=eyJ2IjoiMSJ9.zhUrcY5uBDTMszKHOqW27zpnv3d8OrW57yCX5RNhIgygGTchnQbeVxuQhGZk_7oF2VdC1r4Y5d3D5VuC1jGMYtwSosk6_DFyt6q03dBF5OxdU_g3ukVERk-V4sMAFa3_mkO5DwRzIopNSVzZ5LngP6qI2quLxsh-IhG-gabPGKpNcckIig3VllVKypIyWF1OZILx1HKtjhab9RyP_Wkdypi7RFcuk9e5k5GJRtcRAENMxLCmR1DgY2zP5UeAQOGSxOIEBa1J2BywdGJ1DIPK1GNWuTYHjF3zZ8ULR4MFJfQ.bXu85brkA3kq8wycorsrIr-0QwCA0yUNt5kS48xDvnI&amp;dib_tag=se&amp;keywords=juguetes+lego&amp;qid=1727196297&amp;sprefix=juguetes+lego%2Caps%2C108&amp;sr=8-1#customerReviews\">\n",
            "      <span class=\"a-size-base s-underline-text\">\n",
            "       865\n",
            "      </span>\n",
            "     </a>\n",
            "    </span>\n",
            "   </div>\n",
            "   <div class=\"a-row a-size-base\">\n",
            "    <span class=\"a-size-base a-color-secondary\">\n",
            "     500+ comprados el mes pasado\n",
            "    </span>\n",
            "   </div>\n",
            "  </div>\n",
            "  <div class=\"a-section a-spacing-none a-spacing-top-small s-price-instructions-style\" data-cy=\"price-recipe\">\n",
            "   <div class=\"a-row a-size-base a-color-base\">\n",
            "    <div class=\"a-row\">\n",
            "     <a class=\"a-link-normal s-no-hover s-underline-text s-underline-link-text s-link-style a-text-normal\" href=\"/LEGO-Marvel-Persecuci%C3%B3n-Moto-Aracnobl%C3%A1steres/dp/B0CFW36SSM/ref=sr_1_1?__mk_es_ES=%C3%85M%C3%85%C5%BD%C3%95%C3%91&amp;crid=3S067YZQN1TJ5&amp;dib=eyJ2IjoiMSJ9.zhUrcY5uBDTMszKHOqW27zpnv3d8OrW57yCX5RNhIgygGTchnQbeVxuQhGZk_7oF2VdC1r4Y5d3D5VuC1jGMYtwSosk6_DFyt6q03dBF5OxdU_g3ukVERk-V4sMAFa3_mkO5DwRzIopNSVzZ5LngP6qI2quLxsh-IhG-gabPGKpNcckIig3VllVKypIyWF1OZILx1HKtjhab9RyP_Wkdypi7RFcuk9e5k5GJRtcRAENMxLCmR1DgY2zP5UeAQOGSxOIEBa1J2BywdGJ1DIPK1GNWuTYHjF3zZ8ULR4MFJfQ.bXu85brkA3kq8wycorsrIr-0QwCA0yUNt5kS48xDvnI&amp;dib_tag=se&amp;keywords=juguetes+lego&amp;qid=1727196297&amp;sprefix=juguetes+lego%2Caps%2C108&amp;sr=8-1\">\n",
            "      <span class=\"a-price\" data-a-color=\"base\" data-a-size=\"xl\">\n",
            "       <span class=\"a-offscreen\">\n",
            "        9,99 €\n",
            "       </span>\n",
            "       <span aria-hidden=\"true\">\n",
            "        <span class=\"a-price-whole\">\n",
            "         9\n",
            "         <span class=\"a-price-decimal\">\n",
            "          ,\n",
            "         </span>\n",
            "        </span>\n",
            "        <span class=\"a-price-fraction\">\n",
            "         99\n",
            "        </span>\n",
            "        <span class=\"a-price-symbol\">\n",
            "         €\n",
            "        </span>\n",
            "       </span>\n",
            "      </span>\n",
            "     </a>\n",
            "    </div>\n",
            "    <div class=\"a-row\">\n",
            "    </div>\n",
            "   </div>\n",
            "   <div class=\"a-row a-size-base a-color-secondary\">\n",
            "    <span>\n",
            "     Ahorra 5 % al comprar 4 de esta selección\n",
            "    </span>\n",
            "    <span>\n",
            "    </span>\n",
            "   </div>\n",
            "  </div>\n",
            "  <div class=\"a-section a-spacing-none a-spacing-top-micro\" data-cy=\"delivery-recipe\">\n",
            "   <div class=\"a-row a-size-base a-color-secondary s-align-children-center\">\n",
            "    <div class=\"a-row\">\n",
            "     <span aria-label=\"Entrega GRATIS el sáb, 28 de sept en tu primer pedido\">\n",
            "      <span class=\"a-color-base\">\n",
            "       Entrega GRATIS el\n",
            "      </span>\n",
            "      <span class=\"a-color-base a-text-bold\">\n",
            "       sáb, 28 de sept\n",
            "      </span>\n",
            "      <span class=\"a-color-base\">\n",
            "       en tu primer pedido\n",
            "      </span>\n",
            "     </span>\n",
            "    </div>\n",
            "    <div class=\"a-row\">\n",
            "     <span aria-label=\"Entrega más rápida el jue, 26 de sept \">\n",
            "      <span class=\"a-color-base\">\n",
            "       Entrega más rápida el\n",
            "      </span>\n",
            "      <span class=\"a-color-base a-text-bold\">\n",
            "       jue, 26 de sept\n",
            "      </span>\n",
            "     </span>\n",
            "    </div>\n",
            "   </div>\n",
            "  </div>\n",
            "  <div class=\"a-section a-spacing-none a-spacing-top-mini\" data-cy=\"message-above-action-recipe\">\n",
            "   <div class=\"a-row a-size-base\">\n",
            "    <span class=\"a-color-base\">\n",
            "     Vendido por: Amazon\n",
            "    </span>\n",
            "   </div>\n",
            "  </div>\n",
            "  <div class=\"a-section a-spacing-none a-spacing-top-mini puis-interactive-asin-expander-hide\" data-cy=\"secondary-offer-recipe\">\n",
            "   <div class=\"a-row a-size-base a-color-secondary\">\n",
            "    <span class=\"a-size-base a-color-secondary\">\n",
            "     Más opciones de compra\n",
            "    </span>\n",
            "    <br/>\n",
            "    <span class=\"a-color-base\">\n",
            "     8,42 €\n",
            "    </span>\n",
            "    <span class=\"a-letter-space\">\n",
            "    </span>\n",
            "    <span class=\"a-declarative\" data-action=\"s-show-all-offers-display\" data-csa-c-func-deps=\"aui-da-s-show-all-offers-display\" data-csa-c-id=\"ijklhe-rf2mok-fotlu6-cf1yc2\" data-csa-c-type=\"widget\" data-render-id=\"r3r41o9six00we2aqjmhxqinn9v\" data-s-show-all-offers-display='{\"assetMismatch\":\"Abandon\",\"url\":\"/gp/aod/ajax/ref=sr_1_1_aod?asin=B0CFW36SSM&amp;pc=sp&amp;keywords=juguetes+lego&amp;crid=3S067YZQN1TJ5&amp;sprefix=juguetes+lego%2Caps%2C108&amp;dib_tag=se&amp;dib=eyJ2IjoiMSJ9.zhUrcY5uBDTMszKHOqW27zpnv3d8OrW57yCX5RNhIgygGTchnQbeVxuQhGZk_7oF2VdC1r4Y5d3D5VuC1jGMYtwSosk6_DFyt6q03dBF5OxdU_g3ukVERk-V4sMAFa3_mkO5DwRzIopNSVzZ5LngP6qI2quLxsh-IhG-gabPGKpNcckIig3VllVKypIyWF1OZILx1HKtjhab9RyP_Wkdypi7RFcuk9e5k5GJRtcRAENMxLCmR1DgY2zP5UeAQOGSxOIEBa1J2BywdGJ1DIPK1GNWuTYHjF3zZ8ULR4MFJfQ.bXu85brkA3kq8wycorsrIr-0QwCA0yUNt5kS48xDvnI&amp;__mk_es_ES=%C3%85M%C3%85%C5%BD%C3%95%C3%91&amp;qid=1727196297&amp;sr=8-1\",\"fallbackUrl\":\"/gp/offer-listing/B0CFW36SSM/ref=sr_1_1_olp?keywords=juguetes+lego&amp;crid=3S067YZQN1TJ5&amp;sprefix=juguetes+lego%2Caps%2C108&amp;dib_tag=se&amp;dib=eyJ2IjoiMSJ9.zhUrcY5uBDTMszKHOqW27zpnv3d8OrW57yCX5RNhIgygGTchnQbeVxuQhGZk_7oF2VdC1r4Y5d3D5VuC1jGMYtwSosk6_DFyt6q03dBF5OxdU_g3ukVERk-V4sMAFa3_mkO5DwRzIopNSVzZ5LngP6qI2quLxsh-IhG-gabPGKpNcckIig3VllVKypIyWF1OZILx1HKtjhab9RyP_Wkdypi7RFcuk9e5k5GJRtcRAENMxLCmR1DgY2zP5UeAQOGSxOIEBa1J2BywdGJ1DIPK1GNWuTYHjF3zZ8ULR4MFJfQ.bXu85brkA3kq8wycorsrIr-0QwCA0yUNt5kS48xDvnI&amp;__mk_es_ES=%C3%85M%C3%85%C5%BD%C3%95%C3%91&amp;qid=1727196297&amp;sr=8-1\"}' data-version-id=\"v2fl5pkubaqu126k6zseo6li6q\">\n",
            "     <a class=\"a-link-normal s-link-style s-underline-text s-underline-link-text\" href=\"/gp/offer-listing/B0CFW36SSM/ref=sr_1_1_olp?keywords=juguetes+lego&amp;crid=3S067YZQN1TJ5&amp;sprefix=juguetes+lego%2Caps%2C108&amp;dib_tag=se&amp;dib=eyJ2IjoiMSJ9.zhUrcY5uBDTMszKHOqW27zpnv3d8OrW57yCX5RNhIgygGTchnQbeVxuQhGZk_7oF2VdC1r4Y5d3D5VuC1jGMYtwSosk6_DFyt6q03dBF5OxdU_g3ukVERk-V4sMAFa3_mkO5DwRzIopNSVzZ5LngP6qI2quLxsh-IhG-gabPGKpNcckIig3VllVKypIyWF1OZILx1HKtjhab9RyP_Wkdypi7RFcuk9e5k5GJRtcRAENMxLCmR1DgY2zP5UeAQOGSxOIEBa1J2BywdGJ1DIPK1GNWuTYHjF3zZ8ULR4MFJfQ.bXu85brkA3kq8wycorsrIr-0QwCA0yUNt5kS48xDvnI&amp;__mk_es_ES=%C3%85M%C3%85%C5%BD%C3%95%C3%91&amp;qid=1727196297&amp;sr=8-1\">\n",
            "      (49 ofertas usadas y nuevas)\n",
            "     </a>\n",
            "    </span>\n",
            "    <div class=\"a-section aok-hidden\" id=\"all-offers-display\">\n",
            "     <div class=\"a-spinner-wrapper aok-hidden\" id=\"all-offers-display-spinner\">\n",
            "      <span class=\"a-spinner a-spinner-medium\">\n",
            "      </span>\n",
            "     </div>\n",
            "    </div>\n",
            "    <span class=\"a-declarative\" data-action=\"close-all-offers-display\" data-csa-c-func-deps=\"aui-da-close-all-offers-display\" data-csa-c-id=\"v8tscp-9rywao-izti36-qn66mm\" data-csa-c-type=\"widget\" data-render-id=\"r3r41o9six00we2aqjmhxqinn9v\" data-version-id=\"v2fl5pkubaqu126k6zseo6li6q\">\n",
            "     <div class=\"a-section aok-hidden aod-darken-background\" id=\"aod-background\">\n",
            "     </div>\n",
            "    </span>\n",
            "   </div>\n",
            "  </div>\n",
            "  <div class=\"a-section a-spacing-none a-spacing-top-mini puis-interactive-asin-expander-hide\" data-cy=\"product-details-recipe\">\n",
            "   <div class=\"a-row a-size-base a-color-base\">\n",
            "    <span>\n",
            "     Edades: 6 años y más\n",
            "    </span>\n",
            "   </div>\n",
            "  </div>\n",
            " </div>\n",
            "</div>\n",
            "\n"
          ]
        }
      ],
      "source": [
        "print(productos[0].prettify())"
      ]
    },
    {
      "cell_type": "code",
      "execution_count": 77,
      "metadata": {},
      "outputs": [],
      "source": [
        "producto = productos[0]\n",
        "\n",
        "#Link del producto:\n",
        "prefijo_url = 'https://www.amazon.es'\n",
        "link_parcial = producto.find('a',{'class':'a-link-normal s-underline-text s-underline-link-text s-link-style a-text-normal'}).attrs['href']\n",
        "link_producto = prefijo_url+link_parcial\n",
        "\n",
        "#Nombre producto\n",
        "nombre = producto.find('span', {'class':'a-size-base-plus a-color-base a-text-normal'}).text\n",
        "\n",
        "#Precio\n",
        "precio = float(producto.find('span', {'class':'a-offscreen'}).text.split('\\xa0')[0].replace(',','.'))\n",
        "\n",
        "#Estrellas\n",
        "valoracion = float(producto.find('span', {'class':'a-icon-alt'}).text.split(' ')[0].replace(',','.'))\n"
      ]
    },
    {
      "cell_type": "code",
      "execution_count": 103,
      "metadata": {},
      "outputs": [
        {
          "name": "stdout",
          "output_type": "stream",
          "text": [
            "0\n"
          ]
        },
        {
          "ename": "ValueError",
          "evalue": "could not convert string to float: ''",
          "output_type": "error",
          "traceback": [
            "\u001b[0;31m---------------------------------------------------------------------------\u001b[0m",
            "\u001b[0;31mValueError\u001b[0m                                Traceback (most recent call last)",
            "Cell \u001b[0;32mIn[103], line 19\u001b[0m\n\u001b[1;32m     17\u001b[0m \u001b[38;5;66;03m#for e in etiquetas:\u001b[39;00m\n\u001b[1;32m     18\u001b[0m \u001b[38;5;66;03m#    if '€' in e.text:\u001b[39;00m\n\u001b[0;32m---> 19\u001b[0m precio \u001b[38;5;241m=\u001b[39m \u001b[38;5;28;43mfloat\u001b[39;49m\u001b[43m(\u001b[49m\u001b[43metiqueta\u001b[49m\u001b[38;5;241;43m.\u001b[39;49m\u001b[43mtext\u001b[49m\u001b[38;5;241;43m.\u001b[39;49m\u001b[43msplit\u001b[49m\u001b[43m(\u001b[49m\u001b[38;5;124;43m'\u001b[39;49m\u001b[38;5;130;43;01m\\xa0\u001b[39;49;00m\u001b[38;5;124;43m'\u001b[39;49m\u001b[43m)\u001b[49m\u001b[43m[\u001b[49m\u001b[38;5;241;43m0\u001b[39;49m\u001b[43m]\u001b[49m\u001b[38;5;241;43m.\u001b[39;49m\u001b[43mreplace\u001b[49m\u001b[43m(\u001b[49m\u001b[38;5;124;43m'\u001b[39;49m\u001b[38;5;124;43m,\u001b[39;49m\u001b[38;5;124;43m'\u001b[39;49m\u001b[43m,\u001b[49m\u001b[38;5;124;43m'\u001b[39;49m\u001b[38;5;124;43m.\u001b[39;49m\u001b[38;5;124;43m'\u001b[39;49m\u001b[43m)\u001b[49m\u001b[43m)\u001b[49m\n\u001b[1;32m     20\u001b[0m dicc_prod[\u001b[38;5;124m'\u001b[39m\u001b[38;5;124mprecio\u001b[39m\u001b[38;5;124m'\u001b[39m] \u001b[38;5;241m=\u001b[39m precio\n",
            "\u001b[0;31mValueError\u001b[0m: could not convert string to float: 'Opción Amazonpara \"juguetes lego\"  '",
            "\nDuring handling of the above exception, another exception occurred:\n",
            "\u001b[0;31mValueError\u001b[0m                                Traceback (most recent call last)",
            "Cell \u001b[0;32mIn[103], line 26\u001b[0m\n\u001b[1;32m     24\u001b[0m     \u001b[38;5;28;01mfor\u001b[39;00m e \u001b[38;5;129;01min\u001b[39;00m etiquetas:\n\u001b[1;32m     25\u001b[0m         \u001b[38;5;28;01mif\u001b[39;00m \u001b[38;5;124m'\u001b[39m\u001b[38;5;124m€\u001b[39m\u001b[38;5;124m'\u001b[39m \u001b[38;5;129;01min\u001b[39;00m e\u001b[38;5;241m.\u001b[39mtext:\n\u001b[0;32m---> 26\u001b[0m             precio \u001b[38;5;241m=\u001b[39m \u001b[38;5;28;43mfloat\u001b[39;49m\u001b[43m(\u001b[49m\u001b[43me\u001b[49m\u001b[38;5;241;43m.\u001b[39;49m\u001b[43mtext\u001b[49m\u001b[38;5;241;43m.\u001b[39;49m\u001b[43msplit\u001b[49m\u001b[43m(\u001b[49m\u001b[38;5;124;43m'\u001b[39;49m\u001b[38;5;130;43;01m\\xa0\u001b[39;49;00m\u001b[38;5;124;43m'\u001b[39;49m\u001b[43m)\u001b[49m\u001b[43m[\u001b[49m\u001b[38;5;241;43m0\u001b[39;49m\u001b[43m]\u001b[49m\u001b[38;5;241;43m.\u001b[39;49m\u001b[43mreplace\u001b[49m\u001b[43m(\u001b[49m\u001b[38;5;124;43m'\u001b[39;49m\u001b[38;5;124;43m,\u001b[39;49m\u001b[38;5;124;43m'\u001b[39;49m\u001b[43m,\u001b[49m\u001b[38;5;124;43m'\u001b[39;49m\u001b[38;5;124;43m.\u001b[39;49m\u001b[38;5;124;43m'\u001b[39;49m\u001b[43m)\u001b[49m\u001b[38;5;241;43m.\u001b[39;49m\u001b[43mreplace\u001b[49m\u001b[43m(\u001b[49m\u001b[38;5;124;43m'\u001b[39;49m\u001b[38;5;124;43m€\u001b[39;49m\u001b[38;5;124;43m'\u001b[39;49m\u001b[43m,\u001b[49m\u001b[38;5;124;43m'\u001b[39;49m\u001b[38;5;124;43m'\u001b[39;49m\u001b[43m)\u001b[49m\u001b[43m)\u001b[49m\n\u001b[1;32m     27\u001b[0m             dicc_prod[\u001b[38;5;124m'\u001b[39m\u001b[38;5;124mprecio\u001b[39m\u001b[38;5;124m'\u001b[39m] \u001b[38;5;241m=\u001b[39m precio\n\u001b[1;32m     29\u001b[0m \u001b[38;5;66;03m#Estrellas\u001b[39;00m\n",
            "\u001b[0;31mValueError\u001b[0m: could not convert string to float: ''"
          ]
        }
      ],
      "source": [
        "import pandas as pd\n",
        "info_productos = []\n",
        "for i, producto in enumerate(productos):\n",
        "    print(i)\n",
        "    dicc_prod = {}\n",
        "    #Link del producto:\n",
        "    prefijo_url = 'https://www.amazon.es'\n",
        "    link_parcial = producto.find('a',{'class':'a-link-normal s-underline-text s-underline-link-text s-link-style a-text-normal'}).attrs['href']\n",
        "    link_producto = prefijo_url+link_parcial\n",
        "    dicc_prod['link_producto'] = link_producto\n",
        "    #Nombre producto\n",
        "    nombre = producto.find('span', {'class':'a-size-base-plus a-color-base a-text-normal'}).text\n",
        "    dicc_prod['nombre'] = nombre\n",
        "    #Precio\n",
        "    try:\n",
        "        etiqueta = producto.find(('span', {'class':'a-offscreen'}))\n",
        "        #for e in etiquetas:\n",
        "        if '€' in e.text:\n",
        "            precio = float(etiqueta.text.split('\\xa0')[0].replace(',','.'))\n",
        "            dicc_prod['precio'] = precio\n",
        "\n",
        "    except:\n",
        "        etiquetas = producto.find_all(('span', {'class':'a-color-base'}))\n",
        "        for e in etiquetas:\n",
        "            if '€' in e.text:\n",
        "                precio = float(e.text.split('\\xa0')[0].replace(',','.').replace('€',''))\n",
        "                dicc_prod['precio'] = precio\n",
        "            \n",
        "    #Estrellas\n",
        "    valoracion = float(producto.find('span', {'class':'a-icon-alt'}).text.split(' ')[0].replace(',','.'))\n",
        "    dicc_prod['valoracion'] = valoracion\n",
        "\n",
        "    info_productos.append(dicc_prod)\n",
        "df_prod = pd.DataFrame(info_productos)\n",
        "df_prod"
      ]
    },
    {
      "cell_type": "code",
      "execution_count": 104,
      "metadata": {},
      "outputs": [
        {
          "data": {
            "text/plain": [
              "<div class=\"a-section a-spacing-base\"><div class=\"a-section a-spacing-none puis-status-badge-container aok-relative s-grid-status-badge-container puis-expand-height\"><span aria-label=\"Opción Amazon\"><a class=\"a-link-normal s-underline-text s-underline-link-text s-link-style\" href=\"/LEGO-Marvel-Persecuci%C3%B3n-Moto-Aracnobl%C3%A1steres/dp/B0CFW36SSM/ref=ice_ac_b_dpb?__mk_es_ES=%C3%85M%C3%85%C5%BD%C3%95%C3%91&amp;crid=3S067YZQN1TJ5&amp;dib=eyJ2IjoiMSJ9.zhUrcY5uBDTMszKHOqW27zpnv3d8OrW57yCX5RNhIgygGTchnQbeVxuQhGZk_7oF2VdC1r4Y5d3D5VuC1jGMYtwSosk6_DFyt6q03dBF5OxdU_g3ukVERk-V4sMAFa3_mkO5DwRzIopNSVzZ5LngP6qI2quLxsh-IhG-gabPGKpNcckIig3VllVKypIyWF1OZILx1HKtjhab9RyP_Wkdypi7RFcuk9e5k5GJRtcRAENMxLCmR1DgY2zP5UeAQOGSxOIEBa1J2BywdGJ1DIPK1GNWuTYHjF3zZ8ULR4MFJfQ.bXu85brkA3kq8wycorsrIr-0QwCA0yUNt5kS48xDvnI&amp;dib_tag=se&amp;keywords=juguetes+lego&amp;qid=1727196297&amp;sprefix=juguetes+lego%2Caps%2C108&amp;sr=8-1\"><span class=\"rush-component\" data-component-id=\"17\" data-component-props='{\"asin\":\"B0CFW36SSM\",\"badgeType\":\"amazons-choice\"}' data-component-type=\"s-status-badge-component\" data-render-id=\"r3r41o9six00we2aqjmhxqinn9v\" data-version-id=\"v2fl5pkubaqu126k6zseo6li6q\"><div class=\"a-row a-badge-region\"><span aria-labelledby=\"B0CFW36SSM-amazons-choice-label B0CFW36SSM-amazons-choice-supplementary\" class=\"a-badge\" data-a-badge-supplementary-position=\"right\" data-a-badge-type=\"status\" id=\"B0CFW36SSM-amazons-choice\" role=\"group\" tabindex=\"0\"><span aria-hidden=\"true\" class=\"a-badge-label\" data-a-badge-color=\"sx-gulfstream\" id=\"B0CFW36SSM-amazons-choice-label\"><span class=\"a-badge-label-inner a-text-ellipsis\"><span class=\"a-badge-text\" data-a-badge-color=\"sx-cloud\">Opción </span><span class=\"a-badge-text\" data-a-badge-color=\"ac-orange\">Amazon</span></span></span><span aria-hidden=\"true\" class=\"a-badge-supplementary-text a-text-ellipsis\" id=\"B0CFW36SSM-amazons-choice-supplementary\">para \"juguetes lego\"</span></span></div></span> </a> </span></div><div class=\"s-product-image-container aok-relative s-text-center s-image-overlay-grey puis-image-overlay-grey s-padding-left-small s-padding-right-small puis-spacing-small s-height-equalized puis puis-v2fl5pkubaqu126k6zseo6li6q\" data-cy=\"image-container\" style=\"padding-top: 0px !important;\"><span class=\"rush-component\" data-component-type=\"s-product-image\" data-render-id=\"r3r41o9six00we2aqjmhxqinn9v\" data-version-id=\"v2fl5pkubaqu126k6zseo6li6q\"><a class=\"a-link-normal s-no-outline\" href=\"/LEGO-Marvel-Persecuci%C3%B3n-Moto-Aracnobl%C3%A1steres/dp/B0CFW36SSM/ref=sr_1_1?__mk_es_ES=%C3%85M%C3%85%C5%BD%C3%95%C3%91&amp;crid=3S067YZQN1TJ5&amp;dib=eyJ2IjoiMSJ9.zhUrcY5uBDTMszKHOqW27zpnv3d8OrW57yCX5RNhIgygGTchnQbeVxuQhGZk_7oF2VdC1r4Y5d3D5VuC1jGMYtwSosk6_DFyt6q03dBF5OxdU_g3ukVERk-V4sMAFa3_mkO5DwRzIopNSVzZ5LngP6qI2quLxsh-IhG-gabPGKpNcckIig3VllVKypIyWF1OZILx1HKtjhab9RyP_Wkdypi7RFcuk9e5k5GJRtcRAENMxLCmR1DgY2zP5UeAQOGSxOIEBa1J2BywdGJ1DIPK1GNWuTYHjF3zZ8ULR4MFJfQ.bXu85brkA3kq8wycorsrIr-0QwCA0yUNt5kS48xDvnI&amp;dib_tag=se&amp;keywords=juguetes+lego&amp;qid=1727196297&amp;sprefix=juguetes+lego%2Caps%2C108&amp;sr=8-1\" tabindex=\"-1\"><div class=\"a-section aok-relative s-image-square-aspect\"><img alt=\"LEGO Marvel Persecución en Moto: Spider-Man vs. Doc Ock, Juguete de Construcción con Cañones y Aracnoblásteres, Moto de Sp...\" aria-hidden=\"true\" class=\"s-image\" data-image-index=\"1\" data-image-latency=\"s-product-image\" data-image-load=\"\" data-image-source-density=\"1\" src=\"https://m.media-amazon.com/images/I/81oBJ6BZucL._AC_UL320_.jpg\" srcset=\"https://m.media-amazon.com/images/I/81oBJ6BZucL._AC_UL320_.jpg 1x, https://m.media-amazon.com/images/I/81oBJ6BZucL._AC_UL480_FMwebp_QL65_.jpg 1.5x, https://m.media-amazon.com/images/I/81oBJ6BZucL._AC_UL640_FMwebp_QL65_.jpg 2x, https://m.media-amazon.com/images/I/81oBJ6BZucL._AC_UL800_FMwebp_QL65_.jpg 2.5x, https://m.media-amazon.com/images/I/81oBJ6BZucL._AC_UL960_FMwebp_QL65_.jpg 3x\"/></div></a></span></div><div class=\"a-section a-spacing-small puis-padding-left-small puis-padding-right-small\"><div class=\"a-section a-spacing-none a-spacing-top-small s-title-instructions-style\" data-cy=\"title-recipe\"><h2 class=\"a-size-mini a-spacing-none a-color-base s-line-clamp-4\"><a class=\"a-link-normal s-underline-text s-underline-link-text s-link-style a-text-normal\" href=\"/LEGO-Marvel-Persecuci%C3%B3n-Moto-Aracnobl%C3%A1steres/dp/B0CFW36SSM/ref=sr_1_1?__mk_es_ES=%C3%85M%C3%85%C5%BD%C3%95%C3%91&amp;crid=3S067YZQN1TJ5&amp;dib=eyJ2IjoiMSJ9.zhUrcY5uBDTMszKHOqW27zpnv3d8OrW57yCX5RNhIgygGTchnQbeVxuQhGZk_7oF2VdC1r4Y5d3D5VuC1jGMYtwSosk6_DFyt6q03dBF5OxdU_g3ukVERk-V4sMAFa3_mkO5DwRzIopNSVzZ5LngP6qI2quLxsh-IhG-gabPGKpNcckIig3VllVKypIyWF1OZILx1HKtjhab9RyP_Wkdypi7RFcuk9e5k5GJRtcRAENMxLCmR1DgY2zP5UeAQOGSxOIEBa1J2BywdGJ1DIPK1GNWuTYHjF3zZ8ULR4MFJfQ.bXu85brkA3kq8wycorsrIr-0QwCA0yUNt5kS48xDvnI&amp;dib_tag=se&amp;keywords=juguetes+lego&amp;qid=1727196297&amp;sprefix=juguetes+lego%2Caps%2C108&amp;sr=8-1\"><span class=\"a-size-base-plus a-color-base a-text-normal\">LEGO Marvel Persecución en Moto: Spider-Man vs. Doc Ock, Juguete de Construcción con Cañones y Aracnoblásteres, Moto de Spidey, Regalo para Niños, Niñas y Fans de Superhéroes de 6 Años o Más 76275</span> </a> </h2></div><div class=\"a-section a-spacing-none a-spacing-top-micro\" data-cy=\"reviews-block\"><div class=\"a-row a-size-small\"><span aria-label=\"4,6 de 5 estrellas\"><span class=\"a-declarative\" data-a-popover='{\"closeButton\":true,\"closeButtonLabel\":\"\",\"activate\":\"onmouseover\",\"name\":\"\",\"position\":\"triggerBottom\",\"popoverLabel\":\"\",\"url\":\"/review/widgets/average-customer-review/popover/ref=acr_search__popover?ie=UTF8&amp;asin=B0CFW36SSM&amp;ref_=acr_search__popover&amp;contextId=search\"}' data-action=\"a-popover\" data-csa-c-func-deps=\"aui-da-a-popover\" data-csa-c-id=\"dflgkm-xayidx-bp0gmz-2oxetk\" data-csa-c-type=\"widget\" data-render-id=\"r3r41o9six00we2aqjmhxqinn9v\" data-version-id=\"v2fl5pkubaqu126k6zseo6li6q\"><a class=\"a-popover-trigger a-declarative\" href=\"javascript:void(0)\" role=\"button\"><i class=\"a-icon a-icon-star-small a-star-small-4-5\" data-cy=\"reviews-ratings-slot\"><span class=\"a-icon-alt\">4,6 de 5 estrellas</span></i><i class=\"a-icon a-icon-popover\"></i></a></span> </span><span aria-label=\"865 calificaciones\"><a class=\"a-link-normal s-underline-text s-underline-link-text s-link-style\" href=\"/LEGO-Marvel-Persecuci%C3%B3n-Moto-Aracnobl%C3%A1steres/dp/B0CFW36SSM/ref=sr_1_1?__mk_es_ES=%C3%85M%C3%85%C5%BD%C3%95%C3%91&amp;crid=3S067YZQN1TJ5&amp;dib=eyJ2IjoiMSJ9.zhUrcY5uBDTMszKHOqW27zpnv3d8OrW57yCX5RNhIgygGTchnQbeVxuQhGZk_7oF2VdC1r4Y5d3D5VuC1jGMYtwSosk6_DFyt6q03dBF5OxdU_g3ukVERk-V4sMAFa3_mkO5DwRzIopNSVzZ5LngP6qI2quLxsh-IhG-gabPGKpNcckIig3VllVKypIyWF1OZILx1HKtjhab9RyP_Wkdypi7RFcuk9e5k5GJRtcRAENMxLCmR1DgY2zP5UeAQOGSxOIEBa1J2BywdGJ1DIPK1GNWuTYHjF3zZ8ULR4MFJfQ.bXu85brkA3kq8wycorsrIr-0QwCA0yUNt5kS48xDvnI&amp;dib_tag=se&amp;keywords=juguetes+lego&amp;qid=1727196297&amp;sprefix=juguetes+lego%2Caps%2C108&amp;sr=8-1#customerReviews\"><span class=\"a-size-base s-underline-text\">865</span> </a> </span></div><div class=\"a-row a-size-base\"><span class=\"a-size-base a-color-secondary\">500+ comprados el mes pasado</span></div></div><div class=\"a-section a-spacing-none a-spacing-top-small s-price-instructions-style\" data-cy=\"price-recipe\"><div class=\"a-row a-size-base a-color-base\"><div class=\"a-row\"><a class=\"a-link-normal s-no-hover s-underline-text s-underline-link-text s-link-style a-text-normal\" href=\"/LEGO-Marvel-Persecuci%C3%B3n-Moto-Aracnobl%C3%A1steres/dp/B0CFW36SSM/ref=sr_1_1?__mk_es_ES=%C3%85M%C3%85%C5%BD%C3%95%C3%91&amp;crid=3S067YZQN1TJ5&amp;dib=eyJ2IjoiMSJ9.zhUrcY5uBDTMszKHOqW27zpnv3d8OrW57yCX5RNhIgygGTchnQbeVxuQhGZk_7oF2VdC1r4Y5d3D5VuC1jGMYtwSosk6_DFyt6q03dBF5OxdU_g3ukVERk-V4sMAFa3_mkO5DwRzIopNSVzZ5LngP6qI2quLxsh-IhG-gabPGKpNcckIig3VllVKypIyWF1OZILx1HKtjhab9RyP_Wkdypi7RFcuk9e5k5GJRtcRAENMxLCmR1DgY2zP5UeAQOGSxOIEBa1J2BywdGJ1DIPK1GNWuTYHjF3zZ8ULR4MFJfQ.bXu85brkA3kq8wycorsrIr-0QwCA0yUNt5kS48xDvnI&amp;dib_tag=se&amp;keywords=juguetes+lego&amp;qid=1727196297&amp;sprefix=juguetes+lego%2Caps%2C108&amp;sr=8-1\"><span class=\"a-price\" data-a-color=\"base\" data-a-size=\"xl\"><span class=\"a-offscreen\">9,99 €</span><span aria-hidden=\"true\"><span class=\"a-price-whole\">9<span class=\"a-price-decimal\">,</span></span><span class=\"a-price-fraction\">99</span><span class=\"a-price-symbol\">€</span></span></span></a></div><div class=\"a-row\"></div></div><div class=\"a-row a-size-base a-color-secondary\"><span>Ahorra 5 % al comprar 4 de esta selección</span><span></span></div></div><div class=\"a-section a-spacing-none a-spacing-top-micro\" data-cy=\"delivery-recipe\"><div class=\"a-row a-size-base a-color-secondary s-align-children-center\"><div class=\"a-row\"><span aria-label=\"Entrega GRATIS el sáb, 28 de sept en tu primer pedido\"><span class=\"a-color-base\">Entrega GRATIS el </span><span class=\"a-color-base a-text-bold\">sáb, 28 de sept </span><span class=\"a-color-base\">en tu primer pedido</span></span></div><div class=\"a-row\"><span aria-label=\"Entrega más rápida el jue, 26 de sept \"><span class=\"a-color-base\">Entrega más rápida el </span><span class=\"a-color-base a-text-bold\">jue, 26 de sept </span></span></div></div></div><div class=\"a-section a-spacing-none a-spacing-top-mini\" data-cy=\"message-above-action-recipe\"><div class=\"a-row a-size-base\"><span class=\"a-color-base\">Vendido por: Amazon</span></div></div><div class=\"a-section a-spacing-none a-spacing-top-mini puis-interactive-asin-expander-hide\" data-cy=\"secondary-offer-recipe\"><div class=\"a-row a-size-base a-color-secondary\"><span class=\"a-size-base a-color-secondary\">Más opciones de compra</span><br/><span class=\"a-color-base\">8,42 €</span><span class=\"a-letter-space\"></span><span class=\"a-declarative\" data-action=\"s-show-all-offers-display\" data-csa-c-func-deps=\"aui-da-s-show-all-offers-display\" data-csa-c-id=\"ijklhe-rf2mok-fotlu6-cf1yc2\" data-csa-c-type=\"widget\" data-render-id=\"r3r41o9six00we2aqjmhxqinn9v\" data-s-show-all-offers-display='{\"assetMismatch\":\"Abandon\",\"url\":\"/gp/aod/ajax/ref=sr_1_1_aod?asin=B0CFW36SSM&amp;pc=sp&amp;keywords=juguetes+lego&amp;crid=3S067YZQN1TJ5&amp;sprefix=juguetes+lego%2Caps%2C108&amp;dib_tag=se&amp;dib=eyJ2IjoiMSJ9.zhUrcY5uBDTMszKHOqW27zpnv3d8OrW57yCX5RNhIgygGTchnQbeVxuQhGZk_7oF2VdC1r4Y5d3D5VuC1jGMYtwSosk6_DFyt6q03dBF5OxdU_g3ukVERk-V4sMAFa3_mkO5DwRzIopNSVzZ5LngP6qI2quLxsh-IhG-gabPGKpNcckIig3VllVKypIyWF1OZILx1HKtjhab9RyP_Wkdypi7RFcuk9e5k5GJRtcRAENMxLCmR1DgY2zP5UeAQOGSxOIEBa1J2BywdGJ1DIPK1GNWuTYHjF3zZ8ULR4MFJfQ.bXu85brkA3kq8wycorsrIr-0QwCA0yUNt5kS48xDvnI&amp;__mk_es_ES=%C3%85M%C3%85%C5%BD%C3%95%C3%91&amp;qid=1727196297&amp;sr=8-1\",\"fallbackUrl\":\"/gp/offer-listing/B0CFW36SSM/ref=sr_1_1_olp?keywords=juguetes+lego&amp;crid=3S067YZQN1TJ5&amp;sprefix=juguetes+lego%2Caps%2C108&amp;dib_tag=se&amp;dib=eyJ2IjoiMSJ9.zhUrcY5uBDTMszKHOqW27zpnv3d8OrW57yCX5RNhIgygGTchnQbeVxuQhGZk_7oF2VdC1r4Y5d3D5VuC1jGMYtwSosk6_DFyt6q03dBF5OxdU_g3ukVERk-V4sMAFa3_mkO5DwRzIopNSVzZ5LngP6qI2quLxsh-IhG-gabPGKpNcckIig3VllVKypIyWF1OZILx1HKtjhab9RyP_Wkdypi7RFcuk9e5k5GJRtcRAENMxLCmR1DgY2zP5UeAQOGSxOIEBa1J2BywdGJ1DIPK1GNWuTYHjF3zZ8ULR4MFJfQ.bXu85brkA3kq8wycorsrIr-0QwCA0yUNt5kS48xDvnI&amp;__mk_es_ES=%C3%85M%C3%85%C5%BD%C3%95%C3%91&amp;qid=1727196297&amp;sr=8-1\"}' data-version-id=\"v2fl5pkubaqu126k6zseo6li6q\"><a class=\"a-link-normal s-link-style s-underline-text s-underline-link-text\" href=\"/gp/offer-listing/B0CFW36SSM/ref=sr_1_1_olp?keywords=juguetes+lego&amp;crid=3S067YZQN1TJ5&amp;sprefix=juguetes+lego%2Caps%2C108&amp;dib_tag=se&amp;dib=eyJ2IjoiMSJ9.zhUrcY5uBDTMszKHOqW27zpnv3d8OrW57yCX5RNhIgygGTchnQbeVxuQhGZk_7oF2VdC1r4Y5d3D5VuC1jGMYtwSosk6_DFyt6q03dBF5OxdU_g3ukVERk-V4sMAFa3_mkO5DwRzIopNSVzZ5LngP6qI2quLxsh-IhG-gabPGKpNcckIig3VllVKypIyWF1OZILx1HKtjhab9RyP_Wkdypi7RFcuk9e5k5GJRtcRAENMxLCmR1DgY2zP5UeAQOGSxOIEBa1J2BywdGJ1DIPK1GNWuTYHjF3zZ8ULR4MFJfQ.bXu85brkA3kq8wycorsrIr-0QwCA0yUNt5kS48xDvnI&amp;__mk_es_ES=%C3%85M%C3%85%C5%BD%C3%95%C3%91&amp;qid=1727196297&amp;sr=8-1\">(49 ofertas usadas y nuevas)</a></span><div class=\"a-section aok-hidden\" id=\"all-offers-display\"><div class=\"a-spinner-wrapper aok-hidden\" id=\"all-offers-display-spinner\"><span class=\"a-spinner a-spinner-medium\"></span></div></div><span class=\"a-declarative\" data-action=\"close-all-offers-display\" data-csa-c-func-deps=\"aui-da-close-all-offers-display\" data-csa-c-id=\"v8tscp-9rywao-izti36-qn66mm\" data-csa-c-type=\"widget\" data-render-id=\"r3r41o9six00we2aqjmhxqinn9v\" data-version-id=\"v2fl5pkubaqu126k6zseo6li6q\"><div class=\"a-section aok-hidden aod-darken-background\" id=\"aod-background\"></div></span></div></div><div class=\"a-section a-spacing-none a-spacing-top-mini puis-interactive-asin-expander-hide\" data-cy=\"product-details-recipe\"><div class=\"a-row a-size-base a-color-base\"><span>Edades: 6 años y más</span></div></div></div></div>"
            ]
          },
          "execution_count": 104,
          "metadata": {},
          "output_type": "execute_result"
        }
      ],
      "source": [
        "producto"
      ]
    },
    {
      "cell_type": "code",
      "execution_count": 106,
      "metadata": {},
      "outputs": [
        {
          "name": "stdout",
          "output_type": "stream",
          "text": [
            "9,99 €9,99€\n",
            "9,99 €\n",
            "9,99€\n",
            "€\n",
            "8,42 €\n"
          ]
        }
      ],
      "source": [
        "etiquetas = producto.find_all(('span', {'class':'a-color-base'}))\n",
        "for e in etiquetas:\n",
        "    if '€' in e.text:\n",
        "        print(e.text)"
      ]
    },
    {
      "cell_type": "code",
      "execution_count": 105,
      "metadata": {},
      "outputs": [
        {
          "name": "stdout",
          "output_type": "stream",
          "text": [
            "<div class=\"a-section a-spacing-base\">\n",
            " <div class=\"a-section a-spacing-none puis-status-badge-container aok-relative s-grid-status-badge-container puis-expand-height\">\n",
            "  <span aria-label=\"Opción Amazon\">\n",
            "   <a class=\"a-link-normal s-underline-text s-underline-link-text s-link-style\" href=\"/LEGO-Marvel-Persecuci%C3%B3n-Moto-Aracnobl%C3%A1steres/dp/B0CFW36SSM/ref=ice_ac_b_dpb?__mk_es_ES=%C3%85M%C3%85%C5%BD%C3%95%C3%91&amp;crid=3S067YZQN1TJ5&amp;dib=eyJ2IjoiMSJ9.zhUrcY5uBDTMszKHOqW27zpnv3d8OrW57yCX5RNhIgygGTchnQbeVxuQhGZk_7oF2VdC1r4Y5d3D5VuC1jGMYtwSosk6_DFyt6q03dBF5OxdU_g3ukVERk-V4sMAFa3_mkO5DwRzIopNSVzZ5LngP6qI2quLxsh-IhG-gabPGKpNcckIig3VllVKypIyWF1OZILx1HKtjhab9RyP_Wkdypi7RFcuk9e5k5GJRtcRAENMxLCmR1DgY2zP5UeAQOGSxOIEBa1J2BywdGJ1DIPK1GNWuTYHjF3zZ8ULR4MFJfQ.bXu85brkA3kq8wycorsrIr-0QwCA0yUNt5kS48xDvnI&amp;dib_tag=se&amp;keywords=juguetes+lego&amp;qid=1727196297&amp;sprefix=juguetes+lego%2Caps%2C108&amp;sr=8-1\">\n",
            "    <span class=\"rush-component\" data-component-id=\"17\" data-component-props='{\"asin\":\"B0CFW36SSM\",\"badgeType\":\"amazons-choice\"}' data-component-type=\"s-status-badge-component\" data-render-id=\"r3r41o9six00we2aqjmhxqinn9v\" data-version-id=\"v2fl5pkubaqu126k6zseo6li6q\">\n",
            "     <div class=\"a-row a-badge-region\">\n",
            "      <span aria-labelledby=\"B0CFW36SSM-amazons-choice-label B0CFW36SSM-amazons-choice-supplementary\" class=\"a-badge\" data-a-badge-supplementary-position=\"right\" data-a-badge-type=\"status\" id=\"B0CFW36SSM-amazons-choice\" role=\"group\" tabindex=\"0\">\n",
            "       <span aria-hidden=\"true\" class=\"a-badge-label\" data-a-badge-color=\"sx-gulfstream\" id=\"B0CFW36SSM-amazons-choice-label\">\n",
            "        <span class=\"a-badge-label-inner a-text-ellipsis\">\n",
            "         <span class=\"a-badge-text\" data-a-badge-color=\"sx-cloud\">\n",
            "          Opción\n",
            "         </span>\n",
            "         <span class=\"a-badge-text\" data-a-badge-color=\"ac-orange\">\n",
            "          Amazon\n",
            "         </span>\n",
            "        </span>\n",
            "       </span>\n",
            "       <span aria-hidden=\"true\" class=\"a-badge-supplementary-text a-text-ellipsis\" id=\"B0CFW36SSM-amazons-choice-supplementary\">\n",
            "        para \"juguetes lego\"\n",
            "       </span>\n",
            "      </span>\n",
            "     </div>\n",
            "    </span>\n",
            "   </a>\n",
            "  </span>\n",
            " </div>\n",
            " <div class=\"s-product-image-container aok-relative s-text-center s-image-overlay-grey puis-image-overlay-grey s-padding-left-small s-padding-right-small puis-spacing-small s-height-equalized puis puis-v2fl5pkubaqu126k6zseo6li6q\" data-cy=\"image-container\" style=\"padding-top: 0px !important;\">\n",
            "  <span class=\"rush-component\" data-component-type=\"s-product-image\" data-render-id=\"r3r41o9six00we2aqjmhxqinn9v\" data-version-id=\"v2fl5pkubaqu126k6zseo6li6q\">\n",
            "   <a class=\"a-link-normal s-no-outline\" href=\"/LEGO-Marvel-Persecuci%C3%B3n-Moto-Aracnobl%C3%A1steres/dp/B0CFW36SSM/ref=sr_1_1?__mk_es_ES=%C3%85M%C3%85%C5%BD%C3%95%C3%91&amp;crid=3S067YZQN1TJ5&amp;dib=eyJ2IjoiMSJ9.zhUrcY5uBDTMszKHOqW27zpnv3d8OrW57yCX5RNhIgygGTchnQbeVxuQhGZk_7oF2VdC1r4Y5d3D5VuC1jGMYtwSosk6_DFyt6q03dBF5OxdU_g3ukVERk-V4sMAFa3_mkO5DwRzIopNSVzZ5LngP6qI2quLxsh-IhG-gabPGKpNcckIig3VllVKypIyWF1OZILx1HKtjhab9RyP_Wkdypi7RFcuk9e5k5GJRtcRAENMxLCmR1DgY2zP5UeAQOGSxOIEBa1J2BywdGJ1DIPK1GNWuTYHjF3zZ8ULR4MFJfQ.bXu85brkA3kq8wycorsrIr-0QwCA0yUNt5kS48xDvnI&amp;dib_tag=se&amp;keywords=juguetes+lego&amp;qid=1727196297&amp;sprefix=juguetes+lego%2Caps%2C108&amp;sr=8-1\" tabindex=\"-1\">\n",
            "    <div class=\"a-section aok-relative s-image-square-aspect\">\n",
            "     <img alt=\"LEGO Marvel Persecución en Moto: Spider-Man vs. Doc Ock, Juguete de Construcción con Cañones y Aracnoblásteres, Moto de Sp...\" aria-hidden=\"true\" class=\"s-image\" data-image-index=\"1\" data-image-latency=\"s-product-image\" data-image-load=\"\" data-image-source-density=\"1\" src=\"https://m.media-amazon.com/images/I/81oBJ6BZucL._AC_UL320_.jpg\" srcset=\"https://m.media-amazon.com/images/I/81oBJ6BZucL._AC_UL320_.jpg 1x, https://m.media-amazon.com/images/I/81oBJ6BZucL._AC_UL480_FMwebp_QL65_.jpg 1.5x, https://m.media-amazon.com/images/I/81oBJ6BZucL._AC_UL640_FMwebp_QL65_.jpg 2x, https://m.media-amazon.com/images/I/81oBJ6BZucL._AC_UL800_FMwebp_QL65_.jpg 2.5x, https://m.media-amazon.com/images/I/81oBJ6BZucL._AC_UL960_FMwebp_QL65_.jpg 3x\"/>\n",
            "    </div>\n",
            "   </a>\n",
            "  </span>\n",
            " </div>\n",
            " <div class=\"a-section a-spacing-small puis-padding-left-small puis-padding-right-small\">\n",
            "  <div class=\"a-section a-spacing-none a-spacing-top-small s-title-instructions-style\" data-cy=\"title-recipe\">\n",
            "   <h2 class=\"a-size-mini a-spacing-none a-color-base s-line-clamp-4\">\n",
            "    <a class=\"a-link-normal s-underline-text s-underline-link-text s-link-style a-text-normal\" href=\"/LEGO-Marvel-Persecuci%C3%B3n-Moto-Aracnobl%C3%A1steres/dp/B0CFW36SSM/ref=sr_1_1?__mk_es_ES=%C3%85M%C3%85%C5%BD%C3%95%C3%91&amp;crid=3S067YZQN1TJ5&amp;dib=eyJ2IjoiMSJ9.zhUrcY5uBDTMszKHOqW27zpnv3d8OrW57yCX5RNhIgygGTchnQbeVxuQhGZk_7oF2VdC1r4Y5d3D5VuC1jGMYtwSosk6_DFyt6q03dBF5OxdU_g3ukVERk-V4sMAFa3_mkO5DwRzIopNSVzZ5LngP6qI2quLxsh-IhG-gabPGKpNcckIig3VllVKypIyWF1OZILx1HKtjhab9RyP_Wkdypi7RFcuk9e5k5GJRtcRAENMxLCmR1DgY2zP5UeAQOGSxOIEBa1J2BywdGJ1DIPK1GNWuTYHjF3zZ8ULR4MFJfQ.bXu85brkA3kq8wycorsrIr-0QwCA0yUNt5kS48xDvnI&amp;dib_tag=se&amp;keywords=juguetes+lego&amp;qid=1727196297&amp;sprefix=juguetes+lego%2Caps%2C108&amp;sr=8-1\">\n",
            "     <span class=\"a-size-base-plus a-color-base a-text-normal\">\n",
            "      LEGO Marvel Persecución en Moto: Spider-Man vs. Doc Ock, Juguete de Construcción con Cañones y Aracnoblásteres, Moto de Spidey, Regalo para Niños, Niñas y Fans de Superhéroes de 6 Años o Más 76275\n",
            "     </span>\n",
            "    </a>\n",
            "   </h2>\n",
            "  </div>\n",
            "  <div class=\"a-section a-spacing-none a-spacing-top-micro\" data-cy=\"reviews-block\">\n",
            "   <div class=\"a-row a-size-small\">\n",
            "    <span aria-label=\"4,6 de 5 estrellas\">\n",
            "     <span class=\"a-declarative\" data-a-popover='{\"closeButton\":true,\"closeButtonLabel\":\"\",\"activate\":\"onmouseover\",\"name\":\"\",\"position\":\"triggerBottom\",\"popoverLabel\":\"\",\"url\":\"/review/widgets/average-customer-review/popover/ref=acr_search__popover?ie=UTF8&amp;asin=B0CFW36SSM&amp;ref_=acr_search__popover&amp;contextId=search\"}' data-action=\"a-popover\" data-csa-c-func-deps=\"aui-da-a-popover\" data-csa-c-id=\"dflgkm-xayidx-bp0gmz-2oxetk\" data-csa-c-type=\"widget\" data-render-id=\"r3r41o9six00we2aqjmhxqinn9v\" data-version-id=\"v2fl5pkubaqu126k6zseo6li6q\">\n",
            "      <a class=\"a-popover-trigger a-declarative\" href=\"javascript:void(0)\" role=\"button\">\n",
            "       <i class=\"a-icon a-icon-star-small a-star-small-4-5\" data-cy=\"reviews-ratings-slot\">\n",
            "        <span class=\"a-icon-alt\">\n",
            "         4,6 de 5 estrellas\n",
            "        </span>\n",
            "       </i>\n",
            "       <i class=\"a-icon a-icon-popover\">\n",
            "       </i>\n",
            "      </a>\n",
            "     </span>\n",
            "    </span>\n",
            "    <span aria-label=\"865 calificaciones\">\n",
            "     <a class=\"a-link-normal s-underline-text s-underline-link-text s-link-style\" href=\"/LEGO-Marvel-Persecuci%C3%B3n-Moto-Aracnobl%C3%A1steres/dp/B0CFW36SSM/ref=sr_1_1?__mk_es_ES=%C3%85M%C3%85%C5%BD%C3%95%C3%91&amp;crid=3S067YZQN1TJ5&amp;dib=eyJ2IjoiMSJ9.zhUrcY5uBDTMszKHOqW27zpnv3d8OrW57yCX5RNhIgygGTchnQbeVxuQhGZk_7oF2VdC1r4Y5d3D5VuC1jGMYtwSosk6_DFyt6q03dBF5OxdU_g3ukVERk-V4sMAFa3_mkO5DwRzIopNSVzZ5LngP6qI2quLxsh-IhG-gabPGKpNcckIig3VllVKypIyWF1OZILx1HKtjhab9RyP_Wkdypi7RFcuk9e5k5GJRtcRAENMxLCmR1DgY2zP5UeAQOGSxOIEBa1J2BywdGJ1DIPK1GNWuTYHjF3zZ8ULR4MFJfQ.bXu85brkA3kq8wycorsrIr-0QwCA0yUNt5kS48xDvnI&amp;dib_tag=se&amp;keywords=juguetes+lego&amp;qid=1727196297&amp;sprefix=juguetes+lego%2Caps%2C108&amp;sr=8-1#customerReviews\">\n",
            "      <span class=\"a-size-base s-underline-text\">\n",
            "       865\n",
            "      </span>\n",
            "     </a>\n",
            "    </span>\n",
            "   </div>\n",
            "   <div class=\"a-row a-size-base\">\n",
            "    <span class=\"a-size-base a-color-secondary\">\n",
            "     500+ comprados el mes pasado\n",
            "    </span>\n",
            "   </div>\n",
            "  </div>\n",
            "  <div class=\"a-section a-spacing-none a-spacing-top-small s-price-instructions-style\" data-cy=\"price-recipe\">\n",
            "   <div class=\"a-row a-size-base a-color-base\">\n",
            "    <div class=\"a-row\">\n",
            "     <a class=\"a-link-normal s-no-hover s-underline-text s-underline-link-text s-link-style a-text-normal\" href=\"/LEGO-Marvel-Persecuci%C3%B3n-Moto-Aracnobl%C3%A1steres/dp/B0CFW36SSM/ref=sr_1_1?__mk_es_ES=%C3%85M%C3%85%C5%BD%C3%95%C3%91&amp;crid=3S067YZQN1TJ5&amp;dib=eyJ2IjoiMSJ9.zhUrcY5uBDTMszKHOqW27zpnv3d8OrW57yCX5RNhIgygGTchnQbeVxuQhGZk_7oF2VdC1r4Y5d3D5VuC1jGMYtwSosk6_DFyt6q03dBF5OxdU_g3ukVERk-V4sMAFa3_mkO5DwRzIopNSVzZ5LngP6qI2quLxsh-IhG-gabPGKpNcckIig3VllVKypIyWF1OZILx1HKtjhab9RyP_Wkdypi7RFcuk9e5k5GJRtcRAENMxLCmR1DgY2zP5UeAQOGSxOIEBa1J2BywdGJ1DIPK1GNWuTYHjF3zZ8ULR4MFJfQ.bXu85brkA3kq8wycorsrIr-0QwCA0yUNt5kS48xDvnI&amp;dib_tag=se&amp;keywords=juguetes+lego&amp;qid=1727196297&amp;sprefix=juguetes+lego%2Caps%2C108&amp;sr=8-1\">\n",
            "      <span class=\"a-price\" data-a-color=\"base\" data-a-size=\"xl\">\n",
            "       <span class=\"a-offscreen\">\n",
            "        9,99 €\n",
            "       </span>\n",
            "       <span aria-hidden=\"true\">\n",
            "        <span class=\"a-price-whole\">\n",
            "         9\n",
            "         <span class=\"a-price-decimal\">\n",
            "          ,\n",
            "         </span>\n",
            "        </span>\n",
            "        <span class=\"a-price-fraction\">\n",
            "         99\n",
            "        </span>\n",
            "        <span class=\"a-price-symbol\">\n",
            "         €\n",
            "        </span>\n",
            "       </span>\n",
            "      </span>\n",
            "     </a>\n",
            "    </div>\n",
            "    <div class=\"a-row\">\n",
            "    </div>\n",
            "   </div>\n",
            "   <div class=\"a-row a-size-base a-color-secondary\">\n",
            "    <span>\n",
            "     Ahorra 5 % al comprar 4 de esta selección\n",
            "    </span>\n",
            "    <span>\n",
            "    </span>\n",
            "   </div>\n",
            "  </div>\n",
            "  <div class=\"a-section a-spacing-none a-spacing-top-micro\" data-cy=\"delivery-recipe\">\n",
            "   <div class=\"a-row a-size-base a-color-secondary s-align-children-center\">\n",
            "    <div class=\"a-row\">\n",
            "     <span aria-label=\"Entrega GRATIS el sáb, 28 de sept en tu primer pedido\">\n",
            "      <span class=\"a-color-base\">\n",
            "       Entrega GRATIS el\n",
            "      </span>\n",
            "      <span class=\"a-color-base a-text-bold\">\n",
            "       sáb, 28 de sept\n",
            "      </span>\n",
            "      <span class=\"a-color-base\">\n",
            "       en tu primer pedido\n",
            "      </span>\n",
            "     </span>\n",
            "    </div>\n",
            "    <div class=\"a-row\">\n",
            "     <span aria-label=\"Entrega más rápida el jue, 26 de sept \">\n",
            "      <span class=\"a-color-base\">\n",
            "       Entrega más rápida el\n",
            "      </span>\n",
            "      <span class=\"a-color-base a-text-bold\">\n",
            "       jue, 26 de sept\n",
            "      </span>\n",
            "     </span>\n",
            "    </div>\n",
            "   </div>\n",
            "  </div>\n",
            "  <div class=\"a-section a-spacing-none a-spacing-top-mini\" data-cy=\"message-above-action-recipe\">\n",
            "   <div class=\"a-row a-size-base\">\n",
            "    <span class=\"a-color-base\">\n",
            "     Vendido por: Amazon\n",
            "    </span>\n",
            "   </div>\n",
            "  </div>\n",
            "  <div class=\"a-section a-spacing-none a-spacing-top-mini puis-interactive-asin-expander-hide\" data-cy=\"secondary-offer-recipe\">\n",
            "   <div class=\"a-row a-size-base a-color-secondary\">\n",
            "    <span class=\"a-size-base a-color-secondary\">\n",
            "     Más opciones de compra\n",
            "    </span>\n",
            "    <br/>\n",
            "    <span class=\"a-color-base\">\n",
            "     8,42 €\n",
            "    </span>\n",
            "    <span class=\"a-letter-space\">\n",
            "    </span>\n",
            "    <span class=\"a-declarative\" data-action=\"s-show-all-offers-display\" data-csa-c-func-deps=\"aui-da-s-show-all-offers-display\" data-csa-c-id=\"ijklhe-rf2mok-fotlu6-cf1yc2\" data-csa-c-type=\"widget\" data-render-id=\"r3r41o9six00we2aqjmhxqinn9v\" data-s-show-all-offers-display='{\"assetMismatch\":\"Abandon\",\"url\":\"/gp/aod/ajax/ref=sr_1_1_aod?asin=B0CFW36SSM&amp;pc=sp&amp;keywords=juguetes+lego&amp;crid=3S067YZQN1TJ5&amp;sprefix=juguetes+lego%2Caps%2C108&amp;dib_tag=se&amp;dib=eyJ2IjoiMSJ9.zhUrcY5uBDTMszKHOqW27zpnv3d8OrW57yCX5RNhIgygGTchnQbeVxuQhGZk_7oF2VdC1r4Y5d3D5VuC1jGMYtwSosk6_DFyt6q03dBF5OxdU_g3ukVERk-V4sMAFa3_mkO5DwRzIopNSVzZ5LngP6qI2quLxsh-IhG-gabPGKpNcckIig3VllVKypIyWF1OZILx1HKtjhab9RyP_Wkdypi7RFcuk9e5k5GJRtcRAENMxLCmR1DgY2zP5UeAQOGSxOIEBa1J2BywdGJ1DIPK1GNWuTYHjF3zZ8ULR4MFJfQ.bXu85brkA3kq8wycorsrIr-0QwCA0yUNt5kS48xDvnI&amp;__mk_es_ES=%C3%85M%C3%85%C5%BD%C3%95%C3%91&amp;qid=1727196297&amp;sr=8-1\",\"fallbackUrl\":\"/gp/offer-listing/B0CFW36SSM/ref=sr_1_1_olp?keywords=juguetes+lego&amp;crid=3S067YZQN1TJ5&amp;sprefix=juguetes+lego%2Caps%2C108&amp;dib_tag=se&amp;dib=eyJ2IjoiMSJ9.zhUrcY5uBDTMszKHOqW27zpnv3d8OrW57yCX5RNhIgygGTchnQbeVxuQhGZk_7oF2VdC1r4Y5d3D5VuC1jGMYtwSosk6_DFyt6q03dBF5OxdU_g3ukVERk-V4sMAFa3_mkO5DwRzIopNSVzZ5LngP6qI2quLxsh-IhG-gabPGKpNcckIig3VllVKypIyWF1OZILx1HKtjhab9RyP_Wkdypi7RFcuk9e5k5GJRtcRAENMxLCmR1DgY2zP5UeAQOGSxOIEBa1J2BywdGJ1DIPK1GNWuTYHjF3zZ8ULR4MFJfQ.bXu85brkA3kq8wycorsrIr-0QwCA0yUNt5kS48xDvnI&amp;__mk_es_ES=%C3%85M%C3%85%C5%BD%C3%95%C3%91&amp;qid=1727196297&amp;sr=8-1\"}' data-version-id=\"v2fl5pkubaqu126k6zseo6li6q\">\n",
            "     <a class=\"a-link-normal s-link-style s-underline-text s-underline-link-text\" href=\"/gp/offer-listing/B0CFW36SSM/ref=sr_1_1_olp?keywords=juguetes+lego&amp;crid=3S067YZQN1TJ5&amp;sprefix=juguetes+lego%2Caps%2C108&amp;dib_tag=se&amp;dib=eyJ2IjoiMSJ9.zhUrcY5uBDTMszKHOqW27zpnv3d8OrW57yCX5RNhIgygGTchnQbeVxuQhGZk_7oF2VdC1r4Y5d3D5VuC1jGMYtwSosk6_DFyt6q03dBF5OxdU_g3ukVERk-V4sMAFa3_mkO5DwRzIopNSVzZ5LngP6qI2quLxsh-IhG-gabPGKpNcckIig3VllVKypIyWF1OZILx1HKtjhab9RyP_Wkdypi7RFcuk9e5k5GJRtcRAENMxLCmR1DgY2zP5UeAQOGSxOIEBa1J2BywdGJ1DIPK1GNWuTYHjF3zZ8ULR4MFJfQ.bXu85brkA3kq8wycorsrIr-0QwCA0yUNt5kS48xDvnI&amp;__mk_es_ES=%C3%85M%C3%85%C5%BD%C3%95%C3%91&amp;qid=1727196297&amp;sr=8-1\">\n",
            "      (49 ofertas usadas y nuevas)\n",
            "     </a>\n",
            "    </span>\n",
            "    <div class=\"a-section aok-hidden\" id=\"all-offers-display\">\n",
            "     <div class=\"a-spinner-wrapper aok-hidden\" id=\"all-offers-display-spinner\">\n",
            "      <span class=\"a-spinner a-spinner-medium\">\n",
            "      </span>\n",
            "     </div>\n",
            "    </div>\n",
            "    <span class=\"a-declarative\" data-action=\"close-all-offers-display\" data-csa-c-func-deps=\"aui-da-close-all-offers-display\" data-csa-c-id=\"v8tscp-9rywao-izti36-qn66mm\" data-csa-c-type=\"widget\" data-render-id=\"r3r41o9six00we2aqjmhxqinn9v\" data-version-id=\"v2fl5pkubaqu126k6zseo6li6q\">\n",
            "     <div class=\"a-section aok-hidden aod-darken-background\" id=\"aod-background\">\n",
            "     </div>\n",
            "    </span>\n",
            "   </div>\n",
            "  </div>\n",
            "  <div class=\"a-section a-spacing-none a-spacing-top-mini puis-interactive-asin-expander-hide\" data-cy=\"product-details-recipe\">\n",
            "   <div class=\"a-row a-size-base a-color-base\">\n",
            "    <span>\n",
            "     Edades: 6 años y más\n",
            "    </span>\n",
            "   </div>\n",
            "  </div>\n",
            " </div>\n",
            "</div>\n",
            "\n"
          ]
        }
      ],
      "source": [
        "print(producto.prettify())"
      ]
    },
    {
      "cell_type": "code",
      "execution_count": 111,
      "metadata": {
        "id": "E51mLu-Ph2qU"
      },
      "outputs": [
        {
          "name": "stdout",
          "output_type": "stream",
          "text": [
            "El producto[57] sin precio\n",
            "El producto[62] sin precio\n",
            "El producto[68] sin nombre\n",
            "El producto[68] sin precio\n",
            "El producto[68] sin link\n",
            "El producto[69] sin nombre\n",
            "El producto[69] sin precio\n",
            "El producto[69] sin link\n",
            "El producto[70] sin nombre\n",
            "El producto[70] sin precio\n",
            "El producto[70] sin link\n",
            "El producto[71] sin nombre\n",
            "El producto[71] sin precio\n",
            "El producto[71] sin link\n",
            "El producto[72] sin nombre\n",
            "El producto[72] sin precio\n",
            "El producto[72] sin link\n",
            "El producto[73] sin nombre\n",
            "El producto[73] sin precio\n",
            "El producto[73] sin link\n",
            "El producto[74] sin nombre\n",
            "El producto[74] sin precio\n",
            "El producto[74] sin link\n"
          ]
        }
      ],
      "source": [
        "#Vamos a sacar el nombre del producto, el precio , el link y las estrellas\n",
        "\n",
        "for i,producto in enumerate(productos):\n",
        "    try:\n",
        "       nombre = producto.find_element(By.CLASS_NAME, 'a-size-base-plus').text\n",
        "    except: # Exception as e:\n",
        "        nombre = (f\"El producto[{i}] sin nombre\")#-->error: {e}\n",
        "        print(nombre)\n",
        "\n",
        "    try:\n",
        "        precio = producto.find_element(By.CLASS_NAME, 'a-price-whole').text\n",
        "    except:\n",
        "        precio = (f\"El producto[{i}] sin precio\")\n",
        "        print(precio)\n",
        "    try:\n",
        "        link = producto.find_element(By.CLASS_NAME, 'a-link-normal.a-text-normal').get_attribute('href')\n",
        "    except:\n",
        "        link = (f\"El producto[{i}] sin link\")\n",
        "        print(link)\n",
        "    #print(nombre, precio, link)"
      ]
    },
    {
      "cell_type": "code",
      "execution_count": 124,
      "metadata": {
        "id": "yZtuIBbCiAR-"
      },
      "outputs": [
        {
          "data": {
            "text/plain": [
              "'<div class=\"s-product-image-container aok-relative s-text-center s-image-overlay-grey puis-image-overlay-grey s-padding-left-small s-padding-right-small puis-spacing-small s-height-equalized puis puis-v2fl5pkubaqu126k6zseo6li6q\" data-cy=\"image-container\" style=\"padding-top: 0px !important;\"><span data-component-type=\"s-product-image\" class=\"rush-component\" data-version-id=\"v2fl5pkubaqu126k6zseo6li6q\" data-render-id=\"r3r41o9six00we2aqjmhxqinn9v\"><a class=\"a-link-normal s-no-outline\" tabindex=\"-1\" href=\"/LEGO-Super-Mario-Expansi%C3%B3n-Coleccionable/dp/B0CFVYJRZX/ref=sr_1_50?__mk_es_ES=%C3%85M%C3%85%C5%BD%C3%95%C3%91&amp;crid=3S067YZQN1TJ5&amp;dib=eyJ2IjoiMSJ9.zhUrcY5uBDTMszKHOqW27zpnv3d8OrW57yCX5RNhIgygGTchnQbeVxuQhGZk_7oF2VdC1r4Y5d3D5VuC1jGMYtwSosk6_DFyt6q03dBF5OxdU_g3ukVERk-V4sMAFa3_mkO5DwRzIopNSVzZ5LngP6qI2quLxsh-IhG-gabPGKpNcckIig3VllVKypIyWF1OZILx1HKtjhab9RyP_Wkdypi7RFcuk9e5k5GJRtcRAENMxLCmR1DgY2zP5UeAQOGSxOIEBa1J2BywdGJ1DIPK1GNWuTYHjF3zZ8ULR4MFJfQ.bXu85brkA3kq8wycorsrIr-0QwCA0yUNt5kS48xDvnI&amp;dib_tag=se&amp;keywords=juguetes+lego&amp;qid=1727196297&amp;sprefix=juguetes+lego%2Caps%2C108&amp;sr=8-50\"><div class=\"a-section aok-relative s-image-square-aspect\"><img class=\"s-image\" src=\"https://m.media-amazon.com/images/I/81Omp4yK9BL._AC_UL320_.jpg\" srcset=\"https://m.media-amazon.com/images/I/81Omp4yK9BL._AC_UL320_.jpg 1x, https://m.media-amazon.com/images/I/81Omp4yK9BL._AC_UL480_FMwebp_QL65_.jpg 1.5x, https://m.media-amazon.com/images/I/81Omp4yK9BL._AC_UL640_FMwebp_QL65_.jpg 2x, https://m.media-amazon.com/images/I/81Omp4yK9BL._AC_UL800_FMwebp_QL65_.jpg 2.5x, https://m.media-amazon.com/images/I/81Omp4yK9BL._AC_UL960_FMwebp_QL65_.jpg 3x\" alt=\"LEGO Super Mario Set de Expansión: Caco Gazapo en la Tienda de Toad Juguete Coleccionable con 2 Personajes de Videojuego C...\" aria-hidden=\"true\" data-image-index=\"50\" data-image-load=\"\" data-image-latency=\"s-product-image\" data-image-source-density=\"1\"></div></a></span></div><div class=\"a-section a-spacing-small puis-padding-left-small puis-padding-right-small\"><div data-cy=\"title-recipe\" class=\"a-section a-spacing-none a-spacing-top-small s-title-instructions-style\"><h2 class=\"a-size-mini a-spacing-none a-color-base s-line-clamp-4\"><a class=\"a-link-normal s-underline-text s-underline-link-text s-link-style a-text-normal\" href=\"/LEGO-Super-Mario-Expansi%C3%B3n-Coleccionable/dp/B0CFVYJRZX/ref=sr_1_50?__mk_es_ES=%C3%85M%C3%85%C5%BD%C3%95%C3%91&amp;crid=3S067YZQN1TJ5&amp;dib=eyJ2IjoiMSJ9.zhUrcY5uBDTMszKHOqW27zpnv3d8OrW57yCX5RNhIgygGTchnQbeVxuQhGZk_7oF2VdC1r4Y5d3D5VuC1jGMYtwSosk6_DFyt6q03dBF5OxdU_g3ukVERk-V4sMAFa3_mkO5DwRzIopNSVzZ5LngP6qI2quLxsh-IhG-gabPGKpNcckIig3VllVKypIyWF1OZILx1HKtjhab9RyP_Wkdypi7RFcuk9e5k5GJRtcRAENMxLCmR1DgY2zP5UeAQOGSxOIEBa1J2BywdGJ1DIPK1GNWuTYHjF3zZ8ULR4MFJfQ.bXu85brkA3kq8wycorsrIr-0QwCA0yUNt5kS48xDvnI&amp;dib_tag=se&amp;keywords=juguetes+lego&amp;qid=1727196297&amp;sprefix=juguetes+lego%2Caps%2C108&amp;sr=8-50\"><span class=\"a-size-base-plus a-color-base a-text-normal\">LEGO Super Mario Set de Expansión: Caco Gazapo en la Tienda de Toad Juguete Coleccionable con 2 Personajes de Videojuego Construibles, Regalo para Niños, Niñas y Gamers de 7 Años o Más 71429</span> </a> </h2></div><div data-cy=\"reviews-block\" class=\"a-section a-spacing-none a-spacing-top-micro\"><div class=\"a-row a-size-small\"><span aria-label=\"4,7 de 5 estrellas\"><span class=\"a-declarative\" data-version-id=\"v2fl5pkubaqu126k6zseo6li6q\" data-render-id=\"r3r41o9six00we2aqjmhxqinn9v\" data-action=\"a-popover\" data-csa-c-func-deps=\"aui-da-a-popover\" data-a-popover=\"{&quot;closeButton&quot;:true,&quot;closeButtonLabel&quot;:&quot;&quot;,&quot;activate&quot;:&quot;onmouseover&quot;,&quot;name&quot;:&quot;&quot;,&quot;position&quot;:&quot;triggerBottom&quot;,&quot;popoverLabel&quot;:&quot;&quot;,&quot;url&quot;:&quot;/review/widgets/average-customer-review/popover/ref=acr_search__popover?ie=UTF8&amp;asin=B0CFVYJRZX&amp;ref_=acr_search__popover&amp;contextId=search&quot;}\" data-csa-c-type=\"widget\" data-csa-c-id=\"r4t373-p481tw-721jd0-1h27bj\"><a href=\"javascript:void(0)\" role=\"button\" class=\"a-popover-trigger a-declarative\"><i data-cy=\"reviews-ratings-slot\" class=\"a-icon a-icon-star-small a-star-small-4-5\"><span class=\"a-icon-alt\">4,7 de 5 estrellas</span></i><i class=\"a-icon a-icon-popover\"></i></a></span> </span><span aria-label=\"312&nbsp;calificaciones\"><a class=\"a-link-normal s-underline-text s-underline-link-text s-link-style\" href=\"/LEGO-Super-Mario-Expansi%C3%B3n-Coleccionable/dp/B0CFVYJRZX/ref=sr_1_50?__mk_es_ES=%C3%85M%C3%85%C5%BD%C3%95%C3%91&amp;crid=3S067YZQN1TJ5&amp;dib=eyJ2IjoiMSJ9.zhUrcY5uBDTMszKHOqW27zpnv3d8OrW57yCX5RNhIgygGTchnQbeVxuQhGZk_7oF2VdC1r4Y5d3D5VuC1jGMYtwSosk6_DFyt6q03dBF5OxdU_g3ukVERk-V4sMAFa3_mkO5DwRzIopNSVzZ5LngP6qI2quLxsh-IhG-gabPGKpNcckIig3VllVKypIyWF1OZILx1HKtjhab9RyP_Wkdypi7RFcuk9e5k5GJRtcRAENMxLCmR1DgY2zP5UeAQOGSxOIEBa1J2BywdGJ1DIPK1GNWuTYHjF3zZ8ULR4MFJfQ.bXu85brkA3kq8wycorsrIr-0QwCA0yUNt5kS48xDvnI&amp;dib_tag=se&amp;keywords=juguetes+lego&amp;qid=1727196297&amp;sprefix=juguetes+lego%2Caps%2C108&amp;sr=8-50#customerReviews\"><span class=\"a-size-base s-underline-text\">312</span> </a> </span></div><div class=\"a-row a-size-base\"><span class=\"a-size-base a-color-secondary\">50+ comprados el mes pasado</span></div></div><div data-cy=\"price-recipe\" class=\"a-section a-spacing-none a-spacing-top-small s-price-instructions-style\"><div class=\"a-row a-size-base a-color-base\"><div class=\"a-row\"></div><div class=\"a-row\"></div></div></div><div data-cy=\"secondary-offer-recipe\" class=\"a-section a-spacing-none a-spacing-top-mini puis-interactive-asin-expander-hide\"><div class=\"a-row a-size-base a-color-secondary\"><span class=\"a-size-base a-color-secondary\">Ofertas destacadas no disponibles</span><br><span class=\"a-color-base\">17,46&nbsp;€</span><span class=\"a-letter-space\"></span><span class=\"a-declarative\" data-version-id=\"v2fl5pkubaqu126k6zseo6li6q\" data-render-id=\"r3r41o9six00we2aqjmhxqinn9v\" data-action=\"s-show-all-offers-display\" data-csa-c-func-deps=\"aui-da-s-show-all-offers-display\" data-s-show-all-offers-display=\"{&quot;assetMismatch&quot;:&quot;Abandon&quot;,&quot;url&quot;:&quot;/gp/aod/ajax/ref=sr_1_50_aod?asin=B0CFVYJRZX&amp;pc=sp&amp;keywords=juguetes+lego&amp;crid=3S067YZQN1TJ5&amp;sprefix=juguetes+lego%2Caps%2C108&amp;dib_tag=se&amp;dib=eyJ2IjoiMSJ9.zhUrcY5uBDTMszKHOqW27zpnv3d8OrW57yCX5RNhIgygGTchnQbeVxuQhGZk_7oF2VdC1r4Y5d3D5VuC1jGMYtwSosk6_DFyt6q03dBF5OxdU_g3ukVERk-V4sMAFa3_mkO5DwRzIopNSVzZ5LngP6qI2quLxsh-IhG-gabPGKpNcckIig3VllVKypIyWF1OZILx1HKtjhab9RyP_Wkdypi7RFcuk9e5k5GJRtcRAENMxLCmR1DgY2zP5UeAQOGSxOIEBa1J2BywdGJ1DIPK1GNWuTYHjF3zZ8ULR4MFJfQ.bXu85brkA3kq8wycorsrIr-0QwCA0yUNt5kS48xDvnI&amp;__mk_es_ES=%C3%85M%C3%85%C5%BD%C3%95%C3%91&amp;qid=1727196297&amp;sr=8-50&quot;,&quot;fallbackUrl&quot;:&quot;/gp/offer-listing/B0CFVYJRZX/ref=sr_1_50_olp?keywords=juguetes+lego&amp;crid=3S067YZQN1TJ5&amp;sprefix=juguetes+lego%2Caps%2C108&amp;dib_tag=se&amp;dib=eyJ2IjoiMSJ9.zhUrcY5uBDTMszKHOqW27zpnv3d8OrW57yCX5RNhIgygGTchnQbeVxuQhGZk_7oF2VdC1r4Y5d3D5VuC1jGMYtwSosk6_DFyt6q03dBF5OxdU_g3ukVERk-V4sMAFa3_mkO5DwRzIopNSVzZ5LngP6qI2quLxsh-IhG-gabPGKpNcckIig3VllVKypIyWF1OZILx1HKtjhab9RyP_Wkdypi7RFcuk9e5k5GJRtcRAENMxLCmR1DgY2zP5UeAQOGSxOIEBa1J2BywdGJ1DIPK1GNWuTYHjF3zZ8ULR4MFJfQ.bXu85brkA3kq8wycorsrIr-0QwCA0yUNt5kS48xDvnI&amp;__mk_es_ES=%C3%85M%C3%85%C5%BD%C3%95%C3%91&amp;qid=1727196297&amp;sr=8-50&quot;}\" data-csa-c-type=\"widget\" data-csa-c-id=\"fernvu-wfizd7-lstzoj-dvej9y\"><a class=\"a-link-normal s-link-style s-underline-text s-underline-link-text\" href=\"/gp/offer-listing/B0CFVYJRZX/ref=sr_1_50_olp?keywords=juguetes+lego&amp;crid=3S067YZQN1TJ5&amp;sprefix=juguetes+lego%2Caps%2C108&amp;dib_tag=se&amp;dib=eyJ2IjoiMSJ9.zhUrcY5uBDTMszKHOqW27zpnv3d8OrW57yCX5RNhIgygGTchnQbeVxuQhGZk_7oF2VdC1r4Y5d3D5VuC1jGMYtwSosk6_DFyt6q03dBF5OxdU_g3ukVERk-V4sMAFa3_mkO5DwRzIopNSVzZ5LngP6qI2quLxsh-IhG-gabPGKpNcckIig3VllVKypIyWF1OZILx1HKtjhab9RyP_Wkdypi7RFcuk9e5k5GJRtcRAENMxLCmR1DgY2zP5UeAQOGSxOIEBa1J2BywdGJ1DIPK1GNWuTYHjF3zZ8ULR4MFJfQ.bXu85brkA3kq8wycorsrIr-0QwCA0yUNt5kS48xDvnI&amp;__mk_es_ES=%C3%85M%C3%85%C5%BD%C3%95%C3%91&amp;qid=1727196297&amp;sr=8-50\">(50 nuevas ofertas)</a></span><div id=\"all-offers-display\" class=\"a-section aok-hidden\"><div id=\"all-offers-display-spinner\" class=\"a-spinner-wrapper aok-hidden\"><span class=\"a-spinner a-spinner-medium\"></span></div></div><span class=\"a-declarative\" data-version-id=\"v2fl5pkubaqu126k6zseo6li6q\" data-render-id=\"r3r41o9six00we2aqjmhxqinn9v\" data-action=\"close-all-offers-display\" data-csa-c-func-deps=\"aui-da-close-all-offers-display\" data-csa-c-type=\"widget\" data-csa-c-id=\"hcz8n7-gtajxj-9mtmpv-4iz7qb\"><div id=\"aod-background\" class=\"a-section aok-hidden aod-darken-background\"></div></span></div></div><div data-cy=\"product-details-recipe\" class=\"a-section a-spacing-none a-spacing-top-mini puis-interactive-asin-expander-hide\"><div class=\"a-row a-size-base a-color-base\"><span>Edades: 7 años y más</span></div></div></div>'"
            ]
          },
          "execution_count": 124,
          "metadata": {},
          "output_type": "execute_result"
        }
      ],
      "source": [
        "productos[57].get_attribute('innerHTML')"
      ]
    },
    {
      "cell_type": "code",
      "execution_count": 125,
      "metadata": {
        "id": "zVKRZIQliCgt"
      },
      "outputs": [],
      "source": [
        "driver.quit()"
      ]
    },
    {
      "cell_type": "markdown",
      "metadata": {
        "id": "mpOlA-rbiRu1"
      },
      "source": [
        "# MARCA\n",
        "\n",
        "Esperas hasta que un botón sea clickable."
      ]
    },
    {
      "cell_type": "code",
      "execution_count": 134,
      "metadata": {
        "id": "GgEKFf4OiRTQ"
      },
      "outputs": [],
      "source": [
        "url = 'https://www.marca.com/'\n",
        "driver = webdriver.Chrome(options=opciones)\n",
        "driver.get(url)\n",
        "#Cookies\n",
        "cookies = driver.find_element(By.XPATH,'//*[@id=\"ue-accept-notice-button\"]')\n",
        "cookies.click()\n",
        "#Enlace Radio\n",
        "radio = driver.find_element(By.XPATH,'/html/body/header/div[1]/div/div[2]/ul/li[2]/a/strong')\n",
        "radio.click()\n",
        "#Play\n",
        "play = driver.find_element(By.XPATH, '//*[@id=\"player-plugin\"]/section/div/div/div[2]/div[1]/div[3]/div[1]/button[2]')\n",
        "play.click()"
      ]
    },
    {
      "cell_type": "code",
      "execution_count": null,
      "metadata": {
        "id": "-UtdVXQTmhzF"
      },
      "outputs": [],
      "source": [
        "driver.quit()"
      ]
    },
    {
      "cell_type": "code",
      "execution_count": 137,
      "metadata": {
        "id": "yZuBCjQVmmU6"
      },
      "outputs": [],
      "source": [
        "url = 'https://www.marca.com/'\n",
        "driver = webdriver.Chrome(options=opciones)\n",
        "driver.get(url)\n",
        "\n",
        "#Esperar hasta que el botón esté disponible\n",
        "WebDriverWait(driver, 10).until(EC.element_to_be_clickable((By.ID, 'ue-accept-notice-button'))).click()\n",
        "#Boton de la radio (X)\n",
        "WebDriverWait(driver, 10).until(EC.element_to_be_clickable((By.XPATH,'/html/body/header/div[1]/div/div[2]/ul/li[2]/a/strong'))).click()\n",
        "#Boton acceder a la radio\n",
        "WebDriverWait(driver, 10).until(EC.element_to_be_clickable((By.XPATH, '//*[@id=\"player-plugin\"]/section/div/div/div[2]/div[1]/div[3]/div[1]/button[2]'))).click()"
      ]
    },
    {
      "cell_type": "code",
      "execution_count": 138,
      "metadata": {
        "id": "hL714vnYmrN7"
      },
      "outputs": [],
      "source": [
        "driver.quit()"
      ]
    }
  ],
  "metadata": {
    "colab": {
      "provenance": []
    },
    "kernelspec": {
      "display_name": "Python 3",
      "name": "python3"
    },
    "language_info": {
      "codemirror_mode": {
        "name": "ipython",
        "version": 3
      },
      "file_extension": ".py",
      "mimetype": "text/x-python",
      "name": "python",
      "nbconvert_exporter": "python",
      "pygments_lexer": "ipython3",
      "version": "3.12.2"
    }
  },
  "nbformat": 4,
  "nbformat_minor": 0
}
