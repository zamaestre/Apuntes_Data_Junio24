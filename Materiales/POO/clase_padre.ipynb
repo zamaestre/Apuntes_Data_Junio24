{
 "cells": [
  {
   "cell_type": "code",
   "execution_count": null,
   "metadata": {},
   "outputs": [],
   "source": [
    "#CLASE PADRE: GUERREROS"
   ]
  },
  {
   "cell_type": "code",
   "execution_count": null,
   "metadata": {},
   "outputs": [],
   "source": [
    "import random\n",
    "\n",
    "class Guerrero:\n",
    "   __nombre = None\n",
    "   __fuerza = 0\n",
    "   __defensa = 0\n",
    "   __velocidad = 0\n",
    "   __salud = 0\n",
    "        \n",
    "   def _init_(self, nombre:str, fuerza:int, salud:int, defensa:int, velocidad:int):\n",
    "      self.__nombre = None\n",
    "      self.__fuerza = 0\n",
    "      self.__defensa = 0\n",
    "      self.__velocidad = 0\n",
    "      self.__salud = 0\n",
    "\n",
    "   def atacar(self, danio):\n",
    "      danio = self.__fuerza * 1.2 \n",
    "\n",
    "   def defender_objetivo(self, danio) :\n",
    "      danio_recibido = danio - (self.__defensa * 0.6)\n",
    "\n",
    "      # comprueba el estado de salud del guerrero\n",
    "   def estado_salud(self, daño_recibido):\n",
    "      self.__salud -= daño_recibido\n",
    "      if self.__salud <= 0:\n",
    "        print(f'El Guerrero {self.__nombre} ha muerto')\n",
    "\n",
    "   def guerrero_vivo(self):\n",
    "      if self.__salud > 0:\n",
    "         print(f'El Guerero {self.__nombre} Esta Vivo') \n",
    "\n",
    "   def Estadisticas(self):\n",
    "       def __repr__(self):\n",
    "          return '\\n'.join([f'{k} : {v}' for k,v in self.__dict__.items()])"
   ]
  }
 ],
 "metadata": {
  "language_info": {
   "name": "python"
  }
 },
 "nbformat": 4,
 "nbformat_minor": 2
}
