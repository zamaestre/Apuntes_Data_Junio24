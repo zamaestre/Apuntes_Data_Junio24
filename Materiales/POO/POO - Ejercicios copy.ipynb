{
 "cells": [
  {
   "cell_type": "markdown",
   "metadata": {},
   "source": [
    "# Agenda\n",
    "Realizar una clase que administre una `agenda`. Se debe almacenar para cada contacto el nombre, el teléfono y el email. Además deberá mostrar un menú con las siguientes opciones:\n",
    "\n",
    "- Añadir contacto\n",
    "- Lista de contactos\n",
    "- Buscar contacto\n",
    "- Editar contacto\n",
    "- Cerrar agenda"
   ]
  },
  {
   "cell_type": "code",
   "execution_count": 3,
   "metadata": {},
   "outputs": [],
   "source": [
    "class Agenda:\n",
    "    def __init__(self, nombre, telefono, email, direccion):\n",
    "        self.Ingresar_Nombre = nombre\n",
    "        self.Ingresar_telefono = telefono\n",
    "        self.Ingresar_email = email\n",
    "        self.Ingresar_email = direccion\n",
    "\n",
    "    def Menu(self):\n",
    "     1 Enter_name = self.Lista_contactos\n",
    "                \n",
    "    def Lista_contactos(self):\n",
    "        nombre = input(\"Type Name:         \")\n",
    "        telefono = input(\"Type Number Phone:         \")\n",
    "        email = input(\"Type email:         \")\n",
    "        direccion = input(\"Type Adrress:         \")\n",
    "        \n",
    "            \n",
    "\n",
    "\n",
    "        \n",
    "\n",
    "    \n",
    "  \n"
   ]
  },
  {
   "cell_type": "code",
   "execution_count": 4,
   "metadata": {},
   "outputs": [],
   "source": [
    "mi_agenda = Agenda\n"
   ]
  },
  {
   "cell_type": "code",
   "execution_count": null,
   "metadata": {},
   "outputs": [],
   "source": [
    "mi_agenda.In"
   ]
  },
  {
   "cell_type": "code",
   "execution_count": null,
   "metadata": {},
   "outputs": [],
   "source": [
    "lista_contactos = []\n",
    "for contacto in \n",
    "nombre = input(\"Type Name:         \")\n",
    "telefono = input(\"Type Number Phone:         \")\n",
    "email = input(\"Type email:         \")\n",
    "direccion = input(\"Type Adrress:         \")\n",
    "        "
   ]
  },
  {
   "cell_type": "markdown",
   "metadata": {},
   "source": [
    "# Banco\n",
    "En un banco tienen clientes que pueden hacer **depósitos** y **extracciones** de dinero. El banco requiere también al final del día calcular la cantidad de dinero que se ha depositado.\n",
    "\n",
    "Se deberán crear **dos clases**, la clase `cliente` y la clase `banco`. La clase **cliente** tendrá los atributos `nombre` y `cantidad` y los métodos `__init__`, `depositar`, `extraer`, `mostrar_total`.\n",
    "\n",
    "La clase **banco** tendrá como atributos 3 objetos de la clase cliente y los métodos `__init__`, `operar` y `deposito_total`."
   ]
  },
  {
   "cell_type": "code",
   "execution_count": null,
   "metadata": {},
   "outputs": [],
   "source": []
  },
  {
   "cell_type": "markdown",
   "metadata": {},
   "source": [
    "# Cuentas ahorro\n",
    "Desarrollar un programa que conste de una **clase padre** `Cuenta` y **dos subclases** `PlazoFijo` y `CajaAhorro`. Definir los **atributos** `titular` y `cantidad` y un **método** para `imprimir` los datos en la clase Cuenta. La **clase CajaAhorro** tendrá un método para heredar los datos y uno para mostrar la información.\n",
    "\n",
    "La **clase PlazoFijo** tendrá dos atributos propios, `plazo` e `interés`. Tendrá un método para obtener el importe del interés (cantidad*interés/100) y otro método para mostrar la información, datos del titular plazo, interés y total de interés.\n",
    "\n",
    "Crear al menos un objeto de cada subclase."
   ]
  },
  {
   "cell_type": "code",
   "execution_count": null,
   "metadata": {},
   "outputs": [],
   "source": []
  }
 ],
 "metadata": {
  "kernelspec": {
   "display_name": "gamma",
   "language": "python",
   "name": "python3"
  },
  "language_info": {
   "codemirror_mode": {
    "name": "ipython",
    "version": 3
   },
   "file_extension": ".py",
   "mimetype": "text/x-python",
   "name": "python",
   "nbconvert_exporter": "python",
   "pygments_lexer": "ipython3",
   "version": "3.12.4"
  }
 },
 "nbformat": 4,
 "nbformat_minor": 2
}
