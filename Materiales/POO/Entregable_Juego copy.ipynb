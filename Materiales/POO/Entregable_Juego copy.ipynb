{
 "cells": [
  {
   "cell_type": "code",
   "execution_count": 2,
   "metadata": {},
   "outputs": [],
   "source": [
    "import random\n",
    "import clase_padre"
   ]
  },
  {
   "cell_type": "code",
   "execution_count": 10,
   "metadata": {},
   "outputs": [],
   "source": [
    "\n",
    "import random\n",
    "\n",
    "class Guerrero:\n",
    "    def __init__(self, nombre: str, fuerza: int, salud: int, defensa: int, velocidad: int):\n",
    "        self.__nombre = nombre\n",
    "        self.__fuerza = fuerza\n",
    "        self.__defensa = defensa\n",
    "        self.__velocidad = velocidad\n",
    "        self.__salud = salud\n",
    "\n",
    "    def atacar(self):\n",
    "        return self.__fuerza \n",
    "\n",
    "    def defender_objetivo(self, danio):\n",
    "        danio_recibido = max(danio - (self.__defensa * 0.6), 0)\n",
    "        self.estado_salud(danio_recibido)\n",
    "\n",
    "    def estado_salud(self, daño_recibido):\n",
    "        self.__salud -= daño_recibido\n",
    "        if self.__salud <= 0:\n",
    "            print(f'El Guerrero {self.__nombre} ha muerto')\n",
    "\n",
    "    def guerrero_vivo(self):\n",
    "        return self.__salud > 0\n",
    "\n",
    "    def estadisticas(self):\n",
    "        estatus = {\n",
    "            'Nombre': self.__nombre,\n",
    "            'Fuerza': self.__fuerza,\n",
    "            'Defensa': self.__defensa,\n",
    "            'Velocidad': self.__velocidad,\n",
    "            'Salud': self.__salud\n",
    "        }\n",
    "        return '\\n'.join([f'{k}: {v}' for k, v in estatus.items()])\n",
    "    \n",
    "     # Atributos del Guerrero Caballero\n",
    "\n",
    "class GuerreroCaballero(Guerrero):\n",
    "    def __init__(self, nombre):\n",
    "        salud = random.randint(100, 150)\n",
    "        fuerza = random.randint(30, 40)\n",
    "        defensa = random.randint(50, 70)\n",
    "        velocidad = random.randint(10, 20)\n",
    "        super().__init__(nombre, fuerza, salud, defensa, velocidad)\n",
    "\n",
    "           # Metodos del Guerrero Caballero\n",
    "\n",
    "    def atacar_objetivo(self):\n",
    "        return self.atacar() * 1.2\n",
    "   \n",
    "    def defender_objetivo(self):\n",
    "        danio = self.fuerza * 1.2\n",
    "        danio_recibido = max(danio - (self.__defensa * 0.6), 0)\n",
    "        self.estado_salud(danio_recibido)\n",
    "    \n",
    "    # Sub clase Guerrero Arquero\n",
    "    \n",
    "class GuerreroArquero(Guerrero):\n",
    "    def __init__(self, nombre):\n",
    "        salud = random.randint(70, 100)\n",
    "        fuerza = random.randint(25, 35)\n",
    "        defensa = random.randint(20, 30)\n",
    "        velocidad = random.randint(40, 60)\n",
    "        super().__init__(nombre, fuerza, salud, defensa, velocidad)\n",
    "\n",
    "          # Metodos del Guerrero Arquero\n",
    "\n",
    "    def atacar_objetivo(self):\n",
    "            # pero ataca al 50%\n",
    "         probabilidad = random.randint(0, 100) \n",
    "         if probabilidad <= 30:\n",
    "           defensa_mitad = self.atacar()* 0.5\n",
    "         else:\n",
    "             return self.atacar() * 1 \n",
    "\n",
    "      # Sub clase Guerrero Mago\n",
    "class GuerreroMago(Guerrero):\n",
    "    def __init__(self, nombre):\n",
    "        salud = random.randint(50, 80)\n",
    "        fuerza = random.randint(40, 60)\n",
    "        defensa = random.randint(10, 20)\n",
    "        velocidad = random.randint(20, 30)\n",
    "        super().__init__(nombre, fuerza, salud, defensa, velocidad)\n",
    "           \n",
    "      # Metodos del Guerrero Mago\n",
    "    \n",
    "    def atacar(self):\n",
    "        probabilidad = random.randint(0, 100) \n",
    "        if probabilidad <= 10:\n",
    "           ataque_masivo = self.fuerza * 0.8 \n",
    "        else: \n",
    "         ataque_simple = self.fuerza * 1.5\n",
    "       \n",
    "    def defender_objetivo(self, danio):\n",
    "        probabilidad = random.randint(0, 100) \n",
    "        if probabilidad <= 10:\n",
    "         danio_recibido = max(danio - (self.defensa * 0.4), 0)\n",
    "        self.estado_salud(danio_recibido)  \n",
    "    \n",
    "# Sub clase Guerrero Asesino\n",
    "\n",
    "class GuerreroAsesino(Guerrero):\n",
    "    def __init__(self, nombre):\n",
    "        salud = random.randint(60, 90)\n",
    "        fuerza = random.randint(35, 45)\n",
    "        defensa = random.randint(15, 25)\n",
    "        velocidad = random.randint(50, 70)\n",
    "        super().__init__(nombre, fuerza, salud, defensa, velocidad)\n",
    "\n",
    "         # Metodos del Guerrero Asesino\n",
    "\n",
    "    def atacar_objetivo(self):\n",
    "        probabilidad = random.randint(0, 100) \n",
    "        danio = 0\n",
    "        if probabilidad <= 25:\n",
    "           danio = self.fuerza * 2\n",
    "        else: \n",
    "           danio = self.fuerza * 1\n",
    "             \n",
    "\n",
    "    def defender_objetivo(self, danio):\n",
    "      probabilidad = random.randint(0, 100) \n",
    "      if probabilidad <= 30:\n",
    "        danio_recibido =  danio - (self.defensa * 0.15)\n",
    "          \n",
    "      \n",
    "             \n",
    "    \n",
    "class GuerreroCurandero(Guerrero):\n",
    "    def __init__(self, nombre):\n",
    "        salud = random.randint(80,120)\n",
    "        fuerza = random.randint(10,20)\n",
    "        defensa = random.randint(20,30)\n",
    "        velocidad = random.randint(30,40)\n",
    "        super().__init__(nombre, fuerza, salud, defensa, velocidad)\n",
    "\n",
    "        # Metodos del Guerrero Curandero\n",
    "\n",
    "def atacar_objetivo(self, daño ):\n",
    "     danio = self.fuerza * 0.8 \n",
    "\n",
    "def curar_objetivo(self):    \n",
    "     curación = (self.salud - 30)  # pendiente aqui hay restarle a la salud 30 \n",
    "\n",
    "def defender_objetivo(self):\n",
    "      daño_recibido = (self.fuerza * 0.8 ) - (self.defensa * 0.5)\n",
    "\n",
    "\n",
    "\n",
    "\n",
    "\n",
    "\n",
    "\n",
    "\n",
    "\n",
    "\n",
    "\n",
    "\n"
   ]
  },
  {
   "cell_type": "code",
   "execution_count": 26,
   "metadata": {},
   "outputs": [
    {
     "data": {
      "text/plain": [
       "<__main__.Guerrero at 0x7fad18aac680>"
      ]
     },
     "execution_count": 26,
     "metadata": {},
     "output_type": "execute_result"
    }
   ],
   "source": [
    "# Clase Padre\n",
    "mi_guerrero = Guerrero()\n",
    "mi_guerrero"
   ]
  },
  {
   "cell_type": "code",
   "execution_count": 14,
   "metadata": {},
   "outputs": [],
   "source": [
    "caballero1 = GuerreroCaballero('juan')"
   ]
  },
  {
   "cell_type": "code",
   "execution_count": 15,
   "metadata": {},
   "outputs": [
    {
     "data": {
      "text/plain": [
       "'Nombre: juan\\nFuerza: 39\\nDefensa: 60\\nVelocidad: 10\\nSalud: 150'"
      ]
     },
     "execution_count": 15,
     "metadata": {},
     "output_type": "execute_result"
    }
   ],
   "source": [
    "caballero1.estadisticas()"
   ]
  },
  {
   "cell_type": "code",
   "execution_count": 16,
   "metadata": {},
   "outputs": [],
   "source": [
    "caballero2 = GuerreroCaballero('maria')"
   ]
  },
  {
   "cell_type": "code",
   "execution_count": 17,
   "metadata": {},
   "outputs": [],
   "source": [
    "arquero1 = GuerreroArquero('daniela')"
   ]
  },
  {
   "cell_type": "code",
   "execution_count": 18,
   "metadata": {},
   "outputs": [
    {
     "data": {
      "text/plain": [
       "<bound method Guerrero.estadisticas of <__main__.GuerreroArquero object at 0x7f11c2d0dc10>>"
      ]
     },
     "execution_count": 18,
     "metadata": {},
     "output_type": "execute_result"
    }
   ],
   "source": [
    "arquero1.estadisticas"
   ]
  },
  {
   "cell_type": "code",
   "execution_count": 19,
   "metadata": {},
   "outputs": [],
   "source": [
    "arquero2 = GuerreroArquero('karen')"
   ]
  },
  {
   "cell_type": "code",
   "execution_count": 20,
   "metadata": {},
   "outputs": [],
   "source": [
    "asesino1 = GuerreroAsesino('gino')"
   ]
  },
  {
   "cell_type": "code",
   "execution_count": 21,
   "metadata": {},
   "outputs": [],
   "source": [
    "asesino2 = GuerreroAsesino('carol')"
   ]
  },
  {
   "cell_type": "code",
   "execution_count": 22,
   "metadata": {},
   "outputs": [],
   "source": [
    "curandero1 = GuerreroCurandero('cristobal')"
   ]
  },
  {
   "cell_type": "code",
   "execution_count": 23,
   "metadata": {},
   "outputs": [],
   "source": [
    "curandero2 = GuerreroCurandero('mariano')"
   ]
  },
  {
   "cell_type": "code",
   "execution_count": 24,
   "metadata": {},
   "outputs": [],
   "source": [
    "mago1 = GuerreroMago ('yan')"
   ]
  },
  {
   "cell_type": "code",
   "execution_count": 25,
   "metadata": {},
   "outputs": [],
   "source": [
    "mago2 = GuerreroMago ('alex')"
   ]
  },
  {
   "cell_type": "code",
   "execution_count": 26,
   "metadata": {},
   "outputs": [],
   "source": [
    "ejercito1 = [caballero1, arquero1, asesino1, mago1, curandero1,]"
   ]
  },
  {
   "cell_type": "code",
   "execution_count": 27,
   "metadata": {},
   "outputs": [],
   "source": [
    "ejercito2 = [caballero2, arquero2, asesino2, mago2, curandero2]"
   ]
  },
  {
   "cell_type": "code",
   "execution_count": 14,
   "metadata": {},
   "outputs": [
    {
     "data": {
      "text/plain": [
       "<__main__.Guerrero at 0x7fdc9c606ab0>"
      ]
     },
     "execution_count": 14,
     "metadata": {},
     "output_type": "execute_result"
    }
   ],
   "source": [
    "salud = [random.randint(100, 150) for i in range(1)]\n",
    "salud"
   ]
  },
  {
   "cell_type": "code",
   "execution_count": 19,
   "metadata": {},
   "outputs": [
    {
     "ename": "AttributeError",
     "evalue": "'Guerrero' object has no attribute '_defensa'",
     "output_type": "error",
     "traceback": [
      "\u001b[0;31m---------------------------------------------------------------------------\u001b[0m",
      "\u001b[0;31mAttributeError\u001b[0m                            Traceback (most recent call last)",
      "Cell \u001b[0;32mIn[19], line 1\u001b[0m\n\u001b[0;32m----> 1\u001b[0m \u001b[43mmi_guerrero\u001b[49m\u001b[38;5;241;43m.\u001b[39;49m\u001b[43mdefensa\u001b[49m\u001b[43m(\u001b[49m\u001b[43m)\u001b[49m\n",
      "Cell \u001b[0;32mIn[13], line 21\u001b[0m, in \u001b[0;36mGuerrero.defensa\u001b[0;34m(self)\u001b[0m\n\u001b[1;32m     20\u001b[0m \u001b[38;5;28;01mdef\u001b[39;00m \u001b[38;5;21mdefensa\u001b[39m(\u001b[38;5;28mself\u001b[39m):\n\u001b[0;32m---> 21\u001b[0m    \u001b[38;5;28;01mreturn\u001b[39;00m \u001b[38;5;28;43mself\u001b[39;49m\u001b[38;5;241;43m.\u001b[39;49m\u001b[43m_defensa\u001b[49m\n",
      "\u001b[0;31mAttributeError\u001b[0m: 'Guerrero' object has no attribute '_defensa'"
     ]
    }
   ],
   "source": [
    "mi_guerrero.defensa()"
   ]
  },
  {
   "cell_type": "code",
   "execution_count": 5,
   "metadata": {},
   "outputs": [
    {
     "data": {
      "text/plain": [
       "[127]"
      ]
     },
     "execution_count": 5,
     "metadata": {},
     "output_type": "execute_result"
    }
   ],
   "source": [
    "#Rangos para Caballero, curandero\n",
    "salud = [random.randint(80, 120) for i in range(1)]\n",
    "salud"
   ]
  },
  {
   "cell_type": "code",
   "execution_count": 6,
   "metadata": {},
   "outputs": [
    {
     "data": {
      "text/plain": [
       "[37]"
      ]
     },
     "execution_count": 6,
     "metadata": {},
     "output_type": "execute_result"
    }
   ],
   "source": [
    "#Rangos para Caballero , curandero\n",
    "fuerza = [random.randint(10, 20) for i in range(1)]\n",
    "fuerza"
   ]
  },
  {
   "cell_type": "code",
   "execution_count": 7,
   "metadata": {},
   "outputs": [
    {
     "data": {
      "text/plain": [
       "[62]"
      ]
     },
     "execution_count": 7,
     "metadata": {},
     "output_type": "execute_result"
    }
   ],
   "source": [
    "#Rangos para Caballero curandero\n",
    "defensa = [random.randint(20, 30) for i in range(1)]\n",
    "defensa"
   ]
  },
  {
   "cell_type": "code",
   "execution_count": 8,
   "metadata": {},
   "outputs": [
    {
     "data": {
      "text/plain": [
       "[65]"
      ]
     },
     "execution_count": 8,
     "metadata": {},
     "output_type": "execute_result"
    }
   ],
   "source": [
    "#Rangos para Caballero curandero\n",
    "velocidad = [random.randint(30, 40) for i in range(1)]\n",
    "velocidad"
   ]
  },
  {
   "cell_type": "code",
   "execution_count": null,
   "metadata": {},
   "outputs": [],
   "source": [
    "#Rangos para Arquero\n",
    "salud = [random.randint(70, 100) for i in range(1)]\n",
    "salud"
   ]
  },
  {
   "cell_type": "code",
   "execution_count": null,
   "metadata": {},
   "outputs": [],
   "source": [
    "#Rangos para Arquero\n",
    "fuerza = [random.randint(25, 35) for i in range(1)]\n",
    "fuerza"
   ]
  },
  {
   "cell_type": "code",
   "execution_count": null,
   "metadata": {},
   "outputs": [],
   "source": [
    "#Rangos para Arquero\n",
    "defensa = [random.randint(20, 30) for i in range(1)]\n",
    "defensa"
   ]
  },
  {
   "cell_type": "code",
   "execution_count": null,
   "metadata": {},
   "outputs": [],
   "source": [
    "#Rangos para Arquero\n",
    "velocidad = [random.randint(40, 60) for i in range(1)]\n",
    "velocidad"
   ]
  },
  {
   "cell_type": "code",
   "execution_count": null,
   "metadata": {},
   "outputs": [],
   "source": [
    "#Rangos para Mago, asesino\n",
    "salud = [random.randint(60, 90) for i in range(1)]\n",
    "salud"
   ]
  },
  {
   "cell_type": "code",
   "execution_count": null,
   "metadata": {},
   "outputs": [],
   "source": [
    "#Rangos para Mago. asesino\n",
    "fuerza = [random.randint(35, 45) for i in range(1)]\n",
    "fuerza"
   ]
  },
  {
   "cell_type": "code",
   "execution_count": null,
   "metadata": {},
   "outputs": [],
   "source": [
    "#Rangos para Mago asesino\n",
    "defensa = [random.randint(15, 25) for i in range(1)]\n",
    "defensa"
   ]
  },
  {
   "cell_type": "code",
   "execution_count": null,
   "metadata": {},
   "outputs": [],
   "source": [
    "#Rangos para Mago asesino\n",
    "velocidad = [random.randint(50, 70) for i in range(1)]\n",
    "velocidad"
   ]
  },
  {
   "cell_type": "code",
   "execution_count": null,
   "metadata": {},
   "outputs": [],
   "source": []
  }
 ],
 "metadata": {
  "kernelspec": {
   "display_name": "gamma",
   "language": "python",
   "name": "python3"
  },
  "language_info": {
   "codemirror_mode": {
    "name": "ipython",
    "version": 3
   },
   "file_extension": ".py",
   "mimetype": "text/x-python",
   "name": "python",
   "nbconvert_exporter": "python",
   "pygments_lexer": "ipython3",
   "version": "3.12.4"
  }
 },
 "nbformat": 4,
 "nbformat_minor": 2
}
