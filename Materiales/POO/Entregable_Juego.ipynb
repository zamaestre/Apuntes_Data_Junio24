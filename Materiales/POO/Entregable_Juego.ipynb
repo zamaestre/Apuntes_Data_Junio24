{
 "cells": [
  {
   "cell_type": "code",
   "execution_count": 2,
   "metadata": {},
   "outputs": [],
   "source": [
    "import random"
   ]
  },
  {
   "cell_type": "code",
   "execution_count": 22,
   "metadata": {},
   "outputs": [
    {
     "ename": "IndentationError",
     "evalue": "expected an indented block after function definition on line 17 (1956471142.py, line 18)",
     "output_type": "error",
     "traceback": [
      "\u001b[0;36m  Cell \u001b[0;32mIn[22], line 18\u001b[0;36m\u001b[0m\n\u001b[0;31m    self._salud\u001b[0m\n\u001b[0m    ^\u001b[0m\n\u001b[0;31mIndentationError\u001b[0m\u001b[0;31m:\u001b[0m expected an indented block after function definition on line 17\n"
     ]
    }
   ],
   "source": [
    "import random\n",
    "\n",
    "class Guerrero:\n",
    "    def _init_(self, nombre, fuerza, salud, defensa, velocidad):\n",
    "        self._nombre = nombre\n",
    "        self._fuerza = fuerza\n",
    "        self._defensa = defensa\n",
    "        self._velocidad = velocidad\n",
    "        self._salud = salud\n",
    "\n",
    "    def nombre(self):\n",
    "       return self._nombre\n",
    "\n",
    "    def fuerza(self):\n",
    "        return self._fuerza\n",
    "\n",
    "def salud(self):\n",
    "self._salud \n",
    "\n",
    "def defensa(self):\n",
    "return self._defensa\n",
    "\n",
    "def velocidad(self):\n",
    "return self._velocidad\n",
    "\n",
    "# Sub clase Guerrero Caballero\n",
    "\n",
    "class guerrero_caballero(Guerrero):\n",
    " def __init__(self, nombre, fuerza, salud, defensa, velocidad):\n",
    "       super()._init_(nombre, fuerza, salud, defensa, velocidad)\n",
    " # Atributos del Guerrero Caballero\n",
    "\n",
    " def guerrero_caballero_salud(self):\n",
    "        salud = [random.randint(100, 150) for i in range(1)]\n",
    "        self.guerrero_caballero_salud = salud \n",
    "\n",
    " def guerrero_caballero_fuerza(self):\n",
    "        fuerza = [random.randint(30, 40) for i in range(1)]\n",
    "        self.guerrero_caballero_fuerza = fuerza\n",
    "\n",
    " def guerrero_caballero_defensa(self):\n",
    "        defensa = [random.randint(50, 70) for i in range(1)]\n",
    "        self.guerrero_caballero_defensa = defensa\n",
    "\n",
    " def guerrero_caballero_velocidad(self):\n",
    "        velocidad = [random.randint(10, 20) for i in range(1)]\n",
    "        self.guerrero_caballero_velocidad = velocidad\n",
    "\n",
    "# comprueba el estado de salud del guerrero\n",
    "def estado_salud(self, daño_recibido):\n",
    "      self.guerrero_caballero_salud -= daño_recibido\n",
    "      if self.guerrero_caballero_salud > 0:\n",
    "\n",
    "        def vidas_disponibles(self):\n",
    "         return self.guerrero_caballero_salud\n",
    "\n",
    "def mostrar_estadisticas(self):\n",
    "      \n",
    "      \n",
    "\n",
    "        # Metodos del Guerrero Caballero\n",
    "        \n",
    "def atacar_objetivo(self, perdidas):\n",
    "      perdidas = self.guerrero_cabalero_fuerza * 1.2 # explicame esta formula\n",
    "\n",
    "def defender_objetivo(self, perdidas):\n",
    "      daño_recibido = perdidas - (self.guerrero_caballero_defensa * 0.6)\n",
    "\n",
    "# Sub clase Guerrero Arquero\n",
    "\n",
    "class Guerrero_arquero(Guerrero):\n",
    " def __init__(self, nombre, fuerza, salud, defensa, velocidad):\n",
    "       super()._init_(nombre, fuerza, salud, defensa, velocidad)\n",
    "\n",
    "def guerrero_arquero_salud(self):\n",
    "        salud = [random.randint(70, 100) for i in range(1)]\n",
    "        self.guerrero_arquero_salud = salud \n",
    "\n",
    "def guerrero_arquero_fuerza(self):\n",
    "        fuerza = [random.randint(25, 35) for i in range(1)]\n",
    "        self.guerrero_arquero_fuerza =  fuerza\n",
    "      \n",
    "def guerrero_arquero_defensa(self):\n",
    "        defensa = [random.randint(20, 30) for i in range(1)]\n",
    "        self.guerrero_arquero_defensa =  defensa\n",
    "\n",
    "def guerrero_arquero_velocidad(self):\n",
    "        velocidad = [random.randint(40, 60) for i in range(1)]\n",
    "        self.guerrero_arquero_velocidad = velocidad\n",
    "\n",
    "   # Metodos del Guerrero Arquero\n",
    "\n",
    "def atacar_objetivo(self, perdidas):\n",
    "      perdidas = self.guerrero_cabalero_fuerza * 1 # explicame esta formula\n",
    "      # pero ataca al 50%\n",
    "\n",
    "def defender_objetivo(self, perdidas):\n",
    "      daño_recibido = perdidas - (self.guerrero_arquero_defensa * 0.4)\n",
    "\n",
    "     \n",
    "     \n",
    "     \n",
    "      # Sub clase Guerrero Mago\n",
    "\n",
    "class Guerrero_mago(Guerrero):\n",
    " def __init__(self, nombre, fuerza, salud, defensa, velocidad):\n",
    "       super()._init_(nombre, fuerza, salud, defensa, velocidad)\n",
    "\n",
    "def guerrero_mago_salud(self):\n",
    "        salud = [random.randint(50, 80) for i in range(1)]\n",
    "        self.guerrero_mago_salud = salud \n",
    "\n",
    "def guerrero_mago_fuerza(self):\n",
    "        fuerza = [random.randint(40, 60) for i in range(1)]\n",
    "        self.guerrero_mago_fuerza =  fuerza\n",
    "      \n",
    "def guerrero_mago_defensa(self):\n",
    "        defensa = [random.randint(10, 20) for i in range(1)]\n",
    "        self.guerrero_mago_defensa =  defensa\n",
    "\n",
    "def guerrero_mago_velocidad(self):\n",
    "        velocidad = [random.randint(20, 30) for i in range(1)]\n",
    "        self.guerrero_mago_velocidad = velocidad\n",
    "\n",
    "   # Metodos del Guerrero Mago\n",
    "\n",
    "def atacar_objetivo(self, perdidas):\n",
    "      perdidas = (self.guerrero_mago_fuerza * 1) # explicame esta formula\n",
    "      # pero ataca al 50%\n",
    "\n",
    "def defender_objetivo(self, perdidas):\n",
    "      daño_recibido = perdidas - (self.guerrero_mago_defensa * 0.4) \n",
    "\n",
    "\n",
    " #Sub clase Guerrero Asesino\n",
    "\n",
    "class Guerrero_asesino(Guerrero):\n",
    " def __init__(self, nombre, fuerza, salud, defensa, velocidad):\n",
    "       super()._init_(nombre, fuerza, salud, defensa, velocidad)\n",
    "\n",
    "def guerrero_asesino_salud(self):\n",
    "        salud = [random.randint(60, 90) for i in range(1)]\n",
    "        self.guerrero_asesino_salud = salud \n",
    "\n",
    "def guerrero_asesino_fuerza(self):\n",
    "        fuerza = [random.randint(35, 45) for i in range(1)]\n",
    "        self.guerrero_asesino_fuerza =  fuerza\n",
    "      \n",
    "def guerrero_asesino_defensa(self):\n",
    "        defensa = [random.randint(15, 25) for i in range(1)]\n",
    "        self.guerrero_asesino_defensa =  defensa\n",
    "\n",
    "def guerrero_asesino_velocidad(self):\n",
    "        velocidad = [random.randint(50, 70) for i in range(1)]\n",
    "        self.guerrero_asesino_velocidad = velocidad\n",
    "\n",
    "   # Metodos del Guerrero Asesino\n",
    "\n",
    "def atacar_objetivo(self, daño_normal, daño_critico ):\n",
    "     daño_normal = self.guerrero_asesino_fuerza * 1.0 # explicame esta formula\n",
    "      # pero ataca al 50%\n",
    "     daño_critico = self.guerrero_asesino_fuerza * 2.0\n",
    "\n",
    "def defender_objetivo(self, perdidas):\n",
    "      daño_recibido = perdidas - (self.guerrero_asesino_defensa * 0.4)\n",
    "\n",
    "      #Sub clase Guerrero Curandero\n",
    "\n",
    "class Guerrero_curandero(Guerrero):\n",
    " def __init__(self, nombre, fuerza, salud, defensa, velocidad):\n",
    "       super()._init_(nombre, fuerza, salud, defensa, velocidad)\n",
    "\n",
    "def guerrero_curandero_salud(self):\n",
    "        salud = [random.randint(80, 120) for i in range(1)]\n",
    "        self.guerrero_curandero_salud = salud \n",
    "\n",
    "def guerrero_curandero_fuerza(self):\n",
    "        fuerza = [random.randint(10, 20) for i in range(1)]\n",
    "        self.guerrero_curandero_fuerza =  fuerza\n",
    "      \n",
    "def guerrero_curandero_defensa(self):\n",
    "        defensa = [random.randint(20, 30) for i in range(1)]\n",
    "        self.guerrero_curandero_defensa =  defensa\n",
    "\n",
    "def guerrero_curandero_velocidad(self):\n",
    "        velocidad = [random.randint(30, 40) for i in range(1)]\n",
    "        self.guerrero_curandero_velocidad = velocidad\n",
    "\n",
    "   # Metodos del Guerrero Curandero\n",
    "\n",
    "def atacar_objetivo(self, daño ):\n",
    "     daño = (self.guerrero_curandero_fuerza * 0.8 )# explicame esta formula\n",
    "      # pero ataca al 50%\n",
    "     curación = (self.guerrero_curandero_salud - 30)  # pendiente aqui hay restarle a la salud 30 \n",
    "\n",
    "def defender_objetivo(self, perdidas):\n",
    "      daño_recibido = perdidas - (self.guerrero_curandero_defensa * 0.5)\n",
    "\n",
    "\n",
    "      \n",
    "\n",
    "\n",
    "\n",
    "\n",
    "\n"
   ]
  },
  {
   "cell_type": "code",
   "execution_count": 21,
   "metadata": {},
   "outputs": [
    {
     "data": {
      "text/plain": [
       "<__main__.Guerrero at 0x7f7176052600>"
      ]
     },
     "execution_count": 21,
     "metadata": {},
     "output_type": "execute_result"
    }
   ],
   "source": [
    "mi_guerrero = Guerrero() \n",
    "mi_guerrero"
   ]
  },
  {
   "cell_type": "code",
   "execution_count": 5,
   "metadata": {},
   "outputs": [
    {
     "data": {
      "text/plain": [
       "[127]"
      ]
     },
     "execution_count": 5,
     "metadata": {},
     "output_type": "execute_result"
    }
   ],
   "source": [
    "#Rangos para Caballero, curandero\n",
    "salud = [random.randint(80, 120) for i in range(1)]\n",
    "salud"
   ]
  },
  {
   "cell_type": "code",
   "execution_count": 6,
   "metadata": {},
   "outputs": [
    {
     "data": {
      "text/plain": [
       "[37]"
      ]
     },
     "execution_count": 6,
     "metadata": {},
     "output_type": "execute_result"
    }
   ],
   "source": [
    "#Rangos para Caballero , curandero\n",
    "fuerza = [random.randint(10, 20) for i in range(1)]\n",
    "fuerza"
   ]
  },
  {
   "cell_type": "code",
   "execution_count": 7,
   "metadata": {},
   "outputs": [
    {
     "data": {
      "text/plain": [
       "[62]"
      ]
     },
     "execution_count": 7,
     "metadata": {},
     "output_type": "execute_result"
    }
   ],
   "source": [
    "#Rangos para Caballero curandero\n",
    "defensa = [random.randint(20, 30) for i in range(1)]\n",
    "defensa"
   ]
  },
  {
   "cell_type": "code",
   "execution_count": 8,
   "metadata": {},
   "outputs": [
    {
     "data": {
      "text/plain": [
       "[65]"
      ]
     },
     "execution_count": 8,
     "metadata": {},
     "output_type": "execute_result"
    }
   ],
   "source": [
    "#Rangos para Caballero curandero\n",
    "velocidad = [random.randint(30, 40) for i in range(1)]\n",
    "velocidad"
   ]
  },
  {
   "cell_type": "code",
   "execution_count": null,
   "metadata": {},
   "outputs": [],
   "source": [
    "#Rangos para Arquero\n",
    "salud = [random.randint(70, 100) for i in range(1)]\n",
    "salud"
   ]
  },
  {
   "cell_type": "code",
   "execution_count": null,
   "metadata": {},
   "outputs": [],
   "source": [
    "#Rangos para Arquero\n",
    "fuerza = [random.randint(25, 35) for i in range(1)]\n",
    "fuerza"
   ]
  },
  {
   "cell_type": "code",
   "execution_count": null,
   "metadata": {},
   "outputs": [],
   "source": [
    "#Rangos para Arquero\n",
    "defensa = [random.randint(20, 30) for i in range(1)]\n",
    "defensa"
   ]
  },
  {
   "cell_type": "code",
   "execution_count": null,
   "metadata": {},
   "outputs": [],
   "source": [
    "#Rangos para Arquero\n",
    "velocidad = [random.randint(40, 60) for i in range(1)]\n",
    "velocidad"
   ]
  },
  {
   "cell_type": "code",
   "execution_count": null,
   "metadata": {},
   "outputs": [],
   "source": [
    "#Rangos para Mago, asesino\n",
    "salud = [random.randint(60, 90) for i in range(1)]\n",
    "salud"
   ]
  },
  {
   "cell_type": "code",
   "execution_count": null,
   "metadata": {},
   "outputs": [],
   "source": [
    "#Rangos para Mago. asesino\n",
    "fuerza = [random.randint(35, 45) for i in range(1)]\n",
    "fuerza"
   ]
  },
  {
   "cell_type": "code",
   "execution_count": null,
   "metadata": {},
   "outputs": [],
   "source": [
    "#Rangos para Mago asesino\n",
    "defensa = [random.randint(15, 25) for i in range(1)]\n",
    "defensa"
   ]
  },
  {
   "cell_type": "code",
   "execution_count": null,
   "metadata": {},
   "outputs": [],
   "source": [
    "#Rangos para Mago asesino\n",
    "velocidad = [random.randint(50, 70) for i in range(1)]\n",
    "velocidad"
   ]
  },
  {
   "cell_type": "code",
   "execution_count": null,
   "metadata": {},
   "outputs": [],
   "source": []
  }
 ],
 "metadata": {
  "kernelspec": {
   "display_name": "gamma",
   "language": "python",
   "name": "python3"
  },
  "language_info": {
   "codemirror_mode": {
    "name": "ipython",
    "version": 3
   },
   "file_extension": ".py",
   "mimetype": "text/x-python",
   "name": "python",
   "nbconvert_exporter": "python",
   "pygments_lexer": "ipython3",
   "version": "3.12.4"
  }
 },
 "nbformat": 4,
 "nbformat_minor": 2
}
