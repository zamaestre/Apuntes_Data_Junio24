{
  "cells": [
    {
      "cell_type": "markdown",
      "metadata": {
        "id": "D_MuituUpNBd"
      },
      "source": [
        "# 16  - Programación orientada a objetos --> POO (OOP en inglés)\n",
        "\n",
        "![POO](https://res.cloudinary.com/practicaldev/image/fetch/s--ufDC8O_A--/c_limit%2Cf_auto%2Cfl_progressive%2Cq_auto%2Cw_800/https://cdn.fs.teachablecdn.com/ySDOMxZwTAio4hQ6k68G)\n",
        "\n",
        "\n",
        "## ¿Qué es la programación orientada a objetos?\n",
        "La Programación Orientada a Objetos (POO) es un paradigma de programación que se basa en la conceptualización y organización del código en términos de \"objetos\". Cada objeto es una instancia única de una \"clase\", y estas clases sirven como plantillas para definir las propiedades y comportamientos compartidos por un conjunto de objetos.\n",
        "\n",
        "Este enfoque de programación se asemeja a la forma en que vemos y entendemos el mundo real, donde los objetos tienen **características** (atributos) y realizan **acciones** específicas (métodos). La POO proporciona una estructura modular y más intuitiva para el desarrollo de software, facilitando la creación y mantenimiento de código.\n",
        "\n",
        "En este notebook, exploraremos los conceptos fundamentales de la Programación Orientada a Objetos en el contexto de Python.\n",
        "\n",
        "Cubriremos temas ***clave***:\n",
        "-  Creación de clases y objetos.\n",
        "-  Definición de atributos y métodos\n",
        "-  La herencia, el encapsulamiento y el polimorfismo.\n",
        "\n",
        "Al comprender la POO, se pueden diseñar sistemas más escalables, reutilizables y fáciles de entender."
      ]
    },
    {
      "cell_type": "markdown",
      "metadata": {
        "id": "iownaJCQpNB8"
      },
      "source": [
        "### 1 - [CLASES y OBJETOS](#1.-Clases-y-objetos)\n",
        "\n",
        "Las clases son `plantillas` que se utilizan para crear objetos. Dentro de una clase, se definen los atributos y métodos que tendrán los objetos creados a partir de ella. Todos los objetos creados a partir de una clase tendrán en común los atributos y métodos definidos en la clase a la que pertenecen.\n",
        "\n",
        "Vamos a crear una clase `Coche` que tendrá los atributos `marca` y `modelo` y los métodos `acelerar` y `frenar`.\n",
        "\n",
        "```python\n",
        "class Coche:\n",
        "    def __init__(self, marca, modelo): # Constructor, inicializa los atributos de la clase\n",
        "        self.marca = marca\n",
        "        self.modelo = modelo\n",
        "        self.velocidad = 0\n",
        "\n",
        "    def acelerar(self): # Método, realiza una acción\n",
        "        self.velocidad += 10\n",
        "        print(f\"{self.marca} {self.modelo} acelerando. Velocidad: {self.velocidad} km/h\")\n",
        "\n",
        "    def frenar(self): # Método, realiza una acción\n",
        "        self.velocidad -= 5\n",
        "        print(f\"{self.marca} {self.modelo} frenando. Velocidad: {self.velocidad} km/h\")\n",
        "```"
      ]
    },
    {
      "cell_type": "code",
      "execution_count": 1,
      "metadata": {
        "id": "zTpu-fX_pNB-"
      },
      "outputs": [],
      "source": [
        "#Vamos ejecutarlo:\n",
        "class Coche:\n",
        "    def __init__(self,marca,modelo):\n",
        "        self.marca = marca\n",
        "        self.modelo = modelo\n",
        "        self.velocidad = 0 #Atributo de instancia, cuando cree un objeto de esta clase, tendra este atributo por defecto\n",
        "\n",
        "    def acelerar(self):\n",
        "        self.velocidad += 10\n",
        "        print(f\"El coche {self.marca} {self.modelo} acelera a {self.velocidad} km/h\")\n",
        "    def frenar(self):\n",
        "        self.velocidad -= 5\n",
        "        print(f\"El coche {self.marca} {self.modelo} frena a {self.velocidad} km/h\")\n"
      ]
    },
    {
      "cell_type": "markdown",
      "metadata": {
        "id": "lp2qMeOxpNCH"
      },
      "source": [
        "Tenemos la clase `Coche` con los atributos `marca`, `modelo` y `velocidad` y los métodos `acelerar` y `frenar`.\n",
        "\n",
        "Vamos a crear un par de instancias, es decir de objetos, de la clase `Coche`."
      ]
    },
    {
      "cell_type": "code",
      "execution_count": 2,
      "metadata": {
        "id": "cGDPUbC5pNCJ"
      },
      "outputs": [
        {
          "name": "stdout",
          "output_type": "stream",
          "text": [
            "<__main__.Coche object at 0x7f8f6075d3a0>\n"
          ]
        }
      ],
      "source": [
        "#Creamos primer objeto /instancia\n",
        "coche1 = Coche(\"SEAT\",\"Ibiza\")\n",
        "\n",
        "print(coche1)"
      ]
    },
    {
      "cell_type": "code",
      "execution_count": 3,
      "metadata": {
        "id": "EaHUFDidpNCL"
      },
      "outputs": [
        {
          "name": "stdout",
          "output_type": "stream",
          "text": [
            "SEAT\n",
            "Ibiza\n",
            "0\n"
          ]
        }
      ],
      "source": [
        "#Tenemos el objeto coche1, que es una instancia de la clase Coche,vamos a\n",
        "#acceder a sus atributos\n",
        "\n",
        "print(coche1.marca)\n",
        "print(coche1.modelo)\n",
        "print(coche1.velocidad)"
      ]
    },
    {
      "cell_type": "code",
      "execution_count": 5,
      "metadata": {
        "id": "xHJd4J4PpNCX"
      },
      "outputs": [
        {
          "name": "stdout",
          "output_type": "stream",
          "text": [
            "El coche SEAT Ibiza acelera a 20 km/h\n"
          ]
        }
      ],
      "source": [
        "#Vamos a correr su métodos:\n",
        "coche1.acelerar() #x 2 veces"
      ]
    },
    {
      "cell_type": "code",
      "execution_count": 6,
      "metadata": {},
      "outputs": [
        {
          "data": {
            "text/plain": [
              "20"
            ]
          },
          "execution_count": 6,
          "metadata": {},
          "output_type": "execute_result"
        }
      ],
      "source": [
        "coche1.velocidad"
      ]
    },
    {
      "cell_type": "code",
      "execution_count": 7,
      "metadata": {
        "id": "CAgHwozwpNCc"
      },
      "outputs": [
        {
          "name": "stdout",
          "output_type": "stream",
          "text": [
            "El coche SEAT Ibiza frena a 15 km/h\n"
          ]
        }
      ],
      "source": [
        "#Vamos a frenarlo una vez\n",
        "coche1.frenar()"
      ]
    },
    {
      "cell_type": "code",
      "execution_count": 8,
      "metadata": {
        "id": "0uW2rPwvpNCj"
      },
      "outputs": [],
      "source": [
        "mierda_coche = Coche('Clio','Renault')"
      ]
    },
    {
      "cell_type": "code",
      "execution_count": 10,
      "metadata": {
        "id": "NF0XAlrrpNCl"
      },
      "outputs": [
        {
          "data": {
            "text/plain": [
              "'Renault'"
            ]
          },
          "execution_count": 10,
          "metadata": {},
          "output_type": "execute_result"
        }
      ],
      "source": [
        "mierda_coche.modelo"
      ]
    },
    {
      "cell_type": "code",
      "execution_count": 12,
      "metadata": {
        "id": "KTMlx1VWpNCn"
      },
      "outputs": [
        {
          "name": "stdout",
          "output_type": "stream",
          "text": [
            "El coche Clio Renault frena a -5 km/h\n"
          ]
        }
      ],
      "source": [
        "mierda_coche.frenar()"
      ]
    },
    {
      "cell_type": "code",
      "execution_count": 13,
      "metadata": {
        "id": "iS7AnSGgpNCo"
      },
      "outputs": [
        {
          "name": "stdout",
          "output_type": "stream",
          "text": [
            "<__main__.Coche object at 0x7f8f607b7c20>\n"
          ]
        }
      ],
      "source": [
        "coche2 = Coche(\"Renault\",\"Clio\")\n",
        "print(coche2)"
      ]
    },
    {
      "cell_type": "code",
      "execution_count": 14,
      "metadata": {
        "id": "eFk9kuPRpNCr"
      },
      "outputs": [
        {
          "data": {
            "text/plain": [
              "False"
            ]
          },
          "execution_count": 14,
          "metadata": {},
          "output_type": "execute_result"
        }
      ],
      "source": [
        "coche1 == coche2 #False, son objetos diferentes"
      ]
    },
    {
      "cell_type": "code",
      "execution_count": 15,
      "metadata": {
        "id": "JinwWdYXpNCs"
      },
      "outputs": [
        {
          "data": {
            "text/plain": [
              "True"
            ]
          },
          "execution_count": 15,
          "metadata": {},
          "output_type": "execute_result"
        }
      ],
      "source": [
        "coche1.__class__ == coche2.__class__ #True, son de la misma clase"
      ]
    },
    {
      "cell_type": "code",
      "execution_count": 28,
      "metadata": {},
      "outputs": [
        {
          "data": {
            "text/plain": [
              "str"
            ]
          },
          "execution_count": 28,
          "metadata": {},
          "output_type": "execute_result"
        }
      ],
      "source": [
        "variable = 'texto'\n",
        "type(variable) #<class 'str'>"
      ]
    },
    {
      "cell_type": "code",
      "execution_count": 30,
      "metadata": {},
      "outputs": [
        {
          "data": {
            "text/plain": [
              "str"
            ]
          },
          "execution_count": 30,
          "metadata": {},
          "output_type": "execute_result"
        }
      ],
      "source": [
        "variable.__class__ #<class 'str'>"
      ]
    },
    {
      "cell_type": "code",
      "execution_count": 23,
      "metadata": {},
      "outputs": [
        {
          "ename": "AttributeError",
          "evalue": "'NoneType' object has no attribute 'marca'",
          "output_type": "error",
          "traceback": [
            "\u001b[0;31m---------------------------------------------------------------------------\u001b[0m",
            "\u001b[0;31mAttributeError\u001b[0m                            Traceback (most recent call last)",
            "Cell \u001b[0;32mIn[23], line 2\u001b[0m\n\u001b[1;32m      1\u001b[0m coche_vacio \u001b[38;5;241m=\u001b[39m \u001b[38;5;28;01mNone\u001b[39;00m\n\u001b[0;32m----> 2\u001b[0m \u001b[43mCoche\u001b[49m\u001b[38;5;241;43m.\u001b[39;49m\u001b[38;5;21;43m__init__\u001b[39;49m\u001b[43m(\u001b[49m\u001b[43mcoche_vacio\u001b[49m\u001b[43m,\u001b[49m\u001b[38;5;124;43m\"\u001b[39;49m\u001b[38;5;124;43mFord\u001b[39;49m\u001b[38;5;124;43m\"\u001b[39;49m\u001b[43m,\u001b[49m\u001b[38;5;124;43m\"\u001b[39;49m\u001b[38;5;124;43mFocus\u001b[39;49m\u001b[38;5;124;43m\"\u001b[39;49m\u001b[43m)\u001b[49m\n\u001b[1;32m      3\u001b[0m \u001b[38;5;66;03m#Esto no se hace para instanciar\u001b[39;00m\n",
            "Cell \u001b[0;32mIn[1], line 4\u001b[0m, in \u001b[0;36mCoche.__init__\u001b[0;34m(self, marca, modelo)\u001b[0m\n\u001b[1;32m      3\u001b[0m \u001b[38;5;28;01mdef\u001b[39;00m \u001b[38;5;21m__init__\u001b[39m(\u001b[38;5;28mself\u001b[39m,marca,modelo):\n\u001b[0;32m----> 4\u001b[0m     \u001b[38;5;28;43mself\u001b[39;49m\u001b[38;5;241;43m.\u001b[39;49m\u001b[43mmarca\u001b[49m \u001b[38;5;241m=\u001b[39m marca\n\u001b[1;32m      5\u001b[0m     \u001b[38;5;28mself\u001b[39m\u001b[38;5;241m.\u001b[39mmodelo \u001b[38;5;241m=\u001b[39m modelo\n\u001b[1;32m      6\u001b[0m     \u001b[38;5;28mself\u001b[39m\u001b[38;5;241m.\u001b[39mvelocidad \u001b[38;5;241m=\u001b[39m \u001b[38;5;241m0\u001b[39m\n",
            "\u001b[0;31mAttributeError\u001b[0m: 'NoneType' object has no attribute 'marca'"
          ]
        }
      ],
      "source": [
        "coche_vacio = None\n",
        "Coche.__init__(coche_vacio,\"Ford\",\"Focus\")\n",
        "#Esto no se hace para instanciar"
      ]
    },
    {
      "cell_type": "markdown",
      "metadata": {
        "id": "k5_89ZDQpNCs"
      },
      "source": [
        "### 2 - [ATRIBUTOS y MÉTODOS](#2.-ATRIBUTOS-y-MÉTODOS)\n",
        "\n",
        "Los `atributos` son las `características` que definen a un objeto. Los atributos de un objeto pueden ser de cualquier tipo: numéricos, cadenas, listas, diccionarios, etc.\n",
        "\n",
        "Los `métodos` son las acciones que realiza un objeto. Los métodos son `funciones` que pertenecen a una clase y que pueden utilizar los atributos de la clase.\n",
        "\n",
        "Los atributos se definen en el `constructor` de la clase, que es el método `__init__`. El constructor se ejecuta automáticamente cuando se crea un objeto de la clase.\n",
        "\n",
        "Los métodos se definen dentro de la clase. Todos los métodos de una clase reciben como primer parámetro el objeto que los invoca. Por convención, este parámetro se llama `self`.\n",
        "\n",
        "##### ATRIBUTOS:"
      ]
    },
    {
      "cell_type": "code",
      "execution_count": 34,
      "metadata": {
        "id": "TJFHEIF6pNCt"
      },
      "outputs": [],
      "source": [
        "class Persona:\n",
        "    raza = \"Humano\" #Atributo de clase\n",
        "    def __init__(self, nombre_con_el_que_instancio, edad_con_la_que_instancio):\n",
        "        self.name = nombre_con_el_que_instancio #Atributo de instancia\n",
        "        self.age = edad_con_la_que_instancio #Atributo de instancia"
      ]
    },
    {
      "cell_type": "code",
      "execution_count": 35,
      "metadata": {},
      "outputs": [],
      "source": [
        "jj = Persona('JJ', 29)"
      ]
    },
    {
      "cell_type": "code",
      "execution_count": 39,
      "metadata": {},
      "outputs": [
        {
          "data": {
            "text/plain": [
              "('JJ', 29)"
            ]
          },
          "execution_count": 39,
          "metadata": {},
          "output_type": "execute_result"
        }
      ],
      "source": [
        "jj.name, jj.age"
      ]
    },
    {
      "cell_type": "code",
      "execution_count": 40,
      "metadata": {},
      "outputs": [
        {
          "ename": "AttributeError",
          "evalue": "'Persona' object has no attribute 'nombre_con_el_que_instancio'",
          "output_type": "error",
          "traceback": [
            "\u001b[0;31m---------------------------------------------------------------------------\u001b[0m",
            "\u001b[0;31mAttributeError\u001b[0m                            Traceback (most recent call last)",
            "Cell \u001b[0;32mIn[40], line 1\u001b[0m\n\u001b[0;32m----> 1\u001b[0m \u001b[43mjj\u001b[49m\u001b[38;5;241;43m.\u001b[39;49m\u001b[43mnombre_con_el_que_instancio\u001b[49m\n",
            "\u001b[0;31mAttributeError\u001b[0m: 'Persona' object has no attribute 'nombre_con_el_que_instancio'"
          ]
        }
      ],
      "source": [
        "jj.nombre_con_el_que_instancio"
      ]
    },
    {
      "cell_type": "code",
      "execution_count": 32,
      "metadata": {
        "id": "rLtLDufWpNCt"
      },
      "outputs": [
        {
          "name": "stdout",
          "output_type": "stream",
          "text": [
            "Gino tiene 29 años.\n",
            "Gino es de raza Humano\n"
          ]
        }
      ],
      "source": [
        "persona1 = Persona(\"Gino\", 29)\n",
        "print(f\"{persona1.nombre} tiene {persona1.edad} años.\")\n",
        "print(f\"{persona1.nombre} es de raza {persona1.raza}\")"
      ]
    },
    {
      "cell_type": "markdown",
      "metadata": {
        "id": "fSwZE_3_pNCu"
      },
      "source": [
        "##### MÉTODOS:"
      ]
    },
    {
      "cell_type": "code",
      "execution_count": 41,
      "metadata": {
        "id": "b0kYxZrUpNCw"
      },
      "outputs": [],
      "source": [
        "class Circulo:\n",
        "    def __init__(self, param_radio):\n",
        "        self.radio = param_radio\n",
        "\n",
        "    def calcular_area(self):\n",
        "        area = 3.1416 * self.radio ** 2\n",
        "        return round(area,2)"
      ]
    },
    {
      "cell_type": "code",
      "execution_count": 43,
      "metadata": {
        "id": "NumM9Q95pNCx"
      },
      "outputs": [
        {
          "name": "stdout",
          "output_type": "stream",
          "text": [
            "Área del círculo: 78.54\n"
          ]
        }
      ],
      "source": [
        "#Instanciamos un objeto de la clase Circulo\n",
        "circulo1 = Circulo(5)\n",
        "#circulo1.calcular_area()\n",
        "print(f\"Área del círculo: {circulo1.calcular_area()}\")"
      ]
    },
    {
      "cell_type": "markdown",
      "metadata": {
        "id": "xeJLqtxMpNCy"
      },
      "source": [
        "### 3 - [HERENCIA](#3.-Herenia)\n",
        "\n",
        "La `herencia` es un mecanismo que permite crear una clase nueva a partir de una clase existente. La clase nueva hereda todos los atributos y métodos de la clase existente, y además puede añadir nuevos atributos y métodos.\n",
        "\n",
        "La clase existente se llama `clase padre` o `superclase`. La clase nueva se llama `clase hija` o `subclase`."
      ]
    },
    {
      "cell_type": "code",
      "execution_count": 74,
      "metadata": {
        "id": "0RYvHmZkpNCy"
      },
      "outputs": [],
      "source": [
        "class Animal: #Clase padre / Super_clase\n",
        "    def __init__(self, nombre, color):\n",
        "        self.nombre = nombre\n",
        "        self.color = color\n",
        "\n",
        "    def hacer_sonido(self): #Método abstracto, no se implementa en la clase padre\n",
        "        print(self.nombre)\n",
        "        pass\n",
        "\n",
        "class Perro(Animal):\n",
        "    def __init__(self,nombre, color, raza):\n",
        "        super().__init__(nombre, color) # coge los atributos padre\n",
        "        self.raza = raza # atributo adicional que no tiene la clase padre\n",
        "        self.edad = 1\n",
        "        self.peso = 3\n",
        "\n",
        "    def hacer_sonido(self):\n",
        "        return \"Guau\"\n",
        "\n",
        "    def comer(self):\n",
        "      self.peso += 0.5\n",
        "      print(f'He comido y peso {self.peso}kg.')\n",
        "\n",
        "class Gato(Animal):\n",
        "     def hacer_sonido(self):\n",
        "        return \"Miau\""
      ]
    },
    {
      "cell_type": "code",
      "execution_count": 46,
      "metadata": {
        "id": "9L-sJs7XpNCz"
      },
      "outputs": [
        {
          "data": {
            "text/plain": [
              "[__main__.Perro, __main__.Gato]"
            ]
          },
          "execution_count": 46,
          "metadata": {},
          "output_type": "execute_result"
        }
      ],
      "source": [
        "Animal.__subclasses__() #Lista de clases hijas de Animal"
      ]
    },
    {
      "cell_type": "code",
      "execution_count": 47,
      "metadata": {
        "id": "5bAbzT7OpNCz"
      },
      "outputs": [
        {
          "ename": "TypeError",
          "evalue": "Perro.__init__() missing 2 required positional arguments: 'color' and 'raza'",
          "output_type": "error",
          "traceback": [
            "\u001b[0;31m---------------------------------------------------------------------------\u001b[0m",
            "\u001b[0;31mTypeError\u001b[0m                                 Traceback (most recent call last)",
            "Cell \u001b[0;32mIn[47], line 2\u001b[0m\n\u001b[1;32m      1\u001b[0m \u001b[38;5;66;03m#Vamos crear un Perro\u001b[39;00m\n\u001b[0;32m----> 2\u001b[0m perro1 \u001b[38;5;241m=\u001b[39m \u001b[43mPerro\u001b[49m\u001b[43m(\u001b[49m\u001b[38;5;124;43m\"\u001b[39;49m\u001b[38;5;124;43mBobby\u001b[39;49m\u001b[38;5;124;43m\"\u001b[39;49m\u001b[43m)\u001b[49m\n",
            "\u001b[0;31mTypeError\u001b[0m: Perro.__init__() missing 2 required positional arguments: 'color' and 'raza'"
          ]
        }
      ],
      "source": [
        "#Vamos crear un Perro\n",
        "perro1 = Perro(\"Bobby\")"
      ]
    },
    {
      "cell_type": "code",
      "execution_count": 55,
      "metadata": {
        "id": "X_ztK39PQjot"
      },
      "outputs": [],
      "source": [
        "perro2 = Perro('Boby', 'Blanco', 'Corgy')"
      ]
    },
    {
      "cell_type": "code",
      "execution_count": 56,
      "metadata": {},
      "outputs": [
        {
          "data": {
            "text/plain": [
              "'Corgy'"
            ]
          },
          "execution_count": 56,
          "metadata": {},
          "output_type": "execute_result"
        }
      ],
      "source": [
        "perro2.raza"
      ]
    },
    {
      "cell_type": "code",
      "execution_count": 57,
      "metadata": {},
      "outputs": [
        {
          "data": {
            "text/plain": [
              "'Blanco'"
            ]
          },
          "execution_count": 57,
          "metadata": {},
          "output_type": "execute_result"
        }
      ],
      "source": [
        "perro2.color"
      ]
    },
    {
      "cell_type": "code",
      "execution_count": 58,
      "metadata": {},
      "outputs": [
        {
          "data": {
            "text/plain": [
              "'Boby'"
            ]
          },
          "execution_count": 58,
          "metadata": {},
          "output_type": "execute_result"
        }
      ],
      "source": [
        "perro2.nombre"
      ]
    },
    {
      "cell_type": "code",
      "execution_count": 59,
      "metadata": {},
      "outputs": [
        {
          "data": {
            "text/plain": [
              "(1, 3)"
            ]
          },
          "execution_count": 59,
          "metadata": {},
          "output_type": "execute_result"
        }
      ],
      "source": [
        "perro2.edad, perro2.peso"
      ]
    },
    {
      "cell_type": "code",
      "execution_count": 61,
      "metadata": {
        "id": "ut5N8hBOQzyX"
      },
      "outputs": [
        {
          "data": {
            "text/plain": [
              "'Guau'"
            ]
          },
          "execution_count": 61,
          "metadata": {},
          "output_type": "execute_result"
        }
      ],
      "source": [
        "perro2.hacer_sonido()"
      ]
    },
    {
      "cell_type": "code",
      "execution_count": 62,
      "metadata": {
        "id": "Gxi3dXmJR0ZT"
      },
      "outputs": [
        {
          "name": "stdout",
          "output_type": "stream",
          "text": [
            "He comido y peso 3.5kg.\n"
          ]
        }
      ],
      "source": [
        "perro2.comer()"
      ]
    },
    {
      "cell_type": "code",
      "execution_count": 63,
      "metadata": {
        "id": "1wl4ppjhpNC0"
      },
      "outputs": [
        {
          "data": {
            "text/plain": [
              "__main__.Perro"
            ]
          },
          "execution_count": 63,
          "metadata": {},
          "output_type": "execute_result"
        }
      ],
      "source": [
        "perro2.__class__ #Clase Perro"
      ]
    },
    {
      "cell_type": "code",
      "execution_count": 64,
      "metadata": {
        "id": "kEzHE1rbpNC0"
      },
      "outputs": [
        {
          "data": {
            "text/plain": [
              "__main__.Animal"
            ]
          },
          "execution_count": 64,
          "metadata": {},
          "output_type": "execute_result"
        }
      ],
      "source": [
        "perro2.__class__.__base__ #Clase Animal"
      ]
    },
    {
      "cell_type": "code",
      "execution_count": 65,
      "metadata": {
        "id": "zTN0I2ARSGYm"
      },
      "outputs": [
        {
          "data": {
            "text/plain": [
              "__main__.Coche"
            ]
          },
          "execution_count": 65,
          "metadata": {},
          "output_type": "execute_result"
        }
      ],
      "source": [
        "coche1.__class__"
      ]
    },
    {
      "cell_type": "code",
      "execution_count": 66,
      "metadata": {
        "id": "j_QGZV_FpNC3"
      },
      "outputs": [
        {
          "data": {
            "text/plain": [
              "object"
            ]
          },
          "execution_count": 66,
          "metadata": {},
          "output_type": "execute_result"
        }
      ],
      "source": [
        "coche1.__class__.__base__ #Clase object\n",
        "#Coche solo tiene una clase, no tiene padre"
      ]
    },
    {
      "cell_type": "code",
      "execution_count": 67,
      "metadata": {
        "id": "N6PfCro0pNC4"
      },
      "outputs": [],
      "source": [
        "#Vamos a crear un Gato\n",
        "gato1 = Gato(\"Garfield\",\"Naranja\")"
      ]
    },
    {
      "cell_type": "code",
      "execution_count": 69,
      "metadata": {},
      "outputs": [
        {
          "data": {
            "text/plain": [
              "'Garfield'"
            ]
          },
          "execution_count": 69,
          "metadata": {},
          "output_type": "execute_result"
        }
      ],
      "source": [
        "gato1.nombre"
      ]
    },
    {
      "cell_type": "code",
      "execution_count": 70,
      "metadata": {},
      "outputs": [
        {
          "data": {
            "text/plain": [
              "'Naranja'"
            ]
          },
          "execution_count": 70,
          "metadata": {},
          "output_type": "execute_result"
        }
      ],
      "source": [
        "gato1.color"
      ]
    },
    {
      "cell_type": "code",
      "execution_count": 72,
      "metadata": {},
      "outputs": [
        {
          "data": {
            "text/plain": [
              "'Miau'"
            ]
          },
          "execution_count": 72,
          "metadata": {},
          "output_type": "execute_result"
        }
      ],
      "source": [
        "gato1.hacer_sonido()"
      ]
    },
    {
      "cell_type": "markdown",
      "metadata": {
        "id": "z1QnL-fNpNC6"
      },
      "source": [
        "### 4 - [ENCAPSULAMIENTO](#5.Encapsulamiento)\n",
        "\n",
        "El `encapsulamiento` es un mecanismo que permite restringir el acceso a los atributos y métodos de una clase. Esto permite proteger los datos sensibles de la clase para que no sean modificados por código externo a la clase.\n",
        "\n",
        "En Python, el encapsulamiento se realiza por convención, es decir, no hay palabras reservadas para definir atributos y métodos privados. Por convención, los atributos y métodos privados se definen con un nombre que comienza por doble guión bajo `__`."
      ]
    },
    {
      "cell_type": "code",
      "execution_count": 75,
      "metadata": {
        "id": "15jh8p8PpNC7"
      },
      "outputs": [],
      "source": [
        "#Teníamos la clase persona, os acordáis?\n",
        "class Persona:\n",
        "    raza = \"Humano\" #Atributo de clase\n",
        "    def __init__(self, nombre, edad):\n",
        "        self.nombre = nombre\n",
        "        self.edad = edad"
      ]
    },
    {
      "cell_type": "code",
      "execution_count": 76,
      "metadata": {
        "id": "gFcl1HK4pNC7"
      },
      "outputs": [
        {
          "name": "stdout",
          "output_type": "stream",
          "text": [
            "Humano\n"
          ]
        }
      ],
      "source": [
        "impostor = Persona('Juan', 40)\n",
        "print(impostor.raza)"
      ]
    },
    {
      "cell_type": "code",
      "execution_count": 77,
      "metadata": {},
      "outputs": [
        {
          "data": {
            "text/plain": [
              "'Juan'"
            ]
          },
          "execution_count": 77,
          "metadata": {},
          "output_type": "execute_result"
        }
      ],
      "source": [
        "impostor.nombre"
      ]
    },
    {
      "cell_type": "code",
      "execution_count": 78,
      "metadata": {
        "id": "StLSt9UepNC8"
      },
      "outputs": [
        {
          "name": "stdout",
          "output_type": "stream",
          "text": [
            "Pedro\n"
          ]
        }
      ],
      "source": [
        "#Vamos a pensar que Juan se quiere cambiar el nombre\n",
        "impostor.nombre = \"Pedro\"\n",
        "print(impostor.nombre)"
      ]
    },
    {
      "cell_type": "code",
      "execution_count": 79,
      "metadata": {},
      "outputs": [
        {
          "data": {
            "text/plain": [
              "('Humano', 40)"
            ]
          },
          "execution_count": 79,
          "metadata": {},
          "output_type": "execute_result"
        }
      ],
      "source": [
        "impostor.raza, impostor.edad"
      ]
    },
    {
      "cell_type": "code",
      "execution_count": null,
      "metadata": {
        "id": "GBVd5yITpNDD"
      },
      "outputs": [],
      "source": [
        "#Vamos a cambiarle la edad para que tenga carnet joven\n",
        "impostor.edad = 20\n",
        "print(impostor.edad)"
      ]
    },
    {
      "cell_type": "code",
      "execution_count": 80,
      "metadata": {
        "id": "Kdb7z4QxpNDE"
      },
      "outputs": [
        {
          "name": "stdout",
          "output_type": "stream",
          "text": [
            "Alien\n"
          ]
        }
      ],
      "source": [
        "impostor.raza = \"Alien\"\n",
        "print(impostor.raza)"
      ]
    },
    {
      "cell_type": "markdown",
      "metadata": {
        "id": "H4A6ncq1pNDE"
      },
      "source": [
        "Acabamos de cambiar el atributo `raza` para impostor, esto no sería lo deseable verdad?\n",
        "\n",
        "Nos habremos cargado el atributo `raza`de la clase ```Persona```?"
      ]
    },
    {
      "cell_type": "code",
      "execution_count": 81,
      "metadata": {
        "id": "wlpjk0eDpNDF"
      },
      "outputs": [
        {
          "data": {
            "text/plain": [
              "'Humano'"
            ]
          },
          "execution_count": 81,
          "metadata": {},
          "output_type": "execute_result"
        }
      ],
      "source": [
        "nuevo_tipo = Persona('Pepe',10)\n",
        "nuevo_tipo.raza"
      ]
    },
    {
      "cell_type": "markdown",
      "metadata": {
        "id": "-Y75GNuFpNDG"
      },
      "source": [
        "Para `proteger` los atributos de la clase deberíamos definirlos como ***privados***, es decir, que solo puedan ser `accedidos desde la propia clase`.\n",
        "\n",
        "En Python, el encapsulamiento se realiza por convención, es decir, no hay palabras reservadas para definir atributos y métodos privados. Por convención, los atributos y métodos privados se definen con un nombre que comienza por doble guión bajo `__`."
      ]
    },
    {
      "cell_type": "code",
      "execution_count": 106,
      "metadata": {
        "id": "DgQGfo59pNDH"
      },
      "outputs": [],
      "source": [
        "class CuentaBancaria:\n",
        "    __saldo = 0 #Atributo privado\n",
        "    def __init__(self, saldo):\n",
        "        self.__saldo = saldo\n",
        "\n",
        "    def obtener_saldo(self):\n",
        "        return f\"Tienes {self.__saldo} euros en la cuenta\"\n",
        "\n",
        "    def depositar(self, cantidad):\n",
        "        self.__saldo += cantidad\n",
        "        return f\"Ahora tu cuenta tiene {self.__saldo}\"\n",
        "\n",
        "    def retirar(self, cantidad):\n",
        "        if cantidad <= self.__saldo:\n",
        "            self.__saldo -= cantidad\n",
        "            return f\"Ahora tu cuenta tiene {self.__saldo}\"\n",
        "        else:\n",
        "            print(\"Saldo insuficiente\")"
      ]
    },
    {
      "cell_type": "code",
      "execution_count": 107,
      "metadata": {
        "id": "edNHLhWkpNDl"
      },
      "outputs": [],
      "source": [
        "#Vamos a crear una cuenta bancaria con 50 euros\n",
        "mi_cuenta = CuentaBancaria(50)"
      ]
    },
    {
      "cell_type": "code",
      "execution_count": 108,
      "metadata": {
        "id": "n2dBBahrpNDl"
      },
      "outputs": [
        {
          "data": {
            "text/plain": [
              "'Tienes 50 euros en la cuenta'"
            ]
          },
          "execution_count": 108,
          "metadata": {},
          "output_type": "execute_result"
        }
      ],
      "source": [
        "mi_cuenta.obtener_saldo()"
      ]
    },
    {
      "cell_type": "code",
      "execution_count": 109,
      "metadata": {
        "id": "POs2YfNspNDm"
      },
      "outputs": [
        {
          "data": {
            "text/plain": [
              "'Ahora tu cuenta tiene 10'"
            ]
          },
          "execution_count": 109,
          "metadata": {},
          "output_type": "execute_result"
        }
      ],
      "source": [
        "mi_cuenta.retirar(40)"
      ]
    },
    {
      "cell_type": "code",
      "execution_count": 110,
      "metadata": {},
      "outputs": [
        {
          "data": {
            "text/plain": [
              "'Tienes 10 euros en la cuenta'"
            ]
          },
          "execution_count": 110,
          "metadata": {},
          "output_type": "execute_result"
        }
      ],
      "source": [
        "mi_cuenta.obtener_saldo()"
      ]
    },
    {
      "cell_type": "code",
      "execution_count": 103,
      "metadata": {
        "id": "3mProgfYpNDn"
      },
      "outputs": [
        {
          "data": {
            "text/plain": [
              "'Tienes 10 euros en la cuenta'"
            ]
          },
          "execution_count": 103,
          "metadata": {},
          "output_type": "execute_result"
        }
      ],
      "source": [
        "#Podremos hackear la cuenta como antes?\n",
        "mi_cuenta.__saldo = 1_800_000\n",
        "mi_cuenta.obtener_saldo()"
      ]
    },
    {
      "cell_type": "markdown",
      "metadata": {
        "id": "8k0ToZJKpNDn"
      },
      "source": [
        "Ahora no hemos podido cambiar el saldo de la cuenta. Pero, tenemos un problema, que si no tuvieramos el método `obtener_saldo` no podríamos saber el saldo de la cuenta.\n"
      ]
    },
    {
      "cell_type": "code",
      "execution_count": 111,
      "metadata": {
        "id": "9xSyHkdopNDo"
      },
      "outputs": [
        {
          "ename": "AttributeError",
          "evalue": "'CuentaBancaria' object has no attribute '__saldo'",
          "output_type": "error",
          "traceback": [
            "\u001b[0;31m---------------------------------------------------------------------------\u001b[0m",
            "\u001b[0;31mAttributeError\u001b[0m                            Traceback (most recent call last)",
            "Cell \u001b[0;32mIn[111], line 1\u001b[0m\n\u001b[0;32m----> 1\u001b[0m \u001b[38;5;28mprint\u001b[39m(\u001b[43mmi_cuenta\u001b[49m\u001b[38;5;241;43m.\u001b[39;49m\u001b[43m__saldo\u001b[49m) \u001b[38;5;66;03m#.saldo, ni existe\u001b[39;00m\n\u001b[1;32m      2\u001b[0m \u001b[38;5;66;03m#Este saldo es mentira, se lo hemos metido a la instancia a capón\u001b[39;00m\n",
            "\u001b[0;31mAttributeError\u001b[0m: 'CuentaBancaria' object has no attribute '__saldo'"
          ]
        }
      ],
      "source": [
        "print(mi_cuenta.__saldo) #.saldo, ni existe\n",
        "#Este saldo es mentira, se lo hemos metido a la instancia a capón"
      ]
    },
    {
      "cell_type": "code",
      "execution_count": 105,
      "metadata": {
        "id": "dqwa-i50pNDo"
      },
      "outputs": [
        {
          "data": {
            "text/plain": [
              "['_CuentaBancaria__saldo',\n",
              " '__class__',\n",
              " '__delattr__',\n",
              " '__dict__',\n",
              " '__dir__',\n",
              " '__doc__',\n",
              " '__eq__',\n",
              " '__format__',\n",
              " '__ge__',\n",
              " '__getattribute__',\n",
              " '__getstate__',\n",
              " '__gt__',\n",
              " '__hash__',\n",
              " '__init__',\n",
              " '__init_subclass__',\n",
              " '__le__',\n",
              " '__lt__',\n",
              " '__module__',\n",
              " '__ne__',\n",
              " '__new__',\n",
              " '__reduce__',\n",
              " '__reduce_ex__',\n",
              " '__repr__',\n",
              " '__saldo',\n",
              " '__setattr__',\n",
              " '__sizeof__',\n",
              " '__str__',\n",
              " '__subclasshook__',\n",
              " '__weakref__',\n",
              " 'depositar',\n",
              " 'obtener_saldo',\n",
              " 'retirar']"
            ]
          },
          "execution_count": 105,
          "metadata": {},
          "output_type": "execute_result"
        }
      ],
      "source": [
        "dir(mi_cuenta)"
      ]
    },
    {
      "cell_type": "code",
      "execution_count": 112,
      "metadata": {
        "id": "WFJiNidJpNDo"
      },
      "outputs": [
        {
          "data": {
            "text/plain": [
              "['_CuentaBancaria__saldo',\n",
              " '__class__',\n",
              " '__delattr__',\n",
              " '__dict__',\n",
              " '__dir__',\n",
              " '__doc__',\n",
              " '__eq__',\n",
              " '__format__',\n",
              " '__ge__',\n",
              " '__getattribute__',\n",
              " '__getstate__',\n",
              " '__gt__',\n",
              " '__hash__',\n",
              " '__init__',\n",
              " '__init_subclass__',\n",
              " '__le__',\n",
              " '__lt__',\n",
              " '__module__',\n",
              " '__ne__',\n",
              " '__new__',\n",
              " '__reduce__',\n",
              " '__reduce_ex__',\n",
              " '__repr__',\n",
              " '__setattr__',\n",
              " '__sizeof__',\n",
              " '__str__',\n",
              " '__subclasshook__',\n",
              " '__weakref__',\n",
              " 'depositar',\n",
              " 'obtener_saldo',\n",
              " 'retirar']"
            ]
          },
          "execution_count": 112,
          "metadata": {},
          "output_type": "execute_result"
        }
      ],
      "source": [
        "#Nueva instancia\n",
        "mi_cuenta2 = CuentaBancaria(100)\n",
        "dir(mi_cuenta2)"
      ]
    },
    {
      "cell_type": "markdown",
      "metadata": {
        "id": "d2VsrjX7pNDp"
      },
      "source": [
        "Esta instancia no tiene __saldo, tiene solo _Cuentabancaria__saldo. Por lo tanto, no podemos acceder a este atributo desde fuera de la clase."
      ]
    },
    {
      "cell_type": "markdown",
      "metadata": {
        "id": "CpTxqiVUpNDp"
      },
      "source": [
        "### 5 - [POLIMORFISMO](#5.Polimorfismo)\n",
        "\n",
        "El `polimorfismo` es un mecanismo que permite que una clase hija sobrescriba un método de la clase padre. Esto permite que un objeto de la clase hija pueda utilizar el método de la clase padre o el método de la clase hija.\n",
        "\n",
        "Capacidad de diferentes clases de compartir la misma interfaz, es decir, el mismo nombre de `método` o propiedad, pero con implementaciones específicas para cada clase. Esto permite que un objeto se comporte de manera flexible según el contexto en el que se utilice.\n",
        "\n",
        "Es decir, que un objeto de la clase hija puede comportarse como un objeto de la clase padre o como un objeto de la clase hija.\n",
        "\n",
        "Ehh?? No te preocupes, vamos a verlo con un ejemplo."
      ]
    },
    {
      "cell_type": "markdown",
      "metadata": {
        "id": "hgDsBnB-pNDq"
      },
      "source": [
        "Tomemos el ejemplo de una clase `Figura` que tiene un método llamado `calcular_area`.\n",
        "\n",
        "Tendremos subclases como `Círculo` y `Rectángulo`, que heredan de la clase padre `Figura` pero proporcionan implementaciones específicas del método `calcular_area` según la fórmula correspondiente a cada forma."
      ]
    },
    {
      "cell_type": "code",
      "execution_count": 114,
      "metadata": {
        "id": "SbC9Psp8pNDr"
      },
      "outputs": [],
      "source": [
        "class Figura: # Clase padre\n",
        "    def calcular_area(self):\n",
        "        pass\n",
        "\n",
        "class Circulo(Figura): # Clase hija de Figura\n",
        "    def __init__(self, radio):\n",
        "        self.radio = radio\n",
        "\n",
        "    def calcular_area(self):\n",
        "        return 3.14 * self.radio ** 2\n",
        "\n",
        "class Rectangulo(Figura): #otra hija de Figura\n",
        "    def __init__(self, base, altura):\n",
        "        self.base = base\n",
        "        self.altura = altura\n",
        "\n",
        "    def calcular_area(self):\n",
        "        return self.base * self.altura\n",
        "\n",
        "# Función que utiliza polimorfismo\n",
        "def imprimir_area(figura):\n",
        "    print(f\"Área: {figura.calcular_area()}\")"
      ]
    },
    {
      "cell_type": "code",
      "execution_count": 115,
      "metadata": {
        "id": "c0LB4-MHpNDs"
      },
      "outputs": [
        {
          "name": "stdout",
          "output_type": "stream",
          "text": [
            "<class '__main__.Figura'> <class '__main__.Figura'>\n"
          ]
        }
      ],
      "source": [
        "# Creamos 2 instancias de las clases\n",
        "circulo = Circulo(5)\n",
        "rectangulo = Rectangulo(4, 6)\n",
        "\n",
        "print(circulo.__class__.__base__, rectangulo.__class__.__base__)"
      ]
    },
    {
      "cell_type": "code",
      "execution_count": 116,
      "metadata": {
        "id": "Ttsd2wwHpNDt"
      },
      "outputs": [
        {
          "name": "stdout",
          "output_type": "stream",
          "text": [
            "Área: 78.5\n"
          ]
        }
      ],
      "source": [
        "# Utilizar la función con diferentes objetos\n",
        "imprimir_area(circulo)    # Salida: Área: 78.5"
      ]
    },
    {
      "cell_type": "code",
      "execution_count": 117,
      "metadata": {},
      "outputs": [
        {
          "name": "stdout",
          "output_type": "stream",
          "text": [
            "Área: 24\n"
          ]
        }
      ],
      "source": [
        "imprimir_area(rectangulo)  # Salida: Área: 24"
      ]
    },
    {
      "cell_type": "markdown",
      "metadata": {
        "id": "BZdQXslHpNDw"
      },
      "source": [
        "Vamos a ver como podemos restringir el tipo de dato que se puede asignar a un atributo o que se puede pasar como parámetro a un método, o para inicializar un objeto."
      ]
    },
    {
      "cell_type": "code",
      "execution_count": 119,
      "metadata": {},
      "outputs": [],
      "source": [
        "circulo_chungo = Circulo('2')"
      ]
    },
    {
      "cell_type": "code",
      "execution_count": 121,
      "metadata": {},
      "outputs": [
        {
          "data": {
            "text/plain": [
              "'2'"
            ]
          },
          "execution_count": 121,
          "metadata": {},
          "output_type": "execute_result"
        }
      ],
      "source": [
        "circulo_chungo.radio"
      ]
    },
    {
      "cell_type": "code",
      "execution_count": 122,
      "metadata": {},
      "outputs": [
        {
          "ename": "TypeError",
          "evalue": "unsupported operand type(s) for ** or pow(): 'str' and 'int'",
          "output_type": "error",
          "traceback": [
            "\u001b[0;31m---------------------------------------------------------------------------\u001b[0m",
            "\u001b[0;31mTypeError\u001b[0m                                 Traceback (most recent call last)",
            "Cell \u001b[0;32mIn[122], line 1\u001b[0m\n\u001b[0;32m----> 1\u001b[0m \u001b[43mcirculo_chungo\u001b[49m\u001b[38;5;241;43m.\u001b[39;49m\u001b[43mcalcular_area\u001b[49m\u001b[43m(\u001b[49m\u001b[43m)\u001b[49m\n",
            "Cell \u001b[0;32mIn[114], line 10\u001b[0m, in \u001b[0;36mCirculo.calcular_area\u001b[0;34m(self)\u001b[0m\n\u001b[1;32m      9\u001b[0m \u001b[38;5;28;01mdef\u001b[39;00m \u001b[38;5;21mcalcular_area\u001b[39m(\u001b[38;5;28mself\u001b[39m):\n\u001b[0;32m---> 10\u001b[0m     \u001b[38;5;28;01mreturn\u001b[39;00m \u001b[38;5;241m3.14\u001b[39m \u001b[38;5;241m*\u001b[39m \u001b[38;5;28;43mself\u001b[39;49m\u001b[38;5;241;43m.\u001b[39;49m\u001b[43mradio\u001b[49m\u001b[43m \u001b[49m\u001b[38;5;241;43m*\u001b[39;49m\u001b[38;5;241;43m*\u001b[39;49m\u001b[43m \u001b[49m\u001b[38;5;241;43m2\u001b[39;49m\n",
            "\u001b[0;31mTypeError\u001b[0m: unsupported operand type(s) for ** or pow(): 'str' and 'int'"
          ]
        }
      ],
      "source": [
        "circulo_chungo.calcular_area()"
      ]
    },
    {
      "cell_type": "code",
      "execution_count": 123,
      "metadata": {
        "id": "b4CZmTqYpNDx"
      },
      "outputs": [],
      "source": [
        "class Circulo_new: # Pero vamos a hacer que solo acepte numeros\n",
        "    def __init__(self, radio: int):\n",
        "        self.radio = radio\n",
        "    def calcular_area(self):\n",
        "        return 3.14 * self.radio ** 2"
      ]
    },
    {
      "cell_type": "code",
      "execution_count": 124,
      "metadata": {
        "id": "GwNN20p0pNDx"
      },
      "outputs": [],
      "source": [
        "circulo2 = Circulo_new('5') #Funcionará?"
      ]
    },
    {
      "cell_type": "code",
      "execution_count": 125,
      "metadata": {
        "id": "1YbjB6repNDx"
      },
      "outputs": [
        {
          "ename": "TypeError",
          "evalue": "unsupported operand type(s) for ** or pow(): 'str' and 'int'",
          "output_type": "error",
          "traceback": [
            "\u001b[0;31m---------------------------------------------------------------------------\u001b[0m",
            "\u001b[0;31mTypeError\u001b[0m                                 Traceback (most recent call last)",
            "Cell \u001b[0;32mIn[125], line 2\u001b[0m\n\u001b[1;32m      1\u001b[0m \u001b[38;5;66;03m#y esto?\u001b[39;00m\n\u001b[0;32m----> 2\u001b[0m \u001b[43mcirculo2\u001b[49m\u001b[38;5;241;43m.\u001b[39;49m\u001b[43mcalcular_area\u001b[49m\u001b[43m(\u001b[49m\u001b[43m)\u001b[49m\n",
            "Cell \u001b[0;32mIn[123], line 5\u001b[0m, in \u001b[0;36mCirculo_new.calcular_area\u001b[0;34m(self)\u001b[0m\n\u001b[1;32m      4\u001b[0m \u001b[38;5;28;01mdef\u001b[39;00m \u001b[38;5;21mcalcular_area\u001b[39m(\u001b[38;5;28mself\u001b[39m):\n\u001b[0;32m----> 5\u001b[0m     \u001b[38;5;28;01mreturn\u001b[39;00m \u001b[38;5;241m3.14\u001b[39m \u001b[38;5;241m*\u001b[39m \u001b[38;5;28;43mself\u001b[39;49m\u001b[38;5;241;43m.\u001b[39;49m\u001b[43mradio\u001b[49m\u001b[43m \u001b[49m\u001b[38;5;241;43m*\u001b[39;49m\u001b[38;5;241;43m*\u001b[39;49m\u001b[43m \u001b[49m\u001b[38;5;241;43m2\u001b[39;49m\n",
            "\u001b[0;31mTypeError\u001b[0m: unsupported operand type(s) for ** or pow(): 'str' and 'int'"
          ]
        }
      ],
      "source": [
        "#y esto?\n",
        "circulo2.calcular_area()"
      ]
    },
    {
      "cell_type": "code",
      "execution_count": 126,
      "metadata": {
        "id": "ebz011VjpNDy"
      },
      "outputs": [
        {
          "data": {
            "text/plain": [
              "str"
            ]
          },
          "execution_count": 126,
          "metadata": {},
          "output_type": "execute_result"
        }
      ],
      "source": [
        "type(circulo2.radio)"
      ]
    },
    {
      "cell_type": "code",
      "execution_count": 131,
      "metadata": {
        "id": "W8XBACSrpND0"
      },
      "outputs": [],
      "source": [
        "class Circulo_restrict:\n",
        "    def __init__(self, radio: str):\n",
        "        if type(radio) == int:\n",
        "            self.radio = radio\n",
        "        else:\n",
        "            raise TypeError(\"El radio debe ser un entero\")\n",
        "    def calcular_area(self):\n",
        "        return 3.14 * self.radio ** 2"
      ]
    },
    {
      "cell_type": "code",
      "execution_count": 128,
      "metadata": {
        "id": "Zzx7SRfjpND1"
      },
      "outputs": [
        {
          "ename": "TypeError",
          "evalue": "El radio debe ser un entero",
          "output_type": "error",
          "traceback": [
            "\u001b[0;31m---------------------------------------------------------------------------\u001b[0m",
            "\u001b[0;31mTypeError\u001b[0m                                 Traceback (most recent call last)",
            "Cell \u001b[0;32mIn[128], line 1\u001b[0m\n\u001b[0;32m----> 1\u001b[0m nuevo \u001b[38;5;241m=\u001b[39m \u001b[43mCirculo_restrict\u001b[49m\u001b[43m(\u001b[49m\u001b[38;5;124;43m'\u001b[39;49m\u001b[38;5;124;43m5\u001b[39;49m\u001b[38;5;124;43m'\u001b[39;49m\u001b[43m)\u001b[49m\n",
            "Cell \u001b[0;32mIn[127], line 6\u001b[0m, in \u001b[0;36mCirculo_restrict.__init__\u001b[0;34m(self, radio)\u001b[0m\n\u001b[1;32m      4\u001b[0m     \u001b[38;5;28mself\u001b[39m\u001b[38;5;241m.\u001b[39mradio \u001b[38;5;241m=\u001b[39m radio\n\u001b[1;32m      5\u001b[0m \u001b[38;5;28;01melse\u001b[39;00m:\n\u001b[0;32m----> 6\u001b[0m     \u001b[38;5;28;01mraise\u001b[39;00m \u001b[38;5;167;01mTypeError\u001b[39;00m(\u001b[38;5;124m\"\u001b[39m\u001b[38;5;124mEl radio debe ser un entero\u001b[39m\u001b[38;5;124m\"\u001b[39m)\n",
            "\u001b[0;31mTypeError\u001b[0m: El radio debe ser un entero"
          ]
        }
      ],
      "source": [
        "nuevo = Circulo_restrict('5')"
      ]
    },
    {
      "cell_type": "markdown",
      "metadata": {
        "id": "B7ro9vpFpND1"
      },
      "source": [
        "### [BONUS](#Ejercicio)\n",
        "\n",
        "***1 - Tarjeta Bancaria:***\n",
        "\n",
        "Crear una clase tarjeta de crédito que tenga como atributos el número de la tarjeta, fecha de caducidad,nombre del titular, estado de la tarjeta, pin y el saldo. Y como métodos, activar tarjeta, desactivar tarjeta, pagar, retirar, ingresar y consultar saldo.\n",
        "\n",
        "Ten en cuenta las siguientes restricciones:\n",
        "- El único parámetro para el constructor será el Nombre del Titula de la tarjeta\n",
        "- La fecha de caducidad será el mes de emision + 2 años de validez\n",
        "- El numero de la tarjeta deber tener 8 dígitos que se generen de manera aleatoria al crear la tarjeta\n",
        "- El pin debe tener 4 dígitos aleatorios\n",
        "- La tarjeta tiene que estar desactivada por defecto\n",
        "- El saldo no puede ser negativo\n",
        "- El saldo por defecto debe ser 500€"
      ]
    },
    {
      "cell_type": "code",
      "execution_count": null,
      "metadata": {
        "id": "N8l1MbgzpND2"
      },
      "outputs": [],
      "source": []
    },
    {
      "cell_type": "code",
      "execution_count": null,
      "metadata": {
        "id": "kEIZYcYzpND2"
      },
      "outputs": [],
      "source": []
    },
    {
      "cell_type": "code",
      "execution_count": null,
      "metadata": {
        "id": "cKIrfzBopND3"
      },
      "outputs": [],
      "source": []
    },
    {
      "cell_type": "code",
      "execution_count": null,
      "metadata": {
        "id": "clJqIpcXpND3"
      },
      "outputs": [],
      "source": []
    },
    {
      "cell_type": "markdown",
      "metadata": {
        "id": "LnKY0wpXpND3"
      },
      "source": [
        "***2 - Juego de ESTUDIANTES Vs PROFESORES:***\n",
        "\n",
        "Vamos a crear una clase padre llamada `Persona`y 2 clases hijas llamadas `Estudiante`y `Profesor`. La clase `Persona` tendrá los siguientes atributos: nombre, vida, ataque y defensa.\n",
        "\n",
        "Para la clase `Persona`solo le pasaremos el nombre como parámetro, y los atributos vida, ataque y defensa se inicializarán con un valor aleatorio entre 1 y 10.\n",
        "\n",
        "La clase `Estudiante` tendrá un atributo llamado `estudioso` que será un booleano que se inicializará con un valor aleatorio. Y la clase `Profesor` tendrá un atributo llamado `examen` que se inicializará con un booleano aleatorio.\n",
        "\n",
        "Ambas clases tendrán un método llamado `atacar` que recibirá como parámetro un objeto de la clase `Persona`y restará a la vida del objeto atacado el valor del atributo `ataque` del objeto atacante por 1.2 si tiene su atributo `estudioso` o `examen` activado menos el atributo `defensa` del objeto atacado.\n",
        "\n",
        "La clase `Profesor` tendrá una posibilidad del 20% de regenerar 2 puntos de vida cada vez que ataque.\n",
        "\n",
        "Si resultado de la resta es menor que 0, el defensor recuperará tanta vida como el resultado de la resta * -1, es decir se regenerará. Sino, el defensor perderá tanta vida como indique la operación.\n",
        "\n",
        "Si la vida del objeto atacado es menor o igual a 0, el método `atacar` devolverá un mensaje diciendo quien  ha matado a quien.\n",
        "\n",
        "\n",
        "Dinámica del juego:\n",
        "1 - Crear una lista de Estudiantes y Profesores tal y como estamos distribuidos en clase\n",
        "2 - Crear un bucle que se ejecute mientras haya estudiantes y profesores vivos, es decir, con vida mayor que 0, y que se ataquen entre ellos de manera aleatoria pero igual numero de veces:\n",
        "    - Se selecciona un atacante random de los estudiantes o profesores y ataca a un elmento random del otro equipo.\n",
        "    - Se selecciona un atacante random de la otra facción y ataca a otro integrante random del otro bando.\n",
        "    - Se selecciona el segundo atacante random del primer equipo, teniendo en cuenta que tiene que ser uno de los que no ha atacado aun, ya que no se podrá repetir atacante hasta que todo el equipo haya atacado por completo\n",
        "    - y así hasta que solo quede un equipo en pie."
      ]
    },
    {
      "cell_type": "code",
      "execution_count": null,
      "metadata": {
        "id": "PW2CcvjbpND4"
      },
      "outputs": [],
      "source": []
    },
    {
      "cell_type": "code",
      "execution_count": null,
      "metadata": {
        "id": "6F5rJLs_pND4"
      },
      "outputs": [],
      "source": []
    }
  ],
  "metadata": {
    "colab": {
      "provenance": []
    },
    "kernelspec": {
      "display_name": "gamma",
      "language": "python",
      "name": "python3"
    },
    "language_info": {
      "codemirror_mode": {
        "name": "ipython",
        "version": 3
      },
      "file_extension": ".py",
      "mimetype": "text/x-python",
      "name": "python",
      "nbconvert_exporter": "python",
      "pygments_lexer": "ipython3",
      "version": "3.12.2"
    }
  },
  "nbformat": 4,
  "nbformat_minor": 0
}
