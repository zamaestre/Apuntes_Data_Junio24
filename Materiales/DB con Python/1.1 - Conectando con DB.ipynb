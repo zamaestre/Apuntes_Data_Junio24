{
  "cells": [
    {
      "cell_type": "markdown",
      "metadata": {
        "id": "CBwmwyFvNP3j"
      },
      "source": [
        "# BASES DE DATOS CON PYTHON\n",
        "\n",
        "![Python](https://memgraph.com/images/blog/in-memory-databases-that-work-great-with-python/cover.png)"
      ]
    },
    {
      "cell_type": "markdown",
      "metadata": {
        "id": "C18T7VejNP3l"
      },
      "source": [
        "### 1 - Introducción\n",
        "\n",
        "Desde Python podemos interactuar con distintos tipos de bases de datos, ya sean **relacionales** o **no relacionales**. \n",
        "\n",
        "Para ello, existen distintas **librerías** que nos permiten realizar operaciones `CRUD` (lectura, escritura, actualización y borrado) sobre las bases de datos.\n",
        "\n",
        "Vamos a ver las más comunes y más sencillas por las que podemos empezar a trabajar con bases de datos desde Python.\n",
        "\n",
        "### 2 - MySQL Connector\n",
        "Primera librería que vamos a ver es `mysql-connector-python`. Para instalarla, ejecutamos el siguiente comando:\n",
        "\n",
        "```bash\n",
        "!pip install mysql-connector-python\n",
        "```"
      ]
    },
    {
      "cell_type": "code",
      "execution_count": 1,
      "metadata": {
        "id": "O9l9JuSMNP3m"
      },
      "outputs": [
        {
          "name": "stdout",
          "output_type": "stream",
          "text": [
            "Requirement already satisfied: mysql-connector-python in /home/vp/miniconda3/envs/gamma/lib/python3.12/site-packages (8.3.0)\n"
          ]
        }
      ],
      "source": [
        "#instalamos la librería en caso de que no la tengamos\n",
        "#!pip install mysql-connector-python"
      ]
    },
    {
      "cell_type": "code",
      "execution_count": 2,
      "metadata": {
        "id": "1KuTuSaNNP3n"
      },
      "outputs": [],
      "source": [
        "import mysql.connector as conn #Alias no estándar, pero muy usado (connection --> conexión)"
      ]
    },
    {
      "cell_type": "markdown",
      "metadata": {
        "id": "D4Z3u_N3NP3n"
      },
      "source": [
        "Vamos a trabajar con `MySQL` en nuestro **localhost**, es decir una base de datos local en nuestro **propio ordenador**.\n",
        "\n",
        "Para empezar a trabajar con MySQL desde Python tendremos que darle la información de :\n",
        "- `Host`: Donde queremos conectarnos (ya sea local o remota)\n",
        "- `Usuario` que se va a conectar\n",
        "- `Credenciales` del usuario\n",
        "- `Nombre` de la base de datos a la que nos queremos conectar (si nuestro usuario tiene acceso a varias bases de datos)\n",
        "- `Puerto` de conexión (No siempre es necesario)"
      ]
    },
    {
      "cell_type": "markdown",
      "metadata": {
        "id": "bZ8j274HNP3o"
      },
      "source": [
        "```python\n",
        "mydb = conn.connect(\n",
        "  host=\"localhost\", #Si no es local, ponemos la IP de la máquina\n",
        "  user=\"root\",\n",
        "  passwd =\"contraseña\", #Nuestra contraseña para acceder a mysql\n",
        "  database=\"BasedeDatos\" #Si queremos conectarnos a una base de datos en concreto, sino entraremos a la raíz\n",
        ")\n",
        "cursor = mydb.cursor() #Creamos un cursor para poder ejecutar comandos, un cursor es un objeto que nos permite interactuar con la base de datos\n",
        "```"
      ]
    },
    {
      "cell_type": "markdown",
      "metadata": {},
      "source": [
        "#### 2.1 - Como SÍ cargar los datos de la conexión"
      ]
    },
    {
      "cell_type": "code",
      "execution_count": 9,
      "metadata": {
        "id": "r8gFIPq754_E"
      },
      "outputs": [
        {
          "data": {
            "text/plain": [
              "True"
            ]
          },
          "execution_count": 9,
          "metadata": {},
          "output_type": "execute_result"
        }
      ],
      "source": [
        "import os\n",
        "from dotenv import load_dotenv\n",
        "load_dotenv()"
      ]
    },
    {
      "cell_type": "code",
      "execution_count": 10,
      "metadata": {},
      "outputs": [
        {
          "data": {
            "text/plain": [
              "'asdasdasd'"
            ]
          },
          "execution_count": 10,
          "metadata": {},
          "output_type": "execute_result"
        }
      ],
      "source": [
        "#Creamos fichero .env\n",
        "#Comprobamos que lo leemos correctamente\n",
        "host = os.getenv('host')\n",
        "db_2 = os.getenv('db_2')\n",
        "db_2"
      ]
    },
    {
      "cell_type": "markdown",
      "metadata": {
        "id": "vY6OlNJHcsPJ"
      },
      "source": [
        "Cuidado con cómo creamos el archivo .env:\n",
        "```\n",
        "variable=valor_de_la_variable\n",
        "```\n",
        "\n",
        "Sin espacios, sin comas (a no ser que las comas formen parte del valor de la variable) y con cuidado con los comentarios."
      ]
    },
    {
      "cell_type": "code",
      "execution_count": 38,
      "metadata": {
        "id": "eHjfOZ9J54_F"
      },
      "outputs": [],
      "source": [
        "#Ahora puedo montar mi motor sin exponer credenciales ni detalles de la conexión, lo cargamos todo desde el fichero dotenv\n",
        "mydb = conn.connect(\n",
        "    host = os.getenv('host'),\n",
        "    password = os.getenv('pwd'),\n",
        "    #database = os.getenv('db'),\n",
        "    user = os.getenv('usuario'),\n",
        "    port = os.getenv('puerto')\n",
        ")\n",
        "cursor = mydb.cursor()"
      ]
    },
    {
      "cell_type": "code",
      "execution_count": 35,
      "metadata": {
        "id": "J4ZbrED7NP3o"
      },
      "outputs": [],
      "source": [
        "#Vamos a comprobar si estamos bien conectados:\n",
        "cursor.execute(\"SHOW DATABASES\")"
      ]
    },
    {
      "cell_type": "code",
      "execution_count": 34,
      "metadata": {
        "id": "PyfQ2gMcNP3o"
      },
      "outputs": [
        {
          "name": "stdout",
          "output_type": "stream",
          "text": [
            "('alumnos_data',)\n",
            "('apple_store',)\n",
            "('cafeteria',)\n",
            "('classicmodels',)\n",
            "('employees',)\n",
            "('information_schema',)\n",
            "('mysql',)\n",
            "('performance_schema',)\n",
            "('prueba',)\n",
            "('sakila',)\n",
            "('sys',)\n"
          ]
        }
      ],
      "source": [
        "for respuesta in cursor:\n",
        "    print(respuesta)"
      ]
    },
    {
      "cell_type": "markdown",
      "metadata": {
        "id": "oATEBH8kNP3p"
      },
      "source": [
        "#### 2.2 - CREANDO UNA BASE DE DATOS"
      ]
    },
    {
      "cell_type": "code",
      "execution_count": 20,
      "metadata": {
        "id": "fNY9YmVINP3p"
      },
      "outputs": [],
      "source": [
        "#Vamos a crear una base de datos y la llamaremos \"prueba\"\n",
        "cursor.execute(\"CREATE DATABASE prueba\") # siempre es mejor utilizar la sentencia CREATE DATABASE IF NOT EXISTS nombre_base_datos\n",
        "# cursor.execute(\"DROP DATABASE prueba\") para eliminarla porque ya existía"
      ]
    },
    {
      "cell_type": "markdown",
      "metadata": {
        "id": "tYCOt2Y6NP3p"
      },
      "source": [
        "Vamos a comprobar si todo ha funcionado correctamente, vamos a **conectarnos** a la base de datos que acabamos de crear que se llama **\"prueba\"**."
      ]
    },
    {
      "cell_type": "code",
      "execution_count": 39,
      "metadata": {
        "id": "M92M1QiJNP3p"
      },
      "outputs": [],
      "source": [
        "cursor.execute(\"USE prueba\") #Nos cambiamos a la base de datos prueba\n",
        "cursor.execute(\"SHOW TABLES\")\n",
        "for x in cursor:\n",
        "    print(x) #No hay tablas"
      ]
    },
    {
      "cell_type": "markdown",
      "metadata": {
        "id": "WadDszBHNP3p"
      },
      "source": [
        "Efectivamente la base de datos `prueba` existe, pero está vacía, no tiene ninguna tabla. Por lo que vamos a crearla."
      ]
    },
    {
      "cell_type": "markdown",
      "metadata": {
        "id": "A0HLA42u54_H"
      },
      "source": [
        "Vamos a crear una tabla de `alumnos`"
      ]
    },
    {
      "cell_type": "code",
      "execution_count": 40,
      "metadata": {
        "id": "IzUEL7le54_H"
      },
      "outputs": [
        {
          "data": {
            "text/html": [
              "<div>\n",
              "<style scoped>\n",
              "    .dataframe tbody tr th:only-of-type {\n",
              "        vertical-align: middle;\n",
              "    }\n",
              "\n",
              "    .dataframe tbody tr th {\n",
              "        vertical-align: top;\n",
              "    }\n",
              "\n",
              "    .dataframe thead th {\n",
              "        text-align: right;\n",
              "    }\n",
              "</style>\n",
              "<table border=\"1\" class=\"dataframe\">\n",
              "  <thead>\n",
              "    <tr style=\"text-align: right;\">\n",
              "      <th></th>\n",
              "      <th>alumno</th>\n",
              "      <th>sexo</th>\n",
              "      <th>ciudad</th>\n",
              "    </tr>\n",
              "  </thead>\n",
              "  <tbody>\n",
              "    <tr>\n",
              "      <th>0</th>\n",
              "      <td>Gino</td>\n",
              "      <td>hombre</td>\n",
              "      <td>Arganda</td>\n",
              "    </tr>\n",
              "    <tr>\n",
              "      <th>1</th>\n",
              "      <td>Yovanna</td>\n",
              "      <td>mujer</td>\n",
              "      <td>México DF</td>\n",
              "    </tr>\n",
              "    <tr>\n",
              "      <th>2</th>\n",
              "      <td>Daniela</td>\n",
              "      <td>mujer</td>\n",
              "      <td>Bolivia</td>\n",
              "    </tr>\n",
              "    <tr>\n",
              "      <th>3</th>\n",
              "      <td>Zuley</td>\n",
              "      <td>mujer</td>\n",
              "      <td>madrid</td>\n",
              "    </tr>\n",
              "    <tr>\n",
              "      <th>4</th>\n",
              "      <td>Yan</td>\n",
              "      <td>hombre</td>\n",
              "      <td>Loeches</td>\n",
              "    </tr>\n",
              "    <tr>\n",
              "      <th>5</th>\n",
              "      <td>Rubén</td>\n",
              "      <td>hombre</td>\n",
              "      <td>Graná</td>\n",
              "    </tr>\n",
              "    <tr>\n",
              "      <th>6</th>\n",
              "      <td>JJ</td>\n",
              "      <td>hombre</td>\n",
              "      <td>madrid</td>\n",
              "    </tr>\n",
              "    <tr>\n",
              "      <th>7</th>\n",
              "      <td>Tobal</td>\n",
              "      <td>hombre</td>\n",
              "      <td>ZZZZZZZZ</td>\n",
              "    </tr>\n",
              "  </tbody>\n",
              "</table>\n",
              "</div>"
            ],
            "text/plain": [
              "    alumno    sexo     ciudad\n",
              "0     Gino  hombre    Arganda\n",
              "1  Yovanna   mujer  México DF\n",
              "2  Daniela   mujer    Bolivia\n",
              "3    Zuley   mujer     madrid\n",
              "4      Yan  hombre    Loeches\n",
              "5    Rubén  hombre      Graná\n",
              "6       JJ  hombre     madrid\n",
              "7    Tobal  hombre   ZZZZZZZZ"
            ]
          },
          "execution_count": 40,
          "metadata": {},
          "output_type": "execute_result"
        }
      ],
      "source": [
        "import pandas as pd\n",
        "\n",
        "# Alumnos de la clase:\n",
        "alumnos = [{'alumno':'Gino','sexo':'hombre','ciudad':'Arganda'},\n",
        "           {'alumno':'Yovanna','sexo':'mujer','ciudad':'México DF'},\n",
        "           {'alumno':'Daniela','sexo':'mujer','ciudad':'Bolivia'},\n",
        "           {'alumno':'Zuley','sexo':'mujer','ciudad':'madrid'},\n",
        "           {'alumno':'Yan','sexo':'hombre','ciudad':'Loeches'},\n",
        "           {'alumno':'Rubén','sexo':'hombre','ciudad':'Graná'},\n",
        "           {'alumno':'JJ','sexo':'hombre','ciudad':'madrid'},\n",
        "           {'alumno':'Tobal','sexo':'hombre','ciudad':'ZZZZZZZZ'}]\n",
        "\n",
        "df_alumnos = pd.DataFrame(alumnos)\n",
        "df_alumnos"
      ]
    },
    {
      "cell_type": "markdown",
      "metadata": {
        "id": "UDXQ4ErUNP3r"
      },
      "source": [
        "Ahora vamos a crear una tabla de `ejercicios`"
      ]
    },
    {
      "cell_type": "code",
      "execution_count": 41,
      "metadata": {
        "id": "yxQtYQOD54_H"
      },
      "outputs": [
        {
          "data": {
            "text/html": [
              "<div>\n",
              "<style scoped>\n",
              "    .dataframe tbody tr th:only-of-type {\n",
              "        vertical-align: middle;\n",
              "    }\n",
              "\n",
              "    .dataframe tbody tr th {\n",
              "        vertical-align: top;\n",
              "    }\n",
              "\n",
              "    .dataframe thead th {\n",
              "        text-align: right;\n",
              "    }\n",
              "</style>\n",
              "<table border=\"1\" class=\"dataframe\">\n",
              "  <thead>\n",
              "    <tr style=\"text-align: right;\">\n",
              "      <th></th>\n",
              "      <th>alumno</th>\n",
              "      <th>ejercicios</th>\n",
              "    </tr>\n",
              "  </thead>\n",
              "  <tbody>\n",
              "    <tr>\n",
              "      <th>0</th>\n",
              "      <td>Gino</td>\n",
              "      <td>[5, 6, 9, 3, 1]</td>\n",
              "    </tr>\n",
              "    <tr>\n",
              "      <th>1</th>\n",
              "      <td>Yovanna</td>\n",
              "      <td>[5, 1, 2, 2, 1]</td>\n",
              "    </tr>\n",
              "    <tr>\n",
              "      <th>2</th>\n",
              "      <td>Daniela</td>\n",
              "      <td>[9, 3, 8, 6, 8]</td>\n",
              "    </tr>\n",
              "    <tr>\n",
              "      <th>3</th>\n",
              "      <td>Zuley</td>\n",
              "      <td>[10, 1, 9, 8, 2]</td>\n",
              "    </tr>\n",
              "    <tr>\n",
              "      <th>4</th>\n",
              "      <td>Yan</td>\n",
              "      <td>[10, 9, 2, 3, 6]</td>\n",
              "    </tr>\n",
              "    <tr>\n",
              "      <th>5</th>\n",
              "      <td>Rubén</td>\n",
              "      <td>[5, 3, 9, 6, 5]</td>\n",
              "    </tr>\n",
              "    <tr>\n",
              "      <th>6</th>\n",
              "      <td>JJ</td>\n",
              "      <td>[10, 3, 10, 7, 2]</td>\n",
              "    </tr>\n",
              "    <tr>\n",
              "      <th>7</th>\n",
              "      <td>Tobal</td>\n",
              "      <td>[4, 10, 10, 4, 7]</td>\n",
              "    </tr>\n",
              "  </tbody>\n",
              "</table>\n",
              "</div>"
            ],
            "text/plain": [
              "    alumno         ejercicios\n",
              "0     Gino    [5, 6, 9, 3, 1]\n",
              "1  Yovanna    [5, 1, 2, 2, 1]\n",
              "2  Daniela    [9, 3, 8, 6, 8]\n",
              "3    Zuley   [10, 1, 9, 8, 2]\n",
              "4      Yan   [10, 9, 2, 3, 6]\n",
              "5    Rubén    [5, 3, 9, 6, 5]\n",
              "6       JJ  [10, 3, 10, 7, 2]\n",
              "7    Tobal  [4, 10, 10, 4, 7]"
            ]
          },
          "execution_count": 41,
          "metadata": {},
          "output_type": "execute_result"
        }
      ],
      "source": [
        "#ejercicios va a ser una lista de notas aleatorias de los alumnos\n",
        "import random\n",
        "\n",
        "def notas():\n",
        "    return [random.randint(1,10) for i in range(5)]\n",
        "\n",
        "\n",
        "ejercicios = [{'alumno': 'Gino', 'ejercicios': notas()},\n",
        "              {'alumno': 'Yovanna','ejercicios': notas()},\n",
        "              {'alumno': 'Daniela','ejercicios': notas()},\n",
        "              {'alumno': 'Zuley','ejercicios': notas()},\n",
        "              {'alumno': 'Yan','ejercicios': notas()},\n",
        "              {'alumno': 'Rubén','ejercicios': notas()},\n",
        "              {'alumno': 'JJ','ejercicios': notas()},\n",
        "              {'alumno': 'Tobal','ejercicios': notas()}]\n",
        "df_ejercicios = pd.DataFrame(ejercicios)\n",
        "df_ejercicios"
      ]
    },
    {
      "cell_type": "code",
      "execution_count": 42,
      "metadata": {},
      "outputs": [
        {
          "data": {
            "text/html": [
              "<div>\n",
              "<style scoped>\n",
              "    .dataframe tbody tr th:only-of-type {\n",
              "        vertical-align: middle;\n",
              "    }\n",
              "\n",
              "    .dataframe tbody tr th {\n",
              "        vertical-align: top;\n",
              "    }\n",
              "\n",
              "    .dataframe thead th {\n",
              "        text-align: right;\n",
              "    }\n",
              "</style>\n",
              "<table border=\"1\" class=\"dataframe\">\n",
              "  <thead>\n",
              "    <tr style=\"text-align: right;\">\n",
              "      <th></th>\n",
              "      <th>alumno</th>\n",
              "      <th>ejercicios</th>\n",
              "    </tr>\n",
              "  </thead>\n",
              "  <tbody>\n",
              "    <tr>\n",
              "      <th>0</th>\n",
              "      <td>Gino</td>\n",
              "      <td>5</td>\n",
              "    </tr>\n",
              "    <tr>\n",
              "      <th>0</th>\n",
              "      <td>Gino</td>\n",
              "      <td>6</td>\n",
              "    </tr>\n",
              "    <tr>\n",
              "      <th>0</th>\n",
              "      <td>Gino</td>\n",
              "      <td>9</td>\n",
              "    </tr>\n",
              "    <tr>\n",
              "      <th>0</th>\n",
              "      <td>Gino</td>\n",
              "      <td>3</td>\n",
              "    </tr>\n",
              "    <tr>\n",
              "      <th>0</th>\n",
              "      <td>Gino</td>\n",
              "      <td>1</td>\n",
              "    </tr>\n",
              "  </tbody>\n",
              "</table>\n",
              "</div>"
            ],
            "text/plain": [
              "  alumno ejercicios\n",
              "0   Gino          5\n",
              "0   Gino          6\n",
              "0   Gino          9\n",
              "0   Gino          3\n",
              "0   Gino          1"
            ]
          },
          "execution_count": 42,
          "metadata": {},
          "output_type": "execute_result"
        }
      ],
      "source": [
        "df_ejercicios = df_ejercicios.explode('ejercicios')\n",
        "df_ejercicios.head()"
      ]
    },
    {
      "cell_type": "code",
      "execution_count": 43,
      "metadata": {},
      "outputs": [
        {
          "data": {
            "text/html": [
              "<div>\n",
              "<style scoped>\n",
              "    .dataframe tbody tr th:only-of-type {\n",
              "        vertical-align: middle;\n",
              "    }\n",
              "\n",
              "    .dataframe tbody tr th {\n",
              "        vertical-align: top;\n",
              "    }\n",
              "\n",
              "    .dataframe thead th {\n",
              "        text-align: right;\n",
              "    }\n",
              "</style>\n",
              "<table border=\"1\" class=\"dataframe\">\n",
              "  <thead>\n",
              "    <tr style=\"text-align: right;\">\n",
              "      <th></th>\n",
              "      <th>alumno</th>\n",
              "      <th>ejercicios</th>\n",
              "    </tr>\n",
              "  </thead>\n",
              "  <tbody>\n",
              "    <tr>\n",
              "      <th>0</th>\n",
              "      <td>Gino</td>\n",
              "      <td>5</td>\n",
              "    </tr>\n",
              "    <tr>\n",
              "      <th>0</th>\n",
              "      <td>Gino</td>\n",
              "      <td>6</td>\n",
              "    </tr>\n",
              "    <tr>\n",
              "      <th>0</th>\n",
              "      <td>Gino</td>\n",
              "      <td>9</td>\n",
              "    </tr>\n",
              "    <tr>\n",
              "      <th>0</th>\n",
              "      <td>Gino</td>\n",
              "      <td>3</td>\n",
              "    </tr>\n",
              "    <tr>\n",
              "      <th>0</th>\n",
              "      <td>Gino</td>\n",
              "      <td>1</td>\n",
              "    </tr>\n",
              "    <tr>\n",
              "      <th>1</th>\n",
              "      <td>Yovanna</td>\n",
              "      <td>5</td>\n",
              "    </tr>\n",
              "    <tr>\n",
              "      <th>1</th>\n",
              "      <td>Yovanna</td>\n",
              "      <td>1</td>\n",
              "    </tr>\n",
              "    <tr>\n",
              "      <th>1</th>\n",
              "      <td>Yovanna</td>\n",
              "      <td>2</td>\n",
              "    </tr>\n",
              "    <tr>\n",
              "      <th>1</th>\n",
              "      <td>Yovanna</td>\n",
              "      <td>2</td>\n",
              "    </tr>\n",
              "    <tr>\n",
              "      <th>1</th>\n",
              "      <td>Yovanna</td>\n",
              "      <td>1</td>\n",
              "    </tr>\n",
              "  </tbody>\n",
              "</table>\n",
              "</div>"
            ],
            "text/plain": [
              "    alumno ejercicios\n",
              "0     Gino          5\n",
              "0     Gino          6\n",
              "0     Gino          9\n",
              "0     Gino          3\n",
              "0     Gino          1\n",
              "1  Yovanna          5\n",
              "1  Yovanna          1\n",
              "1  Yovanna          2\n",
              "1  Yovanna          2\n",
              "1  Yovanna          1"
            ]
          },
          "execution_count": 43,
          "metadata": {},
          "output_type": "execute_result"
        }
      ],
      "source": [
        "df_ejercicios.head(10)"
      ]
    },
    {
      "cell_type": "code",
      "execution_count": 44,
      "metadata": {
        "id": "9vn_EAG854_H"
      },
      "outputs": [
        {
          "data": {
            "text/html": [
              "<div>\n",
              "<style scoped>\n",
              "    .dataframe tbody tr th:only-of-type {\n",
              "        vertical-align: middle;\n",
              "    }\n",
              "\n",
              "    .dataframe tbody tr th {\n",
              "        vertical-align: top;\n",
              "    }\n",
              "\n",
              "    .dataframe thead th {\n",
              "        text-align: right;\n",
              "    }\n",
              "</style>\n",
              "<table border=\"1\" class=\"dataframe\">\n",
              "  <thead>\n",
              "    <tr style=\"text-align: right;\">\n",
              "      <th></th>\n",
              "      <th>alumno</th>\n",
              "      <th>ejercicios</th>\n",
              "    </tr>\n",
              "  </thead>\n",
              "  <tbody>\n",
              "    <tr>\n",
              "      <th>0</th>\n",
              "      <td>Gino</td>\n",
              "      <td>5</td>\n",
              "    </tr>\n",
              "    <tr>\n",
              "      <th>1</th>\n",
              "      <td>Gino</td>\n",
              "      <td>6</td>\n",
              "    </tr>\n",
              "    <tr>\n",
              "      <th>2</th>\n",
              "      <td>Gino</td>\n",
              "      <td>9</td>\n",
              "    </tr>\n",
              "    <tr>\n",
              "      <th>3</th>\n",
              "      <td>Gino</td>\n",
              "      <td>3</td>\n",
              "    </tr>\n",
              "    <tr>\n",
              "      <th>4</th>\n",
              "      <td>Gino</td>\n",
              "      <td>1</td>\n",
              "    </tr>\n",
              "    <tr>\n",
              "      <th>5</th>\n",
              "      <td>Yovanna</td>\n",
              "      <td>5</td>\n",
              "    </tr>\n",
              "    <tr>\n",
              "      <th>6</th>\n",
              "      <td>Yovanna</td>\n",
              "      <td>1</td>\n",
              "    </tr>\n",
              "    <tr>\n",
              "      <th>7</th>\n",
              "      <td>Yovanna</td>\n",
              "      <td>2</td>\n",
              "    </tr>\n",
              "    <tr>\n",
              "      <th>8</th>\n",
              "      <td>Yovanna</td>\n",
              "      <td>2</td>\n",
              "    </tr>\n",
              "    <tr>\n",
              "      <th>9</th>\n",
              "      <td>Yovanna</td>\n",
              "      <td>1</td>\n",
              "    </tr>\n",
              "  </tbody>\n",
              "</table>\n",
              "</div>"
            ],
            "text/plain": [
              "    alumno ejercicios\n",
              "0     Gino          5\n",
              "1     Gino          6\n",
              "2     Gino          9\n",
              "3     Gino          3\n",
              "4     Gino          1\n",
              "5  Yovanna          5\n",
              "6  Yovanna          1\n",
              "7  Yovanna          2\n",
              "8  Yovanna          2\n",
              "9  Yovanna          1"
            ]
          },
          "execution_count": 44,
          "metadata": {},
          "output_type": "execute_result"
        }
      ],
      "source": [
        "df_ejercicios.reset_index(drop=True,inplace=True)\n",
        "df_ejercicios.head(10)"
      ]
    },
    {
      "cell_type": "markdown",
      "metadata": {
        "id": "RHKTsfViNP3r"
      },
      "source": [
        "Ahora que tenemos los 2 dataframes con los datos que queremos, vamos a crear las tablas en nuestra base de datos.\n",
        "\n",
        "1 - Tabla `alumnos`:"
      ]
    },
    {
      "cell_type": "code",
      "execution_count": 45,
      "metadata": {
        "id": "aqFa6up_NP3s"
      },
      "outputs": [],
      "source": [
        "#Vamos a crear una base de datos llamada \"alumnos_data\" con los datos de df_alumnos\n",
        "cursor.execute(\"CREATE DATABASE IF NOT EXISTS alumnos_data\")\n",
        "cursor.execute(\"USE alumnos_data\")\n"
      ]
    },
    {
      "cell_type": "code",
      "execution_count": 47,
      "metadata": {},
      "outputs": [],
      "source": [
        "#Vamos a hacer el esqueleto de la tabla ALUMNOS\n",
        "#Entidad alumnos --> alumno | sexo | ciudad\n",
        "cursor.execute('CREATE TABLE if not exists alumnos (alumno VARCHAR(15), sexo VARCHAR(10), ciudad VARCHAR(20)) ')"
      ]
    },
    {
      "cell_type": "code",
      "execution_count": 49,
      "metadata": {
        "id": "g8ZQHOI-NP3s"
      },
      "outputs": [],
      "source": [
        "#Entidad ejercicios --> alumno | ejercicios\n",
        "cursor.execute('CREATE TABLE if not exists ejercicios (alumno VARCHAR(15), ejercicios INT)')"
      ]
    },
    {
      "cell_type": "code",
      "execution_count": 50,
      "metadata": {},
      "outputs": [
        {
          "name": "stdout",
          "output_type": "stream",
          "text": [
            "('alumnos',)\n",
            "('ejercicios',)\n"
          ]
        }
      ],
      "source": [
        "cursor.execute('SHOW TABLES')\n",
        "for table in cursor:\n",
        "    print(table)"
      ]
    },
    {
      "cell_type": "markdown",
      "metadata": {
        "id": "45r3lpKINP3s"
      },
      "source": [
        "Ahora que tenemos nuestras 2 tablas creadas en nuestra base de datos `alumnos_data`, vamos a insertar los datos que tenemos en nuestros dataframes. El de alumnos y el de ejercicios."
      ]
    },
    {
      "cell_type": "code",
      "execution_count": 51,
      "metadata": {
        "id": "GDnAXmcDNP3s"
      },
      "outputs": [
        {
          "data": {
            "text/html": [
              "<div>\n",
              "<style scoped>\n",
              "    .dataframe tbody tr th:only-of-type {\n",
              "        vertical-align: middle;\n",
              "    }\n",
              "\n",
              "    .dataframe tbody tr th {\n",
              "        vertical-align: top;\n",
              "    }\n",
              "\n",
              "    .dataframe thead th {\n",
              "        text-align: right;\n",
              "    }\n",
              "</style>\n",
              "<table border=\"1\" class=\"dataframe\">\n",
              "  <thead>\n",
              "    <tr style=\"text-align: right;\">\n",
              "      <th></th>\n",
              "      <th>alumno</th>\n",
              "      <th>sexo</th>\n",
              "      <th>ciudad</th>\n",
              "    </tr>\n",
              "  </thead>\n",
              "  <tbody>\n",
              "    <tr>\n",
              "      <th>0</th>\n",
              "      <td>Gino</td>\n",
              "      <td>hombre</td>\n",
              "      <td>Arganda</td>\n",
              "    </tr>\n",
              "    <tr>\n",
              "      <th>1</th>\n",
              "      <td>Yovanna</td>\n",
              "      <td>mujer</td>\n",
              "      <td>México DF</td>\n",
              "    </tr>\n",
              "    <tr>\n",
              "      <th>2</th>\n",
              "      <td>Daniela</td>\n",
              "      <td>mujer</td>\n",
              "      <td>Bolivia</td>\n",
              "    </tr>\n",
              "    <tr>\n",
              "      <th>3</th>\n",
              "      <td>Zuley</td>\n",
              "      <td>mujer</td>\n",
              "      <td>madrid</td>\n",
              "    </tr>\n",
              "    <tr>\n",
              "      <th>4</th>\n",
              "      <td>Yan</td>\n",
              "      <td>hombre</td>\n",
              "      <td>Loeches</td>\n",
              "    </tr>\n",
              "  </tbody>\n",
              "</table>\n",
              "</div>"
            ],
            "text/plain": [
              "    alumno    sexo     ciudad\n",
              "0     Gino  hombre    Arganda\n",
              "1  Yovanna   mujer  México DF\n",
              "2  Daniela   mujer    Bolivia\n",
              "3    Zuley   mujer     madrid\n",
              "4      Yan  hombre    Loeches"
            ]
          },
          "execution_count": 51,
          "metadata": {},
          "output_type": "execute_result"
        }
      ],
      "source": [
        "df_alumnos.head(5) #Refresecamos que pinta tiene el df"
      ]
    },
    {
      "cell_type": "markdown",
      "metadata": {},
      "source": [
        "Refrescamos como era una onstrucción INSERT de SQL:\n",
        "\n",
        "```sql\n",
        "--Opcion 1\n",
        "INSERT INTO nombre_tabla (columna1, columna2, columna3, ...)\n",
        "VALUES (valor1, valor2, valor3, ...);\n",
        "```\n",
        "\n",
        "```sql\n",
        "--Opcion 2\n",
        "INSERT INTO nombre_tabla (columna1, columna2, columna3, ...)\n",
        "VALUES (valor1, valor2, valor3, ...),\n",
        "       (valor1, valor2, valor3, ...),\n",
        "       (valor1, valor2, valor3, ...),\n",
        "       ...\n",
        "       (valor1, valor2, valor3, ...);\n",
        "```\n",
        "\n",
        "```sql\n",
        "--Opcion 3\n",
        "INSERT INTO nombre_tabla\n",
        "VALUES (valor1, valor2, valor3, ...);\n",
        "```"
      ]
    },
    {
      "cell_type": "code",
      "execution_count": 60,
      "metadata": {
        "id": "9tKFZfMQNP3s"
      },
      "outputs": [
        {
          "name": "stdout",
          "output_type": "stream",
          "text": [
            "He insertado 8 filas!\n"
          ]
        }
      ],
      "source": [
        "#Esto lo codeamos en clase\n",
        "for i, row in df_alumnos.iterrows():\n",
        "    instruccion = f\"INSERT INTO alumnos VALUES ('{row['alumno']}' , '{row['sexo']}', '{row['ciudad']}')\"\n",
        "    #print(instruccion)\n",
        "    cursor.execute(instruccion)\n",
        "print(f'He insertado {i+1} filas!')"
      ]
    },
    {
      "cell_type": "code",
      "execution_count": 56,
      "metadata": {},
      "outputs": [
        {
          "data": {
            "text/plain": [
              "'ZZZZZZZZ'"
            ]
          },
          "execution_count": 56,
          "metadata": {},
          "output_type": "execute_result"
        }
      ],
      "source": [
        "row['ciudad']"
      ]
    },
    {
      "cell_type": "code",
      "execution_count": 61,
      "metadata": {},
      "outputs": [
        {
          "name": "stdout",
          "output_type": "stream",
          "text": [
            "('Gino', 'hombre', 'Arganda')\n",
            "('Yovanna', 'mujer', 'México DF')\n",
            "('Daniela', 'mujer', 'Bolivia')\n",
            "('Zuley', 'mujer', 'madrid')\n",
            "('Yan', 'hombre', 'Loeches')\n",
            "('Rubén', 'hombre', 'Graná')\n",
            "('JJ', 'hombre', 'madrid')\n",
            "('Tobal', 'hombre', 'ZZZZZZZZ')\n"
          ]
        }
      ],
      "source": [
        "#Comprobamos que la insercion ha ido OK:\n",
        "query = 'SELECT * FROM alumnos'\n",
        "cursor.execute(query)\n",
        "for respuesta in cursor:\n",
        "    print(respuesta)"
      ]
    },
    {
      "cell_type": "code",
      "execution_count": 62,
      "metadata": {},
      "outputs": [],
      "source": [
        "#Para volver a meter datos, vaciamos la tabla alumnos\n",
        "query = 'TRUNCATE alumnos'\n",
        "cursor.execute(query)\n",
        "\n",
        "#Comprobamos que la hemos vaciado\n",
        "query = 'SELECT * FROM alumnos'\n",
        "cursor.execute(query)\n",
        "for respuesta in cursor:\n",
        "    print(respuesta)"
      ]
    },
    {
      "cell_type": "code",
      "execution_count": 73,
      "metadata": {},
      "outputs": [
        {
          "name": "stdout",
          "output_type": "stream",
          "text": [
            "('Gino', 'hombre', 'Arganda')\n",
            "('Yovanna', 'mujer', 'México DF')\n",
            "('Daniela', 'mujer', 'Bolivia')\n",
            "('Zuley', 'mujer', 'madrid')\n",
            "('Yan', 'hombre', 'Loeches')\n",
            "('Rubén', 'hombre', 'Graná')\n",
            "('JJ', 'hombre', 'madrid')\n",
            "('Tobal', 'hombre', 'ZZZZZZZZ')\n"
          ]
        }
      ],
      "source": [
        "#Vamos a hacer lo mismo pero en una sola query\n",
        "query = 'INSERT INTO alumnos VALUES '+ \",\".join([f\"('{row['alumno']}' , '{row['sexo']}', '{row['ciudad']}')\" for _,row in df_alumnos.iterrows()])\n",
        "#query\n",
        "cursor.execute(query)\n",
        "cursor.execute('SELECT * FROM alumnos')\n",
        "for alumno in cursor:\n",
        "    print(alumno)     "
      ]
    },
    {
      "cell_type": "code",
      "execution_count": 74,
      "metadata": {
        "id": "Pzr6ApnkNP3s"
      },
      "outputs": [
        {
          "data": {
            "text/html": [
              "<div>\n",
              "<style scoped>\n",
              "    .dataframe tbody tr th:only-of-type {\n",
              "        vertical-align: middle;\n",
              "    }\n",
              "\n",
              "    .dataframe tbody tr th {\n",
              "        vertical-align: top;\n",
              "    }\n",
              "\n",
              "    .dataframe thead th {\n",
              "        text-align: right;\n",
              "    }\n",
              "</style>\n",
              "<table border=\"1\" class=\"dataframe\">\n",
              "  <thead>\n",
              "    <tr style=\"text-align: right;\">\n",
              "      <th></th>\n",
              "      <th>alumno</th>\n",
              "      <th>ejercicios</th>\n",
              "    </tr>\n",
              "  </thead>\n",
              "  <tbody>\n",
              "    <tr>\n",
              "      <th>0</th>\n",
              "      <td>Gino</td>\n",
              "      <td>5</td>\n",
              "    </tr>\n",
              "    <tr>\n",
              "      <th>1</th>\n",
              "      <td>Gino</td>\n",
              "      <td>6</td>\n",
              "    </tr>\n",
              "    <tr>\n",
              "      <th>2</th>\n",
              "      <td>Gino</td>\n",
              "      <td>9</td>\n",
              "    </tr>\n",
              "    <tr>\n",
              "      <th>3</th>\n",
              "      <td>Gino</td>\n",
              "      <td>3</td>\n",
              "    </tr>\n",
              "    <tr>\n",
              "      <th>4</th>\n",
              "      <td>Gino</td>\n",
              "      <td>1</td>\n",
              "    </tr>\n",
              "  </tbody>\n",
              "</table>\n",
              "</div>"
            ],
            "text/plain": [
              "  alumno ejercicios\n",
              "0   Gino          5\n",
              "1   Gino          6\n",
              "2   Gino          9\n",
              "3   Gino          3\n",
              "4   Gino          1"
            ]
          },
          "execution_count": 74,
          "metadata": {},
          "output_type": "execute_result"
        }
      ],
      "source": [
        "df_ejercicios.head() #Refresecamos que pinta tiene el df"
      ]
    },
    {
      "cell_type": "code",
      "execution_count": 77,
      "metadata": {
        "id": "dIHbhi7FNP3s"
      },
      "outputs": [
        {
          "name": "stdout",
          "output_type": "stream",
          "text": [
            "('Gino', 5)\n",
            "('Gino', 6)\n",
            "('Gino', 9)\n",
            "('Gino', 3)\n",
            "('Gino', 1)\n",
            "('Yovanna', 5)\n",
            "('Yovanna', 1)\n",
            "('Yovanna', 2)\n",
            "('Yovanna', 2)\n",
            "('Yovanna', 1)\n",
            "('Daniela', 9)\n",
            "('Daniela', 3)\n",
            "('Daniela', 8)\n",
            "('Daniela', 6)\n",
            "('Daniela', 8)\n",
            "('Zuley', 10)\n",
            "('Zuley', 1)\n",
            "('Zuley', 9)\n",
            "('Zuley', 8)\n",
            "('Zuley', 2)\n",
            "('Yan', 10)\n",
            "('Yan', 9)\n",
            "('Yan', 2)\n",
            "('Yan', 3)\n",
            "('Yan', 6)\n",
            "('Rubén', 5)\n",
            "('Rubén', 3)\n",
            "('Rubén', 9)\n",
            "('Rubén', 6)\n",
            "('Rubén', 5)\n",
            "('JJ', 10)\n",
            "('JJ', 3)\n",
            "('JJ', 10)\n",
            "('JJ', 7)\n",
            "('JJ', 2)\n",
            "('Tobal', 4)\n",
            "('Tobal', 10)\n",
            "('Tobal', 10)\n",
            "('Tobal', 4)\n",
            "('Tobal', 7)\n"
          ]
        }
      ],
      "source": [
        "#Poblamos la tabla de ejercicios\n",
        "query = 'INSERT INTO ejercicios VALUES '+ \",\".join([f\"('{row['alumno']}' , '{row['ejercicios']}')\" for _,row in df_ejercicios.iterrows()])\n",
        "#query\n",
        "cursor.execute(query)\n",
        "cursor.execute('SELECT * FROM ejercicios')\n",
        "for ejercicio in cursor:\n",
        "    print(ejercicio)     "
      ]
    },
    {
      "cell_type": "markdown",
      "metadata": {
        "id": "yS3M_TBTNP36"
      },
      "source": [
        "Pues de esta manera podemos cargar nuestros datos y hacernos nuestras propias databases y trabajar con ellas desde Python, haciendo lo mismo que haríamos en MySQL pero sin tener que salirnos de Python y andar cambiando de Workbench (o el que sea) a Python.\n",
        "\n",
        "También podríamos hacer el proceso inverso y sacar datos de SQL y meterlo en un dataframe de Pandas"
      ]
    },
    {
      "cell_type": "markdown",
      "metadata": {
        "id": "IJaSi99tNP37"
      },
      "source": [
        "#### 2.3 - CONSULTANDO LA BASE DE DATOS"
      ]
    },
    {
      "cell_type": "code",
      "execution_count": 80,
      "metadata": {
        "id": "_vwrWAoONP37"
      },
      "outputs": [
        {
          "name": "stdout",
          "output_type": "stream",
          "text": [
            "('Gino', 'hombre', 'Arganda')\n",
            "('Yovanna', 'mujer', 'México DF')\n",
            "('Daniela', 'mujer', 'Bolivia')\n",
            "('Zuley', 'mujer', 'madrid')\n",
            "('Yan', 'hombre', 'Loeches')\n",
            "('Rubén', 'hombre', 'Graná')\n",
            "('JJ', 'hombre', 'madrid')\n",
            "('Tobal', 'hombre', 'ZZZZZZZZ')\n"
          ]
        }
      ],
      "source": [
        "import time\n",
        "cursor.execute(\"SELECT * FROM alumnos\")\n",
        "time.sleep(1)\n",
        "for x in cursor:\n",
        "    time.sleep(1)\n",
        "    print(x)#end='\\r') #para que sobreescriba encima"
      ]
    },
    {
      "cell_type": "code",
      "execution_count": 81,
      "metadata": {
        "id": "KY6DMBQf54_I"
      },
      "outputs": [
        {
          "data": {
            "text/plain": [
              "True"
            ]
          },
          "execution_count": 81,
          "metadata": {},
          "output_type": "execute_result"
        }
      ],
      "source": [
        "cursor.close()"
      ]
    },
    {
      "cell_type": "markdown",
      "metadata": {
        "id": "ul5HXsBnNP37"
      },
      "source": [
        "Ahora es vuestro turno, vamos a pegarnos con este [csv](https://drive.google.com/file/d/1tOg8MGCj8NZpxshozKUu7QpDuS4owsGS/view?usp=drive_link)"
      ]
    },
    {
      "cell_type": "code",
      "execution_count": 25,
      "metadata": {
        "id": "YmZkVROWeP5P"
      },
      "outputs": [],
      "source": [
        "mydb = conn.connect(\n",
        "    host = os.getenv('host'), #localhost\n",
        "    password = os.getenv('pwd'), #vuestra contraseña\n",
        "    #database = os.getenv('db'), \n",
        "    user = os.getenv('usuario'), #vuestro user --> root\n",
        ")\n",
        "cursor = mydb.cursor()"
      ]
    },
    {
      "cell_type": "code",
      "execution_count": null,
      "metadata": {
        "id": "liytoaZXeRjr"
      },
      "outputs": [],
      "source": [
        "import pandas as pd\n",
        "df = pd.read_csv('apple_store.csv')\n",
        "df.head()"
      ]
    },
    {
      "cell_type": "code",
      "execution_count": null,
      "metadata": {
        "id": "67vsUBXVeXal"
      },
      "outputs": [],
      "source": [
        "df.shape"
      ]
    },
    {
      "cell_type": "code",
      "execution_count": 28,
      "metadata": {
        "id": "OtVSPsq9elig"
      },
      "outputs": [],
      "source": [
        "#Vamos a crear una tabla en nuestra base de datos\n",
        "cursor.execute(\"CREATE DATABASE IF NOT EXISTS apple_store\")\n",
        "#Vamos a usarla\n",
        "cursor.execute(\"USE apple_store\")"
      ]
    },
    {
      "cell_type": "code",
      "execution_count": 30,
      "metadata": {
        "id": "7LwbQ-ODerkK"
      },
      "outputs": [],
      "source": [
        "query = \"\"\"\n",
        "CREATE TABLE IF NOT EXISTS apple (\n",
        "  id BIGINT,\n",
        "  track_name VARCHAR(300),\n",
        "  size_bytes BIGINT,\n",
        "  price FLOAT(5,2),\n",
        "  rating_count_tot BIGINT,\n",
        "  rating_count_ver BIGINT,\n",
        "  user_rating FLOAT(5,2),\n",
        "  user_rating_ver FLOAT(5,2),\n",
        "  prime_genre VARCHAR(100),\n",
        "  PRIMARY KEY (id)\n",
        "  )\n",
        "  \"\"\""
      ]
    },
    {
      "cell_type": "code",
      "execution_count": 31,
      "metadata": {
        "id": "ox1CUBQweqa-"
      },
      "outputs": [],
      "source": [
        "cursor.execute(query)"
      ]
    },
    {
      "cell_type": "code",
      "execution_count": null,
      "metadata": {
        "id": "iEeg2SZKfjfr"
      },
      "outputs": [],
      "source": [
        "cursor.execute(\"SHOW TABLES\")\n",
        "for x in cursor:\n",
        "    print(x)\n",
        "#Vamos a insertas los datos de df en la tabla apple"
      ]
    },
    {
      "cell_type": "markdown",
      "metadata": {
        "id": "C52Ldj6QfZqz"
      },
      "source": [
        "Al intentar insertar las filas hay problemas con determinados caracteres, como por ejemplo `'` pues lo que hace es indicar que ahí termina una cadena de texto."
      ]
    },
    {
      "cell_type": "code",
      "execution_count": 33,
      "metadata": {},
      "outputs": [],
      "source": [
        "#Vaciamos la tabla \n",
        "cursor.execute(\"TRUNCATE TABLE apple\")"
      ]
    },
    {
      "cell_type": "markdown",
      "metadata": {
        "id": "oCKUeGnSfj-g"
      },
      "source": [
        "Para evitar este conflicto hay otra manera de realizar la inserción:"
      ]
    },
    {
      "cell_type": "code",
      "execution_count": null,
      "metadata": {
        "id": "vQSvAE8wfspl"
      },
      "outputs": [],
      "source": [
        "for i, row in df.iterrows():\n",
        "    query = \"\"\"\n",
        "    INSERT INTO apple VALUES (%s, %s, %s, %s, %s, %s, %s, %s, %s)\n",
        "    \"\"\"\n",
        "    # recordad que si se introducen la misma cantidad de valores que columnas no hace falta especificar las columnas\n",
        "    values = (\n",
        "        row['id'],\n",
        "        row['track_name'],\n",
        "        row['size_bytes'],\n",
        "        row['price'],\n",
        "        row['rating_count_tot'],\n",
        "        row['rating_count_ver'],\n",
        "        row['user_rating'],\n",
        "        row['user_rating_ver'],\n",
        "        row['prime_genre']\n",
        "    )\n",
        "    print(query, values)\n",
        "    cursor.execute(query, values)\n",
        "    cursor.execute(\"COMMIT\") #Sino los cambios no se guardan, no se ejecutan realmente\n",
        "    #cursor.close()\n",
        "(print(f\"{i+1} filas insertadas\"))"
      ]
    },
    {
      "cell_type": "markdown",
      "metadata": {
        "id": "SwomF4D3gDOz"
      },
      "source": [
        "En este caso, utilizas `%s` como marcadores de posición para los valores en la consulta `SQL` y luego pasas una tupla `values` que contiene los valores reales a `cursor.execute()`. De esta manera, el driver de MySQL se encargará de escapar correctamente todos los valores para prevenir errores de sintaxis y vulnerabilidades de seguridad."
      ]
    },
    {
      "cell_type": "code",
      "execution_count": null,
      "metadata": {
        "id": "jrFKk_dGgF0T"
      },
      "outputs": [],
      "source": [
        "cursor.close()"
      ]
    },
    {
      "cell_type": "markdown",
      "metadata": {
        "id": "5NwL4hADNP37"
      },
      "source": [
        "# 3 - SQL ALCHEMY\n",
        "\n",
        "Sql Alchemy es una librería que nos permite trabajar con bases de datos de una manera más sencilla y más parecida a como lo hacemos en SQL.\n",
        "\n",
        "Es la librería más usada para trabajar con bases de datos desde Python, ya que nos permite trabajar con cualquier base de datos, tanto SQL como NoSQL.Aunque para trabajar con bases de datos NoSQL existen otras librerías más específicas, mejores y más sencillas en esos casos.\n",
        "\n",
        "## 3.1 - CONFIGURACIÓN CONEXIÓN:\n",
        "\n",
        "Para empezar a trabajar con SQL Alchemy, lo primero que tenemos que hacer es instalarla:\n",
        "```bash\n",
        "!pip install sqlalchemy\n",
        "```\n",
        "Lo siguiente es configurar la `conexión` a nuestra base de datos, creando lo que se llama un `engine`(motor) y pasándole la información de la conexión en una `string de conexión`."
      ]
    },
    {
      "cell_type": "code",
      "execution_count": 36,
      "metadata": {
        "id": "uYXzuZcMNP37"
      },
      "outputs": [],
      "source": [
        "#%pip install sqlalchemy #Instalamos la librería\n",
        "import sqlalchemy as sa"
      ]
    },
    {
      "cell_type": "code",
      "execution_count": 37,
      "metadata": {
        "id": "NP1P8nADNP37"
      },
      "outputs": [],
      "source": [
        "#Parametros de la conexion:\n",
        "host = os.getenv('host')\n",
        "password = os.getenv('pwd')\n",
        "database = os.getenv('db')\n",
        "user = os.getenv('usuario')\n",
        "engine = sa.create_engine(f'mysql+mysqlconnector://{user}:{password}@{host}/{database}') #Creamos el engine"
      ]
    },
    {
      "cell_type": "code",
      "execution_count": null,
      "metadata": {},
      "outputs": [],
      "source": [
        "#testeamos la conexión\n",
        "engine.connect()"
      ]
    },
    {
      "cell_type": "markdown",
      "metadata": {
        "id": "2Alq_BA5g8Wd"
      },
      "source": [
        "Podemos utilizar nuestro conector sin especificar una base de datos, en ese caso cómo creamos nuestro engine debe tener una pequeña modificación.\n",
        "```python\n",
        "#Parametros de la conexion:\n",
        "host = os.getenv('host')\n",
        "password = os.getenv('password')\n",
        "user = os.getenv('user')\n",
        "engine = sa.create_engine(f'mysql+mysqlconnector://{user}:{password}@{host}/') #Creamos el engine sin especificar una base de datos\n",
        "```"
      ]
    },
    {
      "cell_type": "code",
      "execution_count": 39,
      "metadata": {
        "id": "JqE0JS7eg_q9"
      },
      "outputs": [],
      "source": [
        "#Parametros de la conexion:\n",
        "host = os.getenv('host')\n",
        "password = os.getenv('pwd')\n",
        "user = os.getenv('usuario')\n",
        "engine = sa.create_engine(f'mysql+mysqlconnector://{user}:{password}@{host}/') #Creamos el engine"
      ]
    },
    {
      "cell_type": "code",
      "execution_count": null,
      "metadata": {
        "id": "sUXLMQ9QNP37"
      },
      "outputs": [],
      "source": [
        "#Probamos que conecta correctamente\n",
        "engine.connect() #Mi motor puede crear una conexion"
      ]
    },
    {
      "cell_type": "markdown",
      "metadata": {
        "id": "iLhVfhq_hGEm"
      },
      "source": [
        "Ya tenemos creada nuestra base de datos con una única tabla con aplicaciones de apple_store. Para poder ver su contenido lo primero que vamos a tener que hacer es conectarnos a esa base de datos:\n",
        "```sql\n",
        "--Activar una base de datos para poder hacer consultas en ella:\n",
        "USE nombre_base_datos;\n",
        "```"
      ]
    },
    {
      "cell_type": "code",
      "execution_count": null,
      "metadata": {},
      "outputs": [],
      "source": [
        "#Vamos a utilizar la base de datos\n",
        "query = 'USE apple_store'\n",
        "#Vamos a recuperar los datos de la tabla apple\n",
        "query_test = 'SELECT * FROM apple LIMIT 10'\n",
        "\n",
        "with engine.connect() as con:\n",
        "    con.execute(sa.text(query))\n",
        "    test = con.execute(sa.text(query_test))\n",
        "    print(test.fetchall())"
      ]
    },
    {
      "cell_type": "code",
      "execution_count": 42,
      "metadata": {},
      "outputs": [],
      "source": [
        "for fila in test.fetchall():\n",
        "    print(fila)"
      ]
    },
    {
      "cell_type": "code",
      "execution_count": null,
      "metadata": {
        "id": "qIIRppOiNP37"
      },
      "outputs": [],
      "source": [
        "#Vamos a ver que tablas hay en la base de datos\n",
        "query = \"SHOW TABLES\"\n",
        "\n",
        "with engine.connect() as con: #Con esto nos conectamos a la base de datos\n",
        "    con.execute(sa.text(query)) #Con esto ejecutamos la query\n",
        "    print(con.execute(sa.text(query)).fetchall()) #Con esto nos devuelve el resultado de la query"
      ]
    },
    {
      "cell_type": "code",
      "execution_count": null,
      "metadata": {
        "id": "8fSsTZqfhR8f"
      },
      "outputs": [],
      "source": [
        "# Solo hay una tabla, así que vamos a ver todo lo que tiene esa tabla\n",
        "query = \"SELECT * FROM apple\"\n",
        "\n",
        "with engine.connect() as con:\n",
        "    con.execute(sa.text(query)) #Con esto ejecutamos la query\n",
        "    print(con.execute(sa.text(query)).fetchall()) #Con esto nos devuelve el resultado de la query"
      ]
    },
    {
      "cell_type": "markdown",
      "metadata": {
        "id": "a7BreXL7hVZ1"
      },
      "source": [
        "Es un poco complicada la **lectura** así que lo que podemos hacer de una manera muy rápida es convertir esta **salida** de SQL en un **DataFrame**. Hay varios métodos para hacerlo:\n",
        "1. Se puede utilizar la función de **pandas** `read_sql_query()`\n",
        "2. Se puede utilizar la query directamente como data para la función de crear un DataFrame `pd.DataFrame`"
      ]
    },
    {
      "cell_type": "code",
      "execution_count": null,
      "metadata": {
        "id": "-57J_HKghWTH"
      },
      "outputs": [],
      "source": [
        "# Primer caso:\n",
        "query = \"SELECT * FROM apple\"\n",
        "\n",
        "with engine.connect() as con:\n",
        "    df_apple = pd.read_sql_query(query # query que quiero ejecutar\n",
        "                                 ,con) # conexión a la base de datos\n",
        "\n",
        "print(f'El tamaño de esta salida es: {df_apple.shape}')\n",
        "df_apple"
      ]
    },
    {
      "cell_type": "code",
      "execution_count": null,
      "metadata": {
        "id": "4-WJrPlRhfF_"
      },
      "outputs": [],
      "source": [
        "# Segundo caso:\n",
        "query = \"SELECT * FROM apple\"\n",
        "\n",
        "with engine.connect() as con:\n",
        "    df_apple = pd.DataFrame(con.execute(sa.text(query)).fetchall()) # le digo que data es directamente la query\n",
        "\n",
        "print(f'El tamaño de esta salida es: {df_apple.shape}')\n",
        "df_apple"
      ]
    },
    {
      "cell_type": "markdown",
      "metadata": {
        "id": "zoOkzaJ-hj-r"
      },
      "source": [
        "Hemos visto cómo recorrer un DataFrame y crear una tabla en SQL dentro de una base de datos de una manera dinámica con `f-strings`. \n",
        "\n",
        "No obstante, hay **otras maneras** de hacerlo, con SQLAlchemy podemos directamente convertir un **DataFrame** en una **tabla**, sin necesidad de preocuparnos por hacer algún tipo de **transformación previa**."
      ]
    },
    {
      "cell_type": "code",
      "execution_count": 47,
      "metadata": {
        "id": "1WZgKxiphqFB"
      },
      "outputs": [],
      "source": [
        "# Primero debemos crear una tabla para poder introducir la información\n",
        "# Una vez creada la tabla con las columnas necesarias ya podremos introducir la información\n",
        "query = \"\"\"\n",
        "CREATE TABLE IF NOT EXISTS apple_short (\n",
        "    id BIGINT,\n",
        "    price FLOAT(5,2),\n",
        "    user_rating FLOAT(5,2),\n",
        "    PRIMARY KEY (id)\n",
        "    )\n",
        "    \"\"\"\n",
        "\n",
        "with engine.connect() as con:\n",
        "    con.execute(sa.text(query))"
      ]
    },
    {
      "cell_type": "code",
      "execution_count": 49,
      "metadata": {
        "id": "1WiIgZp9hvTI"
      },
      "outputs": [],
      "source": [
        "# Primero, para no tener dos tablas idénticas, voy a filtrar el DataFrame para tener únicamente id, precio y puntuación.\n",
        "df_apple_insert = df_apple[['id', 'price', 'user_rating']]\n",
        "\n",
        "# Usamos el conector para introducir este df como una nueva tabla\n",
        "with engine.connect() as con:\n",
        "    df_apple_insert.to_sql('apple_recortada', # nombre de la tabla \n",
        "                            con=con, # conexión a la base de datos \n",
        "                            schema='apple_store', # nombre de la base de datos\n",
        "                            if_exists='replace', # comportamiento si la tabla ya existe ['fail', 'replace', 'append']\n",
        "                            index=False # si quiero añadir el índice como columna\n",
        "                            )"
      ]
    },
    {
      "cell_type": "code",
      "execution_count": null,
      "metadata": {
        "id": "xu9_XVdHiz62"
      },
      "outputs": [],
      "source": [
        "# Comprobamos los 5 primeros registros para ver que se ha insertado información\n",
        "query = \"\"\"\n",
        "SELECT *\n",
        "FROM apple_recortada\n",
        "LIMIT 5\n",
        "\"\"\"\n",
        "\n",
        "with engine.connect() as con:\n",
        "    con.execute(sa.text(query))\n",
        "    for result in con.execute(sa.text(query)):\n",
        "        print(result)"
      ]
    },
    {
      "cell_type": "markdown",
      "metadata": {},
      "source": [
        "## 3.2 - Creamos una tabla en nuestra base de datos a partir de un DataFrame\n",
        "\n",
        "Esta vez vamos a hacerlo, pero sin necesidad de crear la tabla en la base de datos, vamos a hacerlo directamente desde el DataFrame."
      ]
    },
    {
      "cell_type": "code",
      "execution_count": null,
      "metadata": {},
      "outputs": [],
      "source": [
        "df_apple.head()"
      ]
    },
    {
      "cell_type": "code",
      "execution_count": null,
      "metadata": {},
      "outputs": [],
      "source": [
        "df_apple_directa = df_apple[['track_name', 'size_bytes']]\n",
        "df_apple_directa"
      ]
    },
    {
      "cell_type": "code",
      "execution_count": 53,
      "metadata": {},
      "outputs": [],
      "source": [
        "# Usamos el conector para introducir este df como una nueva tabla\n",
        "with engine.connect() as con:\n",
        "    df_apple_directa.to_sql('apple_directa', # nombre de la tabla \n",
        "                            con=con, # conexión a la base de datos \n",
        "                            schema='apple_store', # nombre de la base de datos\n",
        "                            if_exists='replace', # comportamiento si la tabla ya existe ['fail', 'replace', 'append']\n",
        "                            index=False # si quiero añadir el índice como columna\n",
        "                            )"
      ]
    },
    {
      "cell_type": "code",
      "execution_count": null,
      "metadata": {},
      "outputs": [],
      "source": [
        "#Comprobamos\n",
        "query = 'SELECT * FROM apple_directa LIMIT 5'\n",
        "\n",
        "with engine.connect() as con:\n",
        "    con.execute(sa.text(query))\n",
        "    for result in con.execute(sa.text(query)):\n",
        "        print(result)"
      ]
    },
    {
      "cell_type": "markdown",
      "metadata": {},
      "source": [
        "## 3.3 - Actualizando registros en la base de datos\n",
        "\n",
        "Vamos a ver cómo podemos **actualizar** registros en nuestra base de datos. Para ello, vamos a hacer una **actualización** de la tabla `apple_store` que hemos creado anteriormente."
      ]
    },
    {
      "cell_type": "code",
      "execution_count": 58,
      "metadata": {},
      "outputs": [],
      "source": [
        "#Vamos descargar el contenido de la tabla apple en un DataFrame\n",
        "#para cambiar los datos de la columna 'prime_genre' a mayúsculas y \n",
        "# actualizar la tabla en la base de datos\n",
        "query = \"SELECT * FROM apple\"\n",
        "\n",
        "with engine.connect() as con:\n",
        "    df_apple = pd.read_sql_query(query, con)\n",
        "    "
      ]
    },
    {
      "cell_type": "code",
      "execution_count": null,
      "metadata": {},
      "outputs": [],
      "source": [
        "df_apple[['prime_genre']]"
      ]
    },
    {
      "cell_type": "code",
      "execution_count": null,
      "metadata": {},
      "outputs": [],
      "source": [
        "df_apple['prime_genre'] = df_apple['prime_genre'].str.lower()\n",
        "df_apple[['prime_genre']]"
      ]
    },
    {
      "cell_type": "code",
      "execution_count": 62,
      "metadata": {},
      "outputs": [],
      "source": [
        "# Cargamos el DataFrame en la base de datos\n",
        "with engine.connect() as con:\n",
        "    df_apple.to_sql('apple', # nombre de la tabla \n",
        "                    con=con, # conexión a la base de datos \n",
        "                    schema='apple_store', # nombre de la base de datos\n",
        "                    if_exists='replace', # comportamiento si la tabla ya existe ['fail', 'replace', 'append']\n",
        "                    index=False # si quiero añadir el índice como columna\n",
        "                    )"
      ]
    },
    {
      "cell_type": "code",
      "execution_count": null,
      "metadata": {},
      "outputs": [],
      "source": [
        "query = \"SELECT * FROM apple LIMIT 10\"\n",
        "\n",
        "with engine.connect() as con:\n",
        "    con.execute(sa.text(query))\n",
        "    df = pd.read_sql_query(query, con)\n",
        "df[['prime_genre']]"
      ]
    },
    {
      "cell_type": "code",
      "execution_count": null,
      "metadata": {},
      "outputs": [],
      "source": [
        "#Ejercicio \n",
        "# Vamos a resetear la columna id, para que empiece en 1 hasta el final\n",
        "#size_bytes vamos a cambiarlo a MB (1 MB son 1024*1024 bytes) y redondeamos a 2 decimales\n",
        "# vamos a crear una nueva columna que sea price . rating_count_tot y la llamaremos income"
      ]
    },
    {
      "cell_type": "markdown",
      "metadata": {},
      "source": []
    }
  ],
  "metadata": {
    "colab": {
      "provenance": []
    },
    "kernelspec": {
      "display_name": "gamma",
      "language": "python",
      "name": "python3"
    },
    "language_info": {
      "codemirror_mode": {
        "name": "ipython",
        "version": 3
      },
      "file_extension": ".py",
      "mimetype": "text/x-python",
      "name": "python",
      "nbconvert_exporter": "python",
      "pygments_lexer": "ipython3",
      "version": "3.12.2"
    }
  },
  "nbformat": 4,
  "nbformat_minor": 0
}
