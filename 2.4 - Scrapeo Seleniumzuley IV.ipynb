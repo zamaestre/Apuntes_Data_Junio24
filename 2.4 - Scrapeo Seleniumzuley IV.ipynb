{
  "cells": [
    {
      "cell_type": "markdown",
      "metadata": {
        "id": "PvtnTnUnk8jD"
      },
      "source": [
        "### FORMULARIO"
      ]
    },
    {
      "cell_type": "code",
      "execution_count": 4,
      "metadata": {
        "id": "6aShR06qk8jF"
      },
      "outputs": [],
      "source": [
        "from selenium.webdriver.support.ui import WebDriverWait   # para meter esperaras\n",
        "from selenium.webdriver.support import expected_conditions as EC   # para esperar ciertos eventos\n",
        "from selenium.webdriver import ActionChains # para hacer acciones con el ratón\n",
        "import time\n",
        "import random\n",
        "import selenium.webdriver.common.keys as Keys # para simular teclas\n",
        "from selenium import webdriver\n",
        "from webdriver_manager.chrome import ChromeDriverManager # sustituye al archivo\n",
        "from selenium.webdriver.chrome.options import Options # opciones de chrome\n",
        "from selenium.webdriver.common.by import By # By es para buscar por tag, clase, id..."
      ]
    },
    {
      "cell_type": "code",
      "execution_count": 5,
      "metadata": {
        "id": "dZwIDTVvk8jG"
      },
      "outputs": [],
      "source": [
        "#Opciones de chrome\n",
        "opciones = webdriver.ChromeOptions()\n",
        "#opciones.add_argument('--start-maximized')\n",
        "opciones.add_argument('window-size=775,1400')\n",
        "opciones.add_argument('--disable-extensions')\n",
        "opciones.add_argument('--disable-blink-features=AutomationControlled')\n",
        "opciones.add_argument('--no-sandbox')\n",
        "opciones.add_argument(\"--disable-dev-shm-usage\")\n",
        "opciones.add_experimental_option('useAutomationExtension', False)\n",
        "opciones.add_experimental_option('excludeSwitches', ['enable-automation'])"
      ]
    },
    {
      "cell_type": "code",
      "execution_count": 103,
      "metadata": {
        "id": "GdfZ5W0Yk8jH"
      },
      "outputs": [],
      "source": [
        "url = 'https://formsmarts.com/html-form-example' #Web por cierto muy interesante\n",
        "driver = webdriver.Chrome(options=opciones)\n",
        "driver.get(url)"
      ]
    },
    {
      "cell_type": "code",
      "execution_count": null,
      "metadata": {},
      "outputs": [],
      "source": [
        "#Vamos a intentar rellenar el formulario\n",
        "\n",
        "#Nombre\n",
        "celda_nombre = driver.find_element(By.ID, 'u_pTj_4607')\n",
        "celda_nombre.send_keys('Manolo')"
      ]
    },
    {
      "cell_type": "markdown",
      "metadata": {
        "id": "V5iQEL0Vk8jH"
      },
      "source": [
        "## IFRAMES\n",
        "\n",
        "El `iframe` permite poner otra página `HTML` dentro de la página actual. Funciona como una nueva ventana dentro de la página actual que muestra otro documento `HTML`.\n",
        "\n",
        "### Características del iframe\n",
        "1. **Independencia**: El documento dentro de un `iframe` puede ser completamente diferente y operar de manera independiente del documento principal. Esto significa que puede tener su propio conjunto de estilos `CSS`, `scripts` y elementos `HTML` que no interfieren con la página en la que está incrustado.\n",
        "2. **Fuente del contenido**: A través del atributo `src` del `iframe`, se puede especificar la `URL` del documento que se desea embeber. Esto permite cargar prácticamente cualquier página web dentro del `iframe`, siempre y cuando las políticas de seguridad del navegador y del servidor lo permitan.\n",
        "3. **Seguridad**: Los `iframes` son a menudo un foco de preocupaciones de seguridad. Pueden ser utilizados para técnicas de \"clickjacking\", donde elementos maliciosos se ocultan detrás de lo que parece ser contenido legítimo. Por esta razón, los navegadores imponen restricciones de seguridad como la política de mismo origen (Same-Origin Policy), que impide que el contenido dentro de un `iframe` interactúe con la página principal a menos que ambos compartan el mismo dominio.\n",
        "4. **Atributos de configuración**: Además del `src`, los `iframes` tienen otros atributos que controlan su comportamiento y presentación, como `height` y `width` para dimensiones, `frameborder` para controlar la visualización del borde, y `scrolling` para habilitar o deshabilitar las barras de desplazamiento.\n",
        "5. **Aplicaciones**: Los `iframes` son útiles en varios contextos, como embeber:\n",
        "- Videos de plataformas como YouTube o Vimeo.\n",
        "- Mapas interactivos de servicios como Google Maps.\n",
        "- Mini aplicaciones o widgets, como calculadoras o herramientas interactivas.\n",
        "- Contenido de redes sociales.\n",
        "- Documentos PDF o similares para visualización directa en la página.\n",
        "### Limitaciones y Consideraciones:\n",
        "* **Rendimiento**: Cargar `iframes` *puede aumentar el tiempo de carga de la página* ya que cada `iframe` es esencialmente una página web completa con sus propios recursos a cargar.\n",
        "* **Accesibilidad**: Es importante garantizar que el contenido dentro de un `iframe` sea accesible, ya que los screen readers y otras herramientas de accesibilidad pueden tener dificultades para acceder a contenido incrustado de esta manera.\n",
        "* **Responsive Design**: Hacer que los iframes sean responsivos (que se ajusten automáticamente al tamaño de la pantalla del dispositivo) puede requerir CSS adicional o técnicas de diseño web responsivo."
      ]
    },
    {
      "cell_type": "code",
      "execution_count": 104,
      "metadata": {},
      "outputs": [],
      "source": [
        "#Vamos a localizar el iframe\n",
        "iframe = driver.find_element(By.XPATH, '//*[@id=\"contact-form\"]/iframe')"
      ]
    },
    {
      "cell_type": "code",
      "execution_count": 105,
      "metadata": {},
      "outputs": [],
      "source": [
        "#Lo hemos ubidado, ahora vamos a cambiar al iframe\n",
        "driver.switch_to.frame(iframe)"
      ]
    },
    {
      "cell_type": "code",
      "execution_count": null,
      "metadata": {},
      "outputs": [],
      "source": [
        "#Vamos a sacar el contenido del iframe\n",
        "print(driver.page_source[:1000])"
      ]
    },
    {
      "cell_type": "code",
      "execution_count": null,
      "metadata": {},
      "outputs": [],
      "source": [
        "#Lo hacemos en directo que se han movido los IDS\n",
        "\n",
        "#Vamos a rellenar el formulario\n",
        "nombre = driver.find_element(By.ID, 'u_Y3K_4607')\n",
        "nombre.send_keys('Manolo')\n",
        "\n",
        "#Apellido\n",
        "apellido = driver.find_element(By.ID, 'u_pTj_338354')\n",
        "apellido.send_keys('García')\n",
        "\n",
        "email = driver.find_element(By.ID, 'u_pTj_4608')\n",
        "email.send_keys('mi_mail@gmail.com')\n",
        "\n",
        "opcion = driver.find_element(By.ID, 'u_pTj_338367')\n",
        "opcion.send_keys('S')\n",
        "\n",
        "#Mensaje\n",
        "mensaje = driver.find_element(By.ID, 'u_pTj_4609')\n",
        "mensaje.send_keys('Pasando el rato con los iframes')\n",
        "\n",
        "#Enviar lo ubicamos porque es una etiqueta input con el atributo name = submit\n",
        "enviar = driver.find_element(By.NAME, 'submit')\n",
        "enviar.click()"
      ]
    },
    {
      "cell_type": "code",
      "execution_count": null,
      "metadata": {},
      "outputs": [],
      "source": [
        "#Vamos a buscar el boton de enviar"
      ]
    },
    {
      "cell_type": "code",
      "execution_count": 60,
      "metadata": {},
      "outputs": [],
      "source": [
        "driver.quit()"
      ]
    }
  ],
  "metadata": {
    "colab": {
      "provenance": []
    },
    "kernelspec": {
      "display_name": "Python 3",
      "language": "python",
      "name": "python3"
    },
    "language_info": {
      "codemirror_mode": {
        "name": "ipython",
        "version": 3
      },
      "file_extension": ".py",
      "mimetype": "text/x-python",
      "name": "python",
      "nbconvert_exporter": "python",
      "pygments_lexer": "ipython3",
      "version": "3.12.2"
    }
  },
  "nbformat": 4,
  "nbformat_minor": 0
}
